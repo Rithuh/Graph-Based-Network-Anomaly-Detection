{
  "nbformat": 4,
  "nbformat_minor": 0,
  "metadata": {
    "colab": {
      "provenance": []
    },
    "kernelspec": {
      "name": "python3",
      "display_name": "Python 3"
    },
    "language_info": {
      "name": "python"
    }
  },
  "cells": [
    {
      "cell_type": "code",
      "source": [
        "from google.colab import drive\n",
        "drive.mount('/content/drive')"
      ],
      "metadata": {
        "colab": {
          "base_uri": "https://localhost:8080/"
        },
        "id": "ZK_KyamfZ4Nf",
        "outputId": "278b889f-004f-48b5-99b0-8f692f0cdbc9"
      },
      "execution_count": 1,
      "outputs": [
        {
          "output_type": "stream",
          "name": "stdout",
          "text": [
            "Mounted at /content/drive\n"
          ]
        }
      ]
    },
    {
      "cell_type": "markdown",
      "source": [
        "## Dataset loading"
      ],
      "metadata": {
        "id": "O0K-eV2CdvVy"
      }
    },
    {
      "cell_type": "code",
      "source": [
        "import pandas as pd\n",
        "train = pd.read_csv(r'/content/drive/My Drive/finaltrain.csv',encoding='cp1252')\n",
        "test = pd.read_csv(r'/content/drive/My Drive/finaltest.csv',encoding='cp1252')\n",
        "autest = pd.read_csv(r'/content/drive/My Drive/UNSW_NB15_testing-set.csv',encoding='cp1252')\n",
        "\n",
        "todrop = ['srcip', 'sport', 'dstip', 'dsport','sloss', 'dloss','stcpb', 'dtcpb', 'trans_depth', 'Stime', 'Ltime','ct_flw_http_mthd',\n",
        "        'is_ftp_login', 'ct_ftp_cmd', 'ct_srv_src', 'ct_srv_dst', 'ct_dst_ltm', 'ct_src_ ltm',\n",
        "        'ct_src_dport_ltm', 'ct_dst_sport_ltm', 'ct_dst_src_ltm', 'attack_cat', 'Label']\n",
        "\n",
        "trainAttributes = train.drop(todrop, axis = 1)\n",
        "testAttributes = test.drop(todrop, axis = 1)\n",
        "\n",
        "trainLabel = train['Label']\n",
        "testLabel = test['Label']\n",
        "\n",
        "autestdrop = ['ï»¿id', 'rate', 'sloss', 'dloss','stcpb', 'dtcpb','trans_depth','ct_srv_src','ct_dst_ltm',\n",
        "       'ct_src_dport_ltm', 'ct_dst_sport_ltm', 'ct_dst_src_ltm',\n",
        "       'is_ftp_login', 'ct_ftp_cmd', 'ct_flw_http_mthd', 'ct_src_ltm',\n",
        "       'ct_srv_dst', 'is_sm_ips_ports', 'attack_cat']\n",
        "\n",
        "\n",
        "autest = autest.drop(autestdrop, axis = 1)\n",
        "#Change column names of autest\n",
        "autest.rename(columns={'dinpkt':'Dintpkt','djit':'Djit','dload':'Dload','dpkts':'Dpkts','label':'Label','sinpkt':'Sintpkt','sjit':'Sjit', 'sload':'Sload', 'spkts':'Spkts','dmean':'dmeansz','response_body_len':'res_bdy_len', 'smean':'smeansz'}, inplace=True)\n",
        "autest = autest[(autest['proto']=='tcp') | (autest['proto']=='udp') | (autest['proto']=='ospf')]\n",
        "autest = autest[(autest['service']=='ssh') | (autest['service']=='ftp-data ')  | (autest['service']=='ftp') | (autest['service']=='-') | (autest['service']=='dns') | (autest['service']=='smtp') | (autest['service']=='http') | (autest['service']=='radius') | (autest['service']=='pop3') ]\n",
        "autest = autest[(autest['state'] == 'CON') | (autest['state'] == 'RST') | (autest['state'] == 'FIN') | (autest['state'] == 'ACC') | (autest['state'] == 'REQ') | (autest['state'] == 'INT')]\n"
      ],
      "metadata": {
        "colab": {
          "base_uri": "https://localhost:8080/"
        },
        "id": "RdYnxoqGY7m_",
        "outputId": "861edd23-395f-4653-89be-58ec7bde59dc"
      },
      "execution_count": 15,
      "outputs": [
        {
          "output_type": "stream",
          "name": "stderr",
          "text": [
            "<ipython-input-15-1d08cb19af35>:2: DtypeWarning: Columns (46) have mixed types. Specify dtype option on import or set low_memory=False.\n",
            "  train = pd.read_csv(r'/content/drive/My Drive/finaltrain.csv',encoding='cp1252')\n",
            "<ipython-input-15-1d08cb19af35>:3: DtypeWarning: Columns (46) have mixed types. Specify dtype option on import or set low_memory=False.\n",
            "  test = pd.read_csv(r'/content/drive/My Drive/finaltest.csv',encoding='cp1252')\n"
          ]
        }
      ]
    },
    {
      "cell_type": "code",
      "source": [
        "autest['proto'].replace(\"tcp\", 0, inplace = True)\n",
        "autest['proto'].replace(\"udp\", 1, inplace = True)\n",
        "autest['proto'].replace(\"ospf\", 2, inplace = True)\n",
        "\n",
        "autest['service'].replace(\"ssh\", 0, inplace = True)\n",
        "autest['service'].replace(\"ftp-data\", 1, inplace = True)\n",
        "autest['service'].replace(\"ftp\", 2, inplace = True)\n",
        "autest['service'].replace(\"-\", 3, inplace = True)\n",
        "autest['service'].replace(\"dns\", 4, inplace = True)\n",
        "autest['service'].replace(\"smtp\", 5, inplace = True)\n",
        "autest['service'].replace(\"http\", 6, inplace = True)\n",
        "autest['service'].replace(\"radius\", 7, inplace = True)\n",
        "autest['service'].replace(\"pop3\", 8, inplace = True)\n",
        "\n",
        "autest['state'].replace(\"CON\", 0, inplace = True)\n",
        "autest['state'].replace(\"RST\", 1, inplace = True)\n",
        "autest['state'].replace(\"FIN\", 2, inplace = True)\n",
        "autest['state'].replace(\"ACC\", 3, inplace = True)\n",
        "autest['state'].replace(\"REQ\", 4, inplace = True)\n",
        "autest['state'].replace(\"INT\", 5, inplace = True)\n",
        "\n",
        "for column in autest.columns:\n",
        "    if column != 'Label':\n",
        "        col_mean = sum(autest[column]) / len(autest[column])\n",
        "        col_std = (sum((x - col_mean) ** 2 for x in autest[column]) / len(autest[column])) ** 0.5\n",
        "        autest[column] = [(x - col_mean) / col_std for x in autest[column]]\n",
        "\n",
        "\n",
        "autest = autest.drop_duplicates()\n",
        "autestAttributes = autest.drop(['Label'], axis = 1)\n",
        "autestAttributes = autestAttributes[trainAttributes.columns]\n",
        "autestLabel = autest['Label']"
      ],
      "metadata": {
        "id": "udhwaXjwZSjX"
      },
      "execution_count": 16,
      "outputs": []
    },
    {
      "cell_type": "code",
      "source": [
        "trainAttributes = np.array(trainAttributes)\n",
        "trainLabel = np.array(trainLabel)\n"
      ],
      "metadata": {
        "id": "HfL4LJxwcLfL"
      },
      "execution_count": 18,
      "outputs": []
    },
    {
      "cell_type": "code",
      "source": [
        "print(\"trainAttributes data type:\", trainAttributes.dtype)\n",
        "print(\"trainLabel data type:\", trainLabel.dtype)"
      ],
      "metadata": {
        "colab": {
          "base_uri": "https://localhost:8080/"
        },
        "id": "71V6raBBcZsU",
        "outputId": "f27ecbef-d578-4858-eb85-ddb78598f88f"
      },
      "execution_count": 19,
      "outputs": [
        {
          "output_type": "stream",
          "name": "stdout",
          "text": [
            "trainAttributes data type: float64\n",
            "trainLabel data type: int64\n"
          ]
        }
      ]
    },
    {
      "cell_type": "markdown",
      "source": [
        "# LSTM"
      ],
      "metadata": {
        "id": "iXv9HWysd1CN"
      }
    },
    {
      "cell_type": "code",
      "execution_count": 20,
      "metadata": {
        "colab": {
          "base_uri": "https://localhost:8080/"
        },
        "id": "PlE9dMiLY0bg",
        "outputId": "88a77531-06a1-4575-aeb5-a7f6391c2b32"
      },
      "outputs": [
        {
          "output_type": "stream",
          "name": "stdout",
          "text": [
            "Epoch 1/10\n",
            "2532/2532 [==============================] - 7s 2ms/step - loss: 0.0466 - accuracy: 0.9908\n",
            "Epoch 2/10\n",
            "2532/2532 [==============================] - 6s 2ms/step - loss: 0.0338 - accuracy: 0.9928\n",
            "Epoch 3/10\n",
            "2532/2532 [==============================] - 5s 2ms/step - loss: 0.0327 - accuracy: 0.9929\n",
            "Epoch 4/10\n",
            "2532/2532 [==============================] - 6s 3ms/step - loss: 0.0322 - accuracy: 0.9929\n",
            "Epoch 5/10\n",
            "2532/2532 [==============================] - 5s 2ms/step - loss: 0.0319 - accuracy: 0.9930\n",
            "Epoch 6/10\n",
            "2532/2532 [==============================] - 6s 2ms/step - loss: 0.0315 - accuracy: 0.9929\n",
            "Epoch 7/10\n",
            "2532/2532 [==============================] - 5s 2ms/step - loss: 0.0313 - accuracy: 0.9930\n",
            "Epoch 8/10\n",
            "2532/2532 [==============================] - 7s 3ms/step - loss: 0.0309 - accuracy: 0.9930\n",
            "Epoch 9/10\n",
            "2532/2532 [==============================] - 8s 3ms/step - loss: 0.0312 - accuracy: 0.9930\n",
            "Epoch 10/10\n",
            "2532/2532 [==============================] - 5s 2ms/step - loss: 0.0306 - accuracy: 0.9930\n"
          ]
        },
        {
          "output_type": "execute_result",
          "data": {
            "text/plain": [
              "<keras.src.callbacks.History at 0x7a4c1ac2d0c0>"
            ]
          },
          "metadata": {},
          "execution_count": 20
        }
      ],
      "source": [
        "import numpy as np\n",
        "from keras.models import Sequential\n",
        "from keras.layers import LSTM, Dense\n",
        "\n",
        "\n",
        "# Define the LSTM model\n",
        "model = Sequential()\n",
        "model.add(Dense(64, input_shape=(trainAttributes.shape[1],), activation='relu'))\n",
        "model.add(Dense(32, activation='relu'))\n",
        "model.add(Dense(1, activation='sigmoid'))  # Output layer for binary classification\n",
        "\n",
        "# Compile the model\n",
        "model.compile(optimizer='adam', loss='binary_crossentropy', metrics=['accuracy'])\n",
        "\n",
        "# Train the model\n",
        "model.fit(trainAttributes, trainLabel, epochs=10, batch_size=32)"
      ]
    },
    {
      "cell_type": "code",
      "source": [
        "model.save_weights(\"lstmweights.h5\")"
      ],
      "metadata": {
        "id": "LSiUAnwrZuc9"
      },
      "execution_count": 21,
      "outputs": []
    },
    {
      "cell_type": "code",
      "source": [
        "predictions = model.predict(testAttributes)\n",
        "predictions = (predictions > 0.5).astype(int)"
      ],
      "metadata": {
        "colab": {
          "base_uri": "https://localhost:8080/"
        },
        "id": "hJRqaEXXdUIZ",
        "outputId": "384fb99a-1489-4338-a03b-681ea27df7a8"
      },
      "execution_count": 22,
      "outputs": [
        {
          "output_type": "stream",
          "name": "stdout",
          "text": [
            "1085/1085 [==============================] - 2s 2ms/step\n"
          ]
        }
      ]
    },
    {
      "cell_type": "markdown",
      "source": [
        "# LSTM Performance"
      ],
      "metadata": {
        "id": "brjOaXAtgV6p"
      }
    },
    {
      "cell_type": "code",
      "source": [
        "from sklearn.metrics import classification_report\n",
        "\n",
        "# Generate classification report\n",
        "report = classification_report(testLabel, predictions)\n",
        "\n",
        "print(\"Classification Report for LSTM:\")\n",
        "print(report)"
      ],
      "metadata": {
        "colab": {
          "base_uri": "https://localhost:8080/"
        },
        "id": "ust0z8tqde2U",
        "outputId": "a7f92148-02b5-4ea1-9439-c6e9f1495335"
      },
      "execution_count": 23,
      "outputs": [
        {
          "output_type": "stream",
          "name": "stdout",
          "text": [
            "Classification Report for LSTM:\n",
            "              precision    recall  f1-score   support\n",
            "\n",
            "           0       1.00      0.99      0.99     17358\n",
            "           1       0.99      1.00      0.99     17358\n",
            "\n",
            "    accuracy                           0.99     34716\n",
            "   macro avg       0.99      0.99      0.99     34716\n",
            "weighted avg       0.99      0.99      0.99     34716\n",
            "\n"
          ]
        }
      ]
    },
    {
      "cell_type": "code",
      "source": [
        "predictions = model.predict(autestAttributes)\n",
        "predictions = (predictions > 0.5).astype(int)"
      ],
      "metadata": {
        "colab": {
          "base_uri": "https://localhost:8080/"
        },
        "id": "hab_Ymt-dkXL",
        "outputId": "2724d07c-0dc9-4b0b-c306-191733daf3cb"
      },
      "execution_count": 24,
      "outputs": [
        {
          "output_type": "stream",
          "name": "stdout",
          "text": [
            "1396/1396 [==============================] - 5s 3ms/step\n"
          ]
        }
      ]
    },
    {
      "cell_type": "code",
      "source": [
        "from sklearn.metrics import classification_report\n",
        "\n",
        "# Generate classification report\n",
        "report = classification_report(autestLabel, predictions)\n",
        "\n",
        "print(\"Classification Report for LSTM using Author's test dataset:\")\n",
        "print(report)"
      ],
      "metadata": {
        "colab": {
          "base_uri": "https://localhost:8080/"
        },
        "id": "nRXZ5x6Idnej",
        "outputId": "1df1f011-3852-4641-b7d5-062c7a79c8aa"
      },
      "execution_count": 25,
      "outputs": [
        {
          "output_type": "stream",
          "name": "stdout",
          "text": [
            "Classification Report for LSTM using Author's test dataset:\n",
            "              precision    recall  f1-score   support\n",
            "\n",
            "           0       0.68      0.98      0.80     29673\n",
            "           1       0.70      0.08      0.15     14973\n",
            "\n",
            "    accuracy                           0.68     44646\n",
            "   macro avg       0.69      0.53      0.48     44646\n",
            "weighted avg       0.69      0.68      0.58     44646\n",
            "\n"
          ]
        }
      ]
    },
    {
      "cell_type": "markdown",
      "source": [
        "# GRU"
      ],
      "metadata": {
        "id": "s1_LAwDWd72z"
      }
    },
    {
      "cell_type": "code",
      "source": [
        "trainAttributes = trainAttributes.reshape(trainAttributes.shape[0], trainAttributes.shape[1], 1)"
      ],
      "metadata": {
        "id": "_n39hO6WeVAa"
      },
      "execution_count": 27,
      "outputs": []
    },
    {
      "cell_type": "code",
      "source": [
        "import numpy as np\n",
        "from keras.models import Sequential\n",
        "from keras.layers import GRU, Dense\n",
        "\n",
        "# Define the GRU model\n",
        "# Define the GRU model\n",
        "model = Sequential()\n",
        "model.add(GRU(64, input_shape=(trainAttributes.shape[1], trainAttributes.shape[2]), activation='relu'))\n",
        "model.add(Dense(32, activation='relu'))\n",
        "model.add(Dense(1, activation='sigmoid'))  # Output layer for binary classification\n",
        "\n",
        "\n",
        "# Compile the model\n",
        "model.compile(optimizer='adam', loss='binary_crossentropy', metrics=['accuracy'])\n",
        "\n",
        "# Train the model\n",
        "model.fit(trainAttributes, trainLabel, epochs=10, batch_size=32)"
      ],
      "metadata": {
        "colab": {
          "base_uri": "https://localhost:8080/"
        },
        "id": "D4xknoqtd9iT",
        "outputId": "a723bae6-fa38-41ae-c666-85a5f38a3efd"
      },
      "execution_count": 29,
      "outputs": [
        {
          "output_type": "stream",
          "name": "stdout",
          "text": [
            "Epoch 1/10\n",
            "2532/2532 [==============================] - 64s 23ms/step - loss: 0.0651 - accuracy: 0.9886\n",
            "Epoch 2/10\n",
            "2532/2532 [==============================] - 37s 14ms/step - loss: 0.0373 - accuracy: 0.9918\n",
            "Epoch 3/10\n",
            "2532/2532 [==============================] - 36s 14ms/step - loss: 0.0352 - accuracy: 0.9926\n",
            "Epoch 4/10\n",
            "2532/2532 [==============================] - 35s 14ms/step - loss: 0.0340 - accuracy: 0.9927\n",
            "Epoch 5/10\n",
            "2532/2532 [==============================] - 36s 14ms/step - loss: 0.0336 - accuracy: 0.9927\n",
            "Epoch 6/10\n",
            "2532/2532 [==============================] - 35s 14ms/step - loss: 0.0327 - accuracy: 0.9930\n",
            "Epoch 7/10\n",
            "2532/2532 [==============================] - 38s 15ms/step - loss: 0.0327 - accuracy: 0.9930\n",
            "Epoch 8/10\n",
            "2532/2532 [==============================] - 35s 14ms/step - loss: 0.0325 - accuracy: 0.9930\n",
            "Epoch 9/10\n",
            "2532/2532 [==============================] - 36s 14ms/step - loss: 0.0326 - accuracy: 0.9930\n",
            "Epoch 10/10\n",
            "2532/2532 [==============================] - 35s 14ms/step - loss: 0.0320 - accuracy: 0.9930\n"
          ]
        },
        {
          "output_type": "execute_result",
          "data": {
            "text/plain": [
              "<keras.src.callbacks.History at 0x7a4c1eb82f50>"
            ]
          },
          "metadata": {},
          "execution_count": 29
        }
      ]
    },
    {
      "cell_type": "code",
      "source": [
        "model.save_weights(\"gruweights.h5\")"
      ],
      "metadata": {
        "id": "NqOzsSQXeIqp"
      },
      "execution_count": 30,
      "outputs": []
    },
    {
      "cell_type": "markdown",
      "source": [
        "# GRU Performance"
      ],
      "metadata": {
        "id": "juSYEgDvgZ5q"
      }
    },
    {
      "cell_type": "code",
      "source": [
        "predictions = model.predict(testAttributes)\n",
        "predictions = (predictions > 0.5).astype(int)\n",
        "\n",
        "from sklearn.metrics import classification_report\n",
        "\n",
        "# Generate classification report\n",
        "report = classification_report(testLabel, predictions)\n",
        "\n",
        "print(\"Classification Report for LSTM:\")\n",
        "print(report)"
      ],
      "metadata": {
        "colab": {
          "base_uri": "https://localhost:8080/"
        },
        "id": "5lrv5N2vepb9",
        "outputId": "a296961f-5307-4cea-8aed-fbb28c6bdc9c"
      },
      "execution_count": 31,
      "outputs": [
        {
          "output_type": "stream",
          "name": "stdout",
          "text": [
            "1085/1085 [==============================] - 6s 5ms/step\n",
            "Classification Report for LSTM:\n",
            "              precision    recall  f1-score   support\n",
            "\n",
            "           0       1.00      0.98      0.99     17358\n",
            "           1       0.99      1.00      0.99     17358\n",
            "\n",
            "    accuracy                           0.99     34716\n",
            "   macro avg       0.99      0.99      0.99     34716\n",
            "weighted avg       0.99      0.99      0.99     34716\n",
            "\n"
          ]
        }
      ]
    },
    {
      "cell_type": "code",
      "source": [
        "predictions = model.predict(autestAttributes)\n",
        "predictions = (predictions > 0.5).astype(int)\n",
        "\n",
        "from sklearn.metrics import classification_report\n",
        "\n",
        "# Generate classification report\n",
        "report = classification_report(autestLabel, predictions)\n",
        "\n",
        "print(\"Classification Report for LSTM using Author's test dataset:\")\n",
        "print(report)"
      ],
      "metadata": {
        "colab": {
          "base_uri": "https://localhost:8080/"
        },
        "id": "0rkSfp0AeupL",
        "outputId": "e420b603-ab41-4002-d099-243d07e2bf41"
      },
      "execution_count": 33,
      "outputs": [
        {
          "output_type": "stream",
          "name": "stdout",
          "text": [
            "1396/1396 [==============================] - 7s 5ms/step\n",
            "Classification Report for LSTM using Author's test dataset:\n",
            "              precision    recall  f1-score   support\n",
            "\n",
            "           0       0.65      0.91      0.76     29673\n",
            "           1       0.14      0.03      0.05     14973\n",
            "\n",
            "    accuracy                           0.62     44646\n",
            "   macro avg       0.39      0.47      0.40     44646\n",
            "weighted avg       0.48      0.62      0.52     44646\n",
            "\n"
          ]
        }
      ]
    }
  ]
}