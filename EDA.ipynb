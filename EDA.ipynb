{
 "cells": [
  {
   "cell_type": "markdown",
   "metadata": {},
   "source": [
    "## Libraries"
   ]
  },
  {
   "cell_type": "code",
   "execution_count": 1,
   "metadata": {},
   "outputs": [],
   "source": [
    "import pandas as pd\n",
    "import numpy as np\n",
    "import matplotlib.pyplot as plt\n",
    "import seaborn as sns\n",
    "from scipy.stats import norm\n",
    "from imblearn.over_sampling import SMOTE\n",
    "from sklearn.preprocessing import LabelEncoder\n",
    "from sklearn.model_selection import train_test_split\n",
    "from sklearn.preprocessing import StandardScaler\n",
    "\n",
    "from sklearn.metrics import accuracy_score\n",
    "from sklearn.metrics import f1_score\n",
    "from sklearn.metrics import confusion_matrix\n",
    "from sklearn.metrics import classification_report\n",
    "from sklearn.metrics import precision_score\n",
    "from sklearn.model_selection import cross_validate\n",
    "from sklearn.model_selection import cross_val_predict\n",
    "\n",
    "from sklearn.neighbors import KNeighborsClassifier\n",
    "from sklearn.linear_model import LogisticRegression\n",
    "from sklearn.ensemble import RandomForestClassifier\n",
    "from sklearn.tree import DecisionTreeClassifier\n",
    "from sklearn.naive_bayes import GaussianNB\n",
    "from sklearn.ensemble import BaggingClassifier\n",
    "from sklearn.svm import SVC\n",
    "from sklearn.ensemble import StackingClassifier\n",
    "\n",
    "from sklearn.linear_model import Perceptron\n",
    "from sklearn.model_selection import GridSearchCV\n",
    "from sklearn.model_selection import RepeatedStratifiedKFold\n",
    "from sklearn.neural_network import MLPClassifier\n",
    "from sklearn.cluster import KMeans\n",
    "from scipy.cluster.hierarchy import dendrogram, linkage\n",
    "from sklearn.cluster import AgglomerativeClustering\n"
   ]
  },
  {
   "cell_type": "markdown",
   "metadata": {},
   "source": [
    "## Dataset Loading"
   ]
  },
  {
   "cell_type": "code",
   "execution_count": 2,
   "metadata": {},
   "outputs": [
    {
     "name": "stderr",
     "output_type": "stream",
     "text": [
      "C:\\Users\\sathi\\AppData\\Local\\Temp\\ipykernel_18620\\870708999.py:1: DtypeWarning: Columns (1,3,39,47) have mixed types. Specify dtype option on import or set low_memory=False.\n",
      "  df = pd.read_csv(r'D:\\Project Phase II\\Dataset\\completedataset.csv',encoding='cp1252')\n"
     ]
    },
    {
     "data": {
      "text/html": [
       "<div>\n",
       "<style scoped>\n",
       "    .dataframe tbody tr th:only-of-type {\n",
       "        vertical-align: middle;\n",
       "    }\n",
       "\n",
       "    .dataframe tbody tr th {\n",
       "        vertical-align: top;\n",
       "    }\n",
       "\n",
       "    .dataframe thead th {\n",
       "        text-align: right;\n",
       "    }\n",
       "</style>\n",
       "<table border=\"1\" class=\"dataframe\">\n",
       "  <thead>\n",
       "    <tr style=\"text-align: right;\">\n",
       "      <th></th>\n",
       "      <th>srcip</th>\n",
       "      <th>sport</th>\n",
       "      <th>dstip</th>\n",
       "      <th>dsport</th>\n",
       "      <th>proto</th>\n",
       "      <th>state</th>\n",
       "      <th>dur</th>\n",
       "      <th>sbytes</th>\n",
       "      <th>dbytes</th>\n",
       "      <th>sttl</th>\n",
       "      <th>...</th>\n",
       "      <th>ct_ftp_cmd</th>\n",
       "      <th>ct_srv_src</th>\n",
       "      <th>ct_srv_dst</th>\n",
       "      <th>ct_dst_ltm</th>\n",
       "      <th>ct_src_ ltm</th>\n",
       "      <th>ct_src_dport_ltm</th>\n",
       "      <th>ct_dst_sport_ltm</th>\n",
       "      <th>ct_dst_src_ltm</th>\n",
       "      <th>attack_cat</th>\n",
       "      <th>Label</th>\n",
       "    </tr>\n",
       "  </thead>\n",
       "  <tbody>\n",
       "    <tr>\n",
       "      <th>0</th>\n",
       "      <td>59.166.0.1</td>\n",
       "      <td>18247</td>\n",
       "      <td>149.171.126.4</td>\n",
       "      <td>7662</td>\n",
       "      <td>tcp</td>\n",
       "      <td>FIN</td>\n",
       "      <td>0.119596</td>\n",
       "      <td>4550</td>\n",
       "      <td>68342</td>\n",
       "      <td>31</td>\n",
       "      <td>...</td>\n",
       "      <td></td>\n",
       "      <td>6</td>\n",
       "      <td>2</td>\n",
       "      <td>2</td>\n",
       "      <td>5</td>\n",
       "      <td>1</td>\n",
       "      <td>1</td>\n",
       "      <td>2</td>\n",
       "      <td>NaN</td>\n",
       "      <td>0</td>\n",
       "    </tr>\n",
       "    <tr>\n",
       "      <th>1</th>\n",
       "      <td>59.166.0.3</td>\n",
       "      <td>54771</td>\n",
       "      <td>149.171.126.2</td>\n",
       "      <td>27709</td>\n",
       "      <td>tcp</td>\n",
       "      <td>FIN</td>\n",
       "      <td>0.650574</td>\n",
       "      <td>8928</td>\n",
       "      <td>320</td>\n",
       "      <td>31</td>\n",
       "      <td>...</td>\n",
       "      <td></td>\n",
       "      <td>3</td>\n",
       "      <td>5</td>\n",
       "      <td>2</td>\n",
       "      <td>4</td>\n",
       "      <td>1</td>\n",
       "      <td>1</td>\n",
       "      <td>4</td>\n",
       "      <td>NaN</td>\n",
       "      <td>0</td>\n",
       "    </tr>\n",
       "    <tr>\n",
       "      <th>2</th>\n",
       "      <td>59.166.0.8</td>\n",
       "      <td>13289</td>\n",
       "      <td>149.171.126.9</td>\n",
       "      <td>5190</td>\n",
       "      <td>tcp</td>\n",
       "      <td>FIN</td>\n",
       "      <td>0.007980</td>\n",
       "      <td>2158</td>\n",
       "      <td>2464</td>\n",
       "      <td>31</td>\n",
       "      <td>...</td>\n",
       "      <td></td>\n",
       "      <td>3</td>\n",
       "      <td>5</td>\n",
       "      <td>1</td>\n",
       "      <td>1</td>\n",
       "      <td>1</td>\n",
       "      <td>1</td>\n",
       "      <td>3</td>\n",
       "      <td>NaN</td>\n",
       "      <td>0</td>\n",
       "    </tr>\n",
       "    <tr>\n",
       "      <th>3</th>\n",
       "      <td>149.171.126.18</td>\n",
       "      <td>1043</td>\n",
       "      <td>175.45.176.3</td>\n",
       "      <td>53</td>\n",
       "      <td>udp</td>\n",
       "      <td>INT</td>\n",
       "      <td>0.000005</td>\n",
       "      <td>264</td>\n",
       "      <td>0</td>\n",
       "      <td>60</td>\n",
       "      <td>...</td>\n",
       "      <td></td>\n",
       "      <td>19</td>\n",
       "      <td>19</td>\n",
       "      <td>19</td>\n",
       "      <td>19</td>\n",
       "      <td>19</td>\n",
       "      <td>19</td>\n",
       "      <td>19</td>\n",
       "      <td>NaN</td>\n",
       "      <td>0</td>\n",
       "    </tr>\n",
       "    <tr>\n",
       "      <th>4</th>\n",
       "      <td>149.171.126.18</td>\n",
       "      <td>1043</td>\n",
       "      <td>175.45.176.3</td>\n",
       "      <td>53</td>\n",
       "      <td>udp</td>\n",
       "      <td>INT</td>\n",
       "      <td>0.000005</td>\n",
       "      <td>264</td>\n",
       "      <td>0</td>\n",
       "      <td>60</td>\n",
       "      <td>...</td>\n",
       "      <td></td>\n",
       "      <td>19</td>\n",
       "      <td>19</td>\n",
       "      <td>19</td>\n",
       "      <td>19</td>\n",
       "      <td>19</td>\n",
       "      <td>19</td>\n",
       "      <td>19</td>\n",
       "      <td>NaN</td>\n",
       "      <td>0</td>\n",
       "    </tr>\n",
       "    <tr>\n",
       "      <th>...</th>\n",
       "      <td>...</td>\n",
       "      <td>...</td>\n",
       "      <td>...</td>\n",
       "      <td>...</td>\n",
       "      <td>...</td>\n",
       "      <td>...</td>\n",
       "      <td>...</td>\n",
       "      <td>...</td>\n",
       "      <td>...</td>\n",
       "      <td>...</td>\n",
       "      <td>...</td>\n",
       "      <td>...</td>\n",
       "      <td>...</td>\n",
       "      <td>...</td>\n",
       "      <td>...</td>\n",
       "      <td>...</td>\n",
       "      <td>...</td>\n",
       "      <td>...</td>\n",
       "      <td>...</td>\n",
       "      <td>...</td>\n",
       "      <td>...</td>\n",
       "    </tr>\n",
       "    <tr>\n",
       "      <th>2540042</th>\n",
       "      <td>59.166.0.5</td>\n",
       "      <td>33094</td>\n",
       "      <td>149.171.126.7</td>\n",
       "      <td>43433</td>\n",
       "      <td>tcp</td>\n",
       "      <td>FIN</td>\n",
       "      <td>0.087306</td>\n",
       "      <td>320</td>\n",
       "      <td>1828</td>\n",
       "      <td>31</td>\n",
       "      <td>...</td>\n",
       "      <td></td>\n",
       "      <td>1</td>\n",
       "      <td>2</td>\n",
       "      <td>3</td>\n",
       "      <td>3</td>\n",
       "      <td>1</td>\n",
       "      <td>1</td>\n",
       "      <td>3</td>\n",
       "      <td>NaN</td>\n",
       "      <td>0</td>\n",
       "    </tr>\n",
       "    <tr>\n",
       "      <th>2540043</th>\n",
       "      <td>59.166.0.7</td>\n",
       "      <td>20848</td>\n",
       "      <td>149.171.126.4</td>\n",
       "      <td>21</td>\n",
       "      <td>tcp</td>\n",
       "      <td>CON</td>\n",
       "      <td>0.365058</td>\n",
       "      <td>456</td>\n",
       "      <td>346</td>\n",
       "      <td>31</td>\n",
       "      <td>...</td>\n",
       "      <td>2</td>\n",
       "      <td>2</td>\n",
       "      <td>2</td>\n",
       "      <td>2</td>\n",
       "      <td>2</td>\n",
       "      <td>2</td>\n",
       "      <td>2</td>\n",
       "      <td>2</td>\n",
       "      <td>NaN</td>\n",
       "      <td>0</td>\n",
       "    </tr>\n",
       "    <tr>\n",
       "      <th>2540044</th>\n",
       "      <td>59.166.0.3</td>\n",
       "      <td>21511</td>\n",
       "      <td>149.171.126.9</td>\n",
       "      <td>21</td>\n",
       "      <td>tcp</td>\n",
       "      <td>CON</td>\n",
       "      <td>6.335154</td>\n",
       "      <td>1802</td>\n",
       "      <td>2088</td>\n",
       "      <td>31</td>\n",
       "      <td>...</td>\n",
       "      <td>2</td>\n",
       "      <td>2</td>\n",
       "      <td>2</td>\n",
       "      <td>4</td>\n",
       "      <td>2</td>\n",
       "      <td>2</td>\n",
       "      <td>2</td>\n",
       "      <td>2</td>\n",
       "      <td>NaN</td>\n",
       "      <td>0</td>\n",
       "    </tr>\n",
       "    <tr>\n",
       "      <th>2540045</th>\n",
       "      <td>59.166.0.9</td>\n",
       "      <td>35433</td>\n",
       "      <td>149.171.126.0</td>\n",
       "      <td>80</td>\n",
       "      <td>tcp</td>\n",
       "      <td>CON</td>\n",
       "      <td>2.200934</td>\n",
       "      <td>3498</td>\n",
       "      <td>166054</td>\n",
       "      <td>31</td>\n",
       "      <td>...</td>\n",
       "      <td></td>\n",
       "      <td>1</td>\n",
       "      <td>1</td>\n",
       "      <td>2</td>\n",
       "      <td>4</td>\n",
       "      <td>2</td>\n",
       "      <td>2</td>\n",
       "      <td>2</td>\n",
       "      <td>NaN</td>\n",
       "      <td>0</td>\n",
       "    </tr>\n",
       "    <tr>\n",
       "      <th>2540046</th>\n",
       "      <td>175.45.176.0</td>\n",
       "      <td>17293</td>\n",
       "      <td>149.171.126.17</td>\n",
       "      <td>110</td>\n",
       "      <td>tcp</td>\n",
       "      <td>CON</td>\n",
       "      <td>0.942984</td>\n",
       "      <td>574</td>\n",
       "      <td>676</td>\n",
       "      <td>62</td>\n",
       "      <td>...</td>\n",
       "      <td></td>\n",
       "      <td>1</td>\n",
       "      <td>1</td>\n",
       "      <td>2</td>\n",
       "      <td>4</td>\n",
       "      <td>2</td>\n",
       "      <td>2</td>\n",
       "      <td>2</td>\n",
       "      <td>Exploits</td>\n",
       "      <td>1</td>\n",
       "    </tr>\n",
       "  </tbody>\n",
       "</table>\n",
       "<p>2540047 rows × 49 columns</p>\n",
       "</div>"
      ],
      "text/plain": [
       "                  srcip  sport           dstip dsport proto state       dur  \\\n",
       "0            59.166.0.1  18247   149.171.126.4   7662   tcp   FIN  0.119596   \n",
       "1            59.166.0.3  54771   149.171.126.2  27709   tcp   FIN  0.650574   \n",
       "2            59.166.0.8  13289   149.171.126.9   5190   tcp   FIN  0.007980   \n",
       "3        149.171.126.18   1043    175.45.176.3     53   udp   INT  0.000005   \n",
       "4        149.171.126.18   1043    175.45.176.3     53   udp   INT  0.000005   \n",
       "...                 ...    ...             ...    ...   ...   ...       ...   \n",
       "2540042      59.166.0.5  33094   149.171.126.7  43433   tcp   FIN  0.087306   \n",
       "2540043      59.166.0.7  20848   149.171.126.4     21   tcp   CON  0.365058   \n",
       "2540044      59.166.0.3  21511   149.171.126.9     21   tcp   CON  6.335154   \n",
       "2540045      59.166.0.9  35433   149.171.126.0     80   tcp   CON  2.200934   \n",
       "2540046    175.45.176.0  17293  149.171.126.17    110   tcp   CON  0.942984   \n",
       "\n",
       "         sbytes  dbytes  sttl  ...  ct_ftp_cmd  ct_srv_src  ct_srv_dst  \\\n",
       "0          4550   68342    31  ...                       6           2   \n",
       "1          8928     320    31  ...                       3           5   \n",
       "2          2158    2464    31  ...                       3           5   \n",
       "3           264       0    60  ...                      19          19   \n",
       "4           264       0    60  ...                      19          19   \n",
       "...         ...     ...   ...  ...         ...         ...         ...   \n",
       "2540042     320    1828    31  ...                       1           2   \n",
       "2540043     456     346    31  ...           2           2           2   \n",
       "2540044    1802    2088    31  ...           2           2           2   \n",
       "2540045    3498  166054    31  ...                       1           1   \n",
       "2540046     574     676    62  ...                       1           1   \n",
       "\n",
       "        ct_dst_ltm  ct_src_ ltm  ct_src_dport_ltm  ct_dst_sport_ltm  \\\n",
       "0                2            5                 1                 1   \n",
       "1                2            4                 1                 1   \n",
       "2                1            1                 1                 1   \n",
       "3               19           19                19                19   \n",
       "4               19           19                19                19   \n",
       "...            ...          ...               ...               ...   \n",
       "2540042          3            3                 1                 1   \n",
       "2540043          2            2                 2                 2   \n",
       "2540044          4            2                 2                 2   \n",
       "2540045          2            4                 2                 2   \n",
       "2540046          2            4                 2                 2   \n",
       "\n",
       "         ct_dst_src_ltm  attack_cat  Label  \n",
       "0                     2         NaN      0  \n",
       "1                     4         NaN      0  \n",
       "2                     3         NaN      0  \n",
       "3                    19         NaN      0  \n",
       "4                    19         NaN      0  \n",
       "...                 ...         ...    ...  \n",
       "2540042               3         NaN      0  \n",
       "2540043               2         NaN      0  \n",
       "2540044               2         NaN      0  \n",
       "2540045               2         NaN      0  \n",
       "2540046               2    Exploits      1  \n",
       "\n",
       "[2540047 rows x 49 columns]"
      ]
     },
     "execution_count": 2,
     "metadata": {},
     "output_type": "execute_result"
    }
   ],
   "source": [
    "df = pd.read_csv(r'D:\\Project Phase II\\Dataset\\completedataset.csv',encoding='cp1252')\n",
    "df"
   ]
  },
  {
   "cell_type": "code",
   "execution_count": 14,
   "metadata": {},
   "outputs": [
    {
     "data": {
      "text/html": [
       "<div>\n",
       "<style scoped>\n",
       "    .dataframe tbody tr th:only-of-type {\n",
       "        vertical-align: middle;\n",
       "    }\n",
       "\n",
       "    .dataframe tbody tr th {\n",
       "        vertical-align: top;\n",
       "    }\n",
       "\n",
       "    .dataframe thead th {\n",
       "        text-align: right;\n",
       "    }\n",
       "</style>\n",
       "<table border=\"1\" class=\"dataframe\">\n",
       "  <thead>\n",
       "    <tr style=\"text-align: right;\">\n",
       "      <th></th>\n",
       "      <th>srcip</th>\n",
       "      <th>sport</th>\n",
       "      <th>dstip</th>\n",
       "      <th>dsport</th>\n",
       "      <th>proto</th>\n",
       "      <th>state</th>\n",
       "      <th>dur</th>\n",
       "      <th>sbytes</th>\n",
       "      <th>dbytes</th>\n",
       "      <th>sttl</th>\n",
       "      <th>...</th>\n",
       "      <th>ct_ftp_cmd</th>\n",
       "      <th>ct_srv_src</th>\n",
       "      <th>ct_srv_dst</th>\n",
       "      <th>ct_dst_ltm</th>\n",
       "      <th>ct_src_ ltm</th>\n",
       "      <th>ct_src_dport_ltm</th>\n",
       "      <th>ct_dst_sport_ltm</th>\n",
       "      <th>ct_dst_src_ltm</th>\n",
       "      <th>attack_cat</th>\n",
       "      <th>Label</th>\n",
       "    </tr>\n",
       "  </thead>\n",
       "  <tbody>\n",
       "    <tr>\n",
       "      <th>0</th>\n",
       "      <td>59.166.0.1</td>\n",
       "      <td>18247</td>\n",
       "      <td>149.171.126.4</td>\n",
       "      <td>7662</td>\n",
       "      <td>tcp</td>\n",
       "      <td>FIN</td>\n",
       "      <td>0.119596</td>\n",
       "      <td>4550</td>\n",
       "      <td>68342</td>\n",
       "      <td>31</td>\n",
       "      <td>...</td>\n",
       "      <td></td>\n",
       "      <td>6</td>\n",
       "      <td>2</td>\n",
       "      <td>2</td>\n",
       "      <td>5</td>\n",
       "      <td>1</td>\n",
       "      <td>1</td>\n",
       "      <td>2</td>\n",
       "      <td>NaN</td>\n",
       "      <td>0</td>\n",
       "    </tr>\n",
       "  </tbody>\n",
       "</table>\n",
       "<p>1 rows × 49 columns</p>\n",
       "</div>"
      ],
      "text/plain": [
       "        srcip  sport          dstip dsport proto state       dur  sbytes  \\\n",
       "0  59.166.0.1  18247  149.171.126.4   7662   tcp   FIN  0.119596    4550   \n",
       "\n",
       "   dbytes  sttl  ...  ct_ftp_cmd  ct_srv_src  ct_srv_dst ct_dst_ltm  \\\n",
       "0   68342    31  ...                       6           2          2   \n",
       "\n",
       "   ct_src_ ltm  ct_src_dport_ltm  ct_dst_sport_ltm  ct_dst_src_ltm  \\\n",
       "0            5                 1                 1               2   \n",
       "\n",
       "   attack_cat  Label  \n",
       "0         NaN      0  \n",
       "\n",
       "[1 rows x 49 columns]"
      ]
     },
     "execution_count": 14,
     "metadata": {},
     "output_type": "execute_result"
    }
   ],
   "source": [
    "df.head(1)"
   ]
  },
  {
   "cell_type": "markdown",
   "metadata": {},
   "source": [
    "## Normie EDA"
   ]
  },
  {
   "cell_type": "markdown",
   "metadata": {},
   "source": [
    "is_sm_ips_ports field denotes if the ip and the port of source and destination is the same"
   ]
  },
  {
   "cell_type": "code",
   "execution_count": 3,
   "metadata": {},
   "outputs": [
    {
     "data": {
      "text/plain": [
       "srcip               4195\n",
       "sport               4195\n",
       "dstip               4195\n",
       "dsport              4195\n",
       "proto               4195\n",
       "state               4195\n",
       "dur                 4195\n",
       "sbytes              4195\n",
       "dbytes              4195\n",
       "sttl                4195\n",
       "dttl                4195\n",
       "sloss               4195\n",
       "dloss               4195\n",
       "service             4195\n",
       "Sload               4195\n",
       "Dload               4195\n",
       "Spkts               4195\n",
       "Dpkts               4195\n",
       "swin                4195\n",
       "dwin                4195\n",
       "stcpb               4195\n",
       "dtcpb               4195\n",
       "smeansz             4195\n",
       "dmeansz             4195\n",
       "trans_depth         4195\n",
       "res_bdy_len         4195\n",
       "Sjit                4195\n",
       "Djit                4195\n",
       "Stime               4195\n",
       "Ltime               4195\n",
       "Sintpkt             4195\n",
       "Dintpkt             4195\n",
       "tcprtt              4195\n",
       "synack              4195\n",
       "ackdat              4195\n",
       "is_sm_ips_ports     4195\n",
       "ct_state_ttl        4195\n",
       "ct_flw_http_mthd    2805\n",
       "is_ftp_login        2805\n",
       "ct_ftp_cmd          4195\n",
       "ct_srv_src          4195\n",
       "ct_srv_dst          4195\n",
       "ct_dst_ltm          4195\n",
       "ct_src_ ltm         4195\n",
       "ct_src_dport_ltm    4195\n",
       "ct_dst_sport_ltm    4195\n",
       "ct_dst_src_ltm      4195\n",
       "attack_cat             0\n",
       "Label               4195\n",
       "dtype: int64"
      ]
     },
     "execution_count": 3,
     "metadata": {},
     "output_type": "execute_result"
    }
   ],
   "source": [
    "# Finding count of df[is_sm_ips_ports] = 1\n",
    "df[df['is_sm_ips_ports']==1 ].count()"
   ]
  },
  {
   "cell_type": "code",
   "execution_count": 4,
   "metadata": {},
   "outputs": [
    {
     "data": {
      "text/plain": [
       "srcip               0\n",
       "sport               0\n",
       "dstip               0\n",
       "dsport              0\n",
       "proto               0\n",
       "state               0\n",
       "dur                 0\n",
       "sbytes              0\n",
       "dbytes              0\n",
       "sttl                0\n",
       "dttl                0\n",
       "sloss               0\n",
       "dloss               0\n",
       "service             0\n",
       "Sload               0\n",
       "Dload               0\n",
       "Spkts               0\n",
       "Dpkts               0\n",
       "swin                0\n",
       "dwin                0\n",
       "stcpb               0\n",
       "dtcpb               0\n",
       "smeansz             0\n",
       "dmeansz             0\n",
       "trans_depth         0\n",
       "res_bdy_len         0\n",
       "Sjit                0\n",
       "Djit                0\n",
       "Stime               0\n",
       "Ltime               0\n",
       "Sintpkt             0\n",
       "Dintpkt             0\n",
       "tcprtt              0\n",
       "synack              0\n",
       "ackdat              0\n",
       "is_sm_ips_ports     0\n",
       "ct_state_ttl        0\n",
       "ct_flw_http_mthd    0\n",
       "is_ftp_login        0\n",
       "ct_ftp_cmd          0\n",
       "ct_srv_src          0\n",
       "ct_srv_dst          0\n",
       "ct_dst_ltm          0\n",
       "ct_src_ ltm         0\n",
       "ct_src_dport_ltm    0\n",
       "ct_dst_sport_ltm    0\n",
       "ct_dst_src_ltm      0\n",
       "attack_cat          0\n",
       "Label               0\n",
       "dtype: int64"
      ]
     },
     "execution_count": 4,
     "metadata": {},
     "output_type": "execute_result"
    }
   ],
   "source": [
    "\n",
    "\n",
    "# Finding count of df[is_sm_ips_ports] = 1 and df[Label] = 1\n",
    "df[(df['is_sm_ips_ports']==1) & (df['Label']==1)].count()"
   ]
  },
  {
   "cell_type": "markdown",
   "metadata": {},
   "source": [
    "There is no attack when source and destination ip and port is same. So it is safe to drop these records and also to completely drop this field"
   ]
  },
  {
   "cell_type": "code",
   "execution_count": 12,
   "metadata": {},
   "outputs": [
    {
     "name": "stdout",
     "output_type": "stream",
     "text": [
      "<class 'pandas.core.frame.DataFrame'>\n",
      "RangeIndex: 2540047 entries, 0 to 2540046\n",
      "Data columns (total 49 columns):\n",
      " #   Column            Dtype  \n",
      "---  ------            -----  \n",
      " 0   srcip             object \n",
      " 1   sport             object \n",
      " 2   dstip             object \n",
      " 3   dsport            object \n",
      " 4   proto             object \n",
      " 5   state             object \n",
      " 6   dur               float64\n",
      " 7   sbytes            int64  \n",
      " 8   dbytes            int64  \n",
      " 9   sttl              int64  \n",
      " 10  dttl              int64  \n",
      " 11  sloss             int64  \n",
      " 12  dloss             int64  \n",
      " 13  service           object \n",
      " 14  Sload             float64\n",
      " 15  Dload             float64\n",
      " 16  Spkts             int64  \n",
      " 17  Dpkts             int64  \n",
      " 18  swin              int64  \n",
      " 19  dwin              int64  \n",
      " 20  stcpb             int64  \n",
      " 21  dtcpb             int64  \n",
      " 22  smeansz           int64  \n",
      " 23  dmeansz           int64  \n",
      " 24  trans_depth       int64  \n",
      " 25  res_bdy_len       int64  \n",
      " 26  Sjit              float64\n",
      " 27  Djit              float64\n",
      " 28  Stime             int64  \n",
      " 29  Ltime             int64  \n",
      " 30  Sintpkt           float64\n",
      " 31  Dintpkt           float64\n",
      " 32  tcprtt            float64\n",
      " 33  synack            float64\n",
      " 34  ackdat            float64\n",
      " 35  is_sm_ips_ports   int64  \n",
      " 36  ct_state_ttl      int64  \n",
      " 37  ct_flw_http_mthd  float64\n",
      " 38  is_ftp_login      float64\n",
      " 39  ct_ftp_cmd        object \n",
      " 40  ct_srv_src        int64  \n",
      " 41  ct_srv_dst        int64  \n",
      " 42  ct_dst_ltm        int64  \n",
      " 43  ct_src_ ltm       int64  \n",
      " 44  ct_src_dport_ltm  int64  \n",
      " 45  ct_dst_sport_ltm  int64  \n",
      " 46  ct_dst_src_ltm    int64  \n",
      " 47  attack_cat        object \n",
      " 48  Label             int64  \n",
      "dtypes: float64(12), int64(28), object(9)\n",
      "memory usage: 949.6+ MB\n"
     ]
    }
   ],
   "source": [
    "df.info()"
   ]
  },
  {
   "cell_type": "markdown",
   "metadata": {},
   "source": [
    "Service - High level protocol like HTTP, FTP"
   ]
  },
  {
   "cell_type": "markdown",
   "metadata": {},
   "source": [
    "Proto - Low level protocol like HTTP uses TCP, FTP uses TCP (the underlying protocol)"
   ]
  },
  {
   "cell_type": "code",
   "execution_count": 19,
   "metadata": {},
   "outputs": [
    {
     "data": {
      "text/plain": [
       "array(['tcp', 'udp', 'icmp', 'arp', 'ospf', 'udt', 'sctp', 'igmp', 'gre',\n",
       "       'sep', 'swipe', 'mobile', 'sun-nd', 'pim', 'rtp', 'ip', 'ggp',\n",
       "       'ipnip', 'st2', 'cbt', 'argus', 'bbn-rcc', 'chaos', 'egp', 'emcon',\n",
       "       'igp', 'nvp', 'pup', 'xnet', 'mux', 'dcn', 'hmp', 'prm', 'trunk-1',\n",
       "       'trunk-2', 'xns-idp', 'irtp', 'leaf-1', 'leaf-2', 'rdp', 'iso-tp4',\n",
       "       'netblt', 'merit-inp', 'mfe-nsp', '3pc', 'idpr', 'xtp', 'ddp',\n",
       "       'idpr-cmtp', 'tp++', 'il', 'ipv6', 'ipv6-route', 'sdrp',\n",
       "       'ipv6-frag', 'idrp', 'rsvp', 'bna', 'mhrp', 'i-nlsp', 'narp',\n",
       "       'tlsp', 'skip', 'ipv6-no', 'ipv6-opts', 'any', 'cftp', 'sat-expak',\n",
       "       'kryptolan', 'ippc', 'rvd', 'sat-mon', 'cpnx', 'ipcv', 'visa',\n",
       "       'cphb', 'wsn', 'br-sat-mon', 'pvp', 'wb-mon', 'iso-ip', 'wb-expak',\n",
       "       'secure-vmtp', 'vmtp', 'ttp', 'vines', 'nsfnet-igp', 'dgp',\n",
       "       'eigrp', 'tcf', 'larp', 'sprite-rpc', 'ax.25', 'ipip', 'mtp',\n",
       "       'aes-sp3-d', 'etherip', 'micp', 'encap', 'pri-enc', 'gmtp', 'ifmp',\n",
       "       'pnni', 'aris', 'scps', 'a/n', 'qnx', 'ipcomp', 'snp',\n",
       "       'compaq-peer', 'ipx-n-ip', 'vrrp', 'pgm', 'l2tp', 'zero', 'ddx',\n",
       "       'iatp', 'srp', 'stp', 'uti', 'smp', 'sm', 'ptp', 'fire', 'isis',\n",
       "       'crtp', 'crudp', 'sccopmce', 'iplt', 'pipe', 'sps', 'fc', 'unas',\n",
       "       'ib', 'esp'], dtype=object)"
      ]
     },
     "execution_count": 19,
     "metadata": {},
     "output_type": "execute_result"
    }
   ],
   "source": [
    "#List of unique proto values\n",
    "df.proto.unique()"
   ]
  },
  {
   "cell_type": "code",
   "execution_count": 20,
   "metadata": {},
   "outputs": [
    {
     "data": {
      "text/plain": [
       "135"
      ]
     },
     "execution_count": 20,
     "metadata": {},
     "output_type": "execute_result"
    }
   ],
   "source": [
    "len(df.proto.unique())"
   ]
  },
  {
   "cell_type": "code",
   "execution_count": 21,
   "metadata": {},
   "outputs": [
    {
     "data": {
      "text/plain": [
       "array(['-', 'ftp-data', 'dns', 'smtp', 'http', 'ftp', 'ssh', 'pop3',\n",
       "       'dhcp', 'snmp', 'ssl', 'irc', 'radius'], dtype=object)"
      ]
     },
     "execution_count": 21,
     "metadata": {},
     "output_type": "execute_result"
    }
   ],
   "source": [
    "df.service.unique()"
   ]
  },
  {
   "cell_type": "code",
   "execution_count": 22,
   "metadata": {},
   "outputs": [
    {
     "data": {
      "text/plain": [
       "13"
      ]
     },
     "execution_count": 22,
     "metadata": {},
     "output_type": "execute_result"
    }
   ],
   "source": [
    "len(df.service.unique())"
   ]
  },
  {
   "cell_type": "markdown",
   "metadata": {},
   "source": [
    "## Create Complete Source Address and Destination Address"
   ]
  },
  {
   "cell_type": "markdown",
   "metadata": {},
   "source": [
    "Field src = srcIP : Port"
   ]
  },
  {
   "cell_type": "code",
   "execution_count": 6,
   "metadata": {},
   "outputs": [],
   "source": [
    "df['src'] = df['srcip']+':'+df['sport'].astype(str)"
   ]
  },
  {
   "cell_type": "code",
   "execution_count": 11,
   "metadata": {},
   "outputs": [
    {
     "data": {
      "text/plain": [
       "0             59.166.0.1:18247\n",
       "1             59.166.0.3:54771\n",
       "2             59.166.0.8:13289\n",
       "3          149.171.126.18:1043\n",
       "4          149.171.126.18:1043\n",
       "                  ...         \n",
       "2540042       59.166.0.5:33094\n",
       "2540043       59.166.0.7:20848\n",
       "2540044       59.166.0.3:21511\n",
       "2540045       59.166.0.9:35433\n",
       "2540046     175.45.176.0:17293\n",
       "Name: src, Length: 2540047, dtype: object"
      ]
     },
     "execution_count": 11,
     "metadata": {},
     "output_type": "execute_result"
    }
   ],
   "source": [
    "df['src']"
   ]
  },
  {
   "cell_type": "markdown",
   "metadata": {},
   "source": [
    "Number of unique sourceIP:port"
   ]
  },
  {
   "cell_type": "code",
   "execution_count": 10,
   "metadata": {},
   "outputs": [
    {
     "data": {
      "text/plain": [
       "692920"
      ]
     },
     "execution_count": 10,
     "metadata": {},
     "output_type": "execute_result"
    }
   ],
   "source": [
    "len(df['src'].unique())"
   ]
  },
  {
   "cell_type": "markdown",
   "metadata": {},
   "source": [
    "Number of unique sourceIP"
   ]
  },
  {
   "cell_type": "code",
   "execution_count": 12,
   "metadata": {},
   "outputs": [
    {
     "data": {
      "text/plain": [
       "43"
      ]
     },
     "execution_count": 12,
     "metadata": {},
     "output_type": "execute_result"
    }
   ],
   "source": [
    "len(df['srcip'].unique())"
   ]
  },
  {
   "cell_type": "markdown",
   "metadata": {},
   "source": [
    "Number of unique source Ports"
   ]
  },
  {
   "cell_type": "code",
   "execution_count": 22,
   "metadata": {},
   "outputs": [
    {
     "data": {
      "text/plain": [
       "107594"
      ]
     },
     "execution_count": 22,
     "metadata": {},
     "output_type": "execute_result"
    }
   ],
   "source": [
    "len(df['sport'].unique())"
   ]
  },
  {
   "cell_type": "markdown",
   "metadata": {},
   "source": [
    "Field dst = dstIP : dsport"
   ]
  },
  {
   "cell_type": "code",
   "execution_count": 15,
   "metadata": {},
   "outputs": [],
   "source": [
    "df['dst'] = df['dstip']+':'+df['dsport'].astype(str)"
   ]
  },
  {
   "cell_type": "markdown",
   "metadata": {},
   "source": [
    "Number of unique destinationIP:port"
   ]
  },
  {
   "cell_type": "code",
   "execution_count": 16,
   "metadata": {},
   "outputs": [
    {
     "data": {
      "text/plain": [
       "423204"
      ]
     },
     "execution_count": 16,
     "metadata": {},
     "output_type": "execute_result"
    }
   ],
   "source": [
    "len(df['dst'].unique())"
   ]
  },
  {
   "cell_type": "markdown",
   "metadata": {},
   "source": [
    "Number of unique destinationIP"
   ]
  },
  {
   "cell_type": "code",
   "execution_count": 17,
   "metadata": {},
   "outputs": [
    {
     "data": {
      "text/plain": [
       "47"
      ]
     },
     "execution_count": 17,
     "metadata": {},
     "output_type": "execute_result"
    }
   ],
   "source": [
    "len(df['dstip'].unique())"
   ]
  },
  {
   "cell_type": "markdown",
   "metadata": {},
   "source": [
    "Number of unique destination Ports"
   ]
  },
  {
   "cell_type": "code",
   "execution_count": 20,
   "metadata": {},
   "outputs": [
    {
     "data": {
      "text/plain": [
       "128286"
      ]
     },
     "execution_count": 20,
     "metadata": {},
     "output_type": "execute_result"
    }
   ],
   "source": [
    "len(df['dsport'].unique())"
   ]
  },
  {
   "cell_type": "markdown",
   "metadata": {},
   "source": [
    "Number of sourceIPs that are destinationIPs and viceversa"
   ]
  },
  {
   "cell_type": "code",
   "execution_count": 18,
   "metadata": {},
   "outputs": [
    {
     "data": {
      "text/plain": [
       "41"
      ]
     },
     "execution_count": 18,
     "metadata": {},
     "output_type": "execute_result"
    }
   ],
   "source": [
    "#Finding number of common src and dst ip addresses\n",
    "len(set(df['srcip'].unique()).intersection(set(df['dstip'].unique())))\n"
   ]
  },
  {
   "cell_type": "markdown",
   "metadata": {},
   "source": [
    "Number of srcIP:port that are dstIP:port and vice versa"
   ]
  },
  {
   "cell_type": "code",
   "execution_count": 19,
   "metadata": {},
   "outputs": [
    {
     "data": {
      "text/plain": [
       "3837"
      ]
     },
     "execution_count": 19,
     "metadata": {},
     "output_type": "execute_result"
    }
   ],
   "source": [
    "len(set(df['src'].unique()).intersection(set(df['dst'].unique())))"
   ]
  },
  {
   "cell_type": "code",
   "execution_count": 24,
   "metadata": {},
   "outputs": [
    {
     "data": {
      "text/html": [
       "<div>\n",
       "<style scoped>\n",
       "    .dataframe tbody tr th:only-of-type {\n",
       "        vertical-align: middle;\n",
       "    }\n",
       "\n",
       "    .dataframe tbody tr th {\n",
       "        vertical-align: top;\n",
       "    }\n",
       "\n",
       "    .dataframe thead th {\n",
       "        text-align: right;\n",
       "    }\n",
       "</style>\n",
       "<table border=\"1\" class=\"dataframe\">\n",
       "  <thead>\n",
       "    <tr style=\"text-align: right;\">\n",
       "      <th></th>\n",
       "      <th>dur</th>\n",
       "      <th>sbytes</th>\n",
       "      <th>dbytes</th>\n",
       "      <th>sttl</th>\n",
       "      <th>dttl</th>\n",
       "      <th>sloss</th>\n",
       "      <th>dloss</th>\n",
       "      <th>Sload</th>\n",
       "      <th>Dload</th>\n",
       "      <th>Spkts</th>\n",
       "      <th>...</th>\n",
       "      <th>ct_flw_http_mthd</th>\n",
       "      <th>is_ftp_login</th>\n",
       "      <th>ct_srv_src</th>\n",
       "      <th>ct_srv_dst</th>\n",
       "      <th>ct_dst_ltm</th>\n",
       "      <th>ct_src_ ltm</th>\n",
       "      <th>ct_src_dport_ltm</th>\n",
       "      <th>ct_dst_sport_ltm</th>\n",
       "      <th>ct_dst_src_ltm</th>\n",
       "      <th>Label</th>\n",
       "    </tr>\n",
       "  </thead>\n",
       "  <tbody>\n",
       "    <tr>\n",
       "      <th>count</th>\n",
       "      <td>2.540047e+06</td>\n",
       "      <td>2.540047e+06</td>\n",
       "      <td>2.540047e+06</td>\n",
       "      <td>2.540047e+06</td>\n",
       "      <td>2.540047e+06</td>\n",
       "      <td>2.540047e+06</td>\n",
       "      <td>2.540047e+06</td>\n",
       "      <td>2.540047e+06</td>\n",
       "      <td>2.540047e+06</td>\n",
       "      <td>2.540047e+06</td>\n",
       "      <td>...</td>\n",
       "      <td>1.191902e+06</td>\n",
       "      <td>1.110168e+06</td>\n",
       "      <td>2.540047e+06</td>\n",
       "      <td>2.540047e+06</td>\n",
       "      <td>2.540047e+06</td>\n",
       "      <td>2.540047e+06</td>\n",
       "      <td>2.540047e+06</td>\n",
       "      <td>2.540047e+06</td>\n",
       "      <td>2.540047e+06</td>\n",
       "      <td>2.540047e+06</td>\n",
       "    </tr>\n",
       "    <tr>\n",
       "      <th>mean</th>\n",
       "      <td>6.587916e-01</td>\n",
       "      <td>4.339600e+03</td>\n",
       "      <td>3.642759e+04</td>\n",
       "      <td>6.278197e+01</td>\n",
       "      <td>3.076681e+01</td>\n",
       "      <td>5.163921e+00</td>\n",
       "      <td>1.632944e+01</td>\n",
       "      <td>3.695645e+07</td>\n",
       "      <td>2.450861e+06</td>\n",
       "      <td>3.328884e+01</td>\n",
       "      <td>...</td>\n",
       "      <td>2.345856e-01</td>\n",
       "      <td>3.969940e-02</td>\n",
       "      <td>9.206988e+00</td>\n",
       "      <td>8.988958e+00</td>\n",
       "      <td>6.439103e+00</td>\n",
       "      <td>6.900986e+00</td>\n",
       "      <td>4.642139e+00</td>\n",
       "      <td>3.592729e+00</td>\n",
       "      <td>6.845886e+00</td>\n",
       "      <td>1.264870e-01</td>\n",
       "    </tr>\n",
       "    <tr>\n",
       "      <th>std</th>\n",
       "      <td>1.392493e+01</td>\n",
       "      <td>5.640599e+04</td>\n",
       "      <td>1.610960e+05</td>\n",
       "      <td>7.462277e+01</td>\n",
       "      <td>4.285089e+01</td>\n",
       "      <td>2.251707e+01</td>\n",
       "      <td>5.659474e+01</td>\n",
       "      <td>1.186043e+08</td>\n",
       "      <td>4.224863e+06</td>\n",
       "      <td>7.628388e+01</td>\n",
       "      <td>...</td>\n",
       "      <td>7.940924e-01</td>\n",
       "      <td>1.996589e-01</td>\n",
       "      <td>1.083676e+01</td>\n",
       "      <td>1.082249e+01</td>\n",
       "      <td>8.162034e+00</td>\n",
       "      <td>8.205062e+00</td>\n",
       "      <td>8.477579e+00</td>\n",
       "      <td>6.174445e+00</td>\n",
       "      <td>1.125828e+01</td>\n",
       "      <td>3.323975e-01</td>\n",
       "    </tr>\n",
       "    <tr>\n",
       "      <th>min</th>\n",
       "      <td>0.000000e+00</td>\n",
       "      <td>0.000000e+00</td>\n",
       "      <td>0.000000e+00</td>\n",
       "      <td>0.000000e+00</td>\n",
       "      <td>0.000000e+00</td>\n",
       "      <td>0.000000e+00</td>\n",
       "      <td>0.000000e+00</td>\n",
       "      <td>0.000000e+00</td>\n",
       "      <td>0.000000e+00</td>\n",
       "      <td>0.000000e+00</td>\n",
       "      <td>...</td>\n",
       "      <td>0.000000e+00</td>\n",
       "      <td>0.000000e+00</td>\n",
       "      <td>1.000000e+00</td>\n",
       "      <td>1.000000e+00</td>\n",
       "      <td>1.000000e+00</td>\n",
       "      <td>1.000000e+00</td>\n",
       "      <td>1.000000e+00</td>\n",
       "      <td>1.000000e+00</td>\n",
       "      <td>1.000000e+00</td>\n",
       "      <td>0.000000e+00</td>\n",
       "    </tr>\n",
       "    <tr>\n",
       "      <th>25%</th>\n",
       "      <td>1.037000e-03</td>\n",
       "      <td>2.000000e+02</td>\n",
       "      <td>1.780000e+02</td>\n",
       "      <td>3.100000e+01</td>\n",
       "      <td>2.900000e+01</td>\n",
       "      <td>0.000000e+00</td>\n",
       "      <td>0.000000e+00</td>\n",
       "      <td>1.353963e+05</td>\n",
       "      <td>1.191594e+04</td>\n",
       "      <td>2.000000e+00</td>\n",
       "      <td>...</td>\n",
       "      <td>0.000000e+00</td>\n",
       "      <td>0.000000e+00</td>\n",
       "      <td>2.000000e+00</td>\n",
       "      <td>2.000000e+00</td>\n",
       "      <td>2.000000e+00</td>\n",
       "      <td>2.000000e+00</td>\n",
       "      <td>1.000000e+00</td>\n",
       "      <td>1.000000e+00</td>\n",
       "      <td>1.000000e+00</td>\n",
       "      <td>0.000000e+00</td>\n",
       "    </tr>\n",
       "    <tr>\n",
       "      <th>50%</th>\n",
       "      <td>1.586100e-02</td>\n",
       "      <td>1.470000e+03</td>\n",
       "      <td>1.820000e+03</td>\n",
       "      <td>3.100000e+01</td>\n",
       "      <td>2.900000e+01</td>\n",
       "      <td>3.000000e+00</td>\n",
       "      <td>4.000000e+00</td>\n",
       "      <td>5.893038e+05</td>\n",
       "      <td>5.893179e+05</td>\n",
       "      <td>1.200000e+01</td>\n",
       "      <td>...</td>\n",
       "      <td>0.000000e+00</td>\n",
       "      <td>0.000000e+00</td>\n",
       "      <td>5.000000e+00</td>\n",
       "      <td>5.000000e+00</td>\n",
       "      <td>3.000000e+00</td>\n",
       "      <td>4.000000e+00</td>\n",
       "      <td>1.000000e+00</td>\n",
       "      <td>1.000000e+00</td>\n",
       "      <td>2.000000e+00</td>\n",
       "      <td>0.000000e+00</td>\n",
       "    </tr>\n",
       "    <tr>\n",
       "      <th>75%</th>\n",
       "      <td>2.145545e-01</td>\n",
       "      <td>3.182000e+03</td>\n",
       "      <td>1.489400e+04</td>\n",
       "      <td>3.100000e+01</td>\n",
       "      <td>2.900000e+01</td>\n",
       "      <td>7.000000e+00</td>\n",
       "      <td>1.400000e+01</td>\n",
       "      <td>2.039923e+06</td>\n",
       "      <td>2.925974e+06</td>\n",
       "      <td>4.400000e+01</td>\n",
       "      <td>...</td>\n",
       "      <td>0.000000e+00</td>\n",
       "      <td>0.000000e+00</td>\n",
       "      <td>1.000000e+01</td>\n",
       "      <td>1.000000e+01</td>\n",
       "      <td>6.000000e+00</td>\n",
       "      <td>7.000000e+00</td>\n",
       "      <td>2.000000e+00</td>\n",
       "      <td>1.000000e+00</td>\n",
       "      <td>5.000000e+00</td>\n",
       "      <td>0.000000e+00</td>\n",
       "    </tr>\n",
       "    <tr>\n",
       "      <th>max</th>\n",
       "      <td>8.786638e+03</td>\n",
       "      <td>1.435577e+07</td>\n",
       "      <td>1.465753e+07</td>\n",
       "      <td>2.550000e+02</td>\n",
       "      <td>2.540000e+02</td>\n",
       "      <td>5.319000e+03</td>\n",
       "      <td>5.507000e+03</td>\n",
       "      <td>5.988000e+09</td>\n",
       "      <td>1.287619e+08</td>\n",
       "      <td>1.064600e+04</td>\n",
       "      <td>...</td>\n",
       "      <td>3.600000e+01</td>\n",
       "      <td>4.000000e+00</td>\n",
       "      <td>6.700000e+01</td>\n",
       "      <td>6.700000e+01</td>\n",
       "      <td>6.700000e+01</td>\n",
       "      <td>6.700000e+01</td>\n",
       "      <td>6.700000e+01</td>\n",
       "      <td>6.000000e+01</td>\n",
       "      <td>6.700000e+01</td>\n",
       "      <td>1.000000e+00</td>\n",
       "    </tr>\n",
       "  </tbody>\n",
       "</table>\n",
       "<p>8 rows × 40 columns</p>\n",
       "</div>"
      ],
      "text/plain": [
       "                dur        sbytes        dbytes          sttl          dttl  \\\n",
       "count  2.540047e+06  2.540047e+06  2.540047e+06  2.540047e+06  2.540047e+06   \n",
       "mean   6.587916e-01  4.339600e+03  3.642759e+04  6.278197e+01  3.076681e+01   \n",
       "std    1.392493e+01  5.640599e+04  1.610960e+05  7.462277e+01  4.285089e+01   \n",
       "min    0.000000e+00  0.000000e+00  0.000000e+00  0.000000e+00  0.000000e+00   \n",
       "25%    1.037000e-03  2.000000e+02  1.780000e+02  3.100000e+01  2.900000e+01   \n",
       "50%    1.586100e-02  1.470000e+03  1.820000e+03  3.100000e+01  2.900000e+01   \n",
       "75%    2.145545e-01  3.182000e+03  1.489400e+04  3.100000e+01  2.900000e+01   \n",
       "max    8.786638e+03  1.435577e+07  1.465753e+07  2.550000e+02  2.540000e+02   \n",
       "\n",
       "              sloss         dloss         Sload         Dload         Spkts  \\\n",
       "count  2.540047e+06  2.540047e+06  2.540047e+06  2.540047e+06  2.540047e+06   \n",
       "mean   5.163921e+00  1.632944e+01  3.695645e+07  2.450861e+06  3.328884e+01   \n",
       "std    2.251707e+01  5.659474e+01  1.186043e+08  4.224863e+06  7.628388e+01   \n",
       "min    0.000000e+00  0.000000e+00  0.000000e+00  0.000000e+00  0.000000e+00   \n",
       "25%    0.000000e+00  0.000000e+00  1.353963e+05  1.191594e+04  2.000000e+00   \n",
       "50%    3.000000e+00  4.000000e+00  5.893038e+05  5.893179e+05  1.200000e+01   \n",
       "75%    7.000000e+00  1.400000e+01  2.039923e+06  2.925974e+06  4.400000e+01   \n",
       "max    5.319000e+03  5.507000e+03  5.988000e+09  1.287619e+08  1.064600e+04   \n",
       "\n",
       "       ...  ct_flw_http_mthd  is_ftp_login    ct_srv_src    ct_srv_dst  \\\n",
       "count  ...      1.191902e+06  1.110168e+06  2.540047e+06  2.540047e+06   \n",
       "mean   ...      2.345856e-01  3.969940e-02  9.206988e+00  8.988958e+00   \n",
       "std    ...      7.940924e-01  1.996589e-01  1.083676e+01  1.082249e+01   \n",
       "min    ...      0.000000e+00  0.000000e+00  1.000000e+00  1.000000e+00   \n",
       "25%    ...      0.000000e+00  0.000000e+00  2.000000e+00  2.000000e+00   \n",
       "50%    ...      0.000000e+00  0.000000e+00  5.000000e+00  5.000000e+00   \n",
       "75%    ...      0.000000e+00  0.000000e+00  1.000000e+01  1.000000e+01   \n",
       "max    ...      3.600000e+01  4.000000e+00  6.700000e+01  6.700000e+01   \n",
       "\n",
       "         ct_dst_ltm   ct_src_ ltm  ct_src_dport_ltm  ct_dst_sport_ltm  \\\n",
       "count  2.540047e+06  2.540047e+06      2.540047e+06      2.540047e+06   \n",
       "mean   6.439103e+00  6.900986e+00      4.642139e+00      3.592729e+00   \n",
       "std    8.162034e+00  8.205062e+00      8.477579e+00      6.174445e+00   \n",
       "min    1.000000e+00  1.000000e+00      1.000000e+00      1.000000e+00   \n",
       "25%    2.000000e+00  2.000000e+00      1.000000e+00      1.000000e+00   \n",
       "50%    3.000000e+00  4.000000e+00      1.000000e+00      1.000000e+00   \n",
       "75%    6.000000e+00  7.000000e+00      2.000000e+00      1.000000e+00   \n",
       "max    6.700000e+01  6.700000e+01      6.700000e+01      6.000000e+01   \n",
       "\n",
       "       ct_dst_src_ltm         Label  \n",
       "count    2.540047e+06  2.540047e+06  \n",
       "mean     6.845886e+00  1.264870e-01  \n",
       "std      1.125828e+01  3.323975e-01  \n",
       "min      1.000000e+00  0.000000e+00  \n",
       "25%      1.000000e+00  0.000000e+00  \n",
       "50%      2.000000e+00  0.000000e+00  \n",
       "75%      5.000000e+00  0.000000e+00  \n",
       "max      6.700000e+01  1.000000e+00  \n",
       "\n",
       "[8 rows x 40 columns]"
      ]
     },
     "execution_count": 24,
     "metadata": {},
     "output_type": "execute_result"
    }
   ],
   "source": [
    "df.describe()"
   ]
  },
  {
   "cell_type": "markdown",
   "metadata": {},
   "source": [
    "Null Value Fields"
   ]
  },
  {
   "cell_type": "code",
   "execution_count": 32,
   "metadata": {},
   "outputs": [
    {
     "name": "stdout",
     "output_type": "stream",
     "text": [
      "ct_flw_http_mthd 1348145\n",
      "is_ftp_login 1429879\n",
      "attack_cat 2218764\n"
     ]
    }
   ],
   "source": [
    "x = df.isnull().sum()\n",
    "for i in x.keys():\n",
    "    if x[i]>0:\n",
    "        print(i, x[i])"
   ]
  },
  {
   "cell_type": "markdown",
   "metadata": {},
   "source": [
    "Correlation between variables"
   ]
  },
  {
   "cell_type": "code",
   "execution_count": 34,
   "metadata": {},
   "outputs": [
    {
     "name": "stdout",
     "output_type": "stream",
     "text": [
      "                       dur    sbytes    dbytes      sttl      dttl     sloss  \\\n",
      "dur               1.000000  0.033269  0.086971 -0.003653  0.010708  0.041493   \n",
      "sbytes            0.033269  1.000000  0.047027 -0.008925  0.066423  0.953492   \n",
      "dbytes            0.086971  0.047027  1.000000 -0.094181  0.009123  0.115536   \n",
      "sttl             -0.003653 -0.008925 -0.094181  1.000000  0.113982 -0.069436   \n",
      "dttl              0.010708  0.066423  0.009123  0.113982  1.000000  0.076686   \n",
      "sloss             0.041493  0.953492  0.115536 -0.069436  0.076686  1.000000   \n",
      "dloss             0.087713  0.051183  0.991342 -0.118656  0.013923  0.153328   \n",
      "Sload            -0.014715 -0.020990 -0.069986  0.280077 -0.219185 -0.068925   \n",
      "Dload            -0.022502 -0.006786  0.083811 -0.246821 -0.022067  0.046725   \n",
      "Spkts             0.088082  0.602840  0.727075 -0.150796  0.046316  0.725512   \n",
      "Dpkts             0.089368  0.109749  0.970808 -0.141729  0.019952  0.237363   \n",
      "swin              0.011126  0.059779  0.188450 -0.352249  0.305312  0.191736   \n",
      "dwin              0.010657  0.059944  0.188976 -0.357899  0.306938  0.191991   \n",
      "stcpb             0.007746  0.044801  0.139801 -0.266245  0.228485  0.142966   \n",
      "dtcpb             0.007791  0.044224  0.140135 -0.266397  0.228074  0.142766   \n",
      "smeansz          -0.003158  0.187942 -0.093933 -0.056387  0.098753  0.157449   \n",
      "dmeansz           0.035822  0.016020  0.593349 -0.333005  0.046741  0.092466   \n",
      "trans_depth       0.016544  0.000464  0.115488 -0.062367  0.117865 -0.020695   \n",
      "res_bdy_len       0.043873  0.020546  0.560629 -0.036785  0.007934 -0.012348   \n",
      "Sjit              0.033185  0.001393  0.028189  0.043503  0.160464  0.006264   \n",
      "Djit              0.048020  0.001496  0.127170 -0.073728  0.046755  0.022517   \n",
      "Stime            -0.005622 -0.006682 -0.052578  0.313195 -0.001587 -0.039877   \n",
      "Ltime            -0.005609 -0.006682 -0.052577  0.313195 -0.001587 -0.039877   \n",
      "Sintpkt           0.071668 -0.004748 -0.014213 -0.044012 -0.033967 -0.014547   \n",
      "Dintpkt           0.097152 -0.002711 -0.010889 -0.025795  0.000333 -0.009423   \n",
      "tcprtt            0.011356  0.027185 -0.017075  0.212900  0.568006  0.019762   \n",
      "synack            0.010583  0.023595 -0.015671  0.192695  0.518793  0.017506   \n",
      "ackdat            0.010428  0.026847 -0.015941  0.201676  0.532981  0.019133   \n",
      "is_sm_ips_ports   0.006096 -0.003094 -0.009197 -0.033988 -0.029203 -0.009325   \n",
      "ct_state_ttl      0.010422 -0.003330 -0.079546  0.906061  0.040798 -0.058019   \n",
      "ct_flw_http_mthd  0.012200 -0.009958  0.074276  0.034540  0.150006 -0.056225   \n",
      "is_ftp_login      0.006280 -0.010147 -0.047192 -0.009498  0.067357  0.056048   \n",
      "ct_srv_src       -0.019276 -0.035114 -0.051501  0.455537 -0.301396 -0.081497   \n",
      "ct_srv_dst       -0.018429 -0.035152 -0.051996  0.458093 -0.308916 -0.083005   \n",
      "ct_dst_ltm       -0.013797 -0.027993 -0.060283  0.394223 -0.287295 -0.079277   \n",
      "ct_src_ ltm      -0.015871 -0.027649 -0.065256  0.395481 -0.278726 -0.079066   \n",
      "ct_src_dport_ltm -0.013103 -0.027929 -0.066204  0.456672 -0.274834 -0.085481   \n",
      "ct_dst_sport_ltm -0.011308 -0.028033 -0.072021  0.478093 -0.287738 -0.087456   \n",
      "ct_dst_src_ltm   -0.016087 -0.031104 -0.079876  0.513654 -0.290141 -0.094245   \n",
      "Label             0.001959  0.010180 -0.075543  0.904393  0.134947 -0.043272   \n",
      "\n",
      "                     dloss     Sload     Dload     Spkts  ...  \\\n",
      "dur               0.087713 -0.014715 -0.022502  0.088082  ...   \n",
      "sbytes            0.051183 -0.020990 -0.006786  0.602840  ...   \n",
      "dbytes            0.991342 -0.069986  0.083811  0.727075  ...   \n",
      "sttl             -0.118656  0.280077 -0.246821 -0.150796  ...   \n",
      "dttl              0.013923 -0.219185 -0.022067  0.046316  ...   \n",
      "sloss             0.153328 -0.068925  0.046725  0.725512  ...   \n",
      "dloss             1.000000 -0.088843  0.108836  0.766469  ...   \n",
      "Sload            -0.088843  1.000000 -0.174604 -0.125043  ...   \n",
      "Dload             0.108836 -0.174604  1.000000  0.167086  ...   \n",
      "Spkts             0.766469 -0.125043  0.167086  1.000000  ...   \n",
      "Dpkts             0.992163 -0.107869  0.119594  0.822581  ...   \n",
      "swin              0.241232 -0.360337  0.421852  0.336472  ...   \n",
      "dwin              0.241901 -0.360744  0.423208  0.337366  ...   \n",
      "stcpb             0.179187 -0.268092  0.314266  0.250518  ...   \n",
      "dtcpb             0.179706 -0.268327  0.315332  0.251013  ...   \n",
      "smeansz          -0.093080  0.057155 -0.195506  0.017434  ...   \n",
      "dmeansz           0.603948 -0.252458  0.569192  0.521821  ...   \n",
      "trans_depth       0.100970 -0.073815 -0.110057  0.038968  ...   \n",
      "res_bdy_len       0.538473 -0.027787  0.010487  0.340799  ...   \n",
      "Sjit              0.026564 -0.029004 -0.050743  0.018082  ...   \n",
      "Djit              0.124371 -0.066104 -0.108745  0.089978  ...   \n",
      "Stime            -0.065051  0.238588 -0.122874 -0.084874  ...   \n",
      "Ltime            -0.065050  0.238588 -0.122875 -0.084873  ...   \n",
      "Sintpkt          -0.018287 -0.020171 -0.039962 -0.025931  ...   \n",
      "Dintpkt          -0.013802 -0.017114 -0.031249 -0.018412  ...   \n",
      "tcprtt           -0.019986 -0.041598 -0.067944 -0.013009  ...   \n",
      "synack           -0.018215 -0.039345 -0.060247 -0.011447  ...   \n",
      "ackdat           -0.018796 -0.037570 -0.065714 -0.012678  ...   \n",
      "is_sm_ips_ports  -0.011735 -0.012665 -0.023594 -0.017184  ...   \n",
      "ct_state_ttl     -0.101161  0.216792 -0.221241 -0.131608  ...   \n",
      "ct_flw_http_mthd  0.059379 -0.027776 -0.159380  0.000293  ...   \n",
      "is_ftp_login     -0.019031 -0.019000 -0.120359  0.025125  ...   \n",
      "ct_srv_src       -0.073004  0.473018 -0.148099 -0.121033  ...   \n",
      "ct_srv_dst       -0.074366  0.478605 -0.172706 -0.125291  ...   \n",
      "ct_dst_ltm       -0.081891  0.428315 -0.216306 -0.130873  ...   \n",
      "ct_src_ ltm      -0.086322  0.418721 -0.194039 -0.132029  ...   \n",
      "ct_src_dport_ltm -0.090517  0.473234 -0.234258 -0.143064  ...   \n",
      "ct_dst_sport_ltm -0.096435  0.489022 -0.235888 -0.147655  ...   \n",
      "ct_dst_src_ltm   -0.106149  0.512990 -0.254661 -0.162039  ...   \n",
      "Label            -0.095855  0.192278 -0.219710 -0.120880  ...   \n",
      "\n",
      "                  ct_flw_http_mthd  is_ftp_login  ct_srv_src  ct_srv_dst  \\\n",
      "dur                       0.012200      0.006280   -0.019276   -0.018429   \n",
      "sbytes                   -0.009958     -0.010147   -0.035114   -0.035152   \n",
      "dbytes                    0.074276     -0.047192   -0.051501   -0.051996   \n",
      "sttl                      0.034540     -0.009498    0.455537    0.458093   \n",
      "dttl                      0.150006      0.067357   -0.301396   -0.308916   \n",
      "sloss                    -0.056225      0.056048   -0.081497   -0.083005   \n",
      "dloss                     0.059379     -0.019031   -0.073004   -0.074366   \n",
      "Sload                    -0.027776     -0.019000    0.473018    0.478605   \n",
      "Dload                    -0.159380     -0.120359   -0.148099   -0.172706   \n",
      "Spkts                     0.000293      0.025125   -0.121033   -0.125291   \n",
      "Dpkts                     0.046956     -0.002317   -0.095422   -0.097160   \n",
      "swin                      0.177070      0.125161   -0.418159   -0.433297   \n",
      "dwin                      0.177396      0.125397   -0.418890   -0.433827   \n",
      "stcpb                     0.120107      0.083971   -0.311964   -0.322969   \n",
      "dtcpb                     0.120019      0.085108   -0.311531   -0.322756   \n",
      "smeansz                  -0.009144     -0.087013   -0.108542   -0.103224   \n",
      "dmeansz                   0.170869     -0.155691   -0.258496   -0.276645   \n",
      "trans_depth               0.552817     -0.061459   -0.145789   -0.142879   \n",
      "res_bdy_len               0.153937     -0.019870   -0.057174   -0.055655   \n",
      "Sjit                      0.219909      0.013380   -0.040877   -0.041725   \n",
      "Djit                      0.424505     -0.024453   -0.103818   -0.102016   \n",
      "Stime                     0.365081      0.714400    0.250316    0.256460   \n",
      "Ltime                     0.365081      0.714400    0.250316    0.256460   \n",
      "Sintpkt                  -0.013262     -0.014426   -0.045122   -0.043139   \n",
      "Dintpkt                  -0.000953     -0.008792   -0.034441   -0.034140   \n",
      "tcprtt                    0.117696      0.037429   -0.066684   -0.071030   \n",
      "synack                    0.109500      0.032750   -0.061559   -0.065622   \n",
      "ackdat                    0.115063      0.037831   -0.061864   -0.065843   \n",
      "is_sm_ips_ports          -0.014348     -0.010007   -0.028152   -0.027263   \n",
      "ct_state_ttl              0.045459      0.002169    0.389281    0.391884   \n",
      "ct_flw_http_mthd          1.000000     -0.029018   -0.115738   -0.117244   \n",
      "is_ftp_login             -0.029018      1.000000   -0.179101   -0.181429   \n",
      "ct_srv_src               -0.115738     -0.179101    1.000000    0.956734   \n",
      "ct_srv_dst               -0.117244     -0.181429    0.956734    1.000000   \n",
      "ct_dst_ltm                0.065091      0.077013    0.836664    0.859895   \n",
      "ct_src_ ltm               0.053139      0.058364    0.840623    0.824682   \n",
      "ct_src_dport_ltm          0.131547     -0.008526    0.869748    0.875945   \n",
      "ct_dst_sport_ltm          0.183806      0.035024    0.840553    0.848829   \n",
      "ct_dst_src_ltm            0.072789      0.190853    0.942175    0.951026   \n",
      "Label                     0.083188      0.031956    0.383007    0.386509   \n",
      "\n",
      "                  ct_dst_ltm  ct_src_ ltm  ct_src_dport_ltm  ct_dst_sport_ltm  \\\n",
      "dur                -0.013797    -0.015871         -0.013103         -0.011308   \n",
      "sbytes             -0.027993    -0.027649         -0.027929         -0.028033   \n",
      "dbytes             -0.060283    -0.065256         -0.066204         -0.072021   \n",
      "sttl                0.394223     0.395481          0.456672          0.478093   \n",
      "dttl               -0.287295    -0.278726         -0.274834         -0.287738   \n",
      "sloss              -0.079277    -0.079066         -0.085481         -0.087456   \n",
      "dloss              -0.081891    -0.086322         -0.090517         -0.096435   \n",
      "Sload               0.428315     0.418721          0.473234          0.489022   \n",
      "Dload              -0.216306    -0.194039         -0.234258         -0.235888   \n",
      "Spkts              -0.130873    -0.132029         -0.143064         -0.147655   \n",
      "Dpkts              -0.103633    -0.107681         -0.114686         -0.121335   \n",
      "swin               -0.405271    -0.391286         -0.448903         -0.472974   \n",
      "dwin               -0.405185    -0.391042         -0.447603         -0.471709   \n",
      "stcpb              -0.301736    -0.291319         -0.333178         -0.351053   \n",
      "dtcpb              -0.301536    -0.290923         -0.333141         -0.351054   \n",
      "smeansz            -0.051622    -0.054563         -0.067797         -0.066259   \n",
      "dmeansz            -0.287030    -0.277770         -0.310898         -0.320428   \n",
      "trans_depth        -0.088696    -0.089559         -0.087678         -0.089314   \n",
      "res_bdy_len        -0.033913    -0.038587         -0.033399         -0.033881   \n",
      "Sjit               -0.033693    -0.035481         -0.029537         -0.030512   \n",
      "Djit               -0.070889    -0.079576         -0.072522         -0.073042   \n",
      "Stime               0.262194     0.254288          0.310778          0.325632   \n",
      "Ltime               0.262194     0.254287          0.310778          0.325632   \n",
      "Sintpkt            -0.037199    -0.041728         -0.023999         -0.020005   \n",
      "Dintpkt            -0.029589    -0.031785         -0.018801         -0.017265   \n",
      "tcprtt             -0.074234    -0.071970         -0.051852         -0.054379   \n",
      "synack             -0.068848    -0.066776         -0.048686         -0.051377   \n",
      "ackdat             -0.068525    -0.066403         -0.047219         -0.049175   \n",
      "is_sm_ips_ports    -0.023742    -0.025930         -0.014259         -0.012635   \n",
      "ct_state_ttl        0.334901     0.336530          0.386013          0.404374   \n",
      "ct_flw_http_mthd    0.065091     0.053139          0.131547          0.183806   \n",
      "is_ftp_login        0.077013     0.058364         -0.008526          0.035024   \n",
      "ct_srv_src          0.836664     0.840623          0.869748          0.840553   \n",
      "ct_srv_dst          0.859895     0.824682          0.875945          0.848829   \n",
      "ct_dst_ltm          1.000000     0.938519          0.960154          0.880201   \n",
      "ct_src_ ltm         0.938519     1.000000          0.945332          0.860270   \n",
      "ct_src_dport_ltm    0.960154     0.945332          1.000000          0.921490   \n",
      "ct_dst_sport_ltm    0.880201     0.860270          0.921490          1.000000   \n",
      "ct_dst_src_ltm      0.876491     0.856802          0.910894          0.890305   \n",
      "Label               0.339464     0.343246          0.396749          0.419056   \n",
      "\n",
      "                  ct_dst_src_ltm     Label  \n",
      "dur                    -0.016087  0.001959  \n",
      "sbytes                 -0.031104  0.010180  \n",
      "dbytes                 -0.079876 -0.075543  \n",
      "sttl                    0.513654  0.904393  \n",
      "dttl                   -0.290141  0.134947  \n",
      "sloss                  -0.094245 -0.043272  \n",
      "dloss                  -0.106149 -0.095855  \n",
      "Sload                   0.512990  0.192278  \n",
      "Dload                  -0.254661 -0.219710  \n",
      "Spkts                  -0.162039 -0.120880  \n",
      "Dpkts                  -0.132464 -0.115947  \n",
      "swin                   -0.481196 -0.315108  \n",
      "dwin                   -0.482250 -0.313920  \n",
      "stcpb                  -0.358885 -0.233422  \n",
      "dtcpb                  -0.358674 -0.233513  \n",
      "smeansz                -0.059979 -0.065363  \n",
      "dmeansz                -0.344835 -0.272397  \n",
      "trans_depth            -0.105898 -0.029041  \n",
      "res_bdy_len            -0.040332 -0.027339  \n",
      "Sjit                   -0.032926  0.020959  \n",
      "Djit                   -0.087301 -0.054420  \n",
      "Stime                   0.366716  0.275660  \n",
      "Ltime                   0.366715  0.275660  \n",
      "Sintpkt                -0.030180 -0.019034  \n",
      "Dintpkt                -0.023721 -0.010632  \n",
      "tcprtt                 -0.049981  0.143109  \n",
      "synack                 -0.046953  0.122253  \n",
      "ackdat                 -0.045489  0.143443  \n",
      "is_sm_ips_ports        -0.018569 -0.015477  \n",
      "ct_state_ttl            0.443649  0.873694  \n",
      "ct_flw_http_mthd        0.072789  0.083188  \n",
      "is_ftp_login            0.190853  0.031956  \n",
      "ct_srv_src              0.942175  0.383007  \n",
      "ct_srv_dst              0.951026  0.386509  \n",
      "ct_dst_ltm              0.876491  0.339464  \n",
      "ct_src_ ltm             0.856802  0.343246  \n",
      "ct_src_dport_ltm        0.910894  0.396749  \n",
      "ct_dst_sport_ltm        0.890305  0.419056  \n",
      "ct_dst_src_ltm          1.000000  0.439916  \n",
      "Label                   0.439916  1.000000  \n",
      "\n",
      "[40 rows x 40 columns]\n"
     ]
    }
   ],
   "source": [
    "correlation_matrix = df.corr()\n",
    "print(correlation_matrix)"
   ]
  },
  {
   "cell_type": "markdown",
   "metadata": {},
   "source": [
    "## Adjust the timestamp values to user readable format"
   ]
  },
  {
   "cell_type": "code",
   "execution_count": 35,
   "metadata": {},
   "outputs": [
    {
     "data": {
      "text/plain": [
       "0          1424231129\n",
       "1          1424231129\n",
       "2          1424231129\n",
       "3          1424231129\n",
       "4          1424231129\n",
       "              ...    \n",
       "2540042    1424262068\n",
       "2540043    1424262068\n",
       "2540044    1424262062\n",
       "2540045    1424262067\n",
       "2540046    1424262068\n",
       "Name: Stime, Length: 2540047, dtype: int64"
      ]
     },
     "execution_count": 35,
     "metadata": {},
     "output_type": "execute_result"
    }
   ],
   "source": [
    "df['Stime']"
   ]
  },
  {
   "cell_type": "markdown",
   "metadata": {},
   "source": [
    "Convert the Unix TimeStamp into interpretable timestamps in Stime and Ltime"
   ]
  },
  {
   "cell_type": "code",
   "execution_count": 4,
   "metadata": {},
   "outputs": [
    {
     "data": {
      "text/plain": [
       "0         2015-02-18 03:45:29\n",
       "1         2015-02-18 03:45:29\n",
       "2         2015-02-18 03:45:29\n",
       "3         2015-02-18 03:45:29\n",
       "4         2015-02-18 03:45:29\n",
       "                  ...        \n",
       "2540042   2015-02-18 12:21:08\n",
       "2540043   2015-02-18 12:21:08\n",
       "2540044   2015-02-18 12:21:02\n",
       "2540045   2015-02-18 12:21:07\n",
       "2540046   2015-02-18 12:21:08\n",
       "Name: StimeTimeStamp, Length: 2540047, dtype: datetime64[ns]"
      ]
     },
     "execution_count": 4,
     "metadata": {},
     "output_type": "execute_result"
    }
   ],
   "source": [
    "df['StimeTimeStamp'] = pd.to_datetime(df['Stime'], unit='s')\n",
    "df['StimeTimeStamp']"
   ]
  },
  {
   "cell_type": "code",
   "execution_count": 5,
   "metadata": {},
   "outputs": [
    {
     "data": {
      "text/plain": [
       "0         2015-02-18 03:45:29\n",
       "1         2015-02-18 03:45:29\n",
       "2         2015-02-18 03:45:29\n",
       "3         2015-02-18 03:45:29\n",
       "4         2015-02-18 03:45:29\n",
       "                  ...        \n",
       "2540042   2015-02-18 12:21:09\n",
       "2540043   2015-02-18 12:21:09\n",
       "2540044   2015-02-18 12:21:09\n",
       "2540045   2015-02-18 12:21:09\n",
       "2540046   2015-02-18 12:21:09\n",
       "Name: LtimeTimeStamp, Length: 2540047, dtype: datetime64[ns]"
      ]
     },
     "execution_count": 5,
     "metadata": {},
     "output_type": "execute_result"
    }
   ],
   "source": [
    "df['LtimeTimeStamp'] = pd.to_datetime(df['Ltime'], unit='s')\n",
    "df['LtimeTimeStamp']"
   ]
  },
  {
   "cell_type": "code",
   "execution_count": 7,
   "metadata": {},
   "outputs": [
    {
     "data": {
      "text/plain": [
       "85348"
      ]
     },
     "execution_count": 7,
     "metadata": {},
     "output_type": "execute_result"
    }
   ],
   "source": [
    "len(df['StimeTimeStamp'].unique())"
   ]
  },
  {
   "cell_type": "code",
   "execution_count": 8,
   "metadata": {},
   "outputs": [
    {
     "data": {
      "text/plain": [
       "85361"
      ]
     },
     "execution_count": 8,
     "metadata": {},
     "output_type": "execute_result"
    }
   ],
   "source": [
    "len(df['LtimeTimeStamp'].unique())"
   ]
  },
  {
   "cell_type": "code",
   "execution_count": 9,
   "metadata": {},
   "outputs": [
    {
     "data": {
      "text/plain": [
       "1"
      ]
     },
     "execution_count": 9,
     "metadata": {},
     "output_type": "execute_result"
    }
   ],
   "source": [
    "# Number of years in the dataset\n",
    "len(df['StimeTimeStamp'].dt.year.unique())"
   ]
  },
  {
   "cell_type": "code",
   "execution_count": 11,
   "metadata": {},
   "outputs": [
    {
     "data": {
      "text/plain": [
       "2"
      ]
     },
     "execution_count": 11,
     "metadata": {},
     "output_type": "execute_result"
    }
   ],
   "source": [
    "#number of months in the dataset    \n",
    "len(df['StimeTimeStamp'].dt.month.unique())"
   ]
  },
  {
   "cell_type": "code",
   "execution_count": 12,
   "metadata": {},
   "outputs": [
    {
     "data": {
      "text/plain": [
       "3"
      ]
     },
     "execution_count": 12,
     "metadata": {},
     "output_type": "execute_result"
    }
   ],
   "source": [
    "#number of days in the dataset\n",
    "len(df['StimeTimeStamp'].dt.day.unique())"
   ]
  }
 ],
 "metadata": {
  "kernelspec": {
   "display_name": "base",
   "language": "python",
   "name": "python3"
  },
  "language_info": {
   "codemirror_mode": {
    "name": "ipython",
    "version": 3
   },
   "file_extension": ".py",
   "mimetype": "text/x-python",
   "name": "python",
   "nbconvert_exporter": "python",
   "pygments_lexer": "ipython3",
   "version": "3.9.12"
  }
 },
 "nbformat": 4,
 "nbformat_minor": 2
}
