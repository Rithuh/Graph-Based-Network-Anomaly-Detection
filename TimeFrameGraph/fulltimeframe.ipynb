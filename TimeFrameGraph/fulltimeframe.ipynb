{
 "cells": [
  {
   "cell_type": "markdown",
   "metadata": {},
   "source": [
    "## Graph Creation"
   ]
  },
  {
   "cell_type": "code",
   "execution_count": 1,
   "metadata": {},
   "outputs": [
    {
     "name": "stderr",
     "output_type": "stream",
     "text": [
      "C:\\Users\\sathi\\AppData\\Local\\Temp\\ipykernel_8568\\2811363826.py:2: DtypeWarning: Columns (1,3,38,46) have mixed types. Specify dtype option on import or set low_memory=False.\n",
      "  df = pd.read_csv(\"D:\\Project Phase II\\Dataset\\cleaneddataset.csv\",encoding='cp1252')\n"
     ]
    }
   ],
   "source": [
    "import pandas as pd\n",
    "df = pd.read_csv(\"D:\\Project Phase II\\Dataset\\cleaneddataset.csv\",encoding='cp1252')\n",
    "df = df.drop_duplicates() \n",
    "df1 = df\n",
    "\n",
    "df1_label_true = df1[df1['Label'] == 1]\n",
    "df1_label_false = df1[df1['Label'] == 0]\n",
    "df1_label_false_grouped = df1_label_false.groupby(['srcip', 'sport', 'dstip', 'dsport']).size().reset_index(name='count')\n",
    "df1_label_true_grouped = df1_label_true.groupby(['srcip', 'sport', 'dstip', 'dsport']).size().reset_index(name='count')\n",
    "df1_grouped = df1.groupby(['srcip', 'sport', 'dstip', 'dsport']).size().reset_index(name='count')\n",
    "\n",
    "import networkx as nx\n",
    "# Create an empty graph\n",
    "attackG_10_4_10_3_10_2_10_1_10_1_10_2_10_1_10_1 = nx.DiGraph()\n",
    "\n",
    "# Add nodes to the graph\n",
    "for i in range(len(df1_label_true_grouped)):\n",
    "    src_node = str(df1_label_true_grouped['srcip'][i]) + ':' + str(df1_label_true_grouped['sport'][i])\n",
    "    dst_node = str(df1_label_true_grouped['dstip'][i]) + ':' + str(df1_label_true_grouped['dsport'][i])\n",
    "    attackG_10_4_10_3_10_2_10_1_10_1_10_2_10_1_10_1.add_node(src_node)\n",
    "    attackG_10_4_10_3_10_2_10_1_10_1_10_2_10_1_10_1.add_node(dst_node)\n",
    "\n",
    "# Add edges to the graph with edge weight as count\n",
    "for i in range(len(df1_label_true_grouped)):\n",
    "    src_node = str(df1_label_true_grouped['srcip'][i]) + ':' + str(df1_label_true_grouped['sport'][i])\n",
    "    dst_node = str(df1_label_true_grouped['dstip'][i]) + ':' + str(df1_label_true_grouped['dsport'][i])\n",
    "    edge_weight = df1_label_true_grouped['count'][i]\n",
    "    attackG_10_4_10_3_10_2_10_1_10_1_10_2_10_1_10_1.add_edge(src_node, dst_node, weight=edge_weight)\n",
    "\n",
    "\n",
    "import networkx as nx\n",
    "# Create an empty graph\n",
    "nonattackG_10_4_10_3_10_2_10_1_10_1_10_2_10_1_10_1 = nx.DiGraph()\n",
    "\n",
    "# Add nodes to the graph\n",
    "for i in range(len(df1_label_false_grouped)):\n",
    "    src_node = str(df1_label_false_grouped['srcip'][i]) + ':' + str(df1_label_false_grouped['sport'][i])\n",
    "    dst_node = str(df1_label_false_grouped['dstip'][i]) + ':' + str(df1_label_false_grouped['dsport'][i])\n",
    "    nonattackG_10_4_10_3_10_2_10_1_10_1_10_2_10_1_10_1.add_node(src_node)\n",
    "    nonattackG_10_4_10_3_10_2_10_1_10_1_10_2_10_1_10_1.add_node(dst_node)\n",
    "\n",
    "# Add edges to the graph with edge weight as count\n",
    "for i in range(len(df1_label_false_grouped)):\n",
    "    src_node = str(df1_label_false_grouped['srcip'][i]) + ':' + str(df1_label_false_grouped['sport'][i])\n",
    "    dst_node = str(df1_label_false_grouped['dstip'][i]) + ':' + str(df1_label_false_grouped['dsport'][i])\n",
    "    edge_weight = df1_label_false_grouped['count'][i]\n",
    "    nonattackG_10_4_10_3_10_2_10_1_10_1_10_2_10_1_10_1.add_edge(src_node, dst_node, weight=edge_weight)\n",
    "\n",
    "import networkx as nx\n",
    "# Create an empty graph\n",
    "overallG_10_4_10_3_10_2_10_1_10_2_10_1 = nx.DiGraph()\n",
    "\n",
    "# Add nodes to the graph\n",
    "for i in range(len(df1_grouped)):\n",
    "    src_node = str(df1_grouped['srcip'][i]) + ':' + str(df1_grouped['sport'][i])\n",
    "    dst_node = str(df1_grouped['dstip'][i]) + ':' + str(df1_grouped['dsport'][i])\n",
    "    overallG_10_4_10_3_10_2_10_1_10_2_10_1.add_node(src_node)\n",
    "    overallG_10_4_10_3_10_2_10_1_10_2_10_1.add_node(dst_node)\n",
    "\n",
    "# Add edges to the graph with edge weight as count\n",
    "for i in range(len(df1_grouped)):\n",
    "    src_node = str(df1_grouped['srcip'][i]) + ':' + str(df1_grouped['sport'][i])\n",
    "    dst_node = str(df1_grouped['dstip'][i]) + ':' + str(df1_grouped['dsport'][i])\n",
    "    edge_weight = df1_grouped['count'][i]\n",
    "    overallG_10_4_10_3_10_2_10_1_10_2_10_1.add_edge(src_node, dst_node, weight=edge_weight)\n"
   ]
  },
  {
   "cell_type": "code",
   "execution_count": 2,
   "metadata": {},
   "outputs": [
    {
     "name": "stdout",
     "output_type": "stream",
     "text": [
      "Number of nodes in the attack graph:  62379\n",
      "Number of edges in the attack graph:  65640\n",
      "Number of nodes in the non-attack graph:  1058341\n"
     ]
    },
    {
     "name": "stdout",
     "output_type": "stream",
     "text": [
      "Number of edges in the non-attack graph:  1890654\n",
      "Number of nodes in the overall graph:  1112279\n",
      "Number of edges in the overall graph:  1956252\n"
     ]
    }
   ],
   "source": [
    "#print the number of nodes and edges in the graph\n",
    "print(\"Number of nodes in the attack graph: \", attackG_10_4_10_3_10_2_10_1_10_1_10_2_10_1_10_1.number_of_nodes())\n",
    "print(\"Number of edges in the attack graph: \", attackG_10_4_10_3_10_2_10_1_10_1_10_2_10_1_10_1.number_of_edges())\n",
    "print(\"Number of nodes in the non-attack graph: \", nonattackG_10_4_10_3_10_2_10_1_10_1_10_2_10_1_10_1.number_of_nodes())\n",
    "print(\"Number of edges in the non-attack graph: \", nonattackG_10_4_10_3_10_2_10_1_10_1_10_2_10_1_10_1.number_of_edges())\n",
    "print(\"Number of nodes in the overall graph: \", overallG_10_4_10_3_10_2_10_1_10_2_10_1.number_of_nodes())\n",
    "print(\"Number of edges in the overall graph: \", overallG_10_4_10_3_10_2_10_1_10_2_10_1.number_of_edges())"
   ]
  },
  {
   "cell_type": "code",
   "execution_count": 4,
   "metadata": {},
   "outputs": [],
   "source": [
    "#Convert to gephi file format latest version\n",
    "\n",
    "nx.write_gexf(attackG_10_4_10_3_10_2_10_1_10_1_10_2_10_1_10_1, r\"D:\\Project Phase II\\Graphs\\attackG.gexf\")\n",
    "nx.write_gexf(nonattackG_10_4_10_3_10_2_10_1_10_1_10_2_10_1_10_1, r\"D:\\Project Phase II\\Graphs\\nonattackG1.gexf\")\n",
    "nx.write_gexf(overallG_10_4_10_3_10_2_10_1_10_2_10_1, r\"D:\\Project Phase II\\Graphs\\overallG.gexf\")"
   ]
  },
  {
   "cell_type": "code",
   "execution_count": 3,
   "metadata": {},
   "outputs": [],
   "source": [
    "# Function to calculate diameter for a graph\n",
    "def calculate_diameter(G):\n",
    "    try:\n",
    "        if nx.is_directed(G):\n",
    "            # If the graph is directed, we find the largest weakly connected component\n",
    "            largest_component = max(nx.weakly_connected_components(G), key=len)\n",
    "            largest_component_subgraph = G.subgraph(largest_component)\n",
    "        else:\n",
    "            # For undirected graphs, we find the largest connected component\n",
    "            largest_component = max(nx.connected_components(G), key=len)\n",
    "            largest_component_subgraph = G.subgraph(largest_component)\n",
    "        \n",
    "        # Calculate the diameter of the largest component\n",
    "        diameter = nx.diameter(largest_component_subgraph)\n",
    "    except nx.NetworkXError:\n",
    "        diameter = None\n",
    "    return diameter\n",
    "\n",
    "# Function to calculate reciprocity with error handling\n",
    "def calculate_reciprocity(G):\n",
    "    try:\n",
    "        # Check if the graph is empty\n",
    "        if len(G) == 0:\n",
    "            return None  # Return None if the graph is empty\n",
    "        \n",
    "        # Calculate reciprocity\n",
    "        reciprocity = nx.reciprocity(G)\n",
    "    except nx.NetworkXError:\n",
    "        reciprocity = None  \n",
    "    return reciprocity\n",
    "\n",
    "# Function to detect communities using the greedy modularity algorithm\n",
    "def detect_communities(G):\n",
    "    try:\n",
    "        # Check if the graph has edges\n",
    "        if G.size() == 0:\n",
    "            return 0  # Return 0 communities if the graph is empty\n",
    "        \n",
    "        # Detect communities using the greedy modularity algorithm\n",
    "        communities = list(nx.algorithms.community.greedy_modularity_communities(G))\n",
    "        num_communities = len(communities)\n",
    "    except ZeroDivisionError:\n",
    "        num_communities = 0  # Return 0 communities if a division by zero error occurs\n",
    "    return num_communities"
   ]
  },
  {
   "cell_type": "markdown",
   "metadata": {},
   "source": [
    "## Attack Graph"
   ]
  },
  {
   "cell_type": "code",
   "execution_count": 4,
   "metadata": {},
   "outputs": [
    {
     "name": "stdout",
     "output_type": "stream",
     "text": [
      "Assortativity coefficient for attack graph: -0.05684747733231309\n",
      "Average betweenness centrality for attack graph: 0.0\n"
     ]
    }
   ],
   "source": [
    "assortativity_attack = nx.degree_assortativity_coefficient(attackG_10_4_10_3_10_2_10_1_10_1_10_2_10_1_10_1)\n",
    "print(\"Assortativity coefficient for attack graph:\", assortativity_attack)\n",
    "\n",
    "avg_betweenness_attack = sum(nx.betweenness_centrality(attackG_10_4_10_3_10_2_10_1_10_1_10_2_10_1_10_1).values()) / len(attackG_10_4_10_3_10_2_10_1_10_1_10_2_10_1_10_1)\n",
    "print(\"Average betweenness centrality for attack graph:\", avg_betweenness_attack)"
   ]
  },
  {
   "cell_type": "code",
   "execution_count": 5,
   "metadata": {},
   "outputs": [
    {
     "name": "stdout",
     "output_type": "stream",
     "text": [
      "Average closeness centrality for attack graph: 1.6869364338006248e-05\n"
     ]
    }
   ],
   "source": [
    "avg_closeness_attack = sum(nx.closeness_centrality(attackG_10_4_10_3_10_2_10_1_10_1_10_2_10_1_10_1).values()) / len(attackG_10_4_10_3_10_2_10_1_10_1_10_2_10_1_10_1)\n",
    "print(\"Average closeness centrality for attack graph:\", avg_closeness_attack)"
   ]
  },
  {
   "cell_type": "code",
   "execution_count": 6,
   "metadata": {},
   "outputs": [
    {
     "name": "stdout",
     "output_type": "stream",
     "text": [
      "Average clustering coefficient for attack graph: 0.0\n"
     ]
    }
   ],
   "source": [
    "avg_clustering_attack = nx.average_clustering(attackG_10_4_10_3_10_2_10_1_10_1_10_2_10_1_10_1)\n",
    "print(\"Average clustering coefficient for attack graph:\", avg_clustering_attack)"
   ]
  },
  {
   "cell_type": "code",
   "execution_count": 7,
   "metadata": {},
   "outputs": [
    {
     "name": "stdout",
     "output_type": "stream",
     "text": [
      "Average degree for attack graph: 2.1045544173519937\n"
     ]
    }
   ],
   "source": [
    "avg_degree_attack = sum(dict(attackG_10_4_10_3_10_2_10_1_10_1_10_2_10_1_10_1.degree()).values()) / len(attackG_10_4_10_3_10_2_10_1_10_1_10_2_10_1_10_1)\n",
    "print(\"Average degree for attack graph:\", avg_degree_attack)"
   ]
  },
  {
   "cell_type": "code",
   "execution_count": 8,
   "metadata": {},
   "outputs": [
    {
     "name": "stdout",
     "output_type": "stream",
     "text": [
      "Average degree centrality for attack graph: 3.3738728676048775e-05\n"
     ]
    }
   ],
   "source": [
    "avg_degree_centrality_attack = sum(nx.degree_centrality(attackG_10_4_10_3_10_2_10_1_10_1_10_2_10_1_10_1).values()) / len(attackG_10_4_10_3_10_2_10_1_10_1_10_2_10_1_10_1)\n",
    "print(\"Average degree centrality for attack graph:\", avg_degree_centrality_attack)"
   ]
  },
  {
   "cell_type": "code",
   "execution_count": 9,
   "metadata": {},
   "outputs": [
    {
     "name": "stdout",
     "output_type": "stream",
     "text": [
      "Average eigenvector centrality for attack graph: 5.835951891846345e-07\n"
     ]
    }
   ],
   "source": [
    "avg_eigenvector_attack = sum(nx.eigenvector_centrality_numpy(attackG_10_4_10_3_10_2_10_1_10_1_10_2_10_1_10_1).values()) / len(attackG_10_4_10_3_10_2_10_1_10_1_10_2_10_1_10_1)\n",
    "print(\"Average eigenvector centrality for attack graph:\", avg_eigenvector_attack)"
   ]
  },
  {
   "cell_type": "code",
   "execution_count": 10,
   "metadata": {},
   "outputs": [
    {
     "name": "stdout",
     "output_type": "stream",
     "text": [
      "Average in-degree for attack graph: 1.0522772086759968\n",
      "Average out-degree for attack graph: 1.0522772086759968\n"
     ]
    }
   ],
   "source": [
    "avg_in_degree_attack = sum(dict(attackG_10_4_10_3_10_2_10_1_10_1_10_2_10_1_10_1.in_degree()).values()) / len(attackG_10_4_10_3_10_2_10_1_10_1_10_2_10_1_10_1)\n",
    "print(\"Average in-degree for attack graph:\", avg_in_degree_attack)\n",
    "\n",
    "avg_out_degree_attack = sum(dict(attackG_10_4_10_3_10_2_10_1_10_1_10_2_10_1_10_1.out_degree()).values()) / len(attackG_10_4_10_3_10_2_10_1_10_1_10_2_10_1_10_1)\n",
    "print(\"Average out-degree for attack graph:\", avg_out_degree_attack)"
   ]
  },
  {
   "cell_type": "code",
   "execution_count": 11,
   "metadata": {},
   "outputs": [
    {
     "name": "stdout",
     "output_type": "stream",
     "text": [
      "Average PageRank score for attack graph: 1.6031036085818757e-05\n"
     ]
    }
   ],
   "source": [
    "avg_pagerank_attack = sum(nx.pagerank(attackG_10_4_10_3_10_2_10_1_10_1_10_2_10_1_10_1).values()) / len(attackG_10_4_10_3_10_2_10_1_10_1_10_2_10_1_10_1)\n",
    "print(\"Average PageRank score for attack graph:\", avg_pagerank_attack)"
   ]
  },
  {
   "cell_type": "code",
   "execution_count": 12,
   "metadata": {},
   "outputs": [
    {
     "name": "stdout",
     "output_type": "stream",
     "text": [
      "Average shortest path length for attack graph: None\n"
     ]
    }
   ],
   "source": [
    "avg_shortest_path_attack = calculate_diameter(attackG_10_4_10_3_10_2_10_1_10_1_10_2_10_1_10_1)\n",
    "print(\"Average shortest path length for attack graph:\", avg_shortest_path_attack)\n"
   ]
  },
  {
   "cell_type": "code",
   "execution_count": 13,
   "metadata": {},
   "outputs": [
    {
     "name": "stdout",
     "output_type": "stream",
     "text": [
      "Density for attack graph: 1.686936433800373e-05\n"
     ]
    }
   ],
   "source": [
    "density_attack = nx.density(attackG_10_4_10_3_10_2_10_1_10_1_10_2_10_1_10_1)\n",
    "print(\"Density for attack graph:\", density_attack)"
   ]
  },
  {
   "cell_type": "code",
   "execution_count": 14,
   "metadata": {},
   "outputs": [
    {
     "name": "stdout",
     "output_type": "stream",
     "text": [
      "Diameter for attack graph: None\n"
     ]
    }
   ],
   "source": [
    "diameter_attack = calculate_diameter(attackG_10_4_10_3_10_2_10_1_10_1_10_2_10_1_10_1)\n",
    "print(\"Diameter for attack graph:\", diameter_attack)"
   ]
  },
  {
   "cell_type": "code",
   "execution_count": 15,
   "metadata": {},
   "outputs": [
    {
     "name": "stdout",
     "output_type": "stream",
     "text": [
      "Number of communities detected using Louvain algorithm for attack graph: 3512\n"
     ]
    }
   ],
   "source": [
    "num_louvain_attack = detect_communities(attackG_10_4_10_3_10_2_10_1_10_1_10_2_10_1_10_1)\n",
    "print(\"Number of communities detected using Louvain algorithm for attack graph:\", num_louvain_attack)"
   ]
  },
  {
   "cell_type": "code",
   "execution_count": 16,
   "metadata": {},
   "outputs": [
    {
     "name": "stdout",
     "output_type": "stream",
     "text": [
      "Number of strongly connected components for attack graph: 62379\n",
      "Number of weakly connected components for attack graph: 3421\n"
     ]
    }
   ],
   "source": [
    "num_strongly_connected_attack = nx.number_strongly_connected_components(attackG_10_4_10_3_10_2_10_1_10_1_10_2_10_1_10_1)\n",
    "print(\"Number of strongly connected components for attack graph:\", num_strongly_connected_attack)\n",
    "\n",
    "num_weakly_connected_attack = nx.number_weakly_connected_components(attackG_10_4_10_3_10_2_10_1_10_1_10_2_10_1_10_1)\n",
    "print(\"Number of weakly connected components for attack graph:\", num_weakly_connected_attack)"
   ]
  },
  {
   "cell_type": "code",
   "execution_count": 17,
   "metadata": {},
   "outputs": [
    {
     "name": "stdout",
     "output_type": "stream",
     "text": [
      "Reciprocity for attack graph: 0.0\n"
     ]
    }
   ],
   "source": [
    "reciprocity_attack = calculate_reciprocity(attackG_10_4_10_3_10_2_10_1_10_1_10_2_10_1_10_1)\n",
    "print(\"Reciprocity for attack graph:\", reciprocity_attack)"
   ]
  }
 ],
 "metadata": {
  "kernelspec": {
   "display_name": "base",
   "language": "python",
   "name": "python3"
  },
  "language_info": {
   "codemirror_mode": {
    "name": "ipython",
    "version": 3
   },
   "file_extension": ".py",
   "mimetype": "text/x-python",
   "name": "python",
   "nbconvert_exporter": "python",
   "pygments_lexer": "ipython3",
   "version": "3.11.7"
  }
 },
 "nbformat": 4,
 "nbformat_minor": 2
}
