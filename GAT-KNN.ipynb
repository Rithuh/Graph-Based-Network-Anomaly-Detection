{
 "cells": [
  {
   "cell_type": "markdown",
   "metadata": {},
   "source": [
    "# Libraries"
   ]
  },
  {
   "cell_type": "code",
   "execution_count": 11,
   "metadata": {},
   "outputs": [],
   "source": [
    "import pandas as pd\n",
    "import numpy as np\n",
    "import matplotlib.pyplot as plt\n",
    "import seaborn as sns\n",
    "from sklearn.model_selection import train_test_split\n",
    "from sklearn.preprocessing import StandardScaler\n",
    "\n",
    "from sklearn.metrics import accuracy_score\n",
    "from sklearn.metrics import f1_score\n",
    "from sklearn.metrics import confusion_matrix\n",
    "from sklearn.metrics import classification_report\n",
    "from sklearn.metrics import precision_score\n",
    "from sklearn.model_selection import cross_validate\n",
    "from sklearn.model_selection import cross_val_predict\n",
    "\n",
    "from sklearn.neighbors import KNeighborsClassifier\n",
    "from sklearn.linear_model import LogisticRegression\n",
    "from sklearn.ensemble import RandomForestClassifier\n",
    "from sklearn.tree import DecisionTreeClassifier\n",
    "from sklearn.naive_bayes import GaussianNB\n",
    "from sklearn.ensemble import BaggingClassifier\n",
    "from sklearn.svm import SVC\n",
    "from sklearn.ensemble import StackingClassifier\n",
    "\n",
    "import torch\n",
    "import torch.nn as nn\n",
    "import torch.nn.functional as F\n",
    "from torch_geometric.nn import GATConv\n"
   ]
  },
  {
   "cell_type": "markdown",
   "metadata": {},
   "source": [
    "# Dataset Loading"
   ]
  },
  {
   "cell_type": "code",
   "execution_count": 5,
   "metadata": {},
   "outputs": [
    {
     "name": "stderr",
     "output_type": "stream",
     "text": [
      "C:\\Users\\sathi\\AppData\\Local\\Temp\\ipykernel_14884\\3389183221.py:1: DtypeWarning: Columns (46) have mixed types. Specify dtype option on import or set low_memory=False.\n",
      "  train = pd.read_csv(r'D:\\Project Phase II\\Dataset\\finaltrain.csv',encoding='cp1252')\n",
      "C:\\Users\\sathi\\AppData\\Local\\Temp\\ipykernel_14884\\3389183221.py:2: DtypeWarning: Columns (46) have mixed types. Specify dtype option on import or set low_memory=False.\n",
      "  test = pd.read_csv(r'D:\\Project Phase II\\Dataset\\finaltest.csv',encoding='cp1252') #test_set1\n"
     ]
    }
   ],
   "source": [
    "train = pd.read_csv(r'D:\\Project Phase II\\Dataset\\finaltrain.csv',encoding='cp1252')\n",
    "test = pd.read_csv(r'D:\\Project Phase II\\Dataset\\finaltest.csv',encoding='cp1252') #test_set1 \n",
    "autest = pd.read_csv(r'D:\\Project Phase II\\Dataset\\UNSW_NB15_testing-set.csv',encoding='cp1252') #test_set2"
   ]
  },
  {
   "cell_type": "markdown",
   "metadata": {},
   "source": [
    "# Data Preprocessing"
   ]
  },
  {
   "cell_type": "markdown",
   "metadata": {},
   "source": [
    "## Preprocess user-made train-test datasets"
   ]
  },
  {
   "cell_type": "code",
   "execution_count": 6,
   "metadata": {},
   "outputs": [],
   "source": [
    "todrop = ['sloss', 'dloss','stcpb', 'dtcpb', 'trans_depth', 'Stime', 'Ltime','ct_flw_http_mthd', \n",
    "        'is_ftp_login', 'ct_ftp_cmd', 'ct_srv_src', 'ct_srv_dst', 'ct_dst_ltm', 'ct_src_ ltm',\n",
    "        'ct_src_dport_ltm', 'ct_dst_sport_ltm', 'ct_dst_src_ltm', 'attack_cat']\n",
    "        \n",
    "reducedTrain = train.drop(todrop, axis = 1)\n",
    "reducedTest = test.drop(todrop, axis = 1)\n",
    "reducedTrain = reducedTrain.drop_duplicates()\n",
    "reducedTest = reducedTest.drop_duplicates()\n",
    "\n",
    "trainAttributes = reducedTrain.drop(['srcip','sport','dstip','dsport','Label'], axis = 1)\n",
    "trainLabel = reducedTrain['Label']\n",
    "testAttributes = reducedTest.drop(['srcip','sport','dstip','dsport','Label'], axis = 1)\n",
    "testLabel = reducedTest['Label']\n",
    "\n",
    "train = reducedTrain\n",
    "test = reducedTest\n",
    "\n",
    "train = train.drop_duplicates(['srcip','sport', 'dstip', 'dsport'], keep = 'last')\n",
    "test = test.drop_duplicates(['srcip','sport', 'dstip', 'dsport'], keep = 'last')"
   ]
  },
  {
   "cell_type": "code",
   "execution_count": 7,
   "metadata": {},
   "outputs": [
    {
     "name": "stdout",
     "output_type": "stream",
     "text": [
      "Train Set:\n",
      " Label\n",
      "0    39990\n",
      "1    39821\n",
      "Name: count, dtype: int64\n",
      "Test Set:\n",
      " Label\n",
      "1    17217\n",
      "0    17201\n",
      "Name: count, dtype: int64\n"
     ]
    }
   ],
   "source": [
    "print(\"Train Set:\\n\",train.Label.value_counts())\n",
    "print(\"Test Set:\\n\", test.Label.value_counts())"
   ]
  },
  {
   "cell_type": "markdown",
   "metadata": {},
   "source": [
    "## Preprocess Author's testing dataset"
   ]
  },
  {
   "cell_type": "code",
   "execution_count": 8,
   "metadata": {},
   "outputs": [],
   "source": [
    "autestdrop = ['ï»¿id', 'rate', 'sloss', 'dloss','stcpb', 'dtcpb','trans_depth','ct_srv_src','ct_dst_ltm',\n",
    "        'ct_src_dport_ltm', 'ct_dst_sport_ltm', 'ct_dst_src_ltm',\n",
    "        'is_ftp_login', 'ct_ftp_cmd', 'ct_flw_http_mthd', 'ct_src_ltm',\n",
    "        'ct_srv_dst', 'is_sm_ips_ports', 'attack_cat']\n",
    "\n",
    "autest = autest.drop(autestdrop, axis = 1)\n",
    "#Change column names of autest\n",
    "autest.rename(columns={'dinpkt':'Dintpkt','djit':'Djit','dload':'Dload','dpkts':'Dpkts','label':'Label','sinpkt':'Sintpkt','sjit':'Sjit', 'sload':'Sload', 'spkts':'Spkts','dmean':'dmeansz','response_body_len':'res_bdy_len', 'smean':'smeansz'}, inplace=True)\n",
    "autest = autest[(autest['proto']=='tcp') | (autest['proto']=='udp') | (autest['proto']=='ospf')]\n",
    "autest = autest[(autest['service']=='ssh') | (autest['service']=='ftp-data ')  | (autest['service']=='ftp') | (autest['service']=='-') | (autest['service']=='dns') | (autest['service']=='smtp') | (autest['service']=='http') | (autest['service']=='radius') | (autest['service']=='pop3') ]\n",
    "autest = autest[(autest['state'] == 'CON') | (autest['state'] == 'RST') | (autest['state'] == 'FIN') | (autest['state'] == 'ACC') | (autest['state'] == 'REQ') | (autest['state'] == 'INT')]\n",
    "\n",
    "autest['proto'].replace(\"tcp\", 0, inplace = True)\n",
    "autest['proto'].replace(\"udp\", 1, inplace = True)\n",
    "autest['proto'].replace(\"ospf\", 2, inplace = True)\n",
    "\n",
    "autest['service'].replace(\"ssh\", 0, inplace = True)\n",
    "autest['service'].replace(\"ftp-data\", 1, inplace = True)\n",
    "autest['service'].replace(\"ftp\", 2, inplace = True)\n",
    "autest['service'].replace(\"-\", 3, inplace = True)\n",
    "autest['service'].replace(\"dns\", 4, inplace = True)\n",
    "autest['service'].replace(\"smtp\", 5, inplace = True)\n",
    "autest['service'].replace(\"http\", 6, inplace = True)\n",
    "autest['service'].replace(\"radius\", 7, inplace = True)\n",
    "autest['service'].replace(\"pop3\", 8, inplace = True)\n",
    "\n",
    "autest['state'].replace(\"CON\", 0, inplace = True)\n",
    "autest['state'].replace(\"RST\", 1, inplace = True)\n",
    "autest['state'].replace(\"FIN\", 2, inplace = True)\n",
    "autest['state'].replace(\"ACC\", 3, inplace = True)\n",
    "autest['state'].replace(\"REQ\", 4, inplace = True)\n",
    "autest['state'].replace(\"INT\", 5, inplace = True)\n",
    "\n",
    "for column in autest.columns:\n",
    "        if column != 'Label':\n",
    "                col_mean = sum(autest[column]) / len(autest[column])\n",
    "                col_std = (sum((x - col_mean) ** 2 for x in autest[column]) / len(autest[column])) ** 0.5\n",
    "                autest[column] = [(x - col_mean) / col_std for x in autest[column]]\n",
    "\n",
    "\n",
    "autest = autest.drop_duplicates()\n",
    "autestAttributes = autest.drop(['Label'], axis = 1)\n",
    "autestAttributes = autestAttributes[trainAttributes.columns]\n",
    "autestLabel = autest['Label']"
   ]
  },
  {
   "cell_type": "code",
   "execution_count": 59,
   "metadata": {},
   "outputs": [
    {
     "name": "stdout",
     "output_type": "stream",
     "text": [
      "Author's Testing Set:\n",
      " Label\n",
      "0    29673\n",
      "1    14973\n",
      "Name: count, dtype: int64\n"
     ]
    }
   ],
   "source": [
    "print(\"Author's Testing Set:\\n\", autest.Label.value_counts())"
   ]
  },
  {
   "cell_type": "markdown",
   "metadata": {},
   "source": [
    "# Input Transformation"
   ]
  },
  {
   "cell_type": "markdown",
   "metadata": {},
   "source": [
    "## Training"
   ]
  },
  {
   "cell_type": "code",
   "execution_count": 9,
   "metadata": {},
   "outputs": [],
   "source": [
    "nodes = set()\n",
    "trainUnique = train\n",
    "for i in range(len(train)):\n",
    "    src = str(train['srcip'].iloc[i])+':'+str(train['sport'].iloc[i])\n",
    "    dst = str(train['dstip'].iloc[i])+':'+str(train['dsport'].iloc[i])\n",
    "    nodes.add(src)\n",
    "    nodes.add(dst)\n",
    "\n",
    "\n",
    "#Find unique (srcip,sport,dstip,dsport) tuples in train\n",
    "train_tuples = set()\n",
    "for i in range(len(train)):\n",
    "    train_tuples.add((train['srcip'].iloc[i], train['sport'].iloc[i], train['dstip'].iloc[i], train['dsport'].iloc[i]))"
   ]
  },
  {
   "cell_type": "code",
   "execution_count": 12,
   "metadata": {},
   "outputs": [
    {
     "name": "stdout",
     "output_type": "stream",
     "text": [
      "torch.Size([94760, 1]) torch.Size([2, 79811]) torch.Size([79811, 25])\n"
     ]
    }
   ],
   "source": [
    "xLookUp = {}\n",
    "x = []\n",
    "count = 0\n",
    "edge_index = []\n",
    "edge_attr = []\n",
    "for i in range(len(train)):\n",
    "    src = str(train['srcip'].iloc[i])+':'+str(train['sport'].iloc[i])\n",
    "    dst = str(train['dstip'].iloc[i])+':'+str(train['dsport'].iloc[i])\n",
    "    if src not in xLookUp:\n",
    "        xLookUp[src] = count\n",
    "        x.append([int(train['sport'].iloc[i])])\n",
    "        count += 1\n",
    "    if dst not in xLookUp:\n",
    "        xLookUp[dst] = count\n",
    "        x.append([int(train['dsport'].iloc[i])])\n",
    "        count += 1\n",
    "    edge_index.append([xLookUp[src], xLookUp[dst]])\n",
    "    edge_attr.append(list(train.iloc[i].drop(['srcip', 'sport', 'dstip', 'dsport','Label']).values))\n",
    "\n",
    "\n",
    "# Convert x to tensor\n",
    "x_tensor = torch.tensor(x, dtype=torch.float)\n",
    "\n",
    "# Convert edge_index to tensor\n",
    "edge_index_tensor = torch.tensor(edge_index, dtype=torch.long).t()  # Transpose for correct format\n",
    "\n",
    "# Convert edge_attr to tensor\n",
    "edge_attr_tensor = torch.tensor(edge_attr, dtype=torch.float)\n",
    "\n",
    "print(x_tensor.shape, edge_index_tensor.shape, edge_attr_tensor.shape)"
   ]
  },
  {
   "cell_type": "markdown",
   "metadata": {},
   "source": [
    "## Testing"
   ]
  },
  {
   "cell_type": "code",
   "execution_count": 13,
   "metadata": {},
   "outputs": [],
   "source": [
    "testnodes = set()\n",
    "testUnique = test\n",
    "for i in range(len(test)):\n",
    "    src = str(test['srcip'].iloc[i])+':'+str(test['sport'].iloc[i])\n",
    "    dst = str(test['dstip'].iloc[i])+':'+str(test['dsport'].iloc[i])\n",
    "    testnodes.add(src)\n",
    "    testnodes.add(dst)\n",
    "\n",
    "\n",
    "#Find unique (srcip,sport,dstip,dsport) tuples in train\n",
    "test_tuples = set()\n",
    "for i in range(len(test)):\n",
    "    test_tuples.add((test['srcip'].iloc[i], test['sport'].iloc[i], test['dstip'].iloc[i], test['dsport'].iloc[i]))"
   ]
  },
  {
   "cell_type": "code",
   "execution_count": 14,
   "metadata": {},
   "outputs": [
    {
     "name": "stdout",
     "output_type": "stream",
     "text": [
      "torch.Size([42412, 1]) torch.Size([2, 34418]) torch.Size([34418, 25])\n"
     ]
    }
   ],
   "source": [
    "xtestLookUp = {}\n",
    "xtest = []\n",
    "count = 0\n",
    "edge_index_test = []\n",
    "edge_attr_test = []\n",
    "for i in range(len(test)):\n",
    "    src = str(test['srcip'].iloc[i])+':'+str(test['sport'].iloc[i])\n",
    "    dst = str(test['dstip'].iloc[i])+':'+str(test['dsport'].iloc[i])\n",
    "    if src not in xtestLookUp:\n",
    "        xtestLookUp[src] = count\n",
    "        xtest.append([int(test['sport'].iloc[i])])\n",
    "        count += 1\n",
    "    if dst not in xtestLookUp:\n",
    "        xtestLookUp[dst] = count\n",
    "        xtest.append([int(test['dsport'].iloc[i])])\n",
    "        count += 1\n",
    "    edge_index_test.append([xtestLookUp[src], xtestLookUp[dst]])\n",
    "    edge_attr_test.append(list(test.iloc[i].drop(['srcip', 'sport', 'dstip', 'dsport','Label']).values))\n",
    "\n",
    "\n",
    "# Convert x to tensor\n",
    "x_test_tensor = torch.tensor(xtest, dtype=torch.float)\n",
    "\n",
    "# Convert edge_index to tensor\n",
    "edge_index_test_tensor = torch.tensor(edge_index_test, dtype=torch.long).t()  # Transpose for correct format\n",
    "\n",
    "# Convert edge_attr to tensor\n",
    "edge_attr_test_tensor = torch.tensor(edge_attr_test, dtype=torch.float)\n",
    "\n",
    "print(x_test_tensor.shape, edge_index_test_tensor.shape, edge_attr_test_tensor.shape)"
   ]
  },
  {
   "cell_type": "markdown",
   "metadata": {},
   "source": [
    "## Author's Testing Dataset"
   ]
  },
  {
   "cell_type": "markdown",
   "metadata": {},
   "source": [
    "Since srcip, sport, dstip, dsport information is not available, we proceed with having each node feature value as 0, and assume each edge as an unique connection between two imaginary nodes"
   ]
  },
  {
   "cell_type": "code",
   "execution_count": 72,
   "metadata": {},
   "outputs": [
    {
     "name": "stdout",
     "output_type": "stream",
     "text": [
      "torch.Size([44521, 1]) torch.Size([2, 44520]) torch.Size([44520, 25])\n"
     ]
    }
   ],
   "source": [
    "n_autestnodes = int(len(autest) ** 0.5)\n",
    "n_autest_tuples = n_autestnodes ** 2\n",
    "\n",
    "xautest = [[0] for j in range(n_autest_tuples)]\n",
    "edge_index_autest = []\n",
    "edge_attr_autest = []\n",
    "auEdgeLabel = []\n",
    "count = 0\n",
    "for i in range(n_autestnodes):\n",
    "    for j in range(n_autestnodes):\n",
    "        if(i == count):\n",
    "            count += 1\n",
    "            continue\n",
    "        edge_index_autest.append([i, count])\n",
    "        edge_attr_autest.append(list(autest.iloc[count].drop(['Label']).values))\n",
    "        count += 1\n",
    "        auEdgeLabel.append(autest.iloc[count].Label)\n",
    "        \n",
    "\n",
    "# Convert x to tensor\n",
    "x_autest_tensor = torch.tensor(xautest, dtype=torch.float)\n",
    "\n",
    "# Convert edge_index to tensor\n",
    "edge_index_autest_tensor = torch.tensor(edge_index_autest, dtype=torch.long).t()  # Transpose for correct format\n",
    "\n",
    "# Convert edge_attr to tensor\n",
    "edge_attr_autest_tensor = torch.tensor(edge_attr_autest, dtype=torch.float)\n",
    "\n",
    "print(x_autest_tensor.shape, edge_index_autest_tensor.shape, edge_attr_autest_tensor.shape)"
   ]
  },
  {
   "cell_type": "markdown",
   "metadata": {},
   "source": [
    "# GAT Model"
   ]
  },
  {
   "cell_type": "code",
   "execution_count": 64,
   "metadata": {},
   "outputs": [],
   "source": [
    "import torch\n",
    "import torch.nn as nn\n",
    "import torch.nn.functional as F\n",
    "from torch_geometric.nn import GATConv\n",
    "\n",
    "class GATClassifier(torch.nn.Module):\n",
    "    def __init__(self, num_node_features, num_edge_features, hidden_channels, num_heads):\n",
    "        super(GATClassifier, self).__init__()\n",
    "        self.conv1 = GATConv(num_node_features, hidden_channels, heads=num_heads, add_self_loops=False)\n",
    "        self.conv2 = GATConv(hidden_channels * num_heads, hidden_channels, heads=num_heads, add_self_loops=False)\n",
    "        # self.edge_classifier = nn.Linear(hidden_channels * num_heads + num_edge_features, 1)  # Output size changed to 1\n",
    "        self.edge_classifier = nn.Linear(hidden_channels * 2 * num_heads + num_edge_features, 1)  # Output size changed to 1\n",
    "\n",
    "    def forward(self, x, edge_index, edge_attr):\n",
    "        # Apply graph attentional layers\n",
    "        x = self.conv1(x, edge_index)\n",
    "        x = F.relu(x)\n",
    "        x = self.conv2(x, edge_index)\n",
    "        x = F.relu(x)\n",
    "\n",
    "        # Concatenate node features with edge features\n",
    "        num_edges = edge_index.size(1)\n",
    "        node_x = x[edge_index[0]]\n",
    "        node_x_other = x[edge_index[1]]\n",
    "        edge_attr_padded = torch.cat([edge_attr, torch.zeros(num_edges - edge_attr.size(0), edge_attr.size(1))], dim=0)\n",
    "        edge_x = torch.cat([node_x, node_x_other, edge_attr_padded], dim=1)\n",
    "        print(\"edge_x.shape:\", edge_x.shape)\n",
    "        print(\"self.edge_classifier.weight.shape:\",self.edge_classifier.weight.shape)\n",
    "        # Classify edges into binary class using BCELogit\n",
    "        edge_scores = self.edge_classifier(edge_x)\n",
    "        return edge_scores\n"
   ]
  },
  {
   "cell_type": "markdown",
   "metadata": {},
   "source": [
    "Training"
   ]
  },
  {
   "cell_type": "code",
   "execution_count": 65,
   "metadata": {},
   "outputs": [
    {
     "name": "stdout",
     "output_type": "stream",
     "text": [
      "edge_x.shape: torch.Size([79811, 33])\n",
      "self.edge_classifier.weight.shape: torch.Size([1, 33])\n"
     ]
    }
   ],
   "source": [
    "# Example usage\n",
    "num_nodes = len(nodes)\n",
    "num_edges = len(train_tuples)\n",
    "num_node_features = 1\n",
    "num_edge_features = 25\n",
    "hidden_channels = 4\n",
    "num_heads = 1\n",
    "\n",
    "# Instantiate GAT classifier\n",
    "model = GATClassifier(num_node_features, num_edge_features, hidden_channels, num_heads)\n",
    "\n",
    "# Forward pass\n",
    "edge_scores_train = model(x_tensor, edge_index_tensor, edge_attr_tensor)"
   ]
  },
  {
   "cell_type": "markdown",
   "metadata": {},
   "source": [
    "Testing"
   ]
  },
  {
   "cell_type": "code",
   "execution_count": 19,
   "metadata": {},
   "outputs": [
    {
     "name": "stdout",
     "output_type": "stream",
     "text": [
      "edge_x.shape: torch.Size([34418, 33])\n",
      "self.edge_classifier.weight.shape: torch.Size([1, 33])\n"
     ]
    }
   ],
   "source": [
    "# Example usage\n",
    "num_nodes_test = len(testnodes)\n",
    "num_edges_test = len(test_tuples)\n",
    "num_node_features = 1\n",
    "num_edge_features = 25\n",
    "hidden_channels = 4\n",
    "num_heads = 1\n",
    "\n",
    "# Forward pass\n",
    "edge_scores_test = model(x_test_tensor, edge_index_test_tensor, edge_attr_test_tensor)"
   ]
  },
  {
   "cell_type": "markdown",
   "metadata": {},
   "source": [
    "Author's testing dataset"
   ]
  },
  {
   "cell_type": "code",
   "execution_count": 74,
   "metadata": {},
   "outputs": [
    {
     "name": "stdout",
     "output_type": "stream",
     "text": [
      "edge_x.shape: torch.Size([44520, 33])\n",
      "self.edge_classifier.weight.shape: torch.Size([1, 33])\n"
     ]
    }
   ],
   "source": [
    "# Example usage\n",
    "num_nodes_test = n_autestnodes\n",
    "num_edges_test = n_autest_tuples\n",
    "num_node_features = 1\n",
    "num_edge_features = 25\n",
    "hidden_channels = 4\n",
    "num_heads = 1\n",
    "\n",
    "# Forward pass\n",
    "edge_scores_autest = model(x_autest_tensor, edge_index_autest_tensor, edge_attr_autest_tensor)"
   ]
  },
  {
   "cell_type": "markdown",
   "metadata": {},
   "source": [
    "# KNN"
   ]
  },
  {
   "cell_type": "code",
   "execution_count": 22,
   "metadata": {},
   "outputs": [],
   "source": [
    "import pandas as pd\n",
    "# Convert edge_scores tensor to a NumPy array\n",
    "edge_scores_train_array = edge_scores_train.detach().numpy()\n",
    "edge_scores_test_array = edge_scores_test.detach().numpy()\n",
    "# Create a DataFrame from the NumPy array\n",
    "edge_scores_train_df = pd.DataFrame(edge_scores_train_array, columns=['Edge_Scores'])\n",
    "edge_scores_test_df = pd.DataFrame(edge_scores_test_array, columns=['Edge_Scores'])\n",
    "trainLabel = train['Label']\n",
    "testLabel = test['Label']"
   ]
  },
  {
   "cell_type": "code",
   "execution_count": 38,
   "metadata": {},
   "outputs": [
    {
     "name": "stdout",
     "output_type": "stream",
     "text": [
      "Classification Report: \n",
      "               precision    recall  f1-score   support\n",
      "\n",
      "           0       0.79      0.86      0.82     17201\n",
      "           1       0.84      0.77      0.80     17217\n",
      "\n",
      "    accuracy                           0.81     34418\n",
      "   macro avg       0.81      0.81      0.81     34418\n",
      "weighted avg       0.81      0.81      0.81     34418\n",
      "\n"
     ]
    }
   ],
   "source": [
    "from sklearn.neighbors import KNeighborsClassifier\n",
    "from sklearn.model_selection import train_test_split\n",
    "from sklearn.metrics import accuracy_score\n",
    "from sklearn.metrics import classification_report\n",
    "\n",
    "X_train = edge_scores_train_df\n",
    "X_test = edge_scores_test_df\n",
    "y_train = trainLabel\n",
    "y_test = testLabel\n",
    "\n",
    "# Initialize the KNN classifier\n",
    "k = 25  # Number of neighbors\n",
    "knn_classifier = KNeighborsClassifier(n_neighbors=k)\n",
    "\n",
    "# Train the classifier\n",
    "knn_classifier.fit(X_train, y_train)\n",
    "\n",
    "# Predictions on the test set\n",
    "y_pred = knn_classifier.predict(X_test)\n",
    "\n",
    "# Calculate accuracy\n",
    "report = classification_report(y_test, y_pred)\n",
    "print(\"Classification Report: \\n\", report)"
   ]
  },
  {
   "cell_type": "markdown",
   "metadata": {},
   "source": [
    "Author's test dataset"
   ]
  },
  {
   "cell_type": "code",
   "execution_count": 75,
   "metadata": {},
   "outputs": [
    {
     "name": "stdout",
     "output_type": "stream",
     "text": [
      "Classification Report: \n",
      "               precision    recall  f1-score   support\n",
      "\n",
      "         0.0       0.64      0.50      0.56     29547\n",
      "         1.0       0.31      0.43      0.36     14973\n",
      "\n",
      "    accuracy                           0.48     44520\n",
      "   macro avg       0.47      0.47      0.46     44520\n",
      "weighted avg       0.53      0.48      0.50     44520\n",
      "\n"
     ]
    }
   ],
   "source": [
    "import pandas as pd\n",
    "# Convert edge_scores tensor to a NumPy array\n",
    "edge_scores_autest_array = edge_scores_autest.detach().numpy()\n",
    "# Create a DataFrame from the NumPy array\n",
    "testLabeldf = pd.DataFrame(auEdgeLabel, columns=['Label'])\n",
    "edge_scores_autest_df = pd.DataFrame(edge_scores_autest_array, columns=['Edge_Scores'])\n",
    "trainLabel = train['Label']\n",
    "autestLabel = testLabeldf['Label']\n",
    "auX_test = edge_scores_autest_df\n",
    "auy_test = autestLabel \n",
    "\n",
    "auy_pred = knn_classifier.predict(edge_scores_autest_df)\n",
    "\n",
    "# Calculate accuracy\n",
    "report = classification_report(autestLabel, auy_pred)\n",
    "print(\"Classification Report: \\n\", report)"
   ]
  },
  {
   "cell_type": "markdown",
   "metadata": {},
   "source": [
    "# Lazy Predict Scores"
   ]
  },
  {
   "cell_type": "code",
   "execution_count": 24,
   "metadata": {},
   "outputs": [
    {
     "name": "stderr",
     "output_type": "stream",
     "text": [
      "c:\\ProgramData\\Anaconda3\\Lib\\site-packages\\dask\\dataframe\\_pyarrow_compat.py:17: FutureWarning: Minimal version of pyarrow will soon be increased to 14.0.1. You are using 11.0.0. Please consider upgrading.\n",
      "  warnings.warn(\n"
     ]
    },
    {
     "name": "stdout",
     "output_type": "stream",
     "text": [
      "'tuple' object has no attribute '__name__'\n",
      "Invalid Classifier(s)\n"
     ]
    },
    {
     "name": "stderr",
     "output_type": "stream",
     "text": [
      "  7%|▋         | 1/15 [00:02<00:28,  2.05s/it]"
     ]
    },
    {
     "name": "stdout",
     "output_type": "stream",
     "text": [
      "{'Model': 'AdaBoostClassifier', 'Accuracy': 0.7996687779650183, 'Balanced Accuracy': 0.7997027310016748, 'ROC AUC': 0.7997027310016747, 'F1 Score': 0.7985985567522041, 'Time taken': 2.048492431640625}\n"
     ]
    },
    {
     "name": "stderr",
     "output_type": "stream",
     "text": [
      " 13%|█▎        | 2/15 [00:04<00:30,  2.32s/it]"
     ]
    },
    {
     "name": "stdout",
     "output_type": "stream",
     "text": [
      "{'Model': 'BaggingClassifier', 'Accuracy': 0.7578302051252251, 'Balanced Accuracy': 0.7578395399376796, 'ROC AUC': 0.7578395399376795, 'F1 Score': 0.7577336951174017, 'Time taken': 2.5127813816070557}\n",
      "{'Model': 'BernoulliNB', 'Accuracy': 0.7616072985065954, 'Balanced Accuracy': 0.761658856036947, 'ROC AUC': 0.761658856036947, 'F1 Score': 0.7586452375476976, 'Time taken': 0.0680234432220459}\n"
     ]
    },
    {
     "name": "stderr",
     "output_type": "stream",
     "text": [
      " 27%|██▋       | 4/15 [00:04<00:11,  1.00s/it]"
     ]
    },
    {
     "name": "stdout",
     "output_type": "stream",
     "text": [
      "{'Model': 'DecisionTreeClassifier', 'Accuracy': 0.7509733279098146, 'Balanced Accuracy': 0.7509766102449493, 'ROC AUC': 0.7509766102449493, 'F1 Score': 0.7509613328311345, 'Time taken': 0.3581528663635254}\n",
      "{'Model': 'DummyClassifier', 'Accuracy': 0.49976756348422335, 'Balanced Accuracy': 0.5, 'ROC AUC': 0.5, 'F1 Score': 0.3330751025588301, 'Time taken': 0.04500293731689453}\n",
      "{'Model': 'GaussianNB', 'Accuracy': 0.5886454762043117, 'Balanced Accuracy': 0.5887863971135914, 'ROC AUC': 0.5887863971135914, 'F1 Score': 0.547038749495202, 'Time taken': 0.04751324653625488}\n"
     ]
    },
    {
     "name": "stderr",
     "output_type": "stream",
     "text": [
      " 60%|██████    | 9/15 [00:06<00:03,  1.96it/s]"
     ]
    },
    {
     "name": "stdout",
     "output_type": "stream",
     "text": [
      "{'Model': 'KNeighborsClassifier', 'Accuracy': 0.7914753907838922, 'Balanced Accuracy': 0.7914868939371278, 'ROC AUC': 0.7914868939371278, 'F1 Score': 0.7913490416476183, 'Time taken': 1.5567021369934082}\n",
      "{'Model': 'LinearDiscriminantAnalysis', 'Accuracy': 0.7591086059619966, 'Balanced Accuracy': 0.759162324022185, 'ROC AUC': 0.759162324022185, 'F1 Score': 0.7558555790541076, 'Time taken': 0.09806632995605469}\n",
      "{'Model': 'LogisticRegression', 'Accuracy': 0.746673252367947, 'Balanced Accuracy': 0.7467019803709556, 'ROC AUC': 0.7467019803709556, 'F1 Score': 0.7457057619452897, 'Time taken': 0.06736588478088379}\n"
     ]
    },
    {
     "name": "stderr",
     "output_type": "stream",
     "text": [
      " 73%|███████▎  | 11/15 [00:07<00:01,  2.69it/s]"
     ]
    },
    {
     "name": "stdout",
     "output_type": "stream",
     "text": [
      "{'Model': 'Perceptron', 'Accuracy': 0.2383927014934046, 'Balanced Accuracy': 0.238341143963053, 'ROC AUC': 0.238341143963053, 'F1 Score': 0.22892864284002062, 'Time taken': 0.17809128761291504}\n",
      "{'Model': 'QuadraticDiscriminantAnalysis', 'Accuracy': 0.5886454762043117, 'Balanced Accuracy': 0.5887863971135914, 'ROC AUC': 0.5887863971135914, 'F1 Score': 0.547038749495202, 'Time taken': 0.11754131317138672}\n"
     ]
    },
    {
     "name": "stderr",
     "output_type": "stream",
     "text": [
      " 80%|████████  | 12/15 [00:30<00:17,  5.85s/it]"
     ]
    },
    {
     "name": "stdout",
     "output_type": "stream",
     "text": [
      "{'Model': 'RandomForestClassifier', 'Accuracy': 0.7507699459585101, 'Balanced Accuracy': 0.7507727825290418, 'ROC AUC': 0.7507727825290418, 'F1 Score': 0.7507610309351014, 'Time taken': 22.990949392318726}\n"
     ]
    },
    {
     "name": "stderr",
     "output_type": "stream",
     "text": [
      " 93%|█████████▎| 14/15 [00:30<00:03,  3.64s/it]"
     ]
    },
    {
     "name": "stdout",
     "output_type": "stream",
     "text": [
      "{'Model': 'XGBClassifier', 'Accuracy': 0.8094892207565808, 'Balanced Accuracy': 0.809512505633259, 'ROC AUC': 0.8095125056332589, 'F1 Score': 0.8090128278914379, 'Time taken': 0.8970842361450195}\n",
      "[LightGBM] [Info] Number of positive: 39821, number of negative: 39990\n",
      "[LightGBM] [Info] Auto-choosing row-wise multi-threading, the overhead of testing was 0.000666 seconds.\n",
      "You can set `force_row_wise=true` to remove the overhead.\n",
      "And if memory is not enough, you can set `force_col_wise=true`.\n",
      "[LightGBM] [Info] Total Bins 255\n",
      "[LightGBM] [Info] Number of data points in the train set: 79811, number of used features: 1\n",
      "[LightGBM] [Info] [binary:BoostFromScore]: pavg=0.498941 -> initscore=-0.004235\n",
      "[LightGBM] [Info] Start training from score -0.004235\n"
     ]
    },
    {
     "name": "stderr",
     "output_type": "stream",
     "text": [
      "100%|██████████| 15/15 [00:31<00:00,  2.11s/it]"
     ]
    },
    {
     "name": "stdout",
     "output_type": "stream",
     "text": [
      "{'Model': 'LGBMClassifier', 'Accuracy': 0.8090824568539717, 'Balanced Accuracy': 0.809102608091504, 'ROC AUC': 0.809102608091504, 'F1 Score': 0.808725441710166, 'Time taken': 0.675321102142334}\n"
     ]
    },
    {
     "name": "stderr",
     "output_type": "stream",
     "text": [
      "\n"
     ]
    }
   ],
   "source": [
    "# List of classifiers to include\n",
    "import sklearn\n",
    "import xgboost\n",
    "import lightgbm\n",
    "import sklearn.discriminant_analysis\n",
    "from lazypredict.Supervised import LazyClassifier\n",
    "\n",
    "#Skip SVM\n",
    "classifiers = [\n",
    " ('AdaBoostClassifier', sklearn.ensemble._weight_boosting.AdaBoostClassifier),\n",
    " ('BaggingClassifier', sklearn.ensemble._bagging.BaggingClassifier),\n",
    " ('BernoulliNB', sklearn.naive_bayes.BernoulliNB),\n",
    " ('DecisionTreeClassifier', sklearn.tree._classes.DecisionTreeClassifier),\n",
    " ('DummyClassifier', sklearn.dummy.DummyClassifier),\n",
    " ('GaussianNB', sklearn.naive_bayes.GaussianNB),\n",
    " ('KNeighborsClassifier',  sklearn.neighbors._classification.KNeighborsClassifier),\n",
    " ('LinearDiscriminantAnalysis',  sklearn.discriminant_analysis.LinearDiscriminantAnalysis),\n",
    " ('LogisticRegression', sklearn.linear_model._logistic.LogisticRegression),\n",
    " ('Perceptron', sklearn.linear_model._perceptron.Perceptron),\n",
    " ('QuadraticDiscriminantAnalysis',  sklearn.discriminant_analysis.QuadraticDiscriminantAnalysis),\n",
    " ('RandomForestClassifier', sklearn.ensemble._forest.RandomForestClassifier),\n",
    " ('StackingClassifier', sklearn.ensemble._stacking.StackingClassifier),\n",
    " ('XGBClassifier', xgboost.sklearn.XGBClassifier),\n",
    " ('LGBMClassifier', lightgbm.sklearn.LGBMClassifier)]\n",
    "clf = LazyClassifier(verbose=1,ignore_warnings=True, custom_metric=None,classifiers=classifiers,predictions=True)\n",
    "\n",
    "models,predictions = clf.fit(X_train, X_test, y_train, y_test)\n"
   ]
  },
  {
   "cell_type": "code",
   "execution_count": 25,
   "metadata": {},
   "outputs": [
    {
     "name": "stdout",
     "output_type": "stream",
     "text": [
      "AdaBoostClassifier\n",
      "              precision    recall  f1-score   support\n",
      "\n",
      "           0       0.76      0.87      0.81     17201\n",
      "           1       0.85      0.73      0.78     17217\n",
      "\n",
      "    accuracy                           0.80     34418\n",
      "   macro avg       0.81      0.80      0.80     34418\n",
      "weighted avg       0.81      0.80      0.80     34418\n",
      "\n",
      "AUC Scores for each class: 0.7997027310016747\n",
      "-----------------------------------------------------------------------------------\n",
      "-----------------------------------------------------------------------------------\n",
      "BaggingClassifier\n",
      "              precision    recall  f1-score   support\n",
      "\n",
      "           0       0.75      0.78      0.76     17201\n",
      "           1       0.77      0.74      0.75     17217\n",
      "\n",
      "    accuracy                           0.76     34418\n",
      "   macro avg       0.76      0.76      0.76     34418\n",
      "weighted avg       0.76      0.76      0.76     34418\n",
      "\n",
      "AUC Scores for each class: 0.7578395399376795\n",
      "-----------------------------------------------------------------------------------\n",
      "-----------------------------------------------------------------------------------\n",
      "BernoulliNB\n",
      "              precision    recall  f1-score   support\n",
      "\n",
      "           0       0.71      0.87      0.79     17201\n",
      "           1       0.84      0.65      0.73     17217\n",
      "\n",
      "    accuracy                           0.76     34418\n",
      "   macro avg       0.78      0.76      0.76     34418\n",
      "weighted avg       0.78      0.76      0.76     34418\n",
      "\n",
      "AUC Scores for each class: 0.761658856036947\n",
      "-----------------------------------------------------------------------------------\n",
      "-----------------------------------------------------------------------------------\n",
      "DecisionTreeClassifier\n",
      "              precision    recall  f1-score   support\n",
      "\n",
      "           0       0.75      0.76      0.75     17201\n",
      "           1       0.75      0.74      0.75     17217\n",
      "\n",
      "    accuracy                           0.75     34418\n",
      "   macro avg       0.75      0.75      0.75     34418\n",
      "weighted avg       0.75      0.75      0.75     34418\n",
      "\n",
      "AUC Scores for each class: 0.7509766102449493\n",
      "-----------------------------------------------------------------------------------\n",
      "-----------------------------------------------------------------------------------\n",
      "DummyClassifier\n",
      "              precision    recall  f1-score   support\n",
      "\n",
      "           0       0.50      1.00      0.67     17201\n",
      "           1       0.00      0.00      0.00     17217\n",
      "\n",
      "    accuracy                           0.50     34418\n",
      "   macro avg       0.25      0.50      0.33     34418\n",
      "weighted avg       0.25      0.50      0.33     34418\n",
      "\n",
      "AUC Scores for each class: 0.5\n",
      "-----------------------------------------------------------------------------------\n",
      "-----------------------------------------------------------------------------------\n",
      "GaussianNB\n",
      "              precision    recall  f1-score   support\n",
      "\n",
      "           0       0.56      0.89      0.68     17201\n",
      "           1       0.73      0.29      0.41     17217\n",
      "\n",
      "    accuracy                           0.59     34418\n",
      "   macro avg       0.64      0.59      0.55     34418\n",
      "weighted avg       0.64      0.59      0.55     34418\n",
      "\n",
      "AUC Scores for each class: 0.5887863971135914\n",
      "-----------------------------------------------------------------------------------\n",
      "-----------------------------------------------------------------------------------\n",
      "KNeighborsClassifier\n",
      "              precision    recall  f1-score   support\n",
      "\n",
      "           0       0.78      0.82      0.80     17201\n",
      "           1       0.81      0.77      0.79     17217\n",
      "\n",
      "    accuracy                           0.79     34418\n",
      "   macro avg       0.79      0.79      0.79     34418\n",
      "weighted avg       0.79      0.79      0.79     34418\n",
      "\n",
      "AUC Scores for each class: 0.7914868939371278\n",
      "-----------------------------------------------------------------------------------\n",
      "-----------------------------------------------------------------------------------\n",
      "LinearDiscriminantAnalysis\n",
      "              precision    recall  f1-score   support\n",
      "\n",
      "           0       0.71      0.87      0.78     17201\n",
      "           1       0.84      0.64      0.73     17217\n",
      "\n",
      "    accuracy                           0.76     34418\n",
      "   macro avg       0.77      0.76      0.76     34418\n",
      "weighted avg       0.77      0.76      0.76     34418\n",
      "\n",
      "AUC Scores for each class: 0.759162324022185\n",
      "-----------------------------------------------------------------------------------\n",
      "-----------------------------------------------------------------------------------\n",
      "LogisticRegression\n",
      "              precision    recall  f1-score   support\n",
      "\n",
      "           0       0.72      0.81      0.76     17201\n",
      "           1       0.78      0.68      0.73     17217\n",
      "\n",
      "    accuracy                           0.75     34418\n",
      "   macro avg       0.75      0.75      0.75     34418\n",
      "weighted avg       0.75      0.75      0.75     34418\n",
      "\n",
      "AUC Scores for each class: 0.7467019803709556\n",
      "-----------------------------------------------------------------------------------\n",
      "-----------------------------------------------------------------------------------\n",
      "Perceptron\n",
      "              precision    recall  f1-score   support\n",
      "\n",
      "           0       0.16      0.13      0.14     17201\n",
      "           1       0.29      0.35      0.31     17217\n",
      "\n",
      "    accuracy                           0.24     34418\n",
      "   macro avg       0.22      0.24      0.23     34418\n",
      "weighted avg       0.22      0.24      0.23     34418\n",
      "\n",
      "AUC Scores for each class: 0.238341143963053\n",
      "-----------------------------------------------------------------------------------\n",
      "-----------------------------------------------------------------------------------\n",
      "QuadraticDiscriminantAnalysis\n",
      "              precision    recall  f1-score   support\n",
      "\n",
      "           0       0.56      0.89      0.68     17201\n",
      "           1       0.73      0.29      0.41     17217\n",
      "\n",
      "    accuracy                           0.59     34418\n",
      "   macro avg       0.64      0.59      0.55     34418\n",
      "weighted avg       0.64      0.59      0.55     34418\n",
      "\n",
      "AUC Scores for each class: 0.5887863971135914\n",
      "-----------------------------------------------------------------------------------\n",
      "-----------------------------------------------------------------------------------\n",
      "RandomForestClassifier\n",
      "              precision    recall  f1-score   support\n",
      "\n",
      "           0       0.75      0.76      0.75     17201\n",
      "           1       0.75      0.74      0.75     17217\n",
      "\n",
      "    accuracy                           0.75     34418\n",
      "   macro avg       0.75      0.75      0.75     34418\n",
      "weighted avg       0.75      0.75      0.75     34418\n",
      "\n",
      "AUC Scores for each class: 0.7507727825290418\n",
      "-----------------------------------------------------------------------------------\n",
      "-----------------------------------------------------------------------------------\n",
      "XGBClassifier\n",
      "              precision    recall  f1-score   support\n",
      "\n",
      "           0       0.78      0.86      0.82     17201\n",
      "           1       0.84      0.76      0.80     17217\n",
      "\n",
      "    accuracy                           0.81     34418\n",
      "   macro avg       0.81      0.81      0.81     34418\n",
      "weighted avg       0.81      0.81      0.81     34418\n",
      "\n",
      "AUC Scores for each class: 0.8095125056332589\n",
      "-----------------------------------------------------------------------------------\n",
      "-----------------------------------------------------------------------------------\n",
      "LGBMClassifier\n",
      "              precision    recall  f1-score   support\n",
      "\n",
      "           0       0.78      0.85      0.82     17201\n",
      "           1       0.84      0.77      0.80     17217\n",
      "\n",
      "    accuracy                           0.81     34418\n",
      "   macro avg       0.81      0.81      0.81     34418\n",
      "weighted avg       0.81      0.81      0.81     34418\n",
      "\n",
      "AUC Scores for each class: 0.809102608091504\n",
      "-----------------------------------------------------------------------------------\n",
      "-----------------------------------------------------------------------------------\n"
     ]
    }
   ],
   "source": [
    "from sklearn.metrics import roc_auc_score\n",
    "for model in predictions.columns:\n",
    "    print(model)\n",
    "    print(classification_report(y_test, predictions[model]))\n",
    "    auc_scores = roc_auc_score(y_test, predictions[model], multi_class='ovr')  # Or multi_class='ovo' for one-vs-one\n",
    "    print(\"AUC Scores for each class:\", auc_scores)\n",
    "    print('-----------------------------------------------------------------------------------')\n",
    "    print('-----------------------------------------------------------------------------------')"
   ]
  },
  {
   "cell_type": "code",
   "execution_count": 77,
   "metadata": {},
   "outputs": [
    {
     "name": "stdout",
     "output_type": "stream",
     "text": [
      "'tuple' object has no attribute '__name__'\n",
      "Invalid Classifier(s)\n"
     ]
    },
    {
     "name": "stderr",
     "output_type": "stream",
     "text": [
      "  7%|▋         | 1/15 [00:02<00:34,  2.46s/it]"
     ]
    },
    {
     "name": "stdout",
     "output_type": "stream",
     "text": [
      "{'Model': 'AdaBoostClassifier', 'Accuracy': 0.45968104222821204, 'Balanced Accuracy': 0.4246334470514114, 'ROC AUC': 0.4246334470514114, 'F1 Score': 0.47118552791625967, 'Time taken': 2.455784559249878}\n"
     ]
    },
    {
     "name": "stderr",
     "output_type": "stream",
     "text": [
      " 20%|██        | 3/15 [00:05<00:19,  1.59s/it]"
     ]
    },
    {
     "name": "stdout",
     "output_type": "stream",
     "text": [
      "{'Model': 'BaggingClassifier', 'Accuracy': 0.4766846361185984, 'Balanced Accuracy': 0.4768592469050308, 'ROC AUC': 0.4768592469050308, 'F1 Score': 0.4910171938989423, 'Time taken': 3.008955717086792}\n",
      "{'Model': 'BernoulliNB', 'Accuracy': 0.4954177897574124, 'Balanced Accuracy': 0.4255814932645167, 'ROC AUC': 0.4255814932645167, 'F1 Score': 0.4902781195837244, 'Time taken': 0.16820764541625977}\n"
     ]
    },
    {
     "name": "stderr",
     "output_type": "stream",
     "text": [
      " 40%|████      | 6/15 [00:06<00:05,  1.71it/s]"
     ]
    },
    {
     "name": "stdout",
     "output_type": "stream",
     "text": [
      "{'Model': 'DecisionTreeClassifier', 'Accuracy': 0.4735624438454627, 'Balanced Accuracy': 0.4803378846671699, 'ROC AUC': 0.48033788466717, 'F1 Score': 0.48753918043108646, 'Time taken': 0.461259126663208}\n",
      "{'Model': 'DummyClassifier', 'Accuracy': 0.6636792452830189, 'Balanced Accuracy': 0.5, 'ROC AUC': 0.5, 'F1 Score': 0.5295132963499901, 'Time taken': 0.08954024314880371}\n",
      "{'Model': 'GaussianNB', 'Accuracy': 0.570507637017071, 'Balanced Accuracy': 0.4398212684276854, 'ROC AUC': 0.4398212684276853, 'F1 Score': 0.49907754246730673, 'Time taken': 0.0835270881652832}\n"
     ]
    },
    {
     "name": "stderr",
     "output_type": "stream",
     "text": [
      " 53%|█████▎    | 8/15 [00:09<00:06,  1.15it/s]"
     ]
    },
    {
     "name": "stdout",
     "output_type": "stream",
     "text": [
      "{'Model': 'KNeighborsClassifier', 'Accuracy': 0.476010781671159, 'Balanced Accuracy': 0.47267849245438753, 'ROC AUC': 0.47267849245438753, 'F1 Score': 0.490440566818134, 'Time taken': 2.6884491443634033}\n",
      "{'Model': 'LinearDiscriminantAnalysis', 'Accuracy': 0.497214734950584, 'Balanced Accuracy': 0.4256669823735318, 'ROC AUC': 0.42566698237353184, 'F1 Score': 0.4909099855123589, 'Time taken': 0.1105344295501709}\n"
     ]
    },
    {
     "name": "stderr",
     "output_type": "stream",
     "text": [
      " 67%|██████▋   | 10/15 [00:09<00:02,  1.93it/s]"
     ]
    },
    {
     "name": "stdout",
     "output_type": "stream",
     "text": [
      "{'Model': 'LogisticRegression', 'Accuracy': 0.4868823000898473, 'Balanced Accuracy': 0.4241747915734225, 'ROC AUC': 0.4241747915734226, 'F1 Score': 0.4863009136900161, 'Time taken': 0.14004302024841309}\n",
      "{'Model': 'Perceptron', 'Accuracy': 0.5045822102425876, 'Balanced Accuracy': 0.5744185067354832, 'ROC AUC': 0.5744185067354832, 'F1 Score': 0.5001606328627798, 'Time taken': 0.17152976989746094}\n"
     ]
    },
    {
     "name": "stderr",
     "output_type": "stream",
     "text": [
      " 73%|███████▎  | 11/15 [00:09<00:01,  2.50it/s]"
     ]
    },
    {
     "name": "stdout",
     "output_type": "stream",
     "text": [
      "{'Model': 'QuadraticDiscriminantAnalysis', 'Accuracy': 0.570507637017071, 'Balanced Accuracy': 0.4398212684276854, 'ROC AUC': 0.4398212684276853, 'F1 Score': 0.49907754246730673, 'Time taken': 0.11454176902770996}\n"
     ]
    },
    {
     "name": "stderr",
     "output_type": "stream",
     "text": [
      " 80%|████████  | 12/15 [00:38<00:26,  8.89s/it]"
     ]
    },
    {
     "name": "stdout",
     "output_type": "stream",
     "text": [
      "{'Model': 'RandomForestClassifier', 'Accuracy': 0.4731581311769991, 'Balanced Accuracy': 0.48016505521357544, 'ROC AUC': 0.48016505521357544, 'F1 Score': 0.4871200806225269, 'Time taken': 29.131868839263916}\n"
     ]
    },
    {
     "name": "stderr",
     "output_type": "stream",
     "text": [
      " 93%|█████████▎| 14/15 [00:39<00:04,  4.96s/it]"
     ]
    },
    {
     "name": "stdout",
     "output_type": "stream",
     "text": [
      "{'Model': 'XGBClassifier', 'Accuracy': 0.4704851752021563, 'Balanced Accuracy': 0.44962310979948694, 'ROC AUC': 0.44962310979948705, 'F1 Score': 0.4840952724084529, 'Time taken': 0.5972514152526855}\n",
      "[LightGBM] [Info] Number of positive: 39821, number of negative: 39990\n",
      "[LightGBM] [Info] Auto-choosing row-wise multi-threading, the overhead of testing was 0.000647 seconds.\n",
      "You can set `force_row_wise=true` to remove the overhead.\n",
      "And if memory is not enough, you can set `force_col_wise=true`.\n",
      "[LightGBM] [Info] Total Bins 255\n",
      "[LightGBM] [Info] Number of data points in the train set: 79811, number of used features: 1\n",
      "[LightGBM] [Info] [binary:BoostFromScore]: pavg=0.498941 -> initscore=-0.004235\n",
      "[LightGBM] [Info] Start training from score -0.004235\n"
     ]
    },
    {
     "name": "stderr",
     "output_type": "stream",
     "text": [
      "100%|██████████| 15/15 [00:39<00:00,  2.66s/it]"
     ]
    },
    {
     "name": "stdout",
     "output_type": "stream",
     "text": [
      "{'Model': 'LGBMClassifier', 'Accuracy': 0.4783692722371968, 'Balanced Accuracy': 0.4663020539553523, 'ROC AUC': 0.4663020539553523, 'F1 Score': 0.49250380074549444, 'Time taken': 0.6857590675354004}\n"
     ]
    },
    {
     "name": "stderr",
     "output_type": "stream",
     "text": [
      "\n"
     ]
    }
   ],
   "source": [
    "# List of classifiers to include\n",
    "import sklearn\n",
    "import xgboost\n",
    "import lightgbm\n",
    "import sklearn.discriminant_analysis\n",
    "from lazypredict.Supervised import LazyClassifier\n",
    "\n",
    "#Skip SVM\n",
    "classifiers = [\n",
    " ('AdaBoostClassifier', sklearn.ensemble._weight_boosting.AdaBoostClassifier),\n",
    " ('BaggingClassifier', sklearn.ensemble._bagging.BaggingClassifier),\n",
    " ('BernoulliNB', sklearn.naive_bayes.BernoulliNB),\n",
    " ('DecisionTreeClassifier', sklearn.tree._classes.DecisionTreeClassifier),\n",
    " ('DummyClassifier', sklearn.dummy.DummyClassifier),\n",
    " ('GaussianNB', sklearn.naive_bayes.GaussianNB),\n",
    " ('KNeighborsClassifier',  sklearn.neighbors._classification.KNeighborsClassifier),\n",
    " ('LinearDiscriminantAnalysis',  sklearn.discriminant_analysis.LinearDiscriminantAnalysis),\n",
    " ('LogisticRegression', sklearn.linear_model._logistic.LogisticRegression),\n",
    " ('Perceptron', sklearn.linear_model._perceptron.Perceptron),\n",
    " ('QuadraticDiscriminantAnalysis',  sklearn.discriminant_analysis.QuadraticDiscriminantAnalysis),\n",
    " ('RandomForestClassifier', sklearn.ensemble._forest.RandomForestClassifier),\n",
    " ('StackingClassifier', sklearn.ensemble._stacking.StackingClassifier),\n",
    " ('XGBClassifier', xgboost.sklearn.XGBClassifier),\n",
    " ('LGBMClassifier', lightgbm.sklearn.LGBMClassifier)]\n",
    "clf = LazyClassifier(verbose=1,ignore_warnings=True, custom_metric=None,classifiers=classifiers,predictions=True)\n",
    "\n",
    "aumodels,aupredictions = clf.fit(X_train, auX_test, y_train, auy_test)"
   ]
  },
  {
   "cell_type": "code",
   "execution_count": 80,
   "metadata": {},
   "outputs": [
    {
     "name": "stdout",
     "output_type": "stream",
     "text": [
      "AdaBoostClassifier\n",
      "              precision    recall  f1-score   support\n",
      "\n",
      "         0.0       0.61      0.53      0.57     29547\n",
      "         1.0       0.26      0.32      0.28     14973\n",
      "\n",
      "    accuracy                           0.46     44520\n",
      "   macro avg       0.43      0.42      0.42     44520\n",
      "weighted avg       0.49      0.46      0.47     44520\n",
      "\n",
      "AUC Scores for each class: 0.4246334470514114\n",
      "-----------------------------------------------------------------------------------\n",
      "-----------------------------------------------------------------------------------\n",
      "BaggingClassifier\n",
      "              precision    recall  f1-score   support\n",
      "\n",
      "         0.0       0.64      0.48      0.55     29547\n",
      "         1.0       0.32      0.48      0.38     14973\n",
      "\n",
      "    accuracy                           0.48     44520\n",
      "   macro avg       0.48      0.48      0.46     44520\n",
      "weighted avg       0.53      0.48      0.49     44520\n",
      "\n",
      "AUC Scores for each class: 0.4768592469050308\n",
      "-----------------------------------------------------------------------------------\n",
      "-----------------------------------------------------------------------------------\n",
      "BernoulliNB\n",
      "              precision    recall  f1-score   support\n",
      "\n",
      "         0.0       0.62      0.64      0.63     29547\n",
      "         1.0       0.23      0.21      0.22     14973\n",
      "\n",
      "    accuracy                           0.50     44520\n",
      "   macro avg       0.42      0.43      0.42     44520\n",
      "weighted avg       0.49      0.50      0.49     44520\n",
      "\n",
      "AUC Scores for each class: 0.4255814932645167\n",
      "-----------------------------------------------------------------------------------\n",
      "-----------------------------------------------------------------------------------\n",
      "DecisionTreeClassifier\n",
      "              precision    recall  f1-score   support\n",
      "\n",
      "         0.0       0.65      0.46      0.54     29547\n",
      "         1.0       0.32      0.50      0.39     14973\n",
      "\n",
      "    accuracy                           0.47     44520\n",
      "   macro avg       0.48      0.48      0.46     44520\n",
      "weighted avg       0.54      0.47      0.49     44520\n",
      "\n",
      "AUC Scores for each class: 0.48033788466717\n",
      "-----------------------------------------------------------------------------------\n",
      "-----------------------------------------------------------------------------------\n",
      "DummyClassifier\n",
      "              precision    recall  f1-score   support\n",
      "\n",
      "         0.0       0.66      1.00      0.80     29547\n",
      "         1.0       0.00      0.00      0.00     14973\n",
      "\n",
      "    accuracy                           0.66     44520\n",
      "   macro avg       0.33      0.50      0.40     44520\n",
      "weighted avg       0.44      0.66      0.53     44520\n",
      "\n",
      "AUC Scores for each class: 0.5\n",
      "-----------------------------------------------------------------------------------\n",
      "-----------------------------------------------------------------------------------\n",
      "GaussianNB\n",
      "              precision    recall  f1-score   support\n",
      "\n",
      "         0.0       0.63      0.84      0.72     29547\n",
      "         1.0       0.11      0.04      0.06     14973\n",
      "\n",
      "    accuracy                           0.57     44520\n",
      "   macro avg       0.37      0.44      0.39     44520\n",
      "weighted avg       0.46      0.57      0.50     44520\n",
      "\n",
      "AUC Scores for each class: 0.4398212684276853\n",
      "-----------------------------------------------------------------------------------\n",
      "-----------------------------------------------------------------------------------\n",
      "KNeighborsClassifier\n",
      "              precision    recall  f1-score   support\n",
      "\n",
      "         0.0       0.64      0.48      0.55     29547\n",
      "         1.0       0.31      0.46      0.37     14973\n",
      "\n",
      "    accuracy                           0.48     44520\n",
      "   macro avg       0.48      0.47      0.46     44520\n",
      "weighted avg       0.53      0.48      0.49     44520\n",
      "\n",
      "AUC Scores for each class: 0.47267849245438753\n",
      "-----------------------------------------------------------------------------------\n",
      "-----------------------------------------------------------------------------------\n",
      "LinearDiscriminantAnalysis\n",
      "              precision    recall  f1-score   support\n",
      "\n",
      "         0.0       0.62      0.64      0.63     29547\n",
      "         1.0       0.23      0.21      0.22     14973\n",
      "\n",
      "    accuracy                           0.50     44520\n",
      "   macro avg       0.42      0.43      0.42     44520\n",
      "weighted avg       0.49      0.50      0.49     44520\n",
      "\n",
      "AUC Scores for each class: 0.42566698237353184\n",
      "-----------------------------------------------------------------------------------\n",
      "-----------------------------------------------------------------------------------\n",
      "LogisticRegression\n",
      "              precision    recall  f1-score   support\n",
      "\n",
      "         0.0       0.61      0.62      0.61     29547\n",
      "         1.0       0.23      0.23      0.23     14973\n",
      "\n",
      "    accuracy                           0.49     44520\n",
      "   macro avg       0.42      0.42      0.42     44520\n",
      "weighted avg       0.49      0.49      0.49     44520\n",
      "\n",
      "AUC Scores for each class: 0.4241747915734226\n",
      "-----------------------------------------------------------------------------------\n",
      "-----------------------------------------------------------------------------------\n",
      "Perceptron\n",
      "              precision    recall  f1-score   support\n",
      "\n",
      "         0.0       0.77      0.36      0.49     29547\n",
      "         1.0       0.38      0.79      0.52     14973\n",
      "\n",
      "    accuracy                           0.50     44520\n",
      "   macro avg       0.58      0.57      0.50     44520\n",
      "weighted avg       0.64      0.50      0.50     44520\n",
      "\n",
      "AUC Scores for each class: 0.5744185067354832\n",
      "-----------------------------------------------------------------------------------\n",
      "-----------------------------------------------------------------------------------\n",
      "QuadraticDiscriminantAnalysis\n",
      "              precision    recall  f1-score   support\n",
      "\n",
      "         0.0       0.63      0.84      0.72     29547\n",
      "         1.0       0.11      0.04      0.06     14973\n",
      "\n",
      "    accuracy                           0.57     44520\n",
      "   macro avg       0.37      0.44      0.39     44520\n",
      "weighted avg       0.46      0.57      0.50     44520\n",
      "\n",
      "AUC Scores for each class: 0.4398212684276853\n",
      "-----------------------------------------------------------------------------------\n",
      "-----------------------------------------------------------------------------------\n",
      "RandomForestClassifier\n",
      "              precision    recall  f1-score   support\n",
      "\n",
      "         0.0       0.64      0.46      0.54     29547\n",
      "         1.0       0.32      0.50      0.39     14973\n",
      "\n",
      "    accuracy                           0.47     44520\n",
      "   macro avg       0.48      0.48      0.46     44520\n",
      "weighted avg       0.54      0.47      0.49     44520\n",
      "\n",
      "AUC Scores for each class: 0.48016505521357544\n",
      "-----------------------------------------------------------------------------------\n",
      "-----------------------------------------------------------------------------------\n",
      "XGBClassifier\n",
      "              precision    recall  f1-score   support\n",
      "\n",
      "         0.0       0.62      0.51      0.56     29547\n",
      "         1.0       0.29      0.39      0.33     14973\n",
      "\n",
      "    accuracy                           0.47     44520\n",
      "   macro avg       0.45      0.45      0.45     44520\n",
      "weighted avg       0.51      0.47      0.48     44520\n",
      "\n",
      "AUC Scores for each class: 0.44962310979948705\n",
      "-----------------------------------------------------------------------------------\n",
      "-----------------------------------------------------------------------------------\n",
      "LGBMClassifier\n",
      "              precision    recall  f1-score   support\n",
      "\n",
      "         0.0       0.64      0.50      0.56     29547\n",
      "         1.0       0.30      0.43      0.36     14973\n",
      "\n",
      "    accuracy                           0.48     44520\n",
      "   macro avg       0.47      0.47      0.46     44520\n",
      "weighted avg       0.52      0.48      0.49     44520\n",
      "\n",
      "AUC Scores for each class: 0.4663020539553523\n",
      "-----------------------------------------------------------------------------------\n",
      "-----------------------------------------------------------------------------------\n"
     ]
    }
   ],
   "source": [
    "from sklearn.metrics import roc_auc_score\n",
    "for model in aupredictions.columns:\n",
    "    print(model)\n",
    "    print(classification_report(auy_test, aupredictions[model]))\n",
    "    auc_scores = roc_auc_score(auy_test, aupredictions[model], multi_class='ovr')  # Or multi_class='ovo' for one-vs-one\n",
    "    print(\"AUC Scores for each class:\", auc_scores)\n",
    "    print('-----------------------------------------------------------------------------------')\n",
    "    print('-----------------------------------------------------------------------------------')"
   ]
  }
 ],
 "metadata": {
  "kernelspec": {
   "display_name": "base",
   "language": "python",
   "name": "python3"
  },
  "language_info": {
   "codemirror_mode": {
    "name": "ipython",
    "version": 3
   },
   "file_extension": ".py",
   "mimetype": "text/x-python",
   "name": "python",
   "nbconvert_exporter": "python",
   "pygments_lexer": "ipython3",
   "version": "3.11.7"
  }
 },
 "nbformat": 4,
 "nbformat_minor": 2
}
