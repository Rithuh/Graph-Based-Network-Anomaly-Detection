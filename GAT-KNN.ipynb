{
 "cells": [
  {
   "cell_type": "markdown",
   "metadata": {},
   "source": [
    "# Libraries"
   ]
  },
  {
   "cell_type": "code",
   "execution_count": 16,
   "metadata": {},
   "outputs": [],
   "source": [
    "import pandas as pd\n",
    "import numpy as np\n",
    "import matplotlib.pyplot as plt\n",
    "import seaborn as sns\n",
    "from sklearn.model_selection import train_test_split\n",
    "from sklearn.preprocessing import StandardScaler\n",
    "\n",
    "from sklearn.metrics import accuracy_score\n",
    "from sklearn.metrics import f1_score\n",
    "from sklearn.metrics import confusion_matrix\n",
    "from sklearn.metrics import classification_report\n",
    "from sklearn.metrics import precision_score\n",
    "from sklearn.model_selection import cross_validate\n",
    "from sklearn.model_selection import cross_val_predict\n",
    "\n",
    "from sklearn.neighbors import KNeighborsClassifier\n",
    "from sklearn.linear_model import LogisticRegression\n",
    "from sklearn.ensemble import RandomForestClassifier\n",
    "from sklearn.tree import DecisionTreeClassifier\n",
    "from sklearn.naive_bayes import GaussianNB\n",
    "from sklearn.ensemble import BaggingClassifier\n",
    "from sklearn.svm import SVC\n",
    "from sklearn.ensemble import StackingClassifier\n",
    "\n",
    "import torch\n",
    "import torch.nn as nn\n",
    "import torch.nn.functional as F\n",
    "from torch_geometric.nn import GATConv\n"
   ]
  },
  {
   "cell_type": "markdown",
   "metadata": {},
   "source": [
    "# Dataset Loading"
   ]
  },
  {
   "cell_type": "code",
   "execution_count": 28,
   "metadata": {},
   "outputs": [
    {
     "name": "stderr",
     "output_type": "stream",
     "text": [
      "C:\\Users\\sathi\\AppData\\Local\\Temp\\ipykernel_17912\\1785680868.py:1: DtypeWarning: Columns (46) have mixed types. Specify dtype option on import or set low_memory=False.\n",
      "  train = pd.read_csv(r'D:\\Project Phase II\\Dataset\\finaltrain.csv',encoding='cp1252')\n",
      "C:\\Users\\sathi\\AppData\\Local\\Temp\\ipykernel_17912\\1785680868.py:2: DtypeWarning: Columns (46) have mixed types. Specify dtype option on import or set low_memory=False.\n",
      "  test = pd.read_csv(r'D:\\Project Phase II\\Dataset\\finaltest.csv',encoding='cp1252') #test_set1\n"
     ]
    }
   ],
   "source": [
    "train = pd.read_csv(r'D:\\Project Phase II\\Dataset\\finaltrain.csv',encoding='cp1252')\n",
    "test = pd.read_csv(r'D:\\Project Phase II\\Dataset\\finaltest.csv',encoding='cp1252') #test_set1 \n",
    "autrain = pd.read_csv(r'D:\\Project Phase II\\Dataset\\UNSW_NB15_training-set.csv',encoding='cp1252') #train_set2\n",
    "autest = pd.read_csv(r'D:\\Project Phase II\\Dataset\\UNSW_NB15_testing-set.csv',encoding='cp1252') #test_set2"
   ]
  },
  {
   "cell_type": "markdown",
   "metadata": {},
   "source": [
    "# Data Preprocessing"
   ]
  },
  {
   "cell_type": "markdown",
   "metadata": {},
   "source": [
    "## Preprocess user-made train-test datasets"
   ]
  },
  {
   "cell_type": "code",
   "execution_count": 4,
   "metadata": {},
   "outputs": [],
   "source": [
    "todrop = ['sloss', 'dloss','stcpb', 'dtcpb', 'trans_depth', 'Stime', 'Ltime','tcprtt', 'ct_flw_http_mthd', \n",
    "        'is_ftp_login', 'ct_ftp_cmd', 'ct_srv_src', 'ct_srv_dst', 'ct_dst_ltm', 'ct_src_ ltm',\n",
    "        'ct_src_dport_ltm', 'ct_dst_sport_ltm', 'ct_dst_src_ltm', 'attack_cat']\n",
    "        \n",
    "todropButIncStimeLtime = ['sloss', 'dloss','stcpb', 'dtcpb', 'trans_depth','tcprtt', 'ct_flw_http_mthd', \n",
    "        'is_ftp_login', 'ct_ftp_cmd', 'ct_srv_src', 'ct_srv_dst', 'ct_dst_ltm', 'ct_src_ ltm',\n",
    "        'ct_src_dport_ltm', 'ct_dst_sport_ltm', 'ct_dst_src_ltm', 'attack_cat']\n",
    "\n",
    "reducedTrain = train.drop(todrop, axis = 1)\n",
    "reducedTest = test.drop(todropButIncStimeLtime, axis = 1)\n",
    "reducedTrain = reducedTrain.drop_duplicates()\n",
    "reducedTest = reducedTest.drop_duplicates()\n",
    "\n",
    "trainAttributes = reducedTrain.drop(['srcip','sport','dstip','dsport','Label'], axis = 1)\n",
    "trainLabel = reducedTrain['Label']\n",
    "testAttributes = reducedTest.drop(['srcip','sport','dstip','dsport','Label'], axis = 1)\n",
    "testLabel = reducedTest['Label']\n",
    "\n",
    "train = reducedTrain\n",
    "test = reducedTest\n",
    "\n",
    "train = train.drop_duplicates(['srcip','sport', 'dstip', 'dsport', 'sttl', 'dttl', 'swin', 'dwin'], keep = 'last')\n",
    "test = test.drop_duplicates(['srcip','sport', 'dstip', 'dsport', 'sttl', 'dttl', 'swin', 'dwin'], keep = 'last')\n",
    "testWithStimeLtime = test[['srcip', 'sport', 'dstip', 'dsport', 'Stime', 'Ltime']]\n",
    "test = test.drop(['Stime','Ltime'], axis = 1)"
   ]
  },
  {
   "cell_type": "code",
   "execution_count": 4,
   "metadata": {},
   "outputs": [
    {
     "name": "stdout",
     "output_type": "stream",
     "text": [
      "Train Set:\n",
      " Label\n",
      "0    39990\n",
      "1    39866\n",
      "Name: count, dtype: int64\n",
      "Test Set:\n",
      " Label\n",
      "1    17229\n",
      "0    17201\n",
      "Name: count, dtype: int64\n"
     ]
    }
   ],
   "source": [
    "print(\"Train Set:\\n\",train.Label.value_counts())\n",
    "print(\"Test Set:\\n\", test.Label.value_counts())"
   ]
  },
  {
   "cell_type": "markdown",
   "metadata": {},
   "source": [
    "## Preprocess Author's Train-Test dataset"
   ]
  },
  {
   "cell_type": "markdown",
   "metadata": {},
   "source": [
    "Use stcpb, dtcpb to substitute the unavailablity of ip port"
   ]
  },
  {
   "cell_type": "code",
   "execution_count": 29,
   "metadata": {},
   "outputs": [],
   "source": [
    "audrop = ['ï»¿id', 'rate', 'sloss', 'dloss','trans_depth','tcprtt','ct_srv_src','ct_dst_ltm',\n",
    "        'ct_src_dport_ltm', 'ct_dst_sport_ltm', 'ct_dst_src_ltm',\n",
    "        'is_ftp_login', 'ct_ftp_cmd', 'ct_flw_http_mthd', 'ct_src_ltm',\n",
    "        'ct_srv_dst', 'is_sm_ips_ports', 'attack_cat']\n",
    "\n",
    "audrop1 = ['ï»¿id', 'is_sm_ips_ports','attack_cat']\n",
    "\n",
    "autrain = autrain.drop(audrop1, axis = 1)\n",
    "autrain.rename(columns={'dinpkt':'Dintpkt','djit':'Djit','dload':'Dload','dpkts':'Dpkts','label':'Label','sinpkt':'Sintpkt','sjit':'Sjit', 'sload':'Sload', 'spkts':'Spkts','dmean':'dmeansz','response_body_len':'res_bdy_len', 'smean':'smeansz'}, inplace=True)\n",
    "autrain = autrain[(autrain['proto']=='tcp') | (autrain['proto']=='udp') | (autrain['proto']=='ospf')]\n",
    "autrain = autrain[(autrain['service']=='ssh') | (autrain['service']=='ftp-data ')  | (autrain['service']=='ftp') | (autrain['service']=='-') | (autrain['service']=='dns') | (autrain['service']=='smtp') | (autrain['service']=='http') | (autrain['service']=='radius') | (autrain['service']=='pop3') ]\n",
    "autrain = autrain[(autrain['state'] == 'CON') | (autrain['state'] == 'RST') | (autrain['state'] == 'FIN') | (autrain['state'] == 'ACC') | (autrain['state'] == 'REQ') | (autrain['state'] == 'INT')]\n",
    "\n",
    "autrain['proto'].replace(\"tcp\", 0, inplace = True)\n",
    "autrain['proto'].replace(\"udp\", 1, inplace = True)\n",
    "autrain['proto'].replace(\"ospf\", 2, inplace = True)\n",
    "\n",
    "autrain['service'].replace(\"ssh\", 0, inplace = True)\n",
    "autrain['service'].replace(\"ftp-data\", 1, inplace = True)\n",
    "autrain['service'].replace(\"ftp\", 2, inplace = True)\n",
    "autrain['service'].replace(\"-\", 3, inplace = True)\n",
    "autrain['service'].replace(\"dns\", 4, inplace = True)\n",
    "autrain['service'].replace(\"smtp\", 5, inplace = True)\n",
    "autrain['service'].replace(\"http\", 6, inplace = True)\n",
    "autrain['service'].replace(\"radius\", 7, inplace = True)\n",
    "autrain['service'].replace(\"pop3\", 8, inplace = True)\n",
    "\n",
    "autrain['state'].replace(\"CON\", 0, inplace = True)\n",
    "autrain['state'].replace(\"RST\", 1, inplace = True)\n",
    "autrain['state'].replace(\"FIN\", 2, inplace = True)\n",
    "autrain['state'].replace(\"ACC\", 3, inplace = True)\n",
    "autrain['state'].replace(\"REQ\", 4, inplace = True)\n",
    "autrain['state'].replace(\"INT\", 5, inplace = True)\n",
    "\n",
    "for column in autrain.columns:\n",
    "        if column != 'Label':\n",
    "                try:\n",
    "                        col_mean = sum(autrain[column]) / len(autrain[column])\n",
    "                        col_std = (sum((x - col_mean) ** 2 for x in autrain[column]) / len(autrain[column])) ** 0.5\n",
    "                        autrain[column] = [(x - col_mean) / col_std for x in autrain[column]]\n",
    "                except:\n",
    "                        print(\"Failing: \", column, type(column))\n",
    "\n",
    "\n",
    "autrain = autrain.drop_duplicates(['sttl', 'dttl', 'swin', 'dwin','stcpb','dtcpb'], keep = 'last')\n",
    "autrainAttributes = autrain.drop(['Label'], axis = 1)\n",
    "autrainLabel = autrain['Label']"
   ]
  },
  {
   "cell_type": "code",
   "execution_count": 90,
   "metadata": {},
   "outputs": [
    {
     "name": "stdout",
     "output_type": "stream",
     "text": [
      "Train Set:\n",
      " Label\n",
      "1    36961\n",
      "0    34967\n",
      "Name: count, dtype: int64\n"
     ]
    }
   ],
   "source": [
    "print(\"Train Set:\\n\",autrain.Label.value_counts())\n"
   ]
  },
  {
   "cell_type": "code",
   "execution_count": 30,
   "metadata": {},
   "outputs": [],
   "source": [
    "\n",
    "\n",
    "autest = autest.drop(audrop1, axis = 1)\n",
    "#Change column names of autest\n",
    "autest.rename(columns={'dinpkt':'Dintpkt','djit':'Djit','dload':'Dload','dpkts':'Dpkts','label':'Label','sinpkt':'Sintpkt','sjit':'Sjit', 'sload':'Sload', 'spkts':'Spkts','dmean':'dmeansz','response_body_len':'res_bdy_len', 'smean':'smeansz'}, inplace=True)\n",
    "autest = autest[(autest['proto']=='tcp') | (autest['proto']=='udp') | (autest['proto']=='ospf')]\n",
    "autest = autest[(autest['service']=='ssh') | (autest['service']=='ftp-data ')  | (autest['service']=='ftp') | (autest['service']=='-') | (autest['service']=='dns') | (autest['service']=='smtp') | (autest['service']=='http') | (autest['service']=='radius') | (autest['service']=='pop3') ]\n",
    "autest = autest[(autest['state'] == 'CON') | (autest['state'] == 'RST') | (autest['state'] == 'FIN') | (autest['state'] == 'ACC') | (autest['state'] == 'REQ') | (autest['state'] == 'INT')]\n",
    "\n",
    "autest['proto'].replace(\"tcp\", 0, inplace = True)\n",
    "autest['proto'].replace(\"udp\", 1, inplace = True)\n",
    "autest['proto'].replace(\"ospf\", 2, inplace = True)\n",
    "\n",
    "autest['service'].replace(\"ssh\", 0, inplace = True)\n",
    "autest['service'].replace(\"ftp-data\", 1, inplace = True)\n",
    "autest['service'].replace(\"ftp\", 2, inplace = True)\n",
    "autest['service'].replace(\"-\", 3, inplace = True)\n",
    "autest['service'].replace(\"dns\", 4, inplace = True)\n",
    "autest['service'].replace(\"smtp\", 5, inplace = True)\n",
    "autest['service'].replace(\"http\", 6, inplace = True)\n",
    "autest['service'].replace(\"radius\", 7, inplace = True)\n",
    "autest['service'].replace(\"pop3\", 8, inplace = True)\n",
    "\n",
    "autest['state'].replace(\"CON\", 0, inplace = True)\n",
    "autest['state'].replace(\"RST\", 1, inplace = True)\n",
    "autest['state'].replace(\"FIN\", 2, inplace = True)\n",
    "autest['state'].replace(\"ACC\", 3, inplace = True)\n",
    "autest['state'].replace(\"REQ\", 4, inplace = True)\n",
    "autest['state'].replace(\"INT\", 5, inplace = True)\n",
    "\n",
    "for column in autest.columns:\n",
    "        try:\n",
    "                if column != 'Label':\n",
    "                        col_mean = sum(autest[column]) / len(autest[column])\n",
    "                        col_std = (sum((x - col_mean) ** 2 for x in autest[column]) / len(autest[column])) ** 0.5\n",
    "                        autest[column] = [(x - col_mean) / col_std for x in autest[column]]\n",
    "        except:\n",
    "                print(\"Failing: \",column, type(column))\n",
    "\n",
    "\n",
    "autest = autest.drop_duplicates(['sttl', 'dttl', 'swin', 'dwin','stcpb','dtcpb'], keep = 'last')\n",
    "autestAttributes = autest.drop(['Label'], axis = 1)\n",
    "autestLabel = autest['Label']"
   ]
  },
  {
   "cell_type": "code",
   "execution_count": 62,
   "metadata": {},
   "outputs": [
    {
     "name": "stdout",
     "output_type": "stream",
     "text": [
      "Author's Testing Set:\n",
      " Label\n",
      "0    24354\n",
      "1    13671\n",
      "Name: count, dtype: int64\n"
     ]
    }
   ],
   "source": [
    "print(\"Author's Testing Set:\\n\", autest.Label.value_counts())"
   ]
  },
  {
   "cell_type": "markdown",
   "metadata": {},
   "source": [
    "# Input Transformation"
   ]
  },
  {
   "cell_type": "markdown",
   "metadata": {},
   "source": [
    "## Training"
   ]
  },
  {
   "cell_type": "code",
   "execution_count": 7,
   "metadata": {},
   "outputs": [],
   "source": [
    "nodes = set()\n",
    "trainUnique = train\n",
    "for i in range(len(train)):\n",
    "    src = str(train['srcip'].iloc[i])+':'+ str(train['sport'].iloc[i]) + ':' + str(train['sttl'].iloc[i])+':'+str(train['swin'].iloc[i])\n",
    "    dst = str(train['dstip'].iloc[i])+':'+str(train['dsport'].iloc[i]) + ':' + str(train['dttl'].iloc[i])+':'+str(train['dwin'].iloc[i])\n",
    "    nodes.add(src)\n",
    "    nodes.add(dst)\n",
    "\n",
    "\n",
    "#Find unique (srcip,sport,dstip,dsport) tuples in train\n",
    "train_tuples = set()\n",
    "for i in range(len(train)):\n",
    "    train_tuples.add((train['srcip'].iloc[i], train['sport'].iloc[i], train['dstip'].iloc[i], train['dsport'].iloc[i], train['sttl'].iloc[i], train['swin'].iloc[i], train['dttl'].iloc[i], train['dwin'].iloc[i]))"
   ]
  },
  {
   "cell_type": "code",
   "execution_count": 8,
   "metadata": {},
   "outputs": [
    {
     "name": "stdout",
     "output_type": "stream",
     "text": [
      "torch.Size([97138, 2]) torch.Size([2, 79856]) torch.Size([79856, 20])\n"
     ]
    }
   ],
   "source": [
    "xLookUp = {}\n",
    "x = []\n",
    "count = 0\n",
    "edge_index = []\n",
    "edge_attr = []\n",
    "for i in range(len(train)):\n",
    "    src = str(train['srcip'].iloc[i])+':'+ str(train['sport'].iloc[i]) + ':' + str(train['sttl'].iloc[i])+':'+str(train['swin'].iloc[i])\n",
    "    dst = str(train['dstip'].iloc[i])+':'+str(train['dsport'].iloc[i]) + ':' + str(train['dttl'].iloc[i])+':'+str(train['dwin'].iloc[i])\n",
    "    if src not in xLookUp:\n",
    "        xLookUp[src] = count\n",
    "        # x.append([int(train['sport'].iloc[i]), int(train['sttl'].iloc[i]), int(train['swin'].iloc[i])])\n",
    "        x.append([int(train['sttl'].iloc[i]), int(train['swin'].iloc[i])])\n",
    "        count += 1\n",
    "    if dst not in xLookUp:\n",
    "        xLookUp[dst] = count\n",
    "        # x.append([int(train['dsport'].iloc[i]), int(train['dttl'].iloc[i]), int(train['dwin'].iloc[i])])\n",
    "        x.append([int(train['dttl'].iloc[i]), int(train['dwin'].iloc[i])])\n",
    "        count += 1\n",
    "    edge_index.append([xLookUp[src], xLookUp[dst]])\n",
    "    edge_attr.append(list(train.iloc[i].drop(['srcip', 'sport', 'dstip', 'dsport', 'sttl', 'dttl','swin','dwin','Label']).values))\n",
    "\n",
    "\n",
    "# Convert x to tensor\n",
    "x_tensor = torch.tensor(x, dtype=torch.float)\n",
    "\n",
    "# Convert edge_index to tensor\n",
    "edge_index_tensor = torch.tensor(edge_index, dtype=torch.long).t()  # Transpose for correct format\n",
    "\n",
    "# Convert edge_attr to tensor\n",
    "edge_attr_tensor = torch.tensor(edge_attr, dtype=torch.float)\n",
    "\n",
    "print(x_tensor.shape, edge_index_tensor.shape, edge_attr_tensor.shape)"
   ]
  },
  {
   "cell_type": "markdown",
   "metadata": {},
   "source": [
    "## Testing"
   ]
  },
  {
   "cell_type": "code",
   "execution_count": 9,
   "metadata": {},
   "outputs": [],
   "source": [
    "testnodes = set()\n",
    "testUnique = test\n",
    "for i in range(len(test)):\n",
    "    src = str(test['srcip'].iloc[i])+':'+ str(test['sport'].iloc[i]) + ':' + str(test['sttl'].iloc[i])+':'+str(test['swin'].iloc[i])\n",
    "    dst = str(test['dstip'].iloc[i])+':'+str(test['dsport'].iloc[i]) + ':' + str(test['dttl'].iloc[i])+':'+str(test['dwin'].iloc[i])\n",
    "    testnodes.add(src)\n",
    "    testnodes.add(dst)\n",
    "\n",
    "\n",
    "#Find unique (srcip,sport,dstip,dsport) tuples in train\n",
    "test_tuples = set()\n",
    "for i in range(len(test)):\n",
    "    test_tuples.add((test['srcip'].iloc[i], test['sport'].iloc[i], test['dstip'].iloc[i], test['dsport'].iloc[i], test['sttl'].iloc[i], test['swin'].iloc[i], test['dttl'].iloc[i], test['dwin'].iloc[i]))"
   ]
  },
  {
   "cell_type": "code",
   "execution_count": 10,
   "metadata": {},
   "outputs": [
    {
     "name": "stdout",
     "output_type": "stream",
     "text": [
      "torch.Size([42906, 2]) torch.Size([2, 34430]) torch.Size([34430, 20])\n"
     ]
    }
   ],
   "source": [
    "xtestLookUp = {}\n",
    "xtest = []\n",
    "count = 0\n",
    "edge_index_test = []\n",
    "edge_attr_test = []\n",
    "for i in range(len(test)):\n",
    "    src = str(test['srcip'].iloc[i])+':'+ str(test['sport'].iloc[i]) + ':' + str(test['sttl'].iloc[i])+':'+str(test['swin'].iloc[i])\n",
    "    dst = str(test['dstip'].iloc[i])+':'+str(test['dsport'].iloc[i]) + ':' + str(test['dttl'].iloc[i])+':'+str(test['dwin'].iloc[i])\n",
    "    if src not in xtestLookUp:\n",
    "        xtestLookUp[src] = count\n",
    "        # xtest.append([int(test['sport'].iloc[i]), int(test['sttl'].iloc[i]), int(test['swin'].iloc[i])])\n",
    "        xtest.append([int(test['sttl'].iloc[i]), int(test['swin'].iloc[i])])\n",
    "        count += 1\n",
    "    if dst not in xtestLookUp:\n",
    "        xtestLookUp[dst] = count\n",
    "        # xtest.append([int(test['dsport'].iloc[i]), int(test['dttl'].iloc[i]), int(test['dwin'].iloc[i])])\n",
    "        xtest.append([int(test['dttl'].iloc[i]), int(test['dwin'].iloc[i])])\n",
    "        count += 1\n",
    "    edge_index_test.append([xtestLookUp[src], xtestLookUp[dst]])\n",
    "    edge_attr_test.append(list(test.iloc[i].drop(['srcip', 'sport', 'dstip', 'dsport', 'sttl', 'dttl','swin','dwin','Label']).values))\n",
    "\n",
    "\n",
    "# Convert x to tensor\n",
    "x_test_tensor = torch.tensor(xtest, dtype=torch.float)\n",
    "\n",
    "# Convert edge_index to tensor\n",
    "edge_index_test_tensor = torch.tensor(edge_index_test, dtype=torch.long).t()  # Transpose for correct format\n",
    "\n",
    "# Convert edge_attr to tensor\n",
    "edge_attr_test_tensor = torch.tensor(edge_attr_test, dtype=torch.float)\n",
    "\n",
    "print(x_test_tensor.shape, edge_index_test_tensor.shape, edge_attr_test_tensor.shape)"
   ]
  },
  {
   "cell_type": "markdown",
   "metadata": {},
   "source": [
    "## Author's Training Dataset"
   ]
  },
  {
   "cell_type": "markdown",
   "metadata": {},
   "source": [
    "Since srcip, sport, dstip, dsport information is not available, we proceed with having each node feature value as 0, and assume each edge as an unique connection between two imaginary nodes, we add stcpb and dtcpb as placeholders "
   ]
  },
  {
   "cell_type": "code",
   "execution_count": 31,
   "metadata": {},
   "outputs": [],
   "source": [
    "autrainnodes = set()\n",
    "autrainUnique = autrain\n",
    "for i in range(len(autrain)):\n",
    "    src = str(autrain['sttl'].iloc[i])+':'+str(autrain['swin'].iloc[i]) + str(autrain['stcpb'].iloc[i])\n",
    "    dst = str(autrain['dttl'].iloc[i])+':'+str(autrain['dwin'].iloc[i]) + str(autrain['dtcpb'].iloc[i])\n",
    "    autrainnodes.add(src)\n",
    "    autrainnodes.add(dst)\n",
    "\n",
    "\n",
    "#Find unique (srcip,sport,dstip,dsport) tuples in train\n",
    "autrain_tuples = set()\n",
    "for i in range(len(autrain)):\n",
    "    autrain_tuples.add((autrain['sttl'].iloc[i], autrain['swin'].iloc[i], autrain['dttl'].iloc[i], autrain['dwin'].iloc[i], autrain['stcpb'].iloc[i], autrain['dtcpb'].iloc[i]))"
   ]
  },
  {
   "cell_type": "code",
   "execution_count": 32,
   "metadata": {},
   "outputs": [
    {
     "name": "stdout",
     "output_type": "stream",
     "text": [
      "torch.Size([143645, 2]) torch.Size([2, 71928]) torch.Size([71928, 35])\n"
     ]
    }
   ],
   "source": [
    "xautrainLookUp = {}\n",
    "xautrain = []\n",
    "count = 0\n",
    "edge_index_autrain = []\n",
    "edge_attr_autrain = []\n",
    "\n",
    "for i in range(len(autrain)):\n",
    "    src = str(autrain['sttl'].iloc[i])+':'+str(autrain['swin'].iloc[i]) + str(autrain['stcpb'].iloc[i])\n",
    "    dst = str(autrain['dttl'].iloc[i])+':'+str(autrain['dwin'].iloc[i]) + str(autrain['dtcpb'].iloc[i])\n",
    "    if src not in xautrainLookUp:\n",
    "        xautrainLookUp[src] = count\n",
    "        # xautrain.append([0,int(autrain['sttl'].iloc[i]), int(autrain['swin'].iloc[i])])\n",
    "        xautrain.append([int(autrain['sttl'].iloc[i]), int(autrain['swin'].iloc[i])])\n",
    "        count += 1\n",
    "    if dst not in xautrainLookUp:\n",
    "        xautrainLookUp[dst] = count\n",
    "        # xautrain.append([0, int(autrain['dttl'].iloc[i]), int(autrain['dwin'].iloc[i])])\n",
    "        xautrain.append([int(autrain['dttl'].iloc[i]), int(autrain['dwin'].iloc[i])])\n",
    "        count += 1\n",
    "    edge_index_autrain.append([xautrainLookUp[src], xautrainLookUp[dst]])\n",
    "    edge_attr_autrain.append(list(autrain.iloc[i].drop(['sttl', 'dttl','swin','dwin','Label','stcpb','dtcpb']).values))\n",
    "\n",
    "\n",
    "\n",
    "# Convert x to tensor\n",
    "x_autrain_tensor = torch.tensor(xautrain, dtype=torch.float)\n",
    "\n",
    "# Convert edge_index to tensor\n",
    "edge_index_autrain_tensor = torch.tensor(edge_index_autrain, dtype=torch.long).t()  # Transpose for correct format\n",
    "\n",
    "# Convert edge_attr to tensor\n",
    "edge_attr_autrain_tensor = torch.tensor(edge_attr_autrain, dtype=torch.float)\n",
    "\n",
    "print(x_autrain_tensor.shape, edge_index_autrain_tensor.shape, edge_attr_autrain_tensor.shape)"
   ]
  },
  {
   "cell_type": "markdown",
   "metadata": {},
   "source": [
    "## Author's Testing Dataset"
   ]
  },
  {
   "cell_type": "code",
   "execution_count": 33,
   "metadata": {},
   "outputs": [],
   "source": [
    "autestnodes = set()\n",
    "autestUnique = autest\n",
    "for i in range(len(autest)):\n",
    "    src = str(autest['sttl'].iloc[i])+':'+str(autest['swin'].iloc[i]) + str(autest['stcpb'].iloc[i])\n",
    "    dst = str(autest['dttl'].iloc[i])+':'+str(autest['dwin'].iloc[i]) + str(autest['dtcpb'].iloc[i])\n",
    "    autestnodes.add(src)\n",
    "    autestnodes.add(dst)\n",
    "\n",
    "\n",
    "#Find unique (srcip,sport,dstip,dsport) tuples in train\n",
    "autest_tuples = set()\n",
    "for i in range(len(autest)):\n",
    "    autest_tuples.add((autest['sttl'].iloc[i], autest['swin'].iloc[i], autest['dttl'].iloc[i], autest['dwin'].iloc[i], autest['stcpb'].iloc[i], autest['dtcpb'].iloc[i]))"
   ]
  },
  {
   "cell_type": "code",
   "execution_count": 34,
   "metadata": {},
   "outputs": [
    {
     "name": "stdout",
     "output_type": "stream",
     "text": [
      "torch.Size([75920, 2]) torch.Size([2, 38025]) torch.Size([38025, 35])\n"
     ]
    }
   ],
   "source": [
    "xautestLookUp = {}\n",
    "xautest = []\n",
    "count = 0\n",
    "edge_index_autest = []\n",
    "edge_attr_autest = []\n",
    "\n",
    "for i in range(len(autest)):\n",
    "    src = str(autest['sttl'].iloc[i])+':'+str(autest['swin'].iloc[i]) + str(autest['stcpb'].iloc[i])\n",
    "    dst = str(autest['dttl'].iloc[i])+':'+str(autest['dwin'].iloc[i]) + str(autest['dtcpb'].iloc[i])\n",
    "    if src not in xautestLookUp:\n",
    "        xautestLookUp[src] = count\n",
    "        # xautest.append([0,int(autest['sttl'].iloc[i]), int(autest['swin'].iloc[i])])\n",
    "        xautest.append([int(autest['sttl'].iloc[i]), int(autest['swin'].iloc[i])])\n",
    "        count += 1\n",
    "    if dst not in xautestLookUp:\n",
    "        xautestLookUp[dst] = count\n",
    "        # xautest.append([0, int(autest['dttl'].iloc[i]), int(autest['dwin'].iloc[i])])\n",
    "        xautest.append([int(autest['dttl'].iloc[i]), int(autest['dwin'].iloc[i])])\n",
    "        count += 1\n",
    "    edge_index_autest.append([xautestLookUp[src], xautestLookUp[dst]])\n",
    "    edge_attr_autest.append(list(autest.iloc[i].drop(['sttl', 'dttl','swin','dwin','Label','stcpb','dtcpb']).values))\n",
    "\n",
    "\n",
    "\n",
    "# Convert x to tensor\n",
    "x_autest_tensor = torch.tensor(xautest, dtype=torch.float)\n",
    "\n",
    "# Convert edge_index to tensor\n",
    "edge_index_autest_tensor = torch.tensor(edge_index_autest, dtype=torch.long).t()  # Transpose for correct format\n",
    "\n",
    "# Convert edge_attr to tensor\n",
    "edge_attr_autest_tensor = torch.tensor(edge_attr_autest, dtype=torch.float)\n",
    "\n",
    "print(x_autest_tensor.shape, edge_index_autest_tensor.shape, edge_attr_autest_tensor.shape)"
   ]
  },
  {
   "cell_type": "markdown",
   "metadata": {},
   "source": [
    "# GAT Model"
   ]
  },
  {
   "cell_type": "markdown",
   "metadata": {},
   "source": [
    "nn.Linear appplies linear transformation to the incoming data: y = x * transpose(A) + b \n"
   ]
  },
  {
   "cell_type": "code",
   "execution_count": 35,
   "metadata": {},
   "outputs": [],
   "source": [
    "import torch\n",
    "import torch.nn as nn\n",
    "import torch.nn.functional as F\n",
    "from torch_geometric.nn import GATConv\n",
    "\n",
    "class GATClassifier(torch.nn.Module):\n",
    "    def __init__(self, num_node_features, num_edge_features, hidden_channels, num_heads, num_classes):\n",
    "        super(GATClassifier, self).__init__()\n",
    "        self.conv1 = GATConv(num_node_features, hidden_channels, heads=num_heads, add_self_loops=False)\n",
    "        self.conv2 = GATConv(hidden_channels * num_heads, hidden_channels, heads=num_heads, add_self_loops=False)\n",
    "        self.edge_classifier = nn.Linear(hidden_channels * 2 * num_heads + num_edge_features, num_classes)\n",
    "\n",
    "    def forward(self, x, edge_index, edge_attr):\n",
    "        # Apply graph attentional layers\n",
    "        x = self.conv1(x, edge_index)\n",
    "        x = F.relu(x)\n",
    "        x = self.conv2(x, edge_index)\n",
    "        x = F.relu(x)\n",
    "\n",
    "        # Concatenate node features with edge features\n",
    "        num_edges = edge_index.size(1)\n",
    "        node_x = x[edge_index[0]]\n",
    "        node_x_other = x[edge_index[1]]\n",
    "        edge_attr_padded = torch.cat([edge_attr, torch.zeros(num_edges - edge_attr.size(0), edge_attr.size(1))], dim=0)\n",
    "        edge_x = torch.cat([node_x, node_x_other, edge_attr_padded], dim=1)\n",
    "\n",
    "        # Classify edges into classes\n",
    "        edge_scores = self.edge_classifier(edge_x)\n",
    "        return edge_scores"
   ]
  },
  {
   "cell_type": "markdown",
   "metadata": {},
   "source": [
    "## Training"
   ]
  },
  {
   "cell_type": "code",
   "execution_count": 15,
   "metadata": {},
   "outputs": [],
   "source": [
    "# Example usage\n",
    "num_nodes = len(nodes)\n",
    "num_edges = len(train_tuples)\n",
    "num_node_features = 2\n",
    "num_edge_features = 20\n",
    "hidden_channels = 16\n",
    "num_heads = 32\n",
    "num_classes = 26\n",
    "\n",
    "# Instantiate GAT classifier\n",
    "model = GATClassifier(num_node_features, num_edge_features, hidden_channels, num_heads, num_classes)\n",
    "\n",
    "# Forward pass\n",
    "edge_scores_train = model(x_tensor, edge_index_tensor, edge_attr_tensor)"
   ]
  },
  {
   "cell_type": "markdown",
   "metadata": {},
   "source": [
    "## Testing"
   ]
  },
  {
   "cell_type": "code",
   "execution_count": 16,
   "metadata": {},
   "outputs": [],
   "source": [
    "# Example usage\n",
    "num_nodes_test = len(testnodes)\n",
    "num_edges_test = len(test_tuples)\n",
    "\n",
    "# Forward pass\n",
    "edge_scores_test = model(x_test_tensor, edge_index_test_tensor, edge_attr_test_tensor)"
   ]
  },
  {
   "cell_type": "markdown",
   "metadata": {},
   "source": [
    "## Author's training dataset"
   ]
  },
  {
   "cell_type": "code",
   "execution_count": 37,
   "metadata": {},
   "outputs": [],
   "source": [
    "# Example usage\n",
    "num_nodes_autrain = len(autrainnodes)\n",
    "num_edges_autrain = len(autrain_tuples)\n",
    "\n",
    "num_node_features = 2\n",
    "num_edge_features = 35\n",
    "hidden_channels = 16\n",
    "num_heads = 32\n",
    "num_classes = 26\n",
    "\n",
    "# Instantiate GAT classifier\n",
    "GATmodel = GATClassifier(num_node_features, num_edge_features, hidden_channels, num_heads, num_classes)\n",
    "# Forward pass\n",
    "edge_scores_autrain = GATmodel(x_autrain_tensor, edge_index_autrain_tensor, edge_attr_autrain_tensor)"
   ]
  },
  {
   "cell_type": "markdown",
   "metadata": {},
   "source": [
    "Author's testing dataset"
   ]
  },
  {
   "cell_type": "code",
   "execution_count": 38,
   "metadata": {},
   "outputs": [],
   "source": [
    "# Example usage\n",
    "num_nodes_autest = len(autestnodes)\n",
    "num_edges_autest = len(autest_tuples)\n",
    "\n",
    "# Forward pass\n",
    "edge_scores_autest = GATmodel(x_autest_tensor, edge_index_autest_tensor, edge_attr_autest_tensor)"
   ]
  },
  {
   "cell_type": "markdown",
   "metadata": {},
   "source": [
    "# KNN"
   ]
  },
  {
   "cell_type": "markdown",
   "metadata": {},
   "source": [
    "## Author's train test"
   ]
  },
  {
   "cell_type": "code",
   "execution_count": 19,
   "metadata": {},
   "outputs": [],
   "source": [
    "import pandas as pd\n",
    "# Convert edge_scores tensor to a NumPy array\n",
    "edge_scores_train_array = edge_scores_train.detach().numpy()\n",
    "edge_scores_test_array = edge_scores_test.detach().numpy()\n",
    "# Create a DataFrame from the NumPy array\n",
    "columns = [str('Dim')+str(i) for i in range(edge_scores_train_array.shape[1])]\n",
    "edge_scores_train_df = pd.DataFrame(edge_scores_train_array, columns=columns)\n",
    "edge_scores_test_df = pd.DataFrame(edge_scores_test_array, columns=columns)\n",
    "trainLabel = train['Label']\n",
    "testLabel = test['Label']"
   ]
  },
  {
   "cell_type": "code",
   "execution_count": 20,
   "metadata": {},
   "outputs": [
    {
     "name": "stdout",
     "output_type": "stream",
     "text": [
      "Classification Report: \n",
      "               precision    recall  f1-score   support\n",
      "\n",
      "           0       1.00      0.99      0.99     17201\n",
      "           1       0.99      1.00      0.99     17229\n",
      "\n",
      "    accuracy                           0.99     34430\n",
      "   macro avg       0.99      0.99      0.99     34430\n",
      "weighted avg       0.99      0.99      0.99     34430\n",
      "\n"
     ]
    }
   ],
   "source": [
    "from sklearn.neighbors import KNeighborsClassifier\n",
    "from sklearn.model_selection import train_test_split\n",
    "from sklearn.metrics import accuracy_score\n",
    "from sklearn.metrics import classification_report\n",
    "\n",
    "X_train = edge_scores_train_df\n",
    "X_test = edge_scores_test_df\n",
    "y_train = trainLabel\n",
    "y_test = testLabel\n",
    "\n",
    "# Initialize the KNN classifier\n",
    "k = 10  # Number of neighbors\n",
    "knn_classifier = KNeighborsClassifier(n_neighbors=k)\n",
    "\n",
    "# Train the classifier\n",
    "knn_classifier.fit(X_train, y_train)\n",
    "\n",
    "# Predictions on the test set\n",
    "y_pred = knn_classifier.predict(X_test)\n",
    "\n",
    "# Calculate accuracy\n",
    "report = classification_report(y_test, y_pred)\n",
    "print(\"Classification Report: \\n\", report)"
   ]
  },
  {
   "cell_type": "markdown",
   "metadata": {},
   "source": [
    "## Attack Sequence Trace Back"
   ]
  },
  {
   "cell_type": "code",
   "execution_count": 21,
   "metadata": {},
   "outputs": [
    {
     "data": {
      "image/png": "[encoded data removed]",
      "text/plain": [
       "<Figure size 640x480 with 1 Axes>"
      ]
     },
     "metadata": {},
     "output_type": "display_data"
    }
   ],
   "source": [
    "#Retrieve index positions of y_pred = 1\n",
    "indices_of_ones = np.where(y_pred == 1)[0]\n",
    "\n",
    "import networkx as nx\n",
    "import matplotlib.pyplot as plt\n",
    "from datetime import datetime\n",
    "\n",
    "# Create a directed graph\n",
    "traceBackG = nx.DiGraph()\n",
    "\n",
    "for i in indices_of_ones:\n",
    "    src = str(testWithStimeLtime.iloc[i]['srcip']) + str(testWithStimeLtime.iloc[i]['sport'])\n",
    "    dst = str(testWithStimeLtime.iloc[i]['dstip']) + str(testWithStimeLtime.iloc[i]['dsport'])\n",
    "    traceBackG.add_node(src)\n",
    "    traceBackG.add_node(dst)\n",
    "    stime = datetime.fromtimestamp(testWithStimeLtime.iloc[i]['Stime']).strftime('%Y-%m-%d %H:%M:%S')\n",
    "    ltime = datetime.fromtimestamp(testWithStimeLtime.iloc[i]['Ltime']).strftime('%Y-%m-%d %H:%M:%S')\n",
    "    traceBackG.add_edge(src, dst, label=\"Connection Start Time: \" + str(stime) + \", Connection End Time: \"+ str(ltime))\n",
    "\n",
    "\n",
    "# Draw the graph\n",
    "pos = nx.spring_layout(traceBackG)  # Define layout\n",
    "nx.draw(traceBackG, pos, with_labels=True, node_size=1000, node_color='red', font_size=12, font_weight='bold')\n",
    "node_labels = nx.get_node_attributes(traceBackG, 'label')\n",
    "nx.draw_networkx_labels(traceBackG, pos, labels=node_labels, font_size=12, font_weight='bold', font_color='black', \n",
    "                        bbox=dict(facecolor='white', edgecolor='none', boxstyle='round,pad=0.3'))\n",
    "\n",
    "# Show the plot\n",
    "plt.show()"
   ]
  },
  {
   "cell_type": "markdown",
   "metadata": {},
   "source": [
    "Author's test dataset"
   ]
  },
  {
   "cell_type": "code",
   "execution_count": 106,
   "metadata": {},
   "outputs": [
    {
     "name": "stdout",
     "output_type": "stream",
     "text": [
      "Classification Report: \n",
      "               precision    recall  f1-score   support\n",
      "\n",
      "           0       0.65      0.92      0.77     24354\n",
      "           1       0.49      0.13      0.21     13671\n",
      "\n",
      "    accuracy                           0.64     38025\n",
      "   macro avg       0.57      0.53      0.49     38025\n",
      "weighted avg       0.59      0.64      0.56     38025\n",
      "\n"
     ]
    }
   ],
   "source": [
    "import pandas as pd\n",
    "# Convert edge_scores tensor to a NumPy array\n",
    "edge_scores_autest_array = edge_scores_autest.detach().numpy()\n",
    "# Create a DataFrame from the NumPy array\n",
    "#testLabeldf = pd.DataFrame(auEdgeLabel, columns=['Label'])\n",
    "edge_scores_autest_df = pd.DataFrame(edge_scores_autest_array, columns=columns)\n",
    "trainLabel = train['Label']\n",
    "autestLabel = autest['Label']\n",
    "auX_test = edge_scores_autest_df\n",
    "auy_test = autestLabel \n",
    "\n",
    "auy_pred = knn_classifier.predict(edge_scores_autest_df)\n",
    "\n",
    "# Calculate accuracy\n",
    "report = classification_report(autestLabel, auy_pred)\n",
    "print(\"Classification Report: \\n\", report)"
   ]
  },
  {
   "cell_type": "markdown",
   "metadata": {},
   "source": [
    "## Purely using author's training and testing dataset"
   ]
  },
  {
   "cell_type": "code",
   "execution_count": 42,
   "metadata": {},
   "outputs": [
    {
     "name": "stdout",
     "output_type": "stream",
     "text": [
      "Classification Report: \n",
      "               precision    recall  f1-score   support\n",
      "\n",
      "           0       0.92      0.65      0.76     24354\n",
      "           1       0.59      0.90      0.72     13671\n",
      "\n",
      "    accuracy                           0.74     38025\n",
      "   macro avg       0.76      0.78      0.74     38025\n",
      "weighted avg       0.80      0.74      0.75     38025\n",
      "\n"
     ]
    }
   ],
   "source": [
    "from sklearn.neighbors import KNeighborsClassifier\n",
    "from sklearn.model_selection import train_test_split\n",
    "from sklearn.metrics import accuracy_score\n",
    "from sklearn.metrics import classification_report\n",
    "import pandas as pd\n",
    "import numpy as np\n",
    "\n",
    "columns = [str('Dim')+str(i) for i in range(edge_scores_autrain_array.shape[1])]\n",
    "edge_scores_autrain_array = edge_scores_autrain.detach().numpy()\n",
    "edge_scores_autest_array = edge_scores_autest.detach().numpy()\n",
    "\n",
    "edge_scores_autrain_df = pd.DataFrame(edge_scores_autrain_array, columns=columns)\n",
    "edge_scores_autest_df = pd.DataFrame(edge_scores_autest_array, columns=columns)\n",
    "\n",
    "\n",
    "trainLabel = autrain['Label']\n",
    "autestLabel = autest['Label']\n",
    "auX_train = edge_scores_autrain_df\n",
    "auX_test = edge_scores_autest_df\n",
    "\n",
    "# Initialize the KNN classifier\n",
    "k = 5  # Number of neighbors\n",
    "knn_classifier = KNeighborsClassifier(n_neighbors=k)\n",
    "\n",
    "# Train the classifier\n",
    "knn_classifier.fit(auX_train, trainLabel)\n",
    "\n",
    "# Predictions on the test set\n",
    "y_pred = knn_classifier.predict(auX_test)\n",
    "\n",
    "# Calculate accuracy\n",
    "report = classification_report(autestLabel, y_pred)\n",
    "print(\"Classification Report: \\n\", report)"
   ]
  },
  {
   "cell_type": "markdown",
   "metadata": {},
   "source": [
    "# Lazy Predict Scores"
   ]
  },
  {
   "cell_type": "markdown",
   "metadata": {},
   "source": [
    "## User prepared train-test"
   ]
  },
  {
   "cell_type": "code",
   "execution_count": 55,
   "metadata": {},
   "outputs": [
    {
     "name": "stdout",
     "output_type": "stream",
     "text": [
      "'tuple' object has no attribute '__name__'\n",
      "Invalid Classifier(s)\n"
     ]
    },
    {
     "name": "stderr",
     "output_type": "stream",
     "text": [
      " 17%|█▋        | 1/6 [00:05<00:29,  5.97s/it]"
     ]
    },
    {
     "name": "stdout",
     "output_type": "stream",
     "text": [
      "{'Model': 'AdaBoostClassifier', 'Accuracy': 0.9422015683996514, 'Balanced Accuracy': 0.942209702776116, 'ROC AUC': 0.9422097027761159, 'F1 Score': 0.9421962032446103, 'Time taken': 5.965700626373291}\n"
     ]
    },
    {
     "name": "stderr",
     "output_type": "stream",
     "text": [
      " 33%|███▎      | 2/6 [00:15<00:31,  7.95s/it]"
     ]
    },
    {
     "name": "stdout",
     "output_type": "stream",
     "text": [
      "{'Model': 'BaggingClassifier', 'Accuracy': 0.9885564914318908, 'Balanced Accuracy': 0.9885528935873277, 'ROC AUC': 0.9885528935873277, 'F1 Score': 0.988556227304697, 'Time taken': 9.343464851379395}\n"
     ]
    },
    {
     "name": "stderr",
     "output_type": "stream",
     "text": [
      " 50%|█████     | 3/6 [00:16<00:14,  4.81s/it]"
     ]
    },
    {
     "name": "stdout",
     "output_type": "stream",
     "text": [
      "{'Model': 'DecisionTreeClassifier', 'Accuracy': 0.982776648271856, 'Balanced Accuracy': 0.9827768494630491, 'ROC AUC': 0.9827768494630491, 'F1 Score': 0.9827766507563609, 'Time taken': 1.0630788803100586}\n"
     ]
    },
    {
     "name": "stderr",
     "output_type": "stream",
     "text": [
      " 67%|██████▋   | 4/6 [00:58<00:39, 19.70s/it]"
     ]
    },
    {
     "name": "stdout",
     "output_type": "stream",
     "text": [
      "{'Model': 'RandomForestClassifier', 'Accuracy': 0.9901248910833576, 'Balanced Accuracy': 0.9901201132641712, 'ROC AUC': 0.9901201132641712, 'F1 Score': 0.9901245040339248, 'Time taken': 42.533103704452515}\n"
     ]
    },
    {
     "name": "stderr",
     "output_type": "stream",
     "text": [
      " 83%|████████▎ | 5/6 [00:59<00:12, 12.89s/it]"
     ]
    },
    {
     "name": "stdout",
     "output_type": "stream",
     "text": [
      "{'Model': 'XGBClassifier', 'Accuracy': 0.9892535579436538, 'Balanced Accuracy': 0.9892483071434326, 'ROC AUC': 0.9892483071434326, 'F1 Score': 0.9892530547831571, 'Time taken': 0.81636643409729}\n",
      "[LightGBM] [Info] Number of positive: 39866, number of negative: 39990\n",
      "[LightGBM] [Info] Auto-choosing col-wise multi-threading, the overhead of testing was 0.004285 seconds.\n",
      "You can set `force_col_wise=true` to remove the overhead.\n",
      "[LightGBM] [Info] Total Bins 1020\n",
      "[LightGBM] [Info] Number of data points in the train set: 79856, number of used features: 4\n",
      "[LightGBM] [Info] [binary:BoostFromScore]: pavg=0.499224 -> initscore=-0.003106\n",
      "[LightGBM] [Info] Start training from score -0.003106\n"
     ]
    },
    {
     "name": "stderr",
     "output_type": "stream",
     "text": [
      "100%|██████████| 6/6 [01:00<00:00, 10.08s/it]"
     ]
    },
    {
     "name": "stdout",
     "output_type": "stream",
     "text": [
      "{'Model': 'LGBMClassifier', 'Accuracy': 0.9877432471681673, 'Balanced Accuracy': 0.9877366253952606, 'ROC AUC': 0.9877366253952606, 'F1 Score': 0.9877423554145359, 'Time taken': 0.7762844562530518}\n"
     ]
    },
    {
     "name": "stderr",
     "output_type": "stream",
     "text": [
      "\n"
     ]
    }
   ],
   "source": [
    "# List of classifiers to include\n",
    "import sklearn\n",
    "import xgboost\n",
    "import lightgbm\n",
    "import sklearn.discriminant_analysis\n",
    "from lazypredict.Supervised import LazyClassifier\n",
    "\n",
    "\n",
    "classifiers = [\n",
    "    ('AdaBoostClassifier', sklearn.ensemble._weight_boosting.AdaBoostClassifier),\n",
    "    ('BaggingClassifier', sklearn.ensemble._bagging.BaggingClassifier),\n",
    "    ('DecisionTreeClassifier', sklearn.tree._classes.DecisionTreeClassifier),\n",
    "    # ('ExtraTreeClassifier', sklearn.ensemble._forest.ExtraTreeClassifier),\n",
    "    # ('ExtraTreesClassifier', sklearn.ensemble._forest.ExtraTreesClassifier),\n",
    "    # ('KNeighborsClassifier',  sklearn.neighbors._classification.KNeighborsClassifier),\n",
    "    # ('NuSVC', sklearn.svm._classes.NuSVC),\n",
    "    ('RandomForestClassifier', sklearn.ensemble._forest.RandomForestClassifier),\n",
    "    # ('SVC', sklearn.svm._classes.SVC),\n",
    "    ('XGBClassifier', xgboost.sklearn.XGBClassifier),\n",
    "    ('LGBMClassifier', lightgbm.sklearn.LGBMClassifier)]\n",
    "clf = LazyClassifier(verbose=1,ignore_warnings=True, custom_metric=None,classifiers= classifiers, predictions=True)\n",
    "\n",
    "models,predictions = clf.fit(X_train, X_test, y_train, y_test)\n"
   ]
  },
  {
   "cell_type": "code",
   "execution_count": 56,
   "metadata": {},
   "outputs": [
    {
     "name": "stdout",
     "output_type": "stream",
     "text": [
      "AdaBoostClassifier\n",
      "              precision    recall  f1-score   support\n",
      "\n",
      "           0       0.93      0.95      0.94     17201\n",
      "           1       0.95      0.93      0.94     17229\n",
      "\n",
      "    accuracy                           0.94     34430\n",
      "   macro avg       0.94      0.94      0.94     34430\n",
      "weighted avg       0.94      0.94      0.94     34430\n",
      "\n",
      "AUC Scores for each class: 0.9422097027761159\n",
      "-----------------------------------------------------------------------------------\n",
      "-----------------------------------------------------------------------------------\n",
      "BaggingClassifier\n",
      "              precision    recall  f1-score   support\n",
      "\n",
      "           0       0.99      0.98      0.99     17201\n",
      "           1       0.98      0.99      0.99     17229\n",
      "\n",
      "    accuracy                           0.99     34430\n",
      "   macro avg       0.99      0.99      0.99     34430\n",
      "weighted avg       0.99      0.99      0.99     34430\n",
      "\n",
      "AUC Scores for each class: 0.9885528935873277\n",
      "-----------------------------------------------------------------------------------\n",
      "-----------------------------------------------------------------------------------\n",
      "DecisionTreeClassifier\n",
      "              precision    recall  f1-score   support\n",
      "\n",
      "           0       0.98      0.98      0.98     17201\n",
      "           1       0.98      0.98      0.98     17229\n",
      "\n",
      "    accuracy                           0.98     34430\n",
      "   macro avg       0.98      0.98      0.98     34430\n",
      "weighted avg       0.98      0.98      0.98     34430\n",
      "\n",
      "AUC Scores for each class: 0.9827768494630491\n",
      "-----------------------------------------------------------------------------------\n",
      "-----------------------------------------------------------------------------------\n",
      "RandomForestClassifier\n",
      "              precision    recall  f1-score   support\n",
      "\n",
      "           0       1.00      0.98      0.99     17201\n",
      "           1       0.98      1.00      0.99     17229\n",
      "\n",
      "    accuracy                           0.99     34430\n",
      "   macro avg       0.99      0.99      0.99     34430\n",
      "weighted avg       0.99      0.99      0.99     34430\n",
      "\n",
      "AUC Scores for each class: 0.9901201132641712\n",
      "-----------------------------------------------------------------------------------\n",
      "-----------------------------------------------------------------------------------\n",
      "XGBClassifier\n",
      "              precision    recall  f1-score   support\n",
      "\n",
      "           0       1.00      0.98      0.99     17201\n",
      "           1       0.98      1.00      0.99     17229\n",
      "\n",
      "    accuracy                           0.99     34430\n",
      "   macro avg       0.99      0.99      0.99     34430\n",
      "weighted avg       0.99      0.99      0.99     34430\n",
      "\n",
      "AUC Scores for each class: 0.9892483071434326\n",
      "-----------------------------------------------------------------------------------\n",
      "-----------------------------------------------------------------------------------\n",
      "LGBMClassifier\n",
      "              precision    recall  f1-score   support\n",
      "\n",
      "           0       1.00      0.98      0.99     17201\n",
      "           1       0.98      1.00      0.99     17229\n",
      "\n",
      "    accuracy                           0.99     34430\n",
      "   macro avg       0.99      0.99      0.99     34430\n",
      "weighted avg       0.99      0.99      0.99     34430\n",
      "\n",
      "AUC Scores for each class: 0.9877366253952606\n",
      "-----------------------------------------------------------------------------------\n",
      "-----------------------------------------------------------------------------------\n"
     ]
    }
   ],
   "source": [
    "from sklearn.metrics import roc_auc_score\n",
    "for m in predictions.columns:\n",
    "    print(m)\n",
    "    print(classification_report(y_test, predictions[m]))\n",
    "    auc_scores = roc_auc_score(y_test, predictions[m], multi_class='ovr')  # Or multi_class='ovo' for one-vs-one\n",
    "    print(\"AUC Scores for each class:\", auc_scores)\n",
    "    print('-----------------------------------------------------------------------------------')\n",
    "    print('-----------------------------------------------------------------------------------')"
   ]
  },
  {
   "cell_type": "markdown",
   "metadata": {},
   "source": [
    "## Lazy Predict for author's train-test dataset"
   ]
  },
  {
   "cell_type": "code",
   "execution_count": 43,
   "metadata": {},
   "outputs": [
    {
     "name": "stderr",
     "output_type": "stream",
     "text": [
      "c:\\ProgramData\\Anaconda3\\Lib\\site-packages\\dask\\dataframe\\_pyarrow_compat.py:17: FutureWarning: Minimal version of pyarrow will soon be increased to 14.0.1. You are using 11.0.0. Please consider upgrading.\n",
      "  warnings.warn(\n"
     ]
    },
    {
     "name": "stdout",
     "output_type": "stream",
     "text": [
      "'tuple' object has no attribute '__name__'\n",
      "Invalid Classifier(s)\n"
     ]
    },
    {
     "name": "stderr",
     "output_type": "stream",
     "text": [
      " 11%|█         | 1/9 [00:24<03:17, 24.65s/it]"
     ]
    },
    {
     "name": "stdout",
     "output_type": "stream",
     "text": [
      "{'Model': 'AdaBoostClassifier', 'Accuracy': 0.6849178172255095, 'Balanced Accuracy': 0.7214722031514209, 'ROC AUC': 0.7214722031514209, 'F1 Score': 0.689708288370907, 'Time taken': 24.649179935455322}\n"
     ]
    },
    {
     "name": "stderr",
     "output_type": "stream",
     "text": [
      " 22%|██▏       | 2/9 [01:00<03:39, 31.36s/it]"
     ]
    },
    {
     "name": "stdout",
     "output_type": "stream",
     "text": [
      "{'Model': 'BaggingClassifier', 'Accuracy': 0.7216042077580539, 'Balanced Accuracy': 0.7537380392556294, 'ROC AUC': 0.7537380392556295, 'F1 Score': 0.7266284624286978, 'Time taken': 36.04914903640747}\n"
     ]
    },
    {
     "name": "stderr",
     "output_type": "stream",
     "text": [
      " 33%|███▎      | 3/9 [01:04<01:52, 18.82s/it]"
     ]
    },
    {
     "name": "stdout",
     "output_type": "stream",
     "text": [
      "{'Model': 'DecisionTreeClassifier', 'Accuracy': 0.715844838921762, 'Balanced Accuracy': 0.7382843106963597, 'ROC AUC': 0.7382843106963596, 'F1 Score': 0.7214964751311289, 'Time taken': 3.896740674972534}\n"
     ]
    },
    {
     "name": "stderr",
     "output_type": "stream",
     "text": [
      " 44%|████▍     | 4/9 [01:04<00:57, 11.49s/it]"
     ]
    },
    {
     "name": "stdout",
     "output_type": "stream",
     "text": [
      "{'Model': 'ExtraTreeClassifier', 'Accuracy': 0.7214727153188691, 'Balanced Accuracy': 0.7390520625037879, 'ROC AUC': 0.7390520625037879, 'F1 Score': 0.7270809793900852, 'Time taken': 0.24692225456237793}\n"
     ]
    },
    {
     "name": "stderr",
     "output_type": "stream",
     "text": [
      " 56%|█████▌    | 5/9 [01:16<00:45, 11.40s/it]"
     ]
    },
    {
     "name": "stdout",
     "output_type": "stream",
     "text": [
      "{'Model': 'ExtraTreesClassifier', 'Accuracy': 0.7124523339907955, 'Balanced Accuracy': 0.7672090126850158, 'ROC AUC': 0.767209012685016, 'F1 Score': 0.7139982063717296, 'Time taken': 11.234181642532349}\n"
     ]
    },
    {
     "name": "stderr",
     "output_type": "stream",
     "text": [
      " 67%|██████▋   | 6/9 [01:26<00:32, 10.99s/it]"
     ]
    },
    {
     "name": "stdout",
     "output_type": "stream",
     "text": [
      "{'Model': 'KNeighborsClassifier', 'Accuracy': 0.7424852071005917, 'Balanced Accuracy': 0.7769057785636408, 'ROC AUC': 0.7769057785636408, 'F1 Score': 0.7470939308195479, 'Time taken': 10.207544803619385}\n"
     ]
    },
    {
     "name": "stderr",
     "output_type": "stream",
     "text": [
      " 78%|███████▊  | 7/9 [02:35<01:00, 30.04s/it]"
     ]
    },
    {
     "name": "stdout",
     "output_type": "stream",
     "text": [
      "{'Model': 'RandomForestClassifier', 'Accuracy': 0.70543063773833, 'Balanced Accuracy': 0.7599786515151246, 'ROC AUC': 0.7599786515151246, 'F1 Score': 0.7069226823103001, 'Time taken': 69.2598147392273}\n"
     ]
    },
    {
     "name": "stderr",
     "output_type": "stream",
     "text": [
      " 89%|████████▉ | 8/9 [02:37<00:21, 21.04s/it]"
     ]
    },
    {
     "name": "stdout",
     "output_type": "stream",
     "text": [
      "{'Model': 'XGBClassifier', 'Accuracy': 0.7100328731097962, 'Balanced Accuracy': 0.7578761328339838, 'ROC AUC': 0.7578761328339838, 'F1 Score': 0.7129841323224386, 'Time taken': 1.7629826068878174}\n",
      "[LightGBM] [Info] Number of positive: 36961, number of negative: 34967\n",
      "[LightGBM] [Info] Auto-choosing col-wise multi-threading, the overhead of testing was 0.041557 seconds.\n",
      "You can set `force_col_wise=true` to remove the overhead.\n",
      "[LightGBM] [Info] Total Bins 6630\n",
      "[LightGBM] [Info] Number of data points in the train set: 71928, number of used features: 26\n",
      "[LightGBM] [Info] [binary:BoostFromScore]: pavg=0.513861 -> initscore=0.055459\n",
      "[LightGBM] [Info] Start training from score 0.055459\n"
     ]
    },
    {
     "name": "stderr",
     "output_type": "stream",
     "text": [
      "100%|██████████| 9/9 [02:40<00:00, 17.87s/it]"
     ]
    },
    {
     "name": "stdout",
     "output_type": "stream",
     "text": [
      "{'Model': 'LGBMClassifier', 'Accuracy': 0.6942800788954635, 'Balanced Accuracy': 0.7474554198730887, 'ROC AUC': 0.7474554198730887, 'F1 Score': 0.6959294328187001, 'Time taken': 3.470806121826172}\n"
     ]
    },
    {
     "name": "stderr",
     "output_type": "stream",
     "text": [
      "\n"
     ]
    }
   ],
   "source": [
    "# List of classifiers to include\n",
    "import sklearn\n",
    "import xgboost\n",
    "import lightgbm\n",
    "import sklearn.discriminant_analysis\n",
    "from lazypredict.Supervised import LazyClassifier\n",
    "\n",
    "classifiers = [\n",
    "    ('AdaBoostClassifier', sklearn.ensemble._weight_boosting.AdaBoostClassifier),\n",
    "    ('BaggingClassifier', sklearn.ensemble._bagging.BaggingClassifier),\n",
    "    ('DecisionTreeClassifier', sklearn.tree._classes.DecisionTreeClassifier),\n",
    "    ('ExtraTreeClassifier', sklearn.ensemble._forest.ExtraTreeClassifier),\n",
    "    ('ExtraTreesClassifier', sklearn.ensemble._forest.ExtraTreesClassifier),\n",
    "    ('KNeighborsClassifier',  sklearn.neighbors._classification.KNeighborsClassifier),\n",
    "    # ('NuSVC', sklearn.svm._classes.NuSVC),\n",
    "    ('RandomForestClassifier', sklearn.ensemble._forest.RandomForestClassifier),\n",
    "    # ('SVC', sklearn.svm._classes.SVC),\n",
    "    ('XGBClassifier', xgboost.sklearn.XGBClassifier),\n",
    "    ('LGBMClassifier', lightgbm.sklearn.LGBMClassifier)]\n",
    "clf = LazyClassifier(verbose=1,ignore_warnings=True, custom_metric=None,classifiers= classifiers, predictions=True)\n",
    "\n",
    "aumodels, aupredictions = clf.fit(auX_train, auX_test, autrainLabel, autestLabel)"
   ]
  },
  {
   "cell_type": "code",
   "execution_count": 44,
   "metadata": {},
   "outputs": [
    {
     "name": "stdout",
     "output_type": "stream",
     "text": [
      "AdaBoostClassifier\n",
      "              precision    recall  f1-score   support\n",
      "\n",
      "           0       0.88      0.59      0.71     24354\n",
      "           1       0.54      0.85      0.66     13671\n",
      "\n",
      "    accuracy                           0.68     38025\n",
      "   macro avg       0.71      0.72      0.68     38025\n",
      "weighted avg       0.76      0.68      0.69     38025\n",
      "\n",
      "AUC Scores for each class: 0.7214722031514209\n",
      "-----------------------------------------------------------------------------------\n",
      "-----------------------------------------------------------------------------------\n",
      "BaggingClassifier\n",
      "              precision    recall  f1-score   support\n",
      "\n",
      "           0       0.90      0.64      0.75     24354\n",
      "           1       0.57      0.87      0.69     13671\n",
      "\n",
      "    accuracy                           0.72     38025\n",
      "   macro avg       0.74      0.75      0.72     38025\n",
      "weighted avg       0.78      0.72      0.73     38025\n",
      "\n",
      "AUC Scores for each class: 0.7537380392556295\n",
      "-----------------------------------------------------------------------------------\n",
      "-----------------------------------------------------------------------------------\n",
      "DecisionTreeClassifier\n",
      "              precision    recall  f1-score   support\n",
      "\n",
      "           0       0.87      0.66      0.75     24354\n",
      "           1       0.57      0.82      0.67     13671\n",
      "\n",
      "    accuracy                           0.72     38025\n",
      "   macro avg       0.72      0.74      0.71     38025\n",
      "weighted avg       0.76      0.72      0.72     38025\n",
      "\n",
      "AUC Scores for each class: 0.7382843106963596\n",
      "-----------------------------------------------------------------------------------\n",
      "-----------------------------------------------------------------------------------\n",
      "ExtraTreeClassifier\n",
      "              precision    recall  f1-score   support\n",
      "\n",
      "           0       0.86      0.68      0.76     24354\n",
      "           1       0.58      0.80      0.67     13671\n",
      "\n",
      "    accuracy                           0.72     38025\n",
      "   macro avg       0.72      0.74      0.72     38025\n",
      "weighted avg       0.76      0.72      0.73     38025\n",
      "\n",
      "AUC Scores for each class: 0.7390520625037879\n",
      "-----------------------------------------------------------------------------------\n",
      "-----------------------------------------------------------------------------------\n",
      "ExtraTreesClassifier\n",
      "              precision    recall  f1-score   support\n",
      "\n",
      "           0       0.96      0.57      0.72     24354\n",
      "           1       0.56      0.96      0.71     13671\n",
      "\n",
      "    accuracy                           0.71     38025\n",
      "   macro avg       0.76      0.77      0.71     38025\n",
      "weighted avg       0.82      0.71      0.71     38025\n",
      "\n",
      "AUC Scores for each class: 0.767209012685016\n",
      "-----------------------------------------------------------------------------------\n",
      "-----------------------------------------------------------------------------------\n",
      "KNeighborsClassifier\n",
      "              precision    recall  f1-score   support\n",
      "\n",
      "           0       0.92      0.65      0.76     24354\n",
      "           1       0.59      0.90      0.72     13671\n",
      "\n",
      "    accuracy                           0.74     38025\n",
      "   macro avg       0.76      0.78      0.74     38025\n",
      "weighted avg       0.80      0.74      0.75     38025\n",
      "\n",
      "AUC Scores for each class: 0.7769057785636408\n",
      "-----------------------------------------------------------------------------------\n",
      "-----------------------------------------------------------------------------------\n",
      "RandomForestClassifier\n",
      "              precision    recall  f1-score   support\n",
      "\n",
      "           0       0.96      0.57      0.71     24354\n",
      "           1       0.55      0.95      0.70     13671\n",
      "\n",
      "    accuracy                           0.71     38025\n",
      "   macro avg       0.75      0.76      0.71     38025\n",
      "weighted avg       0.81      0.71      0.71     38025\n",
      "\n",
      "AUC Scores for each class: 0.7599786515151246\n",
      "-----------------------------------------------------------------------------------\n",
      "-----------------------------------------------------------------------------------\n",
      "XGBClassifier\n",
      "              precision    recall  f1-score   support\n",
      "\n",
      "           0       0.94      0.59      0.72     24354\n",
      "           1       0.56      0.93      0.70     13671\n",
      "\n",
      "    accuracy                           0.71     38025\n",
      "   macro avg       0.75      0.76      0.71     38025\n",
      "weighted avg       0.80      0.71      0.71     38025\n",
      "\n",
      "AUC Scores for each class: 0.7578761328339838\n",
      "-----------------------------------------------------------------------------------\n",
      "-----------------------------------------------------------------------------------\n",
      "LGBMClassifier\n",
      "              precision    recall  f1-score   support\n",
      "\n",
      "           0       0.94      0.56      0.70     24354\n",
      "           1       0.54      0.94      0.69     13671\n",
      "\n",
      "    accuracy                           0.69     38025\n",
      "   macro avg       0.74      0.75      0.69     38025\n",
      "weighted avg       0.80      0.69      0.70     38025\n",
      "\n",
      "AUC Scores for each class: 0.7474554198730887\n",
      "-----------------------------------------------------------------------------------\n",
      "-----------------------------------------------------------------------------------\n"
     ]
    }
   ],
   "source": [
    "from sklearn.metrics import roc_auc_score\n",
    "for model in aupredictions.columns:\n",
    "    print(model)\n",
    "    print(classification_report(autestLabel, aupredictions[model]))\n",
    "    auc_scores = roc_auc_score(autestLabel, aupredictions[model], multi_class='ovr')  # Or multi_class='ovo' for one-vs-one\n",
    "    print(\"AUC Scores for each class:\", auc_scores)\n",
    "    print('-----------------------------------------------------------------------------------')\n",
    "    print('-----------------------------------------------------------------------------------')"
   ]
  },
  {
   "cell_type": "code",
   "execution_count": 111,
   "metadata": {},
   "outputs": [
    {
     "data": {
      "text/html": [
       "<div>\n",
       "<style scoped>\n",
       "    .dataframe tbody tr th:only-of-type {\n",
       "        vertical-align: middle;\n",
       "    }\n",
       "\n",
       "    .dataframe tbody tr th {\n",
       "        vertical-align: top;\n",
       "    }\n",
       "\n",
       "    .dataframe thead th {\n",
       "        text-align: right;\n",
       "    }\n",
       "</style>\n",
       "<table border=\"1\" class=\"dataframe\">\n",
       "  <thead>\n",
       "    <tr style=\"text-align: right;\">\n",
       "      <th></th>\n",
       "      <th>Accuracy</th>\n",
       "      <th>Balanced Accuracy</th>\n",
       "      <th>ROC AUC</th>\n",
       "      <th>F1 Score</th>\n",
       "      <th>Time Taken</th>\n",
       "    </tr>\n",
       "    <tr>\n",
       "      <th>Model</th>\n",
       "      <th></th>\n",
       "      <th></th>\n",
       "      <th></th>\n",
       "      <th></th>\n",
       "      <th></th>\n",
       "    </tr>\n",
       "  </thead>\n",
       "  <tbody>\n",
       "    <tr>\n",
       "      <th>KNeighborsClassifier</th>\n",
       "      <td>0.75</td>\n",
       "      <td>0.79</td>\n",
       "      <td>0.79</td>\n",
       "      <td>0.75</td>\n",
       "      <td>14.69</td>\n",
       "    </tr>\n",
       "    <tr>\n",
       "      <th>XGBClassifier</th>\n",
       "      <td>0.72</td>\n",
       "      <td>0.77</td>\n",
       "      <td>0.77</td>\n",
       "      <td>0.72</td>\n",
       "      <td>2.08</td>\n",
       "    </tr>\n",
       "    <tr>\n",
       "      <th>BaggingClassifier</th>\n",
       "      <td>0.72</td>\n",
       "      <td>0.77</td>\n",
       "      <td>0.77</td>\n",
       "      <td>0.73</td>\n",
       "      <td>48.16</td>\n",
       "    </tr>\n",
       "    <tr>\n",
       "      <th>ExtraTreesClassifier</th>\n",
       "      <td>0.71</td>\n",
       "      <td>0.77</td>\n",
       "      <td>0.77</td>\n",
       "      <td>0.71</td>\n",
       "      <td>15.07</td>\n",
       "    </tr>\n",
       "    <tr>\n",
       "      <th>RandomForestClassifier</th>\n",
       "      <td>0.71</td>\n",
       "      <td>0.77</td>\n",
       "      <td>0.77</td>\n",
       "      <td>0.71</td>\n",
       "      <td>95.48</td>\n",
       "    </tr>\n",
       "    <tr>\n",
       "      <th>SVC</th>\n",
       "      <td>0.70</td>\n",
       "      <td>0.77</td>\n",
       "      <td>0.77</td>\n",
       "      <td>0.70</td>\n",
       "      <td>322.21</td>\n",
       "    </tr>\n",
       "    <tr>\n",
       "      <th>LGBMClassifier</th>\n",
       "      <td>0.70</td>\n",
       "      <td>0.77</td>\n",
       "      <td>0.77</td>\n",
       "      <td>0.70</td>\n",
       "      <td>1.76</td>\n",
       "    </tr>\n",
       "    <tr>\n",
       "      <th>ExtraTreeClassifier</th>\n",
       "      <td>0.72</td>\n",
       "      <td>0.75</td>\n",
       "      <td>0.75</td>\n",
       "      <td>0.72</td>\n",
       "      <td>0.29</td>\n",
       "    </tr>\n",
       "    <tr>\n",
       "      <th>AdaBoostClassifier</th>\n",
       "      <td>0.68</td>\n",
       "      <td>0.75</td>\n",
       "      <td>0.75</td>\n",
       "      <td>0.68</td>\n",
       "      <td>32.22</td>\n",
       "    </tr>\n",
       "    <tr>\n",
       "      <th>DecisionTreeClassifier</th>\n",
       "      <td>0.71</td>\n",
       "      <td>0.74</td>\n",
       "      <td>0.74</td>\n",
       "      <td>0.71</td>\n",
       "      <td>5.69</td>\n",
       "    </tr>\n",
       "    <tr>\n",
       "      <th>NuSVC</th>\n",
       "      <td>0.66</td>\n",
       "      <td>0.73</td>\n",
       "      <td>0.73</td>\n",
       "      <td>0.65</td>\n",
       "      <td>776.54</td>\n",
       "    </tr>\n",
       "  </tbody>\n",
       "</table>\n",
       "</div>"
      ],
      "text/plain": [
       "                        Accuracy  Balanced Accuracy  ROC AUC  F1 Score  \\\n",
       "Model                                                                    \n",
       "KNeighborsClassifier        0.75               0.79     0.79      0.75   \n",
       "XGBClassifier               0.72               0.77     0.77      0.72   \n",
       "BaggingClassifier           0.72               0.77     0.77      0.73   \n",
       "ExtraTreesClassifier        0.71               0.77     0.77      0.71   \n",
       "RandomForestClassifier      0.71               0.77     0.77      0.71   \n",
       "SVC                         0.70               0.77     0.77      0.70   \n",
       "LGBMClassifier              0.70               0.77     0.77      0.70   \n",
       "ExtraTreeClassifier         0.72               0.75     0.75      0.72   \n",
       "AdaBoostClassifier          0.68               0.75     0.75      0.68   \n",
       "DecisionTreeClassifier      0.71               0.74     0.74      0.71   \n",
       "NuSVC                       0.66               0.73     0.73      0.65   \n",
       "\n",
       "                        Time Taken  \n",
       "Model                               \n",
       "KNeighborsClassifier         14.69  \n",
       "XGBClassifier                 2.08  \n",
       "BaggingClassifier            48.16  \n",
       "ExtraTreesClassifier         15.07  \n",
       "RandomForestClassifier       95.48  \n",
       "SVC                         322.21  \n",
       "LGBMClassifier                1.76  \n",
       "ExtraTreeClassifier           0.29  \n",
       "AdaBoostClassifier           32.22  \n",
       "DecisionTreeClassifier        5.69  \n",
       "NuSVC                       776.54  "
      ]
     },
     "execution_count": 111,
     "metadata": {},
     "output_type": "execute_result"
    }
   ],
   "source": [
    "aumodels"
   ]
  },
  {
   "cell_type": "markdown",
   "metadata": {},
   "source": [
    "# GCN"
   ]
  },
  {
   "cell_type": "code",
   "execution_count": 45,
   "metadata": {},
   "outputs": [],
   "source": [
    "import torch\n",
    "import torch.nn as nn\n",
    "import torch.nn.functional as F\n",
    "from torch_geometric.nn import GCNConv\n",
    "\n",
    "class GCNClassifier(torch.nn.Module):\n",
    "    def __init__(self, num_node_features, num_edge_features, hidden_channels, num_classes):\n",
    "        super(GCNClassifier, self).__init__()\n",
    "        self.conv1 = GCNConv(num_node_features, hidden_channels)\n",
    "        self.conv2 = GCNConv(hidden_channels, hidden_channels)\n",
    "        self.edge_classifier = nn.Linear(hidden_channels * 2 + num_edge_features, num_classes)\n",
    "\n",
    "    def forward(self, x, edge_index, edge_attr):\n",
    "        # Apply graph convolutional layers\n",
    "        x = self.conv1(x, edge_index)\n",
    "        x = F.relu(x)\n",
    "        x = self.conv2(x, edge_index)\n",
    "        x = F.relu(x)\n",
    "\n",
    "        # Concatenate node features with edge features\n",
    "        num_edges = edge_index.size(1)\n",
    "        node_x = x[edge_index[0]]\n",
    "        node_x_other = x[edge_index[1]]\n",
    "        edge_attr_padded = torch.cat([edge_attr, torch.zeros(num_edges - edge_attr.size(0), edge_attr.size(1))], dim=0)\n",
    "        edge_x = torch.cat([node_x, node_x_other, edge_attr_padded], dim=1)\n",
    "\n",
    "        # Classify edges into classes\n",
    "        edge_scores = self.edge_classifier(edge_x)\n",
    "        return edge_scores"
   ]
  },
  {
   "cell_type": "markdown",
   "metadata": {},
   "source": [
    "## Training using user prepared dataset"
   ]
  },
  {
   "cell_type": "code",
   "execution_count": 117,
   "metadata": {},
   "outputs": [],
   "source": [
    "num_nodes = len(nodes)\n",
    "num_edges = len(train_tuples)\n",
    "num_node_features = 2\n",
    "num_edge_features = 20\n",
    "hidden_channels = 8\n",
    "num_classes = 26\n",
    "\n",
    "GCNmodel1 = GCNClassifier(num_node_features, num_edge_features, hidden_channels, num_classes)\n",
    "\n",
    "\n",
    "GCNedge_scores_train = GCNmodel1(x_tensor, edge_index_tensor, edge_attr_tensor)"
   ]
  },
  {
   "cell_type": "markdown",
   "metadata": {},
   "source": [
    "## Testing with user prepared dataset"
   ]
  },
  {
   "cell_type": "code",
   "execution_count": 118,
   "metadata": {},
   "outputs": [],
   "source": [
    "num_nodes_test = len(testnodes)\n",
    "num_edges_test = len(test_tuples)\n",
    "\n",
    "# Forward pass\n",
    "GCNedge_scores_test = GCNmodel1(x_test_tensor, edge_index_test_tensor, edge_attr_test_tensor)"
   ]
  },
  {
   "cell_type": "markdown",
   "metadata": {},
   "source": [
    "## Training using Author's Train set"
   ]
  },
  {
   "cell_type": "code",
   "execution_count": 46,
   "metadata": {},
   "outputs": [],
   "source": [
    "num_nodes_autrain = len(autrainnodes)\n",
    "num_edges_autrain = len(autrain_tuples)\n",
    "num_node_features = 2\n",
    "num_edge_features = 35\n",
    "hidden_channels = 8\n",
    "num_classes = 26\n",
    "\n",
    "GCNmodel2 = GCNClassifier(num_node_features, num_edge_features, hidden_channels, num_classes)\n",
    "GCNedge_scores_autrain = GCNmodel2(x_autrain_tensor, edge_index_autrain_tensor, edge_attr_autrain_tensor)"
   ]
  },
  {
   "cell_type": "markdown",
   "metadata": {},
   "source": [
    "## Testing using Author's Test set"
   ]
  },
  {
   "cell_type": "code",
   "execution_count": 47,
   "metadata": {},
   "outputs": [],
   "source": [
    "# Example usage\n",
    "num_nodes_autest = len(autestnodes)\n",
    "num_edges_autest = len(autest_tuples)\n",
    "\n",
    "\n",
    "# Forward pass\n",
    "GCNedge_scores_autest = GCNmodel2(x_autest_tensor, edge_index_autest_tensor, edge_attr_autest_tensor)"
   ]
  },
  {
   "cell_type": "markdown",
   "metadata": {},
   "source": [
    "## KNN"
   ]
  },
  {
   "cell_type": "markdown",
   "metadata": {},
   "source": [
    "## User's train-test"
   ]
  },
  {
   "cell_type": "code",
   "execution_count": 121,
   "metadata": {},
   "outputs": [],
   "source": [
    "import pandas as pd\n",
    "# Convert edge_scores tensor to a NumPy array\n",
    "GCNedge_scores_train_array = GCNedge_scores_train.detach().numpy()\n",
    "GCNedge_scores_test_array = GCNedge_scores_test.detach().numpy()\n",
    "# Create a DataFrame from the NumPy array\n",
    "columns = [str('Dim')+str(i) for i in range(GCNedge_scores_train_array.shape[1])]\n",
    "GCNedge_scores_train_df = pd.DataFrame(GCNedge_scores_train_array, columns=columns)\n",
    "GCNedge_scores_test_df = pd.DataFrame(GCNedge_scores_test_array, columns=columns)\n",
    "trainLabel = train['Label']\n",
    "testLabel = test['Label']"
   ]
  },
  {
   "cell_type": "code",
   "execution_count": 123,
   "metadata": {},
   "outputs": [
    {
     "name": "stdout",
     "output_type": "stream",
     "text": [
      "Classification Report: \n",
      "               precision    recall  f1-score   support\n",
      "\n",
      "           0       1.00      0.99      0.99     17201\n",
      "           1       0.99      1.00      0.99     17229\n",
      "\n",
      "    accuracy                           0.99     34430\n",
      "   macro avg       0.99      0.99      0.99     34430\n",
      "weighted avg       0.99      0.99      0.99     34430\n",
      "\n"
     ]
    }
   ],
   "source": [
    "from sklearn.neighbors import KNeighborsClassifier\n",
    "from sklearn.model_selection import train_test_split\n",
    "from sklearn.metrics import accuracy_score\n",
    "from sklearn.metrics import classification_report\n",
    "\n",
    "GCNX_train = GCNedge_scores_train_df\n",
    "GCNX_test = GCNedge_scores_test_df\n",
    "y_train = trainLabel\n",
    "y_test = testLabel\n",
    "\n",
    "# Initialize the KNN classifier\n",
    "k = 10  # Number of neighbors\n",
    "knn_classifier = KNeighborsClassifier(n_neighbors=k)\n",
    "\n",
    "# Train the classifier\n",
    "knn_classifier.fit(GCNX_train, y_train)\n",
    "\n",
    "# Predictions on the test set\n",
    "y_pred = knn_classifier.predict(GCNX_test)\n",
    "\n",
    "# Calculate accuracy\n",
    "report = classification_report(y_test, y_pred)\n",
    "print(\"Classification Report: \\n\", report)"
   ]
  },
  {
   "cell_type": "markdown",
   "metadata": {},
   "source": []
  },
  {
   "cell_type": "code",
   "execution_count": 48,
   "metadata": {},
   "outputs": [
    {
     "name": "stdout",
     "output_type": "stream",
     "text": [
      "Classification Report: \n",
      "               precision    recall  f1-score   support\n",
      "\n",
      "           0       0.59      0.40      0.48     24354\n",
      "           1       0.32      0.50      0.39     13671\n",
      "\n",
      "    accuracy                           0.44     38025\n",
      "   macro avg       0.45      0.45      0.43     38025\n",
      "weighted avg       0.49      0.44      0.45     38025\n",
      "\n"
     ]
    }
   ],
   "source": [
    "import pandas as pd\n",
    "# Convert edge_scores tensor to a NumPy array\n",
    "GCNedge_scores_autest_array = GCNedge_scores_autest.detach().numpy()\n",
    "# Create a DataFrame from the NumPy array\n",
    "#testLabeldf = pd.DataFrame(auEdgeLabel, columns=['Label'])\n",
    "GCNedge_scores_autest_df = pd.DataFrame(GCNedge_scores_autest_array, columns=columns)\n",
    "trainLabel = train['Label']\n",
    "autestLabel = autest['Label']\n",
    "auX_test = GCNedge_scores_autest_df\n",
    "auy_test = autestLabel \n",
    "\n",
    "auy_pred = knn_classifier.predict(GCNedge_scores_autest_df)\n",
    "\n",
    "# Calculate accuracy\n",
    "report = classification_report(autestLabel, auy_pred)\n",
    "print(\"Classification Report: \\n\", report)"
   ]
  },
  {
   "cell_type": "markdown",
   "metadata": {},
   "source": [
    "## Author's train-test Set"
   ]
  },
  {
   "cell_type": "code",
   "execution_count": 50,
   "metadata": {},
   "outputs": [
    {
     "name": "stdout",
     "output_type": "stream",
     "text": [
      "Classification Report: \n",
      "               precision    recall  f1-score   support\n",
      "\n",
      "           0       0.91      0.71      0.80     24354\n",
      "           1       0.63      0.87      0.73     13671\n",
      "\n",
      "    accuracy                           0.77     38025\n",
      "   macro avg       0.77      0.79      0.76     38025\n",
      "weighted avg       0.81      0.77      0.77     38025\n",
      "\n"
     ]
    }
   ],
   "source": [
    "GCNedge_scores_autrain_array = GCNedge_scores_autrain.detach().numpy()\n",
    "GCNedge_scores_autest_array = GCNedge_scores_autest.detach().numpy()\n",
    "\n",
    "GCNedge_scores_autrain_df = pd.DataFrame(GCNedge_scores_autrain_array, columns=columns)\n",
    "GCNedge_scores_autest_df = pd.DataFrame(GCNedge_scores_autest_array, columns=columns)\n",
    "\n",
    "\n",
    "trainLabel = autrain['Label']\n",
    "autestLabel = autest['Label']\n",
    "auX_train = GCNedge_scores_autrain_df\n",
    "auX_test = GCNedge_scores_autest_df\n",
    "\n",
    "# Initialize the KNN classifier\n",
    "k = 10  # Number of neighbors\n",
    "knn_classifier = KNeighborsClassifier(n_neighbors=k)\n",
    "\n",
    "# Train the classifier\n",
    "knn_classifier.fit(auX_train, trainLabel)\n",
    "\n",
    "# Predictions on the test set\n",
    "y_pred = knn_classifier.predict(auX_test)\n",
    "\n",
    "# Calculate accuracy\n",
    "report = classification_report(autestLabel, y_pred)\n",
    "print(\"Classification Report: \\n\", report)"
   ]
  },
  {
   "cell_type": "markdown",
   "metadata": {},
   "source": [
    "## Lazy Predict"
   ]
  },
  {
   "cell_type": "code",
   "execution_count": 51,
   "metadata": {},
   "outputs": [
    {
     "name": "stdout",
     "output_type": "stream",
     "text": [
      "'tuple' object has no attribute '__name__'\n",
      "Invalid Classifier(s)\n"
     ]
    },
    {
     "name": "stderr",
     "output_type": "stream",
     "text": [
      " 11%|█         | 1/9 [00:27<03:41, 27.68s/it]"
     ]
    },
    {
     "name": "stdout",
     "output_type": "stream",
     "text": [
      "{'Model': 'AdaBoostClassifier', 'Accuracy': 0.6721367521367522, 'Balanced Accuracy': 0.7208475972385155, 'ROC AUC': 0.7208475972385155, 'F1 Score': 0.6745444486028772, 'Time taken': 27.67729377746582}\n"
     ]
    },
    {
     "name": "stderr",
     "output_type": "stream",
     "text": [
      " 22%|██▏       | 2/9 [01:19<04:54, 42.06s/it]"
     ]
    },
    {
     "name": "stdout",
     "output_type": "stream",
     "text": [
      "{'Model': 'BaggingClassifier', 'Accuracy': 0.7519000657462196, 'Balanced Accuracy': 0.7710841833017847, 'ROC AUC': 0.7710841833017847, 'F1 Score': 0.756890193784042, 'Time taken': 52.11885380744934}\n"
     ]
    },
    {
     "name": "stderr",
     "output_type": "stream",
     "text": [
      " 33%|███▎      | 3/9 [01:25<02:31, 25.28s/it]"
     ]
    },
    {
     "name": "stdout",
     "output_type": "stream",
     "text": [
      "{'Model': 'DecisionTreeClassifier', 'Accuracy': 0.7228665351742275, 'Balanced Accuracy': 0.7405733474914098, 'ROC AUC': 0.7405733474914098, 'F1 Score': 0.7284467587430478, 'Time taken': 5.3071489334106445}\n"
     ]
    },
    {
     "name": "stderr",
     "output_type": "stream",
     "text": [
      " 44%|████▍     | 4/9 [01:25<01:17, 15.40s/it]"
     ]
    },
    {
     "name": "stdout",
     "output_type": "stream",
     "text": [
      "{'Model': 'ExtraTreeClassifier', 'Accuracy': 0.7294674556213018, 'Balanced Accuracy': 0.7454698129082753, 'ROC AUC': 0.7454698129082753, 'F1 Score': 0.7348929624231127, 'Time taken': 0.2662537097930908}\n"
     ]
    },
    {
     "name": "stderr",
     "output_type": "stream",
     "text": [
      " 56%|█████▌    | 5/9 [01:37<00:56, 14.10s/it]"
     ]
    },
    {
     "name": "stdout",
     "output_type": "stream",
     "text": [
      "{'Model': 'ExtraTreesClassifier', 'Accuracy': 0.7385404339250493, 'Balanced Accuracy': 0.7844789275889648, 'ROC AUC': 0.7844789275889648, 'F1 Score': 0.7418836908318112, 'Time taken': 11.783855676651001}\n"
     ]
    },
    {
     "name": "stderr",
     "output_type": "stream",
     "text": [
      " 67%|██████▋   | 6/9 [01:48<00:39, 13.28s/it]"
     ]
    },
    {
     "name": "stdout",
     "output_type": "stream",
     "text": [
      "{'Model': 'KNeighborsClassifier', 'Accuracy': 0.7545562130177514, 'Balanced Accuracy': 0.7819976014311183, 'ROC AUC': 0.7819976014311184, 'F1 Score': 0.7593879077469844, 'Time taken': 11.695439100265503}\n"
     ]
    },
    {
     "name": "stderr",
     "output_type": "stream",
     "text": [
      " 78%|███████▊  | 7/9 [03:06<01:08, 34.31s/it]"
     ]
    },
    {
     "name": "stdout",
     "output_type": "stream",
     "text": [
      "{'Model': 'RandomForestClassifier', 'Accuracy': 0.7366995397764629, 'Balanced Accuracy': 0.7809561680810416, 'ROC AUC': 0.7809561680810416, 'F1 Score': 0.7402825354499724, 'Time taken': 77.60815596580505}\n"
     ]
    },
    {
     "name": "stderr",
     "output_type": "stream",
     "text": [
      " 89%|████████▉ | 8/9 [03:08<00:23, 23.92s/it]"
     ]
    },
    {
     "name": "stdout",
     "output_type": "stream",
     "text": [
      "{'Model': 'XGBClassifier', 'Accuracy': 0.7469559500328731, 'Balanced Accuracy': 0.7805724408511865, 'ROC AUC': 0.7805724408511865, 'F1 Score': 0.7515732414071622, 'Time taken': 1.6684579849243164}\n",
      "[LightGBM] [Info] Number of positive: 36961, number of negative: 34967\n",
      "[LightGBM] [Info] Auto-choosing col-wise multi-threading, the overhead of testing was 0.008777 seconds.\n",
      "You can set `force_col_wise=true` to remove the overhead.\n",
      "[LightGBM] [Info] Total Bins 6630\n",
      "[LightGBM] [Info] Number of data points in the train set: 71928, number of used features: 26\n",
      "[LightGBM] [Info] [binary:BoostFromScore]: pavg=0.513861 -> initscore=0.055459\n",
      "[LightGBM] [Info] Start training from score 0.055459\n"
     ]
    },
    {
     "name": "stderr",
     "output_type": "stream",
     "text": [
      "100%|██████████| 9/9 [03:09<00:00, 21.10s/it]"
     ]
    },
    {
     "name": "stdout",
     "output_type": "stream",
     "text": [
      "{'Model': 'LGBMClassifier', 'Accuracy': 0.7627087442472058, 'Balanced Accuracy': 0.79524461796576, 'ROC AUC': 0.7952446179657601, 'F1 Score': 0.767186794732271, 'Time taken': 1.7613458633422852}\n"
     ]
    },
    {
     "name": "stderr",
     "output_type": "stream",
     "text": [
      "\n"
     ]
    }
   ],
   "source": [
    "# List of classifiers to include\n",
    "import sklearn\n",
    "import xgboost\n",
    "import lightgbm\n",
    "import sklearn.discriminant_analysis\n",
    "from lazypredict.Supervised import LazyClassifier\n",
    "\n",
    "classifiers = [\n",
    "    ('AdaBoostClassifier', sklearn.ensemble._weight_boosting.AdaBoostClassifier),\n",
    "    ('BaggingClassifier', sklearn.ensemble._bagging.BaggingClassifier),\n",
    "    ('DecisionTreeClassifier', sklearn.tree._classes.DecisionTreeClassifier),\n",
    "    ('ExtraTreeClassifier', sklearn.ensemble._forest.ExtraTreeClassifier),\n",
    "    ('ExtraTreesClassifier', sklearn.ensemble._forest.ExtraTreesClassifier),\n",
    "    ('KNeighborsClassifier',  sklearn.neighbors._classification.KNeighborsClassifier),\n",
    "    # ('NuSVC', sklearn.svm._classes.NuSVC),\n",
    "    ('RandomForestClassifier', sklearn.ensemble._forest.RandomForestClassifier),\n",
    "    # ('SVC', sklearn.svm._classes.SVC),\n",
    "    ('XGBClassifier', xgboost.sklearn.XGBClassifier),\n",
    "    ('LGBMClassifier', lightgbm.sklearn.LGBMClassifier)]\n",
    "clf = LazyClassifier(verbose=1,ignore_warnings=True, custom_metric=None,classifiers= classifiers, predictions=True)\n",
    "\n",
    "aumodels, aupredictions = clf.fit(auX_train, auX_test, autrainLabel, autestLabel)"
   ]
  },
  {
   "cell_type": "code",
   "execution_count": 52,
   "metadata": {},
   "outputs": [
    {
     "name": "stdout",
     "output_type": "stream",
     "text": [
      "AdaBoostClassifier\n",
      "              precision    recall  f1-score   support\n",
      "\n",
      "           0       0.90      0.55      0.68     24354\n",
      "           1       0.53      0.89      0.66     13671\n",
      "\n",
      "    accuracy                           0.67     38025\n",
      "   macro avg       0.71      0.72      0.67     38025\n",
      "weighted avg       0.77      0.67      0.67     38025\n",
      "\n",
      "AUC Scores for each class: 0.7208475972385155\n",
      "-----------------------------------------------------------------------------------\n",
      "-----------------------------------------------------------------------------------\n",
      "BaggingClassifier\n",
      "              precision    recall  f1-score   support\n",
      "\n",
      "           0       0.89      0.70      0.78     24354\n",
      "           1       0.61      0.84      0.71     13671\n",
      "\n",
      "    accuracy                           0.75     38025\n",
      "   macro avg       0.75      0.77      0.75     38025\n",
      "weighted avg       0.79      0.75      0.76     38025\n",
      "\n",
      "AUC Scores for each class: 0.7710841833017847\n",
      "-----------------------------------------------------------------------------------\n",
      "-----------------------------------------------------------------------------------\n",
      "DecisionTreeClassifier\n",
      "              precision    recall  f1-score   support\n",
      "\n",
      "           0       0.86      0.68      0.76     24354\n",
      "           1       0.58      0.80      0.68     13671\n",
      "\n",
      "    accuracy                           0.72     38025\n",
      "   macro avg       0.72      0.74      0.72     38025\n",
      "weighted avg       0.76      0.72      0.73     38025\n",
      "\n",
      "AUC Scores for each class: 0.7405733474914098\n",
      "-----------------------------------------------------------------------------------\n",
      "-----------------------------------------------------------------------------------\n",
      "ExtraTreeClassifier\n",
      "              precision    recall  f1-score   support\n",
      "\n",
      "           0       0.86      0.69      0.77     24354\n",
      "           1       0.59      0.80      0.68     13671\n",
      "\n",
      "    accuracy                           0.73     38025\n",
      "   macro avg       0.73      0.75      0.72     38025\n",
      "weighted avg       0.76      0.73      0.73     38025\n",
      "\n",
      "AUC Scores for each class: 0.7454698129082753\n",
      "-----------------------------------------------------------------------------------\n",
      "-----------------------------------------------------------------------------------\n",
      "ExtraTreesClassifier\n",
      "              precision    recall  f1-score   support\n",
      "\n",
      "           0       0.96      0.62      0.75     24354\n",
      "           1       0.58      0.95      0.72     13671\n",
      "\n",
      "    accuracy                           0.74     38025\n",
      "   macro avg       0.77      0.78      0.74     38025\n",
      "weighted avg       0.82      0.74      0.74     38025\n",
      "\n",
      "AUC Scores for each class: 0.7844789275889648\n",
      "-----------------------------------------------------------------------------------\n",
      "-----------------------------------------------------------------------------------\n",
      "KNeighborsClassifier\n",
      "              precision    recall  f1-score   support\n",
      "\n",
      "           0       0.91      0.68      0.78     24354\n",
      "           1       0.61      0.88      0.72     13671\n",
      "\n",
      "    accuracy                           0.75     38025\n",
      "   macro avg       0.76      0.78      0.75     38025\n",
      "weighted avg       0.80      0.75      0.76     38025\n",
      "\n",
      "AUC Scores for each class: 0.7819976014311184\n",
      "-----------------------------------------------------------------------------------\n",
      "-----------------------------------------------------------------------------------\n",
      "RandomForestClassifier\n",
      "              precision    recall  f1-score   support\n",
      "\n",
      "           0       0.95      0.62      0.75     24354\n",
      "           1       0.58      0.94      0.72     13671\n",
      "\n",
      "    accuracy                           0.74     38025\n",
      "   macro avg       0.77      0.78      0.74     38025\n",
      "weighted avg       0.82      0.74      0.74     38025\n",
      "\n",
      "AUC Scores for each class: 0.7809561680810416\n",
      "-----------------------------------------------------------------------------------\n",
      "-----------------------------------------------------------------------------------\n",
      "XGBClassifier\n",
      "              precision    recall  f1-score   support\n",
      "\n",
      "           0       0.92      0.66      0.77     24354\n",
      "           1       0.60      0.90      0.72     13671\n",
      "\n",
      "    accuracy                           0.75     38025\n",
      "   macro avg       0.76      0.78      0.74     38025\n",
      "weighted avg       0.81      0.75      0.75     38025\n",
      "\n",
      "AUC Scores for each class: 0.7805724408511865\n",
      "-----------------------------------------------------------------------------------\n",
      "-----------------------------------------------------------------------------------\n",
      "LGBMClassifier\n",
      "              precision    recall  f1-score   support\n",
      "\n",
      "           0       0.93      0.68      0.79     24354\n",
      "           1       0.61      0.91      0.73     13671\n",
      "\n",
      "    accuracy                           0.76     38025\n",
      "   macro avg       0.77      0.80      0.76     38025\n",
      "weighted avg       0.82      0.76      0.77     38025\n",
      "\n",
      "AUC Scores for each class: 0.7952446179657601\n",
      "-----------------------------------------------------------------------------------\n",
      "-----------------------------------------------------------------------------------\n"
     ]
    }
   ],
   "source": [
    "from sklearn.metrics import roc_auc_score\n",
    "for model in aupredictions.columns:\n",
    "    print(model)\n",
    "    print(classification_report(autestLabel, aupredictions[model]))\n",
    "    auc_scores = roc_auc_score(autestLabel, aupredictions[model], multi_class='ovr')  # Or multi_class='ovo' for one-vs-one\n",
    "    print(\"AUC Scores for each class:\", auc_scores)\n",
    "    print('-----------------------------------------------------------------------------------')\n",
    "    print('-----------------------------------------------------------------------------------')"
   ]
  },
  {
   "cell_type": "code",
   "execution_count": 53,
   "metadata": {},
   "outputs": [
    {
     "data": {
      "text/html": [
       "<div>\n",
       "<style scoped>\n",
       "    .dataframe tbody tr th:only-of-type {\n",
       "        vertical-align: middle;\n",
       "    }\n",
       "\n",
       "    .dataframe tbody tr th {\n",
       "        vertical-align: top;\n",
       "    }\n",
       "\n",
       "    .dataframe thead th {\n",
       "        text-align: right;\n",
       "    }\n",
       "</style>\n",
       "<table border=\"1\" class=\"dataframe\">\n",
       "  <thead>\n",
       "    <tr style=\"text-align: right;\">\n",
       "      <th></th>\n",
       "      <th>Accuracy</th>\n",
       "      <th>Balanced Accuracy</th>\n",
       "      <th>ROC AUC</th>\n",
       "      <th>F1 Score</th>\n",
       "      <th>Time Taken</th>\n",
       "    </tr>\n",
       "    <tr>\n",
       "      <th>Model</th>\n",
       "      <th></th>\n",
       "      <th></th>\n",
       "      <th></th>\n",
       "      <th></th>\n",
       "      <th></th>\n",
       "    </tr>\n",
       "  </thead>\n",
       "  <tbody>\n",
       "    <tr>\n",
       "      <th>LGBMClassifier</th>\n",
       "      <td>0.76</td>\n",
       "      <td>0.80</td>\n",
       "      <td>0.80</td>\n",
       "      <td>0.77</td>\n",
       "      <td>1.76</td>\n",
       "    </tr>\n",
       "    <tr>\n",
       "      <th>ExtraTreesClassifier</th>\n",
       "      <td>0.74</td>\n",
       "      <td>0.78</td>\n",
       "      <td>0.78</td>\n",
       "      <td>0.74</td>\n",
       "      <td>11.78</td>\n",
       "    </tr>\n",
       "    <tr>\n",
       "      <th>KNeighborsClassifier</th>\n",
       "      <td>0.75</td>\n",
       "      <td>0.78</td>\n",
       "      <td>0.78</td>\n",
       "      <td>0.76</td>\n",
       "      <td>11.70</td>\n",
       "    </tr>\n",
       "    <tr>\n",
       "      <th>RandomForestClassifier</th>\n",
       "      <td>0.74</td>\n",
       "      <td>0.78</td>\n",
       "      <td>0.78</td>\n",
       "      <td>0.74</td>\n",
       "      <td>77.61</td>\n",
       "    </tr>\n",
       "    <tr>\n",
       "      <th>XGBClassifier</th>\n",
       "      <td>0.75</td>\n",
       "      <td>0.78</td>\n",
       "      <td>0.78</td>\n",
       "      <td>0.75</td>\n",
       "      <td>1.67</td>\n",
       "    </tr>\n",
       "    <tr>\n",
       "      <th>BaggingClassifier</th>\n",
       "      <td>0.75</td>\n",
       "      <td>0.77</td>\n",
       "      <td>0.77</td>\n",
       "      <td>0.76</td>\n",
       "      <td>52.12</td>\n",
       "    </tr>\n",
       "    <tr>\n",
       "      <th>ExtraTreeClassifier</th>\n",
       "      <td>0.73</td>\n",
       "      <td>0.75</td>\n",
       "      <td>0.75</td>\n",
       "      <td>0.73</td>\n",
       "      <td>0.27</td>\n",
       "    </tr>\n",
       "    <tr>\n",
       "      <th>DecisionTreeClassifier</th>\n",
       "      <td>0.72</td>\n",
       "      <td>0.74</td>\n",
       "      <td>0.74</td>\n",
       "      <td>0.73</td>\n",
       "      <td>5.31</td>\n",
       "    </tr>\n",
       "    <tr>\n",
       "      <th>AdaBoostClassifier</th>\n",
       "      <td>0.67</td>\n",
       "      <td>0.72</td>\n",
       "      <td>0.72</td>\n",
       "      <td>0.67</td>\n",
       "      <td>27.68</td>\n",
       "    </tr>\n",
       "  </tbody>\n",
       "</table>\n",
       "</div>"
      ],
      "text/plain": [
       "                        Accuracy  Balanced Accuracy  ROC AUC  F1 Score  \\\n",
       "Model                                                                    \n",
       "LGBMClassifier              0.76               0.80     0.80      0.77   \n",
       "ExtraTreesClassifier        0.74               0.78     0.78      0.74   \n",
       "KNeighborsClassifier        0.75               0.78     0.78      0.76   \n",
       "RandomForestClassifier      0.74               0.78     0.78      0.74   \n",
       "XGBClassifier               0.75               0.78     0.78      0.75   \n",
       "BaggingClassifier           0.75               0.77     0.77      0.76   \n",
       "ExtraTreeClassifier         0.73               0.75     0.75      0.73   \n",
       "DecisionTreeClassifier      0.72               0.74     0.74      0.73   \n",
       "AdaBoostClassifier          0.67               0.72     0.72      0.67   \n",
       "\n",
       "                        Time Taken  \n",
       "Model                               \n",
       "LGBMClassifier                1.76  \n",
       "ExtraTreesClassifier         11.78  \n",
       "KNeighborsClassifier         11.70  \n",
       "RandomForestClassifier       77.61  \n",
       "XGBClassifier                 1.67  \n",
       "BaggingClassifier            52.12  \n",
       "ExtraTreeClassifier           0.27  \n",
       "DecisionTreeClassifier        5.31  \n",
       "AdaBoostClassifier           27.68  "
      ]
     },
     "execution_count": 53,
     "metadata": {},
     "output_type": "execute_result"
    }
   ],
   "source": [
    "aumodels"
   ]
  },
  {
   "cell_type": "markdown",
   "metadata": {},
   "source": [
    "# GraphSAGE"
   ]
  },
  {
   "cell_type": "code",
   "execution_count": 56,
   "metadata": {},
   "outputs": [],
   "source": [
    "import torch\n",
    "import torch.nn as nn\n",
    "import torch.nn.functional as F\n",
    "from torch_geometric.nn import SAGEConv\n",
    "class GraphSAGEClassifier(torch.nn.Module):\n",
    "    def __init__(self, num_node_features, num_edge_features, hidden_channels, num_classes):\n",
    "        super(GraphSAGEClassifier, self).__init__()\n",
    "        self.conv1 = SAGEConv(num_node_features, hidden_channels)\n",
    "        self.conv2 = SAGEConv(hidden_channels, hidden_channels)\n",
    "        self.edge_classifier = nn.Linear(hidden_channels * 2 + num_edge_features, num_classes)\n",
    "\n",
    "    def forward(self, x, edge_index, edge_attr):\n",
    "        # Apply GraphSAGE convolutional layers\n",
    "        x = self.conv1(x, edge_index)\n",
    "        x = F.relu(x)\n",
    "        x = self.conv2(x, edge_index)\n",
    "        x = F.relu(x)\n",
    "\n",
    "        # Concatenate node features with edge features\n",
    "        num_edges = edge_index.size(1)\n",
    "        node_x = x[edge_index[0]]\n",
    "        node_x_other = x[edge_index[1]]\n",
    "        edge_attr_padded = torch.cat([edge_attr, torch.zeros(num_edges - edge_attr.size(0), edge_attr.size(1))], dim=0)\n",
    "        edge_x = torch.cat([node_x, node_x_other, edge_attr_padded], dim=1)\n",
    "\n",
    "        # Classify edges into binary class using BCELogit\n",
    "        edge_scores = self.edge_classifier(edge_x)\n",
    "        return edge_scores"
   ]
  },
  {
   "cell_type": "markdown",
   "metadata": {},
   "source": [
    "## User's train-test"
   ]
  },
  {
   "cell_type": "code",
   "execution_count": 130,
   "metadata": {},
   "outputs": [],
   "source": [
    "num_nodes = len(nodes)\n",
    "num_edges = len(train_tuples)\n",
    "num_node_features = 2\n",
    "num_edge_features = 20\n",
    "hidden_channels = 8\n",
    "num_classes = 26\n",
    "\n",
    "GraphSAGEmodel1 = GraphSAGEClassifier(num_node_features, num_edge_features, hidden_channels, num_classes)\n",
    "\n",
    "\n",
    "GraphSAGEedge_scores_train = GraphSAGEmodel1(x_tensor, edge_index_tensor, edge_attr_tensor)"
   ]
  },
  {
   "cell_type": "code",
   "execution_count": 131,
   "metadata": {},
   "outputs": [],
   "source": [
    "num_nodes_test = len(testnodes)\n",
    "num_edges_test = len(test_tuples)\n",
    "\n",
    "# Forward pass\n",
    "GraphSAGEedge_scores_test = GraphSAGEmodel1(x_test_tensor, edge_index_test_tensor, edge_attr_test_tensor)"
   ]
  },
  {
   "cell_type": "markdown",
   "metadata": {},
   "source": [
    "## Author's train-test"
   ]
  },
  {
   "cell_type": "code",
   "execution_count": 57,
   "metadata": {},
   "outputs": [],
   "source": [
    "num_nodes_autrain = len(autrainnodes)\n",
    "num_edges_autrain = len(autrain_tuples)\n",
    "num_node_features = 2\n",
    "num_edge_features = 35\n",
    "hidden_channels = 8\n",
    "num_classes = 26\n",
    "\n",
    "GraphSAGEmodel2 = GraphSAGEClassifier(num_node_features, num_edge_features, hidden_channels, num_classes)\n",
    "GraphSAGEedge_scores_autrain = GraphSAGEmodel2(x_autrain_tensor, edge_index_autrain_tensor, edge_attr_autrain_tensor)"
   ]
  },
  {
   "cell_type": "code",
   "execution_count": 58,
   "metadata": {},
   "outputs": [],
   "source": [
    "# Example usage\n",
    "num_nodes_autest = len(autestnodes)\n",
    "num_edges_autest = len(autest_tuples)\n",
    "\n",
    "\n",
    "# Forward pass\n",
    "GraphSAGEedge_scores_autest = GraphSAGEmodel2(x_autest_tensor, edge_index_autest_tensor, edge_attr_autest_tensor)"
   ]
  },
  {
   "cell_type": "markdown",
   "metadata": {},
   "source": [
    "## KNN"
   ]
  },
  {
   "cell_type": "markdown",
   "metadata": {},
   "source": [
    "## User's train-test"
   ]
  },
  {
   "cell_type": "code",
   "execution_count": 134,
   "metadata": {},
   "outputs": [],
   "source": [
    "import pandas as pd\n",
    "# Convert edge_scores tensor to a NumPy array\n",
    "GraphSAGEedge_scores_train_array = GraphSAGEedge_scores_train.detach().numpy()\n",
    "GraphSAGEedge_scores_test_array = GraphSAGEedge_scores_test.detach().numpy()\n",
    "# Create a DataFrame from the NumPy array\n",
    "columns = [str('Dim')+str(i) for i in range(GraphSAGEedge_scores_train_array.shape[1])]\n",
    "GraphSAGEedge_scores_train_df = pd.DataFrame(GraphSAGEedge_scores_train_array, columns=columns)\n",
    "GraphSAGEedge_scores_test_df = pd.DataFrame(GraphSAGEedge_scores_test_array, columns=columns)\n",
    "trainLabel = train['Label']\n",
    "testLabel = test['Label']"
   ]
  },
  {
   "cell_type": "code",
   "execution_count": 135,
   "metadata": {},
   "outputs": [
    {
     "name": "stdout",
     "output_type": "stream",
     "text": [
      "Classification Report: \n",
      "               precision    recall  f1-score   support\n",
      "\n",
      "           0       1.00      0.99      0.99     17201\n",
      "           1       0.99      1.00      0.99     17229\n",
      "\n",
      "    accuracy                           0.99     34430\n",
      "   macro avg       0.99      0.99      0.99     34430\n",
      "weighted avg       0.99      0.99      0.99     34430\n",
      "\n"
     ]
    }
   ],
   "source": [
    "from sklearn.neighbors import KNeighborsClassifier\n",
    "from sklearn.model_selection import train_test_split\n",
    "from sklearn.metrics import accuracy_score\n",
    "from sklearn.metrics import classification_report\n",
    "\n",
    "GraphSAGEX_train = GraphSAGEedge_scores_train_df\n",
    "GraphSAGEX_test = GraphSAGEedge_scores_test_df\n",
    "y_train = trainLabel\n",
    "y_test = testLabel\n",
    "\n",
    "# Initialize the KNN classifier\n",
    "k = 10  # Number of neighbors\n",
    "knn_classifier = KNeighborsClassifier(n_neighbors=k)\n",
    "\n",
    "# Train the classifier\n",
    "knn_classifier.fit(GraphSAGEX_train, y_train)\n",
    "\n",
    "# Predictions on the test set\n",
    "y_pred = knn_classifier.predict(GraphSAGEX_test)\n",
    "\n",
    "# Calculate accuracy\n",
    "report = classification_report(y_test, y_pred)\n",
    "print(\"Classification Report: \\n\", report)"
   ]
  },
  {
   "cell_type": "code",
   "execution_count": null,
   "metadata": {},
   "outputs": [
    {
     "name": "stdout",
     "output_type": "stream",
     "text": [
      "Classification Report: \n",
      "               precision    recall  f1-score   support\n",
      "\n",
      "           0       0.65      0.99      0.78     24354\n",
      "           1       0.73      0.05      0.09     13671\n",
      "\n",
      "    accuracy                           0.65     38025\n",
      "   macro avg       0.69      0.52      0.44     38025\n",
      "weighted avg       0.68      0.65      0.53     38025\n",
      "\n"
     ]
    }
   ],
   "source": [
    "import pandas as pd\n",
    "# Convert edge_scores tensor to a NumPy array\n",
    "GraphSAGEedge_scores_autest_array = GraphSAGEedge_scores_autest.detach().numpy()\n",
    "# Create a DataFrame from the NumPy array\n",
    "#testLabeldf = pd.DataFrame(auEdgeLabel, columns=['Label'])\n",
    "GraphSAGEedge_scores_autest_df = pd.DataFrame(GraphSAGEedge_scores_autest_array, columns=columns)\n",
    "trainLabel = train['Label']\n",
    "autestLabel = autest['Label']\n",
    "auX_test = GraphSAGEedge_scores_autest_df\n",
    "auy_test = autestLabel \n",
    "\n",
    "auy_pred = knn_classifier.predict(GraphSAGEedge_scores_autest_df)\n",
    "\n",
    "# Calculate accuracy\n",
    "report = classification_report(autestLabel, auy_pred)\n",
    "print(\"Classification Report: \\n\", report)"
   ]
  },
  {
   "cell_type": "markdown",
   "metadata": {},
   "source": [
    "## Author's train-test"
   ]
  },
  {
   "cell_type": "code",
   "execution_count": 59,
   "metadata": {},
   "outputs": [
    {
     "name": "stdout",
     "output_type": "stream",
     "text": [
      "Classification Report: \n",
      "               precision    recall  f1-score   support\n",
      "\n",
      "           0       0.89      0.75      0.81     24354\n",
      "           1       0.65      0.84      0.73     13671\n",
      "\n",
      "    accuracy                           0.78     38025\n",
      "   macro avg       0.77      0.79      0.77     38025\n",
      "weighted avg       0.81      0.78      0.78     38025\n",
      "\n"
     ]
    }
   ],
   "source": [
    "GraphSAGEedge_scores_autrain_array = GraphSAGEedge_scores_autrain.detach().numpy()\n",
    "GraphSAGEedge_scores_autest_array = GraphSAGEedge_scores_autest.detach().numpy()\n",
    "\n",
    "GraphSAGEedge_scores_autrain_df = pd.DataFrame(GraphSAGEedge_scores_autrain_array, columns=columns)\n",
    "GraphSAGEedge_scores_autest_df = pd.DataFrame(GraphSAGEedge_scores_autest_array, columns=columns)\n",
    "\n",
    "\n",
    "trainLabel = autrain['Label']\n",
    "autestLabel = autest['Label']\n",
    "auX_train = GraphSAGEedge_scores_autrain_df\n",
    "auX_test = GraphSAGEedge_scores_autest_df\n",
    "\n",
    "# Initialize the KNN classifier\n",
    "k = 10  # Number of neighbors\n",
    "knn_classifier = KNeighborsClassifier(n_neighbors=k)\n",
    "\n",
    "# Train the classifier\n",
    "knn_classifier.fit(auX_train, trainLabel)\n",
    "\n",
    "# Predictions on the test set\n",
    "y_pred = knn_classifier.predict(auX_test)\n",
    "\n",
    "# Calculate accuracy\n",
    "report = classification_report(autestLabel, y_pred)\n",
    "print(\"Classification Report: \\n\", report)"
   ]
  },
  {
   "cell_type": "markdown",
   "metadata": {},
   "source": [
    "## Lazy Predict"
   ]
  },
  {
   "cell_type": "code",
   "execution_count": 60,
   "metadata": {},
   "outputs": [
    {
     "name": "stdout",
     "output_type": "stream",
     "text": [
      "'tuple' object has no attribute '__name__'\n",
      "Invalid Classifier(s)\n"
     ]
    },
    {
     "name": "stderr",
     "output_type": "stream",
     "text": [
      " 11%|█         | 1/9 [00:28<03:50, 28.78s/it]"
     ]
    },
    {
     "name": "stdout",
     "output_type": "stream",
     "text": [
      "{'Model': 'AdaBoostClassifier', 'Accuracy': 0.6847074293228139, 'Balanced Accuracy': 0.7213560888676096, 'ROC AUC': 0.7213560888676096, 'F1 Score': 0.6894849548989869, 'Time taken': 28.77832269668579}\n"
     ]
    },
    {
     "name": "stderr",
     "output_type": "stream",
     "text": [
      " 22%|██▏       | 2/9 [01:08<04:05, 35.13s/it]"
     ]
    },
    {
     "name": "stdout",
     "output_type": "stream",
     "text": [
      "{'Model': 'BaggingClassifier', 'Accuracy': 0.7404602235371466, 'Balanced Accuracy': 0.7575008664982814, 'ROC AUC': 0.7575008664982813, 'F1 Score': 0.7456667458164385, 'Time taken': 39.56749629974365}\n"
     ]
    },
    {
     "name": "stderr",
     "output_type": "stream",
     "text": [
      " 33%|███▎      | 3/9 [01:12<02:06, 21.00s/it]"
     ]
    },
    {
     "name": "stdout",
     "output_type": "stream",
     "text": [
      "{'Model': 'DecisionTreeClassifier', 'Accuracy': 0.7362524654832348, 'Balanced Accuracy': 0.742424188361021, 'ROC AUC': 0.7424241883610211, 'F1 Score': 0.7410629497361473, 'Time taken': 4.19005012512207}\n"
     ]
    },
    {
     "name": "stderr",
     "output_type": "stream",
     "text": [
      " 44%|████▍     | 4/9 [01:12<01:04, 12.82s/it]"
     ]
    },
    {
     "name": "stdout",
     "output_type": "stream",
     "text": [
      "{'Model': 'ExtraTreeClassifier', 'Accuracy': 0.71844838921762, 'Balanced Accuracy': 0.7320224651066507, 'ROC AUC': 0.7320224651066507, 'F1 Score': 0.7240630513729185, 'Time taken': 0.26975464820861816}\n"
     ]
    },
    {
     "name": "stderr",
     "output_type": "stream",
     "text": [
      " 56%|█████▌    | 5/9 [01:24<00:50, 12.56s/it]"
     ]
    },
    {
     "name": "stdout",
     "output_type": "stream",
     "text": [
      "{'Model': 'ExtraTreesClassifier', 'Accuracy': 0.7317028270874425, 'Balanced Accuracy': 0.7764457275809418, 'ROC AUC': 0.7764457275809418, 'F1 Score': 0.7352231973172317, 'Time taken': 12.097709655761719}\n"
     ]
    },
    {
     "name": "stderr",
     "output_type": "stream",
     "text": [
      " 67%|██████▋   | 6/9 [01:36<00:36, 12.33s/it]"
     ]
    },
    {
     "name": "stdout",
     "output_type": "stream",
     "text": [
      "{'Model': 'KNeighborsClassifier', 'Accuracy': 0.7694937541091387, 'Balanced Accuracy': 0.7894555957948113, 'ROC AUC': 0.7894555957948112, 'F1 Score': 0.7741231665483845, 'Time taken': 11.890898942947388}\n"
     ]
    },
    {
     "name": "stderr",
     "output_type": "stream",
     "text": [
      " 78%|███████▊  | 7/9 [03:01<01:12, 36.05s/it]"
     ]
    },
    {
     "name": "stdout",
     "output_type": "stream",
     "text": [
      "{'Model': 'RandomForestClassifier', 'Accuracy': 0.7243129520052597, 'Balanced Accuracy': 0.7681739060293629, 'ROC AUC': 0.768173906029363, 'F1 Score': 0.7279672601569176, 'Time taken': 84.87489318847656}\n"
     ]
    },
    {
     "name": "stderr",
     "output_type": "stream",
     "text": [
      " 89%|████████▉ | 8/9 [03:03<00:25, 25.30s/it]"
     ]
    },
    {
     "name": "stdout",
     "output_type": "stream",
     "text": [
      "{'Model': 'XGBClassifier', 'Accuracy': 0.7391190006574622, 'Balanced Accuracy': 0.7728981530543855, 'ROC AUC': 0.7728981530543855, 'F1 Score': 0.7438159232092552, 'Time taken': 2.2770042419433594}\n",
      "[LightGBM] [Info] Number of positive: 36961, number of negative: 34967\n",
      "[LightGBM] [Info] Auto-choosing col-wise multi-threading, the overhead of testing was 0.015466 seconds.\n",
      "You can set `force_col_wise=true` to remove the overhead.\n",
      "[LightGBM] [Info] Total Bins 6630\n",
      "[LightGBM] [Info] Number of data points in the train set: 71928, number of used features: 26\n",
      "[LightGBM] [Info] [binary:BoostFromScore]: pavg=0.513861 -> initscore=0.055459\n",
      "[LightGBM] [Info] Start training from score 0.055459\n"
     ]
    },
    {
     "name": "stderr",
     "output_type": "stream",
     "text": [
      "100%|██████████| 9/9 [03:05<00:00, 20.64s/it]"
     ]
    },
    {
     "name": "stdout",
     "output_type": "stream",
     "text": [
      "{'Model': 'LGBMClassifier', 'Accuracy': 0.7212623274161736, 'Balanced Accuracy': 0.7615088163868652, 'ROC AUC': 0.7615088163868651, 'F1 Score': 0.7254260388220992, 'Time taken': 1.780869483947754}\n"
     ]
    },
    {
     "name": "stderr",
     "output_type": "stream",
     "text": [
      "\n"
     ]
    }
   ],
   "source": [
    "# List of classifiers to include\n",
    "import sklearn\n",
    "import xgboost\n",
    "import lightgbm\n",
    "import sklearn.discriminant_analysis\n",
    "from lazypredict.Supervised import LazyClassifier\n",
    "\n",
    "classifiers = [\n",
    "    ('AdaBoostClassifier', sklearn.ensemble._weight_boosting.AdaBoostClassifier),\n",
    "    ('BaggingClassifier', sklearn.ensemble._bagging.BaggingClassifier),\n",
    "    ('DecisionTreeClassifier', sklearn.tree._classes.DecisionTreeClassifier),\n",
    "    ('ExtraTreeClassifier', sklearn.ensemble._forest.ExtraTreeClassifier),\n",
    "    ('ExtraTreesClassifier', sklearn.ensemble._forest.ExtraTreesClassifier),\n",
    "    ('KNeighborsClassifier',  sklearn.neighbors._classification.KNeighborsClassifier),\n",
    "    # ('NuSVC', sklearn.svm._classes.NuSVC),\n",
    "    ('RandomForestClassifier', sklearn.ensemble._forest.RandomForestClassifier),\n",
    "    # ('SVC', sklearn.svm._classes.SVC),\n",
    "    ('XGBClassifier', xgboost.sklearn.XGBClassifier),\n",
    "    ('LGBMClassifier', lightgbm.sklearn.LGBMClassifier)]\n",
    "clf = LazyClassifier(verbose=1,ignore_warnings=True, custom_metric=None,classifiers= classifiers, predictions=True)\n",
    "\n",
    "aumodels, aupredictions = clf.fit(auX_train, auX_test, autrainLabel, autestLabel)"
   ]
  },
  {
   "cell_type": "code",
   "execution_count": 61,
   "metadata": {},
   "outputs": [
    {
     "name": "stdout",
     "output_type": "stream",
     "text": [
      "AdaBoostClassifier\n",
      "              precision    recall  f1-score   support\n",
      "\n",
      "           0       0.88      0.59      0.71     24354\n",
      "           1       0.54      0.85      0.66     13671\n",
      "\n",
      "    accuracy                           0.68     38025\n",
      "   macro avg       0.71      0.72      0.68     38025\n",
      "weighted avg       0.76      0.68      0.69     38025\n",
      "\n",
      "AUC Scores for each class: 0.7213560888676096\n",
      "-----------------------------------------------------------------------------------\n",
      "-----------------------------------------------------------------------------------\n",
      "BaggingClassifier\n",
      "              precision    recall  f1-score   support\n",
      "\n",
      "           0       0.87      0.70      0.77     24354\n",
      "           1       0.60      0.82      0.69     13671\n",
      "\n",
      "    accuracy                           0.74     38025\n",
      "   macro avg       0.74      0.76      0.73     38025\n",
      "weighted avg       0.78      0.74      0.75     38025\n",
      "\n",
      "AUC Scores for each class: 0.7575008664982813\n",
      "-----------------------------------------------------------------------------------\n",
      "-----------------------------------------------------------------------------------\n",
      "DecisionTreeClassifier\n",
      "              precision    recall  f1-score   support\n",
      "\n",
      "           0       0.84      0.72      0.78     24354\n",
      "           1       0.61      0.76      0.68     13671\n",
      "\n",
      "    accuracy                           0.74     38025\n",
      "   macro avg       0.73      0.74      0.73     38025\n",
      "weighted avg       0.76      0.74      0.74     38025\n",
      "\n",
      "AUC Scores for each class: 0.7424241883610211\n",
      "-----------------------------------------------------------------------------------\n",
      "-----------------------------------------------------------------------------------\n",
      "ExtraTreeClassifier\n",
      "              precision    recall  f1-score   support\n",
      "\n",
      "           0       0.85      0.68      0.76     24354\n",
      "           1       0.58      0.78      0.67     13671\n",
      "\n",
      "    accuracy                           0.72     38025\n",
      "   macro avg       0.71      0.73      0.71     38025\n",
      "weighted avg       0.75      0.72      0.72     38025\n",
      "\n",
      "AUC Scores for each class: 0.7320224651066507\n",
      "-----------------------------------------------------------------------------------\n",
      "-----------------------------------------------------------------------------------\n",
      "ExtraTreesClassifier\n",
      "              precision    recall  f1-score   support\n",
      "\n",
      "           0       0.94      0.62      0.75     24354\n",
      "           1       0.58      0.94      0.71     13671\n",
      "\n",
      "    accuracy                           0.73     38025\n",
      "   macro avg       0.76      0.78      0.73     38025\n",
      "weighted avg       0.81      0.73      0.74     38025\n",
      "\n",
      "AUC Scores for each class: 0.7764457275809418\n",
      "-----------------------------------------------------------------------------------\n",
      "-----------------------------------------------------------------------------------\n",
      "KNeighborsClassifier\n",
      "              precision    recall  f1-score   support\n",
      "\n",
      "           0       0.90      0.72      0.80     24354\n",
      "           1       0.63      0.86      0.73     13671\n",
      "\n",
      "    accuracy                           0.77     38025\n",
      "   macro avg       0.77      0.79      0.76     38025\n",
      "weighted avg       0.80      0.77      0.77     38025\n",
      "\n",
      "AUC Scores for each class: 0.7894555957948112\n",
      "-----------------------------------------------------------------------------------\n",
      "-----------------------------------------------------------------------------------\n",
      "RandomForestClassifier\n",
      "              precision    recall  f1-score   support\n",
      "\n",
      "           0       0.94      0.61      0.74     24354\n",
      "           1       0.57      0.92      0.71     13671\n",
      "\n",
      "    accuracy                           0.72     38025\n",
      "   macro avg       0.75      0.77      0.72     38025\n",
      "weighted avg       0.80      0.72      0.73     38025\n",
      "\n",
      "AUC Scores for each class: 0.768173906029363\n",
      "-----------------------------------------------------------------------------------\n",
      "-----------------------------------------------------------------------------------\n",
      "XGBClassifier\n",
      "              precision    recall  f1-score   support\n",
      "\n",
      "           0       0.92      0.65      0.76     24354\n",
      "           1       0.59      0.89      0.71     13671\n",
      "\n",
      "    accuracy                           0.74     38025\n",
      "   macro avg       0.75      0.77      0.74     38025\n",
      "weighted avg       0.80      0.74      0.74     38025\n",
      "\n",
      "AUC Scores for each class: 0.7728981530543855\n",
      "-----------------------------------------------------------------------------------\n",
      "-----------------------------------------------------------------------------------\n",
      "LGBMClassifier\n",
      "              precision    recall  f1-score   support\n",
      "\n",
      "           0       0.92      0.62      0.74     24354\n",
      "           1       0.57      0.90      0.70     13671\n",
      "\n",
      "    accuracy                           0.72     38025\n",
      "   macro avg       0.75      0.76      0.72     38025\n",
      "weighted avg       0.79      0.72      0.73     38025\n",
      "\n",
      "AUC Scores for each class: 0.7615088163868651\n",
      "-----------------------------------------------------------------------------------\n",
      "-----------------------------------------------------------------------------------\n"
     ]
    }
   ],
   "source": [
    "from sklearn.metrics import roc_auc_score\n",
    "for model in aupredictions.columns:\n",
    "    print(model)\n",
    "    print(classification_report(autestLabel, aupredictions[model]))\n",
    "    auc_scores = roc_auc_score(autestLabel, aupredictions[model], multi_class='ovr')  # Or multi_class='ovo' for one-vs-one\n",
    "    print(\"AUC Scores for each class:\", auc_scores)\n",
    "    print('-----------------------------------------------------------------------------------')\n",
    "    print('-----------------------------------------------------------------------------------')"
   ]
  },
  {
   "cell_type": "code",
   "execution_count": 62,
   "metadata": {},
   "outputs": [
    {
     "data": {
      "text/html": [
       "<div>\n",
       "<style scoped>\n",
       "    .dataframe tbody tr th:only-of-type {\n",
       "        vertical-align: middle;\n",
       "    }\n",
       "\n",
       "    .dataframe tbody tr th {\n",
       "        vertical-align: top;\n",
       "    }\n",
       "\n",
       "    .dataframe thead th {\n",
       "        text-align: right;\n",
       "    }\n",
       "</style>\n",
       "<table border=\"1\" class=\"dataframe\">\n",
       "  <thead>\n",
       "    <tr style=\"text-align: right;\">\n",
       "      <th></th>\n",
       "      <th>Accuracy</th>\n",
       "      <th>Balanced Accuracy</th>\n",
       "      <th>ROC AUC</th>\n",
       "      <th>F1 Score</th>\n",
       "      <th>Time Taken</th>\n",
       "    </tr>\n",
       "    <tr>\n",
       "      <th>Model</th>\n",
       "      <th></th>\n",
       "      <th></th>\n",
       "      <th></th>\n",
       "      <th></th>\n",
       "      <th></th>\n",
       "    </tr>\n",
       "  </thead>\n",
       "  <tbody>\n",
       "    <tr>\n",
       "      <th>KNeighborsClassifier</th>\n",
       "      <td>0.77</td>\n",
       "      <td>0.79</td>\n",
       "      <td>0.79</td>\n",
       "      <td>0.77</td>\n",
       "      <td>11.89</td>\n",
       "    </tr>\n",
       "    <tr>\n",
       "      <th>ExtraTreesClassifier</th>\n",
       "      <td>0.73</td>\n",
       "      <td>0.78</td>\n",
       "      <td>0.78</td>\n",
       "      <td>0.74</td>\n",
       "      <td>12.10</td>\n",
       "    </tr>\n",
       "    <tr>\n",
       "      <th>XGBClassifier</th>\n",
       "      <td>0.74</td>\n",
       "      <td>0.77</td>\n",
       "      <td>0.77</td>\n",
       "      <td>0.74</td>\n",
       "      <td>2.28</td>\n",
       "    </tr>\n",
       "    <tr>\n",
       "      <th>RandomForestClassifier</th>\n",
       "      <td>0.72</td>\n",
       "      <td>0.77</td>\n",
       "      <td>0.77</td>\n",
       "      <td>0.73</td>\n",
       "      <td>84.87</td>\n",
       "    </tr>\n",
       "    <tr>\n",
       "      <th>LGBMClassifier</th>\n",
       "      <td>0.72</td>\n",
       "      <td>0.76</td>\n",
       "      <td>0.76</td>\n",
       "      <td>0.73</td>\n",
       "      <td>1.78</td>\n",
       "    </tr>\n",
       "    <tr>\n",
       "      <th>BaggingClassifier</th>\n",
       "      <td>0.74</td>\n",
       "      <td>0.76</td>\n",
       "      <td>0.76</td>\n",
       "      <td>0.75</td>\n",
       "      <td>39.57</td>\n",
       "    </tr>\n",
       "    <tr>\n",
       "      <th>DecisionTreeClassifier</th>\n",
       "      <td>0.74</td>\n",
       "      <td>0.74</td>\n",
       "      <td>0.74</td>\n",
       "      <td>0.74</td>\n",
       "      <td>4.19</td>\n",
       "    </tr>\n",
       "    <tr>\n",
       "      <th>ExtraTreeClassifier</th>\n",
       "      <td>0.72</td>\n",
       "      <td>0.73</td>\n",
       "      <td>0.73</td>\n",
       "      <td>0.72</td>\n",
       "      <td>0.27</td>\n",
       "    </tr>\n",
       "    <tr>\n",
       "      <th>AdaBoostClassifier</th>\n",
       "      <td>0.68</td>\n",
       "      <td>0.72</td>\n",
       "      <td>0.72</td>\n",
       "      <td>0.69</td>\n",
       "      <td>28.78</td>\n",
       "    </tr>\n",
       "  </tbody>\n",
       "</table>\n",
       "</div>"
      ],
      "text/plain": [
       "                        Accuracy  Balanced Accuracy  ROC AUC  F1 Score  \\\n",
       "Model                                                                    \n",
       "KNeighborsClassifier        0.77               0.79     0.79      0.77   \n",
       "ExtraTreesClassifier        0.73               0.78     0.78      0.74   \n",
       "XGBClassifier               0.74               0.77     0.77      0.74   \n",
       "RandomForestClassifier      0.72               0.77     0.77      0.73   \n",
       "LGBMClassifier              0.72               0.76     0.76      0.73   \n",
       "BaggingClassifier           0.74               0.76     0.76      0.75   \n",
       "DecisionTreeClassifier      0.74               0.74     0.74      0.74   \n",
       "ExtraTreeClassifier         0.72               0.73     0.73      0.72   \n",
       "AdaBoostClassifier          0.68               0.72     0.72      0.69   \n",
       "\n",
       "                        Time Taken  \n",
       "Model                               \n",
       "KNeighborsClassifier         11.89  \n",
       "ExtraTreesClassifier         12.10  \n",
       "XGBClassifier                 2.28  \n",
       "RandomForestClassifier       84.87  \n",
       "LGBMClassifier                1.78  \n",
       "BaggingClassifier            39.57  \n",
       "DecisionTreeClassifier        4.19  \n",
       "ExtraTreeClassifier           0.27  \n",
       "AdaBoostClassifier           28.78  "
      ]
     },
     "execution_count": 62,
     "metadata": {},
     "output_type": "execute_result"
    }
   ],
   "source": [
    "aumodels"
   ]
  }
 ],
 "metadata": {
  "kernelspec": {
   "display_name": "base",
   "language": "python",
   "name": "python3"
  },
  "language_info": {
   "codemirror_mode": {
    "name": "ipython",
    "version": 3
   },
   "file_extension": ".py",
   "mimetype": "text/x-python",
   "name": "python",
   "nbconvert_exporter": "python",
   "pygments_lexer": "ipython3",
   "version": "3.11.7"
  }
 },
 "nbformat": 4,
 "nbformat_minor": 2
}
