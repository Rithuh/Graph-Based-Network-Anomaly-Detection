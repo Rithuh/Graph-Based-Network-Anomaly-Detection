{
 "cells": [
  {
   "cell_type": "markdown",
   "metadata": {},
   "source": [
    "# Libraries"
   ]
  },
  {
   "cell_type": "code",
   "execution_count": 4,
   "metadata": {},
   "outputs": [],
   "source": [
    "import pandas as pd\n",
    "import numpy as np\n",
    "import matplotlib.pyplot as plt\n",
    "import seaborn as sns\n",
    "from sklearn.model_selection import train_test_split\n",
    "from sklearn.preprocessing import StandardScaler\n",
    "\n",
    "from sklearn.metrics import accuracy_score\n",
    "from sklearn.metrics import f1_score\n",
    "from sklearn.metrics import confusion_matrix\n",
    "from sklearn.metrics import classification_report\n",
    "from sklearn.metrics import precision_score\n",
    "from sklearn.model_selection import cross_validate\n",
    "from sklearn.model_selection import cross_val_predict\n",
    "\n",
    "from sklearn.neighbors import KNeighborsClassifier\n",
    "from sklearn.linear_model import LogisticRegression\n",
    "from sklearn.ensemble import RandomForestClassifier\n",
    "from sklearn.tree import DecisionTreeClassifier\n",
    "from sklearn.naive_bayes import GaussianNB\n",
    "from sklearn.ensemble import BaggingClassifier\n",
    "from sklearn.svm import SVC\n",
    "from sklearn.ensemble import StackingClassifier\n",
    "\n",
    "import torch\n",
    "import torch.nn as nn\n",
    "import torch.nn.functional as F\n",
    "from torch_geometric.nn import GATConv\n"
   ]
  },
  {
   "cell_type": "markdown",
   "metadata": {},
   "source": [
    "# Dataset Loading"
   ]
  },
  {
   "cell_type": "code",
   "execution_count": 21,
   "metadata": {},
   "outputs": [
    {
     "name": "stderr",
     "output_type": "stream",
     "text": [
      "C:\\Users\\sathi\\AppData\\Local\\Temp\\ipykernel_10140\\1785680868.py:1: DtypeWarning: Columns (46) have mixed types. Specify dtype option on import or set low_memory=False.\n",
      "  train = pd.read_csv(r'D:\\Project Phase II\\Dataset\\finaltrain.csv',encoding='cp1252')\n",
      "C:\\Users\\sathi\\AppData\\Local\\Temp\\ipykernel_10140\\1785680868.py:2: DtypeWarning: Columns (46) have mixed types. Specify dtype option on import or set low_memory=False.\n",
      "  test = pd.read_csv(r'D:\\Project Phase II\\Dataset\\finaltest.csv',encoding='cp1252') #test_set1\n"
     ]
    }
   ],
   "source": [
    "train = pd.read_csv(r'D:\\Project Phase II\\Dataset\\finaltrain.csv',encoding='cp1252')\n",
    "test = pd.read_csv(r'D:\\Project Phase II\\Dataset\\finaltest.csv',encoding='cp1252') #test_set1 \n",
    "autrain = pd.read_csv(r'D:\\Project Phase II\\Dataset\\UNSW_NB15_training-set.csv',encoding='cp1252') #train_set2\n",
    "autest = pd.read_csv(r'D:\\Project Phase II\\Dataset\\UNSW_NB15_testing-set.csv',encoding='cp1252') #test_set2"
   ]
  },
  {
   "cell_type": "markdown",
   "metadata": {},
   "source": [
    "# Input Transformation"
   ]
  },
  {
   "cell_type": "markdown",
   "metadata": {},
   "source": [
    "## Training"
   ]
  },
  {
   "cell_type": "code",
   "execution_count": 7,
   "metadata": {},
   "outputs": [],
   "source": [
    "nodes = set()\n",
    "trainUnique = train\n",
    "for i in range(len(train)):\n",
    "    src = str(train['srcip'].iloc[i])+':'+ str(train['sport'].iloc[i]) + ':' + str(train['sttl'].iloc[i])+':'+str(train['swin'].iloc[i])\n",
    "    dst = str(train['dstip'].iloc[i])+':'+str(train['dsport'].iloc[i]) + ':' + str(train['dttl'].iloc[i])+':'+str(train['dwin'].iloc[i])\n",
    "    nodes.add(src)\n",
    "    nodes.add(dst)\n",
    "\n",
    "\n",
    "#Find unique (srcip,sport,dstip,dsport) tuples in train\n",
    "train_tuples = set()\n",
    "for i in range(len(train)):\n",
    "    train_tuples.add((train['srcip'].iloc[i], train['sport'].iloc[i], train['dstip'].iloc[i], train['dsport'].iloc[i], train['sttl'].iloc[i], train['swin'].iloc[i], train['dttl'].iloc[i], train['dwin'].iloc[i]))"
   ]
  },
  {
   "cell_type": "code",
   "execution_count": 8,
   "metadata": {},
   "outputs": [
    {
     "name": "stdout",
     "output_type": "stream",
     "text": [
      "torch.Size([97138, 2]) torch.Size([2, 79856]) torch.Size([79856, 20])\n"
     ]
    }
   ],
   "source": [
    "xLookUp = {}\n",
    "x = []\n",
    "count = 0\n",
    "edge_index = []\n",
    "edge_attr = []\n",
    "for i in range(len(train)):\n",
    "    src = str(train['srcip'].iloc[i])+':'+ str(train['sport'].iloc[i]) + ':' + str(train['sttl'].iloc[i])+':'+str(train['swin'].iloc[i])\n",
    "    dst = str(train['dstip'].iloc[i])+':'+str(train['dsport'].iloc[i]) + ':' + str(train['dttl'].iloc[i])+':'+str(train['dwin'].iloc[i])\n",
    "    if src not in xLookUp:\n",
    "        xLookUp[src] = count\n",
    "        # x.append([int(train['sport'].iloc[i]), int(train['sttl'].iloc[i]), int(train['swin'].iloc[i])])\n",
    "        x.append([int(train['sttl'].iloc[i]), int(train['swin'].iloc[i])])\n",
    "        count += 1\n",
    "    if dst not in xLookUp:\n",
    "        xLookUp[dst] = count\n",
    "        # x.append([int(train['dsport'].iloc[i]), int(train['dttl'].iloc[i]), int(train['dwin'].iloc[i])])\n",
    "        x.append([int(train['dttl'].iloc[i]), int(train['dwin'].iloc[i])])\n",
    "        count += 1\n",
    "    edge_index.append([xLookUp[src], xLookUp[dst]])\n",
    "    edge_attr.append(list(train.iloc[i].drop(['srcip', 'sport', 'dstip', 'dsport', 'sttl', 'dttl','swin','dwin','Label']).values))\n",
    "\n",
    "\n",
    "# Convert x to tensor\n",
    "x_tensor = torch.tensor(x, dtype=torch.float)\n",
    "\n",
    "# Convert edge_index to tensor\n",
    "edge_index_tensor = torch.tensor(edge_index, dtype=torch.long).t()  # Transpose for correct format\n",
    "\n",
    "# Convert edge_attr to tensor\n",
    "edge_attr_tensor = torch.tensor(edge_attr, dtype=torch.float)\n",
    "\n",
    "print(x_tensor.shape, edge_index_tensor.shape, edge_attr_tensor.shape)"
   ]
  },
  {
   "cell_type": "markdown",
   "metadata": {},
   "source": [
    "## Testing"
   ]
  },
  {
   "cell_type": "code",
   "execution_count": 9,
   "metadata": {},
   "outputs": [],
   "source": [
    "testnodes = set()\n",
    "testUnique = test\n",
    "for i in range(len(test)):\n",
    "    src = str(test['srcip'].iloc[i])+':'+ str(test['sport'].iloc[i]) + ':' + str(test['sttl'].iloc[i])+':'+str(test['swin'].iloc[i])\n",
    "    dst = str(test['dstip'].iloc[i])+':'+str(test['dsport'].iloc[i]) + ':' + str(test['dttl'].iloc[i])+':'+str(test['dwin'].iloc[i])\n",
    "    testnodes.add(src)\n",
    "    testnodes.add(dst)\n",
    "\n",
    "\n",
    "#Find unique (srcip,sport,dstip,dsport) tuples in train\n",
    "test_tuples = set()\n",
    "for i in range(len(test)):\n",
    "    test_tuples.add((test['srcip'].iloc[i], test['sport'].iloc[i], test['dstip'].iloc[i], test['dsport'].iloc[i], test['sttl'].iloc[i], test['swin'].iloc[i], test['dttl'].iloc[i], test['dwin'].iloc[i]))"
   ]
  },
  {
   "cell_type": "code",
   "execution_count": 10,
   "metadata": {},
   "outputs": [
    {
     "name": "stdout",
     "output_type": "stream",
     "text": [
      "torch.Size([42906, 2]) torch.Size([2, 34430]) torch.Size([34430, 20])\n"
     ]
    }
   ],
   "source": [
    "xtestLookUp = {}\n",
    "xtest = []\n",
    "count = 0\n",
    "edge_index_test = []\n",
    "edge_attr_test = []\n",
    "for i in range(len(test)):\n",
    "    src = str(test['srcip'].iloc[i])+':'+ str(test['sport'].iloc[i]) + ':' + str(test['sttl'].iloc[i])+':'+str(test['swin'].iloc[i])\n",
    "    dst = str(test['dstip'].iloc[i])+':'+str(test['dsport'].iloc[i]) + ':' + str(test['dttl'].iloc[i])+':'+str(test['dwin'].iloc[i])\n",
    "    if src not in xtestLookUp:\n",
    "        xtestLookUp[src] = count\n",
    "        # xtest.append([int(test['sport'].iloc[i]), int(test['sttl'].iloc[i]), int(test['swin'].iloc[i])])\n",
    "        xtest.append([int(test['sttl'].iloc[i]), int(test['swin'].iloc[i])])\n",
    "        count += 1\n",
    "    if dst not in xtestLookUp:\n",
    "        xtestLookUp[dst] = count\n",
    "        # xtest.append([int(test['dsport'].iloc[i]), int(test['dttl'].iloc[i]), int(test['dwin'].iloc[i])])\n",
    "        xtest.append([int(test['dttl'].iloc[i]), int(test['dwin'].iloc[i])])\n",
    "        count += 1\n",
    "    edge_index_test.append([xtestLookUp[src], xtestLookUp[dst]])\n",
    "    edge_attr_test.append(list(test.iloc[i].drop(['srcip', 'sport', 'dstip', 'dsport', 'sttl', 'dttl','swin','dwin','Label']).values))\n",
    "\n",
    "\n",
    "# Convert x to tensor\n",
    "x_test_tensor = torch.tensor(xtest, dtype=torch.float)\n",
    "\n",
    "# Convert edge_index to tensor\n",
    "edge_index_test_tensor = torch.tensor(edge_index_test, dtype=torch.long).t()  # Transpose for correct format\n",
    "\n",
    "# Convert edge_attr to tensor\n",
    "edge_attr_test_tensor = torch.tensor(edge_attr_test, dtype=torch.float)\n",
    "\n",
    "print(x_test_tensor.shape, edge_index_test_tensor.shape, edge_attr_test_tensor.shape)"
   ]
  },
  {
   "cell_type": "markdown",
   "metadata": {},
   "source": [
    "## Author's Training Dataset"
   ]
  },
  {
   "cell_type": "markdown",
   "metadata": {},
   "source": [
    "Since srcip, sport, dstip, dsport information is not available, we proceed with having each node feature value as 0, and assume each edge as an unique connection between two imaginary nodes, we add stcpb and dtcpb as placeholders "
   ]
  },
  {
   "cell_type": "code",
   "execution_count": 43,
   "metadata": {},
   "outputs": [],
   "source": [
    "autrainnodes = set()\n",
    "autrainUnique = autrain\n",
    "for i in range(len(autrain)):\n",
    "    src = str(autrain['sttl'].iloc[i])+':'+str(autrain['swin'].iloc[i]) + str(autrain['stcpb'].iloc[i]) + str(autrain['sbytes'].iloc[i]) + str(autrain['Sload'].iloc[i])+ str(autrain['Spkts'].iloc[i])+ str(autrain['smeansz'].iloc[i])+ str(autrain['Sjit'].iloc[i]) + str(autrain['Sintpkt'].iloc[i])\n",
    "    dst = str(autrain['dttl'].iloc[i])+':'+str(autrain['dwin'].iloc[i]) + str(autrain['dtcpb'].iloc[i]) + str(autrain['dbytes'].iloc[i]) + str(autrain['Dload'].iloc[i])+ str(autrain['Dpkts'].iloc[i])+ str(autrain['dmeansz'].iloc[i])+ str(autrain['Djit'].iloc[i]) + str(autrain['Dintpkt'].iloc[i])\n",
    "    autrainnodes.add(src)\n",
    "    autrainnodes.add(dst)\n",
    "\n",
    "\n",
    "#Find unique (srcip,sport,dstip,dsport) tuples in train\n",
    "autrain_tuples = set()\n",
    "for i in range(len(autrain)):\n",
    "    autrain_tuples.add((autrain['sttl'].iloc[i], autrain['swin'].iloc[i], autrain['dttl'].iloc[i], autrain['dwin'].iloc[i], autrain['stcpb'].iloc[i], autrain['dtcpb'].iloc[i], autrain['sbytes'].iloc[i], autrain['dbytes'].iloc[i], autrain['Sload'].iloc[i], autrain['Dload'].iloc[i], autrain['Spkts'].iloc[i], autrain['Dpkts'].iloc[i], autrain['smeansz'].iloc[i], autrain['dmeansz'].iloc[i], autrain['Sjit'].iloc[i], autrain['Djit'].iloc[i], autrain['Sintpkt'].iloc[i], autrain['Dintpkt'].iloc[i]))"
   ]
  },
  {
   "cell_type": "code",
   "execution_count": 44,
   "metadata": {},
   "outputs": [
    {
     "name": "stdout",
     "output_type": "stream",
     "text": [
      "torch.Size([143841, 8]) torch.Size([2, 71930]) torch.Size([71930, 23])\n"
     ]
    }
   ],
   "source": [
    "xautrainLookUp = {}\n",
    "xautrain = []\n",
    "count = 0\n",
    "edge_index_autrain = []\n",
    "edge_attr_autrain = []\n",
    "\n",
    "for i in range(len(autrain)):\n",
    "    src = str(autrain['sttl'].iloc[i])+':'+str(autrain['swin'].iloc[i]) + str(autrain['stcpb'].iloc[i]) + str(autrain['sbytes'].iloc[i]) + str(autrain['Sload'].iloc[i])+ str(autrain['Spkts'].iloc[i])+ str(autrain['smeansz'].iloc[i])+ str(autrain['Sjit'].iloc[i]) + str(autrain['Sintpkt'].iloc[i])\n",
    "    dst = str(autrain['dttl'].iloc[i])+':'+str(autrain['dwin'].iloc[i]) + str(autrain['dtcpb'].iloc[i]) + str(autrain['dbytes'].iloc[i]) + str(autrain['Dload'].iloc[i])+ str(autrain['Dpkts'].iloc[i])+ str(autrain['dmeansz'].iloc[i])+ str(autrain['Djit'].iloc[i]) + str(autrain['Dintpkt'].iloc[i])\n",
    "    if src not in xautrainLookUp:\n",
    "        xautrainLookUp[src] = count\n",
    "        # xautrain.append([0,int(autrain['sttl'].iloc[i]), int(autrain['swin'].iloc[i])])\n",
    "        xautrain.append([int(autrain['sttl'].iloc[i]), int(autrain['swin'].iloc[i]), int(autrain['sbytes'].iloc[i]), int(autrain['Sload'].iloc[i]), int(autrain['Spkts'].iloc[i]), int(autrain['smeansz'].iloc[i]), int(autrain['Sjit'].iloc[i]), int(autrain['Sintpkt'].iloc[i])])\n",
    "        count += 1\n",
    "    if dst not in xautrainLookUp:\n",
    "        xautrainLookUp[dst] = count\n",
    "        # xautrain.append([0, int(autrain['dttl'].iloc[i]), int(autrain['dwin'].iloc[i])])\n",
    "        xautrain.append([int(autrain['dttl'].iloc[i]), int(autrain['dwin'].iloc[i]), int(autrain['dbytes'].iloc[i]), int(autrain['Dload'].iloc[i]), int(autrain['Dpkts'].iloc[i]), int(autrain['dmeansz'].iloc[i]), int(autrain['Djit'].iloc[i]), int(autrain['Dintpkt'].iloc[i])])\n",
    "        count += 1\n",
    "    edge_index_autrain.append([xautrainLookUp[src], xautrainLookUp[dst]])\n",
    "    edge_attr_autrain.append(list(autrain.iloc[i].drop(['sttl', 'dttl','swin','dwin','Label','stcpb','dtcpb', 'sbytes', 'dbytes', 'Sload', 'Dload', 'Spkts', 'Dpkts', 'smeansz', 'dmeansz', 'Sjit', 'Djit', 'Sintpkt', 'Dintpkt']).values))\n",
    "\n",
    "\n",
    "\n",
    "# Convert x to tensor\n",
    "x_autrain_tensor = torch.tensor(xautrain, dtype=torch.float)\n",
    "\n",
    "# Convert edge_index to tensor\n",
    "edge_index_autrain_tensor = torch.tensor(edge_index_autrain, dtype=torch.long).t()  # Transpose for correct format\n",
    "\n",
    "# Convert edge_attr to tensor\n",
    "edge_attr_autrain_tensor = torch.tensor(edge_attr_autrain, dtype=torch.float)\n",
    "\n",
    "print(x_autrain_tensor.shape, edge_index_autrain_tensor.shape, edge_attr_autrain_tensor.shape)"
   ]
  },
  {
   "cell_type": "markdown",
   "metadata": {},
   "source": [
    "## Author's Testing Dataset"
   ]
  },
  {
   "cell_type": "code",
   "execution_count": 45,
   "metadata": {},
   "outputs": [],
   "source": [
    "autestnodes = set()\n",
    "autestUnique = autest\n",
    "for i in range(len(autest)):\n",
    "    src = str(autest['sttl'].iloc[i])+':'+str(autest['swin'].iloc[i]) + str(autest['stcpb'].iloc[i]) + str(autest['sbytes'].iloc[i]) + str(autest['Sload'].iloc[i])+ str(autest['Spkts'].iloc[i])+ str(autest['smeansz'].iloc[i])+ str(autest['Sjit'].iloc[i]) + str(autest['Sintpkt'].iloc[i])\n",
    "    dst = str(autest['dttl'].iloc[i])+':'+str(autest['dwin'].iloc[i]) + str(autest['dtcpb'].iloc[i]) + str(autest['dbytes'].iloc[i]) + str(autest['Dload'].iloc[i])+ str(autest['Dpkts'].iloc[i])+ str(autest['dmeansz'].iloc[i])+ str(autest['Djit'].iloc[i]) + str(autest['Dintpkt'].iloc[i])\n",
    "    autestnodes.add(src)\n",
    "    autestnodes.add(dst)\n",
    "\n",
    "\n",
    "#Find unique (srcip,sport,dstip,dsport) tuples in train\n",
    "autest_tuples = set()\n",
    "for i in range(len(autest)):\n",
    "    autest_tuples.add((autest['sttl'].iloc[i], autest['swin'].iloc[i], autest['dttl'].iloc[i], autest['dwin'].iloc[i], autest['stcpb'].iloc[i], autest['dtcpb'].iloc[i], autest['sbytes'].iloc[i], autest['dbytes'].iloc[i], autest['Sload'].iloc[i], autest['Dload'].iloc[i], autest['Spkts'].iloc[i], autest['Dpkts'].iloc[i], autest['smeansz'].iloc[i], autest['dmeansz'].iloc[i], autest['Sjit'].iloc[i], autest['Djit'].iloc[i], autest['Sintpkt'].iloc[i], autest['Dintpkt'].iloc[i]))"
   ]
  },
  {
   "cell_type": "code",
   "execution_count": 46,
   "metadata": {},
   "outputs": [
    {
     "name": "stdout",
     "output_type": "stream",
     "text": [
      "torch.Size([54669, 8]) torch.Size([2, 27342]) torch.Size([27342, 23])\n"
     ]
    }
   ],
   "source": [
    "xautestLookUp = {}\n",
    "xautest = []\n",
    "count = 0\n",
    "edge_index_autest = []\n",
    "edge_attr_autest = []\n",
    "\n",
    "for i in range(len(autest)):\n",
    "    src = str(autest['sttl'].iloc[i])+':'+str(autest['swin'].iloc[i]) + str(autest['stcpb'].iloc[i]) + str(autest['sbytes'].iloc[i]) + str(autest['Sload'].iloc[i])+ str(autest['Spkts'].iloc[i])+ str(autest['smeansz'].iloc[i])+ str(autest['Sjit'].iloc[i]) + str(autest['Sintpkt'].iloc[i])\n",
    "    dst = str(autest['dttl'].iloc[i])+':'+str(autest['dwin'].iloc[i]) + str(autest['dtcpb'].iloc[i]) + str(autest['dbytes'].iloc[i]) + str(autest['Dload'].iloc[i])+ str(autest['Dpkts'].iloc[i])+ str(autest['dmeansz'].iloc[i])+ str(autest['Djit'].iloc[i]) + str(autest['Dintpkt'].iloc[i])\n",
    "    if src not in xautestLookUp:\n",
    "        xautestLookUp[src] = count\n",
    "        # xautest.append([0,int(autest['sttl'].iloc[i]), int(autest['swin'].iloc[i])])\n",
    "        xautest.append([int(autest['sttl'].iloc[i]), int(autest['swin'].iloc[i]), int(autest['sbytes'].iloc[i]), int(autest['Sload'].iloc[i]), int(autest['Spkts'].iloc[i]), int(autest['smeansz'].iloc[i]), int(autest['Sjit'].iloc[i]), int(autest['Sintpkt'].iloc[i])])\n",
    "        count += 1\n",
    "    if dst not in xautestLookUp:\n",
    "        xautestLookUp[dst] = count\n",
    "        # xautest.append([0, int(autest['dttl'].iloc[i]), int(autest['dwin'].iloc[i])])\n",
    "        xautest.append([int(autest['dttl'].iloc[i]), int(autest['dwin'].iloc[i]), int(autest['dbytes'].iloc[i]), int(autest['Dload'].iloc[i]), int(autest['Dpkts'].iloc[i]), int(autest['dmeansz'].iloc[i]), int(autest['Djit'].iloc[i]), int(autest['Dintpkt'].iloc[i])])\n",
    "        count += 1\n",
    "    edge_index_autest.append([xautestLookUp[src], xautestLookUp[dst]])\n",
    "    edge_attr_autest.append(list(autest.iloc[i].drop(['sttl', 'dttl','swin','dwin','Label','stcpb','dtcpb', 'sbytes', 'dbytes', 'Sload', 'Dload', 'Spkts', 'Dpkts', 'smeansz', 'dmeansz', 'Sjit', 'Djit', 'Sintpkt', 'Dintpkt']).values))\n",
    "\n",
    "\n",
    "\n",
    "# Convert x to tensor\n",
    "x_autest_tensor = torch.tensor(xautest, dtype=torch.float)\n",
    "\n",
    "# Convert edge_index to tensor\n",
    "edge_index_autest_tensor = torch.tensor(edge_index_autest, dtype=torch.long).t()  # Transpose for correct format\n",
    "\n",
    "# Convert edge_attr to tensor\n",
    "edge_attr_autest_tensor = torch.tensor(edge_attr_autest, dtype=torch.float)\n",
    "\n",
    "print(x_autest_tensor.shape, edge_index_autest_tensor.shape, edge_attr_autest_tensor.shape)"
   ]
  },
  {
   "cell_type": "markdown",
   "metadata": {},
   "source": [
    "# GAT Model"
   ]
  },
  {
   "cell_type": "markdown",
   "metadata": {},
   "source": [
    "nn.Linear appplies linear transformation to the incoming data: y = x * transpose(A) + b \n"
   ]
  },
  {
   "cell_type": "code",
   "execution_count": 28,
   "metadata": {},
   "outputs": [],
   "source": [
    "import torch\n",
    "import torch.nn as nn\n",
    "import torch.nn.functional as F\n",
    "from torch_geometric.nn import GATConv\n",
    "\n",
    "class GATClassifier(torch.nn.Module):\n",
    "    def __init__(self, num_node_features, num_edge_features, hidden_channels, num_heads, num_classes):\n",
    "        super(GATClassifier, self).__init__()\n",
    "        self.conv1 = GATConv(num_node_features, hidden_channels, heads=num_heads, add_self_loops=False)\n",
    "        self.conv2 = GATConv(hidden_channels * num_heads, hidden_channels, heads=num_heads, add_self_loops=False)\n",
    "        # self.edge_classifier = nn.Linear(hidden_channels * 2 * num_heads + num_edge_features, num_classes)\n",
    "        self.edge_classifier = nn.Sequential(\n",
    "        nn.Linear(hidden_channels * 2 * num_heads + num_edge_features, hidden_channels),  # Linear layer\n",
    "        nn.ReLU(),  # ReLU activation function\n",
    "        nn.Linear(hidden_channels, num_classes)  # Linear layer\n",
    "        )\n",
    "\n",
    "    def forward(self, x, edge_index, edge_attr):\n",
    "        # Apply graph attentional layers\n",
    "        x = self.conv1(x, edge_index)\n",
    "        x = F.relu(x)\n",
    "        x = self.conv2(x, edge_index)\n",
    "        x = F.relu(x)\n",
    "\n",
    "        # Concatenate node features with edge features\n",
    "        num_edges = edge_index.size(1)\n",
    "        node_x = x[edge_index[0]]\n",
    "        node_x_other = x[edge_index[1]]\n",
    "        edge_attr_padded = torch.cat([edge_attr, torch.zeros(num_edges - edge_attr.size(0), edge_attr.size(1))], dim=0)\n",
    "        edge_x = torch.cat([node_x, node_x_other, edge_attr_padded], dim=1)\n",
    "\n",
    "        # Classify edges into classes\n",
    "        edge_scores = self.edge_classifier(edge_x)\n",
    "        return edge_scores"
   ]
  },
  {
   "cell_type": "markdown",
   "metadata": {},
   "source": [
    "## Training"
   ]
  },
  {
   "cell_type": "code",
   "execution_count": 15,
   "metadata": {},
   "outputs": [],
   "source": [
    "# Example usage\n",
    "num_nodes = len(nodes)\n",
    "num_edges = len(train_tuples)\n",
    "num_node_features = 2\n",
    "num_edge_features = 20\n",
    "hidden_channels = 16\n",
    "num_heads = 32\n",
    "num_classes = 26\n",
    "\n",
    "# Instantiate GAT classifier\n",
    "model = GATClassifier(num_node_features, num_edge_features, hidden_channels, num_heads, num_classes)\n",
    "\n",
    "# Forward pass\n",
    "edge_scores_train = model(x_tensor, edge_index_tensor, edge_attr_tensor)"
   ]
  },
  {
   "cell_type": "markdown",
   "metadata": {},
   "source": [
    "## Testing"
   ]
  },
  {
   "cell_type": "code",
   "execution_count": 16,
   "metadata": {},
   "outputs": [],
   "source": [
    "# Example usage\n",
    "num_nodes_test = len(testnodes)\n",
    "num_edges_test = len(test_tuples)\n",
    "\n",
    "# Forward pass\n",
    "edge_scores_test = model(x_test_tensor, edge_index_test_tensor, edge_attr_test_tensor)"
   ]
  },
  {
   "cell_type": "markdown",
   "metadata": {},
   "source": [
    "## Author's training dataset"
   ]
  },
  {
   "cell_type": "code",
   "execution_count": 33,
   "metadata": {},
   "outputs": [],
   "source": [
    "# Example usage\n",
    "num_nodes_autrain = len(autrainnodes)\n",
    "num_edges_autrain = len(autrain_tuples)\n",
    "\n",
    "num_node_features = 8\n",
    "num_edge_features = 23\n",
    "hidden_channels = 16\n",
    "num_heads = 16\n",
    "num_classes = 39\n",
    "\n",
    "# Instantiate GAT classifier\n",
    "GATmodel = GATClassifier(num_node_features, num_edge_features, hidden_channels, num_heads, num_classes)\n",
    "# Forward pass\n",
    "edge_scores_autrain = GATmodel(x_autrain_tensor, edge_index_autrain_tensor, edge_attr_autrain_tensor)"
   ]
  },
  {
   "cell_type": "markdown",
   "metadata": {},
   "source": [
    "Author's testing dataset"
   ]
  },
  {
   "cell_type": "code",
   "execution_count": 34,
   "metadata": {},
   "outputs": [],
   "source": [
    "# Example usage\n",
    "num_nodes_autest = len(autestnodes)\n",
    "num_edges_autest = len(autest_tuples)\n",
    "\n",
    "# Forward pass\n",
    "edge_scores_autest = GATmodel(x_autest_tensor, edge_index_autest_tensor, edge_attr_autest_tensor)"
   ]
  },
  {
   "cell_type": "markdown",
   "metadata": {},
   "source": [
    "# KNN"
   ]
  },
  {
   "cell_type": "markdown",
   "metadata": {},
   "source": [
    "## User's train test"
   ]
  },
  {
   "cell_type": "code",
   "execution_count": 17,
   "metadata": {},
   "outputs": [
    {
     "ename": "NameError",
     "evalue": "name 'edge_scores_train' is not defined",
     "output_type": "error",
     "traceback": [
      "\u001b[1;31m---------------------------------------------------------------------------\u001b[0m",
      "\u001b[1;31mNameError\u001b[0m                                 Traceback (most recent call last)",
      "Cell \u001b[1;32mIn[17], line 3\u001b[0m\n\u001b[0;32m      1\u001b[0m \u001b[38;5;28;01mimport\u001b[39;00m \u001b[38;5;21;01mpandas\u001b[39;00m \u001b[38;5;28;01mas\u001b[39;00m \u001b[38;5;21;01mpd\u001b[39;00m\n\u001b[0;32m      2\u001b[0m \u001b[38;5;66;03m# Convert edge_scores tensor to a NumPy array\u001b[39;00m\n\u001b[1;32m----> 3\u001b[0m edge_scores_train_array \u001b[38;5;241m=\u001b[39m edge_scores_train\u001b[38;5;241m.\u001b[39mdetach()\u001b[38;5;241m.\u001b[39mnumpy()\n\u001b[0;32m      4\u001b[0m edge_scores_test_array \u001b[38;5;241m=\u001b[39m edge_scores_test\u001b[38;5;241m.\u001b[39mdetach()\u001b[38;5;241m.\u001b[39mnumpy()\n\u001b[0;32m      5\u001b[0m \u001b[38;5;66;03m# Create a DataFrame from the NumPy array\u001b[39;00m\n",
      "\u001b[1;31mNameError\u001b[0m: name 'edge_scores_train' is not defined"
     ]
    }
   ],
   "source": [
    "import pandas as pd\n",
    "# Convert edge_scores tensor to a NumPy array\n",
    "edge_scores_train_array = edge_scores_train.detach().numpy()\n",
    "edge_scores_test_array = edge_scores_test.detach().numpy()\n",
    "# Create a DataFrame from the NumPy array\n",
    "columns = [str('Dim')+str(i) for i in range(edge_scores_train_array.shape[1])]\n",
    "edge_scores_train_df = pd.DataFrame(edge_scores_train_array, columns=columns)\n",
    "edge_scores_test_df = pd.DataFrame(edge_scores_test_array, columns=columns)\n",
    "trainLabel = train['Label']\n",
    "testLabel = test['Label']"
   ]
  },
  {
   "cell_type": "code",
   "execution_count": 20,
   "metadata": {},
   "outputs": [
    {
     "name": "stdout",
     "output_type": "stream",
     "text": [
      "Classification Report: \n",
      "               precision    recall  f1-score   support\n",
      "\n",
      "           0       1.00      0.99      0.99     17201\n",
      "           1       0.99      1.00      0.99     17229\n",
      "\n",
      "    accuracy                           0.99     34430\n",
      "   macro avg       0.99      0.99      0.99     34430\n",
      "weighted avg       0.99      0.99      0.99     34430\n",
      "\n"
     ]
    }
   ],
   "source": [
    "from sklearn.neighbors import KNeighborsClassifier\n",
    "from sklearn.model_selection import train_test_split\n",
    "from sklearn.metrics import accuracy_score\n",
    "from sklearn.metrics import classification_report\n",
    "\n",
    "X_train = edge_scores_train_df\n",
    "X_test = edge_scores_test_df\n",
    "y_train = trainLabel\n",
    "y_test = testLabel\n",
    "\n",
    "# Initialize the KNN classifier\n",
    "k = 10  # Number of neighbors\n",
    "knn_classifier = KNeighborsClassifier(n_neighbors=k)\n",
    "\n",
    "# Train the classifier\n",
    "knn_classifier.fit(X_train, y_train)\n",
    "\n",
    "# Predictions on the test set\n",
    "y_pred = knn_classifier.predict(X_test)\n",
    "\n",
    "# Calculate accuracy\n",
    "report = classification_report(y_test, y_pred)\n",
    "print(\"Classification Report: \\n\", report)"
   ]
  },
  {
   "cell_type": "markdown",
   "metadata": {},
   "source": [
    "## Attack Sequence Trace Back"
   ]
  },
  {
   "cell_type": "code",
   "execution_count": 21,
   "metadata": {},
   "outputs": [
    {
     "data": {
      "image/png": "[encoded data removed]",
      "text/plain": [
       "<Figure size 640x480 with 1 Axes>"
      ]
     },
     "metadata": {},
     "output_type": "display_data"
    }
   ],
   "source": [
    "#Retrieve index positions of y_pred = 1\n",
    "indices_of_ones = np.where(y_pred == 1)[0]\n",
    "\n",
    "import networkx as nx\n",
    "import matplotlib.pyplot as plt\n",
    "from datetime import datetime\n",
    "\n",
    "# Create a directed graph\n",
    "traceBackG = nx.DiGraph()\n",
    "\n",
    "for i in indices_of_ones:\n",
    "    src = str(testWithStimeLtime.iloc[i]['srcip']) + str(testWithStimeLtime.iloc[i]['sport'])\n",
    "    dst = str(testWithStimeLtime.iloc[i]['dstip']) + str(testWithStimeLtime.iloc[i]['dsport'])\n",
    "    traceBackG.add_node(src)\n",
    "    traceBackG.add_node(dst)\n",
    "    stime = datetime.fromtimestamp(testWithStimeLtime.iloc[i]['Stime']).strftime('%Y-%m-%d %H:%M:%S')\n",
    "    ltime = datetime.fromtimestamp(testWithStimeLtime.iloc[i]['Ltime']).strftime('%Y-%m-%d %H:%M:%S')\n",
    "    traceBackG.add_edge(src, dst, label=\"Connection Start Time: \" + str(stime) + \", Connection End Time: \"+ str(ltime))\n",
    "\n",
    "\n",
    "# Draw the graph\n",
    "pos = nx.spring_layout(traceBackG)  # Define layout\n",
    "nx.draw(traceBackG, pos, with_labels=True, node_size=1000, node_color='red', font_size=12, font_weight='bold')\n",
    "node_labels = nx.get_node_attributes(traceBackG, 'label')\n",
    "nx.draw_networkx_labels(traceBackG, pos, labels=node_labels, font_size=12, font_weight='bold', font_color='black', \n",
    "                        bbox=dict(facecolor='white', edgecolor='none', boxstyle='round,pad=0.3'))\n",
    "\n",
    "# Show the plot\n",
    "plt.show()"
   ]
  },
  {
   "cell_type": "markdown",
   "metadata": {},
   "source": [
    "Author's test dataset"
   ]
  },
  {
   "cell_type": "code",
   "execution_count": 106,
   "metadata": {},
   "outputs": [
    {
     "name": "stdout",
     "output_type": "stream",
     "text": [
      "Classification Report: \n",
      "               precision    recall  f1-score   support\n",
      "\n",
      "           0       0.65      0.92      0.77     24354\n",
      "           1       0.49      0.13      0.21     13671\n",
      "\n",
      "    accuracy                           0.64     38025\n",
      "   macro avg       0.57      0.53      0.49     38025\n",
      "weighted avg       0.59      0.64      0.56     38025\n",
      "\n"
     ]
    }
   ],
   "source": [
    "import pandas as pd\n",
    "# Convert edge_scores tensor to a NumPy array\n",
    "edge_scores_autest_array = edge_scores_autest.detach().numpy()\n",
    "# Create a DataFrame from the NumPy array\n",
    "#testLabeldf = pd.DataFrame(auEdgeLabel, columns=['Label'])\n",
    "edge_scores_autest_df = pd.DataFrame(edge_scores_autest_array, columns=columns)\n",
    "trainLabel = train['Label']\n",
    "autestLabel = autest['Label']\n",
    "auX_test = edge_scores_autest_df\n",
    "auy_test = autestLabel \n",
    "\n",
    "auy_pred = knn_classifier.predict(edge_scores_autest_df)\n",
    "\n",
    "# Calculate accuracy\n",
    "report = classification_report(autestLabel, auy_pred)\n",
    "print(\"Classification Report: \\n\", report)"
   ]
  },
  {
   "cell_type": "markdown",
   "metadata": {},
   "source": [
    "## Purely using author's training and testing dataset"
   ]
  },
  {
   "cell_type": "code",
   "execution_count": 36,
   "metadata": {},
   "outputs": [
    {
     "name": "stdout",
     "output_type": "stream",
     "text": [
      "Classification Report: \n",
      "               precision    recall  f1-score   support\n",
      "\n",
      "           0       0.92      0.62      0.74     24355\n",
      "           1       0.57      0.90      0.70     13671\n",
      "\n",
      "    accuracy                           0.72     38026\n",
      "   macro avg       0.74      0.76      0.72     38026\n",
      "weighted avg       0.79      0.72      0.72     38026\n",
      "\n"
     ]
    }
   ],
   "source": [
    "from sklearn.neighbors import KNeighborsClassifier\n",
    "from sklearn.model_selection import train_test_split\n",
    "from sklearn.metrics import accuracy_score\n",
    "from sklearn.metrics import classification_report\n",
    "import pandas as pd\n",
    "import numpy as np\n",
    "\n",
    "\n",
    "edge_scores_autrain_array = edge_scores_autrain.detach().numpy()\n",
    "edge_scores_autest_array = edge_scores_autest.detach().numpy()\n",
    "\n",
    "columns = [str('Dim')+str(i) for i in range(edge_scores_autrain_array.shape[1])]\n",
    "\n",
    "edge_scores_autrain_df = pd.DataFrame(edge_scores_autrain_array, columns=columns)\n",
    "edge_scores_autest_df = pd.DataFrame(edge_scores_autest_array, columns=columns)\n",
    "\n",
    "\n",
    "trainLabel = autrain['Label']\n",
    "autestLabel = autest['Label']\n",
    "auX_train = edge_scores_autrain_df\n",
    "auX_test = edge_scores_autest_df\n",
    "\n",
    "# Initialize the KNN classifier\n",
    "k = 10  # Number of neighbors\n",
    "knn_classifier = KNeighborsClassifier(n_neighbors=k)\n",
    "\n",
    "# Train the classifier\n",
    "knn_classifier.fit(auX_train, trainLabel)\n",
    "\n",
    "# Predictions on the test set\n",
    "y_pred = knn_classifier.predict(auX_test)\n",
    "\n",
    "# Calculate accuracy\n",
    "report = classification_report(autestLabel, y_pred)\n",
    "print(\"Classification Report: \\n\", report)"
   ]
  },
  {
   "cell_type": "markdown",
   "metadata": {},
   "source": [
    "# Lazy Predict Scores"
   ]
  },
  {
   "cell_type": "markdown",
   "metadata": {},
   "source": [
    "## User prepared train-test"
   ]
  },
  {
   "cell_type": "code",
   "execution_count": 24,
   "metadata": {},
   "outputs": [
    {
     "name": "stderr",
     "output_type": "stream",
     "text": [
      "c:\\ProgramData\\Anaconda3\\Lib\\site-packages\\dask\\dataframe\\_pyarrow_compat.py:17: FutureWarning: Minimal version of pyarrow will soon be increased to 14.0.1. You are using 11.0.0. Please consider upgrading.\n",
      "  warnings.warn(\n"
     ]
    },
    {
     "ename": "NameError",
     "evalue": "name 'X_train' is not defined",
     "output_type": "error",
     "traceback": [
      "\u001b[1;31m---------------------------------------------------------------------------\u001b[0m",
      "\u001b[1;31mNameError\u001b[0m                                 Traceback (most recent call last)",
      "Cell \u001b[1;32mIn[24], line 23\u001b[0m\n\u001b[0;32m      9\u001b[0m classifiers \u001b[38;5;241m=\u001b[39m [\n\u001b[0;32m     10\u001b[0m     (\u001b[38;5;124m'\u001b[39m\u001b[38;5;124mAdaBoostClassifier\u001b[39m\u001b[38;5;124m'\u001b[39m, sklearn\u001b[38;5;241m.\u001b[39mensemble\u001b[38;5;241m.\u001b[39m_weight_boosting\u001b[38;5;241m.\u001b[39mAdaBoostClassifier),\n\u001b[0;32m     11\u001b[0m     (\u001b[38;5;124m'\u001b[39m\u001b[38;5;124mBaggingClassifier\u001b[39m\u001b[38;5;124m'\u001b[39m, sklearn\u001b[38;5;241m.\u001b[39mensemble\u001b[38;5;241m.\u001b[39m_bagging\u001b[38;5;241m.\u001b[39mBaggingClassifier),\n\u001b[1;32m   (...)\u001b[0m\n\u001b[0;32m     19\u001b[0m     (\u001b[38;5;124m'\u001b[39m\u001b[38;5;124mXGBClassifier\u001b[39m\u001b[38;5;124m'\u001b[39m, xgboost\u001b[38;5;241m.\u001b[39msklearn\u001b[38;5;241m.\u001b[39mXGBClassifier),\n\u001b[0;32m     20\u001b[0m     (\u001b[38;5;124m'\u001b[39m\u001b[38;5;124mLGBMClassifier\u001b[39m\u001b[38;5;124m'\u001b[39m, lightgbm\u001b[38;5;241m.\u001b[39msklearn\u001b[38;5;241m.\u001b[39mLGBMClassifier)]\n\u001b[0;32m     21\u001b[0m clf \u001b[38;5;241m=\u001b[39m LazyClassifier(verbose\u001b[38;5;241m=\u001b[39m\u001b[38;5;241m1\u001b[39m,ignore_warnings\u001b[38;5;241m=\u001b[39m\u001b[38;5;28;01mTrue\u001b[39;00m, custom_metric\u001b[38;5;241m=\u001b[39m\u001b[38;5;28;01mNone\u001b[39;00m,classifiers\u001b[38;5;241m=\u001b[39m classifiers, predictions\u001b[38;5;241m=\u001b[39m\u001b[38;5;28;01mTrue\u001b[39;00m)\n\u001b[1;32m---> 23\u001b[0m models,predictions \u001b[38;5;241m=\u001b[39m clf\u001b[38;5;241m.\u001b[39mfit(X_train, X_test, y_train, y_test)\n",
      "\u001b[1;31mNameError\u001b[0m: name 'X_train' is not defined"
     ]
    }
   ],
   "source": [
    "# List of classifiers to include\n",
    "import sklearn\n",
    "import xgboost\n",
    "import lightgbm\n",
    "import sklearn.discriminant_analysis\n",
    "from lazypredict.Supervised import LazyClassifier\n",
    "\n",
    "\n",
    "classifiers = [\n",
    "    ('AdaBoostClassifier', sklearn.ensemble._weight_boosting.AdaBoostClassifier),\n",
    "    ('BaggingClassifier', sklearn.ensemble._bagging.BaggingClassifier),\n",
    "    ('DecisionTreeClassifier', sklearn.tree._classes.DecisionTreeClassifier),\n",
    "    # ('ExtraTreeClassifier', sklearn.ensemble._forest.ExtraTreeClassifier),\n",
    "    # ('ExtraTreesClassifier', sklearn.ensemble._forest.ExtraTreesClassifier),\n",
    "    # ('KNeighborsClassifier',  sklearn.neighbors._classification.KNeighborsClassifier),\n",
    "    # ('NuSVC', sklearn.svm._classes.NuSVC),\n",
    "    ('RandomForestClassifier', sklearn.ensemble._forest.RandomForestClassifier),\n",
    "    # ('SVC', sklearn.svm._classes.SVC),\n",
    "    ('XGBClassifier', xgboost.sklearn.XGBClassifier),\n",
    "    ('LGBMClassifier', lightgbm.sklearn.LGBMClassifier)]\n",
    "clf = LazyClassifier(verbose=1,ignore_warnings=True, custom_metric=None,classifiers= classifiers, predictions=True)\n",
    "\n",
    "models,predictions = clf.fit(X_train, X_test, y_train, y_test)\n"
   ]
  },
  {
   "cell_type": "code",
   "execution_count": 56,
   "metadata": {},
   "outputs": [
    {
     "name": "stdout",
     "output_type": "stream",
     "text": [
      "AdaBoostClassifier\n",
      "              precision    recall  f1-score   support\n",
      "\n",
      "           0       0.93      0.95      0.94     17201\n",
      "           1       0.95      0.93      0.94     17229\n",
      "\n",
      "    accuracy                           0.94     34430\n",
      "   macro avg       0.94      0.94      0.94     34430\n",
      "weighted avg       0.94      0.94      0.94     34430\n",
      "\n",
      "AUC Scores for each class: 0.9422097027761159\n",
      "-----------------------------------------------------------------------------------\n",
      "-----------------------------------------------------------------------------------\n",
      "BaggingClassifier\n",
      "              precision    recall  f1-score   support\n",
      "\n",
      "           0       0.99      0.98      0.99     17201\n",
      "           1       0.98      0.99      0.99     17229\n",
      "\n",
      "    accuracy                           0.99     34430\n",
      "   macro avg       0.99      0.99      0.99     34430\n",
      "weighted avg       0.99      0.99      0.99     34430\n",
      "\n",
      "AUC Scores for each class: 0.9885528935873277\n",
      "-----------------------------------------------------------------------------------\n",
      "-----------------------------------------------------------------------------------\n",
      "DecisionTreeClassifier\n",
      "              precision    recall  f1-score   support\n",
      "\n",
      "           0       0.98      0.98      0.98     17201\n",
      "           1       0.98      0.98      0.98     17229\n",
      "\n",
      "    accuracy                           0.98     34430\n",
      "   macro avg       0.98      0.98      0.98     34430\n",
      "weighted avg       0.98      0.98      0.98     34430\n",
      "\n",
      "AUC Scores for each class: 0.9827768494630491\n",
      "-----------------------------------------------------------------------------------\n",
      "-----------------------------------------------------------------------------------\n",
      "RandomForestClassifier\n",
      "              precision    recall  f1-score   support\n",
      "\n",
      "           0       1.00      0.98      0.99     17201\n",
      "           1       0.98      1.00      0.99     17229\n",
      "\n",
      "    accuracy                           0.99     34430\n",
      "   macro avg       0.99      0.99      0.99     34430\n",
      "weighted avg       0.99      0.99      0.99     34430\n",
      "\n",
      "AUC Scores for each class: 0.9901201132641712\n",
      "-----------------------------------------------------------------------------------\n",
      "-----------------------------------------------------------------------------------\n",
      "XGBClassifier\n",
      "              precision    recall  f1-score   support\n",
      "\n",
      "           0       1.00      0.98      0.99     17201\n",
      "           1       0.98      1.00      0.99     17229\n",
      "\n",
      "    accuracy                           0.99     34430\n",
      "   macro avg       0.99      0.99      0.99     34430\n",
      "weighted avg       0.99      0.99      0.99     34430\n",
      "\n",
      "AUC Scores for each class: 0.9892483071434326\n",
      "-----------------------------------------------------------------------------------\n",
      "-----------------------------------------------------------------------------------\n",
      "LGBMClassifier\n",
      "              precision    recall  f1-score   support\n",
      "\n",
      "           0       1.00      0.98      0.99     17201\n",
      "           1       0.98      1.00      0.99     17229\n",
      "\n",
      "    accuracy                           0.99     34430\n",
      "   macro avg       0.99      0.99      0.99     34430\n",
      "weighted avg       0.99      0.99      0.99     34430\n",
      "\n",
      "AUC Scores for each class: 0.9877366253952606\n",
      "-----------------------------------------------------------------------------------\n",
      "-----------------------------------------------------------------------------------\n"
     ]
    }
   ],
   "source": [
    "from sklearn.metrics import roc_auc_score\n",
    "for m in predictions.columns:\n",
    "    print(m)\n",
    "    print(classification_report(y_test, predictions[m]))\n",
    "    auc_scores = roc_auc_score(y_test, predictions[m], multi_class='ovr')  # Or multi_class='ovo' for one-vs-one\n",
    "    print(\"AUC Scores for each class:\", auc_scores)\n",
    "    print('-----------------------------------------------------------------------------------')\n",
    "    print('-----------------------------------------------------------------------------------')"
   ]
  },
  {
   "cell_type": "markdown",
   "metadata": {},
   "source": [
    "## Lazy Predict for author's train-test dataset"
   ]
  },
  {
   "cell_type": "code",
   "execution_count": 82,
   "metadata": {},
   "outputs": [
    {
     "name": "stdout",
     "output_type": "stream",
     "text": [
      "'tuple' object has no attribute '__name__'\n",
      "Invalid Classifier(s)\n"
     ]
    },
    {
     "name": "stderr",
     "output_type": "stream",
     "text": [
      " 11%|█         | 1/9 [00:37<05:00, 37.55s/it]"
     ]
    },
    {
     "name": "stdout",
     "output_type": "stream",
     "text": [
      "{'Model': 'AdaBoostClassifier', 'Accuracy': 0.7603686635944701, 'Balanced Accuracy': 0.76036866359447, 'ROC AUC': 0.7603686635944701, 'F1 Score': 0.7571162114121398, 'Time taken': 37.54766798019409}\n"
     ]
    },
    {
     "name": "stderr",
     "output_type": "stream",
     "text": [
      " 22%|██▏       | 2/9 [01:46<06:33, 56.28s/it]"
     ]
    },
    {
     "name": "stdout",
     "output_type": "stream",
     "text": [
      "{'Model': 'BaggingClassifier', 'Accuracy': 0.7503474508082802, 'Balanced Accuracy': 0.7503474508082804, 'ROC AUC': 0.7503474508082804, 'F1 Score': 0.7474191514567166, 'Time taken': 69.38176321983337}\n"
     ]
    },
    {
     "name": "stderr",
     "output_type": "stream",
     "text": [
      " 33%|███▎      | 3/9 [01:55<03:26, 34.43s/it]"
     ]
    },
    {
     "name": "stdout",
     "output_type": "stream",
     "text": [
      "{'Model': 'DecisionTreeClassifier', 'Accuracy': 0.7145783044400555, 'Balanced Accuracy': 0.7145783044400555, 'ROC AUC': 0.7145783044400557, 'F1 Score': 0.7134548900978201, 'Time taken': 8.431199073791504}\n"
     ]
    },
    {
     "name": "stderr",
     "output_type": "stream",
     "text": [
      " 44%|████▍     | 4/9 [01:55<01:44, 20.95s/it]"
     ]
    },
    {
     "name": "stdout",
     "output_type": "stream",
     "text": [
      "{'Model': 'ExtraTreeClassifier', 'Accuracy': 0.7188208616780045, 'Balanced Accuracy': 0.7188208616780045, 'ROC AUC': 0.7188208616780045, 'F1 Score': 0.718149944013278, 'Time taken': 0.2932446002960205}\n"
     ]
    },
    {
     "name": "stderr",
     "output_type": "stream",
     "text": [
      " 56%|█████▌    | 5/9 [02:07<01:10, 17.74s/it]"
     ]
    },
    {
     "name": "stdout",
     "output_type": "stream",
     "text": [
      "{'Model': 'ExtraTreesClassifier', 'Accuracy': 0.765050106063931, 'Balanced Accuracy': 0.765050106063931, 'ROC AUC': 0.765050106063931, 'F1 Score': 0.7570485880117437, 'Time taken': 12.051555633544922}\n"
     ]
    },
    {
     "name": "stderr",
     "output_type": "stream",
     "text": [
      " 67%|██████▋   | 6/9 [02:15<00:43, 14.47s/it]"
     ]
    },
    {
     "name": "stdout",
     "output_type": "stream",
     "text": [
      "{'Model': 'KNeighborsClassifier', 'Accuracy': 0.7625265159827371, 'Balanced Accuracy': 0.7625265159827372, 'ROC AUC': 0.7625265159827371, 'F1 Score': 0.7580404223665856, 'Time taken': 8.118009567260742}\n"
     ]
    },
    {
     "name": "stderr",
     "output_type": "stream",
     "text": [
      " 78%|███████▊  | 7/9 [04:09<01:33, 46.93s/it]"
     ]
    },
    {
     "name": "stdout",
     "output_type": "stream",
     "text": [
      "{'Model': 'RandomForestClassifier', 'Accuracy': 0.7570404505888377, 'Balanced Accuracy': 0.7570404505888377, 'ROC AUC': 0.7570404505888378, 'F1 Score': 0.7486866256749836, 'Time taken': 113.74266767501831}\n"
     ]
    },
    {
     "name": "stderr",
     "output_type": "stream",
     "text": [
      " 89%|████████▉ | 8/9 [04:12<00:33, 33.01s/it]"
     ]
    },
    {
     "name": "stdout",
     "output_type": "stream",
     "text": [
      "{'Model': 'XGBClassifier', 'Accuracy': 0.7443127788749908, 'Balanced Accuracy': 0.7443127788749908, 'ROC AUC': 0.7443127788749909, 'F1 Score': 0.7379239827133904, 'Time taken': 3.2241477966308594}\n",
      "[LightGBM] [Info] Number of positive: 36961, number of negative: 34967\n",
      "[LightGBM] [Info] Auto-choosing col-wise multi-threading, the overhead of testing was 0.023858 seconds.\n",
      "You can set `force_col_wise=true` to remove the overhead.\n",
      "[LightGBM] [Info] Total Bins 9945\n",
      "[LightGBM] [Info] Number of data points in the train set: 71928, number of used features: 39\n",
      "[LightGBM] [Info] [binary:BoostFromScore]: pavg=0.513861 -> initscore=0.055459\n",
      "[LightGBM] [Info] Start training from score 0.055459\n"
     ]
    },
    {
     "name": "stderr",
     "output_type": "stream",
     "text": [
      "100%|██████████| 9/9 [04:15<00:00, 28.37s/it]"
     ]
    },
    {
     "name": "stdout",
     "output_type": "stream",
     "text": [
      "{'Model': 'LGBMClassifier', 'Accuracy': 0.7600029259015434, 'Balanced Accuracy': 0.7600029259015435, 'ROC AUC': 0.7600029259015434, 'F1 Score': 0.7513940763136099, 'Time taken': 2.5325968265533447}\n"
     ]
    },
    {
     "name": "stderr",
     "output_type": "stream",
     "text": [
      "\n"
     ]
    }
   ],
   "source": [
    "# List of classifiers to include\n",
    "import sklearn\n",
    "import xgboost\n",
    "import lightgbm\n",
    "import sklearn.discriminant_analysis\n",
    "from lazypredict.Supervised import LazyClassifier\n",
    "\n",
    "classifiers = [\n",
    "    ('AdaBoostClassifier', sklearn.ensemble._weight_boosting.AdaBoostClassifier),\n",
    "    ('BaggingClassifier', sklearn.ensemble._bagging.BaggingClassifier),\n",
    "    ('DecisionTreeClassifier', sklearn.tree._classes.DecisionTreeClassifier),\n",
    "    ('ExtraTreeClassifier', sklearn.ensemble._forest.ExtraTreeClassifier),\n",
    "    ('ExtraTreesClassifier', sklearn.ensemble._forest.ExtraTreesClassifier),\n",
    "    ('KNeighborsClassifier',  sklearn.neighbors._classification.KNeighborsClassifier),\n",
    "    # ('NuSVC', sklearn.svm._classes.NuSVC),\n",
    "    ('RandomForestClassifier', sklearn.ensemble._forest.RandomForestClassifier),\n",
    "    # ('SVC', sklearn.svm._classes.SVC),\n",
    "    ('XGBClassifier', xgboost.sklearn.XGBClassifier),\n",
    "    ('LGBMClassifier', lightgbm.sklearn.LGBMClassifier)]\n",
    "clf = LazyClassifier(verbose=1,ignore_warnings=True, custom_metric=None,classifiers= classifiers, predictions=True)\n",
    "\n",
    "aumodels, aupredictions = clf.fit(auX_train, auX_test, autrainLabel, autestLabel)"
   ]
  },
  {
   "cell_type": "code",
   "execution_count": 83,
   "metadata": {},
   "outputs": [
    {
     "name": "stdout",
     "output_type": "stream",
     "text": [
      "AdaBoostClassifier\n",
      "              precision    recall  f1-score   support\n",
      "\n",
      "           0       0.84      0.64      0.73     13671\n",
      "           1       0.71      0.88      0.79     13671\n",
      "\n",
      "    accuracy                           0.76     27342\n",
      "   macro avg       0.78      0.76      0.76     27342\n",
      "weighted avg       0.78      0.76      0.76     27342\n",
      "\n",
      "AUC Scores for each class: 0.7603686635944701\n",
      "-----------------------------------------------------------------------------------\n",
      "-----------------------------------------------------------------------------------\n",
      "BaggingClassifier\n",
      "              precision    recall  f1-score   support\n",
      "\n",
      "           0       0.82      0.64      0.72     13671\n",
      "           1       0.71      0.86      0.77     13671\n",
      "\n",
      "    accuracy                           0.75     27342\n",
      "   macro avg       0.76      0.75      0.75     27342\n",
      "weighted avg       0.76      0.75      0.75     27342\n",
      "\n",
      "AUC Scores for each class: 0.7503474508082804\n",
      "-----------------------------------------------------------------------------------\n",
      "-----------------------------------------------------------------------------------\n",
      "DecisionTreeClassifier\n",
      "              precision    recall  f1-score   support\n",
      "\n",
      "           0       0.75      0.65      0.70     13671\n",
      "           1       0.69      0.78      0.73     13671\n",
      "\n",
      "    accuracy                           0.71     27342\n",
      "   macro avg       0.72      0.71      0.71     27342\n",
      "weighted avg       0.72      0.71      0.71     27342\n",
      "\n",
      "AUC Scores for each class: 0.7145783044400557\n",
      "-----------------------------------------------------------------------------------\n",
      "-----------------------------------------------------------------------------------\n",
      "ExtraTreeClassifier\n",
      "              precision    recall  f1-score   support\n",
      "\n",
      "           0       0.74      0.67      0.70     13671\n",
      "           1       0.70      0.77      0.73     13671\n",
      "\n",
      "    accuracy                           0.72     27342\n",
      "   macro avg       0.72      0.72      0.72     27342\n",
      "weighted avg       0.72      0.72      0.72     27342\n",
      "\n",
      "AUC Scores for each class: 0.7188208616780045\n",
      "-----------------------------------------------------------------------------------\n",
      "-----------------------------------------------------------------------------------\n",
      "ExtraTreesClassifier\n",
      "              precision    recall  f1-score   support\n",
      "\n",
      "           0       0.92      0.58      0.71     13671\n",
      "           1       0.69      0.95      0.80     13671\n",
      "\n",
      "    accuracy                           0.77     27342\n",
      "   macro avg       0.81      0.77      0.76     27342\n",
      "weighted avg       0.81      0.77      0.76     27342\n",
      "\n",
      "AUC Scores for each class: 0.765050106063931\n",
      "-----------------------------------------------------------------------------------\n",
      "-----------------------------------------------------------------------------------\n",
      "KNeighborsClassifier\n",
      "              precision    recall  f1-score   support\n",
      "\n",
      "           0       0.86      0.63      0.73     13671\n",
      "           1       0.71      0.90      0.79     13671\n",
      "\n",
      "    accuracy                           0.76     27342\n",
      "   macro avg       0.78      0.76      0.76     27342\n",
      "weighted avg       0.78      0.76      0.76     27342\n",
      "\n",
      "AUC Scores for each class: 0.7625265159827371\n",
      "-----------------------------------------------------------------------------------\n",
      "-----------------------------------------------------------------------------------\n",
      "RandomForestClassifier\n",
      "              precision    recall  f1-score   support\n",
      "\n",
      "           0       0.90      0.57      0.70     13671\n",
      "           1       0.69      0.94      0.79     13671\n",
      "\n",
      "    accuracy                           0.76     27342\n",
      "   macro avg       0.80      0.76      0.75     27342\n",
      "weighted avg       0.80      0.76      0.75     27342\n",
      "\n",
      "AUC Scores for each class: 0.7570404505888378\n",
      "-----------------------------------------------------------------------------------\n",
      "-----------------------------------------------------------------------------------\n",
      "XGBClassifier\n",
      "              precision    recall  f1-score   support\n",
      "\n",
      "           0       0.86      0.59      0.70     13671\n",
      "           1       0.69      0.90      0.78     13671\n",
      "\n",
      "    accuracy                           0.74     27342\n",
      "   macro avg       0.77      0.74      0.74     27342\n",
      "weighted avg       0.77      0.74      0.74     27342\n",
      "\n",
      "AUC Scores for each class: 0.7443127788749909\n",
      "-----------------------------------------------------------------------------------\n",
      "-----------------------------------------------------------------------------------\n",
      "LGBMClassifier\n",
      "              precision    recall  f1-score   support\n",
      "\n",
      "           0       0.91      0.57      0.71     13671\n",
      "           1       0.69      0.95      0.80     13671\n",
      "\n",
      "    accuracy                           0.76     27342\n",
      "   macro avg       0.80      0.76      0.75     27342\n",
      "weighted avg       0.80      0.76      0.75     27342\n",
      "\n",
      "AUC Scores for each class: 0.7600029259015434\n",
      "-----------------------------------------------------------------------------------\n",
      "-----------------------------------------------------------------------------------\n"
     ]
    }
   ],
   "source": [
    "from sklearn.metrics import roc_auc_score\n",
    "for model in aupredictions.columns:\n",
    "    print(model)\n",
    "    print(classification_report(autestLabel, aupredictions[model]))\n",
    "    auc_scores = roc_auc_score(autestLabel, aupredictions[model], multi_class='ovr')  # Or multi_class='ovo' for one-vs-one\n",
    "    print(\"AUC Scores for each class:\", auc_scores)\n",
    "    print('-----------------------------------------------------------------------------------')\n",
    "    print('-----------------------------------------------------------------------------------')"
   ]
  },
  {
   "cell_type": "code",
   "execution_count": 111,
   "metadata": {},
   "outputs": [
    {
     "data": {
      "text/html": [
       "<div>\n",
       "<style scoped>\n",
       "    .dataframe tbody tr th:only-of-type {\n",
       "        vertical-align: middle;\n",
       "    }\n",
       "\n",
       "    .dataframe tbody tr th {\n",
       "        vertical-align: top;\n",
       "    }\n",
       "\n",
       "    .dataframe thead th {\n",
       "        text-align: right;\n",
       "    }\n",
       "</style>\n",
       "<table border=\"1\" class=\"dataframe\">\n",
       "  <thead>\n",
       "    <tr style=\"text-align: right;\">\n",
       "      <th></th>\n",
       "      <th>Accuracy</th>\n",
       "      <th>Balanced Accuracy</th>\n",
       "      <th>ROC AUC</th>\n",
       "      <th>F1 Score</th>\n",
       "      <th>Time Taken</th>\n",
       "    </tr>\n",
       "    <tr>\n",
       "      <th>Model</th>\n",
       "      <th></th>\n",
       "      <th></th>\n",
       "      <th></th>\n",
       "      <th></th>\n",
       "      <th></th>\n",
       "    </tr>\n",
       "  </thead>\n",
       "  <tbody>\n",
       "    <tr>\n",
       "      <th>KNeighborsClassifier</th>\n",
       "      <td>0.75</td>\n",
       "      <td>0.79</td>\n",
       "      <td>0.79</td>\n",
       "      <td>0.75</td>\n",
       "      <td>14.69</td>\n",
       "    </tr>\n",
       "    <tr>\n",
       "      <th>XGBClassifier</th>\n",
       "      <td>0.72</td>\n",
       "      <td>0.77</td>\n",
       "      <td>0.77</td>\n",
       "      <td>0.72</td>\n",
       "      <td>2.08</td>\n",
       "    </tr>\n",
       "    <tr>\n",
       "      <th>BaggingClassifier</th>\n",
       "      <td>0.72</td>\n",
       "      <td>0.77</td>\n",
       "      <td>0.77</td>\n",
       "      <td>0.73</td>\n",
       "      <td>48.16</td>\n",
       "    </tr>\n",
       "    <tr>\n",
       "      <th>ExtraTreesClassifier</th>\n",
       "      <td>0.71</td>\n",
       "      <td>0.77</td>\n",
       "      <td>0.77</td>\n",
       "      <td>0.71</td>\n",
       "      <td>15.07</td>\n",
       "    </tr>\n",
       "    <tr>\n",
       "      <th>RandomForestClassifier</th>\n",
       "      <td>0.71</td>\n",
       "      <td>0.77</td>\n",
       "      <td>0.77</td>\n",
       "      <td>0.71</td>\n",
       "      <td>95.48</td>\n",
       "    </tr>\n",
       "    <tr>\n",
       "      <th>SVC</th>\n",
       "      <td>0.70</td>\n",
       "      <td>0.77</td>\n",
       "      <td>0.77</td>\n",
       "      <td>0.70</td>\n",
       "      <td>322.21</td>\n",
       "    </tr>\n",
       "    <tr>\n",
       "      <th>LGBMClassifier</th>\n",
       "      <td>0.70</td>\n",
       "      <td>0.77</td>\n",
       "      <td>0.77</td>\n",
       "      <td>0.70</td>\n",
       "      <td>1.76</td>\n",
       "    </tr>\n",
       "    <tr>\n",
       "      <th>ExtraTreeClassifier</th>\n",
       "      <td>0.72</td>\n",
       "      <td>0.75</td>\n",
       "      <td>0.75</td>\n",
       "      <td>0.72</td>\n",
       "      <td>0.29</td>\n",
       "    </tr>\n",
       "    <tr>\n",
       "      <th>AdaBoostClassifier</th>\n",
       "      <td>0.68</td>\n",
       "      <td>0.75</td>\n",
       "      <td>0.75</td>\n",
       "      <td>0.68</td>\n",
       "      <td>32.22</td>\n",
       "    </tr>\n",
       "    <tr>\n",
       "      <th>DecisionTreeClassifier</th>\n",
       "      <td>0.71</td>\n",
       "      <td>0.74</td>\n",
       "      <td>0.74</td>\n",
       "      <td>0.71</td>\n",
       "      <td>5.69</td>\n",
       "    </tr>\n",
       "    <tr>\n",
       "      <th>NuSVC</th>\n",
       "      <td>0.66</td>\n",
       "      <td>0.73</td>\n",
       "      <td>0.73</td>\n",
       "      <td>0.65</td>\n",
       "      <td>776.54</td>\n",
       "    </tr>\n",
       "  </tbody>\n",
       "</table>\n",
       "</div>"
      ],
      "text/plain": [
       "                        Accuracy  Balanced Accuracy  ROC AUC  F1 Score  \\\n",
       "Model                                                                    \n",
       "KNeighborsClassifier        0.75               0.79     0.79      0.75   \n",
       "XGBClassifier               0.72               0.77     0.77      0.72   \n",
       "BaggingClassifier           0.72               0.77     0.77      0.73   \n",
       "ExtraTreesClassifier        0.71               0.77     0.77      0.71   \n",
       "RandomForestClassifier      0.71               0.77     0.77      0.71   \n",
       "SVC                         0.70               0.77     0.77      0.70   \n",
       "LGBMClassifier              0.70               0.77     0.77      0.70   \n",
       "ExtraTreeClassifier         0.72               0.75     0.75      0.72   \n",
       "AdaBoostClassifier          0.68               0.75     0.75      0.68   \n",
       "DecisionTreeClassifier      0.71               0.74     0.74      0.71   \n",
       "NuSVC                       0.66               0.73     0.73      0.65   \n",
       "\n",
       "                        Time Taken  \n",
       "Model                               \n",
       "KNeighborsClassifier         14.69  \n",
       "XGBClassifier                 2.08  \n",
       "BaggingClassifier            48.16  \n",
       "ExtraTreesClassifier         15.07  \n",
       "RandomForestClassifier       95.48  \n",
       "SVC                         322.21  \n",
       "LGBMClassifier                1.76  \n",
       "ExtraTreeClassifier           0.29  \n",
       "AdaBoostClassifier           32.22  \n",
       "DecisionTreeClassifier        5.69  \n",
       "NuSVC                       776.54  "
      ]
     },
     "execution_count": 111,
     "metadata": {},
     "output_type": "execute_result"
    }
   ],
   "source": [
    "aumodels"
   ]
  },
  {
   "cell_type": "markdown",
   "metadata": {},
   "source": [
    "# GCN"
   ]
  },
  {
   "cell_type": "code",
   "execution_count": 47,
   "metadata": {},
   "outputs": [],
   "source": [
    "import torch\n",
    "import torch.nn as nn\n",
    "import torch.nn.functional as F\n",
    "from torch_geometric.nn import GCNConv\n",
    "\n",
    "class GCNClassifier(torch.nn.Module):\n",
    "    def __init__(self, num_node_features, num_edge_features, hidden_channels, num_classes):\n",
    "        super(GCNClassifier, self).__init__()\n",
    "        self.conv1 = GCNConv(num_node_features, hidden_channels)\n",
    "        self.conv2 = GCNConv(hidden_channels, hidden_channels)\n",
    "        # self.edge_classifier = nn.Linear(hidden_channels * 2 + num_edge_features, num_classes)\n",
    "        self.edge_classifier = nn.Sequential(\n",
    "        nn.Linear(hidden_channels * 2 + num_edge_features, hidden_channels),  # Linear layer\n",
    "        nn.ReLU(),  # ReLU activation function\n",
    "        nn.Linear(hidden_channels, num_classes)  # Linear layer\n",
    "        )\n",
    "\n",
    "\n",
    "    def forward(self, x, edge_index, edge_attr):\n",
    "        # Apply graph convolutional layers\n",
    "        x = self.conv1(x, edge_index)\n",
    "        x = F.relu(x)\n",
    "        x = self.conv2(x, edge_index)\n",
    "        x = F.relu(x)\n",
    "\n",
    "        # Concatenate node features with edge features\n",
    "        num_edges = edge_index.size(1)\n",
    "        node_x = x[edge_index[0]]\n",
    "        node_x_other = x[edge_index[1]]\n",
    "        edge_attr_padded = torch.cat([edge_attr, torch.zeros(num_edges - edge_attr.size(0), edge_attr.size(1))], dim=0)\n",
    "        edge_x = torch.cat([node_x, node_x_other, edge_attr_padded], dim=1)\n",
    "\n",
    "        # Classify edges into classes\n",
    "        edge_scores = self.edge_classifier(edge_x)\n",
    "        return edge_scores"
   ]
  },
  {
   "cell_type": "markdown",
   "metadata": {},
   "source": [
    "## Training using user prepared dataset"
   ]
  },
  {
   "cell_type": "code",
   "execution_count": 117,
   "metadata": {},
   "outputs": [],
   "source": [
    "num_nodes = len(nodes)\n",
    "num_edges = len(train_tuples)\n",
    "num_node_features = 2\n",
    "num_edge_features = 20\n",
    "hidden_channels = 8\n",
    "num_classes = 26\n",
    "\n",
    "GCNmodel1 = GCNClassifier(num_node_features, num_edge_features, hidden_channels, num_classes)\n",
    "\n",
    "\n",
    "GCNedge_scores_train = GCNmodel1(x_tensor, edge_index_tensor, edge_attr_tensor)"
   ]
  },
  {
   "cell_type": "markdown",
   "metadata": {},
   "source": [
    "## Testing with user prepared dataset"
   ]
  },
  {
   "cell_type": "code",
   "execution_count": 118,
   "metadata": {},
   "outputs": [],
   "source": [
    "num_nodes_test = len(testnodes)\n",
    "num_edges_test = len(test_tuples)\n",
    "\n",
    "# Forward pass\n",
    "GCNedge_scores_test = GCNmodel1(x_test_tensor, edge_index_test_tensor, edge_attr_test_tensor)"
   ]
  },
  {
   "cell_type": "markdown",
   "metadata": {},
   "source": [
    "## Training using Author's Train set"
   ]
  },
  {
   "cell_type": "code",
   "execution_count": 48,
   "metadata": {},
   "outputs": [],
   "source": [
    "num_nodes_autrain = len(autrainnodes)\n",
    "num_edges_autrain = len(autrain_tuples)\n",
    "num_node_features = 8\n",
    "num_edge_features = 23\n",
    "hidden_channels = 8\n",
    "num_classes = 64\n",
    "\n",
    "GCNmodel2 = GCNClassifier(num_node_features, num_edge_features, hidden_channels, num_classes)\n",
    "GCNedge_scores_autrain = GCNmodel2(x_autrain_tensor, edge_index_autrain_tensor, edge_attr_autrain_tensor)"
   ]
  },
  {
   "cell_type": "markdown",
   "metadata": {},
   "source": [
    "## Testing using Author's Test set"
   ]
  },
  {
   "cell_type": "code",
   "execution_count": 49,
   "metadata": {},
   "outputs": [],
   "source": [
    "# Example usage\n",
    "num_nodes_autest = len(autestnodes)\n",
    "num_edges_autest = len(autest_tuples)\n",
    "\n",
    "\n",
    "# Forward pass\n",
    "GCNedge_scores_autest = GCNmodel2(x_autest_tensor, edge_index_autest_tensor, edge_attr_autest_tensor)"
   ]
  },
  {
   "cell_type": "markdown",
   "metadata": {},
   "source": [
    "## KNN"
   ]
  },
  {
   "cell_type": "markdown",
   "metadata": {},
   "source": [
    "## User's train-test"
   ]
  },
  {
   "cell_type": "code",
   "execution_count": 121,
   "metadata": {},
   "outputs": [],
   "source": [
    "import pandas as pd\n",
    "# Convert edge_scores tensor to a NumPy array\n",
    "GCNedge_scores_train_array = GCNedge_scores_train.detach().numpy()\n",
    "GCNedge_scores_test_array = GCNedge_scores_test.detach().numpy()\n",
    "# Create a DataFrame from the NumPy array\n",
    "columns = [str('Dim')+str(i) for i in range(GCNedge_scores_train_array.shape[1])]\n",
    "GCNedge_scores_train_df = pd.DataFrame(GCNedge_scores_train_array, columns=columns)\n",
    "GCNedge_scores_test_df = pd.DataFrame(GCNedge_scores_test_array, columns=columns)\n",
    "trainLabel = train['Label']\n",
    "testLabel = test['Label']"
   ]
  },
  {
   "cell_type": "code",
   "execution_count": 123,
   "metadata": {},
   "outputs": [
    {
     "name": "stdout",
     "output_type": "stream",
     "text": [
      "Classification Report: \n",
      "               precision    recall  f1-score   support\n",
      "\n",
      "           0       1.00      0.99      0.99     17201\n",
      "           1       0.99      1.00      0.99     17229\n",
      "\n",
      "    accuracy                           0.99     34430\n",
      "   macro avg       0.99      0.99      0.99     34430\n",
      "weighted avg       0.99      0.99      0.99     34430\n",
      "\n"
     ]
    }
   ],
   "source": [
    "from sklearn.neighbors import KNeighborsClassifier\n",
    "from sklearn.model_selection import train_test_split\n",
    "from sklearn.metrics import accuracy_score\n",
    "from sklearn.metrics import classification_report\n",
    "\n",
    "GCNX_train = GCNedge_scores_train_df\n",
    "GCNX_test = GCNedge_scores_test_df\n",
    "y_train = trainLabel\n",
    "y_test = testLabel\n",
    "\n",
    "# Initialize the KNN classifier\n",
    "k = 10  # Number of neighbors\n",
    "knn_classifier = KNeighborsClassifier(n_neighbors=k)\n",
    "\n",
    "# Train the classifier\n",
    "knn_classifier.fit(GCNX_train, y_train)\n",
    "\n",
    "# Predictions on the test set\n",
    "y_pred = knn_classifier.predict(GCNX_test)\n",
    "\n",
    "# Calculate accuracy\n",
    "report = classification_report(y_test, y_pred)\n",
    "print(\"Classification Report: \\n\", report)"
   ]
  },
  {
   "cell_type": "markdown",
   "metadata": {},
   "source": []
  },
  {
   "cell_type": "code",
   "execution_count": 48,
   "metadata": {},
   "outputs": [
    {
     "name": "stdout",
     "output_type": "stream",
     "text": [
      "Classification Report: \n",
      "               precision    recall  f1-score   support\n",
      "\n",
      "           0       0.59      0.40      0.48     24354\n",
      "           1       0.32      0.50      0.39     13671\n",
      "\n",
      "    accuracy                           0.44     38025\n",
      "   macro avg       0.45      0.45      0.43     38025\n",
      "weighted avg       0.49      0.44      0.45     38025\n",
      "\n"
     ]
    }
   ],
   "source": [
    "import pandas as pd\n",
    "# Convert edge_scores tensor to a NumPy array\n",
    "GCNedge_scores_autest_array = GCNedge_scores_autest.detach().numpy()\n",
    "# Create a DataFrame from the NumPy array\n",
    "#testLabeldf = pd.DataFrame(auEdgeLabel, columns=['Label'])\n",
    "GCNedge_scores_autest_df = pd.DataFrame(GCNedge_scores_autest_array, columns=columns)\n",
    "trainLabel = train['Label']\n",
    "autestLabel = autest['Label']\n",
    "auX_test = GCNedge_scores_autest_df\n",
    "auy_test = autestLabel \n",
    "\n",
    "auy_pred = knn_classifier.predict(GCNedge_scores_autest_df)\n",
    "\n",
    "# Calculate accuracy\n",
    "report = classification_report(autestLabel, auy_pred)\n",
    "print(\"Classification Report: \\n\", report)"
   ]
  },
  {
   "cell_type": "markdown",
   "metadata": {},
   "source": [
    "## Author's train-test Set"
   ]
  },
  {
   "cell_type": "code",
   "execution_count": 50,
   "metadata": {},
   "outputs": [
    {
     "name": "stdout",
     "output_type": "stream",
     "text": [
      "Training score: 0.8979424440428194\n",
      "Classification Report for Training: \n",
      "               precision    recall  f1-score   support\n",
      "\n",
      "           0       0.91      0.88      0.89     34968\n",
      "           1       0.89      0.92      0.90     36962\n",
      "\n",
      "    accuracy                           0.90     71930\n",
      "   macro avg       0.90      0.90      0.90     71930\n",
      "weighted avg       0.90      0.90      0.90     71930\n",
      "\n",
      "Classification Report: \n",
      "               precision    recall  f1-score   support\n",
      "\n",
      "           0       0.79      0.67      0.72     13671\n",
      "           1       0.71      0.83      0.77     13671\n",
      "\n",
      "    accuracy                           0.75     27342\n",
      "   macro avg       0.75      0.75      0.75     27342\n",
      "weighted avg       0.75      0.75      0.75     27342\n",
      "\n"
     ]
    }
   ],
   "source": [
    "GCNedge_scores_autrain_array = GCNedge_scores_autrain.detach().numpy()\n",
    "GCNedge_scores_autest_array = GCNedge_scores_autest.detach().numpy()\n",
    "\n",
    "columns = [str('Dim')+str(i) for i in range(GCNedge_scores_autrain_array.shape[1])]\n",
    "\n",
    "GCNedge_scores_autrain_df = pd.DataFrame(GCNedge_scores_autrain_array, columns=columns)\n",
    "GCNedge_scores_autest_df = pd.DataFrame(GCNedge_scores_autest_array, columns=columns)\n",
    "\n",
    "\n",
    "trainLabel = autrain['Label']\n",
    "autestLabel = autest['Label']\n",
    "auX_train = GCNedge_scores_autrain_df\n",
    "auX_test = GCNedge_scores_autest_df\n",
    "\n",
    "# Initialize the KNN classifier\n",
    "k = 10  # Number of neighbors\n",
    "knn_classifier = KNeighborsClassifier(n_neighbors=k)\n",
    "\n",
    "# Train the classifier\n",
    "knn_classifier.fit(auX_train, trainLabel)\n",
    "# Get training score\n",
    "training_score = knn_classifier.score(auX_train, trainLabel)\n",
    "print(\"Training score:\", training_score)\n",
    "# Predictions on the test set\n",
    "y_predtrain = knn_classifier.predict(auX_train)\n",
    "\n",
    "# Calculate accuracy\n",
    "report = classification_report(trainLabel, y_predtrain)\n",
    "print(\"Classification Report for Training: \\n\", report)\n",
    "\n",
    "# Predictions on the test set\n",
    "y_pred = knn_classifier.predict(auX_test)\n",
    "\n",
    "# Calculate accuracy\n",
    "report = classification_report(autestLabel, y_pred)\n",
    "print(\"Classification Report: \\n\", report)"
   ]
  },
  {
   "cell_type": "markdown",
   "metadata": {},
   "source": [
    "## Lazy Predict"
   ]
  },
  {
   "cell_type": "code",
   "execution_count": 62,
   "metadata": {},
   "outputs": [
    {
     "name": "stdout",
     "output_type": "stream",
     "text": [
      "'tuple' object has no attribute '__name__'\n",
      "Invalid Classifier(s)\n"
     ]
    },
    {
     "name": "stderr",
     "output_type": "stream",
     "text": [
      "  0%|          | 0/9 [00:00<?, ?it/s]"
     ]
    },
    {
     "name": "stderr",
     "output_type": "stream",
     "text": [
      " 11%|█         | 1/9 [00:38<05:11, 38.88s/it]"
     ]
    },
    {
     "name": "stdout",
     "output_type": "stream",
     "text": [
      "{'Model': 'AdaBoostClassifier', 'Accuracy': 0.6909664694280079, 'Balanced Accuracy': 0.74793283866567, 'ROC AUC': 0.7479328386656698, 'F1 Score': 0.6915890668771454, 'Time taken': 38.87804198265076}\n"
     ]
    },
    {
     "name": "stderr",
     "output_type": "stream",
     "text": [
      " 22%|██▏       | 2/9 [02:00<07:29, 64.22s/it]"
     ]
    },
    {
     "name": "stdout",
     "output_type": "stream",
     "text": [
      "{'Model': 'BaggingClassifier', 'Accuracy': 0.7342800788954635, 'Balanced Accuracy': 0.7655749788491162, 'ROC AUC': 0.7655749788491162, 'F1 Score': 0.7392171279577285, 'Time taken': 81.96214246749878}\n"
     ]
    },
    {
     "name": "stderr",
     "output_type": "stream",
     "text": [
      " 33%|███▎      | 3/9 [02:08<03:51, 38.51s/it]"
     ]
    },
    {
     "name": "stdout",
     "output_type": "stream",
     "text": [
      "{'Model': 'DecisionTreeClassifier', 'Accuracy': 0.7233925049309665, 'Balanced Accuracy': 0.7422513752737423, 'ROC AUC': 0.7422513752737423, 'F1 Score': 0.7289618599317376, 'Time taken': 7.9221649169921875}\n"
     ]
    },
    {
     "name": "stderr",
     "output_type": "stream",
     "text": [
      " 44%|████▍     | 4/9 [02:09<01:57, 23.43s/it]"
     ]
    },
    {
     "name": "stdout",
     "output_type": "stream",
     "text": [
      "{'Model': 'ExtraTreeClassifier', 'Accuracy': 0.716397107166338, 'Balanced Accuracy': 0.7424374879134911, 'ROC AUC': 0.7424374879134911, 'F1 Score': 0.7218959494893769, 'Time taken': 0.3050239086151123}\n"
     ]
    },
    {
     "name": "stderr",
     "output_type": "stream",
     "text": [
      " 56%|█████▌    | 5/9 [02:20<01:16, 19.04s/it]"
     ]
    },
    {
     "name": "stdout",
     "output_type": "stream",
     "text": [
      "{'Model': 'ExtraTreesClassifier', 'Accuracy': 0.7200788954635109, 'Balanced Accuracy': 0.7730826437974916, 'ROC AUC': 0.7730826437974916, 'F1 Score': 0.7220966178843252, 'Time taken': 11.249109268188477}\n"
     ]
    },
    {
     "name": "stderr",
     "output_type": "stream",
     "text": [
      " 67%|██████▋   | 6/9 [02:30<00:47, 15.96s/it]"
     ]
    },
    {
     "name": "stdout",
     "output_type": "stream",
     "text": [
      "{'Model': 'KNeighborsClassifier', 'Accuracy': 0.7327021696252466, 'Balanced Accuracy': 0.7725733412200761, 'ROC AUC': 0.7725733412200761, 'F1 Score': 0.7368590326396462, 'Time taken': 9.983182430267334}\n"
     ]
    },
    {
     "name": "stderr",
     "output_type": "stream",
     "text": [
      " 78%|███████▊  | 7/9 [03:53<01:15, 37.84s/it]"
     ]
    },
    {
     "name": "stdout",
     "output_type": "stream",
     "text": [
      "{'Model': 'RandomForestClassifier', 'Accuracy': 0.7145036160420776, 'Balanced Accuracy': 0.7681847051578421, 'ROC AUC': 0.7681847051578421, 'F1 Score': 0.7163148141757488, 'Time taken': 82.87541651725769}\n"
     ]
    },
    {
     "name": "stderr",
     "output_type": "stream",
     "text": [
      " 89%|████████▉ | 8/9 [03:55<00:26, 26.44s/it]"
     ]
    },
    {
     "name": "stdout",
     "output_type": "stream",
     "text": [
      "{'Model': 'XGBClassifier', 'Accuracy': 0.7312031558185405, 'Balanced Accuracy': 0.7740181537809951, 'ROC AUC': 0.7740181537809951, 'F1 Score': 0.734994716364209, 'Time taken': 2.051447868347168}\n",
      "[LightGBM] [Info] Number of positive: 36961, number of negative: 34967\n",
      "[LightGBM] [Info] Auto-choosing col-wise multi-threading, the overhead of testing was 0.025702 seconds.\n",
      "You can set `force_col_wise=true` to remove the overhead.\n",
      "[LightGBM] [Info] Total Bins 12240\n",
      "[LightGBM] [Info] Number of data points in the train set: 71928, number of used features: 48\n",
      "[LightGBM] [Info] [binary:BoostFromScore]: pavg=0.513861 -> initscore=0.055459\n",
      "[LightGBM] [Info] Start training from score 0.055459\n"
     ]
    },
    {
     "name": "stderr",
     "output_type": "stream",
     "text": [
      "100%|██████████| 9/9 [03:57<00:00, 26.35s/it]"
     ]
    },
    {
     "name": "stdout",
     "output_type": "stream",
     "text": [
      "{'Model': 'LGBMClassifier', 'Accuracy': 0.7172123602892834, 'Balanced Accuracy': 0.77493584993304, 'ROC AUC': 0.7749358499330399, 'F1 Score': 0.7181436751183073, 'Time taken': 1.936528205871582}\n"
     ]
    },
    {
     "name": "stderr",
     "output_type": "stream",
     "text": [
      "\n"
     ]
    }
   ],
   "source": [
    "# List of classifiers to include\n",
    "import sklearn\n",
    "import xgboost\n",
    "import lightgbm\n",
    "import sklearn.discriminant_analysis\n",
    "from lazypredict.Supervised import LazyClassifier\n",
    "\n",
    "classifiers = [\n",
    "    ('AdaBoostClassifier', sklearn.ensemble._weight_boosting.AdaBoostClassifier),\n",
    "    ('BaggingClassifier', sklearn.ensemble._bagging.BaggingClassifier),\n",
    "    ('DecisionTreeClassifier', sklearn.tree._classes.DecisionTreeClassifier),\n",
    "    ('ExtraTreeClassifier', sklearn.ensemble._forest.ExtraTreeClassifier),\n",
    "    ('ExtraTreesClassifier', sklearn.ensemble._forest.ExtraTreesClassifier),\n",
    "    ('KNeighborsClassifier',  sklearn.neighbors._classification.KNeighborsClassifier),\n",
    "    # ('NuSVC', sklearn.svm._classes.NuSVC),\n",
    "    ('RandomForestClassifier', sklearn.ensemble._forest.RandomForestClassifier),\n",
    "    # ('SVC', sklearn.svm._classes.SVC),\n",
    "    ('XGBClassifier', xgboost.sklearn.XGBClassifier),\n",
    "    ('LGBMClassifier', lightgbm.sklearn.LGBMClassifier)]\n",
    "clf = LazyClassifier(verbose=1,ignore_warnings=True, custom_metric=None,classifiers= classifiers, predictions=True)\n",
    "\n",
    "aumodels, aupredictions = clf.fit(auX_train, auX_test, autrainLabel, autestLabel)"
   ]
  },
  {
   "cell_type": "code",
   "execution_count": 63,
   "metadata": {},
   "outputs": [
    {
     "name": "stdout",
     "output_type": "stream",
     "text": [
      "AdaBoostClassifier\n",
      "              precision    recall  f1-score   support\n",
      "\n",
      "           0       0.95      0.55      0.69     24354\n",
      "           1       0.54      0.95      0.69     13671\n",
      "\n",
      "    accuracy                           0.69     38025\n",
      "   macro avg       0.75      0.75      0.69     38025\n",
      "weighted avg       0.80      0.69      0.69     38025\n",
      "\n",
      "AUC Scores for each class: 0.7479328386656698\n",
      "-----------------------------------------------------------------------------------\n",
      "-----------------------------------------------------------------------------------\n",
      "BaggingClassifier\n",
      "              precision    recall  f1-score   support\n",
      "\n",
      "           0       0.90      0.65      0.76     24354\n",
      "           1       0.59      0.88      0.70     13671\n",
      "\n",
      "    accuracy                           0.73     38025\n",
      "   macro avg       0.75      0.77      0.73     38025\n",
      "weighted avg       0.79      0.73      0.74     38025\n",
      "\n",
      "AUC Scores for each class: 0.7655749788491162\n",
      "-----------------------------------------------------------------------------------\n",
      "-----------------------------------------------------------------------------------\n",
      "DecisionTreeClassifier\n",
      "              precision    recall  f1-score   support\n",
      "\n",
      "           0       0.86      0.68      0.76     24354\n",
      "           1       0.58      0.81      0.68     13671\n",
      "\n",
      "    accuracy                           0.72     38025\n",
      "   macro avg       0.72      0.74      0.72     38025\n",
      "weighted avg       0.76      0.72      0.73     38025\n",
      "\n",
      "AUC Scores for each class: 0.7422513752737423\n",
      "-----------------------------------------------------------------------------------\n",
      "-----------------------------------------------------------------------------------\n",
      "ExtraTreeClassifier\n",
      "              precision    recall  f1-score   support\n",
      "\n",
      "           0       0.88      0.65      0.75     24354\n",
      "           1       0.57      0.84      0.68     13671\n",
      "\n",
      "    accuracy                           0.72     38025\n",
      "   macro avg       0.72      0.74      0.71     38025\n",
      "weighted avg       0.77      0.72      0.72     38025\n",
      "\n",
      "AUC Scores for each class: 0.7424374879134911\n",
      "-----------------------------------------------------------------------------------\n",
      "-----------------------------------------------------------------------------------\n",
      "ExtraTreesClassifier\n",
      "              precision    recall  f1-score   support\n",
      "\n",
      "           0       0.96      0.58      0.73     24354\n",
      "           1       0.57      0.96      0.71     13671\n",
      "\n",
      "    accuracy                           0.72     38025\n",
      "   macro avg       0.76      0.77      0.72     38025\n",
      "weighted avg       0.82      0.72      0.72     38025\n",
      "\n",
      "AUC Scores for each class: 0.7730826437974916\n",
      "-----------------------------------------------------------------------------------\n",
      "-----------------------------------------------------------------------------------\n",
      "KNeighborsClassifier\n",
      "              precision    recall  f1-score   support\n",
      "\n",
      "           0       0.93      0.63      0.75     24354\n",
      "           1       0.58      0.91      0.71     13671\n",
      "\n",
      "    accuracy                           0.73     38025\n",
      "   macro avg       0.76      0.77      0.73     38025\n",
      "weighted avg       0.80      0.73      0.74     38025\n",
      "\n",
      "AUC Scores for each class: 0.7725733412200761\n",
      "-----------------------------------------------------------------------------------\n",
      "-----------------------------------------------------------------------------------\n",
      "RandomForestClassifier\n",
      "              precision    recall  f1-score   support\n",
      "\n",
      "           0       0.96      0.58      0.72     24354\n",
      "           1       0.56      0.96      0.71     13671\n",
      "\n",
      "    accuracy                           0.71     38025\n",
      "   macro avg       0.76      0.77      0.71     38025\n",
      "weighted avg       0.82      0.71      0.72     38025\n",
      "\n",
      "AUC Scores for each class: 0.7681847051578421\n",
      "-----------------------------------------------------------------------------------\n",
      "-----------------------------------------------------------------------------------\n",
      "XGBClassifier\n",
      "              precision    recall  f1-score   support\n",
      "\n",
      "           0       0.94      0.62      0.75     24354\n",
      "           1       0.58      0.93      0.71     13671\n",
      "\n",
      "    accuracy                           0.73     38025\n",
      "   macro avg       0.76      0.77      0.73     38025\n",
      "weighted avg       0.81      0.73      0.73     38025\n",
      "\n",
      "AUC Scores for each class: 0.7740181537809951\n",
      "-----------------------------------------------------------------------------------\n",
      "-----------------------------------------------------------------------------------\n",
      "LGBMClassifier\n",
      "              precision    recall  f1-score   support\n",
      "\n",
      "           0       0.98      0.57      0.72     24354\n",
      "           1       0.56      0.98      0.71     13671\n",
      "\n",
      "    accuracy                           0.72     38025\n",
      "   macro avg       0.77      0.77      0.72     38025\n",
      "weighted avg       0.83      0.72      0.72     38025\n",
      "\n",
      "AUC Scores for each class: 0.7749358499330399\n",
      "-----------------------------------------------------------------------------------\n",
      "-----------------------------------------------------------------------------------\n"
     ]
    }
   ],
   "source": [
    "from sklearn.metrics import roc_auc_score\n",
    "for model in aupredictions.columns:\n",
    "    print(model)\n",
    "    print(classification_report(autestLabel, aupredictions[model]))\n",
    "    auc_scores = roc_auc_score(autestLabel, aupredictions[model], multi_class='ovr')  # Or multi_class='ovo' for one-vs-one\n",
    "    print(\"AUC Scores for each class:\", auc_scores)\n",
    "    print('-----------------------------------------------------------------------------------')\n",
    "    print('-----------------------------------------------------------------------------------')"
   ]
  },
  {
   "cell_type": "code",
   "execution_count": 53,
   "metadata": {},
   "outputs": [
    {
     "data": {
      "text/html": [
       "<div>\n",
       "<style scoped>\n",
       "    .dataframe tbody tr th:only-of-type {\n",
       "        vertical-align: middle;\n",
       "    }\n",
       "\n",
       "    .dataframe tbody tr th {\n",
       "        vertical-align: top;\n",
       "    }\n",
       "\n",
       "    .dataframe thead th {\n",
       "        text-align: right;\n",
       "    }\n",
       "</style>\n",
       "<table border=\"1\" class=\"dataframe\">\n",
       "  <thead>\n",
       "    <tr style=\"text-align: right;\">\n",
       "      <th></th>\n",
       "      <th>Accuracy</th>\n",
       "      <th>Balanced Accuracy</th>\n",
       "      <th>ROC AUC</th>\n",
       "      <th>F1 Score</th>\n",
       "      <th>Time Taken</th>\n",
       "    </tr>\n",
       "    <tr>\n",
       "      <th>Model</th>\n",
       "      <th></th>\n",
       "      <th></th>\n",
       "      <th></th>\n",
       "      <th></th>\n",
       "      <th></th>\n",
       "    </tr>\n",
       "  </thead>\n",
       "  <tbody>\n",
       "    <tr>\n",
       "      <th>LGBMClassifier</th>\n",
       "      <td>0.76</td>\n",
       "      <td>0.80</td>\n",
       "      <td>0.80</td>\n",
       "      <td>0.77</td>\n",
       "      <td>1.76</td>\n",
       "    </tr>\n",
       "    <tr>\n",
       "      <th>ExtraTreesClassifier</th>\n",
       "      <td>0.74</td>\n",
       "      <td>0.78</td>\n",
       "      <td>0.78</td>\n",
       "      <td>0.74</td>\n",
       "      <td>11.78</td>\n",
       "    </tr>\n",
       "    <tr>\n",
       "      <th>KNeighborsClassifier</th>\n",
       "      <td>0.75</td>\n",
       "      <td>0.78</td>\n",
       "      <td>0.78</td>\n",
       "      <td>0.76</td>\n",
       "      <td>11.70</td>\n",
       "    </tr>\n",
       "    <tr>\n",
       "      <th>RandomForestClassifier</th>\n",
       "      <td>0.74</td>\n",
       "      <td>0.78</td>\n",
       "      <td>0.78</td>\n",
       "      <td>0.74</td>\n",
       "      <td>77.61</td>\n",
       "    </tr>\n",
       "    <tr>\n",
       "      <th>XGBClassifier</th>\n",
       "      <td>0.75</td>\n",
       "      <td>0.78</td>\n",
       "      <td>0.78</td>\n",
       "      <td>0.75</td>\n",
       "      <td>1.67</td>\n",
       "    </tr>\n",
       "    <tr>\n",
       "      <th>BaggingClassifier</th>\n",
       "      <td>0.75</td>\n",
       "      <td>0.77</td>\n",
       "      <td>0.77</td>\n",
       "      <td>0.76</td>\n",
       "      <td>52.12</td>\n",
       "    </tr>\n",
       "    <tr>\n",
       "      <th>ExtraTreeClassifier</th>\n",
       "      <td>0.73</td>\n",
       "      <td>0.75</td>\n",
       "      <td>0.75</td>\n",
       "      <td>0.73</td>\n",
       "      <td>0.27</td>\n",
       "    </tr>\n",
       "    <tr>\n",
       "      <th>DecisionTreeClassifier</th>\n",
       "      <td>0.72</td>\n",
       "      <td>0.74</td>\n",
       "      <td>0.74</td>\n",
       "      <td>0.73</td>\n",
       "      <td>5.31</td>\n",
       "    </tr>\n",
       "    <tr>\n",
       "      <th>AdaBoostClassifier</th>\n",
       "      <td>0.67</td>\n",
       "      <td>0.72</td>\n",
       "      <td>0.72</td>\n",
       "      <td>0.67</td>\n",
       "      <td>27.68</td>\n",
       "    </tr>\n",
       "  </tbody>\n",
       "</table>\n",
       "</div>"
      ],
      "text/plain": [
       "                        Accuracy  Balanced Accuracy  ROC AUC  F1 Score  \\\n",
       "Model                                                                    \n",
       "LGBMClassifier              0.76               0.80     0.80      0.77   \n",
       "ExtraTreesClassifier        0.74               0.78     0.78      0.74   \n",
       "KNeighborsClassifier        0.75               0.78     0.78      0.76   \n",
       "RandomForestClassifier      0.74               0.78     0.78      0.74   \n",
       "XGBClassifier               0.75               0.78     0.78      0.75   \n",
       "BaggingClassifier           0.75               0.77     0.77      0.76   \n",
       "ExtraTreeClassifier         0.73               0.75     0.75      0.73   \n",
       "DecisionTreeClassifier      0.72               0.74     0.74      0.73   \n",
       "AdaBoostClassifier          0.67               0.72     0.72      0.67   \n",
       "\n",
       "                        Time Taken  \n",
       "Model                               \n",
       "LGBMClassifier                1.76  \n",
       "ExtraTreesClassifier         11.78  \n",
       "KNeighborsClassifier         11.70  \n",
       "RandomForestClassifier       77.61  \n",
       "XGBClassifier                 1.67  \n",
       "BaggingClassifier            52.12  \n",
       "ExtraTreeClassifier           0.27  \n",
       "DecisionTreeClassifier        5.31  \n",
       "AdaBoostClassifier           27.68  "
      ]
     },
     "execution_count": 53,
     "metadata": {},
     "output_type": "execute_result"
    }
   ],
   "source": [
    "aumodels"
   ]
  },
  {
   "cell_type": "markdown",
   "metadata": {},
   "source": [
    "# GraphSAGE"
   ]
  },
  {
   "cell_type": "code",
   "execution_count": 120,
   "metadata": {},
   "outputs": [],
   "source": [
    "import torch\n",
    "import torch.nn as nn\n",
    "import torch.nn.functional as F\n",
    "from torch_geometric.nn import SAGEConv\n",
    "class GraphSAGEClassifier(torch.nn.Module):\n",
    "    def __init__(self, num_node_features, num_edge_features, hidden_channels, num_classes):\n",
    "        super(GraphSAGEClassifier, self).__init__()\n",
    "        self.conv1 = SAGEConv(num_node_features, hidden_channels)\n",
    "        self.conv2 = SAGEConv(hidden_channels, hidden_channels)\n",
    "        self.edge_classifier = nn.Linear(hidden_channels * 2 + num_edge_features, num_classes)\n",
    "\n",
    "    def forward(self, x, edge_index, edge_attr):\n",
    "        # Apply GraphSAGE convolutional layers\n",
    "        x = self.conv1(x, edge_index)\n",
    "        x = F.relu(x)\n",
    "        x = self.conv2(x, edge_index)\n",
    "        x = F.relu(x)\n",
    "\n",
    "        # Concatenate node features with edge features\n",
    "        num_edges = edge_index.size(1)\n",
    "        node_x = x[edge_index[0]]\n",
    "        node_x_other = x[edge_index[1]]\n",
    "        edge_attr_padded = torch.cat([edge_attr, torch.zeros(num_edges - edge_attr.size(0), edge_attr.size(1))], dim=0)\n",
    "        edge_x = torch.cat([node_x, node_x_other, edge_attr_padded], dim=1)\n",
    "\n",
    "        # Classify edges into binary class using BCELogit\n",
    "        edge_scores = self.edge_classifier(edge_x)\n",
    "        return edge_scores"
   ]
  },
  {
   "cell_type": "markdown",
   "metadata": {},
   "source": [
    "## User's train-test"
   ]
  },
  {
   "cell_type": "code",
   "execution_count": 130,
   "metadata": {},
   "outputs": [],
   "source": [
    "num_nodes = len(nodes)\n",
    "num_edges = len(train_tuples)\n",
    "num_node_features = 2\n",
    "num_edge_features = 20\n",
    "hidden_channels = 8\n",
    "num_classes = 26\n",
    "\n",
    "GraphSAGEmodel1 = GraphSAGEClassifier(num_node_features, num_edge_features, hidden_channels, num_classes)\n",
    "\n",
    "\n",
    "GraphSAGEedge_scores_train = GraphSAGEmodel1(x_tensor, edge_index_tensor, edge_attr_tensor)"
   ]
  },
  {
   "cell_type": "code",
   "execution_count": 131,
   "metadata": {},
   "outputs": [],
   "source": [
    "num_nodes_test = len(testnodes)\n",
    "num_edges_test = len(test_tuples)\n",
    "\n",
    "# Forward pass\n",
    "GraphSAGEedge_scores_test = GraphSAGEmodel1(x_test_tensor, edge_index_test_tensor, edge_attr_test_tensor)"
   ]
  },
  {
   "cell_type": "markdown",
   "metadata": {},
   "source": [
    "## Author's train-test"
   ]
  },
  {
   "cell_type": "code",
   "execution_count": 123,
   "metadata": {},
   "outputs": [],
   "source": [
    "num_nodes_autrain = len(autrainnodes)\n",
    "num_edges_autrain = len(autrain_tuples)\n",
    "num_node_features = 8\n",
    "num_edge_features = 23\n",
    "hidden_channels = 8\n",
    "num_classes = 39\n",
    "\n",
    "GraphSAGEmodel2 = GraphSAGEClassifier(num_node_features, num_edge_features, hidden_channels, num_classes)\n",
    "GraphSAGEedge_scores_autrain = GraphSAGEmodel2(x_autrain_tensor, edge_index_autrain_tensor, edge_attr_autrain_tensor)"
   ]
  },
  {
   "cell_type": "code",
   "execution_count": 124,
   "metadata": {},
   "outputs": [],
   "source": [
    "# Example usage\n",
    "num_nodes_autest = len(autestnodes)\n",
    "num_edges_autest = len(autest_tuples)\n",
    "\n",
    "\n",
    "# Forward pass\n",
    "GraphSAGEedge_scores_autest = GraphSAGEmodel2(x_autest_tensor, edge_index_autest_tensor, edge_attr_autest_tensor)"
   ]
  },
  {
   "cell_type": "markdown",
   "metadata": {},
   "source": [
    "## KNN"
   ]
  },
  {
   "cell_type": "markdown",
   "metadata": {},
   "source": [
    "## User's train-test"
   ]
  },
  {
   "cell_type": "code",
   "execution_count": 134,
   "metadata": {},
   "outputs": [],
   "source": [
    "import pandas as pd\n",
    "# Convert edge_scores tensor to a NumPy array\n",
    "GraphSAGEedge_scores_train_array = GraphSAGEedge_scores_train.detach().numpy()\n",
    "GraphSAGEedge_scores_test_array = GraphSAGEedge_scores_test.detach().numpy()\n",
    "# Create a DataFrame from the NumPy array\n",
    "columns = [str('Dim')+str(i) for i in range(GraphSAGEedge_scores_train_array.shape[1])]\n",
    "GraphSAGEedge_scores_train_df = pd.DataFrame(GraphSAGEedge_scores_train_array, columns=columns)\n",
    "GraphSAGEedge_scores_test_df = pd.DataFrame(GraphSAGEedge_scores_test_array, columns=columns)\n",
    "trainLabel = train['Label']\n",
    "testLabel = test['Label']"
   ]
  },
  {
   "cell_type": "code",
   "execution_count": 135,
   "metadata": {},
   "outputs": [
    {
     "name": "stdout",
     "output_type": "stream",
     "text": [
      "Classification Report: \n",
      "               precision    recall  f1-score   support\n",
      "\n",
      "           0       1.00      0.99      0.99     17201\n",
      "           1       0.99      1.00      0.99     17229\n",
      "\n",
      "    accuracy                           0.99     34430\n",
      "   macro avg       0.99      0.99      0.99     34430\n",
      "weighted avg       0.99      0.99      0.99     34430\n",
      "\n"
     ]
    }
   ],
   "source": [
    "from sklearn.neighbors import KNeighborsClassifier\n",
    "from sklearn.model_selection import train_test_split\n",
    "from sklearn.metrics import accuracy_score\n",
    "from sklearn.metrics import classification_report\n",
    "\n",
    "GraphSAGEX_train = GraphSAGEedge_scores_train_df\n",
    "GraphSAGEX_test = GraphSAGEedge_scores_test_df\n",
    "y_train = trainLabel\n",
    "y_test = testLabel\n",
    "\n",
    "# Initialize the KNN classifier\n",
    "k = 10  # Number of neighbors\n",
    "knn_classifier = KNeighborsClassifier(n_neighbors=k)\n",
    "\n",
    "# Train the classifier\n",
    "knn_classifier.fit(GraphSAGEX_train, y_train)\n",
    "\n",
    "# Predictions on the test set\n",
    "y_pred = knn_classifier.predict(GraphSAGEX_test)\n",
    "\n",
    "# Calculate accuracy\n",
    "report = classification_report(y_test, y_pred)\n",
    "print(\"Classification Report: \\n\", report)"
   ]
  },
  {
   "cell_type": "code",
   "execution_count": null,
   "metadata": {},
   "outputs": [
    {
     "name": "stdout",
     "output_type": "stream",
     "text": [
      "Classification Report: \n",
      "               precision    recall  f1-score   support\n",
      "\n",
      "           0       0.65      0.99      0.78     24354\n",
      "           1       0.73      0.05      0.09     13671\n",
      "\n",
      "    accuracy                           0.65     38025\n",
      "   macro avg       0.69      0.52      0.44     38025\n",
      "weighted avg       0.68      0.65      0.53     38025\n",
      "\n"
     ]
    }
   ],
   "source": [
    "import pandas as pd\n",
    "# Convert edge_scores tensor to a NumPy array\n",
    "GraphSAGEedge_scores_autest_array = GraphSAGEedge_scores_autest.detach().numpy()\n",
    "# Create a DataFrame from the NumPy array\n",
    "#testLabeldf = pd.DataFrame(auEdgeLabel, columns=['Label'])\n",
    "GraphSAGEedge_scores_autest_df = pd.DataFrame(GraphSAGEedge_scores_autest_array, columns=columns)\n",
    "trainLabel = train['Label']\n",
    "autestLabel = autest['Label']\n",
    "auX_test = GraphSAGEedge_scores_autest_df\n",
    "auy_test = autestLabel \n",
    "\n",
    "auy_pred = knn_classifier.predict(GraphSAGEedge_scores_autest_df)\n",
    "\n",
    "# Calculate accuracy\n",
    "report = classification_report(autestLabel, auy_pred)\n",
    "print(\"Classification Report: \\n\", report)"
   ]
  },
  {
   "cell_type": "markdown",
   "metadata": {},
   "source": [
    "## Author's train-test"
   ]
  },
  {
   "cell_type": "code",
   "execution_count": 127,
   "metadata": {},
   "outputs": [
    {
     "name": "stdout",
     "output_type": "stream",
     "text": [
      "Classification Report: \n",
      "               precision    recall  f1-score   support\n",
      "\n",
      "           0       0.94      0.61      0.74     24354\n",
      "           1       0.57      0.93      0.71     13671\n",
      "\n",
      "    accuracy                           0.73     38025\n",
      "   macro avg       0.76      0.77      0.72     38025\n",
      "weighted avg       0.81      0.73      0.73     38025\n",
      "\n"
     ]
    }
   ],
   "source": [
    "GraphSAGEedge_scores_autrain_array = GraphSAGEedge_scores_autrain.detach().numpy()\n",
    "GraphSAGEedge_scores_autest_array = GraphSAGEedge_scores_autest.detach().numpy()\n",
    "\n",
    "GraphSAGEedge_scores_autrain_df = pd.DataFrame(GraphSAGEedge_scores_autrain_array, columns=columns)\n",
    "GraphSAGEedge_scores_autest_df = pd.DataFrame(GraphSAGEedge_scores_autest_array, columns=columns)\n",
    "\n",
    "\n",
    "trainLabel = autrain['Label']\n",
    "autestLabel = autest['Label']\n",
    "auX_train = GraphSAGEedge_scores_autrain_df\n",
    "auX_test = GraphSAGEedge_scores_autest_df\n",
    "\n",
    "# Initialize the KNN classifier\n",
    "k = 15  # Number of neighbors\n",
    "knn_classifier = KNeighborsClassifier(n_neighbors=k)\n",
    "\n",
    "# Train the classifier\n",
    "knn_classifier.fit(auX_train, trainLabel)\n",
    "\n",
    "# Predictions on the test set\n",
    "y_pred = knn_classifier.predict(auX_test)\n",
    "\n",
    "# Calculate accuracy\n",
    "report = classification_report(autestLabel, y_pred)\n",
    "print(\"Classification Report: \\n\", report)"
   ]
  },
  {
   "cell_type": "markdown",
   "metadata": {},
   "source": [
    "## Lazy Predict"
   ]
  },
  {
   "cell_type": "code",
   "execution_count": 128,
   "metadata": {},
   "outputs": [
    {
     "name": "stdout",
     "output_type": "stream",
     "text": [
      "'tuple' object has no attribute '__name__'\n",
      "Invalid Classifier(s)\n"
     ]
    },
    {
     "name": "stderr",
     "output_type": "stream",
     "text": [
      " 11%|█         | 1/9 [00:44<05:53, 44.22s/it]"
     ]
    },
    {
     "name": "stdout",
     "output_type": "stream",
     "text": [
      "{'Model': 'AdaBoostClassifier', 'Accuracy': 0.7001972386587771, 'Balanced Accuracy': 0.7443098459452286, 'ROC AUC': 0.7443098459452286, 'F1 Score': 0.7037813465241115, 'Time taken': 44.21695137023926}\n"
     ]
    },
    {
     "name": "stderr",
     "output_type": "stream",
     "text": [
      " 22%|██▏       | 2/9 [02:12<08:09, 69.92s/it]"
     ]
    },
    {
     "name": "stdout",
     "output_type": "stream",
     "text": [
      "{'Model': 'BaggingClassifier', 'Accuracy': 0.7233399079552926, 'Balanced Accuracy': 0.750745329086343, 'ROC AUC': 0.7507453290863428, 'F1 Score': 0.7286644247604802, 'Time taken': 87.90462803840637}\n"
     ]
    },
    {
     "name": "stderr",
     "output_type": "stream",
     "text": [
      " 33%|███▎      | 3/9 [02:22<04:17, 42.89s/it]"
     ]
    },
    {
     "name": "stdout",
     "output_type": "stream",
     "text": [
      "{'Model': 'DecisionTreeClassifier', 'Accuracy': 0.7154503616042077, 'Balanced Accuracy': 0.736708935455704, 'ROC AUC': 0.736708935455704, 'F1 Score': 0.7211395037559191, 'Time taken': 10.728997707366943}\n"
     ]
    },
    {
     "name": "stderr",
     "output_type": "stream",
     "text": [
      " 44%|████▍     | 4/9 [02:23<02:10, 26.12s/it]"
     ]
    },
    {
     "name": "stdout",
     "output_type": "stream",
     "text": [
      "{'Model': 'ExtraTreeClassifier', 'Accuracy': 0.7118474687705457, 'Balanced Accuracy': 0.7300619164449669, 'ROC AUC': 0.7300619164449669, 'F1 Score': 0.7176476369336533, 'Time taken': 0.408003568649292}\n"
     ]
    },
    {
     "name": "stderr",
     "output_type": "stream",
     "text": [
      " 56%|█████▌    | 5/9 [02:41<01:32, 23.19s/it]"
     ]
    },
    {
     "name": "stdout",
     "output_type": "stream",
     "text": [
      "{'Model': 'ExtraTreesClassifier', 'Accuracy': 0.7103221564760026, 'Balanced Accuracy': 0.761230404312342, 'ROC AUC': 0.7612304043123421, 'F1 Score': 0.7126738460981523, 'Time taken': 17.987996578216553}\n"
     ]
    },
    {
     "name": "stderr",
     "output_type": "stream",
     "text": [
      " 67%|██████▋   | 6/9 [02:56<01:01, 20.34s/it]"
     ]
    },
    {
     "name": "stdout",
     "output_type": "stream",
     "text": [
      "{'Model': 'KNeighborsClassifier', 'Accuracy': 0.7306245890861276, 'Balanced Accuracy': 0.7656250684237647, 'ROC AUC': 0.7656250684237645, 'F1 Score': 0.7353062729278346, 'Time taken': 14.815185785293579}\n"
     ]
    },
    {
     "name": "stderr",
     "output_type": "stream",
     "text": [
      " 78%|███████▊  | 7/9 [04:52<01:43, 51.77s/it]"
     ]
    },
    {
     "name": "stdout",
     "output_type": "stream",
     "text": [
      "{'Model': 'RandomForestClassifier', 'Accuracy': 0.7107166337935569, 'Balanced Accuracy': 0.7614741888935437, 'ROC AUC': 0.7614741888935438, 'F1 Score': 0.7131028794041027, 'Time taken': 116.48068380355835}\n"
     ]
    },
    {
     "name": "stderr",
     "output_type": "stream",
     "text": [
      " 89%|████████▉ | 8/9 [04:55<00:36, 36.17s/it]"
     ]
    },
    {
     "name": "stdout",
     "output_type": "stream",
     "text": [
      "{'Model': 'XGBClassifier', 'Accuracy': 0.7050361604207758, 'Balanced Accuracy': 0.7488735792658463, 'ROC AUC': 0.7488735792658464, 'F1 Score': 0.7086800205245375, 'Time taken': 2.7679989337921143}\n",
      "[LightGBM] [Info] Number of positive: 36961, number of negative: 34967\n",
      "[LightGBM] [Info] Auto-choosing col-wise multi-threading, the overhead of testing was 0.026906 seconds.\n",
      "You can set `force_col_wise=true` to remove the overhead.\n",
      "[LightGBM] [Info] Total Bins 9945\n",
      "[LightGBM] [Info] Number of data points in the train set: 71928, number of used features: 39\n",
      "[LightGBM] [Info] [binary:BoostFromScore]: pavg=0.513861 -> initscore=0.055459\n",
      "[LightGBM] [Info] Start training from score 0.055459\n"
     ]
    },
    {
     "name": "stderr",
     "output_type": "stream",
     "text": [
      "100%|██████████| 9/9 [04:57<00:00, 33.08s/it]"
     ]
    },
    {
     "name": "stdout",
     "output_type": "stream",
     "text": [
      "{'Model': 'LGBMClassifier', 'Accuracy': 0.7034845496383958, 'Balanced Accuracy': 0.7573363656312965, 'ROC AUC': 0.7573363656312966, 'F1 Score': 0.7051103880781131, 'Time taken': 2.4149880409240723}\n"
     ]
    },
    {
     "name": "stderr",
     "output_type": "stream",
     "text": [
      "\n"
     ]
    }
   ],
   "source": [
    "# List of classifiers to include\n",
    "import sklearn\n",
    "import xgboost\n",
    "import lightgbm\n",
    "import sklearn.discriminant_analysis\n",
    "from lazypredict.Supervised import LazyClassifier\n",
    "\n",
    "classifiers = [\n",
    "    ('AdaBoostClassifier', sklearn.ensemble._weight_boosting.AdaBoostClassifier),\n",
    "    ('BaggingClassifier', sklearn.ensemble._bagging.BaggingClassifier),\n",
    "    ('DecisionTreeClassifier', sklearn.tree._classes.DecisionTreeClassifier),\n",
    "    ('ExtraTreeClassifier', sklearn.ensemble._forest.ExtraTreeClassifier),\n",
    "    ('ExtraTreesClassifier', sklearn.ensemble._forest.ExtraTreesClassifier),\n",
    "    ('KNeighborsClassifier',  sklearn.neighbors._classification.KNeighborsClassifier),\n",
    "    # ('NuSVC', sklearn.svm._classes.NuSVC),\n",
    "    ('RandomForestClassifier', sklearn.ensemble._forest.RandomForestClassifier),\n",
    "    # ('SVC', sklearn.svm._classes.SVC),\n",
    "    ('XGBClassifier', xgboost.sklearn.XGBClassifier),\n",
    "    ('LGBMClassifier', lightgbm.sklearn.LGBMClassifier)]\n",
    "clf = LazyClassifier(verbose=1,ignore_warnings=True, custom_metric=None,classifiers= classifiers, predictions=True)\n",
    "\n",
    "aumodels, aupredictions = clf.fit(auX_train, auX_test, autrainLabel, autestLabel)"
   ]
  },
  {
   "cell_type": "code",
   "execution_count": 131,
   "metadata": {},
   "outputs": [
    {
     "name": "stdout",
     "output_type": "stream",
     "text": [
      "AdaBoostClassifier\n",
      "              precision    recall  f1-score   support\n",
      "\n",
      "           0       0.91      0.59      0.72     24354\n",
      "           1       0.55      0.90      0.68     13671\n",
      "\n",
      "    accuracy                           0.70     38025\n",
      "   macro avg       0.73      0.74      0.70     38025\n",
      "weighted avg       0.78      0.70      0.70     38025\n",
      "\n",
      "AUC Scores for each class: 0.7443098459452286\n",
      "-----------------------------------------------------------------------------------\n",
      "-----------------------------------------------------------------------------------\n",
      "BaggingClassifier\n",
      "              precision    recall  f1-score   support\n",
      "\n",
      "           0       0.88      0.65      0.75     24354\n",
      "           1       0.58      0.85      0.69     13671\n",
      "\n",
      "    accuracy                           0.72     38025\n",
      "   macro avg       0.73      0.75      0.72     38025\n",
      "weighted avg       0.77      0.72      0.73     38025\n",
      "\n",
      "AUC Scores for each class: 0.7507453290863428\n",
      "-----------------------------------------------------------------------------------\n",
      "-----------------------------------------------------------------------------------\n",
      "DecisionTreeClassifier\n",
      "              precision    recall  f1-score   support\n",
      "\n",
      "           0       0.86      0.66      0.75     24354\n",
      "           1       0.57      0.81      0.67     13671\n",
      "\n",
      "    accuracy                           0.72     38025\n",
      "   macro avg       0.72      0.74      0.71     38025\n",
      "weighted avg       0.76      0.72      0.72     38025\n",
      "\n",
      "AUC Scores for each class: 0.736708935455704\n",
      "-----------------------------------------------------------------------------------\n",
      "-----------------------------------------------------------------------------------\n",
      "ExtraTreeClassifier\n",
      "              precision    recall  f1-score   support\n",
      "\n",
      "           0       0.85      0.67      0.75     24354\n",
      "           1       0.57      0.79      0.66     13671\n",
      "\n",
      "    accuracy                           0.71     38025\n",
      "   macro avg       0.71      0.73      0.71     38025\n",
      "weighted avg       0.75      0.71      0.72     38025\n",
      "\n",
      "AUC Scores for each class: 0.7300619164449669\n",
      "-----------------------------------------------------------------------------------\n",
      "-----------------------------------------------------------------------------------\n",
      "ExtraTreesClassifier\n",
      "              precision    recall  f1-score   support\n",
      "\n",
      "           0       0.95      0.58      0.72     24354\n",
      "           1       0.56      0.94      0.70     13671\n",
      "\n",
      "    accuracy                           0.71     38025\n",
      "   macro avg       0.75      0.76      0.71     38025\n",
      "weighted avg       0.81      0.71      0.71     38025\n",
      "\n",
      "AUC Scores for each class: 0.7612304043123421\n",
      "-----------------------------------------------------------------------------------\n",
      "-----------------------------------------------------------------------------------\n",
      "KNeighborsClassifier\n",
      "              precision    recall  f1-score   support\n",
      "\n",
      "           0       0.91      0.64      0.75     24354\n",
      "           1       0.58      0.89      0.70     13671\n",
      "\n",
      "    accuracy                           0.73     38025\n",
      "   macro avg       0.75      0.77      0.73     38025\n",
      "weighted avg       0.79      0.73      0.74     38025\n",
      "\n",
      "AUC Scores for each class: 0.7656250684237645\n",
      "-----------------------------------------------------------------------------------\n",
      "-----------------------------------------------------------------------------------\n",
      "RandomForestClassifier\n",
      "              precision    recall  f1-score   support\n",
      "\n",
      "           0       0.95      0.58      0.72     24354\n",
      "           1       0.56      0.94      0.70     13671\n",
      "\n",
      "    accuracy                           0.71     38025\n",
      "   macro avg       0.75      0.76      0.71     38025\n",
      "weighted avg       0.81      0.71      0.71     38025\n",
      "\n",
      "AUC Scores for each class: 0.7614741888935438\n",
      "-----------------------------------------------------------------------------------\n",
      "-----------------------------------------------------------------------------------\n",
      "XGBClassifier\n",
      "              precision    recall  f1-score   support\n",
      "\n",
      "           0       0.92      0.59      0.72     24354\n",
      "           1       0.56      0.90      0.69     13671\n",
      "\n",
      "    accuracy                           0.71     38025\n",
      "   macro avg       0.74      0.75      0.70     38025\n",
      "weighted avg       0.79      0.71      0.71     38025\n",
      "\n",
      "AUC Scores for each class: 0.7488735792658464\n",
      "-----------------------------------------------------------------------------------\n",
      "-----------------------------------------------------------------------------------\n",
      "LGBMClassifier\n",
      "              precision    recall  f1-score   support\n",
      "\n",
      "           0       0.95      0.57      0.71     24354\n",
      "           1       0.55      0.95      0.70     13671\n",
      "\n",
      "    accuracy                           0.70     38025\n",
      "   macro avg       0.75      0.76      0.70     38025\n",
      "weighted avg       0.81      0.70      0.71     38025\n",
      "\n",
      "AUC Scores for each class: 0.7573363656312966\n",
      "-----------------------------------------------------------------------------------\n",
      "-----------------------------------------------------------------------------------\n"
     ]
    }
   ],
   "source": [
    "from sklearn.metrics import roc_auc_score\n",
    "for model in aupredictions.columns:\n",
    "    print(model)\n",
    "    print(classification_report(autestLabel, aupredictions[model]))\n",
    "    auc_scores = roc_auc_score(autestLabel, aupredictions[model], multi_class='ovr')  # Or multi_class='ovo' for one-vs-one\n",
    "    print(\"AUC Scores for each class:\", auc_scores)\n",
    "    print('-----------------------------------------------------------------------------------')\n",
    "    print('-----------------------------------------------------------------------------------')"
   ]
  },
  {
   "cell_type": "code",
   "execution_count": 130,
   "metadata": {},
   "outputs": [
    {
     "data": {
      "text/html": [
       "<div>\n",
       "<style scoped>\n",
       "    .dataframe tbody tr th:only-of-type {\n",
       "        vertical-align: middle;\n",
       "    }\n",
       "\n",
       "    .dataframe tbody tr th {\n",
       "        vertical-align: top;\n",
       "    }\n",
       "\n",
       "    .dataframe thead th {\n",
       "        text-align: right;\n",
       "    }\n",
       "</style>\n",
       "<table border=\"1\" class=\"dataframe\">\n",
       "  <thead>\n",
       "    <tr style=\"text-align: right;\">\n",
       "      <th></th>\n",
       "      <th>Accuracy</th>\n",
       "      <th>Balanced Accuracy</th>\n",
       "      <th>ROC AUC</th>\n",
       "      <th>F1 Score</th>\n",
       "      <th>Time Taken</th>\n",
       "    </tr>\n",
       "    <tr>\n",
       "      <th>Model</th>\n",
       "      <th></th>\n",
       "      <th></th>\n",
       "      <th></th>\n",
       "      <th></th>\n",
       "      <th></th>\n",
       "    </tr>\n",
       "  </thead>\n",
       "  <tbody>\n",
       "    <tr>\n",
       "      <th>KNeighborsClassifier</th>\n",
       "      <td>0.73</td>\n",
       "      <td>0.77</td>\n",
       "      <td>0.77</td>\n",
       "      <td>0.74</td>\n",
       "      <td>14.82</td>\n",
       "    </tr>\n",
       "    <tr>\n",
       "      <th>RandomForestClassifier</th>\n",
       "      <td>0.71</td>\n",
       "      <td>0.76</td>\n",
       "      <td>0.76</td>\n",
       "      <td>0.71</td>\n",
       "      <td>116.48</td>\n",
       "    </tr>\n",
       "    <tr>\n",
       "      <th>ExtraTreesClassifier</th>\n",
       "      <td>0.71</td>\n",
       "      <td>0.76</td>\n",
       "      <td>0.76</td>\n",
       "      <td>0.71</td>\n",
       "      <td>17.99</td>\n",
       "    </tr>\n",
       "    <tr>\n",
       "      <th>LGBMClassifier</th>\n",
       "      <td>0.70</td>\n",
       "      <td>0.76</td>\n",
       "      <td>0.76</td>\n",
       "      <td>0.71</td>\n",
       "      <td>2.41</td>\n",
       "    </tr>\n",
       "    <tr>\n",
       "      <th>BaggingClassifier</th>\n",
       "      <td>0.72</td>\n",
       "      <td>0.75</td>\n",
       "      <td>0.75</td>\n",
       "      <td>0.73</td>\n",
       "      <td>87.90</td>\n",
       "    </tr>\n",
       "    <tr>\n",
       "      <th>XGBClassifier</th>\n",
       "      <td>0.71</td>\n",
       "      <td>0.75</td>\n",
       "      <td>0.75</td>\n",
       "      <td>0.71</td>\n",
       "      <td>2.77</td>\n",
       "    </tr>\n",
       "    <tr>\n",
       "      <th>AdaBoostClassifier</th>\n",
       "      <td>0.70</td>\n",
       "      <td>0.74</td>\n",
       "      <td>0.74</td>\n",
       "      <td>0.70</td>\n",
       "      <td>44.22</td>\n",
       "    </tr>\n",
       "    <tr>\n",
       "      <th>DecisionTreeClassifier</th>\n",
       "      <td>0.72</td>\n",
       "      <td>0.74</td>\n",
       "      <td>0.74</td>\n",
       "      <td>0.72</td>\n",
       "      <td>10.73</td>\n",
       "    </tr>\n",
       "    <tr>\n",
       "      <th>ExtraTreeClassifier</th>\n",
       "      <td>0.71</td>\n",
       "      <td>0.73</td>\n",
       "      <td>0.73</td>\n",
       "      <td>0.72</td>\n",
       "      <td>0.41</td>\n",
       "    </tr>\n",
       "  </tbody>\n",
       "</table>\n",
       "</div>"
      ],
      "text/plain": [
       "                        Accuracy  Balanced Accuracy  ROC AUC  F1 Score  \\\n",
       "Model                                                                    \n",
       "KNeighborsClassifier        0.73               0.77     0.77      0.74   \n",
       "RandomForestClassifier      0.71               0.76     0.76      0.71   \n",
       "ExtraTreesClassifier        0.71               0.76     0.76      0.71   \n",
       "LGBMClassifier              0.70               0.76     0.76      0.71   \n",
       "BaggingClassifier           0.72               0.75     0.75      0.73   \n",
       "XGBClassifier               0.71               0.75     0.75      0.71   \n",
       "AdaBoostClassifier          0.70               0.74     0.74      0.70   \n",
       "DecisionTreeClassifier      0.72               0.74     0.74      0.72   \n",
       "ExtraTreeClassifier         0.71               0.73     0.73      0.72   \n",
       "\n",
       "                        Time Taken  \n",
       "Model                               \n",
       "KNeighborsClassifier         14.82  \n",
       "RandomForestClassifier      116.48  \n",
       "ExtraTreesClassifier         17.99  \n",
       "LGBMClassifier                2.41  \n",
       "BaggingClassifier            87.90  \n",
       "XGBClassifier                 2.77  \n",
       "AdaBoostClassifier           44.22  \n",
       "DecisionTreeClassifier       10.73  \n",
       "ExtraTreeClassifier           0.41  "
      ]
     },
     "execution_count": 130,
     "metadata": {},
     "output_type": "execute_result"
    }
   ],
   "source": [
    "aumodels"
   ]
  }
 ],
 "metadata": {
  "kernelspec": {
   "display_name": "base",
   "language": "python",
   "name": "python3"
  },
  "language_info": {
   "codemirror_mode": {
    "name": "ipython",
    "version": 3
   },
   "file_extension": ".py",
   "mimetype": "text/x-python",
   "name": "python",
   "nbconvert_exporter": "python",
   "pygments_lexer": "ipython3",
   "version": "3.11.7"
  }
 },
 "nbformat": 4,
 "nbformat_minor": 2
}
