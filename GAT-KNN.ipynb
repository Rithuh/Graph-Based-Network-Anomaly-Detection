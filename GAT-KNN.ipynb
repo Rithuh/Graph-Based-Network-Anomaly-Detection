{
 "cells": [
  {
   "cell_type": "markdown",
   "metadata": {},
   "source": [
    "# Libraries"
   ]
  },
  {
   "cell_type": "code",
   "execution_count": 2,
   "metadata": {},
   "outputs": [],
   "source": [
    "import pandas as pd\n",
    "import numpy as np\n",
    "import matplotlib.pyplot as plt\n",
    "import seaborn as sns\n",
    "from sklearn.model_selection import train_test_split\n",
    "from sklearn.preprocessing import StandardScaler\n",
    "\n",
    "from sklearn.metrics import accuracy_score\n",
    "from sklearn.metrics import f1_score\n",
    "from sklearn.metrics import confusion_matrix\n",
    "from sklearn.metrics import classification_report\n",
    "from sklearn.metrics import precision_score\n",
    "from sklearn.model_selection import cross_validate\n",
    "from sklearn.model_selection import cross_val_predict\n",
    "\n",
    "from sklearn.neighbors import KNeighborsClassifier\n",
    "from sklearn.linear_model import LogisticRegression\n",
    "from sklearn.ensemble import RandomForestClassifier\n",
    "from sklearn.tree import DecisionTreeClassifier\n",
    "from sklearn.naive_bayes import GaussianNB\n",
    "from sklearn.ensemble import BaggingClassifier\n",
    "from sklearn.svm import SVC\n",
    "from sklearn.ensemble import StackingClassifier\n",
    "\n",
    "import torch\n",
    "import torch.nn as nn\n",
    "import torch.nn.functional as F\n",
    "from torch_geometric.nn import GATConv\n"
   ]
  },
  {
   "cell_type": "markdown",
   "metadata": {},
   "source": [
    "# Dataset Loading"
   ]
  },
  {
   "cell_type": "code",
   "execution_count": 29,
   "metadata": {},
   "outputs": [],
   "source": [
    "train = pd.read_csv(r'D:\\Project Phase II\\Dataset\\finaltrain.csv',encoding='cp1252')\n",
    "test = pd.read_csv(r'D:\\Project Phase II\\Dataset\\finaltest.csv',encoding='cp1252') #test_set1 \n",
    "autest = pd.read_csv(r'D:\\Project Phase II\\Dataset\\UNSW_NB15_testing-set.csv',encoding='cp1252') #test_set2"
   ]
  },
  {
   "cell_type": "markdown",
   "metadata": {},
   "source": [
    "# Data Preprocessing"
   ]
  },
  {
   "cell_type": "markdown",
   "metadata": {},
   "source": [
    "## Preprocess user-made train-test datasets"
   ]
  },
  {
   "cell_type": "code",
   "execution_count": 30,
   "metadata": {},
   "outputs": [],
   "source": [
    "todrop = ['sloss', 'dloss','stcpb', 'dtcpb', 'trans_depth', 'Stime', 'Ltime','ct_flw_http_mthd', \n",
    "        'is_ftp_login', 'ct_ftp_cmd', 'ct_srv_src', 'ct_srv_dst', 'ct_dst_ltm', 'ct_src_ ltm',\n",
    "        'ct_src_dport_ltm', 'ct_dst_sport_ltm', 'ct_dst_src_ltm', 'attack_cat']\n",
    "        \n",
    "reducedTrain = train.drop(todrop, axis = 1)\n",
    "reducedTest = test.drop(todrop, axis = 1)\n",
    "reducedTrain = reducedTrain.drop_duplicates()\n",
    "reducedTest = reducedTest.drop_duplicates()\n",
    "\n",
    "trainAttributes = reducedTrain.drop(['srcip','sport','dstip','dsport','Label'], axis = 1)\n",
    "trainLabel = reducedTrain['Label']\n",
    "testAttributes = reducedTest.drop(['srcip','sport','dstip','dsport','Label'], axis = 1)\n",
    "testLabel = reducedTest['Label']\n",
    "\n",
    "train = reducedTrain\n",
    "test = reducedTest\n",
    "\n",
    "train = train.drop_duplicates(['srcip','sport', 'dstip', 'dsport'], keep = 'last')\n",
    "test = test.drop_duplicates(['srcip','sport', 'dstip', 'dsport'], keep = 'last')"
   ]
  },
  {
   "cell_type": "code",
   "execution_count": 7,
   "metadata": {},
   "outputs": [
    {
     "name": "stdout",
     "output_type": "stream",
     "text": [
      "Train Set:\n",
      " Label\n",
      "0    39990\n",
      "1    39821\n",
      "Name: count, dtype: int64\n",
      "Test Set:\n",
      " Label\n",
      "1    17217\n",
      "0    17201\n",
      "Name: count, dtype: int64\n"
     ]
    }
   ],
   "source": [
    "print(\"Train Set:\\n\",train.Label.value_counts())\n",
    "print(\"Test Set:\\n\", test.Label.value_counts())"
   ]
  },
  {
   "cell_type": "markdown",
   "metadata": {},
   "source": [
    "## Preprocess Author's testing dataset"
   ]
  },
  {
   "cell_type": "code",
   "execution_count": 31,
   "metadata": {},
   "outputs": [],
   "source": [
    "autestdrop = ['ï»¿id', 'rate', 'sloss', 'dloss','stcpb', 'dtcpb','trans_depth','ct_srv_src','ct_dst_ltm',\n",
    "        'ct_src_dport_ltm', 'ct_dst_sport_ltm', 'ct_dst_src_ltm',\n",
    "        'is_ftp_login', 'ct_ftp_cmd', 'ct_flw_http_mthd', 'ct_src_ltm',\n",
    "        'ct_srv_dst', 'is_sm_ips_ports', 'attack_cat']\n",
    "\n",
    "autest = autest.drop(autestdrop, axis = 1)\n",
    "#Change column names of autest\n",
    "autest.rename(columns={'dinpkt':'Dintpkt','djit':'Djit','dload':'Dload','dpkts':'Dpkts','label':'Label','sinpkt':'Sintpkt','sjit':'Sjit', 'sload':'Sload', 'spkts':'Spkts','dmean':'dmeansz','response_body_len':'res_bdy_len', 'smean':'smeansz'}, inplace=True)\n",
    "autest = autest[(autest['proto']=='tcp') | (autest['proto']=='udp') | (autest['proto']=='ospf')]\n",
    "autest = autest[(autest['service']=='ssh') | (autest['service']=='ftp-data ')  | (autest['service']=='ftp') | (autest['service']=='-') | (autest['service']=='dns') | (autest['service']=='smtp') | (autest['service']=='http') | (autest['service']=='radius') | (autest['service']=='pop3') ]\n",
    "autest = autest[(autest['state'] == 'CON') | (autest['state'] == 'RST') | (autest['state'] == 'FIN') | (autest['state'] == 'ACC') | (autest['state'] == 'REQ') | (autest['state'] == 'INT')]\n",
    "\n",
    "autest['proto'].replace(\"tcp\", 0, inplace = True)\n",
    "autest['proto'].replace(\"udp\", 1, inplace = True)\n",
    "autest['proto'].replace(\"ospf\", 2, inplace = True)\n",
    "\n",
    "autest['service'].replace(\"ssh\", 0, inplace = True)\n",
    "autest['service'].replace(\"ftp-data\", 1, inplace = True)\n",
    "autest['service'].replace(\"ftp\", 2, inplace = True)\n",
    "autest['service'].replace(\"-\", 3, inplace = True)\n",
    "autest['service'].replace(\"dns\", 4, inplace = True)\n",
    "autest['service'].replace(\"smtp\", 5, inplace = True)\n",
    "autest['service'].replace(\"http\", 6, inplace = True)\n",
    "autest['service'].replace(\"radius\", 7, inplace = True)\n",
    "autest['service'].replace(\"pop3\", 8, inplace = True)\n",
    "\n",
    "autest['state'].replace(\"CON\", 0, inplace = True)\n",
    "autest['state'].replace(\"RST\", 1, inplace = True)\n",
    "autest['state'].replace(\"FIN\", 2, inplace = True)\n",
    "autest['state'].replace(\"ACC\", 3, inplace = True)\n",
    "autest['state'].replace(\"REQ\", 4, inplace = True)\n",
    "autest['state'].replace(\"INT\", 5, inplace = True)\n",
    "\n",
    "for column in autest.columns:\n",
    "        if column != 'Label':\n",
    "                col_mean = sum(autest[column]) / len(autest[column])\n",
    "                col_std = (sum((x - col_mean) ** 2 for x in autest[column]) / len(autest[column])) ** 0.5\n",
    "                autest[column] = [(x - col_mean) / col_std for x in autest[column]]\n",
    "\n",
    "\n",
    "autest = autest.drop_duplicates()\n",
    "autestAttributes = autest.drop(['Label'], axis = 1)\n",
    "autestAttributes = autestAttributes[trainAttributes.columns]\n",
    "autestLabel = autest['Label']"
   ]
  },
  {
   "cell_type": "code",
   "execution_count": 59,
   "metadata": {},
   "outputs": [
    {
     "name": "stdout",
     "output_type": "stream",
     "text": [
      "Author's Testing Set:\n",
      " Label\n",
      "0    29673\n",
      "1    14973\n",
      "Name: count, dtype: int64\n"
     ]
    }
   ],
   "source": [
    "print(\"Author's Testing Set:\\n\", autest.Label.value_counts())"
   ]
  },
  {
   "cell_type": "markdown",
   "metadata": {},
   "source": [
    "# Input Transformation"
   ]
  },
  {
   "cell_type": "markdown",
   "metadata": {},
   "source": [
    "## Training"
   ]
  },
  {
   "cell_type": "code",
   "execution_count": 33,
   "metadata": {},
   "outputs": [],
   "source": [
    "nodes = set()\n",
    "trainUnique = train\n",
    "for i in range(len(train)):\n",
    "    src = str(train['srcip'].iloc[i])+':'+str(train['sport'].iloc[i])\n",
    "    dst = str(train['dstip'].iloc[i])+':'+str(train['dsport'].iloc[i])\n",
    "    nodes.add(src)\n",
    "    nodes.add(dst)\n",
    "\n",
    "\n",
    "#Find unique (srcip,sport,dstip,dsport) tuples in train\n",
    "train_tuples = set()\n",
    "for i in range(len(train)):\n",
    "    train_tuples.add((train['srcip'].iloc[i], train['sport'].iloc[i], train['dstip'].iloc[i], train['dsport'].iloc[i]))"
   ]
  },
  {
   "cell_type": "code",
   "execution_count": 34,
   "metadata": {},
   "outputs": [
    {
     "name": "stdout",
     "output_type": "stream",
     "text": [
      "torch.Size([94760, 1]) torch.Size([2, 79811]) torch.Size([79811, 25])\n"
     ]
    }
   ],
   "source": [
    "xLookUp = {}\n",
    "x = []\n",
    "count = 0\n",
    "edge_index = []\n",
    "edge_attr = []\n",
    "for i in range(len(train)):\n",
    "    src = str(train['srcip'].iloc[i])+':'+str(train['sport'].iloc[i])\n",
    "    dst = str(train['dstip'].iloc[i])+':'+str(train['dsport'].iloc[i])\n",
    "    if src not in xLookUp:\n",
    "        xLookUp[src] = count\n",
    "        x.append([int(train['sport'].iloc[i])])\n",
    "        count += 1\n",
    "    if dst not in xLookUp:\n",
    "        xLookUp[dst] = count\n",
    "        x.append([int(train['dsport'].iloc[i])])\n",
    "        count += 1\n",
    "    edge_index.append([xLookUp[src], xLookUp[dst]])\n",
    "    edge_attr.append(list(train.iloc[i].drop(['srcip', 'sport', 'dstip', 'dsport','Label']).values))\n",
    "\n",
    "\n",
    "# Convert x to tensor\n",
    "x_tensor = torch.tensor(x, dtype=torch.float)\n",
    "\n",
    "# Convert edge_index to tensor\n",
    "edge_index_tensor = torch.tensor(edge_index, dtype=torch.long).t()  # Transpose for correct format\n",
    "\n",
    "# Convert edge_attr to tensor\n",
    "edge_attr_tensor = torch.tensor(edge_attr, dtype=torch.float)\n",
    "\n",
    "print(x_tensor.shape, edge_index_tensor.shape, edge_attr_tensor.shape)"
   ]
  },
  {
   "cell_type": "markdown",
   "metadata": {},
   "source": [
    "## Testing"
   ]
  },
  {
   "cell_type": "code",
   "execution_count": 8,
   "metadata": {},
   "outputs": [],
   "source": [
    "testnodes = set()\n",
    "testUnique = test\n",
    "for i in range(len(test)):\n",
    "    src = str(test['srcip'].iloc[i])+':'+str(test['sport'].iloc[i])\n",
    "    dst = str(test['dstip'].iloc[i])+':'+str(test['dsport'].iloc[i])\n",
    "    testnodes.add(src)\n",
    "    testnodes.add(dst)\n",
    "\n",
    "\n",
    "#Find unique (srcip,sport,dstip,dsport) tuples in train\n",
    "test_tuples = set()\n",
    "for i in range(len(test)):\n",
    "    test_tuples.add((test['srcip'].iloc[i], test['sport'].iloc[i], test['dstip'].iloc[i], test['dsport'].iloc[i]))"
   ]
  },
  {
   "cell_type": "code",
   "execution_count": 9,
   "metadata": {},
   "outputs": [
    {
     "name": "stdout",
     "output_type": "stream",
     "text": [
      "torch.Size([42412, 1]) torch.Size([2, 34418]) torch.Size([34418, 25])\n"
     ]
    }
   ],
   "source": [
    "xtestLookUp = {}\n",
    "xtest = []\n",
    "count = 0\n",
    "edge_index_test = []\n",
    "edge_attr_test = []\n",
    "for i in range(len(test)):\n",
    "    src = str(test['srcip'].iloc[i])+':'+str(test['sport'].iloc[i])\n",
    "    dst = str(test['dstip'].iloc[i])+':'+str(test['dsport'].iloc[i])\n",
    "    if src not in xtestLookUp:\n",
    "        xtestLookUp[src] = count\n",
    "        xtest.append([int(test['sport'].iloc[i])])\n",
    "        count += 1\n",
    "    if dst not in xtestLookUp:\n",
    "        xtestLookUp[dst] = count\n",
    "        xtest.append([int(test['dsport'].iloc[i])])\n",
    "        count += 1\n",
    "    edge_index_test.append([xtestLookUp[src], xtestLookUp[dst]])\n",
    "    edge_attr_test.append(list(test.iloc[i].drop(['srcip', 'sport', 'dstip', 'dsport','Label']).values))\n",
    "\n",
    "\n",
    "# Convert x to tensor\n",
    "x_test_tensor = torch.tensor(xtest, dtype=torch.float)\n",
    "\n",
    "# Convert edge_index to tensor\n",
    "edge_index_test_tensor = torch.tensor(edge_index_test, dtype=torch.long).t()  # Transpose for correct format\n",
    "\n",
    "# Convert edge_attr to tensor\n",
    "edge_attr_test_tensor = torch.tensor(edge_attr_test, dtype=torch.float)\n",
    "\n",
    "print(x_test_tensor.shape, edge_index_test_tensor.shape, edge_attr_test_tensor.shape)"
   ]
  },
  {
   "cell_type": "markdown",
   "metadata": {},
   "source": [
    "## Author's Testing Dataset"
   ]
  },
  {
   "cell_type": "markdown",
   "metadata": {},
   "source": [
    "Since srcip, sport, dstip, dsport information is not available, we proceed with having each node feature value as 0, and assume each edge as an unique connection between two imaginary nodes"
   ]
  },
  {
   "cell_type": "code",
   "execution_count": 32,
   "metadata": {},
   "outputs": [
    {
     "name": "stdout",
     "output_type": "stream",
     "text": [
      "torch.Size([44521, 1]) torch.Size([2, 44520]) torch.Size([44520, 25])\n"
     ]
    }
   ],
   "source": [
    "n_autestnodes = int(len(autest) ** 0.5)\n",
    "n_autest_tuples = n_autestnodes ** 2\n",
    "\n",
    "xautest = [[0] for j in range(n_autest_tuples)]\n",
    "edge_index_autest = []\n",
    "edge_attr_autest = []\n",
    "auEdgeLabel = []\n",
    "count = 0\n",
    "for i in range(n_autestnodes):\n",
    "    for j in range(n_autestnodes):\n",
    "        if(i == count):\n",
    "            count += 1\n",
    "            continue\n",
    "        edge_index_autest.append([i, count])\n",
    "        edge_attr_autest.append(list(autest.iloc[count].drop(['Label']).values))\n",
    "        count += 1\n",
    "        auEdgeLabel.append(autest.iloc[count].Label)\n",
    "        \n",
    "\n",
    "# Convert x to tensor\n",
    "x_autest_tensor = torch.tensor(xautest, dtype=torch.float)\n",
    "\n",
    "# Convert edge_index to tensor\n",
    "edge_index_autest_tensor = torch.tensor(edge_index_autest, dtype=torch.long).t()  # Transpose for correct format\n",
    "\n",
    "# Convert edge_attr to tensor\n",
    "edge_attr_autest_tensor = torch.tensor(edge_attr_autest, dtype=torch.float)\n",
    "\n",
    "print(x_autest_tensor.shape, edge_index_autest_tensor.shape, edge_attr_autest_tensor.shape)"
   ]
  },
  {
   "cell_type": "markdown",
   "metadata": {},
   "source": [
    "# GAT Model"
   ]
  },
  {
   "cell_type": "code",
   "execution_count": 35,
   "metadata": {},
   "outputs": [],
   "source": [
    "import torch\n",
    "import torch.nn as nn\n",
    "import torch.nn.functional as F\n",
    "from torch_geometric.nn import GATConv\n",
    "\n",
    "class GATClassifier(torch.nn.Module):\n",
    "    def __init__(self, num_node_features, num_edge_features, hidden_channels, num_heads):\n",
    "        super(GATClassifier, self).__init__()\n",
    "        self.conv1 = GATConv(num_node_features, hidden_channels, heads=num_heads, add_self_loops=False)\n",
    "        self.conv2 = GATConv(hidden_channels * num_heads, hidden_channels, heads=num_heads, add_self_loops=False)\n",
    "        # self.edge_classifier = nn.Linear(hidden_channels * num_heads + num_edge_features, 1)  # Output size changed to 1\n",
    "        self.edge_classifier = nn.Linear(hidden_channels * 2 * num_heads + num_edge_features, 1)  # Output size changed to 1\n",
    "\n",
    "    def forward(self, x, edge_index, edge_attr):\n",
    "        # Apply graph attentional layers\n",
    "        x = self.conv1(x, edge_index)\n",
    "        x = F.relu(x)\n",
    "        x = self.conv2(x, edge_index)\n",
    "        x = F.relu(x)\n",
    "\n",
    "        # Concatenate node features with edge features\n",
    "        num_edges = edge_index.size(1)\n",
    "        node_x = x[edge_index[0]]\n",
    "        node_x_other = x[edge_index[1]]\n",
    "        edge_attr_padded = torch.cat([edge_attr, torch.zeros(num_edges - edge_attr.size(0), edge_attr.size(1))], dim=0)\n",
    "        edge_x = torch.cat([node_x, node_x_other, edge_attr_padded], dim=1)\n",
    "        print(\"edge_x.shape:\", edge_x.shape)\n",
    "        print(\"self.edge_classifier.weight.shape:\",self.edge_classifier.weight.shape)\n",
    "        # Classify edges into binary class using BCELogit\n",
    "        edge_scores = self.edge_classifier(edge_x)\n",
    "        return edge_scores\n"
   ]
  },
  {
   "cell_type": "markdown",
   "metadata": {},
   "source": [
    "Training"
   ]
  },
  {
   "cell_type": "code",
   "execution_count": 36,
   "metadata": {},
   "outputs": [
    {
     "name": "stdout",
     "output_type": "stream",
     "text": [
      "edge_x.shape: torch.Size([79811, 537])\n",
      "self.edge_classifier.weight.shape: torch.Size([1, 537])\n"
     ]
    }
   ],
   "source": [
    "# Example usage\n",
    "num_nodes = len(nodes)\n",
    "num_edges = len(train_tuples)\n",
    "num_node_features = 1\n",
    "num_edge_features = 25\n",
    "hidden_channels = 32\n",
    "num_heads = 8\n",
    "\n",
    "# Instantiate GAT classifier\n",
    "model = GATClassifier(num_node_features, num_edge_features, hidden_channels, num_heads)\n",
    "\n",
    "# Forward pass\n",
    "edge_scores_train = model(x_tensor, edge_index_tensor, edge_attr_tensor)"
   ]
  },
  {
   "cell_type": "markdown",
   "metadata": {},
   "source": [
    "Testing"
   ]
  },
  {
   "cell_type": "code",
   "execution_count": 21,
   "metadata": {},
   "outputs": [
    {
     "name": "stdout",
     "output_type": "stream",
     "text": [
      "edge_x.shape: torch.Size([34418, 537])\n",
      "self.edge_classifier.weight.shape: torch.Size([1, 537])\n"
     ]
    }
   ],
   "source": [
    "# Example usage\n",
    "num_nodes_test = len(testnodes)\n",
    "num_edges_test = len(test_tuples)\n",
    "num_node_features = 1\n",
    "num_edge_features = 25\n",
    "hidden_channels = 32\n",
    "num_heads = 8\n",
    "\n",
    "# Forward pass\n",
    "edge_scores_test = model(x_test_tensor, edge_index_test_tensor, edge_attr_test_tensor)"
   ]
  },
  {
   "cell_type": "markdown",
   "metadata": {},
   "source": [
    "Author's testing dataset"
   ]
  },
  {
   "cell_type": "code",
   "execution_count": 37,
   "metadata": {},
   "outputs": [
    {
     "name": "stdout",
     "output_type": "stream",
     "text": [
      "edge_x.shape: torch.Size([44520, 537])\n",
      "self.edge_classifier.weight.shape: torch.Size([1, 537])\n"
     ]
    }
   ],
   "source": [
    "# Example usage\n",
    "num_nodes_test = n_autestnodes\n",
    "num_edges_test = n_autest_tuples\n",
    "num_node_features = 1\n",
    "num_edge_features = 25\n",
    "hidden_channels = 32\n",
    "num_heads = 8\n",
    "\n",
    "# Forward pass\n",
    "edge_scores_autest = model(x_autest_tensor, edge_index_autest_tensor, edge_attr_autest_tensor)"
   ]
  },
  {
   "cell_type": "markdown",
   "metadata": {},
   "source": [
    "# KNN"
   ]
  },
  {
   "cell_type": "code",
   "execution_count": 22,
   "metadata": {},
   "outputs": [],
   "source": [
    "import pandas as pd\n",
    "# Convert edge_scores tensor to a NumPy array\n",
    "edge_scores_train_array = edge_scores_train.detach().numpy()\n",
    "edge_scores_test_array = edge_scores_test.detach().numpy()\n",
    "# Create a DataFrame from the NumPy array\n",
    "edge_scores_train_df = pd.DataFrame(edge_scores_train_array, columns=['Edge_Scores'])\n",
    "edge_scores_test_df = pd.DataFrame(edge_scores_test_array, columns=['Edge_Scores'])\n",
    "trainLabel = train['Label']\n",
    "testLabel = test['Label']"
   ]
  },
  {
   "cell_type": "code",
   "execution_count": 24,
   "metadata": {},
   "outputs": [
    {
     "name": "stdout",
     "output_type": "stream",
     "text": [
      "Classification Report: \n",
      "               precision    recall  f1-score   support\n",
      "\n",
      "           0       0.93      0.96      0.95     17201\n",
      "           1       0.96      0.93      0.95     17217\n",
      "\n",
      "    accuracy                           0.95     34418\n",
      "   macro avg       0.95      0.95      0.95     34418\n",
      "weighted avg       0.95      0.95      0.95     34418\n",
      "\n"
     ]
    }
   ],
   "source": [
    "from sklearn.neighbors import KNeighborsClassifier\n",
    "from sklearn.model_selection import train_test_split\n",
    "from sklearn.metrics import accuracy_score\n",
    "from sklearn.metrics import classification_report\n",
    "\n",
    "X_train = edge_scores_train_df\n",
    "X_test = edge_scores_test_df\n",
    "y_train = trainLabel\n",
    "y_test = testLabel\n",
    "\n",
    "# Initialize the KNN classifier\n",
    "k = 15  # Number of neighbors\n",
    "knn_classifier = KNeighborsClassifier(n_neighbors=k)\n",
    "\n",
    "# Train the classifier\n",
    "knn_classifier.fit(X_train, y_train)\n",
    "\n",
    "# Predictions on the test set\n",
    "y_pred = knn_classifier.predict(X_test)\n",
    "\n",
    "# Calculate accuracy\n",
    "report = classification_report(y_test, y_pred)\n",
    "print(\"Classification Report: \\n\", report)"
   ]
  },
  {
   "cell_type": "markdown",
   "metadata": {},
   "source": [
    "Author's test dataset"
   ]
  },
  {
   "cell_type": "code",
   "execution_count": 38,
   "metadata": {},
   "outputs": [
    {
     "name": "stdout",
     "output_type": "stream",
     "text": [
      "Classification Report: \n",
      "               precision    recall  f1-score   support\n",
      "\n",
      "         0.0       0.66      0.56      0.61     29547\n",
      "         1.0       0.33      0.42      0.37     14973\n",
      "\n",
      "    accuracy                           0.51     44520\n",
      "   macro avg       0.49      0.49      0.49     44520\n",
      "weighted avg       0.55      0.51      0.53     44520\n",
      "\n"
     ]
    }
   ],
   "source": [
    "import pandas as pd\n",
    "# Convert edge_scores tensor to a NumPy array\n",
    "edge_scores_autest_array = edge_scores_autest.detach().numpy()\n",
    "# Create a DataFrame from the NumPy array\n",
    "testLabeldf = pd.DataFrame(auEdgeLabel, columns=['Label'])\n",
    "edge_scores_autest_df = pd.DataFrame(edge_scores_autest_array, columns=['Edge_Scores'])\n",
    "trainLabel = train['Label']\n",
    "autestLabel = testLabeldf['Label']\n",
    "auX_test = edge_scores_autest_df\n",
    "auy_test = autestLabel \n",
    "\n",
    "auy_pred = knn_classifier.predict(edge_scores_autest_df)\n",
    "\n",
    "# Calculate accuracy\n",
    "report = classification_report(autestLabel, auy_pred)\n",
    "print(\"Classification Report: \\n\", report)"
   ]
  },
  {
   "cell_type": "markdown",
   "metadata": {},
   "source": [
    "# Lazy Predict Scores"
   ]
  },
  {
   "cell_type": "code",
   "execution_count": 39,
   "metadata": {},
   "outputs": [
    {
     "name": "stdout",
     "output_type": "stream",
     "text": [
      "'tuple' object has no attribute '__name__'\n",
      "Invalid Classifier(s)\n"
     ]
    },
    {
     "name": "stderr",
     "output_type": "stream",
     "text": [
      "  7%|▋         | 1/15 [00:02<00:30,  2.16s/it]"
     ]
    },
    {
     "name": "stdout",
     "output_type": "stream",
     "text": [
      "{'Model': 'AdaBoostClassifier', 'Accuracy': 0.9453483642280203, 'Balanced Accuracy': 0.9453537685986607, 'ROC AUC': 0.9453537685986607, 'F1 Score': 0.945341240762079, 'Time taken': 2.161346435546875}\n"
     ]
    },
    {
     "name": "stderr",
     "output_type": "stream",
     "text": [
      " 13%|█▎        | 2/15 [00:04<00:26,  2.06s/it]"
     ]
    },
    {
     "name": "stdout",
     "output_type": "stream",
     "text": [
      "{'Model': 'BaggingClassifier', 'Accuracy': 0.9275669707711082, 'Balanced Accuracy': 0.9275716149246278, 'ROC AUC': 0.9275716149246278, 'F1 Score': 0.9275600298027334, 'Time taken': 1.9940049648284912}\n",
      "{'Model': 'BernoulliNB', 'Accuracy': 0.4973269800685688, 'Balanced Accuracy': 0.497096163727269, 'ROC AUC': 0.497096163727269, 'F1 Score': 0.33280947513195097, 'Time taken': 0.04751086235046387}\n"
     ]
    },
    {
     "name": "stderr",
     "output_type": "stream",
     "text": [
      " 27%|██▋       | 4/15 [00:04<00:09,  1.16it/s]"
     ]
    },
    {
     "name": "stdout",
     "output_type": "stream",
     "text": [
      "{'Model': 'DecisionTreeClassifier', 'Accuracy': 0.9259399151606718, 'Balanced Accuracy': 0.9259454774172475, 'ROC AUC': 0.9259454774172474, 'F1 Score': 0.9259296630971318, 'Time taken': 0.2580857276916504}\n",
      "{'Model': 'DummyClassifier', 'Accuracy': 0.49976756348422335, 'Balanced Accuracy': 0.5, 'ROC AUC': 0.5, 'F1 Score': 0.3330751025588301, 'Time taken': 0.030592918395996094}\n",
      "{'Model': 'GaussianNB', 'Accuracy': 0.49924458132372596, 'Balanced Accuracy': 0.4990128739555318, 'ROC AUC': 0.4990128739555318, 'F1 Score': 0.33366671317334395, 'Time taken': 0.03098440170288086}\n"
     ]
    },
    {
     "name": "stderr",
     "output_type": "stream",
     "text": [
      " 60%|██████    | 9/15 [00:06<00:02,  2.15it/s]"
     ]
    },
    {
     "name": "stdout",
     "output_type": "stream",
     "text": [
      "{'Model': 'KNeighborsClassifier', 'Accuracy': 0.9435179266662793, 'Balanced Accuracy': 0.9435246678033016, 'ROC AUC': 0.9435246678033016, 'F1 Score': 0.9435063857410692, 'Time taken': 1.6106083393096924}\n",
      "{'Model': 'LinearDiscriminantAnalysis', 'Accuracy': 0.4914289034807368, 'Balanced Accuracy': 0.4912009627890216, 'ROC AUC': 0.4912009627890216, 'F1 Score': 0.3304105758460969, 'Time taken': 0.04400897026062012}\n",
      "{'Model': 'LogisticRegression', 'Accuracy': 0.4898018478703004, 'Balanced Accuracy': 0.4895746902147775, 'ROC AUC': 0.4895746902147775, 'F1 Score': 0.32972473586779366, 'Time taken': 0.06052851676940918}\n",
      "{'Model': 'Perceptron', 'Accuracy': 0.5002324365157766, 'Balanced Accuracy': 0.5, 'ROC AUC': 0.5, 'F1 Score': 0.3335916281395227, 'Time taken': 0.08251643180847168}\n"
     ]
    },
    {
     "name": "stderr",
     "output_type": "stream",
     "text": [
      " 73%|███████▎  | 11/15 [00:06<00:01,  3.04it/s]"
     ]
    },
    {
     "name": "stdout",
     "output_type": "stream",
     "text": [
      "{'Model': 'QuadraticDiscriminantAnalysis', 'Accuracy': 0.49924458132372596, 'Balanced Accuracy': 0.4990128739555318, 'ROC AUC': 0.4990128739555318, 'F1 Score': 0.33366671317334395, 'Time taken': 0.039006948471069336}\n"
     ]
    },
    {
     "name": "stderr",
     "output_type": "stream",
     "text": [
      " 80%|████████  | 12/15 [00:26<00:12,  4.17s/it]"
     ]
    },
    {
     "name": "stdout",
     "output_type": "stream",
     "text": [
      "{'Model': 'RandomForestClassifier', 'Accuracy': 0.9272183159974432, 'Balanced Accuracy': 0.9272221496744331, 'ROC AUC': 0.927222149674433, 'F1 Score': 0.9272136054160849, 'Time taken': 20.186728477478027}\n"
     ]
    },
    {
     "name": "stderr",
     "output_type": "stream",
     "text": [
      " 93%|█████████▎| 14/15 [00:26<00:02,  2.74s/it]"
     ]
    },
    {
     "name": "stdout",
     "output_type": "stream",
     "text": [
      "{'Model': 'XGBClassifier', 'Accuracy': 0.9417746527979546, 'Balanced Accuracy': 0.941783068387355, 'ROC AUC': 0.941783068387355, 'F1 Score': 0.9417559991171154, 'Time taken': 0.3136274814605713}\n",
      "[LightGBM] [Info] Number of positive: 39821, number of negative: 39990\n",
      "[LightGBM] [Info] Auto-choosing row-wise multi-threading, the overhead of testing was 0.000868 seconds.\n",
      "You can set `force_row_wise=true` to remove the overhead.\n",
      "And if memory is not enough, you can set `force_col_wise=true`.\n",
      "[LightGBM] [Info] Total Bins 255\n",
      "[LightGBM] [Info] Number of data points in the train set: 79811, number of used features: 1\n",
      "[LightGBM] [Info] [binary:BoostFromScore]: pavg=0.498941 -> initscore=-0.004235\n",
      "[LightGBM] [Info] Start training from score -0.004235\n"
     ]
    },
    {
     "name": "stderr",
     "output_type": "stream",
     "text": [
      "100%|██████████| 15/15 [00:27<00:00,  1.83s/it]"
     ]
    },
    {
     "name": "stdout",
     "output_type": "stream",
     "text": [
      "{'Model': 'LGBMClassifier', 'Accuracy': 0.9424719623452844, 'Balanced Accuracy': 0.9424852404924772, 'ROC AUC': 0.9424852404924772, 'F1 Score': 0.9424256685890511, 'Time taken': 0.5841882228851318}\n"
     ]
    },
    {
     "name": "stderr",
     "output_type": "stream",
     "text": [
      "\n"
     ]
    }
   ],
   "source": [
    "# List of classifiers to include\n",
    "import sklearn\n",
    "import xgboost\n",
    "import lightgbm\n",
    "import sklearn.discriminant_analysis\n",
    "from lazypredict.Supervised import LazyClassifier\n",
    "\n",
    "#Skip SVM\n",
    "classifiers = [\n",
    " ('AdaBoostClassifier', sklearn.ensemble._weight_boosting.AdaBoostClassifier),\n",
    " ('BaggingClassifier', sklearn.ensemble._bagging.BaggingClassifier),\n",
    " ('BernoulliNB', sklearn.naive_bayes.BernoulliNB),\n",
    " ('DecisionTreeClassifier', sklearn.tree._classes.DecisionTreeClassifier),\n",
    " ('DummyClassifier', sklearn.dummy.DummyClassifier),\n",
    " ('GaussianNB', sklearn.naive_bayes.GaussianNB),\n",
    " ('KNeighborsClassifier',  sklearn.neighbors._classification.KNeighborsClassifier),\n",
    " ('LinearDiscriminantAnalysis',  sklearn.discriminant_analysis.LinearDiscriminantAnalysis),\n",
    " ('LogisticRegression', sklearn.linear_model._logistic.LogisticRegression),\n",
    " ('Perceptron', sklearn.linear_model._perceptron.Perceptron),\n",
    " ('QuadraticDiscriminantAnalysis',  sklearn.discriminant_analysis.QuadraticDiscriminantAnalysis),\n",
    " ('RandomForestClassifier', sklearn.ensemble._forest.RandomForestClassifier),\n",
    " ('StackingClassifier', sklearn.ensemble._stacking.StackingClassifier),\n",
    " ('XGBClassifier', xgboost.sklearn.XGBClassifier),\n",
    " ('LGBMClassifier', lightgbm.sklearn.LGBMClassifier)]\n",
    "clf = LazyClassifier(verbose=1,ignore_warnings=True, custom_metric=None,classifiers=classifiers,predictions=True)\n",
    "\n",
    "models,predictions = clf.fit(X_train, X_test, y_train, y_test)\n"
   ]
  },
  {
   "cell_type": "code",
   "execution_count": 40,
   "metadata": {},
   "outputs": [
    {
     "name": "stdout",
     "output_type": "stream",
     "text": [
      "AdaBoostClassifier\n",
      "              precision    recall  f1-score   support\n",
      "\n",
      "           0       0.94      0.96      0.95     17201\n",
      "           1       0.96      0.93      0.94     17217\n",
      "\n",
      "    accuracy                           0.95     34418\n",
      "   macro avg       0.95      0.95      0.95     34418\n",
      "weighted avg       0.95      0.95      0.95     34418\n",
      "\n",
      "AUC Scores for each class: 0.9453537685986607\n",
      "-----------------------------------------------------------------------------------\n",
      "-----------------------------------------------------------------------------------\n",
      "BaggingClassifier\n",
      "              precision    recall  f1-score   support\n",
      "\n",
      "           0       0.92      0.94      0.93     17201\n",
      "           1       0.94      0.92      0.93     17217\n",
      "\n",
      "    accuracy                           0.93     34418\n",
      "   macro avg       0.93      0.93      0.93     34418\n",
      "weighted avg       0.93      0.93      0.93     34418\n",
      "\n",
      "AUC Scores for each class: 0.9275716149246278\n",
      "-----------------------------------------------------------------------------------\n",
      "-----------------------------------------------------------------------------------\n",
      "BernoulliNB\n",
      "              precision    recall  f1-score   support\n",
      "\n",
      "           0       0.08      0.00      0.00     17201\n",
      "           1       0.50      0.99      0.66     17217\n",
      "\n",
      "    accuracy                           0.50     34418\n",
      "   macro avg       0.29      0.50      0.33     34418\n",
      "weighted avg       0.29      0.50      0.33     34418\n",
      "\n",
      "AUC Scores for each class: 0.497096163727269\n",
      "-----------------------------------------------------------------------------------\n",
      "-----------------------------------------------------------------------------------\n",
      "DecisionTreeClassifier\n",
      "              precision    recall  f1-score   support\n",
      "\n",
      "           0       0.92      0.94      0.93     17201\n",
      "           1       0.94      0.91      0.93     17217\n",
      "\n",
      "    accuracy                           0.93     34418\n",
      "   macro avg       0.93      0.93      0.93     34418\n",
      "weighted avg       0.93      0.93      0.93     34418\n",
      "\n",
      "AUC Scores for each class: 0.9259454774172474\n",
      "-----------------------------------------------------------------------------------\n",
      "-----------------------------------------------------------------------------------\n",
      "DummyClassifier\n",
      "              precision    recall  f1-score   support\n",
      "\n",
      "           0       0.50      1.00      0.67     17201\n",
      "           1       0.00      0.00      0.00     17217\n",
      "\n",
      "    accuracy                           0.50     34418\n",
      "   macro avg       0.25      0.50      0.33     34418\n",
      "weighted avg       0.25      0.50      0.33     34418\n",
      "\n",
      "AUC Scores for each class: 0.5\n",
      "-----------------------------------------------------------------------------------\n",
      "-----------------------------------------------------------------------------------\n",
      "GaussianNB\n",
      "              precision    recall  f1-score   support\n",
      "\n",
      "           0       0.19      0.00      0.00     17201\n",
      "           1       0.50      1.00      0.67     17217\n",
      "\n",
      "    accuracy                           0.50     34418\n",
      "   macro avg       0.34      0.50      0.33     34418\n",
      "weighted avg       0.34      0.50      0.33     34418\n",
      "\n",
      "AUC Scores for each class: 0.4990128739555318\n",
      "-----------------------------------------------------------------------------------\n",
      "-----------------------------------------------------------------------------------\n",
      "KNeighborsClassifier\n",
      "              precision    recall  f1-score   support\n",
      "\n",
      "           0       0.93      0.96      0.94     17201\n",
      "           1       0.96      0.93      0.94     17217\n",
      "\n",
      "    accuracy                           0.94     34418\n",
      "   macro avg       0.94      0.94      0.94     34418\n",
      "weighted avg       0.94      0.94      0.94     34418\n",
      "\n",
      "AUC Scores for each class: 0.9435246678033016\n",
      "-----------------------------------------------------------------------------------\n",
      "-----------------------------------------------------------------------------------\n",
      "LinearDiscriminantAnalysis\n",
      "              precision    recall  f1-score   support\n",
      "\n",
      "           0       0.05      0.00      0.00     17201\n",
      "           1       0.50      0.98      0.66     17217\n",
      "\n",
      "    accuracy                           0.49     34418\n",
      "   macro avg       0.27      0.49      0.33     34418\n",
      "weighted avg       0.27      0.49      0.33     34418\n",
      "\n",
      "AUC Scores for each class: 0.4912009627890216\n",
      "-----------------------------------------------------------------------------------\n",
      "-----------------------------------------------------------------------------------\n",
      "LogisticRegression\n",
      "              precision    recall  f1-score   support\n",
      "\n",
      "           0       0.04      0.00      0.00     17201\n",
      "           1       0.49      0.98      0.66     17217\n",
      "\n",
      "    accuracy                           0.49     34418\n",
      "   macro avg       0.27      0.49      0.33     34418\n",
      "weighted avg       0.27      0.49      0.33     34418\n",
      "\n",
      "AUC Scores for each class: 0.4895746902147775\n",
      "-----------------------------------------------------------------------------------\n",
      "-----------------------------------------------------------------------------------\n",
      "Perceptron\n",
      "              precision    recall  f1-score   support\n",
      "\n",
      "           0       0.00      0.00      0.00     17201\n",
      "           1       0.50      1.00      0.67     17217\n",
      "\n",
      "    accuracy                           0.50     34418\n",
      "   macro avg       0.25      0.50      0.33     34418\n",
      "weighted avg       0.25      0.50      0.33     34418\n",
      "\n",
      "AUC Scores for each class: 0.5\n",
      "-----------------------------------------------------------------------------------\n",
      "-----------------------------------------------------------------------------------\n",
      "QuadraticDiscriminantAnalysis\n",
      "              precision    recall  f1-score   support\n",
      "\n",
      "           0       0.19      0.00      0.00     17201\n",
      "           1       0.50      1.00      0.67     17217\n",
      "\n",
      "    accuracy                           0.50     34418\n",
      "   macro avg       0.34      0.50      0.33     34418\n",
      "weighted avg       0.34      0.50      0.33     34418\n",
      "\n",
      "AUC Scores for each class: 0.4990128739555318\n",
      "-----------------------------------------------------------------------------------\n",
      "-----------------------------------------------------------------------------------\n",
      "RandomForestClassifier\n",
      "              precision    recall  f1-score   support\n",
      "\n",
      "           0       0.92      0.94      0.93     17201\n",
      "           1       0.93      0.92      0.93     17217\n",
      "\n",
      "    accuracy                           0.93     34418\n",
      "   macro avg       0.93      0.93      0.93     34418\n",
      "weighted avg       0.93      0.93      0.93     34418\n",
      "\n",
      "AUC Scores for each class: 0.927222149674433\n",
      "-----------------------------------------------------------------------------------\n",
      "-----------------------------------------------------------------------------------\n",
      "XGBClassifier\n",
      "              precision    recall  f1-score   support\n",
      "\n",
      "           0       0.93      0.96      0.94     17201\n",
      "           1       0.96      0.92      0.94     17217\n",
      "\n",
      "    accuracy                           0.94     34418\n",
      "   macro avg       0.94      0.94      0.94     34418\n",
      "weighted avg       0.94      0.94      0.94     34418\n",
      "\n",
      "AUC Scores for each class: 0.941783068387355\n",
      "-----------------------------------------------------------------------------------\n",
      "-----------------------------------------------------------------------------------\n",
      "LGBMClassifier\n",
      "              precision    recall  f1-score   support\n",
      "\n",
      "           0       0.92      0.97      0.94     17201\n",
      "           1       0.97      0.91      0.94     17217\n",
      "\n",
      "    accuracy                           0.94     34418\n",
      "   macro avg       0.94      0.94      0.94     34418\n",
      "weighted avg       0.94      0.94      0.94     34418\n",
      "\n",
      "AUC Scores for each class: 0.9424852404924772\n",
      "-----------------------------------------------------------------------------------\n",
      "-----------------------------------------------------------------------------------\n"
     ]
    }
   ],
   "source": [
    "from sklearn.metrics import roc_auc_score\n",
    "for model in predictions.columns:\n",
    "    print(model)\n",
    "    print(classification_report(y_test, predictions[model]))\n",
    "    auc_scores = roc_auc_score(y_test, predictions[model], multi_class='ovr')  # Or multi_class='ovo' for one-vs-one\n",
    "    print(\"AUC Scores for each class:\", auc_scores)\n",
    "    print('-----------------------------------------------------------------------------------')\n",
    "    print('-----------------------------------------------------------------------------------')"
   ]
  },
  {
   "cell_type": "markdown",
   "metadata": {},
   "source": [
    "Lazy Predict for author's testing dataset"
   ]
  },
  {
   "cell_type": "code",
   "execution_count": 41,
   "metadata": {},
   "outputs": [
    {
     "name": "stdout",
     "output_type": "stream",
     "text": [
      "'tuple' object has no attribute '__name__'\n",
      "Invalid Classifier(s)\n"
     ]
    },
    {
     "name": "stderr",
     "output_type": "stream",
     "text": [
      "  0%|          | 0/15 [00:00<?, ?it/s]"
     ]
    },
    {
     "name": "stderr",
     "output_type": "stream",
     "text": [
      "  7%|▋         | 1/15 [00:02<00:30,  2.16s/it]"
     ]
    },
    {
     "name": "stdout",
     "output_type": "stream",
     "text": [
      "{'Model': 'AdaBoostClassifier', 'Accuracy': 0.5466307277628032, 'Balanced Accuracy': 0.4898427688674013, 'ROC AUC': 0.4898427688674013, 'F1 Score': 0.54552887099104, 'Time taken': 2.164259195327759}\n"
     ]
    },
    {
     "name": "stderr",
     "output_type": "stream",
     "text": [
      " 13%|█▎        | 2/15 [00:04<00:27,  2.15s/it]"
     ]
    },
    {
     "name": "stdout",
     "output_type": "stream",
     "text": [
      "{'Model': 'BaggingClassifier', 'Accuracy': 0.510826594788859, 'Balanced Accuracy': 0.49139699979270907, 'ROC AUC': 0.491396999792709, 'F1 Score': 0.5229566589820198, 'Time taken': 2.1339809894561768}\n",
      "{'Model': 'BernoulliNB', 'Accuracy': 0.33607367475292005, 'Balanced Accuracy': 0.49951737339483043, 'ROC AUC': 0.49951737339483043, 'F1 Score': 0.169469943383177, 'Time taken': 0.08854031562805176}\n"
     ]
    },
    {
     "name": "stderr",
     "output_type": "stream",
     "text": [
      " 40%|████      | 6/15 [00:04<00:04,  1.88it/s]"
     ]
    },
    {
     "name": "stdout",
     "output_type": "stream",
     "text": [
      "{'Model': 'DecisionTreeClassifier', 'Accuracy': 0.510062893081761, 'Balanced Accuracy': 0.4910851852690446, 'ROC AUC': 0.4910851852690446, 'F1 Score': 0.5222887149499097, 'Time taken': 0.3402717113494873}\n",
      "{'Model': 'DummyClassifier', 'Accuracy': 0.6636792452830189, 'Balanced Accuracy': 0.5, 'ROC AUC': 0.5, 'F1 Score': 0.5295132963499901, 'Time taken': 0.08688974380493164}\n",
      "{'Model': 'GaussianNB', 'Accuracy': 0.33632075471698114, 'Balanced Accuracy': 0.5, 'ROC AUC': 0.5, 'F1 Score': 0.16928817374741092, 'Time taken': 0.06955647468566895}\n"
     ]
    },
    {
     "name": "stderr",
     "output_type": "stream",
     "text": [
      " 53%|█████▎    | 8/15 [00:07<00:04,  1.44it/s]"
     ]
    },
    {
     "name": "stdout",
     "output_type": "stream",
     "text": [
      "{'Model': 'KNeighborsClassifier', 'Accuracy': 0.5121293800539084, 'Balanced Accuracy': 0.49364677314688826, 'ROC AUC': 0.49364677314688826, 'F1 Score': 0.5243376458271551, 'Time taken': 2.01814341545105}\n",
      "{'Model': 'LinearDiscriminantAnalysis', 'Accuracy': 0.3356918238993711, 'Balanced Accuracy': 0.4988014436409608, 'ROC AUC': 0.4988014436409608, 'F1 Score': 0.16967842207919695, 'Time taken': 0.1047062873840332}\n"
     ]
    },
    {
     "name": "stderr",
     "output_type": "stream",
     "text": [
      " 67%|██████▋   | 10/15 [00:07<00:02,  2.37it/s]"
     ]
    },
    {
     "name": "stdout",
     "output_type": "stream",
     "text": [
      "{'Model': 'LogisticRegression', 'Accuracy': 0.3356693620844564, 'Balanced Accuracy': 0.4987515789496669, 'ROC AUC': 0.4987515789496669, 'F1 Score': 0.16970907010146505, 'Time taken': 0.12738728523254395}\n",
      "{'Model': 'Perceptron', 'Accuracy': 0.33632075471698114, 'Balanced Accuracy': 0.5, 'ROC AUC': 0.5, 'F1 Score': 0.16928817374741092, 'Time taken': 0.12456369400024414}\n",
      "{'Model': 'QuadraticDiscriminantAnalysis', 'Accuracy': 0.33632075471698114, 'Balanced Accuracy': 0.5, 'ROC AUC': 0.5, 'F1 Score': 0.16928817374741092, 'Time taken': 0.0775144100189209}\n"
     ]
    },
    {
     "name": "stderr",
     "output_type": "stream",
     "text": [
      " 80%|████████  | 12/15 [00:27<00:13,  4.66s/it]"
     ]
    },
    {
     "name": "stdout",
     "output_type": "stream",
     "text": [
      "{'Model': 'RandomForestClassifier', 'Accuracy': 0.5092542677448337, 'Balanced Accuracy': 0.49321021382672653, 'ROC AUC': 0.4932102138267266, 'F1 Score': 0.5218870757953966, 'Time taken': 19.750532150268555}\n"
     ]
    },
    {
     "name": "stderr",
     "output_type": "stream",
     "text": [
      " 93%|█████████▎| 14/15 [00:27<00:02,  2.93s/it]"
     ]
    },
    {
     "name": "stdout",
     "output_type": "stream",
     "text": [
      "{'Model': 'XGBClassifier', 'Accuracy': 0.5467879604672058, 'Balanced Accuracy': 0.4888411792256624, 'ROC AUC': 0.4888411792256623, 'F1 Score': 0.5451196667408759, 'Time taken': 0.4517934322357178}\n",
      "[LightGBM] [Info] Number of positive: 39821, number of negative: 39990\n",
      "[LightGBM] [Info] Auto-choosing col-wise multi-threading, the overhead of testing was 0.000662 seconds.\n",
      "You can set `force_col_wise=true` to remove the overhead.\n",
      "[LightGBM] [Info] Total Bins 255\n",
      "[LightGBM] [Info] Number of data points in the train set: 79811, number of used features: 1\n",
      "[LightGBM] [Info] [binary:BoostFromScore]: pavg=0.498941 -> initscore=-0.004235\n",
      "[LightGBM] [Info] Start training from score -0.004235\n"
     ]
    },
    {
     "name": "stderr",
     "output_type": "stream",
     "text": [
      "100%|██████████| 15/15 [00:28<00:00,  1.87s/it]"
     ]
    },
    {
     "name": "stdout",
     "output_type": "stream",
     "text": [
      "{'Model': 'LGBMClassifier', 'Accuracy': 0.5612533692722372, 'Balanced Accuracy': 0.48626558841213874, 'ROC AUC': 0.48626558841213874, 'F1 Score': 0.5490392626873836, 'Time taken': 0.5066995620727539}\n"
     ]
    },
    {
     "name": "stderr",
     "output_type": "stream",
     "text": [
      "\n"
     ]
    }
   ],
   "source": [
    "# List of classifiers to include\n",
    "import sklearn\n",
    "import xgboost\n",
    "import lightgbm\n",
    "import sklearn.discriminant_analysis\n",
    "from lazypredict.Supervised import LazyClassifier\n",
    "\n",
    "#Skip SVM\n",
    "classifiers = [\n",
    " ('AdaBoostClassifier', sklearn.ensemble._weight_boosting.AdaBoostClassifier),\n",
    " ('BaggingClassifier', sklearn.ensemble._bagging.BaggingClassifier),\n",
    " ('BernoulliNB', sklearn.naive_bayes.BernoulliNB),\n",
    " ('DecisionTreeClassifier', sklearn.tree._classes.DecisionTreeClassifier),\n",
    " ('DummyClassifier', sklearn.dummy.DummyClassifier),\n",
    " ('GaussianNB', sklearn.naive_bayes.GaussianNB),\n",
    " ('KNeighborsClassifier',  sklearn.neighbors._classification.KNeighborsClassifier),\n",
    " ('LinearDiscriminantAnalysis',  sklearn.discriminant_analysis.LinearDiscriminantAnalysis),\n",
    " ('LogisticRegression', sklearn.linear_model._logistic.LogisticRegression),\n",
    " ('Perceptron', sklearn.linear_model._perceptron.Perceptron),\n",
    " ('QuadraticDiscriminantAnalysis',  sklearn.discriminant_analysis.QuadraticDiscriminantAnalysis),\n",
    " ('RandomForestClassifier', sklearn.ensemble._forest.RandomForestClassifier),\n",
    " ('StackingClassifier', sklearn.ensemble._stacking.StackingClassifier),\n",
    " ('XGBClassifier', xgboost.sklearn.XGBClassifier),\n",
    " ('LGBMClassifier', lightgbm.sklearn.LGBMClassifier)]\n",
    "clf = LazyClassifier(verbose=1,ignore_warnings=True, custom_metric=None,classifiers=classifiers,predictions=True)\n",
    "\n",
    "aumodels,aupredictions = clf.fit(X_train, auX_test, y_train, auy_test)"
   ]
  },
  {
   "cell_type": "code",
   "execution_count": 42,
   "metadata": {},
   "outputs": [
    {
     "name": "stdout",
     "output_type": "stream",
     "text": [
      "AdaBoostClassifier\n",
      "              precision    recall  f1-score   support\n",
      "\n",
      "         0.0       0.66      0.66      0.66     29547\n",
      "         1.0       0.32      0.32      0.32     14973\n",
      "\n",
      "    accuracy                           0.55     44520\n",
      "   macro avg       0.49      0.49      0.49     44520\n",
      "weighted avg       0.54      0.55      0.55     44520\n",
      "\n",
      "AUC Scores for each class: 0.4898427688674013\n",
      "-----------------------------------------------------------------------------------\n",
      "-----------------------------------------------------------------------------------\n",
      "BaggingClassifier\n",
      "              precision    recall  f1-score   support\n",
      "\n",
      "         0.0       0.66      0.55      0.60     29547\n",
      "         1.0       0.33      0.43      0.37     14973\n",
      "\n",
      "    accuracy                           0.51     44520\n",
      "   macro avg       0.49      0.49      0.49     44520\n",
      "weighted avg       0.55      0.51      0.52     44520\n",
      "\n",
      "AUC Scores for each class: 0.491396999792709\n",
      "-----------------------------------------------------------------------------------\n",
      "-----------------------------------------------------------------------------------\n",
      "BernoulliNB\n",
      "              precision    recall  f1-score   support\n",
      "\n",
      "         0.0       0.28      0.00      0.00     29547\n",
      "         1.0       0.34      1.00      0.50     14973\n",
      "\n",
      "    accuracy                           0.34     44520\n",
      "   macro avg       0.31      0.50      0.25     44520\n",
      "weighted avg       0.30      0.34      0.17     44520\n",
      "\n",
      "AUC Scores for each class: 0.49951737339483043\n",
      "-----------------------------------------------------------------------------------\n",
      "-----------------------------------------------------------------------------------\n",
      "DecisionTreeClassifier\n",
      "              precision    recall  f1-score   support\n",
      "\n",
      "         0.0       0.66      0.55      0.60     29547\n",
      "         1.0       0.33      0.43      0.37     14973\n",
      "\n",
      "    accuracy                           0.51     44520\n",
      "   macro avg       0.49      0.49      0.49     44520\n",
      "weighted avg       0.55      0.51      0.52     44520\n",
      "\n",
      "AUC Scores for each class: 0.4910851852690446\n",
      "-----------------------------------------------------------------------------------\n",
      "-----------------------------------------------------------------------------------\n",
      "DummyClassifier\n",
      "              precision    recall  f1-score   support\n",
      "\n",
      "         0.0       0.66      1.00      0.80     29547\n",
      "         1.0       0.00      0.00      0.00     14973\n",
      "\n",
      "    accuracy                           0.66     44520\n",
      "   macro avg       0.33      0.50      0.40     44520\n",
      "weighted avg       0.44      0.66      0.53     44520\n",
      "\n",
      "AUC Scores for each class: 0.5\n",
      "-----------------------------------------------------------------------------------\n",
      "-----------------------------------------------------------------------------------\n",
      "GaussianNB\n",
      "              precision    recall  f1-score   support\n",
      "\n",
      "         0.0       0.00      0.00      0.00     29547\n",
      "         1.0       0.34      1.00      0.50     14973\n",
      "\n",
      "    accuracy                           0.34     44520\n",
      "   macro avg       0.17      0.50      0.25     44520\n",
      "weighted avg       0.11      0.34      0.17     44520\n",
      "\n",
      "AUC Scores for each class: 0.5\n",
      "-----------------------------------------------------------------------------------\n",
      "-----------------------------------------------------------------------------------\n",
      "KNeighborsClassifier\n",
      "              precision    recall  f1-score   support\n",
      "\n",
      "         0.0       0.66      0.55      0.60     29547\n",
      "         1.0       0.33      0.44      0.38     14973\n",
      "\n",
      "    accuracy                           0.51     44520\n",
      "   macro avg       0.49      0.49      0.49     44520\n",
      "weighted avg       0.55      0.51      0.52     44520\n",
      "\n",
      "AUC Scores for each class: 0.49364677314688826\n",
      "-----------------------------------------------------------------------------------\n",
      "-----------------------------------------------------------------------------------\n",
      "LinearDiscriminantAnalysis\n",
      "              precision    recall  f1-score   support\n",
      "\n",
      "         0.0       0.27      0.00      0.00     29547\n",
      "         1.0       0.34      1.00      0.50     14973\n",
      "\n",
      "    accuracy                           0.34     44520\n",
      "   macro avg       0.30      0.50      0.25     44520\n",
      "weighted avg       0.29      0.34      0.17     44520\n",
      "\n",
      "AUC Scores for each class: 0.4988014436409608\n",
      "-----------------------------------------------------------------------------------\n",
      "-----------------------------------------------------------------------------------\n",
      "LogisticRegression\n",
      "              precision    recall  f1-score   support\n",
      "\n",
      "         0.0       0.27      0.00      0.00     29547\n",
      "         1.0       0.34      1.00      0.50     14973\n",
      "\n",
      "    accuracy                           0.34     44520\n",
      "   macro avg       0.30      0.50      0.25     44520\n",
      "weighted avg       0.29      0.34      0.17     44520\n",
      "\n",
      "AUC Scores for each class: 0.4987515789496669\n",
      "-----------------------------------------------------------------------------------\n",
      "-----------------------------------------------------------------------------------\n",
      "Perceptron\n",
      "              precision    recall  f1-score   support\n",
      "\n",
      "         0.0       0.00      0.00      0.00     29547\n",
      "         1.0       0.34      1.00      0.50     14973\n",
      "\n",
      "    accuracy                           0.34     44520\n",
      "   macro avg       0.17      0.50      0.25     44520\n",
      "weighted avg       0.11      0.34      0.17     44520\n",
      "\n",
      "AUC Scores for each class: 0.5\n",
      "-----------------------------------------------------------------------------------\n",
      "-----------------------------------------------------------------------------------\n",
      "QuadraticDiscriminantAnalysis\n",
      "              precision    recall  f1-score   support\n",
      "\n",
      "         0.0       0.00      0.00      0.00     29547\n",
      "         1.0       0.34      1.00      0.50     14973\n",
      "\n",
      "    accuracy                           0.34     44520\n",
      "   macro avg       0.17      0.50      0.25     44520\n",
      "weighted avg       0.11      0.34      0.17     44520\n",
      "\n",
      "AUC Scores for each class: 0.5\n",
      "-----------------------------------------------------------------------------------\n",
      "-----------------------------------------------------------------------------------\n",
      "RandomForestClassifier\n",
      "              precision    recall  f1-score   support\n",
      "\n",
      "         0.0       0.66      0.54      0.59     29547\n",
      "         1.0       0.33      0.44      0.38     14973\n",
      "\n",
      "    accuracy                           0.51     44520\n",
      "   macro avg       0.49      0.49      0.49     44520\n",
      "weighted avg       0.55      0.51      0.52     44520\n",
      "\n",
      "AUC Scores for each class: 0.4932102138267266\n",
      "-----------------------------------------------------------------------------------\n",
      "-----------------------------------------------------------------------------------\n",
      "XGBClassifier\n",
      "              precision    recall  f1-score   support\n",
      "\n",
      "         0.0       0.66      0.67      0.66     29547\n",
      "         1.0       0.32      0.31      0.32     14973\n",
      "\n",
      "    accuracy                           0.55     44520\n",
      "   macro avg       0.49      0.49      0.49     44520\n",
      "weighted avg       0.54      0.55      0.55     44520\n",
      "\n",
      "AUC Scores for each class: 0.4888411792256623\n",
      "-----------------------------------------------------------------------------------\n",
      "-----------------------------------------------------------------------------------\n",
      "LGBMClassifier\n",
      "              precision    recall  f1-score   support\n",
      "\n",
      "         0.0       0.66      0.72      0.68     29547\n",
      "         1.0       0.31      0.26      0.28     14973\n",
      "\n",
      "    accuracy                           0.56     44520\n",
      "   macro avg       0.48      0.49      0.48     44520\n",
      "weighted avg       0.54      0.56      0.55     44520\n",
      "\n",
      "AUC Scores for each class: 0.48626558841213874\n",
      "-----------------------------------------------------------------------------------\n",
      "-----------------------------------------------------------------------------------\n"
     ]
    }
   ],
   "source": [
    "from sklearn.metrics import roc_auc_score\n",
    "for model in aupredictions.columns:\n",
    "    print(model)\n",
    "    print(classification_report(auy_test, aupredictions[model]))\n",
    "    auc_scores = roc_auc_score(auy_test, aupredictions[model], multi_class='ovr')  # Or multi_class='ovo' for one-vs-one\n",
    "    print(\"AUC Scores for each class:\", auc_scores)\n",
    "    print('-----------------------------------------------------------------------------------')\n",
    "    print('-----------------------------------------------------------------------------------')"
   ]
  }
 ],
 "metadata": {
  "kernelspec": {
   "display_name": "base",
   "language": "python",
   "name": "python3"
  },
  "language_info": {
   "codemirror_mode": {
    "name": "ipython",
    "version": 3
   },
   "file_extension": ".py",
   "mimetype": "text/x-python",
   "name": "python",
   "nbconvert_exporter": "python",
   "pygments_lexer": "ipython3",
   "version": "3.11.7"
  }
 },
 "nbformat": 4,
 "nbformat_minor": 2
}
