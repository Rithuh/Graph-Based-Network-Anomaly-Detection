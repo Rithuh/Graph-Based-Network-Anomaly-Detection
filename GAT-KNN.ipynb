{
 "cells": [
  {
   "cell_type": "markdown",
   "metadata": {},
   "source": [
    "# Libraries"
   ]
  },
  {
   "cell_type": "code",
   "execution_count": 1,
   "metadata": {},
   "outputs": [],
   "source": [
    "import pandas as pd\n",
    "import numpy as np\n",
    "import matplotlib.pyplot as plt\n",
    "import seaborn as sns\n",
    "from sklearn.model_selection import train_test_split\n",
    "from sklearn.preprocessing import StandardScaler\n",
    "\n",
    "from sklearn.metrics import accuracy_score\n",
    "from sklearn.metrics import f1_score\n",
    "from sklearn.metrics import confusion_matrix\n",
    "from sklearn.metrics import classification_report\n",
    "from sklearn.metrics import precision_score\n",
    "from sklearn.model_selection import cross_validate\n",
    "from sklearn.model_selection import cross_val_predict\n",
    "\n",
    "from sklearn.neighbors import KNeighborsClassifier\n",
    "from sklearn.linear_model import LogisticRegression\n",
    "from sklearn.ensemble import RandomForestClassifier\n",
    "from sklearn.tree import DecisionTreeClassifier\n",
    "from sklearn.naive_bayes import GaussianNB\n",
    "from sklearn.ensemble import BaggingClassifier\n",
    "from sklearn.svm import SVC\n",
    "from sklearn.ensemble import StackingClassifier\n",
    "\n",
    "import torch\n",
    "import torch.nn as nn\n",
    "import torch.nn.functional as F\n",
    "from torch_geometric.nn import GATConv\n"
   ]
  },
  {
   "cell_type": "markdown",
   "metadata": {},
   "source": [
    "# Dataset Loading"
   ]
  },
  {
   "cell_type": "code",
   "execution_count": 2,
   "metadata": {},
   "outputs": [
    {
     "name": "stderr",
     "output_type": "stream",
     "text": [
      "C:\\Users\\sathi\\AppData\\Local\\Temp\\ipykernel_17236\\3389183221.py:1: DtypeWarning: Columns (46) have mixed types. Specify dtype option on import or set low_memory=False.\n",
      "  train = pd.read_csv(r'D:\\Project Phase II\\Dataset\\finaltrain.csv',encoding='cp1252')\n",
      "C:\\Users\\sathi\\AppData\\Local\\Temp\\ipykernel_17236\\3389183221.py:2: DtypeWarning: Columns (46) have mixed types. Specify dtype option on import or set low_memory=False.\n",
      "  test = pd.read_csv(r'D:\\Project Phase II\\Dataset\\finaltest.csv',encoding='cp1252') #test_set1\n"
     ]
    }
   ],
   "source": [
    "train = pd.read_csv(r'D:\\Project Phase II\\Dataset\\finaltrain.csv',encoding='cp1252')\n",
    "test = pd.read_csv(r'D:\\Project Phase II\\Dataset\\finaltest.csv',encoding='cp1252') #test_set1 \n",
    "autest = pd.read_csv(r'D:\\Project Phase II\\Dataset\\UNSW_NB15_testing-set.csv',encoding='cp1252') #test_set2"
   ]
  },
  {
   "cell_type": "markdown",
   "metadata": {},
   "source": [
    "# Data Preprocessing"
   ]
  },
  {
   "cell_type": "markdown",
   "metadata": {},
   "source": [
    "## Preprocess user-made train-test datasets"
   ]
  },
  {
   "cell_type": "code",
   "execution_count": 3,
   "metadata": {},
   "outputs": [],
   "source": [
    "todrop = ['sloss', 'dloss','stcpb', 'dtcpb', 'trans_depth', 'Stime', 'Ltime','ct_flw_http_mthd', \n",
    "        'is_ftp_login', 'ct_ftp_cmd', 'ct_srv_src', 'ct_srv_dst', 'ct_dst_ltm', 'ct_src_ ltm',\n",
    "        'ct_src_dport_ltm', 'ct_dst_sport_ltm', 'ct_dst_src_ltm', 'attack_cat']\n",
    "        \n",
    "reducedTrain = train.drop(todrop, axis = 1)\n",
    "reducedTest = test.drop(todrop, axis = 1)\n",
    "reducedTrain = reducedTrain.drop_duplicates()\n",
    "reducedTest = reducedTest.drop_duplicates()\n",
    "\n",
    "trainAttributes = reducedTrain.drop(['srcip','sport','dstip','dsport','Label'], axis = 1)\n",
    "trainLabel = reducedTrain['Label']\n",
    "testAttributes = reducedTest.drop(['srcip','sport','dstip','dsport','Label'], axis = 1)\n",
    "testLabel = reducedTest['Label']\n",
    "\n",
    "train = reducedTrain\n",
    "test = reducedTest\n",
    "\n",
    "train = train.drop_duplicates(['srcip','sport', 'dstip', 'dsport'], keep = 'last')\n",
    "test = test.drop_duplicates(['srcip','sport', 'dstip', 'dsport'], keep = 'last')"
   ]
  },
  {
   "cell_type": "code",
   "execution_count": 7,
   "metadata": {},
   "outputs": [
    {
     "name": "stdout",
     "output_type": "stream",
     "text": [
      "Train Set:\n",
      " Label\n",
      "0    39990\n",
      "1    39821\n",
      "Name: count, dtype: int64\n",
      "Test Set:\n",
      " Label\n",
      "1    17217\n",
      "0    17201\n",
      "Name: count, dtype: int64\n"
     ]
    }
   ],
   "source": [
    "print(\"Train Set:\\n\",train.Label.value_counts())\n",
    "print(\"Test Set:\\n\", test.Label.value_counts())"
   ]
  },
  {
   "cell_type": "markdown",
   "metadata": {},
   "source": [
    "## Preprocess Author's testing dataset"
   ]
  },
  {
   "cell_type": "code",
   "execution_count": 4,
   "metadata": {},
   "outputs": [],
   "source": [
    "autestdrop = ['ï»¿id', 'rate', 'sloss', 'dloss','stcpb', 'dtcpb','trans_depth','ct_srv_src','ct_dst_ltm',\n",
    "        'ct_src_dport_ltm', 'ct_dst_sport_ltm', 'ct_dst_src_ltm',\n",
    "        'is_ftp_login', 'ct_ftp_cmd', 'ct_flw_http_mthd', 'ct_src_ltm',\n",
    "        'ct_srv_dst', 'is_sm_ips_ports', 'attack_cat']\n",
    "\n",
    "autest = autest.drop(autestdrop, axis = 1)\n",
    "#Change column names of autest\n",
    "autest.rename(columns={'dinpkt':'Dintpkt','djit':'Djit','dload':'Dload','dpkts':'Dpkts','label':'Label','sinpkt':'Sintpkt','sjit':'Sjit', 'sload':'Sload', 'spkts':'Spkts','dmean':'dmeansz','response_body_len':'res_bdy_len', 'smean':'smeansz'}, inplace=True)\n",
    "autest = autest[(autest['proto']=='tcp') | (autest['proto']=='udp') | (autest['proto']=='ospf')]\n",
    "autest = autest[(autest['service']=='ssh') | (autest['service']=='ftp-data ')  | (autest['service']=='ftp') | (autest['service']=='-') | (autest['service']=='dns') | (autest['service']=='smtp') | (autest['service']=='http') | (autest['service']=='radius') | (autest['service']=='pop3') ]\n",
    "autest = autest[(autest['state'] == 'CON') | (autest['state'] == 'RST') | (autest['state'] == 'FIN') | (autest['state'] == 'ACC') | (autest['state'] == 'REQ') | (autest['state'] == 'INT')]\n",
    "\n",
    "autest['proto'].replace(\"tcp\", 0, inplace = True)\n",
    "autest['proto'].replace(\"udp\", 1, inplace = True)\n",
    "autest['proto'].replace(\"ospf\", 2, inplace = True)\n",
    "\n",
    "autest['service'].replace(\"ssh\", 0, inplace = True)\n",
    "autest['service'].replace(\"ftp-data\", 1, inplace = True)\n",
    "autest['service'].replace(\"ftp\", 2, inplace = True)\n",
    "autest['service'].replace(\"-\", 3, inplace = True)\n",
    "autest['service'].replace(\"dns\", 4, inplace = True)\n",
    "autest['service'].replace(\"smtp\", 5, inplace = True)\n",
    "autest['service'].replace(\"http\", 6, inplace = True)\n",
    "autest['service'].replace(\"radius\", 7, inplace = True)\n",
    "autest['service'].replace(\"pop3\", 8, inplace = True)\n",
    "\n",
    "autest['state'].replace(\"CON\", 0, inplace = True)\n",
    "autest['state'].replace(\"RST\", 1, inplace = True)\n",
    "autest['state'].replace(\"FIN\", 2, inplace = True)\n",
    "autest['state'].replace(\"ACC\", 3, inplace = True)\n",
    "autest['state'].replace(\"REQ\", 4, inplace = True)\n",
    "autest['state'].replace(\"INT\", 5, inplace = True)\n",
    "\n",
    "for column in autest.columns:\n",
    "        if column != 'Label':\n",
    "                col_mean = sum(autest[column]) / len(autest[column])\n",
    "                col_std = (sum((x - col_mean) ** 2 for x in autest[column]) / len(autest[column])) ** 0.5\n",
    "                autest[column] = [(x - col_mean) / col_std for x in autest[column]]\n",
    "\n",
    "\n",
    "autest = autest.drop_duplicates()\n",
    "autestAttributes = autest.drop(['Label'], axis = 1)\n",
    "autestAttributes = autestAttributes[trainAttributes.columns]\n",
    "autestLabel = autest['Label']"
   ]
  },
  {
   "cell_type": "code",
   "execution_count": 59,
   "metadata": {},
   "outputs": [
    {
     "name": "stdout",
     "output_type": "stream",
     "text": [
      "Author's Testing Set:\n",
      " Label\n",
      "0    29673\n",
      "1    14973\n",
      "Name: count, dtype: int64\n"
     ]
    }
   ],
   "source": [
    "print(\"Author's Testing Set:\\n\", autest.Label.value_counts())"
   ]
  },
  {
   "cell_type": "markdown",
   "metadata": {},
   "source": [
    "# Input Transformation"
   ]
  },
  {
   "cell_type": "markdown",
   "metadata": {},
   "source": [
    "## Training"
   ]
  },
  {
   "cell_type": "code",
   "execution_count": 5,
   "metadata": {},
   "outputs": [],
   "source": [
    "nodes = set()\n",
    "trainUnique = train\n",
    "for i in range(len(train)):\n",
    "    src = str(train['srcip'].iloc[i])+':'+str(train['sport'].iloc[i])\n",
    "    dst = str(train['dstip'].iloc[i])+':'+str(train['dsport'].iloc[i])\n",
    "    nodes.add(src)\n",
    "    nodes.add(dst)\n",
    "\n",
    "\n",
    "#Find unique (srcip,sport,dstip,dsport) tuples in train\n",
    "train_tuples = set()\n",
    "for i in range(len(train)):\n",
    "    train_tuples.add((train['srcip'].iloc[i], train['sport'].iloc[i], train['dstip'].iloc[i], train['dsport'].iloc[i]))"
   ]
  },
  {
   "cell_type": "code",
   "execution_count": 6,
   "metadata": {},
   "outputs": [
    {
     "name": "stdout",
     "output_type": "stream",
     "text": [
      "torch.Size([94760, 1]) torch.Size([2, 79811]) torch.Size([79811, 25])\n"
     ]
    }
   ],
   "source": [
    "xLookUp = {}\n",
    "x = []\n",
    "count = 0\n",
    "edge_index = []\n",
    "edge_attr = []\n",
    "for i in range(len(train)):\n",
    "    src = str(train['srcip'].iloc[i])+':'+str(train['sport'].iloc[i])\n",
    "    dst = str(train['dstip'].iloc[i])+':'+str(train['dsport'].iloc[i])\n",
    "    if src not in xLookUp:\n",
    "        xLookUp[src] = count\n",
    "        x.append([int(train['sport'].iloc[i])])\n",
    "        count += 1\n",
    "    if dst not in xLookUp:\n",
    "        xLookUp[dst] = count\n",
    "        x.append([int(train['dsport'].iloc[i])])\n",
    "        count += 1\n",
    "    edge_index.append([xLookUp[src], xLookUp[dst]])\n",
    "    edge_attr.append(list(train.iloc[i].drop(['srcip', 'sport', 'dstip', 'dsport','Label']).values))\n",
    "\n",
    "\n",
    "# Convert x to tensor\n",
    "x_tensor = torch.tensor(x, dtype=torch.float)\n",
    "\n",
    "# Convert edge_index to tensor\n",
    "edge_index_tensor = torch.tensor(edge_index, dtype=torch.long).t()  # Transpose for correct format\n",
    "\n",
    "# Convert edge_attr to tensor\n",
    "edge_attr_tensor = torch.tensor(edge_attr, dtype=torch.float)\n",
    "\n",
    "print(x_tensor.shape, edge_index_tensor.shape, edge_attr_tensor.shape)"
   ]
  },
  {
   "cell_type": "markdown",
   "metadata": {},
   "source": [
    "## Testing"
   ]
  },
  {
   "cell_type": "code",
   "execution_count": 7,
   "metadata": {},
   "outputs": [],
   "source": [
    "testnodes = set()\n",
    "testUnique = test\n",
    "for i in range(len(test)):\n",
    "    src = str(test['srcip'].iloc[i])+':'+str(test['sport'].iloc[i])\n",
    "    dst = str(test['dstip'].iloc[i])+':'+str(test['dsport'].iloc[i])\n",
    "    testnodes.add(src)\n",
    "    testnodes.add(dst)\n",
    "\n",
    "\n",
    "#Find unique (srcip,sport,dstip,dsport) tuples in train\n",
    "test_tuples = set()\n",
    "for i in range(len(test)):\n",
    "    test_tuples.add((test['srcip'].iloc[i], test['sport'].iloc[i], test['dstip'].iloc[i], test['dsport'].iloc[i]))"
   ]
  },
  {
   "cell_type": "code",
   "execution_count": 8,
   "metadata": {},
   "outputs": [
    {
     "name": "stdout",
     "output_type": "stream",
     "text": [
      "torch.Size([42412, 1]) torch.Size([2, 34418]) torch.Size([34418, 25])\n"
     ]
    }
   ],
   "source": [
    "xtestLookUp = {}\n",
    "xtest = []\n",
    "count = 0\n",
    "edge_index_test = []\n",
    "edge_attr_test = []\n",
    "for i in range(len(test)):\n",
    "    src = str(test['srcip'].iloc[i])+':'+str(test['sport'].iloc[i])\n",
    "    dst = str(test['dstip'].iloc[i])+':'+str(test['dsport'].iloc[i])\n",
    "    if src not in xtestLookUp:\n",
    "        xtestLookUp[src] = count\n",
    "        xtest.append([int(test['sport'].iloc[i])])\n",
    "        count += 1\n",
    "    if dst not in xtestLookUp:\n",
    "        xtestLookUp[dst] = count\n",
    "        xtest.append([int(test['dsport'].iloc[i])])\n",
    "        count += 1\n",
    "    edge_index_test.append([xtestLookUp[src], xtestLookUp[dst]])\n",
    "    edge_attr_test.append(list(test.iloc[i].drop(['srcip', 'sport', 'dstip', 'dsport','Label']).values))\n",
    "\n",
    "\n",
    "# Convert x to tensor\n",
    "x_test_tensor = torch.tensor(xtest, dtype=torch.float)\n",
    "\n",
    "# Convert edge_index to tensor\n",
    "edge_index_test_tensor = torch.tensor(edge_index_test, dtype=torch.long).t()  # Transpose for correct format\n",
    "\n",
    "# Convert edge_attr to tensor\n",
    "edge_attr_test_tensor = torch.tensor(edge_attr_test, dtype=torch.float)\n",
    "\n",
    "print(x_test_tensor.shape, edge_index_test_tensor.shape, edge_attr_test_tensor.shape)"
   ]
  },
  {
   "cell_type": "markdown",
   "metadata": {},
   "source": [
    "## Author's Testing Dataset"
   ]
  },
  {
   "cell_type": "markdown",
   "metadata": {},
   "source": [
    "Since srcip, sport, dstip, dsport information is not available, we proceed with having each node feature value as 0, and assume each edge as an unique connection between two imaginary nodes"
   ]
  },
  {
   "cell_type": "code",
   "execution_count": 9,
   "metadata": {},
   "outputs": [
    {
     "name": "stdout",
     "output_type": "stream",
     "text": [
      "torch.Size([44521, 1]) torch.Size([2, 44520]) torch.Size([44520, 25])\n"
     ]
    }
   ],
   "source": [
    "n_autestnodes = int(len(autest) ** 0.5)\n",
    "n_autest_tuples = n_autestnodes ** 2\n",
    "\n",
    "xautest = [[0] for j in range(n_autest_tuples)]\n",
    "edge_index_autest = []\n",
    "edge_attr_autest = []\n",
    "auEdgeLabel = []\n",
    "count = 0\n",
    "for i in range(n_autestnodes):\n",
    "    for j in range(n_autestnodes):\n",
    "        if(i == count):\n",
    "            count += 1\n",
    "            continue\n",
    "        edge_index_autest.append([i, count])\n",
    "        edge_attr_autest.append(list(autest.iloc[count].drop(['Label']).values))\n",
    "        count += 1\n",
    "        auEdgeLabel.append(autest.iloc[count].Label)\n",
    "        \n",
    "\n",
    "# Convert x to tensor\n",
    "x_autest_tensor = torch.tensor(xautest, dtype=torch.float)\n",
    "\n",
    "# Convert edge_index to tensor\n",
    "edge_index_autest_tensor = torch.tensor(edge_index_autest, dtype=torch.long).t()  # Transpose for correct format\n",
    "\n",
    "# Convert edge_attr to tensor\n",
    "edge_attr_autest_tensor = torch.tensor(edge_attr_autest, dtype=torch.float)\n",
    "\n",
    "print(x_autest_tensor.shape, edge_index_autest_tensor.shape, edge_attr_autest_tensor.shape)"
   ]
  },
  {
   "cell_type": "markdown",
   "metadata": {},
   "source": [
    "# GAT Model"
   ]
  },
  {
   "cell_type": "code",
   "execution_count": 32,
   "metadata": {},
   "outputs": [],
   "source": [
    "import torch\n",
    "import torch.nn as nn\n",
    "import torch.nn.functional as F\n",
    "from torch_geometric.nn import GATConv\n",
    "\n",
    "class GATClassifier(torch.nn.Module):\n",
    "    def __init__(self, num_node_features, num_edge_features, hidden_channels, num_heads):\n",
    "        super(GATClassifier, self).__init__()\n",
    "        self.conv1 = GATConv(num_node_features, hidden_channels, heads=num_heads, add_self_loops=False)\n",
    "        self.conv2 = GATConv(hidden_channels * num_heads, hidden_channels, heads=num_heads, add_self_loops=False)\n",
    "        # self.edge_classifier = nn.Linear(hidden_channels * num_heads + num_edge_features, 1)  # Output size changed to 1\n",
    "        self.edge_classifier = nn.Linear(hidden_channels * 2 * num_heads + num_edge_features, 1)  # Output size changed to 1\n",
    "\n",
    "    def forward(self, x, edge_index, edge_attr):\n",
    "        # Apply graph attentional layers\n",
    "        x = self.conv1(x, edge_index)\n",
    "        x = F.relu(x)\n",
    "        x = self.conv2(x, edge_index)\n",
    "        x = F.relu(x)\n",
    "\n",
    "        # Concatenate node features with edge features\n",
    "        num_edges = edge_index.size(1)\n",
    "        node_x = x[edge_index[0]]\n",
    "        node_x_other = x[edge_index[1]]\n",
    "        edge_attr_padded = torch.cat([edge_attr, torch.zeros(num_edges - edge_attr.size(0), edge_attr.size(1))], dim=0)\n",
    "        edge_x = torch.cat([node_x, node_x_other, edge_attr_padded], dim=1)\n",
    "        print(\"edge_x.shape:\", edge_x.shape)\n",
    "        print(\"self.edge_classifier.weight.shape:\",self.edge_classifier.weight.shape)\n",
    "        # Classify edges into binary class using BCELogit\n",
    "        edge_scores = self.edge_classifier(edge_x)\n",
    "        return edge_scores\n"
   ]
  },
  {
   "cell_type": "markdown",
   "metadata": {},
   "source": [
    "Training"
   ]
  },
  {
   "cell_type": "code",
   "execution_count": 33,
   "metadata": {},
   "outputs": [
    {
     "name": "stdout",
     "output_type": "stream",
     "text": [
      "edge_x.shape: torch.Size([79811, 153])\n",
      "self.edge_classifier.weight.shape: torch.Size([1, 153])\n"
     ]
    }
   ],
   "source": [
    "# Example usage\n",
    "num_nodes = len(nodes)\n",
    "num_edges = len(train_tuples)\n",
    "num_node_features = 1\n",
    "num_edge_features = 25\n",
    "hidden_channels = 16 \n",
    "num_heads = 4\n",
    "\n",
    "# Instantiate GAT classifier\n",
    "model = GATClassifier(num_node_features, num_edge_features, hidden_channels, num_heads)\n",
    "\n",
    "# Forward pass\n",
    "edge_scores_train = model(x_tensor, edge_index_tensor, edge_attr_tensor)"
   ]
  },
  {
   "cell_type": "markdown",
   "metadata": {},
   "source": [
    "Testing"
   ]
  },
  {
   "cell_type": "code",
   "execution_count": 34,
   "metadata": {},
   "outputs": [
    {
     "name": "stdout",
     "output_type": "stream",
     "text": [
      "edge_x.shape: torch.Size([34418, 153])\n",
      "self.edge_classifier.weight.shape: torch.Size([1, 153])\n"
     ]
    }
   ],
   "source": [
    "# Example usage\n",
    "num_nodes_test = len(testnodes)\n",
    "num_edges_test = len(test_tuples)\n",
    "num_node_features = 1\n",
    "num_edge_features = 25\n",
    "hidden_channels = 16\n",
    "num_heads = 4\n",
    "\n",
    "# Forward pass\n",
    "edge_scores_test = model(x_test_tensor, edge_index_test_tensor, edge_attr_test_tensor)"
   ]
  },
  {
   "cell_type": "markdown",
   "metadata": {},
   "source": [
    "Author's testing dataset"
   ]
  },
  {
   "cell_type": "code",
   "execution_count": 35,
   "metadata": {},
   "outputs": [
    {
     "name": "stdout",
     "output_type": "stream",
     "text": [
      "edge_x.shape: torch.Size([44520, 153])\n",
      "self.edge_classifier.weight.shape: torch.Size([1, 153])\n"
     ]
    }
   ],
   "source": [
    "# Example usage\n",
    "num_nodes_test = n_autestnodes\n",
    "num_edges_test = n_autest_tuples\n",
    "num_node_features = 1\n",
    "num_edge_features = 25\n",
    "hidden_channels = 16\n",
    "num_heads = 4\n",
    "\n",
    "# Forward pass\n",
    "edge_scores_autest = model(x_autest_tensor, edge_index_autest_tensor, edge_attr_autest_tensor)"
   ]
  },
  {
   "cell_type": "markdown",
   "metadata": {},
   "source": [
    "# KNN"
   ]
  },
  {
   "cell_type": "code",
   "execution_count": 36,
   "metadata": {},
   "outputs": [],
   "source": [
    "import pandas as pd\n",
    "# Convert edge_scores tensor to a NumPy array\n",
    "edge_scores_train_array = edge_scores_train.detach().numpy()\n",
    "edge_scores_test_array = edge_scores_test.detach().numpy()\n",
    "# Create a DataFrame from the NumPy array\n",
    "edge_scores_train_df = pd.DataFrame(edge_scores_train_array, columns=['Edge_Scores'])\n",
    "edge_scores_test_df = pd.DataFrame(edge_scores_test_array, columns=['Edge_Scores'])\n",
    "trainLabel = train['Label']\n",
    "testLabel = test['Label']"
   ]
  },
  {
   "cell_type": "code",
   "execution_count": 37,
   "metadata": {},
   "outputs": [
    {
     "name": "stdout",
     "output_type": "stream",
     "text": [
      "Classification Report: \n",
      "               precision    recall  f1-score   support\n",
      "\n",
      "           0       0.98      0.96      0.97     17201\n",
      "           1       0.96      0.98      0.97     17217\n",
      "\n",
      "    accuracy                           0.97     34418\n",
      "   macro avg       0.97      0.97      0.97     34418\n",
      "weighted avg       0.97      0.97      0.97     34418\n",
      "\n"
     ]
    }
   ],
   "source": [
    "from sklearn.neighbors import KNeighborsClassifier\n",
    "from sklearn.model_selection import train_test_split\n",
    "from sklearn.metrics import accuracy_score\n",
    "from sklearn.metrics import classification_report\n",
    "\n",
    "X_train = edge_scores_train_df\n",
    "X_test = edge_scores_test_df\n",
    "y_train = trainLabel\n",
    "y_test = testLabel\n",
    "\n",
    "# Initialize the KNN classifier\n",
    "k = 25  # Number of neighbors\n",
    "knn_classifier = KNeighborsClassifier(n_neighbors=k)\n",
    "\n",
    "# Train the classifier\n",
    "knn_classifier.fit(X_train, y_train)\n",
    "\n",
    "# Predictions on the test set\n",
    "y_pred = knn_classifier.predict(X_test)\n",
    "\n",
    "# Calculate accuracy\n",
    "report = classification_report(y_test, y_pred)\n",
    "print(\"Classification Report: \\n\", report)"
   ]
  },
  {
   "cell_type": "markdown",
   "metadata": {},
   "source": [
    "Author's test dataset"
   ]
  },
  {
   "cell_type": "code",
   "execution_count": 38,
   "metadata": {},
   "outputs": [
    {
     "name": "stdout",
     "output_type": "stream",
     "text": [
      "Classification Report: \n",
      "               precision    recall  f1-score   support\n",
      "\n",
      "         0.0       0.62      0.75      0.68     29547\n",
      "         1.0       0.16      0.10      0.12     14973\n",
      "\n",
      "    accuracy                           0.53     44520\n",
      "   macro avg       0.39      0.42      0.40     44520\n",
      "weighted avg       0.47      0.53      0.49     44520\n",
      "\n"
     ]
    }
   ],
   "source": [
    "import pandas as pd\n",
    "# Convert edge_scores tensor to a NumPy array\n",
    "edge_scores_autest_array = edge_scores_autest.detach().numpy()\n",
    "# Create a DataFrame from the NumPy array\n",
    "testLabeldf = pd.DataFrame(auEdgeLabel, columns=['Label'])\n",
    "edge_scores_autest_df = pd.DataFrame(edge_scores_autest_array, columns=['Edge_Scores'])\n",
    "trainLabel = train['Label']\n",
    "autestLabel = testLabeldf['Label']\n",
    "auX_test = edge_scores_autest_df\n",
    "auy_test = autestLabel \n",
    "\n",
    "auy_pred = knn_classifier.predict(edge_scores_autest_df)\n",
    "\n",
    "# Calculate accuracy\n",
    "report = classification_report(autestLabel, auy_pred)\n",
    "print(\"Classification Report: \\n\", report)"
   ]
  },
  {
   "cell_type": "markdown",
   "metadata": {},
   "source": [
    "# Lazy Predict Scores"
   ]
  },
  {
   "cell_type": "code",
   "execution_count": 39,
   "metadata": {},
   "outputs": [
    {
     "name": "stdout",
     "output_type": "stream",
     "text": [
      "'tuple' object has no attribute '__name__'\n",
      "Invalid Classifier(s)\n"
     ]
    },
    {
     "name": "stderr",
     "output_type": "stream",
     "text": [
      "  9%|▉         | 1/11 [00:02<00:27,  2.78s/it]"
     ]
    },
    {
     "name": "stdout",
     "output_type": "stream",
     "text": [
      "{'Model': 'AdaBoostClassifier', 'Accuracy': 0.9687082340635714, 'Balanced Accuracy': 0.9687030542403166, 'ROC AUC': 0.9687030542403167, 'F1 Score': 0.9687041967837421, 'Time taken': 2.7778916358947754}\n"
     ]
    },
    {
     "name": "stderr",
     "output_type": "stream",
     "text": [
      " 18%|█▊        | 2/11 [00:06<00:28,  3.13s/it]"
     ]
    },
    {
     "name": "stdout",
     "output_type": "stream",
     "text": [
      "{'Model': 'BaggingClassifier', 'Accuracy': 0.9520309140565983, 'Balanced Accuracy': 0.9520309442102031, 'ROC AUC': 0.952030944210203, 'F1 Score': 0.9520309156358626, 'Time taken': 3.3793466091156006}\n"
     ]
    },
    {
     "name": "stderr",
     "output_type": "stream",
     "text": [
      " 27%|██▋       | 3/11 [00:06<00:14,  1.84s/it]"
     ]
    },
    {
     "name": "stdout",
     "output_type": "stream",
     "text": [
      "{'Model': 'DecisionTreeClassifier', 'Accuracy': 0.9497646580277762, 'Balanced Accuracy': 0.9497643905445268, 'ROC AUC': 0.9497643905445267, 'F1 Score': 0.9497646298270561, 'Time taken': 0.309009313583374}\n",
      "{'Model': 'ExtraTreeClassifier', 'Accuracy': 0.948951130222558, 'Balanced Accuracy': 0.9489513217908365, 'ROC AUC': 0.9489513217908367, 'F1 Score': 0.9489511308689651, 'Time taken': 0.07299613952636719}\n"
     ]
    },
    {
     "name": "stderr",
     "output_type": "stream",
     "text": [
      " 45%|████▌     | 5/11 [00:11<00:13,  2.25s/it]"
     ]
    },
    {
     "name": "stdout",
     "output_type": "stream",
     "text": [
      "{'Model': 'ExtraTreesClassifier', 'Accuracy': 0.9497646580277762, 'Balanced Accuracy': 0.94976422846429, 'ROC AUC': 0.94976422846429, 'F1 Score': 0.9497645962405834, 'Time taken': 5.066514253616333}\n"
     ]
    },
    {
     "name": "stderr",
     "output_type": "stream",
     "text": [
      " 55%|█████▍    | 6/11 [00:14<00:11,  2.30s/it]"
     ]
    },
    {
     "name": "stdout",
     "output_type": "stream",
     "text": [
      "{'Model': 'KNeighborsClassifier', 'Accuracy': 0.9677494334359928, 'Balanced Accuracy': 0.9677458877145872, 'ROC AUC': 0.9677458877145872, 'F1 Score': 0.967747450354736, 'Time taken': 2.4181015491485596}\n"
     ]
    },
    {
     "name": "stderr",
     "output_type": "stream",
     "text": [
      " 64%|██████▎   | 7/11 [14:15<16:27, 246.80s/it]"
     ]
    },
    {
     "name": "stdout",
     "output_type": "stream",
     "text": [
      "{'Model': 'NuSVC', 'Accuracy': 0.9455517461793248, 'Balanced Accuracy': 0.9455629449623769, 'ROC AUC': 0.9455629449623769, 'F1 Score': 0.9455206749683225, 'Time taken': 841.2030529975891}\n"
     ]
    },
    {
     "name": "stderr",
     "output_type": "stream",
     "text": [
      " 73%|███████▎  | 8/11 [14:49<09:13, 184.34s/it]"
     ]
    },
    {
     "name": "stdout",
     "output_type": "stream",
     "text": [
      "{'Model': 'RandomForestClassifier', 'Accuracy': 0.9501423673659132, 'Balanced Accuracy': 0.950141843337248, 'ROC AUC': 0.950141843337248, 'F1 Score': 0.9501422810007063, 'Time taken': 34.33874011039734}\n"
     ]
    },
    {
     "name": "stderr",
     "output_type": "stream",
     "text": [
      " 82%|████████▏ | 9/11 [25:02<10:22, 311.17s/it]"
     ]
    },
    {
     "name": "stdout",
     "output_type": "stream",
     "text": [
      "{'Model': 'SVC', 'Accuracy': 0.9455808007437968, 'Balanced Accuracy': 0.9455919319996959, 'ROC AUC': 0.9455919319996959, 'F1 Score': 0.945550123003457, 'Time taken': 613.1930994987488}\n"
     ]
    },
    {
     "name": "stderr",
     "output_type": "stream",
     "text": [
      " 91%|█████████ | 10/11 [25:03<03:38, 218.99s/it]"
     ]
    },
    {
     "name": "stdout",
     "output_type": "stream",
     "text": [
      "{'Model': 'XGBClassifier', 'Accuracy': 0.9686501249346272, 'Balanced Accuracy': 0.9686437565104128, 'ROC AUC': 0.9686437565104128, 'F1 Score': 0.968644053359387, 'Time taken': 0.7819991111755371}\n",
      "[LightGBM] [Info] Number of positive: 39821, number of negative: 39990\n",
      "[LightGBM] [Info] Auto-choosing col-wise multi-threading, the overhead of testing was 0.002951 seconds.\n",
      "You can set `force_col_wise=true` to remove the overhead.\n",
      "[LightGBM] [Info] Total Bins 255\n",
      "[LightGBM] [Info] Number of data points in the train set: 79811, number of used features: 1\n",
      "[LightGBM] [Info] [binary:BoostFromScore]: pavg=0.498941 -> initscore=-0.004235\n",
      "[LightGBM] [Info] Start training from score -0.004235\n"
     ]
    },
    {
     "name": "stderr",
     "output_type": "stream",
     "text": [
      "100%|██████████| 11/11 [25:04<00:00, 136.78s/it]"
     ]
    },
    {
     "name": "stdout",
     "output_type": "stream",
     "text": [
      "{'Model': 'LGBMClassifier', 'Accuracy': 0.9687372886280434, 'Balanced Accuracy': 0.9687316901037897, 'ROC AUC': 0.9687316901037897, 'F1 Score': 0.9687325897738376, 'Time taken': 1.0422351360321045}\n"
     ]
    },
    {
     "name": "stderr",
     "output_type": "stream",
     "text": [
      "\n"
     ]
    }
   ],
   "source": [
    "# List of classifiers to include\n",
    "import sklearn\n",
    "import xgboost\n",
    "import lightgbm\n",
    "import sklearn.discriminant_analysis\n",
    "from lazypredict.Supervised import LazyClassifier\n",
    "\n",
    "\n",
    "classifiers = [\n",
    "    ('AdaBoostClassifier', sklearn.ensemble._weight_boosting.AdaBoostClassifier),\n",
    "    ('BaggingClassifier', sklearn.ensemble._bagging.BaggingClassifier),\n",
    "    ('DecisionTreeClassifier', sklearn.tree._classes.DecisionTreeClassifier),\n",
    "    ('ExtraTreeClassifier', sklearn.ensemble._forest.ExtraTreeClassifier),\n",
    "    ('ExtraTreesClassifier', sklearn.ensemble._forest.ExtraTreesClassifier),\n",
    "    ('KNeighborsClassifier',  sklearn.neighbors._classification.KNeighborsClassifier),\n",
    "    ('NuSVC', sklearn.svm._classes.NuSVC),\n",
    "    ('RandomForestClassifier', sklearn.ensemble._forest.RandomForestClassifier),\n",
    "    ('SVC', sklearn.svm._classes.SVC),\n",
    "    ('XGBClassifier', xgboost.sklearn.XGBClassifier),\n",
    "    ('LGBMClassifier', lightgbm.sklearn.LGBMClassifier)]\n",
    "clf = LazyClassifier(verbose=1,ignore_warnings=True, custom_metric=None,classifiers= classifiers, predictions=True)\n",
    "\n",
    "models,predictions = clf.fit(X_train, X_test, y_train, y_test)\n"
   ]
  },
  {
   "cell_type": "code",
   "execution_count": 40,
   "metadata": {},
   "outputs": [
    {
     "name": "stdout",
     "output_type": "stream",
     "text": [
      "AdaBoostClassifier\n",
      "              precision    recall  f1-score   support\n",
      "\n",
      "           0       0.98      0.96      0.97     17201\n",
      "           1       0.96      0.98      0.97     17217\n",
      "\n",
      "    accuracy                           0.97     34418\n",
      "   macro avg       0.97      0.97      0.97     34418\n",
      "weighted avg       0.97      0.97      0.97     34418\n",
      "\n",
      "AUC Scores for each class: 0.9687030542403167\n",
      "-----------------------------------------------------------------------------------\n",
      "-----------------------------------------------------------------------------------\n",
      "BaggingClassifier\n",
      "              precision    recall  f1-score   support\n",
      "\n",
      "           0       0.95      0.95      0.95     17201\n",
      "           1       0.95      0.95      0.95     17217\n",
      "\n",
      "    accuracy                           0.95     34418\n",
      "   macro avg       0.95      0.95      0.95     34418\n",
      "weighted avg       0.95      0.95      0.95     34418\n",
      "\n",
      "AUC Scores for each class: 0.952030944210203\n",
      "-----------------------------------------------------------------------------------\n",
      "-----------------------------------------------------------------------------------\n",
      "DecisionTreeClassifier\n",
      "              precision    recall  f1-score   support\n",
      "\n",
      "           0       0.95      0.95      0.95     17201\n",
      "           1       0.95      0.95      0.95     17217\n",
      "\n",
      "    accuracy                           0.95     34418\n",
      "   macro avg       0.95      0.95      0.95     34418\n",
      "weighted avg       0.95      0.95      0.95     34418\n",
      "\n",
      "AUC Scores for each class: 0.9497643905445267\n",
      "-----------------------------------------------------------------------------------\n",
      "-----------------------------------------------------------------------------------\n",
      "ExtraTreeClassifier\n",
      "              precision    recall  f1-score   support\n",
      "\n",
      "           0       0.95      0.95      0.95     17201\n",
      "           1       0.95      0.95      0.95     17217\n",
      "\n",
      "    accuracy                           0.95     34418\n",
      "   macro avg       0.95      0.95      0.95     34418\n",
      "weighted avg       0.95      0.95      0.95     34418\n",
      "\n",
      "AUC Scores for each class: 0.9489513217908367\n",
      "-----------------------------------------------------------------------------------\n",
      "-----------------------------------------------------------------------------------\n",
      "ExtraTreesClassifier\n",
      "              precision    recall  f1-score   support\n",
      "\n",
      "           0       0.95      0.95      0.95     17201\n",
      "           1       0.95      0.95      0.95     17217\n",
      "\n",
      "    accuracy                           0.95     34418\n",
      "   macro avg       0.95      0.95      0.95     34418\n",
      "weighted avg       0.95      0.95      0.95     34418\n",
      "\n",
      "AUC Scores for each class: 0.94976422846429\n",
      "-----------------------------------------------------------------------------------\n",
      "-----------------------------------------------------------------------------------\n",
      "KNeighborsClassifier\n",
      "              precision    recall  f1-score   support\n",
      "\n",
      "           0       0.97      0.96      0.97     17201\n",
      "           1       0.96      0.98      0.97     17217\n",
      "\n",
      "    accuracy                           0.97     34418\n",
      "   macro avg       0.97      0.97      0.97     34418\n",
      "weighted avg       0.97      0.97      0.97     34418\n",
      "\n",
      "AUC Scores for each class: 0.9677458877145872\n",
      "-----------------------------------------------------------------------------------\n",
      "-----------------------------------------------------------------------------------\n",
      "NuSVC\n",
      "              precision    recall  f1-score   support\n",
      "\n",
      "           0       0.93      0.97      0.95     17201\n",
      "           1       0.97      0.92      0.94     17217\n",
      "\n",
      "    accuracy                           0.95     34418\n",
      "   macro avg       0.95      0.95      0.95     34418\n",
      "weighted avg       0.95      0.95      0.95     34418\n",
      "\n",
      "AUC Scores for each class: 0.9455629449623769\n",
      "-----------------------------------------------------------------------------------\n",
      "-----------------------------------------------------------------------------------\n",
      "RandomForestClassifier\n",
      "              precision    recall  f1-score   support\n",
      "\n",
      "           0       0.95      0.95      0.95     17201\n",
      "           1       0.95      0.95      0.95     17217\n",
      "\n",
      "    accuracy                           0.95     34418\n",
      "   macro avg       0.95      0.95      0.95     34418\n",
      "weighted avg       0.95      0.95      0.95     34418\n",
      "\n",
      "AUC Scores for each class: 0.950141843337248\n",
      "-----------------------------------------------------------------------------------\n",
      "-----------------------------------------------------------------------------------\n",
      "SVC\n",
      "              precision    recall  f1-score   support\n",
      "\n",
      "           0       0.93      0.97      0.95     17201\n",
      "           1       0.97      0.92      0.94     17217\n",
      "\n",
      "    accuracy                           0.95     34418\n",
      "   macro avg       0.95      0.95      0.95     34418\n",
      "weighted avg       0.95      0.95      0.95     34418\n",
      "\n",
      "AUC Scores for each class: 0.9455919319996959\n",
      "-----------------------------------------------------------------------------------\n",
      "-----------------------------------------------------------------------------------\n",
      "XGBClassifier\n",
      "              precision    recall  f1-score   support\n",
      "\n",
      "           0       0.98      0.95      0.97     17201\n",
      "           1       0.96      0.98      0.97     17217\n",
      "\n",
      "    accuracy                           0.97     34418\n",
      "   macro avg       0.97      0.97      0.97     34418\n",
      "weighted avg       0.97      0.97      0.97     34418\n",
      "\n",
      "AUC Scores for each class: 0.9686437565104128\n",
      "-----------------------------------------------------------------------------------\n",
      "-----------------------------------------------------------------------------------\n",
      "LGBMClassifier\n",
      "              precision    recall  f1-score   support\n",
      "\n",
      "           0       0.98      0.96      0.97     17201\n",
      "           1       0.96      0.98      0.97     17217\n",
      "\n",
      "    accuracy                           0.97     34418\n",
      "   macro avg       0.97      0.97      0.97     34418\n",
      "weighted avg       0.97      0.97      0.97     34418\n",
      "\n",
      "AUC Scores for each class: 0.9687316901037897\n",
      "-----------------------------------------------------------------------------------\n",
      "-----------------------------------------------------------------------------------\n"
     ]
    }
   ],
   "source": [
    "from sklearn.metrics import roc_auc_score\n",
    "for m in predictions.columns:\n",
    "    print(m)\n",
    "    print(classification_report(y_test, predictions[m]))\n",
    "    auc_scores = roc_auc_score(y_test, predictions[m], multi_class='ovr')  # Or multi_class='ovo' for one-vs-one\n",
    "    print(\"AUC Scores for each class:\", auc_scores)\n",
    "    print('-----------------------------------------------------------------------------------')\n",
    "    print('-----------------------------------------------------------------------------------')"
   ]
  },
  {
   "cell_type": "markdown",
   "metadata": {},
   "source": [
    "Lazy Predict for author's testing dataset"
   ]
  },
  {
   "cell_type": "code",
   "execution_count": 41,
   "metadata": {},
   "outputs": [
    {
     "name": "stdout",
     "output_type": "stream",
     "text": [
      "'tuple' object has no attribute '__name__'\n",
      "Invalid Classifier(s)\n"
     ]
    },
    {
     "name": "stderr",
     "output_type": "stream",
     "text": [
      "  9%|▉         | 1/11 [00:03<00:37,  3.74s/it]"
     ]
    },
    {
     "name": "stdout",
     "output_type": "stream",
     "text": [
      "{'Model': 'AdaBoostClassifier', 'Accuracy': 0.530256064690027, 'Balanced Accuracy': 0.41985711689237737, 'ROC AUC': 0.4198571168923774, 'F1 Score': 0.4878497165706889, 'Time taken': 3.741649866104126}\n"
     ]
    },
    {
     "name": "stderr",
     "output_type": "stream",
     "text": [
      " 18%|█▊        | 2/11 [00:07<00:34,  3.83s/it]"
     ]
    },
    {
     "name": "stdout",
     "output_type": "stream",
     "text": [
      "{'Model': 'BaggingClassifier', 'Accuracy': 0.546900269541779, 'Balanced Accuracy': 0.4395449833865848, 'ROC AUC': 0.4395449833865848, 'F1 Score': 0.5071680314421203, 'Time taken': 3.894402265548706}\n"
     ]
    },
    {
     "name": "stderr",
     "output_type": "stream",
     "text": [
      " 36%|███▋      | 4/11 [00:08<00:10,  1.45s/it]"
     ]
    },
    {
     "name": "stdout",
     "output_type": "stream",
     "text": [
      "{'Model': 'DecisionTreeClassifier', 'Accuracy': 0.5437780772686434, 'Balanced Accuracy': 0.4386093262114877, 'ROC AUC': 0.43860932621148774, 'F1 Score': 0.506583163789768, 'Time taken': 0.4549987316131592}\n",
      "{'Model': 'ExtraTreeClassifier', 'Accuracy': 0.5449236298292902, 'Balanced Accuracy': 0.43965354173878773, 'ROC AUC': 0.4396535417387878, 'F1 Score': 0.5075652145497853, 'Time taken': 0.14902830123901367}\n"
     ]
    },
    {
     "name": "stderr",
     "output_type": "stream",
     "text": [
      " 45%|████▌     | 5/11 [00:14<00:19,  3.25s/it]"
     ]
    },
    {
     "name": "stdout",
     "output_type": "stream",
     "text": [
      "{'Model': 'ExtraTreesClassifier', 'Accuracy': 0.544047619047619, 'Balanced Accuracy': 0.4387959212628692, 'ROC AUC': 0.4387959212628692, 'F1 Score': 0.5067505394438344, 'Time taken': 6.457484006881714}\n"
     ]
    },
    {
     "name": "stderr",
     "output_type": "stream",
     "text": [
      " 55%|█████▍    | 6/11 [00:17<00:16,  3.21s/it]"
     ]
    },
    {
     "name": "stdout",
     "output_type": "stream",
     "text": [
      "{'Model': 'KNeighborsClassifier', 'Accuracy': 0.538162623539982, 'Balanced Accuracy': 0.42826794460780415, 'ROC AUC': 0.42826794460780415, 'F1 Score': 0.495956560166158, 'Time taken': 3.1351559162139893}\n"
     ]
    },
    {
     "name": "stderr",
     "output_type": "stream",
     "text": [
      " 64%|██████▎   | 7/11 [20:37<26:43, 400.84s/it]"
     ]
    },
    {
     "name": "stdout",
     "output_type": "stream",
     "text": [
      "{'Model': 'NuSVC', 'Accuracy': 0.5793126684636118, 'Balanced Accuracy': 0.45002902879767803, 'ROC AUC': 0.45002902879767803, 'F1 Score': 0.5098746257984569, 'Time taken': 1219.4894568920135}\n"
     ]
    },
    {
     "name": "stderr",
     "output_type": "stream",
     "text": [
      " 73%|███████▎  | 8/11 [21:19<14:19, 286.57s/it]"
     ]
    },
    {
     "name": "stdout",
     "output_type": "stream",
     "text": [
      "{'Model': 'RandomForestClassifier', 'Accuracy': 0.5433962264150943, 'Balanced Accuracy': 0.4384698901994213, 'ROC AUC': 0.4384698901994213, 'F1 Score': 0.5064800284607677, 'Time taken': 41.8859646320343}\n"
     ]
    },
    {
     "name": "stderr",
     "output_type": "stream",
     "text": [
      " 82%|████████▏ | 9/11 [34:03<14:31, 435.85s/it]"
     ]
    },
    {
     "name": "stdout",
     "output_type": "stream",
     "text": [
      "{'Model': 'SVC', 'Accuracy': 0.5778301886792453, 'Balanced Accuracy': 0.4490768766390258, 'ROC AUC': 0.44907687663902585, 'F1 Score': 0.5092230800353242, 'Time taken': 764.0786874294281}\n"
     ]
    },
    {
     "name": "stderr",
     "output_type": "stream",
     "text": [
      " 91%|█████████ | 10/11 [34:04<05:01, 301.58s/it]"
     ]
    },
    {
     "name": "stdout",
     "output_type": "stream",
     "text": [
      "{'Model': 'XGBClassifier', 'Accuracy': 0.5197439353099731, 'Balanced Accuracy': 0.41773541106519574, 'ROC AUC': 0.41773541106519574, 'F1 Score': 0.48713326807359086, 'Time taken': 0.9190926551818848}\n",
      "[LightGBM] [Info] Number of positive: 39821, number of negative: 39990\n",
      "[LightGBM] [Info] Auto-choosing col-wise multi-threading, the overhead of testing was 0.001510 seconds.\n",
      "You can set `force_col_wise=true` to remove the overhead.\n",
      "[LightGBM] [Info] Total Bins 255\n",
      "[LightGBM] [Info] Number of data points in the train set: 79811, number of used features: 1\n",
      "[LightGBM] [Info] [binary:BoostFromScore]: pavg=0.498941 -> initscore=-0.004235\n",
      "[LightGBM] [Info] Start training from score -0.004235\n"
     ]
    },
    {
     "name": "stderr",
     "output_type": "stream",
     "text": [
      "100%|██████████| 11/11 [34:05<00:00, 185.93s/it]"
     ]
    },
    {
     "name": "stdout",
     "output_type": "stream",
     "text": [
      "{'Model': 'LGBMClassifier', 'Accuracy': 0.5310646900269542, 'Balanced Accuracy': 0.42100986703809096, 'ROC AUC': 0.42100986703809096, 'F1 Score': 0.4890194857752686, 'Time taken': 1.0510048866271973}\n"
     ]
    },
    {
     "name": "stderr",
     "output_type": "stream",
     "text": [
      "\n"
     ]
    }
   ],
   "source": [
    "# List of classifiers to include\n",
    "import sklearn\n",
    "import xgboost\n",
    "import lightgbm\n",
    "import sklearn.discriminant_analysis\n",
    "from lazypredict.Supervised import LazyClassifier\n",
    "\n",
    "classifiers = [\n",
    "    ('AdaBoostClassifier', sklearn.ensemble._weight_boosting.AdaBoostClassifier),\n",
    "    ('BaggingClassifier', sklearn.ensemble._bagging.BaggingClassifier),\n",
    "    ('DecisionTreeClassifier', sklearn.tree._classes.DecisionTreeClassifier),\n",
    "    ('ExtraTreeClassifier', sklearn.ensemble._forest.ExtraTreeClassifier),\n",
    "    ('ExtraTreesClassifier', sklearn.ensemble._forest.ExtraTreesClassifier),\n",
    "    ('KNeighborsClassifier',  sklearn.neighbors._classification.KNeighborsClassifier),\n",
    "    ('NuSVC', sklearn.svm._classes.NuSVC),\n",
    "    ('RandomForestClassifier', sklearn.ensemble._forest.RandomForestClassifier),\n",
    "    ('SVC', sklearn.svm._classes.SVC),\n",
    "    ('XGBClassifier', xgboost.sklearn.XGBClassifier),\n",
    "    ('LGBMClassifier', lightgbm.sklearn.LGBMClassifier)]\n",
    "clf = LazyClassifier(verbose=1,ignore_warnings=True, custom_metric=None,classifiers= classifiers, predictions=True)\n",
    "\n",
    "aumodels,aupredictions = clf.fit(X_train, auX_test, y_train, auy_test)"
   ]
  },
  {
   "cell_type": "code",
   "execution_count": 42,
   "metadata": {},
   "outputs": [
    {
     "name": "stdout",
     "output_type": "stream",
     "text": [
      "AdaBoostClassifier\n",
      "              precision    recall  f1-score   support\n",
      "\n",
      "         0.0       0.62      0.76      0.68     29547\n",
      "         1.0       0.15      0.08      0.11     14973\n",
      "\n",
      "    accuracy                           0.53     44520\n",
      "   macro avg       0.38      0.42      0.39     44520\n",
      "weighted avg       0.46      0.53      0.49     44520\n",
      "\n",
      "AUC Scores for each class: 0.4198571168923774\n",
      "-----------------------------------------------------------------------------------\n",
      "-----------------------------------------------------------------------------------\n",
      "BaggingClassifier\n",
      "              precision    recall  f1-score   support\n",
      "\n",
      "         0.0       0.63      0.77      0.69     29547\n",
      "         1.0       0.20      0.11      0.14     14973\n",
      "\n",
      "    accuracy                           0.55     44520\n",
      "   macro avg       0.41      0.44      0.42     44520\n",
      "weighted avg       0.48      0.55      0.51     44520\n",
      "\n",
      "AUC Scores for each class: 0.4395449833865848\n",
      "-----------------------------------------------------------------------------------\n",
      "-----------------------------------------------------------------------------------\n",
      "DecisionTreeClassifier\n",
      "              precision    recall  f1-score   support\n",
      "\n",
      "         0.0       0.63      0.76      0.69     29547\n",
      "         1.0       0.20      0.12      0.15     14973\n",
      "\n",
      "    accuracy                           0.54     44520\n",
      "   macro avg       0.41      0.44      0.42     44520\n",
      "weighted avg       0.48      0.54      0.51     44520\n",
      "\n",
      "AUC Scores for each class: 0.43860932621148774\n",
      "-----------------------------------------------------------------------------------\n",
      "-----------------------------------------------------------------------------------\n",
      "ExtraTreeClassifier\n",
      "              precision    recall  f1-score   support\n",
      "\n",
      "         0.0       0.63      0.76      0.69     29547\n",
      "         1.0       0.20      0.12      0.15     14973\n",
      "\n",
      "    accuracy                           0.54     44520\n",
      "   macro avg       0.42      0.44      0.42     44520\n",
      "weighted avg       0.49      0.54      0.51     44520\n",
      "\n",
      "AUC Scores for each class: 0.4396535417387878\n",
      "-----------------------------------------------------------------------------------\n",
      "-----------------------------------------------------------------------------------\n",
      "ExtraTreesClassifier\n",
      "              precision    recall  f1-score   support\n",
      "\n",
      "         0.0       0.63      0.76      0.69     29547\n",
      "         1.0       0.20      0.12      0.15     14973\n",
      "\n",
      "    accuracy                           0.54     44520\n",
      "   macro avg       0.41      0.44      0.42     44520\n",
      "weighted avg       0.48      0.54      0.51     44520\n",
      "\n",
      "AUC Scores for each class: 0.4387959212628692\n",
      "-----------------------------------------------------------------------------------\n",
      "-----------------------------------------------------------------------------------\n",
      "KNeighborsClassifier\n",
      "              precision    recall  f1-score   support\n",
      "\n",
      "         0.0       0.62      0.76      0.69     29547\n",
      "         1.0       0.17      0.09      0.12     14973\n",
      "\n",
      "    accuracy                           0.54     44520\n",
      "   macro avg       0.40      0.43      0.40     44520\n",
      "weighted avg       0.47      0.54      0.50     44520\n",
      "\n",
      "AUC Scores for each class: 0.42826794460780415\n",
      "-----------------------------------------------------------------------------------\n",
      "-----------------------------------------------------------------------------------\n",
      "NuSVC\n",
      "              precision    recall  f1-score   support\n",
      "\n",
      "         0.0       0.64      0.84      0.73     29547\n",
      "         1.0       0.15      0.06      0.08     14973\n",
      "\n",
      "    accuracy                           0.58     44520\n",
      "   macro avg       0.40      0.45      0.40     44520\n",
      "weighted avg       0.47      0.58      0.51     44520\n",
      "\n",
      "AUC Scores for each class: 0.45002902879767803\n",
      "-----------------------------------------------------------------------------------\n",
      "-----------------------------------------------------------------------------------\n",
      "RandomForestClassifier\n",
      "              precision    recall  f1-score   support\n",
      "\n",
      "         0.0       0.63      0.76      0.69     29547\n",
      "         1.0       0.20      0.12      0.15     14973\n",
      "\n",
      "    accuracy                           0.54     44520\n",
      "   macro avg       0.41      0.44      0.42     44520\n",
      "weighted avg       0.48      0.54      0.51     44520\n",
      "\n",
      "AUC Scores for each class: 0.4384698901994213\n",
      "-----------------------------------------------------------------------------------\n",
      "-----------------------------------------------------------------------------------\n",
      "SVC\n",
      "              precision    recall  f1-score   support\n",
      "\n",
      "         0.0       0.64      0.84      0.73     29547\n",
      "         1.0       0.15      0.06      0.08     14973\n",
      "\n",
      "    accuracy                           0.58     44520\n",
      "   macro avg       0.39      0.45      0.40     44520\n",
      "weighted avg       0.47      0.58      0.51     44520\n",
      "\n",
      "AUC Scores for each class: 0.44907687663902585\n",
      "-----------------------------------------------------------------------------------\n",
      "-----------------------------------------------------------------------------------\n",
      "XGBClassifier\n",
      "              precision    recall  f1-score   support\n",
      "\n",
      "         0.0       0.62      0.73      0.67     29547\n",
      "         1.0       0.17      0.11      0.13     14973\n",
      "\n",
      "    accuracy                           0.52     44520\n",
      "   macro avg       0.39      0.42      0.40     44520\n",
      "weighted avg       0.47      0.52      0.49     44520\n",
      "\n",
      "AUC Scores for each class: 0.41773541106519574\n",
      "-----------------------------------------------------------------------------------\n",
      "-----------------------------------------------------------------------------------\n",
      "LGBMClassifier\n",
      "              precision    recall  f1-score   support\n",
      "\n",
      "         0.0       0.62      0.76      0.68     29547\n",
      "         1.0       0.15      0.08      0.11     14973\n",
      "\n",
      "    accuracy                           0.53     44520\n",
      "   macro avg       0.39      0.42      0.40     44520\n",
      "weighted avg       0.46      0.53      0.49     44520\n",
      "\n",
      "AUC Scores for each class: 0.42100986703809096\n",
      "-----------------------------------------------------------------------------------\n",
      "-----------------------------------------------------------------------------------\n"
     ]
    }
   ],
   "source": [
    "from sklearn.metrics import roc_auc_score\n",
    "for model in aupredictions.columns:\n",
    "    print(model)\n",
    "    print(classification_report(auy_test, aupredictions[model]))\n",
    "    auc_scores = roc_auc_score(auy_test, aupredictions[model], multi_class='ovr')  # Or multi_class='ovo' for one-vs-one\n",
    "    print(\"AUC Scores for each class:\", auc_scores)\n",
    "    print('-----------------------------------------------------------------------------------')\n",
    "    print('-----------------------------------------------------------------------------------')"
   ]
  }
 ],
 "metadata": {
  "kernelspec": {
   "display_name": "base",
   "language": "python",
   "name": "python3"
  },
  "language_info": {
   "codemirror_mode": {
    "name": "ipython",
    "version": 3
   },
   "file_extension": ".py",
   "mimetype": "text/x-python",
   "name": "python",
   "nbconvert_exporter": "python",
   "pygments_lexer": "ipython3",
   "version": "3.11.7"
  }
 },
 "nbformat": 4,
 "nbformat_minor": 2
}
