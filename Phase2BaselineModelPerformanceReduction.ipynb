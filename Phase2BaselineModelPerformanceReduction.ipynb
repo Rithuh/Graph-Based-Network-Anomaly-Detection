{
 "cells": [
  {
   "cell_type": "markdown",
   "metadata": {},
   "source": [
    "## Libraries"
   ]
  },
  {
   "cell_type": "code",
   "execution_count": 38,
   "metadata": {},
   "outputs": [],
   "source": [
    "import pandas as pd\n",
    "import numpy as np\n",
    "import matplotlib.pyplot as plt\n",
    "import seaborn as sns\n",
    "from scipy.stats import norm\n",
    "from imblearn.over_sampling import SMOTE\n",
    "from sklearn.preprocessing import LabelEncoder\n",
    "from sklearn.model_selection import train_test_split\n",
    "from sklearn.preprocessing import StandardScaler\n",
    "\n",
    "from sklearn.metrics import accuracy_score\n",
    "from sklearn.metrics import f1_score\n",
    "from sklearn.metrics import confusion_matrix\n",
    "from sklearn.metrics import classification_report\n",
    "from sklearn.metrics import precision_score\n",
    "from sklearn.model_selection import cross_validate\n",
    "from sklearn.model_selection import cross_val_predict\n",
    "\n",
    "from sklearn.neighbors import KNeighborsClassifier\n",
    "from sklearn.linear_model import LogisticRegression\n",
    "from sklearn.ensemble import RandomForestClassifier\n",
    "from sklearn.tree import DecisionTreeClassifier\n",
    "from sklearn.naive_bayes import GaussianNB\n",
    "from sklearn.ensemble import BaggingClassifier\n",
    "from sklearn.svm import SVC\n",
    "from sklearn.ensemble import StackingClassifier\n",
    "\n",
    "from sklearn.linear_model import Perceptron\n",
    "from sklearn.model_selection import GridSearchCV\n",
    "from sklearn.model_selection import RepeatedStratifiedKFold\n",
    "from sklearn.neural_network import MLPClassifier\n",
    "from sklearn.cluster import KMeans\n",
    "from scipy.cluster.hierarchy import dendrogram, linkage\n",
    "from sklearn.cluster import AgglomerativeClustering\n"
   ]
  },
  {
   "cell_type": "markdown",
   "metadata": {},
   "source": [
    "## Import Train and test datasets"
   ]
  },
  {
   "cell_type": "code",
   "execution_count": 39,
   "metadata": {},
   "outputs": [],
   "source": [
    "train = pd.read_csv(r'D:\\Project Phase II\\Dataset\\UNSW_NB15_training-set.csv',encoding='cp1252')\n",
    "test = pd.read_csv(r'D:\\Project Phase II\\Dataset\\UNSW_NB15_testing-set.csv',encoding='cp1252')"
   ]
  },
  {
   "cell_type": "code",
   "execution_count": 4,
   "metadata": {},
   "outputs": [
    {
     "data": {
      "text/plain": [
       "Index(['ï»¿id', 'dur', 'proto', 'service', 'state', 'spkts', 'dpkts', 'sbytes',\n",
       "       'dbytes', 'rate', 'sttl', 'dttl', 'sload', 'dload', 'sloss', 'dloss',\n",
       "       'sinpkt', 'dinpkt', 'sjit', 'djit', 'swin', 'stcpb', 'dtcpb', 'dwin',\n",
       "       'tcprtt', 'synack', 'ackdat', 'smean', 'dmean', 'trans_depth',\n",
       "       'response_body_len', 'ct_srv_src', 'ct_state_ttl', 'ct_dst_ltm',\n",
       "       'ct_src_dport_ltm', 'ct_dst_sport_ltm', 'ct_dst_src_ltm',\n",
       "       'is_ftp_login', 'ct_ftp_cmd', 'ct_flw_http_mthd', 'ct_src_ltm',\n",
       "       'ct_srv_dst', 'is_sm_ips_ports', 'attack_cat', 'label'],\n",
       "      dtype='object')"
      ]
     },
     "execution_count": 4,
     "metadata": {},
     "output_type": "execute_result"
    }
   ],
   "source": [
    "train.columns"
   ]
  },
  {
   "cell_type": "markdown",
   "metadata": {},
   "source": [
    "## Train-Test Sample Dataset loading"
   ]
  },
  {
   "cell_type": "code",
   "execution_count": 5,
   "metadata": {},
   "outputs": [],
   "source": [
    "featureset = ['srcip', 'sport', 'dstip', 'dsport', 'proto', 'state', 'dur', 'sbytes',\n",
    "       'dbytes', 'sttl', 'dttl', 'sloss', 'dloss', 'service', 'Sload', 'Dload',\n",
    "       'Spkts', 'Dpkts', 'swin', 'dwin', 'stcpb', 'dtcpb', 'smeansz',\n",
    "       'dmeansz', 'trans_depth', 'res_bdy_len', 'Sjit', 'Djit', 'Stime',\n",
    "       'Ltime', 'Sintpkt', 'Dintpkt', 'tcprtt', 'synack', 'ackdat',\n",
    "       'ct_state_ttl', 'ct_flw_http_mthd', 'is_ftp_login', 'ct_ftp_cmd',\n",
    "       'ct_srv_src', 'ct_srv_dst', 'ct_dst_ltm', 'ct_src_ ltm',\n",
    "       'ct_src_dport_ltm', 'ct_dst_sport_ltm', 'ct_dst_src_ltm', 'attack_cat']\n",
    "\n",
    "\n",
    "todrop = ['srcip','dstip','Stime', 'Ltime','attack_cat']"
   ]
  },
  {
   "cell_type": "code",
   "execution_count": 16,
   "metadata": {},
   "outputs": [
    {
     "data": {
      "text/plain": [
       "['ackdat',\n",
       " 'attack_cat',\n",
       " 'ct_dst_ltm',\n",
       " 'ct_dst_sport_ltm',\n",
       " 'ct_dst_src_ltm',\n",
       " 'ct_flw_http_mthd',\n",
       " 'ct_ftp_cmd',\n",
       " 'ct_src_ ltm',\n",
       " 'ct_src_dport_ltm',\n",
       " 'ct_srv_dst',\n",
       " 'ct_srv_src',\n",
       " 'ct_state_ttl',\n",
       " 'dbytes',\n",
       " 'dintpkt',\n",
       " 'djit',\n",
       " 'dload',\n",
       " 'dloss',\n",
       " 'dmeansz',\n",
       " 'dpkts',\n",
       " 'dsport',\n",
       " 'dstip',\n",
       " 'dtcpb',\n",
       " 'dttl',\n",
       " 'dur',\n",
       " 'dwin',\n",
       " 'is_ftp_login',\n",
       " 'ltime',\n",
       " 'proto',\n",
       " 'res_bdy_len',\n",
       " 'sbytes',\n",
       " 'service',\n",
       " 'sintpkt',\n",
       " 'sjit',\n",
       " 'sload',\n",
       " 'sloss',\n",
       " 'smeansz',\n",
       " 'spkts',\n",
       " 'sport',\n",
       " 'srcip',\n",
       " 'state',\n",
       " 'stcpb',\n",
       " 'stime',\n",
       " 'sttl',\n",
       " 'swin',\n",
       " 'synack',\n",
       " 'tcprtt',\n",
       " 'trans_depth']"
      ]
     },
     "execution_count": 16,
     "metadata": {},
     "output_type": "execute_result"
    }
   ],
   "source": [
    "fs.sort()\n",
    "fs"
   ]
  },
  {
   "cell_type": "code",
   "execution_count": 40,
   "metadata": {},
   "outputs": [],
   "source": [
    "todrop = ['ï»¿id','attack_cat']\n",
    "reducedTrain = train.drop(todrop, axis = 1)\n",
    "reducedTest = test.drop(todrop, axis = 1)"
   ]
  },
  {
   "cell_type": "code",
   "execution_count": 41,
   "metadata": {},
   "outputs": [],
   "source": [
    "redtr = reducedTrain.drop_duplicates()"
   ]
  },
  {
   "cell_type": "code",
   "execution_count": 47,
   "metadata": {},
   "outputs": [
    {
     "data": {
      "text/plain": [
       "0    51890\n",
       "1    49379\n",
       "Name: label, dtype: int64"
      ]
     },
     "execution_count": 47,
     "metadata": {},
     "output_type": "execute_result"
    }
   ],
   "source": [
    "redtr['label'].value_counts()"
   ]
  },
  {
   "cell_type": "code",
   "execution_count": 48,
   "metadata": {},
   "outputs": [
    {
     "data": {
      "text/plain": [
       "0    34206\n",
       "1    19746\n",
       "Name: label, dtype: int64"
      ]
     },
     "execution_count": 48,
     "metadata": {},
     "output_type": "execute_result"
    }
   ],
   "source": [
    "redte['label'].value_counts()"
   ]
  },
  {
   "cell_type": "code",
   "execution_count": 42,
   "metadata": {},
   "outputs": [
    {
     "data": {
      "text/plain": [
       "101269"
      ]
     },
     "execution_count": 42,
     "metadata": {},
     "output_type": "execute_result"
    }
   ],
   "source": [
    "len(redtr)"
   ]
  },
  {
   "cell_type": "code",
   "execution_count": 43,
   "metadata": {},
   "outputs": [
    {
     "data": {
      "text/plain": [
       "175341"
      ]
     },
     "execution_count": 43,
     "metadata": {},
     "output_type": "execute_result"
    }
   ],
   "source": [
    "len(reducedTrain)"
   ]
  },
  {
   "cell_type": "code",
   "execution_count": 44,
   "metadata": {},
   "outputs": [],
   "source": [
    "redte = reducedTest.drop_duplicates()"
   ]
  },
  {
   "cell_type": "code",
   "execution_count": 45,
   "metadata": {},
   "outputs": [
    {
     "data": {
      "text/plain": [
       "53952"
      ]
     },
     "execution_count": 45,
     "metadata": {},
     "output_type": "execute_result"
    }
   ],
   "source": [
    "len(redte)"
   ]
  },
  {
   "cell_type": "code",
   "execution_count": 46,
   "metadata": {},
   "outputs": [
    {
     "data": {
      "text/plain": [
       "82332"
      ]
     },
     "execution_count": 46,
     "metadata": {},
     "output_type": "execute_result"
    }
   ],
   "source": [
    "len(reducedTest)"
   ]
  },
  {
   "cell_type": "code",
   "execution_count": 55,
   "metadata": {},
   "outputs": [
    {
     "data": {
      "text/plain": [
       "Index(['dur', 'proto', 'service', 'state', 'spkts', 'dpkts', 'sbytes',\n",
       "       'dbytes', 'rate', 'sttl', 'dttl', 'sload', 'dload', 'sloss', 'dloss',\n",
       "       'sinpkt', 'dinpkt', 'sjit', 'djit', 'swin', 'stcpb', 'dtcpb', 'dwin',\n",
       "       'tcprtt', 'synack', 'ackdat', 'smean', 'dmean', 'trans_depth',\n",
       "       'response_body_len', 'ct_srv_src', 'ct_state_ttl', 'ct_dst_ltm',\n",
       "       'ct_src_dport_ltm', 'ct_dst_sport_ltm', 'ct_dst_src_ltm',\n",
       "       'is_ftp_login', 'ct_ftp_cmd', 'ct_flw_http_mthd', 'ct_src_ltm',\n",
       "       'ct_srv_dst', 'is_sm_ips_ports', 'label'],\n",
       "      dtype='object')"
      ]
     },
     "execution_count": 55,
     "metadata": {},
     "output_type": "execute_result"
    }
   ],
   "source": [
    "redte.columns"
   ]
  },
  {
   "cell_type": "code",
   "execution_count": 67,
   "metadata": {},
   "outputs": [],
   "source": [
    "# Fill any null values in proto\n",
    "redtr['proto'].fillna('Any', inplace=True)\n",
    "redte['proto'].fillna('Any', inplace=True)\n",
    "redtr['service'].fillna('Any', inplace=True)\n",
    "redte['service'].fillna('Any', inplace=True)\n",
    "redtr['state'].fillna('Any', inplace=True)\n",
    "redte['state'].fillna('Any', inplace=True)\n"
   ]
  },
  {
   "cell_type": "code",
   "execution_count": 63,
   "metadata": {},
   "outputs": [],
   "source": [
    "# Create an instance of LabelEncoder\n",
    "label_encoder = LabelEncoder()\n",
    "\n",
    "# Label encode the 'proto' column\n",
    "redte['proto'] = label_encoder.fit_transform(redte['proto'])\n",
    "redte['proto'] = label_encoder.transform(redte['proto'])\n",
    "\n",
    "# Label encode the 'service' column\n",
    "redte['service'] = label_encoder.fit_transform(redte['service'])\n",
    "redte['service'] = label_encoder.transform(redte['service'])\n",
    "\n",
    "# Label encode the 'state' column\n",
    "redte['state'] = label_encoder.fit_transform(redte['state'])\n",
    "redte['state'] = label_encoder.transform(redte['state'])\n",
    "#label encoding proto, service, state\n",
    "\n"
   ]
  },
  {
   "cell_type": "code",
   "execution_count": 68,
   "metadata": {},
   "outputs": [],
   "source": [
    "label_encoder = LabelEncoder()\n",
    "\n",
    "# Label encode the 'proto' column\n",
    "redtr['proto'] = label_encoder.fit_transform(redtr['proto'])\n",
    "redtr['proto'] = label_encoder.transform(redtr['proto'])\n",
    "\n",
    "# Label encode the 'service' column\n",
    "redtr['service'] = label_encoder.fit_transform(redtr['service'])\n",
    "redtr['service'] = label_encoder.transform(redtr['service'])\n",
    "\n",
    "# Label encode the 'state' column\n",
    "redtr['state'] = label_encoder.fit_transform(redtr['state'])\n",
    "redtr['state'] = label_encoder.transform(redtr['state'])"
   ]
  },
  {
   "cell_type": "code",
   "execution_count": 7,
   "metadata": {},
   "outputs": [
    {
     "data": {
      "text/plain": [
       "Index(['sloss', 'dloss', 'service', 'Sload', 'Dload', 'Spkts', 'Dpkts', 'swin',\n",
       "       'dwin', 'stcpb', 'dtcpb', 'smeansz', 'dmeansz', 'trans_depth',\n",
       "       'res_bdy_len', 'Sjit', 'Djit', 'Sintpkt', 'Dintpkt', 'tcprtt', 'synack',\n",
       "       'ackdat', 'ct_flw_http_mthd', 'is_ftp_login', 'ct_ftp_cmd',\n",
       "       'ct_srv_src', 'ct_srv_dst', 'ct_dst_ltm', 'ct_src_ ltm',\n",
       "       'ct_src_dport_ltm', 'ct_dst_sport_ltm', 'ct_dst_src_ltm', 'Label'],\n",
       "      dtype='object')"
      ]
     },
     "execution_count": 7,
     "metadata": {},
     "output_type": "execute_result"
    }
   ],
   "source": [
    "reducedTrain.columns"
   ]
  },
  {
   "cell_type": "code",
   "execution_count": 69,
   "metadata": {},
   "outputs": [],
   "source": [
    "x_train = redtr.drop(['label'], axis = 1)\n",
    "y_train = redtr['label']\n",
    "x_test = redte.drop(['label'], axis = 1)\n",
    "y_test = redte['label']"
   ]
  },
  {
   "cell_type": "markdown",
   "metadata": {},
   "source": [
    "## Baseline model evaluation"
   ]
  },
  {
   "cell_type": "code",
   "execution_count": 70,
   "metadata": {},
   "outputs": [],
   "source": [
    "# List of classifiers to include\n",
    "import sklearn\n",
    "import xgboost\n",
    "import lightgbm\n",
    "import sklearn.discriminant_analysis\n",
    "from lazypredict.Supervised import LazyClassifier\n",
    "\n",
    "#Skip SVM\n",
    "classifiers = [\n",
    " ('AdaBoostClassifier', sklearn.ensemble._weight_boosting.AdaBoostClassifier),\n",
    " ('BaggingClassifier', sklearn.ensemble._bagging.BaggingClassifier),\n",
    " ('BernoulliNB', sklearn.naive_bayes.BernoulliNB),\n",
    " ('DecisionTreeClassifier', sklearn.tree._classes.DecisionTreeClassifier),\n",
    " ('DummyClassifier', sklearn.dummy.DummyClassifier),\n",
    " ('GaussianNB', sklearn.naive_bayes.GaussianNB),\n",
    " ('KNeighborsClassifier',  sklearn.neighbors._classification.KNeighborsClassifier),\n",
    " ('LinearDiscriminantAnalysis',  sklearn.discriminant_analysis.LinearDiscriminantAnalysis),\n",
    " ('LogisticRegression', sklearn.linear_model._logistic.LogisticRegression),\n",
    " ('Perceptron', sklearn.linear_model._perceptron.Perceptron),\n",
    " ('QuadraticDiscriminantAnalysis',  sklearn.discriminant_analysis.QuadraticDiscriminantAnalysis),\n",
    " ('RandomForestClassifier', sklearn.ensemble._forest.RandomForestClassifier),\n",
    " ('StackingClassifier', sklearn.ensemble._stacking.StackingClassifier),\n",
    " ('XGBClassifier', xgboost.sklearn.XGBClassifier),\n",
    " ('LGBMClassifier', lightgbm.sklearn.LGBMClassifier)]\n",
    "clf = LazyClassifier(verbose=1,ignore_warnings=True, custom_metric=None,classifiers=classifiers,predictions=True)\n"
   ]
  },
  {
   "cell_type": "code",
   "execution_count": 71,
   "metadata": {},
   "outputs": [
    {
     "name": "stdout",
     "output_type": "stream",
     "text": [
      "'tuple' object has no attribute '__name__'\n",
      "Invalid Classifier(s)\n"
     ]
    },
    {
     "name": "stderr",
     "output_type": "stream",
     "text": [
      "  7%|▋         | 1/15 [00:23<05:33, 23.83s/it]"
     ]
    },
    {
     "name": "stdout",
     "output_type": "stream",
     "text": [
      "{'Model': 'AdaBoostClassifier', 'Accuracy': 0.7397501482799526, 'Balanced Accuracy': 0.7928207574913914, 'ROC AUC': 0.7928207574913912, 'F1 Score': 0.7407055187046573, 'Time taken': 23.827000856399536}\n"
     ]
    },
    {
     "name": "stderr",
     "output_type": "stream",
     "text": [
      " 13%|█▎        | 2/15 [01:01<06:56, 32.07s/it]"
     ]
    },
    {
     "name": "stdout",
     "output_type": "stream",
     "text": [
      "{'Model': 'BaggingClassifier', 'Accuracy': 0.8311462040332147, 'Balanced Accuracy': 0.853926883346229, 'ROC AUC': 0.853926883346229, 'F1 Score': 0.8342258298489342, 'Time taken': 37.83800792694092}\n"
     ]
    },
    {
     "name": "stderr",
     "output_type": "stream",
     "text": [
      " 20%|██        | 3/15 [01:02<03:33, 17.77s/it]"
     ]
    },
    {
     "name": "stdout",
     "output_type": "stream",
     "text": [
      "{'Model': 'BernoulliNB', 'Accuracy': 0.6454626334519573, 'Balanced Accuracy': 0.6816933057193486, 'ROC AUC': 0.6816933057193486, 'F1 Score': 0.6491861034508466, 'Time taken': 0.7480061054229736}\n"
     ]
    },
    {
     "name": "stderr",
     "output_type": "stream",
     "text": [
      " 27%|██▋       | 4/15 [01:06<02:17, 12.50s/it]"
     ]
    },
    {
     "name": "stdout",
     "output_type": "stream",
     "text": [
      "{'Model': 'DecisionTreeClassifier', 'Accuracy': 0.8115361803084223, 'Balanced Accuracy': 0.8309580701394288, 'ROC AUC': 0.8309580701394288, 'F1 Score': 0.8149479725218911, 'Time taken': 4.416992902755737}\n"
     ]
    },
    {
     "name": "stderr",
     "output_type": "stream",
     "text": [
      " 33%|███▎      | 5/15 [01:07<01:21,  8.17s/it]"
     ]
    },
    {
     "name": "stdout",
     "output_type": "stream",
     "text": [
      "{'Model': 'DummyClassifier', 'Accuracy': 0.6340080071174378, 'Balanced Accuracy': 0.5, 'ROC AUC': 0.5, 'F1 Score': 0.49200022440298263, 'Time taken': 0.5070083141326904}\n"
     ]
    },
    {
     "name": "stderr",
     "output_type": "stream",
     "text": [
      " 40%|████      | 6/15 [01:08<00:50,  5.63s/it]"
     ]
    },
    {
     "name": "stdout",
     "output_type": "stream",
     "text": [
      "{'Model': 'GaussianNB', 'Accuracy': 0.6629782028469751, 'Balanced Accuracy': 0.7080092539219318, 'ROC AUC': 0.7080092539219318, 'F1 Score': 0.6647836017629168, 'Time taken': 0.6869993209838867}\n"
     ]
    },
    {
     "name": "stderr",
     "output_type": "stream",
     "text": [
      " 47%|████▋     | 7/15 [04:23<09:01, 67.68s/it]"
     ]
    },
    {
     "name": "stdout",
     "output_type": "stream",
     "text": [
      "{'Model': 'KNeighborsClassifier', 'Accuracy': 0.7820099347568209, 'Balanced Accuracy': 0.8110552295151761, 'ROC AUC': 0.8110552295151761, 'F1 Score': 0.7858337826925647, 'Time taken': 195.40999698638916}\n"
     ]
    },
    {
     "name": "stderr",
     "output_type": "stream",
     "text": [
      " 53%|█████▎    | 8/15 [04:24<05:25, 46.46s/it]"
     ]
    },
    {
     "name": "stdout",
     "output_type": "stream",
     "text": [
      "{'Model': 'LinearDiscriminantAnalysis', 'Accuracy': 0.6244810201660735, 'Balanced Accuracy': 0.703735378262005, 'ROC AUC': 0.703735378262005, 'F1 Score': 0.6092204135118854, 'Time taken': 1.019000768661499}\n"
     ]
    },
    {
     "name": "stderr",
     "output_type": "stream",
     "text": [
      " 60%|██████    | 9/15 [04:27<03:16, 32.76s/it]"
     ]
    },
    {
     "name": "stdout",
     "output_type": "stream",
     "text": [
      "{'Model': 'LogisticRegression', 'Accuracy': 0.716785290628707, 'Balanced Accuracy': 0.7762513139819045, 'ROC AUC': 0.7762513139819045, 'F1 Score': 0.7156813707288585, 'Time taken': 2.6260006427764893}\n"
     ]
    },
    {
     "name": "stderr",
     "output_type": "stream",
     "text": [
      " 67%|██████▋   | 10/15 [04:27<01:54, 22.86s/it]"
     ]
    },
    {
     "name": "stdout",
     "output_type": "stream",
     "text": [
      "{'Model': 'Perceptron', 'Accuracy': 0.7106687425860023, 'Balanced Accuracy': 0.7695757609093832, 'ROC AUC': 0.7695757609093833, 'F1 Score': 0.7095663395331344, 'Time taken': 0.7050056457519531}\n"
     ]
    },
    {
     "name": "stderr",
     "output_type": "stream",
     "text": [
      " 73%|███████▎  | 11/15 [04:28<01:04, 16.11s/it]"
     ]
    },
    {
     "name": "stdout",
     "output_type": "stream",
     "text": [
      "{'Model': 'QuadraticDiscriminantAnalysis', 'Accuracy': 0.7056642941874258, 'Balanced Accuracy': 0.7663462706774209, 'ROC AUC': 0.7663462706774209, 'F1 Score': 0.7038753765582604, 'Time taken': 0.8059971332550049}\n"
     ]
    },
    {
     "name": "stderr",
     "output_type": "stream",
     "text": [
      " 80%|████████  | 12/15 [04:55<00:58, 19.41s/it]"
     ]
    },
    {
     "name": "stdout",
     "output_type": "stream",
     "text": [
      "{'Model': 'RandomForestClassifier', 'Accuracy': 0.8252520759193357, 'Balanced Accuracy': 0.8565467723192774, 'ROC AUC': 0.8565467723192774, 'F1 Score': 0.8283510901951779, 'Time taken': 26.96200394630432}\n"
     ]
    },
    {
     "name": "stderr",
     "output_type": "stream",
     "text": [
      " 93%|█████████▎| 14/15 [04:58<00:11, 11.04s/it]"
     ]
    },
    {
     "name": "stdout",
     "output_type": "stream",
     "text": [
      "{'Model': 'XGBClassifier', 'Accuracy': 0.7456998813760379, 'Balanced Accuracy': 0.797234605858195, 'ROC AUC': 0.7972346058581947, 'F1 Score': 0.7470419772189233, 'Time taken': 2.826979160308838}\n",
      "[LightGBM] [Info] Number of positive: 49379, number of negative: 51890\n",
      "[LightGBM] [Info] Auto-choosing col-wise multi-threading, the overhead of testing was 0.039100 seconds.\n",
      "You can set `force_col_wise=true` to remove the overhead.\n",
      "[LightGBM] [Info] Total Bins 6164\n",
      "[LightGBM] [Info] Number of data points in the train set: 101269, number of used features: 42\n",
      "[LightGBM] [Info] [binary:BoostFromScore]: pavg=0.487602 -> initscore=-0.049601\n",
      "[LightGBM] [Info] Start training from score -0.049601\n"
     ]
    },
    {
     "name": "stderr",
     "output_type": "stream",
     "text": [
      "100%|██████████| 15/15 [05:01<00:00, 20.11s/it]"
     ]
    },
    {
     "name": "stdout",
     "output_type": "stream",
     "text": [
      "{'Model': 'LGBMClassifier', 'Accuracy': 0.7447175266903915, 'Balanced Accuracy': 0.7973483420105396, 'ROC AUC': 0.7973483420105396, 'F1 Score': 0.7458269192283654, 'Time taken': 3.159001350402832}\n"
     ]
    },
    {
     "name": "stderr",
     "output_type": "stream",
     "text": [
      "\n"
     ]
    }
   ],
   "source": [
    "models,predictions = clf.fit(x_train, x_test, y_train, y_test)"
   ]
  },
  {
   "cell_type": "code",
   "execution_count": 72,
   "metadata": {},
   "outputs": [
    {
     "name": "stdout",
     "output_type": "stream",
     "text": [
      "AdaBoostClassifier\n",
      "              precision    recall  f1-score   support\n",
      "\n",
      "           0       0.99      0.59      0.74     34206\n",
      "           1       0.59      0.99      0.74     19746\n",
      "\n",
      "    accuracy                           0.74     53952\n",
      "   macro avg       0.79      0.79      0.74     53952\n",
      "weighted avg       0.84      0.74      0.74     53952\n",
      "\n",
      "AUC Scores for each class: 0.7928207574913912\n",
      "-----------------------------------------------------------------------------------\n",
      "-----------------------------------------------------------------------------------\n",
      "BaggingClassifier\n",
      "              precision    recall  f1-score   support\n",
      "\n",
      "           0       0.96      0.77      0.85     34206\n",
      "           1       0.70      0.94      0.80     19746\n",
      "\n",
      "    accuracy                           0.83     53952\n",
      "   macro avg       0.83      0.85      0.83     53952\n",
      "weighted avg       0.86      0.83      0.83     53952\n",
      "\n",
      "AUC Scores for each class: 0.853926883346229\n",
      "-----------------------------------------------------------------------------------\n",
      "-----------------------------------------------------------------------------------\n",
      "BernoulliNB\n",
      "              precision    recall  f1-score   support\n",
      "\n",
      "           0       0.84      0.55      0.66     34206\n",
      "           1       0.51      0.82      0.63     19746\n",
      "\n",
      "    accuracy                           0.65     53952\n",
      "   macro avg       0.67      0.68      0.64     53952\n",
      "weighted avg       0.72      0.65      0.65     53952\n",
      "\n",
      "AUC Scores for each class: 0.6816933057193486\n",
      "-----------------------------------------------------------------------------------\n",
      "-----------------------------------------------------------------------------------\n",
      "DecisionTreeClassifier\n",
      "              precision    recall  f1-score   support\n",
      "\n",
      "           0       0.93      0.76      0.84     34206\n",
      "           1       0.68      0.90      0.78     19746\n",
      "\n",
      "    accuracy                           0.81     53952\n",
      "   macro avg       0.81      0.83      0.81     53952\n",
      "weighted avg       0.84      0.81      0.81     53952\n",
      "\n",
      "AUC Scores for each class: 0.8309580701394288\n",
      "-----------------------------------------------------------------------------------\n",
      "-----------------------------------------------------------------------------------\n",
      "DummyClassifier\n",
      "              precision    recall  f1-score   support\n",
      "\n",
      "           0       0.63      1.00      0.78     34206\n",
      "           1       0.00      0.00      0.00     19746\n",
      "\n",
      "    accuracy                           0.63     53952\n",
      "   macro avg       0.32      0.50      0.39     53952\n",
      "weighted avg       0.40      0.63      0.49     53952\n",
      "\n",
      "AUC Scores for each class: 0.5\n",
      "-----------------------------------------------------------------------------------\n",
      "-----------------------------------------------------------------------------------\n",
      "GaussianNB\n",
      "              precision    recall  f1-score   support\n",
      "\n",
      "           0       0.88      0.54      0.67     34206\n",
      "           1       0.52      0.88      0.66     19746\n",
      "\n",
      "    accuracy                           0.66     53952\n",
      "   macro avg       0.70      0.71      0.66     53952\n",
      "weighted avg       0.75      0.66      0.66     53952\n",
      "\n",
      "AUC Scores for each class: 0.7080092539219318\n",
      "-----------------------------------------------------------------------------------\n",
      "-----------------------------------------------------------------------------------\n",
      "KNeighborsClassifier\n",
      "              precision    recall  f1-score   support\n",
      "\n",
      "           0       0.94      0.70      0.80     34206\n",
      "           1       0.64      0.92      0.76     19746\n",
      "\n",
      "    accuracy                           0.78     53952\n",
      "   macro avg       0.79      0.81      0.78     53952\n",
      "weighted avg       0.83      0.78      0.79     53952\n",
      "\n",
      "AUC Scores for each class: 0.8110552295151761\n",
      "-----------------------------------------------------------------------------------\n",
      "-----------------------------------------------------------------------------------\n",
      "LinearDiscriminantAnalysis\n",
      "              precision    recall  f1-score   support\n",
      "\n",
      "           0       1.00      0.41      0.58     34206\n",
      "           1       0.49      1.00      0.66     19746\n",
      "\n",
      "    accuracy                           0.62     53952\n",
      "   macro avg       0.75      0.70      0.62     53952\n",
      "weighted avg       0.81      0.62      0.61     53952\n",
      "\n",
      "AUC Scores for each class: 0.703735378262005\n",
      "-----------------------------------------------------------------------------------\n",
      "-----------------------------------------------------------------------------------\n",
      "LogisticRegression\n",
      "              precision    recall  f1-score   support\n",
      "\n",
      "           0       1.00      0.55      0.71     34206\n",
      "           1       0.56      1.00      0.72     19746\n",
      "\n",
      "    accuracy                           0.72     53952\n",
      "   macro avg       0.78      0.78      0.72     53952\n",
      "weighted avg       0.84      0.72      0.72     53952\n",
      "\n",
      "AUC Scores for each class: 0.7762513139819045\n",
      "-----------------------------------------------------------------------------------\n",
      "-----------------------------------------------------------------------------------\n",
      "Perceptron\n",
      "              precision    recall  f1-score   support\n",
      "\n",
      "           0       0.99      0.55      0.71     34206\n",
      "           1       0.56      0.99      0.71     19746\n",
      "\n",
      "    accuracy                           0.71     53952\n",
      "   macro avg       0.77      0.77      0.71     53952\n",
      "weighted avg       0.83      0.71      0.71     53952\n",
      "\n",
      "AUC Scores for each class: 0.7695757609093833\n",
      "-----------------------------------------------------------------------------------\n",
      "-----------------------------------------------------------------------------------\n",
      "QuadraticDiscriminantAnalysis\n",
      "              precision    recall  f1-score   support\n",
      "\n",
      "           0       0.99      0.54      0.70     34206\n",
      "           1       0.55      0.99      0.71     19746\n",
      "\n",
      "    accuracy                           0.71     53952\n",
      "   macro avg       0.77      0.77      0.71     53952\n",
      "weighted avg       0.83      0.71      0.70     53952\n",
      "\n",
      "AUC Scores for each class: 0.7663462706774209\n",
      "-----------------------------------------------------------------------------------\n",
      "-----------------------------------------------------------------------------------\n",
      "RandomForestClassifier\n",
      "              precision    recall  f1-score   support\n",
      "\n",
      "           0       0.98      0.74      0.84     34206\n",
      "           1       0.68      0.97      0.80     19746\n",
      "\n",
      "    accuracy                           0.83     53952\n",
      "   macro avg       0.83      0.86      0.82     53952\n",
      "weighted avg       0.87      0.83      0.83     53952\n",
      "\n",
      "AUC Scores for each class: 0.8565467723192774\n",
      "-----------------------------------------------------------------------------------\n",
      "-----------------------------------------------------------------------------------\n",
      "XGBClassifier\n",
      "              precision    recall  f1-score   support\n",
      "\n",
      "           0       0.99      0.60      0.75     34206\n",
      "           1       0.59      0.99      0.74     19746\n",
      "\n",
      "    accuracy                           0.75     53952\n",
      "   macro avg       0.79      0.80      0.75     53952\n",
      "weighted avg       0.84      0.75      0.75     53952\n",
      "\n",
      "AUC Scores for each class: 0.7972346058581947\n",
      "-----------------------------------------------------------------------------------\n",
      "-----------------------------------------------------------------------------------\n",
      "LGBMClassifier\n",
      "              precision    recall  f1-score   support\n",
      "\n",
      "           0       0.99      0.60      0.75     34206\n",
      "           1       0.59      0.99      0.74     19746\n",
      "\n",
      "    accuracy                           0.74     53952\n",
      "   macro avg       0.79      0.80      0.74     53952\n",
      "weighted avg       0.85      0.74      0.75     53952\n",
      "\n",
      "AUC Scores for each class: 0.7973483420105396\n",
      "-----------------------------------------------------------------------------------\n",
      "-----------------------------------------------------------------------------------\n"
     ]
    }
   ],
   "source": [
    "from sklearn.metrics import roc_auc_score\n",
    "for model in predictions.columns:\n",
    "    print(model)\n",
    "    print(classification_report(y_test, predictions[model]))\n",
    "    auc_scores = roc_auc_score(y_test, predictions[model], multi_class='ovr')  # Or multi_class='ovo' for one-vs-one\n",
    "    print(\"AUC Scores for each class:\", auc_scores)\n",
    "    print('-----------------------------------------------------------------------------------')\n",
    "    print('-----------------------------------------------------------------------------------')"
   ]
  }
 ],
 "metadata": {
  "kernelspec": {
   "display_name": "base",
   "language": "python",
   "name": "python3"
  },
  "language_info": {
   "codemirror_mode": {
    "name": "ipython",
    "version": 3
   },
   "file_extension": ".py",
   "mimetype": "text/x-python",
   "name": "python",
   "nbconvert_exporter": "python",
   "pygments_lexer": "ipython3",
   "version": "3.9.12"
  }
 },
 "nbformat": 4,
 "nbformat_minor": 2
}
