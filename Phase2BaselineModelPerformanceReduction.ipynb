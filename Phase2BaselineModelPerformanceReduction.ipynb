{
 "cells": [
  {
   "cell_type": "markdown",
   "metadata": {},
   "source": [
    "## Libraries"
   ]
  },
  {
   "cell_type": "code",
   "execution_count": 1,
   "metadata": {},
   "outputs": [],
   "source": [
    "import pandas as pd\n",
    "import numpy as np\n",
    "import matplotlib.pyplot as plt\n",
    "import seaborn as sns\n",
    "from scipy.stats import norm\n",
    "from imblearn.over_sampling import SMOTE\n",
    "from sklearn.preprocessing import LabelEncoder\n",
    "from sklearn.model_selection import train_test_split\n",
    "from sklearn.preprocessing import StandardScaler\n",
    "\n",
    "from sklearn.metrics import accuracy_score\n",
    "from sklearn.metrics import f1_score\n",
    "from sklearn.metrics import confusion_matrix\n",
    "from sklearn.metrics import classification_report\n",
    "from sklearn.metrics import precision_score\n",
    "from sklearn.model_selection import cross_validate\n",
    "from sklearn.model_selection import cross_val_predict\n",
    "\n",
    "from sklearn.neighbors import KNeighborsClassifier\n",
    "from sklearn.linear_model import LogisticRegression\n",
    "from sklearn.ensemble import RandomForestClassifier\n",
    "from sklearn.tree import DecisionTreeClassifier\n",
    "from sklearn.naive_bayes import GaussianNB\n",
    "from sklearn.ensemble import BaggingClassifier\n",
    "from sklearn.svm import SVC\n",
    "from sklearn.ensemble import StackingClassifier\n",
    "\n",
    "from sklearn.linear_model import Perceptron\n",
    "from sklearn.model_selection import GridSearchCV\n",
    "from sklearn.model_selection import RepeatedStratifiedKFold\n",
    "from sklearn.neural_network import MLPClassifier\n",
    "from sklearn.cluster import KMeans\n",
    "from scipy.cluster.hierarchy import dendrogram, linkage\n",
    "from sklearn.cluster import AgglomerativeClustering\n"
   ]
  },
  {
   "cell_type": "code",
   "execution_count": 47,
   "metadata": {},
   "outputs": [],
   "source": [
    "df = pd.read_csv(r'D:\\Project Phase II\\Dataset\\completedataset.csv',encoding='cp1252')"
   ]
  },
  {
   "cell_type": "code",
   "execution_count": 51,
   "metadata": {},
   "outputs": [
    {
     "data": {
      "text/plain": [
       "array(['tcp', 'udp', 'icmp', 'arp', 'ospf', 'udt', 'sctp', 'igmp', 'gre',\n",
       "       'sep', 'swipe', 'mobile', 'sun-nd', 'pim', 'rtp', 'ip', 'ggp',\n",
       "       'ipnip', 'st2', 'cbt', 'argus', 'bbn-rcc', 'chaos', 'egp', 'emcon',\n",
       "       'igp', 'nvp', 'pup', 'xnet', 'mux', 'dcn', 'hmp', 'prm', 'trunk-1',\n",
       "       'trunk-2', 'xns-idp', 'irtp', 'leaf-1', 'leaf-2', 'rdp', 'iso-tp4',\n",
       "       'netblt', 'merit-inp', 'mfe-nsp', '3pc', 'idpr', 'xtp', 'ddp',\n",
       "       'idpr-cmtp', 'tp++', 'il', 'ipv6', 'ipv6-route', 'sdrp',\n",
       "       'ipv6-frag', 'idrp', 'rsvp', 'bna', 'mhrp', 'i-nlsp', 'narp',\n",
       "       'tlsp', 'skip', 'ipv6-no', 'ipv6-opts', 'any', 'cftp', 'sat-expak',\n",
       "       'kryptolan', 'ippc', 'rvd', 'sat-mon', 'cpnx', 'ipcv', 'visa',\n",
       "       'cphb', 'wsn', 'br-sat-mon', 'pvp', 'wb-mon', 'iso-ip', 'wb-expak',\n",
       "       'secure-vmtp', 'vmtp', 'ttp', 'vines', 'nsfnet-igp', 'dgp',\n",
       "       'eigrp', 'tcf', 'larp', 'sprite-rpc', 'ax.25', 'ipip', 'mtp',\n",
       "       'aes-sp3-d', 'etherip', 'micp', 'encap', 'pri-enc', 'gmtp', 'ifmp',\n",
       "       'pnni', 'aris', 'scps', 'a/n', 'qnx', 'ipcomp', 'snp',\n",
       "       'compaq-peer', 'ipx-n-ip', 'vrrp', 'pgm', 'l2tp', 'zero', 'ddx',\n",
       "       'iatp', 'srp', 'stp', 'uti', 'smp', 'sm', 'ptp', 'fire', 'isis',\n",
       "       'crtp', 'crudp', 'sccopmce', 'iplt', 'pipe', 'sps', 'fc', 'unas',\n",
       "       'ib', 'esp'], dtype=object)"
      ]
     },
     "execution_count": 51,
     "metadata": {},
     "output_type": "execute_result"
    }
   ],
   "source": [
    "df.proto.unique()"
   ]
  },
  {
   "cell_type": "code",
   "execution_count": 4,
   "metadata": {},
   "outputs": [],
   "source": [
    "df1 = df.drop_duplicates()"
   ]
  },
  {
   "cell_type": "code",
   "execution_count": 5,
   "metadata": {},
   "outputs": [
    {
     "name": "stdout",
     "output_type": "stream",
     "text": [
      "records in df:  2540047\n",
      "records in df1:  2059416\n"
     ]
    }
   ],
   "source": [
    "print(\"records in df: \",len(df))\n",
    "print(\"records in df1: \",len(df1))"
   ]
  },
  {
   "cell_type": "code",
   "execution_count": 5,
   "metadata": {},
   "outputs": [
    {
     "data": {
      "text/plain": [
       "480631"
      ]
     },
     "execution_count": 5,
     "metadata": {},
     "output_type": "execute_result"
    }
   ],
   "source": [
    "len(df)-len(df1)"
   ]
  },
  {
   "cell_type": "markdown",
   "metadata": {},
   "source": [
    "## Import Train and test datasets"
   ]
  },
  {
   "cell_type": "code",
   "execution_count": 3,
   "metadata": {},
   "outputs": [],
   "source": [
    "train = pd.read_csv(r'D:\\Project Phase II\\Dataset\\train.csv',encoding='cp1252')\n",
    "test = pd.read_csv(r'D:\\Project Phase II\\Dataset\\test.csv',encoding='cp1252')"
   ]
  },
  {
   "cell_type": "markdown",
   "metadata": {},
   "source": [
    "## Train-Test Sample Dataset loading"
   ]
  },
  {
   "cell_type": "code",
   "execution_count": 3,
   "metadata": {},
   "outputs": [],
   "source": [
    "featureset = ['srcip', 'sport', 'dstip', 'dsport', 'proto', 'state', 'dur', 'sbytes',\n",
    "       'dbytes', 'sttl', 'dttl', 'sloss', 'dloss', 'service', 'Sload', 'Dload',\n",
    "       'Spkts', 'Dpkts', 'swin', 'dwin', 'stcpb', 'dtcpb', 'smeansz',\n",
    "       'dmeansz', 'trans_depth', 'res_bdy_len', 'Sjit', 'Djit', 'Stime',\n",
    "       'Ltime', 'Sintpkt', 'Dintpkt', 'tcprtt', 'synack', 'ackdat',\n",
    "       'ct_state_ttl', 'ct_flw_http_mthd', 'is_ftp_login', 'ct_ftp_cmd',\n",
    "       'ct_srv_src', 'ct_srv_dst', 'ct_dst_ltm', 'ct_src_ ltm',\n",
    "       'ct_src_dport_ltm', 'ct_dst_sport_ltm', 'ct_dst_src_ltm', 'attack_cat']\n",
    "\n",
    "\n",
    "todrop = ['srcip','dstip','Stime', 'Ltime','attack_cat']"
   ]
  },
  {
   "cell_type": "code",
   "execution_count": 4,
   "metadata": {},
   "outputs": [],
   "source": [
    "todrop = ['srcip','dstip','sport','dsport','Stime', 'Ltime','attack_cat']\n",
    "train = train.drop(todrop, axis = 1)\n",
    "test = test.drop(todrop, axis = 1)"
   ]
  },
  {
   "cell_type": "markdown",
   "metadata": {},
   "source": [
    "## Feature stats"
   ]
  },
  {
   "cell_type": "code",
   "execution_count": 6,
   "metadata": {},
   "outputs": [
    {
     "name": "stdout",
     "output_type": "stream",
     "text": [
      "Label               1.000000\n",
      "dttl                0.881692\n",
      "ct_state_ttl        0.852486\n",
      "sttl                0.756231\n",
      "tcprtt              0.688349\n",
      "ackdat              0.677410\n",
      "synack              0.628098\n",
      "Dload               0.460126\n",
      "ct_srv_dst          0.353331\n",
      "ct_dst_ltm          0.322629\n",
      "ct_srv_src          0.305204\n",
      "dmeansz             0.300726\n",
      "state               0.289415\n",
      "ct_src_ ltm         0.204310\n",
      "smeansz             0.167465\n",
      "service             0.148940\n",
      "ct_flw_http_mthd    0.136627\n",
      "dur                 0.119315\n",
      "Sload               0.117225\n",
      "dwin                0.109501\n",
      "swin                0.108632\n",
      "Sjit                0.095562\n",
      "Dpkts               0.094790\n",
      "trans_depth         0.088240\n",
      "dloss               0.079303\n",
      "dbytes              0.064636\n",
      "proto               0.060165\n",
      "stcpb               0.058423\n",
      "dtcpb               0.054865\n",
      "sbytes              0.047334\n",
      "sloss               0.034052\n",
      "Spkts               0.024816\n",
      "ct_dst_sport_ltm    0.024080\n",
      "Dintpkt             0.022289\n",
      "is_ftp_login        0.019471\n",
      "Sintpkt             0.019186\n",
      "ct_ftp_cmd          0.017191\n",
      "res_bdy_len         0.012914\n",
      "Djit                0.008843\n",
      "ct_src_dport_ltm    0.006317\n",
      "ct_dst_src_ltm      0.002338\n",
      "dtype: float64\n"
     ]
    }
   ],
   "source": [
    "#Find correlation values with Label\n",
    "correlation = train.corrwith(train['Label'])\n",
    "\n",
    "#Sort the correlation values based on abs\n",
    "correlation1 = correlation.abs().sort_values(ascending = False)\n",
    "print(correlation1)\n"
   ]
  },
  {
   "cell_type": "code",
   "execution_count": 7,
   "metadata": {},
   "outputs": [
    {
     "name": "stdout",
     "output_type": "stream",
     "text": [
      "proto              -0.060165\n",
      "state               0.289415\n",
      "dur                 0.119315\n",
      "sbytes              0.047334\n",
      "dbytes             -0.064636\n",
      "sttl                0.756231\n",
      "dttl                0.881692\n",
      "sloss               0.034052\n",
      "dloss              -0.079303\n",
      "service             0.148940\n",
      "Sload               0.117225\n",
      "Dload              -0.460126\n",
      "Spkts              -0.024816\n",
      "Dpkts              -0.094790\n",
      "swin                0.108632\n",
      "dwin                0.109501\n",
      "stcpb               0.058423\n",
      "dtcpb               0.054865\n",
      "smeansz             0.167465\n",
      "dmeansz            -0.300726\n",
      "trans_depth         0.088240\n",
      "res_bdy_len        -0.012914\n",
      "Sjit                0.095562\n",
      "Djit               -0.008843\n",
      "Sintpkt             0.019186\n",
      "Dintpkt             0.022289\n",
      "tcprtt              0.688349\n",
      "synack              0.628098\n",
      "ackdat              0.677410\n",
      "ct_state_ttl        0.852486\n",
      "ct_flw_http_mthd    0.136627\n",
      "is_ftp_login       -0.019471\n",
      "ct_ftp_cmd          0.017191\n",
      "ct_srv_src         -0.305204\n",
      "ct_srv_dst         -0.353331\n",
      "ct_dst_ltm         -0.322629\n",
      "ct_src_ ltm        -0.204310\n",
      "ct_src_dport_ltm   -0.006317\n",
      "ct_dst_sport_ltm    0.024080\n",
      "ct_dst_src_ltm     -0.002338\n",
      "Label               1.000000\n",
      "dtype: float64\n"
     ]
    }
   ],
   "source": [
    "print(correlation)"
   ]
  },
  {
   "cell_type": "markdown",
   "metadata": {},
   "source": [
    "L1 regularisation"
   ]
  },
  {
   "cell_type": "code",
   "execution_count": 30,
   "metadata": {},
   "outputs": [],
   "source": [
    "train = train.drop_duplicates()\n",
    "test = test.drop_duplicates()"
   ]
  },
  {
   "cell_type": "code",
   "execution_count": 31,
   "metadata": {},
   "outputs": [],
   "source": [
    "X_train = train.drop('Label', axis = 1)\n",
    "y_train = train['Label']\n",
    "X_test = test.drop('Label', axis = 1)\n",
    "y_test = test['Label']\n",
    "X_train_scaled = StandardScaler().fit_transform(X_train)\n",
    "X_test_scaled = StandardScaler().fit_transform(X_test)"
   ]
  },
  {
   "cell_type": "code",
   "execution_count": 23,
   "metadata": {},
   "outputs": [],
   "source": [
    "autrain = pd.read_csv(r'D:\\Project Phase II\\Dataset\\UNSW_NB15_training-set.csv',encoding='cp1252')\n",
    "autest = pd.read_csv(r'D:\\Project Phase II\\Dataset\\UNSW_NB15_testing-set.csv',encoding='cp1252')"
   ]
  },
  {
   "cell_type": "code",
   "execution_count": 24,
   "metadata": {},
   "outputs": [],
   "source": [
    "todrop = ['attack_cat','rate','ï»¿id']\n",
    "autrain = autrain.drop(todrop, axis = 1)\n",
    "autest = autest.drop(todrop, axis = 1)"
   ]
  },
  {
   "cell_type": "code",
   "execution_count": 25,
   "metadata": {},
   "outputs": [],
   "source": [
    "autrain = autrain.drop_duplicates()\n",
    "autest = autest.drop_duplicates()"
   ]
  },
  {
   "cell_type": "code",
   "execution_count": 26,
   "metadata": {},
   "outputs": [],
   "source": [
    "#label encode nominal attributes\n",
    "le = LabelEncoder()\n",
    "autrain['proto'] = le.fit_transform(autrain['proto'])\n",
    "autrain['state'] = le.fit_transform(autrain['state'])\n",
    "autrain['service'] = le.fit_transform(autrain['service'])\n",
    "autest['proto'] = le.fit_transform(autest['proto'])\n",
    "autest['state'] = le.fit_transform(autest['state'])\n",
    "autest['service'] = le.fit_transform(autest['service'])"
   ]
  },
  {
   "cell_type": "code",
   "execution_count": 27,
   "metadata": {},
   "outputs": [],
   "source": [
    "auX_train = autrain.drop(['label'], axis = 1)\n",
    "auy_train = autrain['label']\n",
    "auX_test = autest.drop(['label'], axis = 1)\n",
    "auy_test = autest['label']\n",
    "auX_train_scaled = StandardScaler().fit_transform(auX_train)\n",
    "auX_test_scaled = StandardScaler().fit_transform(auX_test)"
   ]
  },
  {
   "cell_type": "code",
   "execution_count": 28,
   "metadata": {},
   "outputs": [
    {
     "name": "stdout",
     "output_type": "stream",
     "text": [
      "Training Accuracy: 0.8954467803572663\n",
      "Testing Accuracy: 0.7881264827995255\n",
      "Selected Features: ['dur', 'proto', 'service', 'state', 'dpkts', 'dbytes', 'sttl', 'dttl', 'sload', 'dload', 'sloss', 'sinpkt', 'dinpkt', 'sjit', 'djit', 'swin', 'stcpb', 'dtcpb', 'dwin', 'synack', 'ackdat', 'smean', 'dmean', 'response_body_len', 'ct_state_ttl', 'ct_dst_ltm', 'ct_src_dport_ltm', 'ct_dst_sport_ltm', 'ct_dst_src_ltm', 'is_ftp_login', 'ct_ftp_cmd', 'ct_flw_http_mthd', 'ct_src_ltm', 'ct_srv_dst', 'is_sm_ips_ports']\n"
     ]
    }
   ],
   "source": [
    "clf = LogisticRegression(penalty='l1', solver='liblinear', C=0.1)\n",
    "clf.fit(auX_train_scaled, auy_train)\n",
    "\n",
    "# Evaluate the model\n",
    "train_accuracy = clf.score(auX_train_scaled, auy_train)\n",
    "test_accuracy = clf.score(auX_test_scaled, auy_test)\n",
    "\n",
    "print(\"Training Accuracy:\", train_accuracy)\n",
    "print(\"Testing Accuracy:\", test_accuracy)\n",
    "\n",
    "# Print the selected features and their corresponding coefficients\n",
    "selected_features = [feature for feature, coef in zip(auX_train.columns, clf.coef_[0]) if coef != 0]\n",
    "print(\"Selected Features:\", selected_features)"
   ]
  },
  {
   "cell_type": "code",
   "execution_count": 29,
   "metadata": {},
   "outputs": [
    {
     "name": "stdout",
     "output_type": "stream",
     "text": [
      "dur : 0.01926850423683426\n",
      "proto : -0.08280755567019127\n",
      "service : 1.0157648036613767\n",
      "state : 1.145818194195206\n",
      "spkts : 0.0\n",
      "dpkts : 1.193153118954516\n",
      "sbytes : 0.0\n",
      "dbytes : -1.2018423506508706\n",
      "sttl : 1.046215440836049\n",
      "dttl : 6.39694128801298\n",
      "sload : 0.02869878585919368\n",
      "dload : -9.923314240960119\n",
      "sloss : 0.7557011757745776\n",
      "dloss : 0.0\n",
      "sinpkt : -0.5119105684602044\n",
      "dinpkt : -0.010542144488970123\n",
      "sjit : -0.016719578017830063\n",
      "djit : 0.12052571259669125\n",
      "swin : -5.081923837055613\n",
      "stcpb : -0.008293660368461128\n",
      "dtcpb : 0.01005951746912842\n",
      "dwin : -0.32205675631128255\n",
      "tcprtt : 0.0\n",
      "synack : -0.48104000330426416\n",
      "ackdat : 0.03559645060445992\n",
      "smean : -0.06563901830586882\n",
      "dmean : 2.347245904027503\n",
      "trans_depth : 0.0\n",
      "response_body_len : -0.025130166711715696\n",
      "ct_srv_src : 0.0\n",
      "ct_state_ttl : 0.5689421489623573\n",
      "ct_dst_ltm : 0.21515343663092687\n",
      "ct_src_dport_ltm : 0.37911505123015954\n",
      "ct_dst_sport_ltm : 1.0316125779721728\n",
      "ct_dst_src_ltm : 0.010072610884166017\n",
      "is_ftp_login : 0.0024630074952471004\n",
      "ct_ftp_cmd : 0.12477769352086442\n",
      "ct_flw_http_mthd : -0.07634764131919315\n",
      "ct_src_ltm : 0.008182400965256617\n",
      "ct_srv_dst : -0.8504612676331572\n",
      "is_sm_ips_ports : -0.21302238033483792\n"
     ]
    }
   ],
   "source": [
    "for feature, coef in zip(auX_train.columns, clf.coef_[0]):\n",
    "    print(feature, ':', coef)"
   ]
  },
  {
   "cell_type": "code",
   "execution_count": 32,
   "metadata": {},
   "outputs": [
    {
     "name": "stdout",
     "output_type": "stream",
     "text": [
      "Training Accuracy: 0.9912808323834008\n",
      "Testing Accuracy: 0.9920208250806406\n",
      "Selected Features: ['proto', 'state', 'dur', 'dbytes', 'sttl', 'dttl', 'sloss', 'service', 'Sload', 'Dload', 'swin', 'smeansz', 'dmeansz', 'res_bdy_len', 'Djit', 'Sintpkt', 'Dintpkt', 'tcprtt', 'synack', 'ackdat', 'ct_state_ttl', 'ct_flw_http_mthd', 'is_ftp_login', 'ct_ftp_cmd', 'ct_srv_src', 'ct_srv_dst', 'ct_dst_ltm', 'ct_src_ ltm', 'ct_src_dport_ltm', 'ct_dst_sport_ltm']\n"
     ]
    }
   ],
   "source": [
    "clf = LogisticRegression(penalty='l1', solver='liblinear', C=0.1)\n",
    "clf.fit(X_train_scaled, y_train)\n",
    "\n",
    "# Evaluate the model\n",
    "train_accuracy = clf.score(X_train_scaled, y_train)\n",
    "test_accuracy = clf.score(X_test_scaled, y_test)\n",
    "\n",
    "print(\"Training Accuracy:\", train_accuracy)\n",
    "print(\"Testing Accuracy:\", test_accuracy)\n",
    "\n",
    "# Print the selected features and their corresponding coefficients\n",
    "selected_features = [feature for feature, coef in zip(X_train.columns, clf.coef_[0]) if coef != 0]\n",
    "print(\"Selected Features:\", selected_features)"
   ]
  },
  {
   "cell_type": "code",
   "execution_count": 33,
   "metadata": {},
   "outputs": [
    {
     "name": "stdout",
     "output_type": "stream",
     "text": [
      "proto : 0.027118845401539526\n",
      "state : 1.0787980482685664\n",
      "dur : 0.06174376946237158\n",
      "sbytes : 0.0\n",
      "dbytes : -0.13873522702437935\n",
      "sttl : 1.3958978470620707\n",
      "dttl : 7.1448600634351145\n",
      "sloss : 1.0224208539209814\n",
      "dloss : 0.0\n",
      "service : 1.0560669419213016\n",
      "Sload : 0.0665127492444044\n",
      "Dload : -0.28478010473531085\n",
      "Spkts : 0.0\n",
      "Dpkts : 0.0\n",
      "swin : -4.216764976579813\n",
      "dwin : 0.0\n",
      "stcpb : 0.0\n",
      "dtcpb : 0.0\n",
      "smeansz : 0.10082109180214749\n",
      "dmeansz : 2.138011415854109\n",
      "trans_depth : 0.0\n",
      "res_bdy_len : -0.048263072038305585\n",
      "Sjit : 0.0\n",
      "Djit : 0.047991532413223674\n",
      "Sintpkt : -0.2918382459647479\n",
      "Dintpkt : 0.1847322945678647\n",
      "tcprtt : -0.032018788625223435\n",
      "synack : -0.39081650992458905\n",
      "ackdat : -0.09717395380692999\n",
      "ct_state_ttl : 0.9277955151824566\n",
      "ct_flw_http_mthd : -0.02743111471249344\n",
      "is_ftp_login : 0.15161852075312185\n",
      "ct_ftp_cmd : 0.02443013990058301\n",
      "ct_srv_src : -0.10371330260929068\n",
      "ct_srv_dst : -0.3505086591090816\n",
      "ct_dst_ltm : -0.03904216783753065\n",
      "ct_src_ ltm : 0.006592897280172758\n",
      "ct_src_dport_ltm : 0.2497184831649399\n",
      "ct_dst_sport_ltm : -0.006538586704726795\n",
      "ct_dst_src_ltm : 0.0\n"
     ]
    }
   ],
   "source": [
    "for feature, coef in zip(X_train.columns, clf.coef_[0]):\n",
    "    print(feature, ':', coef)"
   ]
  },
  {
   "cell_type": "markdown",
   "metadata": {},
   "source": [
    "Chi_Squared scores"
   ]
  },
  {
   "cell_type": "code",
   "execution_count": 35,
   "metadata": {},
   "outputs": [
    {
     "name": "stdout",
     "output_type": "stream",
     "text": [
      "proto: 110.23698870645991\n",
      "state: 1192.4967290630912\n",
      "dur: 19804.124629412545\n",
      "sbytes: 723638908.2763088\n",
      "dbytes: 451220605.09511805\n",
      "sttl: 4423583.100675568\n",
      "dttl: 6154564.469131945\n",
      "sloss: 89437.83024525264\n",
      "dloss: 197071.00062100257\n",
      "service: 7594.742378165091\n",
      "Sload: 1451933933322.6978\n",
      "Dload: 141524764841.2012\n",
      "Spkts: 51727.0419048043\n",
      "Dpkts: 459134.2997070234\n",
      "swin: 30559.8858546534\n",
      "dwin: 31140.91185453229\n",
      "stcpb: 276918604812.3571\n",
      "dtcpb: 242320101457.80493\n",
      "smeansz: 834312.9054375617\n",
      "dmeansz: 3077777.4633050747\n",
      "trans_depth: 3395.08093806374\n",
      "res_bdy_len: 15393735.480530083\n",
      "Sjit: 173490148.3467111\n",
      "Djit: 109829.20633073957\n",
      "Sintpkt: 464436.73436980904\n",
      "Dintpkt: 492058.96766332886\n",
      "tcprtt: 4324.135107207513\n",
      "synack: 2102.7559375855967\n",
      "ackdat: 2221.8473403319394\n",
      "ct_state_ttl: 41952.27585308674\n",
      "ct_flw_http_mthd: 2776.855949549151\n",
      "is_ftp_login: 30.613543490951546\n",
      "ct_ftp_cmd: 24.818745158791636\n",
      "ct_srv_src: 32644.38858478598\n",
      "ct_srv_dst: 42507.73411396639\n",
      "ct_dst_ltm: 25009.148406730303\n",
      "ct_src_ ltm: 14231.940790394461\n",
      "ct_src_dport_ltm: 3.961354563391915\n",
      "ct_dst_sport_ltm: 12.727018605077445\n",
      "ct_dst_src_ltm: 1.7953946126675115\n"
     ]
    }
   ],
   "source": [
    "import pandas as pd\n",
    "import numpy as np\n",
    "from sklearn.feature_selection import SelectKBest\n",
    "from sklearn.feature_selection import chi2\n",
    "\n",
    "chi2_selector = SelectKBest(score_func=chi2)\n",
    "chi2_selector.fit(X_train, y_train)\n",
    "\n",
    "# Get the chi-squared scores for each feature\n",
    "chi2_scores = chi2_selector.scores_\n",
    "\n",
    "# Print the chi-squared scores for each feature\n",
    "for feature, score in zip(X_train.columns, chi2_scores):\n",
    "    print(f\"{feature}: {score}\")"
   ]
  },
  {
   "cell_type": "code",
   "execution_count": 36,
   "metadata": {},
   "outputs": [
    {
     "name": "stdout",
     "output_type": "stream",
     "text": [
      "Sload: 1451933933322.6978\n",
      "stcpb: 276918604812.3571\n",
      "dtcpb: 242320101457.80493\n",
      "Dload: 141524764841.2012\n",
      "sbytes: 723638908.2763088\n",
      "dbytes: 451220605.09511805\n",
      "Sjit: 173490148.3467111\n",
      "res_bdy_len: 15393735.480530083\n",
      "dttl: 6154564.469131945\n",
      "sttl: 4423583.100675568\n",
      "dmeansz: 3077777.4633050747\n",
      "smeansz: 834312.9054375617\n",
      "Dintpkt: 492058.96766332886\n",
      "Sintpkt: 464436.73436980904\n",
      "Dpkts: 459134.2997070234\n",
      "dloss: 197071.00062100257\n",
      "Djit: 109829.20633073957\n",
      "sloss: 89437.83024525264\n",
      "Spkts: 51727.0419048043\n",
      "ct_srv_dst: 42507.73411396639\n",
      "ct_state_ttl: 41952.27585308674\n",
      "ct_srv_src: 32644.38858478598\n",
      "dwin: 31140.91185453229\n",
      "swin: 30559.8858546534\n",
      "ct_dst_ltm: 25009.148406730303\n",
      "dur: 19804.124629412545\n",
      "ct_src_ ltm: 14231.940790394461\n",
      "service: 7594.742378165091\n",
      "tcprtt: 4324.135107207513\n",
      "trans_depth: 3395.08093806374\n",
      "ct_flw_http_mthd: 2776.855949549151\n",
      "ackdat: 2221.8473403319394\n",
      "synack: 2102.7559375855967\n",
      "state: 1192.4967290630912\n",
      "proto: 110.23698870645991\n",
      "is_ftp_login: 30.613543490951546\n",
      "ct_ftp_cmd: 24.818745158791636\n",
      "ct_dst_sport_ltm: 12.727018605077445\n",
      "ct_src_dport_ltm: 3.961354563391915\n",
      "ct_dst_src_ltm: 1.7953946126675115\n"
     ]
    }
   ],
   "source": [
    "#sort the chi_squared scores\n",
    "sorted_scores = sorted(zip(X_train.columns, chi2_scores), key=lambda x: x[1], reverse=True)\n",
    "for feature, score in sorted_scores:\n",
    "    print(f\"{feature}: {score}\")\n"
   ]
  },
  {
   "cell_type": "code",
   "execution_count": 37,
   "metadata": {},
   "outputs": [
    {
     "name": "stdout",
     "output_type": "stream",
     "text": [
      "sload: 1274545423463.7144\n",
      "dtcpb: 174592887016.4599\n",
      "stcpb: 118951151692.67624\n",
      "dload: 103713837888.55475\n",
      "sbytes: 762038593.2665541\n",
      "dbytes: 282434186.7290839\n",
      "sjit: 50197870.14192784\n",
      "sinpkt: 19800359.313280128\n",
      "response_body_len: 8758611.78994669\n",
      "dttl: 3210654.183808326\n",
      "sttl: 2954154.445237046\n",
      "dmean: 1998448.6201993646\n",
      "djit: 1049251.9164257757\n",
      "smean: 631122.8043606974\n",
      "dpkts: 264324.1663342773\n",
      "sloss: 119051.7319375287\n",
      "dloss: 118468.41162525848\n",
      "dinpkt: 85234.2220522977\n",
      "ct_state_ttl: 22579.006030307195\n",
      "dwin: 17178.765972101643\n",
      "ct_dst_sport_ltm: 9819.885103764425\n",
      "swin: 9487.953191782883\n",
      "dur: 9109.536011635932\n",
      "service: 8541.942781557755\n",
      "ct_srv_dst: 7955.123069063541\n",
      "ct_src_dport_ltm: 6373.056770217504\n",
      "ct_srv_src: 5042.052388876549\n",
      "state: 4333.074429633465\n",
      "spkts: 3932.5586275989094\n",
      "trans_depth: 3674.8998503680864\n",
      "ct_flw_http_mthd: 3652.1858914577424\n",
      "ct_dst_src_ltm: 2640.4595409947847\n",
      "ct_dst_ltm: 2408.5610202720477\n",
      "tcprtt: 1853.7983044656082\n",
      "ackdat: 1036.9488260556222\n",
      "synack: 824.6972441201776\n",
      "is_sm_ips_ports: 518.6269994218538\n",
      "ct_src_ltm: 454.9454577669148\n",
      "proto: 20.53807807733761\n",
      "is_ftp_login: 0.08014176087138271\n",
      "ct_ftp_cmd: 0.08014176087138271\n"
     ]
    }
   ],
   "source": [
    "import pandas as pd\n",
    "import numpy as np\n",
    "from sklearn.feature_selection import SelectKBest\n",
    "from sklearn.feature_selection import chi2\n",
    "\n",
    "chi2_selector = SelectKBest(score_func=chi2)\n",
    "chi2_selector.fit(auX_train, auy_train)\n",
    "\n",
    "# Get the chi-squared scores for each feature\n",
    "chi2_scores = chi2_selector.scores_\n",
    "\n",
    "sorted_scores = sorted(zip(auX_train.columns, chi2_scores), key=lambda x: x[1], reverse=True)\n",
    "for feature, score in sorted_scores:\n",
    "    print(f\"{feature}: {score}\")"
   ]
  },
  {
   "cell_type": "markdown",
   "metadata": {},
   "source": [
    "F score"
   ]
  },
  {
   "cell_type": "code",
   "execution_count": 38,
   "metadata": {},
   "outputs": [
    {
     "name": "stdout",
     "output_type": "stream",
     "text": [
      "F-scores:\n",
      "dttl: 287947.8507505533\n",
      "ct_state_ttl: 219295.15245738655\n",
      "sttl: 110151.61711936597\n",
      "tcprtt: 74255.83578566367\n",
      "ackdat: 69928.74232518808\n",
      "synack: 53726.5593014176\n",
      "Dload: 22146.924443199692\n",
      "ct_srv_dst: 11763.096232815726\n",
      "ct_dst_ltm: 9580.455776226092\n",
      "ct_srv_src: 8470.118156441013\n",
      "dmeansz: 8198.822875189062\n",
      "state: 7538.374101303349\n",
      "ct_src_ ltm: 3592.020962218995\n",
      "smeansz: 2379.2673941314374\n",
      "service: 1870.727650096473\n",
      "ct_flw_http_mthd: 1568.5517815854755\n",
      "dur: 1190.860608945296\n",
      "Sload: 1148.9200088956377\n",
      "dwin: 1000.7289725222951\n",
      "swin: 984.7151966877847\n",
      "Sjit: 759.9724671022923\n",
      "Dpkts: 747.6396565637232\n",
      "trans_depth: 647.0957653491039\n",
      "dloss: 521.8746526881596\n",
      "dbytes: 345.9514202362106\n",
      "proto: 299.57409700200174\n",
      "stcpb: 282.4158280546691\n",
      "dtcpb: 248.97175446799378\n",
      "sbytes: 185.16677942040243\n",
      "sloss: 95.72737726094441\n",
      "Spkts: 50.81275931271296\n",
      "ct_dst_sport_ltm: 47.84171706418729\n",
      "Dintpkt: 40.987543473202386\n",
      "is_ftp_login: 31.274074062716828\n",
      "Sintpkt: 30.36586610782135\n",
      "ct_ftp_cmd: 24.376311860510857\n",
      "res_bdy_len: 13.75509787759674\n",
      "Djit: 6.449458590265505\n",
      "ct_src_dport_ltm: 3.291086895652199\n",
      "ct_dst_src_ltm: 0.45060607096535765\n"
     ]
    }
   ],
   "source": [
    "from sklearn.feature_selection import f_classif\n",
    "f_scores, p_values = f_classif(X_train, y_train)\n",
    "\n",
    "# Print the F-scores for each feature\n",
    "print(\"F-scores:\")\n",
    "sorted_scores = sorted(zip(X_train.columns, f_scores), key=lambda x: x[1], reverse=True)\n",
    "for feature, score in sorted_scores:\n",
    "    print(f\"{feature}: {score}\")"
   ]
  },
  {
   "cell_type": "code",
   "execution_count": 39,
   "metadata": {},
   "outputs": [
    {
     "name": "stdout",
     "output_type": "stream",
     "text": [
      "F-scores:\n",
      "sttl: 53324.0711189486\n",
      "dttl: 44747.4866789967\n",
      "ct_state_ttl: 33901.26953040391\n",
      "ackdat: 17868.504566134023\n",
      "tcprtt: 17008.15534051278\n",
      "dload: 14312.048358923312\n",
      "state: 13436.870415304636\n",
      "synack: 11946.925030355646\n",
      "dmean: 4542.316504846728\n",
      "ct_dst_sport_ltm: 3145.5204122965247\n",
      "service: 2199.4457989196235\n",
      "ct_flw_http_mthd: 2048.9972769531205\n",
      "smean: 1742.7115508276333\n",
      "sload: 1243.4365543053275\n",
      "ct_src_dport_ltm: 1076.5825593014486\n",
      "ct_srv_dst: 952.8611891973055\n",
      "trans_depth: 642.784597353864\n",
      "ct_srv_src: 627.5400927910919\n",
      "is_sm_ips_ports: 524.1215992494721\n",
      "dur: 473.02623266600096\n",
      "ct_dst_ltm: 445.4658518409929\n",
      "dpkts: 444.2121271546809\n",
      "sinpkt: 434.206817375003\n",
      "dloss: 317.35250781368217\n",
      "dwin: 265.71042979559456\n",
      "ct_dst_src_ltm: 265.53397006804096\n",
      "dbytes: 217.8482987259788\n",
      "sbytes: 211.17069204574432\n",
      "sjit: 165.21211961238436\n",
      "swin: 150.01770139441268\n",
      "dtcpb: 138.82505819285538\n",
      "sloss: 133.3188697170398\n",
      "stcpb: 94.39680754753547\n",
      "ct_src_ltm: 71.55886862356014\n",
      "djit: 37.37695074289696\n",
      "proto: 20.654154370787978\n",
      "dinpkt: 7.619558375557672\n",
      "response_body_len: 6.879141284279568\n",
      "spkts: 3.9001344969197547\n",
      "is_ftp_login: 0.0787174798876696\n",
      "ct_ftp_cmd: 0.0787174798876696\n"
     ]
    }
   ],
   "source": [
    "from sklearn.feature_selection import f_classif\n",
    "f_scores, p_values = f_classif(auX_train, auy_train)\n",
    "\n",
    "# Print the F-scores for each feature\n",
    "print(\"F-scores:\")\n",
    "sorted_scores = sorted(zip(auX_train.columns, f_scores), key=lambda x: x[1], reverse=True)\n",
    "for feature, score in sorted_scores:\n",
    "    print(f\"{feature}: {score}\")"
   ]
  },
  {
   "cell_type": "markdown",
   "metadata": {},
   "source": [
    "Variance scores (less variance, less changing, less influence)"
   ]
  },
  {
   "cell_type": "code",
   "execution_count": 45,
   "metadata": {},
   "outputs": [
    {
     "name": "stdout",
     "output_type": "stream",
     "text": [
      "stcpb: 1.8524566231775012e+18\n",
      "dtcpb: 1.8443214804149384e+18\n",
      "Sload: 2.7158955220927284e+16\n",
      "Dload: 14860543347224.467\n",
      "sbytes: 69352825252.78777\n",
      "dbytes: 48370344756.097916\n",
      "res_bdy_len: 5980357121.061846\n",
      "Sjit: 1136175794.1396408\n",
      "Djit: 16476526.848738989\n",
      "Sintpkt: 2030316.5657057716\n",
      "Dintpkt: 1321923.2694839875\n",
      "dmeansz: 118178.94191965194\n",
      "smeansz: 64881.611820402475\n",
      "Spkts: 42179.828074094214\n",
      "Dpkts: 27783.305468381357\n",
      "dttl: 12641.4905353122\n",
      "sttl: 10504.63908953219\n",
      "sloss: 9843.48733925615\n",
      "dwin: 7039.391926556404\n",
      "swin: 7021.885938883183\n",
      "dloss: 6396.629104652763\n",
      "proto: 42.17572912353757\n",
      "dur: 21.308585436472022\n",
      "ct_srv_src: 17.55000289031414\n",
      "ct_srv_dst: 15.492851235565428\n",
      "ct_src_ ltm: 13.613497281226861\n",
      "service: 9.238230654063331\n",
      "ct_dst_src_ltm: 8.959789992507671\n",
      "ct_dst_ltm: 7.8140109007109455\n",
      "ct_src_dport_ltm: 1.5905583000010974\n",
      "trans_depth: 1.06637380572795\n",
      "state: 0.826673386161653\n",
      "ct_flw_http_mthd: 0.39546246262166973\n",
      "ct_state_ttl: 0.3910912375369782\n",
      "ct_dst_sport_ltm: 0.28175214382888597\n",
      "is_ftp_login: 0.020341925279521847\n",
      "ct_ftp_cmd: 0.01594436759823075\n",
      "tcprtt: 0.006806237720967112\n",
      "synack: 0.0019742229290988346\n",
      "ackdat: 0.001817693850681481\n"
     ]
    }
   ],
   "source": [
    "sorted_scores = sorted(zip(X_train.columns, X_train.var()), key=lambda x: x[1], reverse=True)\n",
    "for feature, score in sorted_scores:\n",
    "    print(f\"{feature}: {score}\")"
   ]
  },
  {
   "cell_type": "code",
   "execution_count": 44,
   "metadata": {},
   "outputs": [
    {
     "name": "stdout",
     "output_type": "stream",
     "text": [
      "stcpb: 2.0236464173753324e+18\n",
      "dtcpb: 2.0177744006086075e+18\n",
      "sload: 4.506748474424236e+16\n",
      "dload: 9582894106947.748\n",
      "sbytes: 52707216328.71993\n",
      "dbytes: 32494822621.741356\n",
      "response_body_len: 4512953456.358787\n",
      "sjit: 1756006261.4898348\n",
      "djit: 24527893.08317336\n",
      "sinpkt: 20795487.66619413\n",
      "dinpkt: 1261380.0436097188\n",
      "dmean: 95806.90866214248\n",
      "smean: 64349.542758434916\n",
      "spkts: 31911.36219378873\n",
      "dpkts: 18993.910270307213\n",
      "dttl: 13331.434883573253\n",
      "dwin: 12327.518146945242\n",
      "swin: 12139.215907513393\n",
      "sttl: 11525.036003047142\n",
      "sloss: 7509.014377709902\n",
      "dloss: 4350.924662566033\n",
      "proto: 112.64720373382413\n",
      "ct_srv_src: 41.30055107732153\n",
      "ct_srv_dst: 40.288910872712115\n",
      "ct_dst_src_ltm: 39.17002227258471\n",
      "ct_src_ltm: 24.5877193239083\n",
      "dur: 24.43477323057855\n",
      "ct_dst_ltm: 16.993386686314583\n",
      "ct_src_dport_ltm: 11.765195852379858\n",
      "service: 7.90969066250328\n",
      "ct_dst_sport_ltm: 4.476394171853605\n",
      "trans_depth: 1.0112701264248793\n",
      "ct_state_ttl: 0.7122960978043681\n",
      "state: 0.7005103875020753\n",
      "ct_flw_http_mthd: 0.34689055298956817\n",
      "is_ftp_login: 0.01873929008628777\n",
      "ct_ftp_cmd: 0.01873929008628777\n",
      "tcprtt: 0.008513195460225081\n",
      "is_sm_ips_ports: 0.0053527962451039674\n",
      "synack: 0.002620959612295275\n",
      "ackdat: 0.00224703090592015\n"
     ]
    }
   ],
   "source": [
    "\n",
    "sorted_scores = sorted(zip(auX_train.columns, auX_train.var()), key=lambda x: x[1], reverse=True)\n",
    "for feature, score in sorted_scores:\n",
    "    print(f\"{feature}: {score}\")"
   ]
  },
  {
   "cell_type": "markdown",
   "metadata": {},
   "source": [
    "## Other stuff"
   ]
  },
  {
   "cell_type": "code",
   "execution_count": 5,
   "metadata": {},
   "outputs": [],
   "source": [
    "#Combine train and test into one dataset\n",
    "df = pd.concat([train,test],axis=0)\n"
   ]
  },
  {
   "cell_type": "code",
   "execution_count": 40,
   "metadata": {},
   "outputs": [
    {
     "name": "stdout",
     "output_type": "stream",
     "text": [
      "82462\n",
      "35342\n",
      "82462\n",
      "35342\n"
     ]
    }
   ],
   "source": [
    "print(len(train))\n",
    "print(len(test))\n",
    "train = train.drop_duplicates()\n",
    "test = test.drop_duplicates()\n",
    "print(len(train))\n",
    "print(len(test))"
   ]
  },
  {
   "cell_type": "code",
   "execution_count": 69,
   "metadata": {},
   "outputs": [],
   "source": [
    "x_train = train.drop(['label'], axis = 1)\n",
    "y_train = train['label']\n",
    "x_test = test.drop(['label'], axis = 1)\n",
    "y_test = test['label']"
   ]
  },
  {
   "cell_type": "code",
   "execution_count": 4,
   "metadata": {},
   "outputs": [
    {
     "name": "stderr",
     "output_type": "stream",
     "text": [
      "C:\\Users\\sathi\\AppData\\Local\\Temp\\ipykernel_14508\\163669101.py:1: DtypeWarning: Columns (1,3,39,47) have mixed types. Specify dtype option on import or set low_memory=False.\n",
      "  df = pd.read_csv(r'D:\\Project Phase II\\Dataset\\completedataset.csv',encoding='cp1252')\n"
     ]
    }
   ],
   "source": [
    "df = pd.read_csv(r'D:\\Project Phase II\\Dataset\\completedataset.csv',encoding='cp1252')"
   ]
  },
  {
   "cell_type": "code",
   "execution_count": 69,
   "metadata": {},
   "outputs": [
    {
     "name": "stderr",
     "output_type": "stream",
     "text": [
      "C:\\Users\\sathi\\AppData\\Local\\Temp\\ipykernel_14508\\2366140196.py:2: DtypeWarning: Columns (3,39,47) have mixed types. Specify dtype option on import or set low_memory=False.\n",
      "  df2 = pd.read_csv(r'D:\\Project Phase II\\Dataset\\2 UNSW-NB15_2.csv',encoding='cp1252')\n",
      "C:\\Users\\sathi\\AppData\\Local\\Temp\\ipykernel_14508\\2366140196.py:3: DtypeWarning: Columns (1,3,47) have mixed types. Specify dtype option on import or set low_memory=False.\n",
      "  df1 = pd.read_csv(r'D:\\Project Phase II\\Dataset\\3 UNSW-NB15_1.csv',encoding='cp1252')\n"
     ]
    }
   ],
   "source": [
    "df3 = pd.read_csv(r'D:\\Project Phase II\\Dataset\\1 UNSW-NB15_3_with_headers.csv',encoding='cp1252')\n",
    "df2 = pd.read_csv(r'D:\\Project Phase II\\Dataset\\2 UNSW-NB15_2.csv',encoding='cp1252')\n",
    "df1 = pd.read_csv(r'D:\\Project Phase II\\Dataset\\3 UNSW-NB15_1.csv',encoding='cp1252')\n",
    "df4 = pd.read_csv(r'D:\\Project Phase II\\Dataset\\4 UNSW-NB15_4.csv',encoding='cp1252')\n",
    "df1.columns = df3.columns\n",
    "df2.columns = df3.columns\n",
    "df4.columns = df3.columns"
   ]
  },
  {
   "cell_type": "code",
   "execution_count": 52,
   "metadata": {},
   "outputs": [],
   "source": [
    "autrain = pd.read_csv(r'D:\\Project Phase II\\Dataset\\UNSW_NB15_training-set.csv',encoding='cp1252')\n",
    "autest = pd.read_csv(r'D:\\Project Phase II\\Dataset\\UNSW_NB15_testing-set.csv',encoding='cp1252')"
   ]
  },
  {
   "cell_type": "code",
   "execution_count": 16,
   "metadata": {},
   "outputs": [
    {
     "data": {
      "text/plain": [
       "['Dintpkt',\n",
       " 'Djit',\n",
       " 'Dload',\n",
       " 'Dpkts',\n",
       " 'Label',\n",
       " 'Ltime',\n",
       " 'Sintpkt',\n",
       " 'Sjit',\n",
       " 'Sload',\n",
       " 'Spkts',\n",
       " 'Stime',\n",
       " 'ackdat',\n",
       " 'attack_cat',\n",
       " 'ct_dst_ltm',\n",
       " 'ct_dst_sport_ltm',\n",
       " 'ct_dst_src_ltm',\n",
       " 'ct_flw_http_mthd',\n",
       " 'ct_ftp_cmd',\n",
       " 'ct_src_ ltm',\n",
       " 'ct_src_dport_ltm',\n",
       " 'ct_srv_dst',\n",
       " 'ct_srv_src',\n",
       " 'ct_state_ttl',\n",
       " 'dbytes',\n",
       " 'dloss',\n",
       " 'dmeansz',\n",
       " 'dsport',\n",
       " 'dstip',\n",
       " 'dtcpb',\n",
       " 'dttl',\n",
       " 'dur',\n",
       " 'dwin',\n",
       " 'is_ftp_login',\n",
       " 'is_sm_ips_ports',\n",
       " 'proto',\n",
       " 'res_bdy_len',\n",
       " 'sbytes',\n",
       " 'service',\n",
       " 'sloss',\n",
       " 'smeansz',\n",
       " 'sport',\n",
       " 'srcip',\n",
       " 'state',\n",
       " 'stcpb',\n",
       " 'sttl',\n",
       " 'swin',\n",
       " 'synack',\n",
       " 'tcprtt',\n",
       " 'trans_depth']"
      ]
     },
     "execution_count": 16,
     "metadata": {},
     "output_type": "execute_result"
    }
   ],
   "source": [
    "sorted(df.columns)"
   ]
  },
  {
   "cell_type": "code",
   "execution_count": null,
   "metadata": {},
   "outputs": [],
   "source": [
    "'srcip', 'sport', 'dstip', 'dsport', 'Stime', 'Ltime', \n",
    "\n",
    "'ï»¿id', 'rate', "
   ]
  },
  {
   "cell_type": "code",
   "execution_count": 14,
   "metadata": {},
   "outputs": [
    {
     "data": {
      "text/plain": [
       "45"
      ]
     },
     "execution_count": 14,
     "metadata": {},
     "output_type": "execute_result"
    }
   ],
   "source": [
    "len(autrain.columns)"
   ]
  },
  {
   "cell_type": "code",
   "execution_count": 70,
   "metadata": {},
   "outputs": [],
   "source": [
    "#REname columns\n",
    "#Change column names of df\n",
    "df1.rename(columns={'Dintpkt':'dintpkt','Djit':'djit','Dload':'dload','Dpkts':'dpkts','Label':'label','Sintpkt':'sintpkt','Sjit':'sjit','Sload': 'sload', 'Spkts':'spkts','dmeansz':'dmean','res_bdy_len':'response_body_len', 'smeansz':'smean',}, inplace=True)\n",
    "#Change column names of df\n",
    "df2.rename(columns={'Dintpkt':'dintpkt','Djit':'djit','Dload':'dload','Dpkts':'dpkts','Label':'label','Sintpkt':'sintpkt','Sjit':'sjit','Sload': 'sload', 'Spkts':'spkts','dmeansz':'dmean','res_bdy_len':'response_body_len', 'smeansz':'smean',}, inplace=True)\n",
    "#Change column names of df\n",
    "df3.rename(columns={'Dintpkt':'dintpkt','Djit':'djit','Dload':'dload','Dpkts':'dpkts','Label':'label','Sintpkt':'sintpkt','Sjit':'sjit','Sload': 'sload', 'Spkts':'spkts','dmeansz':'dmean','res_bdy_len':'response_body_len', 'smeansz':'smean',}, inplace=True)\n",
    "#Change column names of df\n",
    "df4.rename(columns={'Dintpkt':'dintpkt','Djit':'djit','Dload':'dload','Dpkts':'dpkts','Label':'label','Sintpkt':'sintpkt','Sjit':'sjit','Sload': 'sload', 'Spkts':'spkts','dmeansz':'dmean','res_bdy_len':'response_body_len', 'smeansz':'smean',}, inplace=True)"
   ]
  },
  {
   "cell_type": "code",
   "execution_count": 61,
   "metadata": {},
   "outputs": [],
   "source": [
    "#Change column names of df\n",
    "df.rename(columns={'Dintpkt':'dintpkt','Djit':'djit','Dload':'dload','Dpkts':'dpkts','Label':'label','Sintpkt':'sintpkt','Sjit':'sjit','Sload': 'sload', 'Spkts':'spkts','dmeansz':'dmean','res_bdy_len':'response_body_len', 'smeansz':'smean',}, inplace=True)"
   ]
  },
  {
   "cell_type": "code",
   "execution_count": 15,
   "metadata": {},
   "outputs": [
    {
     "data": {
      "text/plain": [
       "['ackdat',\n",
       " 'attack_cat',\n",
       " 'ct_dst_ltm',\n",
       " 'ct_dst_sport_ltm',\n",
       " 'ct_dst_src_ltm',\n",
       " 'ct_flw_http_mthd',\n",
       " 'ct_ftp_cmd',\n",
       " 'ct_src_dport_ltm',\n",
       " 'ct_src_ltm',\n",
       " 'ct_srv_dst',\n",
       " 'ct_srv_src',\n",
       " 'ct_state_ttl',\n",
       " 'dbytes',\n",
       " 'dinpkt',\n",
       " 'djit',\n",
       " 'dload',\n",
       " 'dloss',\n",
       " 'dmean',\n",
       " 'dpkts',\n",
       " 'dtcpb',\n",
       " 'dttl',\n",
       " 'dur',\n",
       " 'dwin',\n",
       " 'is_ftp_login',\n",
       " 'is_sm_ips_ports',\n",
       " 'label',\n",
       " 'proto',\n",
       " 'rate',\n",
       " 'response_body_len',\n",
       " 'sbytes',\n",
       " 'service',\n",
       " 'sinpkt',\n",
       " 'sjit',\n",
       " 'sload',\n",
       " 'sloss',\n",
       " 'smean',\n",
       " 'spkts',\n",
       " 'state',\n",
       " 'stcpb',\n",
       " 'sttl',\n",
       " 'swin',\n",
       " 'synack',\n",
       " 'tcprtt',\n",
       " 'trans_depth',\n",
       " 'ï»¿id']"
      ]
     },
     "execution_count": 15,
     "metadata": {},
     "output_type": "execute_result"
    }
   ],
   "source": [
    "sorted(autrain.columns)"
   ]
  },
  {
   "cell_type": "code",
   "execution_count": 71,
   "metadata": {},
   "outputs": [],
   "source": [
    "df1 = df1[df1['is_sm_ips_ports'] == 0]\n",
    "df2 = df2[df2['is_sm_ips_ports'] == 0]\n",
    "df3 = df3[df3['is_sm_ips_ports'] == 0]\n",
    "df4 = df4[df4['is_sm_ips_ports'] == 0]"
   ]
  },
  {
   "cell_type": "code",
   "execution_count": 72,
   "metadata": {},
   "outputs": [],
   "source": [
    "df1 = df1.drop(['is_sm_ips_ports'], axis = 1)\n",
    "df2 = df2.drop(['is_sm_ips_ports'], axis = 1)\n",
    "df3 = df3.drop(['is_sm_ips_ports'], axis = 1)\n",
    "df4 = df4.drop(['is_sm_ips_ports'], axis = 1)"
   ]
  },
  {
   "cell_type": "code",
   "execution_count": 73,
   "metadata": {},
   "outputs": [],
   "source": [
    "df1 = df1.drop_duplicates()\n",
    "df2 = df2.drop_duplicates()\n",
    "df3 = df3.drop_duplicates()\n",
    "df4 = df4.drop_duplicates()"
   ]
  },
  {
   "cell_type": "code",
   "execution_count": 75,
   "metadata": {},
   "outputs": [
    {
     "name": "stdout",
     "output_type": "stream",
     "text": [
      "639916\n",
      "635875\n",
      "474551\n",
      "306336\n"
     ]
    }
   ],
   "source": [
    "print(len(df1))\n",
    "print(len(df2))\n",
    "print(len(df3))\n",
    "print(len(df4))"
   ]
  },
  {
   "cell_type": "code",
   "execution_count": 53,
   "metadata": {},
   "outputs": [],
   "source": [
    "autrain1 = autrain.drop(['ï»¿id','rate'], axis = 1)\n",
    "autest1 = autest.drop(['ï»¿id','rate'], axis = 1)"
   ]
  },
  {
   "cell_type": "code",
   "execution_count": 54,
   "metadata": {},
   "outputs": [],
   "source": [
    "autrain = autrain[autrain['is_sm_ips_ports'] == 0]\n",
    "autrain = autrain.drop(['is_sm_ips_ports'], axis = 1)"
   ]
  },
  {
   "cell_type": "code",
   "execution_count": 55,
   "metadata": {},
   "outputs": [],
   "source": [
    "autest = autest[autest['is_sm_ips_ports'] == 0]\n",
    "autest = autest.drop(['is_sm_ips_ports'], axis = 1)"
   ]
  },
  {
   "cell_type": "code",
   "execution_count": 56,
   "metadata": {},
   "outputs": [],
   "source": [
    "autrain1 = autrain1.drop_duplicates()\n",
    "autest1 = autest1.drop_duplicates()"
   ]
  },
  {
   "cell_type": "code",
   "execution_count": 83,
   "metadata": {},
   "outputs": [
    {
     "name": "stdout",
     "output_type": "stream",
     "text": [
      "172579\n",
      "107740\n",
      "81416\n",
      "55945\n",
      "2540047\n",
      "639916\n"
     ]
    }
   ],
   "source": [
    "print(len(autrain))\n",
    "print(len(autrain1))\n",
    "print(len(autest))\n",
    "print(len(autest1))\n",
    "print(len(df))\n",
    "print(len(df1))"
   ]
  },
  {
   "cell_type": "code",
   "execution_count": null,
   "metadata": {},
   "outputs": [],
   "source": []
  },
  {
   "cell_type": "code",
   "execution_count": 90,
   "metadata": {},
   "outputs": [],
   "source": [
    "# Replace empty strings with NaN\n",
    "df3['ct_ftp_cmd'] = df3['ct_ftp_cmd'].replace('', pd.NA)\n",
    "df4['ct_ftp_cmd'] = df4['ct_ftp_cmd'].replace('', pd.NA)\n",
    "\n",
    "# Convert to integer (nullable)\n",
    "df3['ct_ftp_cmd'] = pd.to_numeric(df3['ct_ftp_cmd'], errors='coerce', downcast='integer')\n",
    "df4['ct_ftp_cmd'] = pd.to_numeric(df4['ct_ftp_cmd'], errors='coerce', downcast='integer')"
   ]
  },
  {
   "cell_type": "code",
   "execution_count": 91,
   "metadata": {},
   "outputs": [],
   "source": [
    "autrainfull1 = pd.merge(autrain1,df1,how='inner')\n",
    "autestfull1 = pd.merge(autest1,df1,how='inner')\n",
    "\n",
    "autrainfull2 = pd.merge(autrain1,df2,how='inner')\n",
    "autestfull2 = pd.merge(autest1,df2,how='inner')\n",
    "\n",
    "autrainfull3 = pd.merge(autrain1,df3,how='inner')\n",
    "autestfull3 = pd.merge(autest1,df3,how='inner')\n",
    "\n",
    "autrainfull4 = pd.merge(autrain1,df4,how='inner')\n",
    "autestfull4 = pd.merge(autest1,df4,how='inner')"
   ]
  },
  {
   "cell_type": "code",
   "execution_count": 92,
   "metadata": {},
   "outputs": [
    {
     "name": "stdout",
     "output_type": "stream",
     "text": [
      "2609\n",
      "13174\n",
      "0\n",
      "0\n",
      "0\n",
      "0\n",
      "0\n",
      "0\n"
     ]
    }
   ],
   "source": [
    "print(len(autrainfull1))\n",
    "print(len(autestfull1))\n",
    "\n",
    "print(len(autrainfull2))\n",
    "print(len(autestfull2))\n",
    "\n",
    "print(len(autrainfull3))\n",
    "print(len(autestfull3))\n",
    "\n",
    "print(len(autrainfull4))\n",
    "print(len(autestfull4))"
   ]
  },
  {
   "cell_type": "code",
   "execution_count": 62,
   "metadata": {},
   "outputs": [],
   "source": [
    "df1 = df.drop_duplicates()"
   ]
  },
  {
   "cell_type": "code",
   "execution_count": null,
   "metadata": {},
   "outputs": [],
   "source": [
    "#label encode autrain1 and autest1\n"
   ]
  },
  {
   "cell_type": "code",
   "execution_count": 71,
   "metadata": {},
   "outputs": [],
   "source": [
    "#Find out 'srcip', 'sport', 'dstip', 'dsport', 'Stime', 'Ltime' values of records present in autrain from df\n",
    "autrainfull = pd.merge(autrain1,df1,how='inner')\n",
    "autestfull = pd.merge(autest1,df1,how='inner')"
   ]
  },
  {
   "cell_type": "code",
   "execution_count": 64,
   "metadata": {},
   "outputs": [
    {
     "data": {
      "text/html": [
       "<div>\n",
       "<style scoped>\n",
       "    .dataframe tbody tr th:only-of-type {\n",
       "        vertical-align: middle;\n",
       "    }\n",
       "\n",
       "    .dataframe tbody tr th {\n",
       "        vertical-align: top;\n",
       "    }\n",
       "\n",
       "    .dataframe thead th {\n",
       "        text-align: right;\n",
       "    }\n",
       "</style>\n",
       "<table border=\"1\" class=\"dataframe\">\n",
       "  <thead>\n",
       "    <tr style=\"text-align: right;\">\n",
       "      <th></th>\n",
       "      <th>dur</th>\n",
       "      <th>proto</th>\n",
       "      <th>service</th>\n",
       "      <th>state</th>\n",
       "      <th>spkts</th>\n",
       "      <th>dpkts</th>\n",
       "      <th>sbytes</th>\n",
       "      <th>dbytes</th>\n",
       "      <th>sttl</th>\n",
       "      <th>dttl</th>\n",
       "      <th>...</th>\n",
       "      <th>label</th>\n",
       "      <th>srcip</th>\n",
       "      <th>sport</th>\n",
       "      <th>dstip</th>\n",
       "      <th>dsport</th>\n",
       "      <th>Stime</th>\n",
       "      <th>Ltime</th>\n",
       "      <th>sintpkt</th>\n",
       "      <th>dintpkt</th>\n",
       "      <th>ct_src_ ltm</th>\n",
       "    </tr>\n",
       "  </thead>\n",
       "  <tbody>\n",
       "    <tr>\n",
       "      <th>0</th>\n",
       "      <td>0.00</td>\n",
       "      <td>udp</td>\n",
       "      <td>-</td>\n",
       "      <td>INT</td>\n",
       "      <td>2</td>\n",
       "      <td>0</td>\n",
       "      <td>168</td>\n",
       "      <td>0</td>\n",
       "      <td>254</td>\n",
       "      <td>0</td>\n",
       "      <td>...</td>\n",
       "      <td>1</td>\n",
       "      <td>175.45.176.1</td>\n",
       "      <td>37761</td>\n",
       "      <td>149.171.126.11</td>\n",
       "      <td>111</td>\n",
       "      <td>1421927800</td>\n",
       "      <td>1421927800</td>\n",
       "      <td>0.00</td>\n",
       "      <td>0.00</td>\n",
       "      <td>1</td>\n",
       "    </tr>\n",
       "    <tr>\n",
       "      <th>1</th>\n",
       "      <td>0.00</td>\n",
       "      <td>udp</td>\n",
       "      <td>-</td>\n",
       "      <td>INT</td>\n",
       "      <td>2</td>\n",
       "      <td>0</td>\n",
       "      <td>168</td>\n",
       "      <td>0</td>\n",
       "      <td>254</td>\n",
       "      <td>0</td>\n",
       "      <td>...</td>\n",
       "      <td>1</td>\n",
       "      <td>175.45.176.1</td>\n",
       "      <td>49049</td>\n",
       "      <td>149.171.126.11</td>\n",
       "      <td>111</td>\n",
       "      <td>1421929059</td>\n",
       "      <td>1421929059</td>\n",
       "      <td>0.00</td>\n",
       "      <td>0.00</td>\n",
       "      <td>1</td>\n",
       "    </tr>\n",
       "    <tr>\n",
       "      <th>2</th>\n",
       "      <td>0.00</td>\n",
       "      <td>udp</td>\n",
       "      <td>-</td>\n",
       "      <td>INT</td>\n",
       "      <td>2</td>\n",
       "      <td>0</td>\n",
       "      <td>168</td>\n",
       "      <td>0</td>\n",
       "      <td>254</td>\n",
       "      <td>0</td>\n",
       "      <td>...</td>\n",
       "      <td>1</td>\n",
       "      <td>175.45.176.3</td>\n",
       "      <td>25743</td>\n",
       "      <td>149.171.126.16</td>\n",
       "      <td>111</td>\n",
       "      <td>1421930235</td>\n",
       "      <td>1421930235</td>\n",
       "      <td>0.00</td>\n",
       "      <td>0.00</td>\n",
       "      <td>1</td>\n",
       "    </tr>\n",
       "    <tr>\n",
       "      <th>3</th>\n",
       "      <td>0.00</td>\n",
       "      <td>udp</td>\n",
       "      <td>-</td>\n",
       "      <td>INT</td>\n",
       "      <td>2</td>\n",
       "      <td>0</td>\n",
       "      <td>168</td>\n",
       "      <td>0</td>\n",
       "      <td>254</td>\n",
       "      <td>0</td>\n",
       "      <td>...</td>\n",
       "      <td>1</td>\n",
       "      <td>175.45.176.1</td>\n",
       "      <td>24044</td>\n",
       "      <td>149.171.126.18</td>\n",
       "      <td>111</td>\n",
       "      <td>1421932199</td>\n",
       "      <td>1421932199</td>\n",
       "      <td>0.00</td>\n",
       "      <td>0.00</td>\n",
       "      <td>1</td>\n",
       "    </tr>\n",
       "    <tr>\n",
       "      <th>4</th>\n",
       "      <td>0.00</td>\n",
       "      <td>udp</td>\n",
       "      <td>-</td>\n",
       "      <td>INT</td>\n",
       "      <td>2</td>\n",
       "      <td>0</td>\n",
       "      <td>168</td>\n",
       "      <td>0</td>\n",
       "      <td>254</td>\n",
       "      <td>0</td>\n",
       "      <td>...</td>\n",
       "      <td>1</td>\n",
       "      <td>175.45.176.0</td>\n",
       "      <td>21334</td>\n",
       "      <td>149.171.126.13</td>\n",
       "      <td>111</td>\n",
       "      <td>1421933989</td>\n",
       "      <td>1421933989</td>\n",
       "      <td>0.00</td>\n",
       "      <td>0.00</td>\n",
       "      <td>1</td>\n",
       "    </tr>\n",
       "    <tr>\n",
       "      <th>...</th>\n",
       "      <td>...</td>\n",
       "      <td>...</td>\n",
       "      <td>...</td>\n",
       "      <td>...</td>\n",
       "      <td>...</td>\n",
       "      <td>...</td>\n",
       "      <td>...</td>\n",
       "      <td>...</td>\n",
       "      <td>...</td>\n",
       "      <td>...</td>\n",
       "      <td>...</td>\n",
       "      <td>...</td>\n",
       "      <td>...</td>\n",
       "      <td>...</td>\n",
       "      <td>...</td>\n",
       "      <td>...</td>\n",
       "      <td>...</td>\n",
       "      <td>...</td>\n",
       "      <td>...</td>\n",
       "      <td>...</td>\n",
       "      <td>...</td>\n",
       "    </tr>\n",
       "    <tr>\n",
       "      <th>2395</th>\n",
       "      <td>0.00</td>\n",
       "      <td>udp</td>\n",
       "      <td>dns</td>\n",
       "      <td>INT</td>\n",
       "      <td>2</td>\n",
       "      <td>0</td>\n",
       "      <td>114</td>\n",
       "      <td>0</td>\n",
       "      <td>254</td>\n",
       "      <td>0</td>\n",
       "      <td>...</td>\n",
       "      <td>1</td>\n",
       "      <td>175.45.176.1</td>\n",
       "      <td>47439</td>\n",
       "      <td>149.171.126.18</td>\n",
       "      <td>53</td>\n",
       "      <td>1421933216</td>\n",
       "      <td>1421933216</td>\n",
       "      <td>0.00</td>\n",
       "      <td>0.00</td>\n",
       "      <td>6</td>\n",
       "    </tr>\n",
       "    <tr>\n",
       "      <th>2396</th>\n",
       "      <td>0.00</td>\n",
       "      <td>udp</td>\n",
       "      <td>dns</td>\n",
       "      <td>INT</td>\n",
       "      <td>2</td>\n",
       "      <td>0</td>\n",
       "      <td>114</td>\n",
       "      <td>0</td>\n",
       "      <td>254</td>\n",
       "      <td>0</td>\n",
       "      <td>...</td>\n",
       "      <td>1</td>\n",
       "      <td>175.45.176.1</td>\n",
       "      <td>47439</td>\n",
       "      <td>149.171.126.18</td>\n",
       "      <td>53</td>\n",
       "      <td>1421933234</td>\n",
       "      <td>1421933234</td>\n",
       "      <td>0.00</td>\n",
       "      <td>0.00</td>\n",
       "      <td>6</td>\n",
       "    </tr>\n",
       "    <tr>\n",
       "      <th>2397</th>\n",
       "      <td>0.00</td>\n",
       "      <td>udp</td>\n",
       "      <td>-</td>\n",
       "      <td>INT</td>\n",
       "      <td>2</td>\n",
       "      <td>0</td>\n",
       "      <td>168</td>\n",
       "      <td>0</td>\n",
       "      <td>254</td>\n",
       "      <td>0</td>\n",
       "      <td>...</td>\n",
       "      <td>1</td>\n",
       "      <td>175.45.176.3</td>\n",
       "      <td>52790</td>\n",
       "      <td>149.171.126.15</td>\n",
       "      <td>111</td>\n",
       "      <td>1421931683</td>\n",
       "      <td>1421931683</td>\n",
       "      <td>0.01</td>\n",
       "      <td>0.00</td>\n",
       "      <td>1</td>\n",
       "    </tr>\n",
       "    <tr>\n",
       "      <th>2398</th>\n",
       "      <td>0.00</td>\n",
       "      <td>udp</td>\n",
       "      <td>-</td>\n",
       "      <td>INT</td>\n",
       "      <td>2</td>\n",
       "      <td>0</td>\n",
       "      <td>168</td>\n",
       "      <td>0</td>\n",
       "      <td>254</td>\n",
       "      <td>0</td>\n",
       "      <td>...</td>\n",
       "      <td>1</td>\n",
       "      <td>175.45.176.3</td>\n",
       "      <td>43826</td>\n",
       "      <td>149.171.126.10</td>\n",
       "      <td>111</td>\n",
       "      <td>1421929185</td>\n",
       "      <td>1421929185</td>\n",
       "      <td>0.02</td>\n",
       "      <td>0.00</td>\n",
       "      <td>2</td>\n",
       "    </tr>\n",
       "    <tr>\n",
       "      <th>2399</th>\n",
       "      <td>0.00</td>\n",
       "      <td>udp</td>\n",
       "      <td>-</td>\n",
       "      <td>INT</td>\n",
       "      <td>2</td>\n",
       "      <td>0</td>\n",
       "      <td>168</td>\n",
       "      <td>0</td>\n",
       "      <td>254</td>\n",
       "      <td>0</td>\n",
       "      <td>...</td>\n",
       "      <td>1</td>\n",
       "      <td>175.45.176.1</td>\n",
       "      <td>22848</td>\n",
       "      <td>149.171.126.17</td>\n",
       "      <td>111</td>\n",
       "      <td>1421928491</td>\n",
       "      <td>1421928491</td>\n",
       "      <td>0.00</td>\n",
       "      <td>0.00</td>\n",
       "      <td>1</td>\n",
       "    </tr>\n",
       "  </tbody>\n",
       "</table>\n",
       "<p>2400 rows × 52 columns</p>\n",
       "</div>"
      ],
      "text/plain": [
       "      dur proto service state  spkts  dpkts  sbytes  dbytes  sttl  dttl  ...  \\\n",
       "0    0.00   udp       -   INT      2      0     168       0   254     0  ...   \n",
       "1    0.00   udp       -   INT      2      0     168       0   254     0  ...   \n",
       "2    0.00   udp       -   INT      2      0     168       0   254     0  ...   \n",
       "3    0.00   udp       -   INT      2      0     168       0   254     0  ...   \n",
       "4    0.00   udp       -   INT      2      0     168       0   254     0  ...   \n",
       "...   ...   ...     ...   ...    ...    ...     ...     ...   ...   ...  ...   \n",
       "2395 0.00   udp     dns   INT      2      0     114       0   254     0  ...   \n",
       "2396 0.00   udp     dns   INT      2      0     114       0   254     0  ...   \n",
       "2397 0.00   udp       -   INT      2      0     168       0   254     0  ...   \n",
       "2398 0.00   udp       -   INT      2      0     168       0   254     0  ...   \n",
       "2399 0.00   udp       -   INT      2      0     168       0   254     0  ...   \n",
       "\n",
       "      label         srcip  sport           dstip  dsport       Stime  \\\n",
       "0         1  175.45.176.1  37761  149.171.126.11     111  1421927800   \n",
       "1         1  175.45.176.1  49049  149.171.126.11     111  1421929059   \n",
       "2         1  175.45.176.3  25743  149.171.126.16     111  1421930235   \n",
       "3         1  175.45.176.1  24044  149.171.126.18     111  1421932199   \n",
       "4         1  175.45.176.0  21334  149.171.126.13     111  1421933989   \n",
       "...     ...           ...    ...             ...     ...         ...   \n",
       "2395      1  175.45.176.1  47439  149.171.126.18      53  1421933216   \n",
       "2396      1  175.45.176.1  47439  149.171.126.18      53  1421933234   \n",
       "2397      1  175.45.176.3  52790  149.171.126.15     111  1421931683   \n",
       "2398      1  175.45.176.3  43826  149.171.126.10     111  1421929185   \n",
       "2399      1  175.45.176.1  22848  149.171.126.17     111  1421928491   \n",
       "\n",
       "           Ltime  sintpkt  dintpkt  ct_src_ ltm  \n",
       "0     1421927800     0.00     0.00            1  \n",
       "1     1421929059     0.00     0.00            1  \n",
       "2     1421930235     0.00     0.00            1  \n",
       "3     1421932199     0.00     0.00            1  \n",
       "4     1421933989     0.00     0.00            1  \n",
       "...          ...      ...      ...          ...  \n",
       "2395  1421933216     0.00     0.00            6  \n",
       "2396  1421933234     0.00     0.00            6  \n",
       "2397  1421931683     0.01     0.00            1  \n",
       "2398  1421929185     0.02     0.00            2  \n",
       "2399  1421928491     0.00     0.00            1  \n",
       "\n",
       "[2400 rows x 52 columns]"
      ]
     },
     "execution_count": 64,
     "metadata": {},
     "output_type": "execute_result"
    }
   ],
   "source": [
    "autrainfull"
   ]
  },
  {
   "cell_type": "code",
   "execution_count": 65,
   "metadata": {},
   "outputs": [
    {
     "data": {
      "text/plain": [
       "Index(['dur', 'proto', 'service', 'state', 'spkts', 'dpkts', 'sbytes',\n",
       "       'dbytes', 'sttl', 'dttl', 'sload', 'dload', 'sloss', 'dloss', 'sinpkt',\n",
       "       'dinpkt', 'sjit', 'djit', 'swin', 'stcpb', 'dtcpb', 'dwin', 'tcprtt',\n",
       "       'synack', 'ackdat', 'smean', 'dmean', 'trans_depth',\n",
       "       'response_body_len', 'ct_srv_src', 'ct_state_ttl', 'ct_dst_ltm',\n",
       "       'ct_src_dport_ltm', 'ct_dst_sport_ltm', 'ct_dst_src_ltm',\n",
       "       'is_ftp_login', 'ct_ftp_cmd', 'ct_flw_http_mthd', 'ct_src_ltm',\n",
       "       'ct_srv_dst', 'is_sm_ips_ports', 'attack_cat', 'label', 'srcip',\n",
       "       'sport', 'dstip', 'dsport', 'Stime', 'Ltime', 'sintpkt', 'dintpkt',\n",
       "       'ct_src_ ltm'],\n",
       "      dtype='object')"
      ]
     },
     "execution_count": 65,
     "metadata": {},
     "output_type": "execute_result"
    }
   ],
   "source": [
    "autestfull.columns"
   ]
  },
  {
   "cell_type": "code",
   "execution_count": 70,
   "metadata": {},
   "outputs": [],
   "source": [
    "df1 = df1.drop(['ct_src_dport_ltm', 'ct_dst_sport_ltm', 'ct_dst_src_ltm', 'is_ftp_login', 'ct_ftp_cmd', 'trans_depth', 'attack_cat' ],axis = 1)"
   ]
  },
  {
   "cell_type": "code",
   "execution_count": 69,
   "metadata": {},
   "outputs": [
    {
     "name": "stdout",
     "output_type": "stream",
     "text": [
      "label\n",
      "1    119341\n",
      "0     53238\n",
      "Name: count, dtype: int64\n",
      "label\n",
      "1    45332\n",
      "0    36084\n",
      "Name: count, dtype: int64\n"
     ]
    }
   ],
   "source": [
    "print(autrain.drop_duplicates().label.value_counts())\n",
    "print(autest.drop_duplicates().label.value_counts())"
   ]
  },
  {
   "cell_type": "code",
   "execution_count": 72,
   "metadata": {},
   "outputs": [
    {
     "name": "stdout",
     "output_type": "stream",
     "text": [
      "label\n",
      "0    123805\n",
      "1     16842\n",
      "Name: count, dtype: int64\n",
      "label\n",
      "0    62932\n",
      "1    28270\n",
      "Name: count, dtype: int64\n"
     ]
    }
   ],
   "source": [
    "print(autrainfull.label.value_counts())\n",
    "print(autestfull.label.value_counts())"
   ]
  },
  {
   "cell_type": "code",
   "execution_count": 75,
   "metadata": {},
   "outputs": [
    {
     "name": "stdout",
     "output_type": "stream",
     "text": [
      "label\n",
      "0    49192\n",
      "1    13473\n",
      "Name: count, dtype: int64\n",
      "label\n",
      "0    35811\n",
      "1    16920\n",
      "Name: count, dtype: int64\n"
     ]
    }
   ],
   "source": [
    "print(autrainfull.drop(['srcip','sport','dstip','dsport','Stime','Ltime'], axis =1).drop_duplicates().label.value_counts())\n",
    "print(autestfull.drop(['srcip','sport','dstip','dsport','Stime','Ltime'], axis =1).drop_duplicates().label.value_counts())"
   ]
  },
  {
   "cell_type": "code",
   "execution_count": 76,
   "metadata": {},
   "outputs": [],
   "source": [
    "autrainfull = autrainfull.drop_duplicates()\n",
    "autestfull = autestfull.drop_duplicates()"
   ]
  },
  {
   "cell_type": "code",
   "execution_count": 77,
   "metadata": {},
   "outputs": [],
   "source": [
    "autrainfull.to_csv(r'D:\\Project Phase II\\Dataset\\tracetrain.csv', index=False)\n",
    "autestfull.to_csv(r'D:\\Project Phase II\\Dataset\\tracetest.csv', index=False)"
   ]
  },
  {
   "cell_type": "code",
   "execution_count": 60,
   "metadata": {},
   "outputs": [
    {
     "name": "stdout",
     "output_type": "stream",
     "text": [
      "2400\n",
      "12720\n"
     ]
    }
   ],
   "source": [
    "print(len(autrainfull))\n",
    "print(len(autestfull))"
   ]
  },
  {
   "cell_type": "code",
   "execution_count": 30,
   "metadata": {},
   "outputs": [
    {
     "data": {
      "text/plain": [
       "array(['175.45.176.1', '175.45.176.3', '175.45.176.0', '175.45.176.2'],\n",
       "      dtype=object)"
      ]
     },
     "execution_count": 30,
     "metadata": {},
     "output_type": "execute_result"
    }
   ],
   "source": [
    "autrainfull['srcip'].unique()"
   ]
  },
  {
   "cell_type": "code",
   "execution_count": 51,
   "metadata": {},
   "outputs": [],
   "source": [
    "autrain1 = autrain1.drop_duplicates()"
   ]
  },
  {
   "cell_type": "code",
   "execution_count": 52,
   "metadata": {},
   "outputs": [
    {
     "data": {
      "text/plain": [
       "107740"
      ]
     },
     "execution_count": 52,
     "metadata": {},
     "output_type": "execute_result"
    }
   ],
   "source": [
    "len(autrain1)"
   ]
  },
  {
   "cell_type": "code",
   "execution_count": 53,
   "metadata": {},
   "outputs": [
    {
     "data": {
      "text/plain": [
       "4"
      ]
     },
     "execution_count": 53,
     "metadata": {},
     "output_type": "execute_result"
    }
   ],
   "source": [
    "df1 = df.drop_duplicates()\n",
    "len(df1)"
   ]
  },
  {
   "cell_type": "code",
   "execution_count": 56,
   "metadata": {},
   "outputs": [],
   "source": [
    "commoncols = ['ackdat',\n",
    " 'attack_cat',\n",
    " 'ct_dst_ltm',\n",
    " 'ct_dst_sport_ltm',\n",
    " 'ct_dst_src_ltm',\n",
    " 'ct_flw_http_mthd',\n",
    " 'ct_ftp_cmd',\n",
    " 'ct_src_dport_ltm',\n",
    " 'ct_src_ltm',\n",
    " 'ct_srv_dst',\n",
    " 'ct_srv_src',\n",
    " 'ct_state_ttl',\n",
    " 'dbytes',\n",
    " 'dinpkt',\n",
    " 'djit',\n",
    " 'dload',\n",
    " 'dloss',\n",
    " 'dmean',\n",
    " 'dpkts',\n",
    " 'dtcpb',\n",
    " 'dttl',\n",
    " 'dur',\n",
    " 'dwin',\n",
    " 'is_ftp_login',\n",
    " 'is_sm_ips_ports',\n",
    " 'label',\n",
    " 'proto',\n",
    " 'response_body_len',\n",
    " 'sbytes',\n",
    " 'service',\n",
    " 'sinpkt',\n",
    " 'sjit',\n",
    " 'sload',\n",
    " 'sloss',\n",
    " 'smean',\n",
    " 'spkts',\n",
    " 'state',\n",
    " 'stcpb',\n",
    " 'sttl',\n",
    " 'swin',\n",
    " 'synack',\n",
    " 'tcprtt',\n",
    " 'trans_depth']"
   ]
  },
  {
   "cell_type": "code",
   "execution_count": 60,
   "metadata": {},
   "outputs": [
    {
     "ename": "MergeError",
     "evalue": "No common columns to perform merge on. Merge options: left_on=None, right_on=None, left_index=False, right_index=False",
     "output_type": "error",
     "traceback": [
      "\u001b[1;31m---------------------------------------------------------------------------\u001b[0m",
      "\u001b[1;31mMergeError\u001b[0m                                Traceback (most recent call last)",
      "Cell \u001b[1;32mIn[60], line 1\u001b[0m\n\u001b[1;32m----> 1\u001b[0m autrainfull \u001b[38;5;241m=\u001b[39m pd\u001b[38;5;241m.\u001b[39mmerge(df1,autrain1,how\u001b[38;5;241m=\u001b[39m\u001b[38;5;124m'\u001b[39m\u001b[38;5;124minner\u001b[39m\u001b[38;5;124m'\u001b[39m)\n",
      "File \u001b[1;32mc:\\ProgramData\\Anaconda3\\Lib\\site-packages\\pandas\\core\\reshape\\merge.py:169\u001b[0m, in \u001b[0;36mmerge\u001b[1;34m(left, right, how, on, left_on, right_on, left_index, right_index, sort, suffixes, copy, indicator, validate)\u001b[0m\n\u001b[0;32m    154\u001b[0m     \u001b[38;5;28;01mreturn\u001b[39;00m _cross_merge(\n\u001b[0;32m    155\u001b[0m         left_df,\n\u001b[0;32m    156\u001b[0m         right_df,\n\u001b[1;32m   (...)\u001b[0m\n\u001b[0;32m    166\u001b[0m         copy\u001b[38;5;241m=\u001b[39mcopy,\n\u001b[0;32m    167\u001b[0m     )\n\u001b[0;32m    168\u001b[0m \u001b[38;5;28;01melse\u001b[39;00m:\n\u001b[1;32m--> 169\u001b[0m     op \u001b[38;5;241m=\u001b[39m _MergeOperation(\n\u001b[0;32m    170\u001b[0m         left_df,\n\u001b[0;32m    171\u001b[0m         right_df,\n\u001b[0;32m    172\u001b[0m         how\u001b[38;5;241m=\u001b[39mhow,\n\u001b[0;32m    173\u001b[0m         on\u001b[38;5;241m=\u001b[39mon,\n\u001b[0;32m    174\u001b[0m         left_on\u001b[38;5;241m=\u001b[39mleft_on,\n\u001b[0;32m    175\u001b[0m         right_on\u001b[38;5;241m=\u001b[39mright_on,\n\u001b[0;32m    176\u001b[0m         left_index\u001b[38;5;241m=\u001b[39mleft_index,\n\u001b[0;32m    177\u001b[0m         right_index\u001b[38;5;241m=\u001b[39mright_index,\n\u001b[0;32m    178\u001b[0m         sort\u001b[38;5;241m=\u001b[39msort,\n\u001b[0;32m    179\u001b[0m         suffixes\u001b[38;5;241m=\u001b[39msuffixes,\n\u001b[0;32m    180\u001b[0m         indicator\u001b[38;5;241m=\u001b[39mindicator,\n\u001b[0;32m    181\u001b[0m         validate\u001b[38;5;241m=\u001b[39mvalidate,\n\u001b[0;32m    182\u001b[0m     )\n\u001b[0;32m    183\u001b[0m     \u001b[38;5;28;01mreturn\u001b[39;00m op\u001b[38;5;241m.\u001b[39mget_result(copy\u001b[38;5;241m=\u001b[39mcopy)\n",
      "File \u001b[1;32mc:\\ProgramData\\Anaconda3\\Lib\\site-packages\\pandas\\core\\reshape\\merge.py:783\u001b[0m, in \u001b[0;36m_MergeOperation.__init__\u001b[1;34m(self, left, right, how, on, left_on, right_on, left_index, right_index, sort, suffixes, indicator, validate)\u001b[0m\n\u001b[0;32m    776\u001b[0m     msg \u001b[38;5;241m=\u001b[39m (\n\u001b[0;32m    777\u001b[0m         \u001b[38;5;124m\"\u001b[39m\u001b[38;5;124mNot allowed to merge between different levels. \u001b[39m\u001b[38;5;124m\"\u001b[39m\n\u001b[0;32m    778\u001b[0m         \u001b[38;5;124mf\u001b[39m\u001b[38;5;124m\"\u001b[39m\u001b[38;5;124m(\u001b[39m\u001b[38;5;132;01m{\u001b[39;00m_left\u001b[38;5;241m.\u001b[39mcolumns\u001b[38;5;241m.\u001b[39mnlevels\u001b[38;5;132;01m}\u001b[39;00m\u001b[38;5;124m levels on the left, \u001b[39m\u001b[38;5;124m\"\u001b[39m\n\u001b[0;32m    779\u001b[0m         \u001b[38;5;124mf\u001b[39m\u001b[38;5;124m\"\u001b[39m\u001b[38;5;132;01m{\u001b[39;00m_right\u001b[38;5;241m.\u001b[39mcolumns\u001b[38;5;241m.\u001b[39mnlevels\u001b[38;5;132;01m}\u001b[39;00m\u001b[38;5;124m on the right)\u001b[39m\u001b[38;5;124m\"\u001b[39m\n\u001b[0;32m    780\u001b[0m     )\n\u001b[0;32m    781\u001b[0m     \u001b[38;5;28;01mraise\u001b[39;00m MergeError(msg)\n\u001b[1;32m--> 783\u001b[0m \u001b[38;5;28mself\u001b[39m\u001b[38;5;241m.\u001b[39mleft_on, \u001b[38;5;28mself\u001b[39m\u001b[38;5;241m.\u001b[39mright_on \u001b[38;5;241m=\u001b[39m \u001b[38;5;28mself\u001b[39m\u001b[38;5;241m.\u001b[39m_validate_left_right_on(left_on, right_on)\n\u001b[0;32m    785\u001b[0m (\n\u001b[0;32m    786\u001b[0m     \u001b[38;5;28mself\u001b[39m\u001b[38;5;241m.\u001b[39mleft_join_keys,\n\u001b[0;32m    787\u001b[0m     \u001b[38;5;28mself\u001b[39m\u001b[38;5;241m.\u001b[39mright_join_keys,\n\u001b[1;32m   (...)\u001b[0m\n\u001b[0;32m    790\u001b[0m     right_drop,\n\u001b[0;32m    791\u001b[0m ) \u001b[38;5;241m=\u001b[39m \u001b[38;5;28mself\u001b[39m\u001b[38;5;241m.\u001b[39m_get_merge_keys()\n\u001b[0;32m    793\u001b[0m \u001b[38;5;28;01mif\u001b[39;00m left_drop:\n",
      "File \u001b[1;32mc:\\ProgramData\\Anaconda3\\Lib\\site-packages\\pandas\\core\\reshape\\merge.py:1538\u001b[0m, in \u001b[0;36m_MergeOperation._validate_left_right_on\u001b[1;34m(self, left_on, right_on)\u001b[0m\n\u001b[0;32m   1536\u001b[0m common_cols \u001b[38;5;241m=\u001b[39m left_cols\u001b[38;5;241m.\u001b[39mintersection(right_cols)\n\u001b[0;32m   1537\u001b[0m \u001b[38;5;28;01mif\u001b[39;00m \u001b[38;5;28mlen\u001b[39m(common_cols) \u001b[38;5;241m==\u001b[39m \u001b[38;5;241m0\u001b[39m:\n\u001b[1;32m-> 1538\u001b[0m     \u001b[38;5;28;01mraise\u001b[39;00m MergeError(\n\u001b[0;32m   1539\u001b[0m         \u001b[38;5;124m\"\u001b[39m\u001b[38;5;124mNo common columns to perform merge on. \u001b[39m\u001b[38;5;124m\"\u001b[39m\n\u001b[0;32m   1540\u001b[0m         \u001b[38;5;124mf\u001b[39m\u001b[38;5;124m\"\u001b[39m\u001b[38;5;124mMerge options: left_on=\u001b[39m\u001b[38;5;132;01m{\u001b[39;00mleft_on\u001b[38;5;132;01m}\u001b[39;00m\u001b[38;5;124m, \u001b[39m\u001b[38;5;124m\"\u001b[39m\n\u001b[0;32m   1541\u001b[0m         \u001b[38;5;124mf\u001b[39m\u001b[38;5;124m\"\u001b[39m\u001b[38;5;124mright_on=\u001b[39m\u001b[38;5;132;01m{\u001b[39;00mright_on\u001b[38;5;132;01m}\u001b[39;00m\u001b[38;5;124m, \u001b[39m\u001b[38;5;124m\"\u001b[39m\n\u001b[0;32m   1542\u001b[0m         \u001b[38;5;124mf\u001b[39m\u001b[38;5;124m\"\u001b[39m\u001b[38;5;124mleft_index=\u001b[39m\u001b[38;5;132;01m{\u001b[39;00m\u001b[38;5;28mself\u001b[39m\u001b[38;5;241m.\u001b[39mleft_index\u001b[38;5;132;01m}\u001b[39;00m\u001b[38;5;124m, \u001b[39m\u001b[38;5;124m\"\u001b[39m\n\u001b[0;32m   1543\u001b[0m         \u001b[38;5;124mf\u001b[39m\u001b[38;5;124m\"\u001b[39m\u001b[38;5;124mright_index=\u001b[39m\u001b[38;5;132;01m{\u001b[39;00m\u001b[38;5;28mself\u001b[39m\u001b[38;5;241m.\u001b[39mright_index\u001b[38;5;132;01m}\u001b[39;00m\u001b[38;5;124m\"\u001b[39m\n\u001b[0;32m   1544\u001b[0m     )\n\u001b[0;32m   1545\u001b[0m \u001b[38;5;28;01mif\u001b[39;00m (\n\u001b[0;32m   1546\u001b[0m     \u001b[38;5;129;01mnot\u001b[39;00m left_cols\u001b[38;5;241m.\u001b[39mjoin(common_cols, how\u001b[38;5;241m=\u001b[39m\u001b[38;5;124m\"\u001b[39m\u001b[38;5;124minner\u001b[39m\u001b[38;5;124m\"\u001b[39m)\u001b[38;5;241m.\u001b[39mis_unique\n\u001b[0;32m   1547\u001b[0m     \u001b[38;5;129;01mor\u001b[39;00m \u001b[38;5;129;01mnot\u001b[39;00m right_cols\u001b[38;5;241m.\u001b[39mjoin(common_cols, how\u001b[38;5;241m=\u001b[39m\u001b[38;5;124m\"\u001b[39m\u001b[38;5;124minner\u001b[39m\u001b[38;5;124m\"\u001b[39m)\u001b[38;5;241m.\u001b[39mis_unique\n\u001b[0;32m   1548\u001b[0m ):\n\u001b[0;32m   1549\u001b[0m     \u001b[38;5;28;01mraise\u001b[39;00m MergeError(\u001b[38;5;124mf\u001b[39m\u001b[38;5;124m\"\u001b[39m\u001b[38;5;124mData columns not unique: \u001b[39m\u001b[38;5;132;01m{\u001b[39;00m\u001b[38;5;28mrepr\u001b[39m(common_cols)\u001b[38;5;132;01m}\u001b[39;00m\u001b[38;5;124m\"\u001b[39m)\n",
      "\u001b[1;31mMergeError\u001b[0m: No common columns to perform merge on. Merge options: left_on=None, right_on=None, left_index=False, right_index=False"
     ]
    }
   ],
   "source": [
    "autrainfull = pd.merge(df1,autrain1,how='inner')"
   ]
  },
  {
   "cell_type": "code",
   "execution_count": 42,
   "metadata": {},
   "outputs": [
    {
     "data": {
      "text/plain": [
       "21154"
      ]
     },
     "execution_count": 42,
     "metadata": {},
     "output_type": "execute_result"
    }
   ],
   "source": [
    "len(autrainfull)"
   ]
  },
  {
   "cell_type": "code",
   "execution_count": 22,
   "metadata": {},
   "outputs": [
    {
     "data": {
      "text/plain": [
       "2733475"
      ]
     },
     "execution_count": 22,
     "metadata": {},
     "output_type": "execute_result"
    }
   ],
   "source": [
    "len(autrainfull)"
   ]
  },
  {
   "cell_type": "code",
   "execution_count": 24,
   "metadata": {},
   "outputs": [
    {
     "data": {
      "text/html": [
       "<div>\n",
       "<style scoped>\n",
       "    .dataframe tbody tr th:only-of-type {\n",
       "        vertical-align: middle;\n",
       "    }\n",
       "\n",
       "    .dataframe tbody tr th {\n",
       "        vertical-align: top;\n",
       "    }\n",
       "\n",
       "    .dataframe thead th {\n",
       "        text-align: right;\n",
       "    }\n",
       "</style>\n",
       "<table border=\"1\" class=\"dataframe\">\n",
       "  <thead>\n",
       "    <tr style=\"text-align: right;\">\n",
       "      <th></th>\n",
       "      <th>ï»¿id</th>\n",
       "      <th>dur</th>\n",
       "      <th>proto</th>\n",
       "      <th>service</th>\n",
       "      <th>state</th>\n",
       "      <th>spkts</th>\n",
       "      <th>dpkts</th>\n",
       "      <th>sbytes</th>\n",
       "      <th>dbytes</th>\n",
       "      <th>rate</th>\n",
       "      <th>...</th>\n",
       "      <th>ct_dst_sport_ltm</th>\n",
       "      <th>ct_dst_src_ltm</th>\n",
       "      <th>is_ftp_login</th>\n",
       "      <th>ct_ftp_cmd</th>\n",
       "      <th>ct_flw_http_mthd</th>\n",
       "      <th>ct_src_ltm</th>\n",
       "      <th>ct_srv_dst</th>\n",
       "      <th>is_sm_ips_ports</th>\n",
       "      <th>attack_cat</th>\n",
       "      <th>label</th>\n",
       "    </tr>\n",
       "  </thead>\n",
       "  <tbody>\n",
       "    <tr>\n",
       "      <th>0</th>\n",
       "      <td>1</td>\n",
       "      <td>0.121478</td>\n",
       "      <td>tcp</td>\n",
       "      <td>-</td>\n",
       "      <td>FIN</td>\n",
       "      <td>6</td>\n",
       "      <td>4</td>\n",
       "      <td>258</td>\n",
       "      <td>172</td>\n",
       "      <td>74.087490</td>\n",
       "      <td>...</td>\n",
       "      <td>1</td>\n",
       "      <td>1</td>\n",
       "      <td>0</td>\n",
       "      <td>0</td>\n",
       "      <td>0</td>\n",
       "      <td>1</td>\n",
       "      <td>1</td>\n",
       "      <td>0</td>\n",
       "      <td>Normal</td>\n",
       "      <td>0</td>\n",
       "    </tr>\n",
       "    <tr>\n",
       "      <th>1</th>\n",
       "      <td>2</td>\n",
       "      <td>0.649902</td>\n",
       "      <td>tcp</td>\n",
       "      <td>-</td>\n",
       "      <td>FIN</td>\n",
       "      <td>14</td>\n",
       "      <td>38</td>\n",
       "      <td>734</td>\n",
       "      <td>42014</td>\n",
       "      <td>78.473372</td>\n",
       "      <td>...</td>\n",
       "      <td>1</td>\n",
       "      <td>2</td>\n",
       "      <td>0</td>\n",
       "      <td>0</td>\n",
       "      <td>0</td>\n",
       "      <td>1</td>\n",
       "      <td>6</td>\n",
       "      <td>0</td>\n",
       "      <td>Normal</td>\n",
       "      <td>0</td>\n",
       "    </tr>\n",
       "    <tr>\n",
       "      <th>2</th>\n",
       "      <td>3</td>\n",
       "      <td>1.623129</td>\n",
       "      <td>tcp</td>\n",
       "      <td>-</td>\n",
       "      <td>FIN</td>\n",
       "      <td>8</td>\n",
       "      <td>16</td>\n",
       "      <td>364</td>\n",
       "      <td>13186</td>\n",
       "      <td>14.170161</td>\n",
       "      <td>...</td>\n",
       "      <td>1</td>\n",
       "      <td>3</td>\n",
       "      <td>0</td>\n",
       "      <td>0</td>\n",
       "      <td>0</td>\n",
       "      <td>2</td>\n",
       "      <td>6</td>\n",
       "      <td>0</td>\n",
       "      <td>Normal</td>\n",
       "      <td>0</td>\n",
       "    </tr>\n",
       "    <tr>\n",
       "      <th>3</th>\n",
       "      <td>4</td>\n",
       "      <td>1.681642</td>\n",
       "      <td>tcp</td>\n",
       "      <td>ftp</td>\n",
       "      <td>FIN</td>\n",
       "      <td>12</td>\n",
       "      <td>12</td>\n",
       "      <td>628</td>\n",
       "      <td>770</td>\n",
       "      <td>13.677108</td>\n",
       "      <td>...</td>\n",
       "      <td>1</td>\n",
       "      <td>3</td>\n",
       "      <td>1</td>\n",
       "      <td>1</td>\n",
       "      <td>0</td>\n",
       "      <td>2</td>\n",
       "      <td>1</td>\n",
       "      <td>0</td>\n",
       "      <td>Normal</td>\n",
       "      <td>0</td>\n",
       "    </tr>\n",
       "    <tr>\n",
       "      <th>4</th>\n",
       "      <td>5</td>\n",
       "      <td>0.449454</td>\n",
       "      <td>tcp</td>\n",
       "      <td>-</td>\n",
       "      <td>FIN</td>\n",
       "      <td>10</td>\n",
       "      <td>6</td>\n",
       "      <td>534</td>\n",
       "      <td>268</td>\n",
       "      <td>33.373826</td>\n",
       "      <td>...</td>\n",
       "      <td>1</td>\n",
       "      <td>40</td>\n",
       "      <td>0</td>\n",
       "      <td>0</td>\n",
       "      <td>0</td>\n",
       "      <td>2</td>\n",
       "      <td>39</td>\n",
       "      <td>0</td>\n",
       "      <td>Normal</td>\n",
       "      <td>0</td>\n",
       "    </tr>\n",
       "    <tr>\n",
       "      <th>...</th>\n",
       "      <td>...</td>\n",
       "      <td>...</td>\n",
       "      <td>...</td>\n",
       "      <td>...</td>\n",
       "      <td>...</td>\n",
       "      <td>...</td>\n",
       "      <td>...</td>\n",
       "      <td>...</td>\n",
       "      <td>...</td>\n",
       "      <td>...</td>\n",
       "      <td>...</td>\n",
       "      <td>...</td>\n",
       "      <td>...</td>\n",
       "      <td>...</td>\n",
       "      <td>...</td>\n",
       "      <td>...</td>\n",
       "      <td>...</td>\n",
       "      <td>...</td>\n",
       "      <td>...</td>\n",
       "      <td>...</td>\n",
       "      <td>...</td>\n",
       "    </tr>\n",
       "    <tr>\n",
       "      <th>175336</th>\n",
       "      <td>175337</td>\n",
       "      <td>0.000009</td>\n",
       "      <td>udp</td>\n",
       "      <td>dns</td>\n",
       "      <td>INT</td>\n",
       "      <td>2</td>\n",
       "      <td>0</td>\n",
       "      <td>114</td>\n",
       "      <td>0</td>\n",
       "      <td>111111.107200</td>\n",
       "      <td>...</td>\n",
       "      <td>13</td>\n",
       "      <td>24</td>\n",
       "      <td>0</td>\n",
       "      <td>0</td>\n",
       "      <td>0</td>\n",
       "      <td>24</td>\n",
       "      <td>24</td>\n",
       "      <td>0</td>\n",
       "      <td>Generic</td>\n",
       "      <td>1</td>\n",
       "    </tr>\n",
       "    <tr>\n",
       "      <th>175337</th>\n",
       "      <td>175338</td>\n",
       "      <td>0.505762</td>\n",
       "      <td>tcp</td>\n",
       "      <td>-</td>\n",
       "      <td>FIN</td>\n",
       "      <td>10</td>\n",
       "      <td>8</td>\n",
       "      <td>620</td>\n",
       "      <td>354</td>\n",
       "      <td>33.612649</td>\n",
       "      <td>...</td>\n",
       "      <td>1</td>\n",
       "      <td>2</td>\n",
       "      <td>0</td>\n",
       "      <td>0</td>\n",
       "      <td>0</td>\n",
       "      <td>1</td>\n",
       "      <td>1</td>\n",
       "      <td>0</td>\n",
       "      <td>Shellcode</td>\n",
       "      <td>1</td>\n",
       "    </tr>\n",
       "    <tr>\n",
       "      <th>175338</th>\n",
       "      <td>175339</td>\n",
       "      <td>0.000009</td>\n",
       "      <td>udp</td>\n",
       "      <td>dns</td>\n",
       "      <td>INT</td>\n",
       "      <td>2</td>\n",
       "      <td>0</td>\n",
       "      <td>114</td>\n",
       "      <td>0</td>\n",
       "      <td>111111.107200</td>\n",
       "      <td>...</td>\n",
       "      <td>3</td>\n",
       "      <td>13</td>\n",
       "      <td>0</td>\n",
       "      <td>0</td>\n",
       "      <td>0</td>\n",
       "      <td>3</td>\n",
       "      <td>12</td>\n",
       "      <td>0</td>\n",
       "      <td>Generic</td>\n",
       "      <td>1</td>\n",
       "    </tr>\n",
       "    <tr>\n",
       "      <th>175339</th>\n",
       "      <td>175340</td>\n",
       "      <td>0.000009</td>\n",
       "      <td>udp</td>\n",
       "      <td>dns</td>\n",
       "      <td>INT</td>\n",
       "      <td>2</td>\n",
       "      <td>0</td>\n",
       "      <td>114</td>\n",
       "      <td>0</td>\n",
       "      <td>111111.107200</td>\n",
       "      <td>...</td>\n",
       "      <td>14</td>\n",
       "      <td>30</td>\n",
       "      <td>0</td>\n",
       "      <td>0</td>\n",
       "      <td>0</td>\n",
       "      <td>30</td>\n",
       "      <td>30</td>\n",
       "      <td>0</td>\n",
       "      <td>Generic</td>\n",
       "      <td>1</td>\n",
       "    </tr>\n",
       "    <tr>\n",
       "      <th>175340</th>\n",
       "      <td>175341</td>\n",
       "      <td>0.000009</td>\n",
       "      <td>udp</td>\n",
       "      <td>dns</td>\n",
       "      <td>INT</td>\n",
       "      <td>2</td>\n",
       "      <td>0</td>\n",
       "      <td>114</td>\n",
       "      <td>0</td>\n",
       "      <td>111111.107200</td>\n",
       "      <td>...</td>\n",
       "      <td>16</td>\n",
       "      <td>30</td>\n",
       "      <td>0</td>\n",
       "      <td>0</td>\n",
       "      <td>0</td>\n",
       "      <td>30</td>\n",
       "      <td>30</td>\n",
       "      <td>0</td>\n",
       "      <td>Generic</td>\n",
       "      <td>1</td>\n",
       "    </tr>\n",
       "  </tbody>\n",
       "</table>\n",
       "<p>175341 rows × 45 columns</p>\n",
       "</div>"
      ],
      "text/plain": [
       "         ï»¿id       dur proto service state  spkts  dpkts  sbytes  dbytes  \\\n",
       "0            1  0.121478   tcp       -   FIN      6      4     258     172   \n",
       "1            2  0.649902   tcp       -   FIN     14     38     734   42014   \n",
       "2            3  1.623129   tcp       -   FIN      8     16     364   13186   \n",
       "3            4  1.681642   tcp     ftp   FIN     12     12     628     770   \n",
       "4            5  0.449454   tcp       -   FIN     10      6     534     268   \n",
       "...        ...       ...   ...     ...   ...    ...    ...     ...     ...   \n",
       "175336  175337  0.000009   udp     dns   INT      2      0     114       0   \n",
       "175337  175338  0.505762   tcp       -   FIN     10      8     620     354   \n",
       "175338  175339  0.000009   udp     dns   INT      2      0     114       0   \n",
       "175339  175340  0.000009   udp     dns   INT      2      0     114       0   \n",
       "175340  175341  0.000009   udp     dns   INT      2      0     114       0   \n",
       "\n",
       "                 rate  ...  ct_dst_sport_ltm  ct_dst_src_ltm  is_ftp_login  \\\n",
       "0           74.087490  ...                 1               1             0   \n",
       "1           78.473372  ...                 1               2             0   \n",
       "2           14.170161  ...                 1               3             0   \n",
       "3           13.677108  ...                 1               3             1   \n",
       "4           33.373826  ...                 1              40             0   \n",
       "...               ...  ...               ...             ...           ...   \n",
       "175336  111111.107200  ...                13              24             0   \n",
       "175337      33.612649  ...                 1               2             0   \n",
       "175338  111111.107200  ...                 3              13             0   \n",
       "175339  111111.107200  ...                14              30             0   \n",
       "175340  111111.107200  ...                16              30             0   \n",
       "\n",
       "        ct_ftp_cmd  ct_flw_http_mthd  ct_src_ltm  ct_srv_dst  is_sm_ips_ports  \\\n",
       "0                0                 0           1           1                0   \n",
       "1                0                 0           1           6                0   \n",
       "2                0                 0           2           6                0   \n",
       "3                1                 0           2           1                0   \n",
       "4                0                 0           2          39                0   \n",
       "...            ...               ...         ...         ...              ...   \n",
       "175336           0                 0          24          24                0   \n",
       "175337           0                 0           1           1                0   \n",
       "175338           0                 0           3          12                0   \n",
       "175339           0                 0          30          30                0   \n",
       "175340           0                 0          30          30                0   \n",
       "\n",
       "        attack_cat  label  \n",
       "0           Normal      0  \n",
       "1           Normal      0  \n",
       "2           Normal      0  \n",
       "3           Normal      0  \n",
       "4           Normal      0  \n",
       "...            ...    ...  \n",
       "175336     Generic      1  \n",
       "175337   Shellcode      1  \n",
       "175338     Generic      1  \n",
       "175339     Generic      1  \n",
       "175340     Generic      1  \n",
       "\n",
       "[175341 rows x 45 columns]"
      ]
     },
     "execution_count": 24,
     "metadata": {},
     "output_type": "execute_result"
    }
   ],
   "source": [
    "autrain"
   ]
  },
  {
   "cell_type": "code",
   "execution_count": 30,
   "metadata": {},
   "outputs": [
    {
     "data": {
      "text/html": [
       "<div>\n",
       "<style scoped>\n",
       "    .dataframe tbody tr th:only-of-type {\n",
       "        vertical-align: middle;\n",
       "    }\n",
       "\n",
       "    .dataframe tbody tr th {\n",
       "        vertical-align: top;\n",
       "    }\n",
       "\n",
       "    .dataframe thead th {\n",
       "        text-align: right;\n",
       "    }\n",
       "</style>\n",
       "<table border=\"1\" class=\"dataframe\">\n",
       "  <thead>\n",
       "    <tr style=\"text-align: right;\">\n",
       "      <th></th>\n",
       "      <th>srcip</th>\n",
       "      <th>sport</th>\n",
       "      <th>dstip</th>\n",
       "      <th>dsport</th>\n",
       "      <th>proto</th>\n",
       "      <th>state</th>\n",
       "      <th>dur</th>\n",
       "      <th>sbytes</th>\n",
       "      <th>dbytes</th>\n",
       "      <th>sttl</th>\n",
       "      <th>...</th>\n",
       "      <th>ct_src_ ltm</th>\n",
       "      <th>ct_src_dport_ltm</th>\n",
       "      <th>ct_dst_sport_ltm</th>\n",
       "      <th>ct_dst_src_ltm</th>\n",
       "      <th>attack_cat</th>\n",
       "      <th>label</th>\n",
       "      <th>rate</th>\n",
       "      <th>sinpkt</th>\n",
       "      <th>dinpkt</th>\n",
       "      <th>ct_src_ltm</th>\n",
       "    </tr>\n",
       "  </thead>\n",
       "  <tbody>\n",
       "    <tr>\n",
       "      <th>0</th>\n",
       "      <td>59.166.0.1</td>\n",
       "      <td>18247</td>\n",
       "      <td>149.171.126.4</td>\n",
       "      <td>7662</td>\n",
       "      <td>tcp</td>\n",
       "      <td>FIN</td>\n",
       "      <td>0.119596</td>\n",
       "      <td>4550</td>\n",
       "      <td>68342</td>\n",
       "      <td>31</td>\n",
       "      <td>...</td>\n",
       "      <td>5.0</td>\n",
       "      <td>1</td>\n",
       "      <td>1</td>\n",
       "      <td>2</td>\n",
       "      <td>NaN</td>\n",
       "      <td>0</td>\n",
       "      <td>NaN</td>\n",
       "      <td>NaN</td>\n",
       "      <td>NaN</td>\n",
       "      <td>NaN</td>\n",
       "    </tr>\n",
       "    <tr>\n",
       "      <th>1</th>\n",
       "      <td>59.166.0.3</td>\n",
       "      <td>54771</td>\n",
       "      <td>149.171.126.2</td>\n",
       "      <td>27709</td>\n",
       "      <td>tcp</td>\n",
       "      <td>FIN</td>\n",
       "      <td>0.650574</td>\n",
       "      <td>8928</td>\n",
       "      <td>320</td>\n",
       "      <td>31</td>\n",
       "      <td>...</td>\n",
       "      <td>4.0</td>\n",
       "      <td>1</td>\n",
       "      <td>1</td>\n",
       "      <td>4</td>\n",
       "      <td>NaN</td>\n",
       "      <td>0</td>\n",
       "      <td>NaN</td>\n",
       "      <td>NaN</td>\n",
       "      <td>NaN</td>\n",
       "      <td>NaN</td>\n",
       "    </tr>\n",
       "    <tr>\n",
       "      <th>2</th>\n",
       "      <td>59.166.0.8</td>\n",
       "      <td>13289</td>\n",
       "      <td>149.171.126.9</td>\n",
       "      <td>5190</td>\n",
       "      <td>tcp</td>\n",
       "      <td>FIN</td>\n",
       "      <td>0.007980</td>\n",
       "      <td>2158</td>\n",
       "      <td>2464</td>\n",
       "      <td>31</td>\n",
       "      <td>...</td>\n",
       "      <td>1.0</td>\n",
       "      <td>1</td>\n",
       "      <td>1</td>\n",
       "      <td>3</td>\n",
       "      <td>NaN</td>\n",
       "      <td>0</td>\n",
       "      <td>NaN</td>\n",
       "      <td>NaN</td>\n",
       "      <td>NaN</td>\n",
       "      <td>NaN</td>\n",
       "    </tr>\n",
       "    <tr>\n",
       "      <th>3</th>\n",
       "      <td>149.171.126.18</td>\n",
       "      <td>1043</td>\n",
       "      <td>175.45.176.3</td>\n",
       "      <td>53</td>\n",
       "      <td>udp</td>\n",
       "      <td>INT</td>\n",
       "      <td>0.000005</td>\n",
       "      <td>264</td>\n",
       "      <td>0</td>\n",
       "      <td>60</td>\n",
       "      <td>...</td>\n",
       "      <td>19.0</td>\n",
       "      <td>19</td>\n",
       "      <td>19</td>\n",
       "      <td>19</td>\n",
       "      <td>NaN</td>\n",
       "      <td>0</td>\n",
       "      <td>NaN</td>\n",
       "      <td>NaN</td>\n",
       "      <td>NaN</td>\n",
       "      <td>NaN</td>\n",
       "    </tr>\n",
       "    <tr>\n",
       "      <th>4</th>\n",
       "      <td>149.171.126.15</td>\n",
       "      <td>47439</td>\n",
       "      <td>175.45.176.3</td>\n",
       "      <td>53</td>\n",
       "      <td>udp</td>\n",
       "      <td>INT</td>\n",
       "      <td>0.000005</td>\n",
       "      <td>264</td>\n",
       "      <td>0</td>\n",
       "      <td>60</td>\n",
       "      <td>...</td>\n",
       "      <td>19.0</td>\n",
       "      <td>19</td>\n",
       "      <td>19</td>\n",
       "      <td>19</td>\n",
       "      <td>NaN</td>\n",
       "      <td>0</td>\n",
       "      <td>NaN</td>\n",
       "      <td>NaN</td>\n",
       "      <td>NaN</td>\n",
       "      <td>NaN</td>\n",
       "    </tr>\n",
       "    <tr>\n",
       "      <th>...</th>\n",
       "      <td>...</td>\n",
       "      <td>...</td>\n",
       "      <td>...</td>\n",
       "      <td>...</td>\n",
       "      <td>...</td>\n",
       "      <td>...</td>\n",
       "      <td>...</td>\n",
       "      <td>...</td>\n",
       "      <td>...</td>\n",
       "      <td>...</td>\n",
       "      <td>...</td>\n",
       "      <td>...</td>\n",
       "      <td>...</td>\n",
       "      <td>...</td>\n",
       "      <td>...</td>\n",
       "      <td>...</td>\n",
       "      <td>...</td>\n",
       "      <td>...</td>\n",
       "      <td>...</td>\n",
       "      <td>...</td>\n",
       "      <td>...</td>\n",
       "    </tr>\n",
       "    <tr>\n",
       "      <th>2168670</th>\n",
       "      <td>NaN</td>\n",
       "      <td>NaN</td>\n",
       "      <td>NaN</td>\n",
       "      <td>NaN</td>\n",
       "      <td>tcp</td>\n",
       "      <td>FIN</td>\n",
       "      <td>1.914309</td>\n",
       "      <td>69997</td>\n",
       "      <td>2132</td>\n",
       "      <td>62</td>\n",
       "      <td>...</td>\n",
       "      <td>NaN</td>\n",
       "      <td>1</td>\n",
       "      <td>1</td>\n",
       "      <td>1</td>\n",
       "      <td>Exploits</td>\n",
       "      <td>1</td>\n",
       "      <td>53.805315</td>\n",
       "      <td>26.213891</td>\n",
       "      <td>65.074277</td>\n",
       "      <td>18.0</td>\n",
       "    </tr>\n",
       "    <tr>\n",
       "      <th>2168671</th>\n",
       "      <td>NaN</td>\n",
       "      <td>NaN</td>\n",
       "      <td>NaN</td>\n",
       "      <td>NaN</td>\n",
       "      <td>tcp</td>\n",
       "      <td>FIN</td>\n",
       "      <td>3.719110</td>\n",
       "      <td>3086</td>\n",
       "      <td>426483</td>\n",
       "      <td>62</td>\n",
       "      <td>...</td>\n",
       "      <td>NaN</td>\n",
       "      <td>1</td>\n",
       "      <td>1</td>\n",
       "      <td>1</td>\n",
       "      <td>Exploits</td>\n",
       "      <td>1</td>\n",
       "      <td>108.897021</td>\n",
       "      <td>57.217077</td>\n",
       "      <td>10.914012</td>\n",
       "      <td>2.0</td>\n",
       "    </tr>\n",
       "    <tr>\n",
       "      <th>2168672</th>\n",
       "      <td>NaN</td>\n",
       "      <td>NaN</td>\n",
       "      <td>NaN</td>\n",
       "      <td>NaN</td>\n",
       "      <td>tcp</td>\n",
       "      <td>FIN</td>\n",
       "      <td>0.996503</td>\n",
       "      <td>942</td>\n",
       "      <td>16684</td>\n",
       "      <td>62</td>\n",
       "      <td>...</td>\n",
       "      <td>NaN</td>\n",
       "      <td>1</td>\n",
       "      <td>1</td>\n",
       "      <td>1</td>\n",
       "      <td>Exploits</td>\n",
       "      <td>1</td>\n",
       "      <td>49.171955</td>\n",
       "      <td>52.447526</td>\n",
       "      <td>33.937380</td>\n",
       "      <td>7.0</td>\n",
       "    </tr>\n",
       "    <tr>\n",
       "      <th>2168673</th>\n",
       "      <td>NaN</td>\n",
       "      <td>NaN</td>\n",
       "      <td>NaN</td>\n",
       "      <td>NaN</td>\n",
       "      <td>tcp</td>\n",
       "      <td>FIN</td>\n",
       "      <td>1.557125</td>\n",
       "      <td>12601</td>\n",
       "      <td>1954</td>\n",
       "      <td>62</td>\n",
       "      <td>...</td>\n",
       "      <td>NaN</td>\n",
       "      <td>1</td>\n",
       "      <td>1</td>\n",
       "      <td>2</td>\n",
       "      <td>Exploits</td>\n",
       "      <td>1</td>\n",
       "      <td>31.468251</td>\n",
       "      <td>57.671293</td>\n",
       "      <td>73.691430</td>\n",
       "      <td>2.0</td>\n",
       "    </tr>\n",
       "    <tr>\n",
       "      <th>2168674</th>\n",
       "      <td>NaN</td>\n",
       "      <td>NaN</td>\n",
       "      <td>NaN</td>\n",
       "      <td>NaN</td>\n",
       "      <td>tcp</td>\n",
       "      <td>FIN</td>\n",
       "      <td>0.505762</td>\n",
       "      <td>620</td>\n",
       "      <td>354</td>\n",
       "      <td>254</td>\n",
       "      <td>...</td>\n",
       "      <td>NaN</td>\n",
       "      <td>1</td>\n",
       "      <td>1</td>\n",
       "      <td>2</td>\n",
       "      <td>Shellcode</td>\n",
       "      <td>1</td>\n",
       "      <td>33.612649</td>\n",
       "      <td>54.400111</td>\n",
       "      <td>66.980570</td>\n",
       "      <td>1.0</td>\n",
       "    </tr>\n",
       "  </tbody>\n",
       "</table>\n",
       "<p>2168675 rows × 53 columns</p>\n",
       "</div>"
      ],
      "text/plain": [
       "                  srcip  sport          dstip dsport proto state       dur  \\\n",
       "0            59.166.0.1  18247  149.171.126.4   7662   tcp   FIN  0.119596   \n",
       "1            59.166.0.3  54771  149.171.126.2  27709   tcp   FIN  0.650574   \n",
       "2            59.166.0.8  13289  149.171.126.9   5190   tcp   FIN  0.007980   \n",
       "3        149.171.126.18   1043   175.45.176.3     53   udp   INT  0.000005   \n",
       "4        149.171.126.15  47439   175.45.176.3     53   udp   INT  0.000005   \n",
       "...                 ...    ...            ...    ...   ...   ...       ...   \n",
       "2168670             NaN    NaN            NaN    NaN   tcp   FIN  1.914309   \n",
       "2168671             NaN    NaN            NaN    NaN   tcp   FIN  3.719110   \n",
       "2168672             NaN    NaN            NaN    NaN   tcp   FIN  0.996503   \n",
       "2168673             NaN    NaN            NaN    NaN   tcp   FIN  1.557125   \n",
       "2168674             NaN    NaN            NaN    NaN   tcp   FIN  0.505762   \n",
       "\n",
       "         sbytes  dbytes  sttl  ...  ct_src_ ltm  ct_src_dport_ltm  \\\n",
       "0          4550   68342    31  ...          5.0                 1   \n",
       "1          8928     320    31  ...          4.0                 1   \n",
       "2          2158    2464    31  ...          1.0                 1   \n",
       "3           264       0    60  ...         19.0                19   \n",
       "4           264       0    60  ...         19.0                19   \n",
       "...         ...     ...   ...  ...          ...               ...   \n",
       "2168670   69997    2132    62  ...          NaN                 1   \n",
       "2168671    3086  426483    62  ...          NaN                 1   \n",
       "2168672     942   16684    62  ...          NaN                 1   \n",
       "2168673   12601    1954    62  ...          NaN                 1   \n",
       "2168674     620     354   254  ...          NaN                 1   \n",
       "\n",
       "         ct_dst_sport_ltm ct_dst_src_ltm  attack_cat  label        rate  \\\n",
       "0                       1              2         NaN      0         NaN   \n",
       "1                       1              4         NaN      0         NaN   \n",
       "2                       1              3         NaN      0         NaN   \n",
       "3                      19             19         NaN      0         NaN   \n",
       "4                      19             19         NaN      0         NaN   \n",
       "...                   ...            ...         ...    ...         ...   \n",
       "2168670                 1              1    Exploits      1   53.805315   \n",
       "2168671                 1              1    Exploits      1  108.897021   \n",
       "2168672                 1              1    Exploits      1   49.171955   \n",
       "2168673                 1              2    Exploits      1   31.468251   \n",
       "2168674                 1              2   Shellcode      1   33.612649   \n",
       "\n",
       "            sinpkt     dinpkt  ct_src_ltm  \n",
       "0              NaN        NaN         NaN  \n",
       "1              NaN        NaN         NaN  \n",
       "2              NaN        NaN         NaN  \n",
       "3              NaN        NaN         NaN  \n",
       "4              NaN        NaN         NaN  \n",
       "...            ...        ...         ...  \n",
       "2168670  26.213891  65.074277        18.0  \n",
       "2168671  57.217077  10.914012         2.0  \n",
       "2168672  52.447526  33.937380         7.0  \n",
       "2168673  57.671293  73.691430         2.0  \n",
       "2168674  54.400111  66.980570         1.0  \n",
       "\n",
       "[2168675 rows x 53 columns]"
      ]
     },
     "execution_count": 30,
     "metadata": {},
     "output_type": "execute_result"
    }
   ],
   "source": [
    "autrainfull"
   ]
  },
  {
   "cell_type": "markdown",
   "metadata": {},
   "source": [
    "## User prepared train-test dataset vs authors provided train-test dataset"
   ]
  },
  {
   "cell_type": "code",
   "execution_count": 19,
   "metadata": {},
   "outputs": [
    {
     "data": {
      "text/plain": [
       "Index(['ï»¿id', 'dur', 'proto', 'service', 'state', 'spkts', 'dpkts', 'sbytes',\n",
       "       'dbytes', 'rate', 'sttl', 'dttl', 'sload', 'dload', 'sloss', 'dloss',\n",
       "       'sinpkt', 'dinpkt', 'sjit', 'djit', 'swin', 'stcpb', 'dtcpb', 'dwin',\n",
       "       'tcprtt', 'synack', 'ackdat', 'smean', 'dmean', 'trans_depth',\n",
       "       'response_body_len', 'ct_srv_src', 'ct_state_ttl', 'ct_dst_ltm',\n",
       "       'ct_src_dport_ltm', 'ct_dst_sport_ltm', 'ct_dst_src_ltm',\n",
       "       'is_ftp_login', 'ct_ftp_cmd', 'ct_flw_http_mthd', 'ct_src_ltm',\n",
       "       'ct_srv_dst', 'is_sm_ips_ports', 'attack_cat', 'label'],\n",
       "      dtype='object')"
      ]
     },
     "execution_count": 19,
     "metadata": {},
     "output_type": "execute_result"
    }
   ],
   "source": [
    "autrain.columns"
   ]
  },
  {
   "cell_type": "code",
   "execution_count": 22,
   "metadata": {},
   "outputs": [
    {
     "data": {
      "text/plain": [
       "sttl\n",
       "254    114743\n",
       "31      39455\n",
       "62      17681\n",
       "0        3162\n",
       "64        181\n",
       "1          64\n",
       "63         32\n",
       "255        13\n",
       "60          6\n",
       "252         2\n",
       "29          2\n",
       "Name: count, dtype: int64"
      ]
     },
     "execution_count": 22,
     "metadata": {},
     "output_type": "execute_result"
    }
   ],
   "source": [
    "autrain['sttl'].value_counts()"
   ]
  },
  {
   "cell_type": "code",
   "execution_count": 23,
   "metadata": {},
   "outputs": [
    {
     "data": {
      "text/plain": [
       "sttl\n",
       "254    54049\n",
       "31     16702\n",
       "62     10374\n",
       "0       1048\n",
       "29        50\n",
       "1         38\n",
       "255       25\n",
       "60        24\n",
       "32        19\n",
       "30         2\n",
       "63         1\n",
       "Name: count, dtype: int64"
      ]
     },
     "execution_count": 23,
     "metadata": {},
     "output_type": "execute_result"
    }
   ],
   "source": [
    "autest['sttl'].value_counts()"
   ]
  },
  {
   "cell_type": "code",
   "execution_count": 9,
   "metadata": {},
   "outputs": [],
   "source": [
    "todrop = ['ï»¿id','attack_cat','label', 'is_sm_ips_ports']\n",
    "auxtrain = autrain.drop(todrop, axis = 1)\n",
    "auxtest = autest.drop(todrop, axis = 1)\n",
    "auytrain = autrain['label']\n",
    "auytest = autest['label']"
   ]
  },
  {
   "cell_type": "code",
   "execution_count": 10,
   "metadata": {},
   "outputs": [],
   "source": [
    "# Label encoding\n",
    "label_encoder = LabelEncoder()\n",
    "\n",
    "auxtrain['proto'] = label_encoder.fit_transform(auxtrain['proto'])\n",
    "auxtrain['service'] = label_encoder.fit_transform(auxtrain['service'])\n",
    "auxtrain['state'] = label_encoder.fit_transform(auxtrain['state'])\n",
    "\n",
    "auxtest['proto'] = label_encoder.fit_transform(auxtest['proto'])\n",
    "auxtest['service'] = label_encoder.fit_transform(auxtest['service'])\n",
    "auxtest['state'] = label_encoder.fit_transform(auxtest['state'])\n",
    "\n",
    "#Label encoding\n"
   ]
  },
  {
   "cell_type": "code",
   "execution_count": 12,
   "metadata": {},
   "outputs": [
    {
     "data": {
      "text/html": [
       "<style>#sk-container-id-1 {color: black;background-color: white;}#sk-container-id-1 pre{padding: 0;}#sk-container-id-1 div.sk-toggleable {background-color: white;}#sk-container-id-1 label.sk-toggleable__label {cursor: pointer;display: block;width: 100%;margin-bottom: 0;padding: 0.3em;box-sizing: border-box;text-align: center;}#sk-container-id-1 label.sk-toggleable__label-arrow:before {content: \"▸\";float: left;margin-right: 0.25em;color: #696969;}#sk-container-id-1 label.sk-toggleable__label-arrow:hover:before {color: black;}#sk-container-id-1 div.sk-estimator:hover label.sk-toggleable__label-arrow:before {color: black;}#sk-container-id-1 div.sk-toggleable__content {max-height: 0;max-width: 0;overflow: hidden;text-align: left;background-color: #f0f8ff;}#sk-container-id-1 div.sk-toggleable__content pre {margin: 0.2em;color: black;border-radius: 0.25em;background-color: #f0f8ff;}#sk-container-id-1 input.sk-toggleable__control:checked~div.sk-toggleable__content {max-height: 200px;max-width: 100%;overflow: auto;}#sk-container-id-1 input.sk-toggleable__control:checked~label.sk-toggleable__label-arrow:before {content: \"▾\";}#sk-container-id-1 div.sk-estimator input.sk-toggleable__control:checked~label.sk-toggleable__label {background-color: #d4ebff;}#sk-container-id-1 div.sk-label input.sk-toggleable__control:checked~label.sk-toggleable__label {background-color: #d4ebff;}#sk-container-id-1 input.sk-hidden--visually {border: 0;clip: rect(1px 1px 1px 1px);clip: rect(1px, 1px, 1px, 1px);height: 1px;margin: -1px;overflow: hidden;padding: 0;position: absolute;width: 1px;}#sk-container-id-1 div.sk-estimator {font-family: monospace;background-color: #f0f8ff;border: 1px dotted black;border-radius: 0.25em;box-sizing: border-box;margin-bottom: 0.5em;}#sk-container-id-1 div.sk-estimator:hover {background-color: #d4ebff;}#sk-container-id-1 div.sk-parallel-item::after {content: \"\";width: 100%;border-bottom: 1px solid gray;flex-grow: 1;}#sk-container-id-1 div.sk-label:hover label.sk-toggleable__label {background-color: #d4ebff;}#sk-container-id-1 div.sk-serial::before {content: \"\";position: absolute;border-left: 1px solid gray;box-sizing: border-box;top: 0;bottom: 0;left: 50%;z-index: 0;}#sk-container-id-1 div.sk-serial {display: flex;flex-direction: column;align-items: center;background-color: white;padding-right: 0.2em;padding-left: 0.2em;position: relative;}#sk-container-id-1 div.sk-item {position: relative;z-index: 1;}#sk-container-id-1 div.sk-parallel {display: flex;align-items: stretch;justify-content: center;background-color: white;position: relative;}#sk-container-id-1 div.sk-item::before, #sk-container-id-1 div.sk-parallel-item::before {content: \"\";position: absolute;border-left: 1px solid gray;box-sizing: border-box;top: 0;bottom: 0;left: 50%;z-index: -1;}#sk-container-id-1 div.sk-parallel-item {display: flex;flex-direction: column;z-index: 1;position: relative;background-color: white;}#sk-container-id-1 div.sk-parallel-item:first-child::after {align-self: flex-end;width: 50%;}#sk-container-id-1 div.sk-parallel-item:last-child::after {align-self: flex-start;width: 50%;}#sk-container-id-1 div.sk-parallel-item:only-child::after {width: 0;}#sk-container-id-1 div.sk-dashed-wrapped {border: 1px dashed gray;margin: 0 0.4em 0.5em 0.4em;box-sizing: border-box;padding-bottom: 0.4em;background-color: white;}#sk-container-id-1 div.sk-label label {font-family: monospace;font-weight: bold;display: inline-block;line-height: 1.2em;}#sk-container-id-1 div.sk-label-container {text-align: center;}#sk-container-id-1 div.sk-container {/* jupyter's `normalize.less` sets `[hidden] { display: none; }` but bootstrap.min.css set `[hidden] { display: none !important; }` so we also need the `!important` here to be able to override the default hidden behavior on the sphinx rendered scikit-learn.org. See: https://github.com/scikit-learn/scikit-learn/issues/21755 */display: inline-block !important;position: relative;}#sk-container-id-1 div.sk-text-repr-fallback {display: none;}</style><div id=\"sk-container-id-1\" class=\"sk-top-container\"><div class=\"sk-text-repr-fallback\"><pre>DecisionTreeClassifier()</pre><b>In a Jupyter environment, please rerun this cell to show the HTML representation or trust the notebook. <br />On GitHub, the HTML representation is unable to render, please try loading this page with nbviewer.org.</b></div><div class=\"sk-container\" hidden><div class=\"sk-item\"><div class=\"sk-estimator sk-toggleable\"><input class=\"sk-toggleable__control sk-hidden--visually\" id=\"sk-estimator-id-1\" type=\"checkbox\" checked><label for=\"sk-estimator-id-1\" class=\"sk-toggleable__label sk-toggleable__label-arrow\">DecisionTreeClassifier</label><div class=\"sk-toggleable__content\"><pre>DecisionTreeClassifier()</pre></div></div></div></div></div>"
      ],
      "text/plain": [
       "DecisionTreeClassifier()"
      ]
     },
     "execution_count": 12,
     "metadata": {},
     "output_type": "execute_result"
    }
   ],
   "source": [
    "dt = DecisionTreeClassifier()\n",
    "dt.fit(auxtrain,auytrain)"
   ]
  },
  {
   "cell_type": "code",
   "execution_count": 14,
   "metadata": {},
   "outputs": [],
   "source": [
    "feature_importances=dt.feature_importances_"
   ]
  },
  {
   "cell_type": "code",
   "execution_count": 19,
   "metadata": {},
   "outputs": [
    {
     "name": "stdout",
     "output_type": "stream",
     "text": [
      "dur 0.494774728259006 %\n",
      "proto 0.44499243358637725 %\n",
      "service 0.26021835588268905 %\n",
      "state 0.6558121322316898 %\n",
      "spkts 0.037265307650032206 %\n",
      "dpkts 0.13531963465204117 %\n",
      "sbytes 4.666892366390482 %\n",
      "dbytes 0.5726813044652695 %\n",
      "rate 0.5041003157343968 %\n",
      "sttl 67.51125865798457 %\n",
      "dttl 0.0026024418185330296 %\n",
      "sload 1.0314370342240438 %\n",
      "dload 0.8682199247957288 %\n",
      "sloss 0.6595247045966921 %\n",
      "dloss 0.11608281964867401 %\n",
      "sinpkt 1.0708705195807007 %\n",
      "dinpkt 0.6590072557050395 %\n",
      "sjit 0.5543496212740541 %\n",
      "djit 0.789982893825548 %\n",
      "swin 0.005262289724293839 %\n",
      "stcpb 1.0207772703605626 %\n",
      "dtcpb 0.9107748757337689 %\n",
      "dwin 0.0 %\n",
      "tcprtt 0.9970553762140736 %\n",
      "synack 1.0087292690043292 %\n",
      "ackdat 0.8749080379467142 %\n",
      "smean 2.9428230536043545 %\n",
      "dmean 0.6182751878163082 %\n",
      "trans_depth 0.01917314430526644 %\n",
      "response_body_len 0.049870911214560394 %\n",
      "ct_srv_src 1.5481241565781978 %\n",
      "ct_state_ttl 0.03832894486158076 %\n",
      "ct_dst_ltm 0.4903751182683198 %\n",
      "ct_src_dport_ltm 0.4267428953656606 %\n",
      "ct_dst_sport_ltm 0.218336288843193 %\n",
      "ct_dst_src_ltm 0.9420390371219411 %\n",
      "is_ftp_login 0.002741065957959413 %\n",
      "ct_ftp_cmd 0.0035163612360240228 %\n",
      "ct_flw_http_mthd 0.0961623695208982 %\n",
      "ct_src_ltm 0.6179900356469711 %\n",
      "ct_srv_dst 6.13260185836944 %\n"
     ]
    }
   ],
   "source": [
    "for i in range(len(auxtrain.columns)):\n",
    "    print(auxtrain.columns[i], feature_importances[i]*100,'%')"
   ]
  },
  {
   "cell_type": "code",
   "execution_count": 17,
   "metadata": {},
   "outputs": [
    {
     "data": {
      "image/png": "[encoded data removed]",
      "text/plain": [
       "<Figure size 8000x6000 with 1 Axes>"
      ]
     },
     "metadata": {},
     "output_type": "display_data"
    }
   ],
   "source": [
    "plt.figure(figsize=(80, 60))\n",
    "plt.bar(range(len(feature_importances)), feature_importances, tick_label=auxtrain.columns)\n",
    "plt.title(\"Feature Importances\")\n",
    "plt.xlabel(\"Feature\")\n",
    "plt.ylabel(\"Importance\")\n",
    "plt.xticks(rotation=45)\n",
    "plt.show()"
   ]
  },
  {
   "cell_type": "markdown",
   "metadata": {},
   "source": [
    "## Baseline model evaluation"
   ]
  },
  {
   "cell_type": "code",
   "execution_count": 2,
   "metadata": {},
   "outputs": [],
   "source": [
    "train = pd.read_csv(r'D:\\Project Phase II\\Dataset\\train.csv',encoding='cp1252')\n",
    "test = pd.read_csv(r'D:\\Project Phase II\\Dataset\\test.csv',encoding='cp1252')"
   ]
  },
  {
   "cell_type": "code",
   "execution_count": 3,
   "metadata": {},
   "outputs": [],
   "source": [
    "todrop = ['srcip','sport','dstip','dsport','Stime','Ltime','attack_cat']\n",
    "train1 = train.drop(todrop, axis = 1)\n",
    "test1 = test.drop(todrop, axis = 1)\n",
    "\n",
    "train1 = train1.drop_duplicates()\n",
    "test1 = test1.drop_duplicates()"
   ]
  },
  {
   "cell_type": "code",
   "execution_count": 5,
   "metadata": {},
   "outputs": [],
   "source": [
    "autrainfull = pd.read_csv(r'D:\\Project Phase II\\Dataset\\tracetrain.csv',encoding='cp1252')\n",
    "autestfull = pd.read_csv(r'D:\\Project Phase II\\Dataset\\tracetest.csv',encoding='cp1252')"
   ]
  },
  {
   "cell_type": "code",
   "execution_count": 23,
   "metadata": {},
   "outputs": [],
   "source": [
    "# List of classifiers to include\n",
    "import sklearn\n",
    "import xgboost\n",
    "import lightgbm\n",
    "import sklearn.discriminant_analysis\n",
    "from lazypredict.Supervised import LazyClassifier\n",
    "\n",
    "#Skip SVM\n",
    "classifiers = [\n",
    " ('AdaBoostClassifier', sklearn.ensemble._weight_boosting.AdaBoostClassifier),\n",
    " ('BaggingClassifier', sklearn.ensemble._bagging.BaggingClassifier),\n",
    " ('BernoulliNB', sklearn.naive_bayes.BernoulliNB),\n",
    " ('DecisionTreeClassifier', sklearn.tree._classes.DecisionTreeClassifier),\n",
    " ('DummyClassifier', sklearn.dummy.DummyClassifier),\n",
    " ('GaussianNB', sklearn.naive_bayes.GaussianNB),\n",
    " ('KNeighborsClassifier',  sklearn.neighbors._classification.KNeighborsClassifier),\n",
    " ('LinearDiscriminantAnalysis',  sklearn.discriminant_analysis.LinearDiscriminantAnalysis),\n",
    " ('LogisticRegression', sklearn.linear_model._logistic.LogisticRegression),\n",
    " ('Perceptron', sklearn.linear_model._perceptron.Perceptron),\n",
    " ('QuadraticDiscriminantAnalysis',  sklearn.discriminant_analysis.QuadraticDiscriminantAnalysis),\n",
    " ('RandomForestClassifier', sklearn.ensemble._forest.RandomForestClassifier),\n",
    " ('StackingClassifier', sklearn.ensemble._stacking.StackingClassifier),\n",
    " ('XGBClassifier', xgboost.sklearn.XGBClassifier),\n",
    " ('LGBMClassifier', lightgbm.sklearn.LGBMClassifier)]\n",
    "clf = LazyClassifier(verbose=1,ignore_warnings=True, custom_metric=None,classifiers=classifiers,predictions=True)\n"
   ]
  },
  {
   "cell_type": "code",
   "execution_count": 7,
   "metadata": {},
   "outputs": [],
   "source": [
    "#Change column names of df\n",
    "train1 = train1.rename(columns={'Dintpkt':'dintpkt','Djit':'djit','Dload':'dload','Dpkts':'dpkts','Label':'label','Sintpkt':'sintpkt','Sjit':'sjit','Sload': 'sload', 'Spkts':'spkts','dmeansz':'dmean','res_bdy_len':'response_body_len', 'smeansz':'smean'})"
   ]
  },
  {
   "cell_type": "code",
   "execution_count": 28,
   "metadata": {},
   "outputs": [],
   "source": [
    "test1 = pd.concat([autrainfull,autestfull], ignore_index=True)"
   ]
  },
  {
   "cell_type": "code",
   "execution_count": 33,
   "metadata": {},
   "outputs": [
    {
     "data": {
      "text/plain": [
       "Index(['dur', 'proto', 'service', 'state', 'spkts', 'dpkts', 'sbytes',\n",
       "       'dbytes', 'sttl', 'dttl', 'sload', 'dload', 'sloss', 'dloss', 'sjit',\n",
       "       'djit', 'swin', 'stcpb', 'dtcpb', 'dwin', 'tcprtt', 'synack', 'ackdat',\n",
       "       'smean', 'dmean', 'trans_depth', 'response_body_len', 'ct_srv_src',\n",
       "       'ct_state_ttl', 'ct_dst_ltm', 'ct_src_dport_ltm', 'ct_dst_sport_ltm',\n",
       "       'ct_dst_src_ltm', 'is_ftp_login', 'ct_ftp_cmd', 'ct_flw_http_mthd',\n",
       "       'ct_srv_dst', 'label', 'sintpkt', 'dintpkt', 'ct_src_ ltm'],\n",
       "      dtype='object')"
      ]
     },
     "execution_count": 33,
     "metadata": {},
     "output_type": "execute_result"
    }
   ],
   "source": [
    "test1.columns"
   ]
  },
  {
   "cell_type": "code",
   "execution_count": 34,
   "metadata": {},
   "outputs": [
    {
     "data": {
      "text/plain": [
       "Index(['proto', 'state', 'dur', 'sbytes', 'dbytes', 'sttl', 'dttl', 'sloss',\n",
       "       'dloss', 'service', 'sload', 'dload', 'spkts', 'dpkts', 'swin', 'dwin',\n",
       "       'stcpb', 'dtcpb', 'smean', 'dmean', 'trans_depth', 'response_body_len',\n",
       "       'sjit', 'djit', 'sintpkt', 'dintpkt', 'tcprtt', 'synack', 'ackdat',\n",
       "       'ct_state_ttl', 'ct_flw_http_mthd', 'is_ftp_login', 'ct_ftp_cmd',\n",
       "       'ct_srv_src', 'ct_srv_dst', 'ct_dst_ltm', 'ct_src_ ltm',\n",
       "       'ct_src_dport_ltm', 'ct_dst_sport_ltm', 'ct_dst_src_ltm', 'label'],\n",
       "      dtype='object')"
      ]
     },
     "execution_count": 34,
     "metadata": {},
     "output_type": "execute_result"
    }
   ],
   "source": [
    "train1.columns"
   ]
  },
  {
   "cell_type": "code",
   "execution_count": 29,
   "metadata": {},
   "outputs": [],
   "source": [
    "test1 = test1.drop(['srcip', 'sport', 'dstip', 'dsport', 'Stime', 'Ltime', 'attack_cat', 'ct_src_ltm', 'dinpkt', 'is_sm_ips_ports', 'sinpkt'], axis = 1)"
   ]
  },
  {
   "cell_type": "code",
   "execution_count": null,
   "metadata": {},
   "outputs": [],
   "source": [
    "#rearrage the columns of test1 to match with train1\n",
    "test1 = test1[train1.columns]"
   ]
  },
  {
   "cell_type": "code",
   "execution_count": 48,
   "metadata": {},
   "outputs": [],
   "source": [
    "x_train = train1.drop(['label'], axis = 1)\n",
    "y_train = train1['label']\n",
    "\n",
    "x_test = test1.drop(['label'], axis = 1)\n",
    "y_test = test1['label']"
   ]
  },
  {
   "cell_type": "code",
   "execution_count": 49,
   "metadata": {},
   "outputs": [],
   "source": [
    "#label encode y_train\n",
    "le = LabelEncoder()\n",
    "x_test['proto'] = le.fit_transform(x_test['proto'])\n",
    "x_test['state'] = le.fit_transform(x_test['state'])\n",
    "x_test['service'] = le.fit_transform(x_test['service'])\n",
    "\n"
   ]
  },
  {
   "cell_type": "code",
   "execution_count": 52,
   "metadata": {},
   "outputs": [
    {
     "name": "stdout",
     "output_type": "stream",
     "text": [
      "'tuple' object has no attribute '__name__'\n",
      "Invalid Classifier(s)\n"
     ]
    },
    {
     "name": "stderr",
     "output_type": "stream",
     "text": [
      "  7%|▋         | 1/15 [00:15<03:36, 15.45s/it]"
     ]
    },
    {
     "name": "stdout",
     "output_type": "stream",
     "text": [
      "{'Model': 'AdaBoostClassifier', 'Accuracy': 0.984302764097786, 'Balanced Accuracy': 0.9903216227785134, 'ROC AUC': 0.9903216227785134, 'F1 Score': 0.9845683241959644, 'Time taken': 15.445244073867798}\n"
     ]
    },
    {
     "name": "stderr",
     "output_type": "stream",
     "text": [
      " 13%|█▎        | 2/15 [00:30<03:16, 15.09s/it]"
     ]
    },
    {
     "name": "stdout",
     "output_type": "stream",
     "text": [
      "{'Model': 'BaggingClassifier', 'Accuracy': 0.45574337814454946, 'Balanced Accuracy': 0.6713997879957045, 'ROC AUC': 0.6713997879957045, 'F1 Score': 0.489603942231856, 'Time taken': 14.84718132019043}\n"
     ]
    },
    {
     "name": "stderr",
     "output_type": "stream",
     "text": [
      " 20%|██        | 3/15 [00:31<01:43,  8.64s/it]"
     ]
    },
    {
     "name": "stdout",
     "output_type": "stream",
     "text": [
      "{'Model': 'BernoulliNB', 'Accuracy': 0.9462664714494875, 'Balanced Accuracy': 0.8785322179932227, 'ROC AUC': 0.8785322179932226, 'F1 Score': 0.9446817252880235, 'Time taken': 0.9506227970123291}\n"
     ]
    },
    {
     "name": "stderr",
     "output_type": "stream",
     "text": [
      " 27%|██▋       | 4/15 [00:34<01:09,  6.36s/it]"
     ]
    },
    {
     "name": "stdout",
     "output_type": "stream",
     "text": [
      "{'Model': 'DecisionTreeClassifier', 'Accuracy': 0.45519322063977996, 'Balanced Accuracy': 0.6691495160121027, 'ROC AUC': 0.6691495160121026, 'F1 Score': 0.489360008670502, 'Time taken': 2.872992753982544}\n"
     ]
    },
    {
     "name": "stderr",
     "output_type": "stream",
     "text": [
      " 33%|███▎      | 5/15 [00:34<00:43,  4.37s/it]"
     ]
    },
    {
     "name": "stdout",
     "output_type": "stream",
     "text": [
      "{'Model': 'DummyClassifier', 'Accuracy': 0.8285061449043879, 'Balanced Accuracy': 0.5, 'ROC AUC': 0.5, 'F1 Score': 0.7508013402713759, 'Time taken': 0.8490002155303955}\n"
     ]
    },
    {
     "name": "stderr",
     "output_type": "stream",
     "text": [
      " 40%|████      | 6/15 [00:37<00:32,  3.60s/it]"
     ]
    },
    {
     "name": "stdout",
     "output_type": "stream",
     "text": [
      "{'Model': 'GaussianNB', 'Accuracy': 0.9164337370779537, 'Balanced Accuracy': 0.9479678542965332, 'ROC AUC': 0.9479678542965332, 'F1 Score': 0.9223296524184883, 'Time taken': 2.0959532260894775}\n"
     ]
    },
    {
     "name": "stderr",
     "output_type": "stream",
     "text": [
      " 47%|████▋     | 7/15 [02:00<03:56, 29.56s/it]"
     ]
    },
    {
     "name": "stdout",
     "output_type": "stream",
     "text": [
      "{'Model': 'KNeighborsClassifier', 'Accuracy': 0.45479391277341497, 'Balanced Accuracy': 0.6707960154756292, 'ROC AUC': 0.6707960154756292, 'F1 Score': 0.48848621480237003, 'Time taken': 82.99421238899231}\n"
     ]
    },
    {
     "name": "stderr",
     "output_type": "stream",
     "text": [
      " 53%|█████▎    | 8/15 [02:00<02:22, 20.40s/it]"
     ]
    },
    {
     "name": "stdout",
     "output_type": "stream",
     "text": [
      "{'Model': 'LinearDiscriminantAnalysis', 'Accuracy': 0.918949376636053, 'Balanced Accuracy': 0.9504092562278023, 'ROC AUC': 0.9504092562278023, 'F1 Score': 0.9245816831474949, 'Time taken': 0.7928173542022705}\n"
     ]
    },
    {
     "name": "stderr",
     "output_type": "stream",
     "text": [
      " 60%|██████    | 9/15 [02:02<01:26, 14.41s/it]"
     ]
    },
    {
     "name": "stdout",
     "output_type": "stream",
     "text": [
      "{'Model': 'LogisticRegression', 'Accuracy': 0.9816762056879187, 'Balanced Accuracy': 0.9815558749497144, 'ROC AUC': 0.9815558749497144, 'F1 Score': 0.9819178212571186, 'Time taken': 1.2489993572235107}\n"
     ]
    },
    {
     "name": "stderr",
     "output_type": "stream",
     "text": [
      " 67%|██████▋   | 10/15 [02:02<00:51, 10.23s/it]"
     ]
    },
    {
     "name": "stdout",
     "output_type": "stream",
     "text": [
      "{'Model': 'Perceptron', 'Accuracy': 0.8955765561914903, 'Balanced Accuracy': 0.8815874500159915, 'ROC AUC': 0.8815874500159914, 'F1 Score': 0.901118292779229, 'Time taken': 0.8684346675872803}\n"
     ]
    },
    {
     "name": "stderr",
     "output_type": "stream",
     "text": [
      " 73%|███████▎  | 11/15 [02:03<00:29,  7.38s/it]"
     ]
    },
    {
     "name": "stdout",
     "output_type": "stream",
     "text": [
      "{'Model': 'QuadraticDiscriminantAnalysis', 'Accuracy': 0.45411508940059453, 'Balanced Accuracy': 0.669996542732163, 'ROC AUC': 0.669996542732163, 'F1 Score': 0.4877648796250428, 'Time taken': 0.9050774574279785}\n"
     ]
    },
    {
     "name": "stderr",
     "output_type": "stream",
     "text": [
      " 80%|████████  | 12/15 [02:25<00:35, 11.81s/it]"
     ]
    },
    {
     "name": "stdout",
     "output_type": "stream",
     "text": [
      "{'Model': 'RandomForestClassifier', 'Accuracy': 0.4849948977328187, 'Balanced Accuracy': 0.6891965705778715, 'ROC AUC': 0.6891965705778715, 'F1 Score': 0.5234346785557622, 'Time taken': 21.955440521240234}\n"
     ]
    },
    {
     "name": "stderr",
     "output_type": "stream",
     "text": [
      " 93%|█████████▎| 14/15 [02:27<00:06,  6.71s/it]"
     ]
    },
    {
     "name": "stdout",
     "output_type": "stream",
     "text": [
      "{'Model': 'XGBClassifier', 'Accuracy': 0.455335196770043, 'Balanced Accuracy': 0.6712457746359737, 'ROC AUC': 0.6712457746359737, 'F1 Score': 0.48910114898495477, 'Time taken': 1.6976375579833984}\n",
      "[LightGBM] [Info] Number of positive: 41231, number of negative: 41231\n",
      "[LightGBM] [Info] Auto-choosing row-wise multi-threading, the overhead of testing was 0.011847 seconds.\n",
      "You can set `force_row_wise=true` to remove the overhead.\n",
      "And if memory is not enough, you can set `force_col_wise=true`.\n",
      "[LightGBM] [Info] Total Bins 5829\n",
      "[LightGBM] [Info] Number of data points in the train set: 82462, number of used features: 40\n",
      "[LightGBM] [Info] [binary:BoostFromScore]: pavg=0.500000 -> initscore=0.000000\n"
     ]
    },
    {
     "name": "stderr",
     "output_type": "stream",
     "text": [
      "100%|██████████| 15/15 [02:29<00:00,  9.99s/it]"
     ]
    },
    {
     "name": "stdout",
     "output_type": "stream",
     "text": [
      "{'Model': 'LGBMClassifier', 'Accuracy': 0.4547184879542127, 'Balanced Accuracy': 0.6709248836599067, 'ROC AUC': 0.6709248836599067, 'F1 Score': 0.4883595830365545, 'Time taken': 2.2951292991638184}\n"
     ]
    },
    {
     "name": "stderr",
     "output_type": "stream",
     "text": [
      "\n"
     ]
    }
   ],
   "source": [
    "#train models using clf \n",
    "models,predictions = clf.fit(x_train, x_test, y_train, y_test)\n"
   ]
  },
  {
   "cell_type": "code",
   "execution_count": 53,
   "metadata": {},
   "outputs": [
    {
     "name": "stdout",
     "output_type": "stream",
     "text": [
      "AdaBoostClassifier\n",
      "              precision    recall  f1-score   support\n",
      "\n",
      "           0       1.00      0.98      0.99    186737\n",
      "           1       0.92      1.00      0.96     38653\n",
      "\n",
      "    accuracy                           0.98    225390\n",
      "   macro avg       0.96      0.99      0.97    225390\n",
      "weighted avg       0.99      0.98      0.98    225390\n",
      "\n",
      "AUC Scores for each class: 0.9903216227785134\n",
      "-----------------------------------------------------------------------------------\n",
      "-----------------------------------------------------------------------------------\n",
      "BaggingClassifier\n",
      "              precision    recall  f1-score   support\n",
      "\n",
      "           0       1.00      0.34      0.51    186737\n",
      "           1       0.24      1.00      0.39     38653\n",
      "\n",
      "    accuracy                           0.46    225390\n",
      "   macro avg       0.62      0.67      0.45    225390\n",
      "weighted avg       0.87      0.46      0.49    225390\n",
      "\n",
      "AUC Scores for each class: 0.6713997879957045\n",
      "-----------------------------------------------------------------------------------\n",
      "-----------------------------------------------------------------------------------\n",
      "BernoulliNB\n",
      "              precision    recall  f1-score   support\n",
      "\n",
      "           0       0.95      0.98      0.97    186737\n",
      "           1       0.90      0.78      0.83     38653\n",
      "\n",
      "    accuracy                           0.95    225390\n",
      "   macro avg       0.93      0.88      0.90    225390\n",
      "weighted avg       0.94      0.95      0.94    225390\n",
      "\n",
      "AUC Scores for each class: 0.8785322179932226\n",
      "-----------------------------------------------------------------------------------\n",
      "-----------------------------------------------------------------------------------\n",
      "DecisionTreeClassifier\n",
      "              precision    recall  f1-score   support\n",
      "\n",
      "           0       1.00      0.34      0.51    186737\n",
      "           1       0.24      0.99      0.39     38653\n",
      "\n",
      "    accuracy                           0.46    225390\n",
      "   macro avg       0.62      0.67      0.45    225390\n",
      "weighted avg       0.87      0.46      0.49    225390\n",
      "\n",
      "AUC Scores for each class: 0.6691495160121026\n",
      "-----------------------------------------------------------------------------------\n",
      "-----------------------------------------------------------------------------------\n",
      "DummyClassifier\n",
      "              precision    recall  f1-score   support\n",
      "\n",
      "           0       0.83      1.00      0.91    186737\n",
      "           1       0.00      0.00      0.00     38653\n",
      "\n",
      "    accuracy                           0.83    225390\n",
      "   macro avg       0.41      0.50      0.45    225390\n",
      "weighted avg       0.69      0.83      0.75    225390\n",
      "\n",
      "AUC Scores for each class: 0.5\n",
      "-----------------------------------------------------------------------------------\n",
      "-----------------------------------------------------------------------------------\n",
      "GaussianNB\n",
      "              precision    recall  f1-score   support\n",
      "\n",
      "           0       1.00      0.90      0.95    186737\n",
      "           1       0.67      1.00      0.80     38653\n",
      "\n",
      "    accuracy                           0.92    225390\n",
      "   macro avg       0.84      0.95      0.88    225390\n",
      "weighted avg       0.94      0.92      0.92    225390\n",
      "\n",
      "AUC Scores for each class: 0.9479678542965332\n",
      "-----------------------------------------------------------------------------------\n",
      "-----------------------------------------------------------------------------------\n",
      "KNeighborsClassifier\n",
      "              precision    recall  f1-score   support\n",
      "\n",
      "           0       1.00      0.34      0.51    186737\n",
      "           1       0.24      1.00      0.39     38653\n",
      "\n",
      "    accuracy                           0.45    225390\n",
      "   macro avg       0.62      0.67      0.45    225390\n",
      "weighted avg       0.87      0.45      0.49    225390\n",
      "\n",
      "AUC Scores for each class: 0.6707960154756292\n",
      "-----------------------------------------------------------------------------------\n",
      "-----------------------------------------------------------------------------------\n",
      "LinearDiscriminantAnalysis\n",
      "              precision    recall  f1-score   support\n",
      "\n",
      "           0       1.00      0.90      0.95    186737\n",
      "           1       0.68      1.00      0.81     38653\n",
      "\n",
      "    accuracy                           0.92    225390\n",
      "   macro avg       0.84      0.95      0.88    225390\n",
      "weighted avg       0.94      0.92      0.92    225390\n",
      "\n",
      "AUC Scores for each class: 0.9504092562278023\n",
      "-----------------------------------------------------------------------------------\n",
      "-----------------------------------------------------------------------------------\n",
      "LogisticRegression\n",
      "              precision    recall  f1-score   support\n",
      "\n",
      "           0       1.00      0.98      0.99    186737\n",
      "           1       0.92      0.98      0.95     38653\n",
      "\n",
      "    accuracy                           0.98    225390\n",
      "   macro avg       0.96      0.98      0.97    225390\n",
      "weighted avg       0.98      0.98      0.98    225390\n",
      "\n",
      "AUC Scores for each class: 0.9815558749497144\n",
      "-----------------------------------------------------------------------------------\n",
      "-----------------------------------------------------------------------------------\n",
      "Perceptron\n",
      "              precision    recall  f1-score   support\n",
      "\n",
      "           0       0.97      0.90      0.93    186737\n",
      "           1       0.65      0.86      0.74     38653\n",
      "\n",
      "    accuracy                           0.90    225390\n",
      "   macro avg       0.81      0.88      0.84    225390\n",
      "weighted avg       0.91      0.90      0.90    225390\n",
      "\n",
      "AUC Scores for each class: 0.8815874500159914\n",
      "-----------------------------------------------------------------------------------\n",
      "-----------------------------------------------------------------------------------\n",
      "QuadraticDiscriminantAnalysis\n",
      "              precision    recall  f1-score   support\n",
      "\n",
      "           0       1.00      0.34      0.51    186737\n",
      "           1       0.24      1.00      0.39     38653\n",
      "\n",
      "    accuracy                           0.45    225390\n",
      "   macro avg       0.62      0.67      0.45    225390\n",
      "weighted avg       0.87      0.45      0.49    225390\n",
      "\n",
      "AUC Scores for each class: 0.669996542732163\n",
      "-----------------------------------------------------------------------------------\n",
      "-----------------------------------------------------------------------------------\n",
      "RandomForestClassifier\n",
      "              precision    recall  f1-score   support\n",
      "\n",
      "           0       1.00      0.38      0.55    186737\n",
      "           1       0.25      1.00      0.40     38653\n",
      "\n",
      "    accuracy                           0.48    225390\n",
      "   macro avg       0.62      0.69      0.47    225390\n",
      "weighted avg       0.87      0.48      0.52    225390\n",
      "\n",
      "AUC Scores for each class: 0.6891965705778715\n",
      "-----------------------------------------------------------------------------------\n",
      "-----------------------------------------------------------------------------------\n",
      "XGBClassifier\n",
      "              precision    recall  f1-score   support\n",
      "\n",
      "           0       1.00      0.34      0.51    186737\n",
      "           1       0.24      1.00      0.39     38653\n",
      "\n",
      "    accuracy                           0.46    225390\n",
      "   macro avg       0.62      0.67      0.45    225390\n",
      "weighted avg       0.87      0.46      0.49    225390\n",
      "\n",
      "AUC Scores for each class: 0.6712457746359737\n",
      "-----------------------------------------------------------------------------------\n",
      "-----------------------------------------------------------------------------------\n",
      "LGBMClassifier\n",
      "              precision    recall  f1-score   support\n",
      "\n",
      "           0       1.00      0.34      0.51    186737\n",
      "           1       0.24      1.00      0.39     38653\n",
      "\n",
      "    accuracy                           0.45    225390\n",
      "   macro avg       0.62      0.67      0.45    225390\n",
      "weighted avg       0.87      0.45      0.49    225390\n",
      "\n",
      "AUC Scores for each class: 0.6709248836599067\n",
      "-----------------------------------------------------------------------------------\n",
      "-----------------------------------------------------------------------------------\n"
     ]
    }
   ],
   "source": [
    "from sklearn.metrics import roc_auc_score\n",
    "for model in predictions.columns:\n",
    "    print(model)\n",
    "    print(classification_report(y_test, predictions[model]))\n",
    "    auc_scores = roc_auc_score(y_test, predictions[model], multi_class='ovr')  # Or multi_class='ovo' for one-vs-one\n",
    "    print(\"AUC Scores for each class:\", auc_scores)\n",
    "    print('-----------------------------------------------------------------------------------')\n",
    "    print('-----------------------------------------------------------------------------------')"
   ]
  },
  {
   "cell_type": "code",
   "execution_count": 16,
   "metadata": {},
   "outputs": [
    {
     "name": "stdout",
     "output_type": "stream",
     "text": [
      "'tuple' object has no attribute '__name__'\n",
      "Invalid Classifier(s)\n"
     ]
    },
    {
     "name": "stderr",
     "output_type": "stream",
     "text": [
      "  7%|▋         | 1/15 [00:37<08:46, 37.63s/it]"
     ]
    },
    {
     "name": "stdout",
     "output_type": "stream",
     "text": [
      "{'Model': 'AdaBoostClassifier', 'Accuracy': 0.9917660540724078, 'Balanced Accuracy': 0.9918240882027077, 'ROC AUC': 0.9918240882027077, 'F1 Score': 0.9917660974432811, 'Time taken': 37.62700581550598}\n"
     ]
    },
    {
     "name": "stderr",
     "output_type": "stream",
     "text": [
      " 13%|█▎        | 2/15 [01:12<07:50, 36.18s/it]"
     ]
    },
    {
     "name": "stdout",
     "output_type": "stream",
     "text": [
      "{'Model': 'BaggingClassifier', 'Accuracy': 0.9913416238699546, 'Balanced Accuracy': 0.991389416035382, 'ROC AUC': 0.9913894160353821, 'F1 Score': 0.9913417279666493, 'Time taken': 35.16499471664429}\n"
     ]
    },
    {
     "name": "stderr",
     "output_type": "stream",
     "text": [
      " 20%|██        | 3/15 [01:13<03:59, 19.96s/it]"
     ]
    },
    {
     "name": "stdout",
     "output_type": "stream",
     "text": [
      "{'Model': 'BernoulliNB', 'Accuracy': 0.9766563388650736, 'Balanced Accuracy': 0.9766003585036526, 'ROC AUC': 0.9766003585036528, 'F1 Score': 0.9766539901937684, 'Time taken': 0.6599974632263184}\n"
     ]
    },
    {
     "name": "stderr",
     "output_type": "stream",
     "text": [
      " 27%|██▋       | 4/15 [01:17<02:32, 13.86s/it]"
     ]
    },
    {
     "name": "stdout",
     "output_type": "stream",
     "text": [
      "{'Model': 'DecisionTreeClassifier', 'Accuracy': 0.985824031238063, 'Balanced Accuracy': 0.9858169901906915, 'ROC AUC': 0.9858169901906916, 'F1 Score': 0.9858239360808565, 'Time taken': 4.515000104904175}\n"
     ]
    },
    {
     "name": "stderr",
     "output_type": "stream",
     "text": [
      " 33%|███▎      | 5/15 [01:18<01:30,  9.05s/it]"
     ]
    },
    {
     "name": "stdout",
     "output_type": "stream",
     "text": [
      "{'Model': 'DummyClassifier', 'Accuracy': 0.4959891345868172, 'Balanced Accuracy': 0.5, 'ROC AUC': 0.5, 'F1 Score': 0.3288863748280163, 'Time taken': 0.5200035572052002}\n"
     ]
    },
    {
     "name": "stderr",
     "output_type": "stream",
     "text": [
      " 40%|████      | 6/15 [01:19<00:55,  6.22s/it]"
     ]
    },
    {
     "name": "stdout",
     "output_type": "stream",
     "text": [
      "{'Model': 'GaussianNB', 'Accuracy': 0.976698781885319, 'Balanced Accuracy': 0.976830413360116, 'ROC AUC': 0.976830413360116, 'F1 Score': 0.9766954663684847, 'Time taken': 0.7210114002227783}\n"
     ]
    },
    {
     "name": "stderr",
     "output_type": "stream",
     "text": [
      " 47%|████▋     | 7/15 [01:46<01:44, 13.00s/it]"
     ]
    },
    {
     "name": "stdout",
     "output_type": "stream",
     "text": [
      "{'Model': 'KNeighborsClassifier', 'Accuracy': 0.9917236110521624, 'Balanced Accuracy': 0.9917813019627625, 'ROC AUC': 0.9917813019627626, 'F1 Score': 0.9917236569426132, 'Time taken': 26.956446886062622}\n"
     ]
    },
    {
     "name": "stderr",
     "output_type": "stream",
     "text": [
      " 53%|█████▎    | 8/15 [01:47<01:05,  9.39s/it]"
     ]
    },
    {
     "name": "stdout",
     "output_type": "stream",
     "text": [
      "{'Model': 'LinearDiscriminantAnalysis', 'Accuracy': 0.9869699927846866, 'Balanced Accuracy': 0.9870226109514759, 'ROC AUC': 0.9870226109514758, 'F1 Score': 0.9869701107101656, 'Time taken': 1.6539990901947021}\n"
     ]
    },
    {
     "name": "stderr",
     "output_type": "stream",
     "text": [
      " 60%|██████    | 9/15 [01:50<00:43,  7.26s/it]"
     ]
    },
    {
     "name": "stdout",
     "output_type": "stream",
     "text": [
      "{'Model': 'LogisticRegression', 'Accuracy': 0.9917660540724078, 'Balanced Accuracy': 0.9918240882027077, 'ROC AUC': 0.9918240882027077, 'F1 Score': 0.9917660974432811, 'Time taken': 2.5870039463043213}\n"
     ]
    },
    {
     "name": "stderr",
     "output_type": "stream",
     "text": [
      " 67%|██████▋   | 10/15 [01:51<00:26,  5.30s/it]"
     ]
    },
    {
     "name": "stdout",
     "output_type": "stream",
     "text": [
      "{'Model': 'Perceptron', 'Accuracy': 0.9892619158779339, 'Balanced Accuracy': 0.989309914697749, 'ROC AUC': 0.989309914697749, 'F1 Score': 0.9892620431212233, 'Time taken': 0.913992166519165}\n"
     ]
    },
    {
     "name": "stderr",
     "output_type": "stream",
     "text": [
      " 73%|███████▎  | 11/15 [01:52<00:16,  4.16s/it]"
     ]
    },
    {
     "name": "stdout",
     "output_type": "stream",
     "text": [
      "{'Model': 'QuadraticDiscriminantAnalysis', 'Accuracy': 0.9898561181613683, 'Balanced Accuracy': 0.9899136888944936, 'ROC AUC': 0.9899136888944936, 'F1 Score': 0.9898561744065874, 'Time taken': 1.5720150470733643}\n"
     ]
    },
    {
     "name": "stderr",
     "output_type": "stream",
     "text": [
      " 80%|████████  | 12/15 [02:41<00:53, 17.83s/it]"
     ]
    },
    {
     "name": "stdout",
     "output_type": "stream",
     "text": [
      "{'Model': 'RandomForestClassifier', 'Accuracy': 0.9923602563558422, 'Balanced Accuracy': 0.9924190097012169, 'ROC AUC': 0.9924190097012169, 'F1 Score': 0.9923602922754869, 'Time taken': 49.078004121780396}\n"
     ]
    },
    {
     "name": "stderr",
     "output_type": "stream",
     "text": [
      " 93%|█████████▎| 14/15 [02:47<00:10, 10.82s/it]"
     ]
    },
    {
     "name": "stdout",
     "output_type": "stream",
     "text": [
      "{'Model': 'XGBClassifier', 'Accuracy': 0.992190484274861, 'Balanced Accuracy': 0.9922471837646487, 'ROC AUC': 0.9922471837646487, 'F1 Score': 0.9921905339072965, 'Time taken': 5.527029752731323}\n",
      "[LightGBM] [Info] Number of positive: 47216, number of negative: 47027\n",
      "[LightGBM] [Info] Auto-choosing row-wise multi-threading, the overhead of testing was 0.023141 seconds.\n",
      "You can set `force_row_wise=true` to remove the overhead.\n",
      "And if memory is not enough, you can set `force_col_wise=true`.\n",
      "[LightGBM] [Info] Total Bins 6349\n",
      "[LightGBM] [Info] Number of data points in the train set: 94243, number of used features: 42\n",
      "[LightGBM] [Info] [binary:BoostFromScore]: pavg=0.501003 -> initscore=0.004011\n",
      "[LightGBM] [Info] Start training from score 0.004011\n"
     ]
    },
    {
     "name": "stderr",
     "output_type": "stream",
     "text": [
      "100%|██████████| 15/15 [02:53<00:00, 11.54s/it]"
     ]
    },
    {
     "name": "stdout",
     "output_type": "stream",
     "text": [
      "{'Model': 'LGBMClassifier', 'Accuracy': 0.9924026993760876, 'Balanced Accuracy': 0.9924611149643748, 'ROC AUC': 0.9924611149643748, 'F1 Score': 0.9924027372585463, 'Time taken': 5.552004814147949}\n",
      "\n",
      "\n",
      "Classification Report (Fold 0):\n",
      "\n",
      "AdaBoostClassifier\n",
      "              precision    recall  f1-score   support\n",
      "\n",
      "           0       1.00      0.98      0.99     11875\n",
      "           1       0.98      1.00      0.99     11686\n",
      "\n",
      "    accuracy                           0.99     23561\n",
      "   macro avg       0.99      0.99      0.99     23561\n",
      "weighted avg       0.99      0.99      0.99     23561\n",
      "\n",
      "AUC Scores for each class: 0.9918240882027077\n",
      "-----------------------------------------------------------------------------------\n",
      "BaggingClassifier\n",
      "              precision    recall  f1-score   support\n",
      "\n",
      "           0       1.00      0.99      0.99     11875\n",
      "           1       0.99      1.00      0.99     11686\n",
      "\n",
      "    accuracy                           0.99     23561\n",
      "   macro avg       0.99      0.99      0.99     23561\n",
      "weighted avg       0.99      0.99      0.99     23561\n",
      "\n",
      "AUC Scores for each class: 0.9913894160353821\n",
      "-----------------------------------------------------------------------------------\n",
      "BernoulliNB\n"
     ]
    },
    {
     "name": "stderr",
     "output_type": "stream",
     "text": [
      "\n"
     ]
    },
    {
     "name": "stdout",
     "output_type": "stream",
     "text": [
      "              precision    recall  f1-score   support\n",
      "\n",
      "           0       0.97      0.98      0.98     11875\n",
      "           1       0.98      0.97      0.98     11686\n",
      "\n",
      "    accuracy                           0.98     23561\n",
      "   macro avg       0.98      0.98      0.98     23561\n",
      "weighted avg       0.98      0.98      0.98     23561\n",
      "\n",
      "AUC Scores for each class: 0.9766003585036528\n",
      "-----------------------------------------------------------------------------------\n",
      "DecisionTreeClassifier\n",
      "              precision    recall  f1-score   support\n",
      "\n",
      "           0       0.99      0.99      0.99     11875\n",
      "           1       0.99      0.98      0.99     11686\n",
      "\n",
      "    accuracy                           0.99     23561\n",
      "   macro avg       0.99      0.99      0.99     23561\n",
      "weighted avg       0.99      0.99      0.99     23561\n",
      "\n",
      "AUC Scores for each class: 0.9858169901906916\n",
      "-----------------------------------------------------------------------------------\n",
      "DummyClassifier\n",
      "              precision    recall  f1-score   support\n",
      "\n",
      "           0       0.00      0.00      0.00     11875\n",
      "           1       0.50      1.00      0.66     11686\n",
      "\n",
      "    accuracy                           0.50     23561\n",
      "   macro avg       0.25      0.50      0.33     23561\n",
      "weighted avg       0.25      0.50      0.33     23561\n",
      "\n",
      "AUC Scores for each class: 0.5\n",
      "-----------------------------------------------------------------------------------\n",
      "GaussianNB\n",
      "              precision    recall  f1-score   support\n",
      "\n",
      "           0       0.99      0.96      0.98     11875\n",
      "           1       0.96      0.99      0.98     11686\n",
      "\n",
      "    accuracy                           0.98     23561\n",
      "   macro avg       0.98      0.98      0.98     23561\n",
      "weighted avg       0.98      0.98      0.98     23561\n",
      "\n",
      "AUC Scores for each class: 0.976830413360116\n",
      "-----------------------------------------------------------------------------------\n",
      "KNeighborsClassifier\n",
      "              precision    recall  f1-score   support\n",
      "\n",
      "           0       1.00      0.98      0.99     11875\n",
      "           1       0.98      1.00      0.99     11686\n",
      "\n",
      "    accuracy                           0.99     23561\n",
      "   macro avg       0.99      0.99      0.99     23561\n",
      "weighted avg       0.99      0.99      0.99     23561\n",
      "\n",
      "AUC Scores for each class: 0.9917813019627626\n",
      "-----------------------------------------------------------------------------------\n",
      "LinearDiscriminantAnalysis\n",
      "              precision    recall  f1-score   support\n",
      "\n",
      "           0       0.99      0.98      0.99     11875\n",
      "           1       0.98      0.99      0.99     11686\n",
      "\n",
      "    accuracy                           0.99     23561\n",
      "   macro avg       0.99      0.99      0.99     23561\n",
      "weighted avg       0.99      0.99      0.99     23561\n",
      "\n",
      "AUC Scores for each class: 0.9870226109514758\n",
      "-----------------------------------------------------------------------------------\n",
      "LogisticRegression\n",
      "              precision    recall  f1-score   support\n",
      "\n",
      "           0       1.00      0.98      0.99     11875\n",
      "           1       0.98      1.00      0.99     11686\n",
      "\n",
      "    accuracy                           0.99     23561\n",
      "   macro avg       0.99      0.99      0.99     23561\n",
      "weighted avg       0.99      0.99      0.99     23561\n",
      "\n",
      "AUC Scores for each class: 0.9918240882027077\n",
      "-----------------------------------------------------------------------------------\n",
      "Perceptron\n",
      "              precision    recall  f1-score   support\n",
      "\n",
      "           0       1.00      0.98      0.99     11875\n",
      "           1       0.98      1.00      0.99     11686\n",
      "\n",
      "    accuracy                           0.99     23561\n",
      "   macro avg       0.99      0.99      0.99     23561\n",
      "weighted avg       0.99      0.99      0.99     23561\n",
      "\n",
      "AUC Scores for each class: 0.989309914697749\n",
      "-----------------------------------------------------------------------------------\n",
      "QuadraticDiscriminantAnalysis\n",
      "              precision    recall  f1-score   support\n",
      "\n",
      "           0       1.00      0.98      0.99     11875\n",
      "           1       0.98      1.00      0.99     11686\n",
      "\n",
      "    accuracy                           0.99     23561\n",
      "   macro avg       0.99      0.99      0.99     23561\n",
      "weighted avg       0.99      0.99      0.99     23561\n",
      "\n",
      "AUC Scores for each class: 0.9899136888944936\n",
      "-----------------------------------------------------------------------------------\n",
      "RandomForestClassifier\n",
      "              precision    recall  f1-score   support\n",
      "\n",
      "           0       1.00      0.99      0.99     11875\n",
      "           1       0.99      1.00      0.99     11686\n",
      "\n",
      "    accuracy                           0.99     23561\n",
      "   macro avg       0.99      0.99      0.99     23561\n",
      "weighted avg       0.99      0.99      0.99     23561\n",
      "\n",
      "AUC Scores for each class: 0.9924190097012169\n",
      "-----------------------------------------------------------------------------------\n",
      "XGBClassifier\n",
      "              precision    recall  f1-score   support\n",
      "\n",
      "           0       1.00      0.99      0.99     11875\n",
      "           1       0.99      1.00      0.99     11686\n",
      "\n",
      "    accuracy                           0.99     23561\n",
      "   macro avg       0.99      0.99      0.99     23561\n",
      "weighted avg       0.99      0.99      0.99     23561\n",
      "\n",
      "AUC Scores for each class: 0.9922471837646487\n",
      "-----------------------------------------------------------------------------------\n",
      "LGBMClassifier\n",
      "              precision    recall  f1-score   support\n",
      "\n",
      "           0       1.00      0.99      0.99     11875\n",
      "           1       0.99      1.00      0.99     11686\n",
      "\n",
      "    accuracy                           0.99     23561\n",
      "   macro avg       0.99      0.99      0.99     23561\n",
      "weighted avg       0.99      0.99      0.99     23561\n",
      "\n",
      "AUC Scores for each class: 0.9924611149643748\n",
      "-----------------------------------------------------------------------------------\n",
      "'tuple' object has no attribute '__name__'\n",
      "Invalid Classifier(s)\n"
     ]
    },
    {
     "name": "stderr",
     "output_type": "stream",
     "text": [
      "  7%|▋         | 1/15 [00:37<08:48, 37.75s/it]"
     ]
    },
    {
     "name": "stdout",
     "output_type": "stream",
     "text": [
      "{'Model': 'AdaBoostClassifier', 'Accuracy': 0.9918084970926531, 'Balanced Accuracy': 0.9916977417174819, 'ROC AUC': 0.9916977417174819, 'F1 Score': 0.9918071084288963, 'Time taken': 37.74900412559509}\n"
     ]
    },
    {
     "name": "stderr",
     "output_type": "stream",
     "text": [
      " 13%|█▎        | 2/15 [01:14<08:01, 37.05s/it]"
     ]
    },
    {
     "name": "stdout",
     "output_type": "stream",
     "text": [
      "{'Model': 'BaggingClassifier', 'Accuracy': 0.9915538389711812, 'Balanced Accuracy': 0.9914656959330331, 'ROC AUC': 0.991465695933033, 'F1 Score': 0.9915527884031775, 'Time taken': 36.55193471908569}\n"
     ]
    },
    {
     "name": "stderr",
     "output_type": "stream",
     "text": [
      " 20%|██        | 3/15 [01:15<04:06, 20.51s/it]"
     ]
    },
    {
     "name": "stdout",
     "output_type": "stream",
     "text": [
      "{'Model': 'BernoulliNB', 'Accuracy': 0.9745341878528077, 'Balanced Accuracy': 0.9746257750925225, 'ROC AUC': 0.9746257750925225, 'F1 Score': 0.9745354438658722, 'Time taken': 0.8233456611633301}\n"
     ]
    },
    {
     "name": "stderr",
     "output_type": "stream",
     "text": [
      " 27%|██▋       | 4/15 [01:20<02:39, 14.50s/it]"
     ]
    },
    {
     "name": "stdout",
     "output_type": "stream",
     "text": [
      "{'Model': 'DecisionTreeClassifier', 'Accuracy': 0.98412631042825, 'Balanced Accuracy': 0.9841565744371699, 'ROC AUC': 0.9841565744371699, 'F1 Score': 0.984126750851598, 'Time taken': 5.2902140617370605}\n"
     ]
    },
    {
     "name": "stderr",
     "output_type": "stream",
     "text": [
      " 33%|███▎      | 5/15 [01:20<01:34,  9.45s/it]"
     ]
    },
    {
     "name": "stdout",
     "output_type": "stream",
     "text": [
      "{'Model': 'DummyClassifier', 'Accuracy': 0.4929756801493994, 'Balanced Accuracy': 0.5, 'ROC AUC': 0.5, 'F1 Score': 0.3255579102191991, 'Time taken': 0.5070044994354248}\n"
     ]
    },
    {
     "name": "stderr",
     "output_type": "stream",
     "text": [
      " 40%|████      | 6/15 [01:21<00:58,  6.49s/it]"
     ]
    },
    {
     "name": "stdout",
     "output_type": "stream",
     "text": [
      "{'Model': 'GaussianNB', 'Accuracy': 0.978566274776113, 'Balanced Accuracy': 0.9783539055322779, 'ROC AUC': 0.978353905532278, 'F1 Score': 0.978557103992087, 'Time taken': 0.722038745880127}\n"
     ]
    },
    {
     "name": "stderr",
     "output_type": "stream",
     "text": [
      " 47%|████▋     | 7/15 [01:56<02:05, 15.71s/it]"
     ]
    },
    {
     "name": "stdout",
     "output_type": "stream",
     "text": [
      "{'Model': 'KNeighborsClassifier', 'Accuracy': 0.9917236110521624, 'Balanced Accuracy': 0.9916152244578289, 'ROC AUC': 0.9916152244578289, 'F1 Score': 0.9917222493560564, 'Time taken': 34.68899631500244}\n"
     ]
    },
    {
     "name": "stderr",
     "output_type": "stream",
     "text": [
      " 53%|█████▎    | 8/15 [01:58<01:18, 11.26s/it]"
     ]
    },
    {
     "name": "stdout",
     "output_type": "stream",
     "text": [
      "{'Model': 'LinearDiscriminantAnalysis', 'Accuracy': 0.9872670939264038, 'Balanced Accuracy': 0.9871727372112662, 'ROC AUC': 0.9871727372112661, 'F1 Score': 0.9872653800218929, 'Time taken': 1.7410056591033936}\n"
     ]
    },
    {
     "name": "stderr",
     "output_type": "stream",
     "text": [
      " 60%|██████    | 9/15 [02:01<00:53,  8.87s/it]"
     ]
    },
    {
     "name": "stdout",
     "output_type": "stream",
     "text": [
      "{'Model': 'LogisticRegression', 'Accuracy': 0.991935826153389, 'Balanced Accuracy': 0.9918268850665994, 'ROC AUC': 0.9918268850665993, 'F1 Score': 0.9919344893418598, 'Time taken': 3.60099720954895}\n"
     ]
    },
    {
     "name": "stderr",
     "output_type": "stream",
     "text": [
      " 67%|██████▋   | 10/15 [02:02<00:32,  6.48s/it]"
     ]
    },
    {
     "name": "stdout",
     "output_type": "stream",
     "text": [
      "{'Model': 'Perceptron', 'Accuracy': 0.9794575782012648, 'Balanced Accuracy': 0.9795382096460907, 'ROC AUC': 0.9795382096460907, 'F1 Score': 0.9794585714140452, 'Time taken': 1.132993459701538}\n"
     ]
    },
    {
     "name": "stderr",
     "output_type": "stream",
     "text": [
      " 73%|███████▎  | 11/15 [02:04<00:20,  5.02s/it]"
     ]
    },
    {
     "name": "stdout",
     "output_type": "stream",
     "text": [
      "{'Model': 'QuadraticDiscriminantAnalysis', 'Accuracy': 0.9888374856754807, 'Balanced Accuracy': 0.9887273365818445, 'ROC AUC': 0.9887273365818445, 'F1 Score': 0.9888356213219853, 'Time taken': 1.6980020999908447}\n"
     ]
    },
    {
     "name": "stderr",
     "output_type": "stream",
     "text": [
      " 80%|████████  | 12/15 [02:57<00:58, 19.48s/it]"
     ]
    },
    {
     "name": "stdout",
     "output_type": "stream",
     "text": [
      "{'Model': 'RandomForestClassifier', 'Accuracy': 0.9925300284368236, 'Balanced Accuracy': 0.9924235901851055, 'ROC AUC': 0.9924235901851054, 'F1 Score': 0.9925288271318253, 'Time taken': 52.56177282333374}\n"
     ]
    },
    {
     "name": "stderr",
     "output_type": "stream",
     "text": [
      " 93%|█████████▎| 14/15 [03:03<00:11, 11.87s/it]"
     ]
    },
    {
     "name": "stdout",
     "output_type": "stream",
     "text": [
      "{'Model': 'XGBClassifier', 'Accuracy': 0.9921055982343704, 'Balanced Accuracy': 0.9920098111180323, 'ROC AUC': 0.9920098111180323, 'F1 Score': 0.9921044990137993, 'Time taken': 6.217001676559448}\n",
      "[LightGBM] [Info] Number of positive: 46956, number of negative: 47287\n",
      "[LightGBM] [Info] Auto-choosing row-wise multi-threading, the overhead of testing was 0.047193 seconds.\n",
      "You can set `force_row_wise=true` to remove the overhead.\n",
      "And if memory is not enough, you can set `force_col_wise=true`.\n",
      "[LightGBM] [Info] Total Bins 6355\n",
      "[LightGBM] [Info] Number of data points in the train set: 94243, number of used features: 42\n",
      "[LightGBM] [Info] [binary:BoostFromScore]: pavg=0.498244 -> initscore=-0.007024\n",
      "[LightGBM] [Info] Start training from score -0.007024\n"
     ]
    },
    {
     "name": "stderr",
     "output_type": "stream",
     "text": [
      "100%|██████████| 15/15 [03:09<00:00, 12.60s/it]"
     ]
    },
    {
     "name": "stdout",
     "output_type": "stream",
     "text": [
      "{'Model': 'LGBMClassifier', 'Accuracy': 0.9923602563558422, 'Balanced Accuracy': 0.9922549773593742, 'ROC AUC': 0.9922549773593742, 'F1 Score': 0.9923590465058211, 'Time taken': 5.735008478164673}\n",
      "\n",
      "\n",
      "Classification Report (Fold 1):\n",
      "\n",
      "AdaBoostClassifier\n",
      "              precision    recall  f1-score   support\n",
      "\n",
      "           0       1.00      0.98      0.99     11615\n",
      "           1       0.98      1.00      0.99     11946\n",
      "\n",
      "    accuracy                           0.99     23561\n",
      "   macro avg       0.99      0.99      0.99     23561\n",
      "weighted avg       0.99      0.99      0.99     23561\n",
      "\n",
      "AUC Scores for each class: 0.9916977417174819\n",
      "-----------------------------------------------------------------------------------\n",
      "BaggingClassifier\n",
      "              precision    recall  f1-score   support\n",
      "\n",
      "           0       1.00      0.99      0.99     11615\n",
      "           1       0.99      1.00      0.99     11946\n",
      "\n",
      "    accuracy                           0.99     23561\n",
      "   macro avg       0.99      0.99      0.99     23561\n",
      "weighted avg       0.99      0.99      0.99     23561\n",
      "\n",
      "AUC Scores for each class: 0.991465695933033\n",
      "-----------------------------------------------------------------------------------\n",
      "BernoulliNB\n",
      "              precision    recall  f1-score   support\n",
      "\n",
      "           0       0.97      0.98      0.97     11615\n",
      "           1       0.98      0.97      0.97     11946\n",
      "\n",
      "    accuracy                           0.97     23561\n",
      "   macro avg       0.97      0.97      0.97     23561\n",
      "weighted avg       0.97      0.97      0.97     23561\n",
      "\n",
      "AUC Scores for each class: 0.9746257750925225\n",
      "-----------------------------------------------------------------------------------\n",
      "DecisionTreeClassifier\n"
     ]
    },
    {
     "name": "stderr",
     "output_type": "stream",
     "text": [
      "\n"
     ]
    },
    {
     "name": "stdout",
     "output_type": "stream",
     "text": [
      "              precision    recall  f1-score   support\n",
      "\n",
      "           0       0.98      0.99      0.98     11615\n",
      "           1       0.99      0.98      0.98     11946\n",
      "\n",
      "    accuracy                           0.98     23561\n",
      "   macro avg       0.98      0.98      0.98     23561\n",
      "weighted avg       0.98      0.98      0.98     23561\n",
      "\n",
      "AUC Scores for each class: 0.9841565744371699\n",
      "-----------------------------------------------------------------------------------\n",
      "DummyClassifier\n",
      "              precision    recall  f1-score   support\n",
      "\n",
      "           0       0.49      1.00      0.66     11615\n",
      "           1       0.00      0.00      0.00     11946\n",
      "\n",
      "    accuracy                           0.49     23561\n",
      "   macro avg       0.25      0.50      0.33     23561\n",
      "weighted avg       0.24      0.49      0.33     23561\n",
      "\n",
      "AUC Scores for each class: 0.5\n",
      "-----------------------------------------------------------------------------------\n",
      "GaussianNB\n",
      "              precision    recall  f1-score   support\n",
      "\n",
      "           0       0.99      0.96      0.98     11615\n",
      "           1       0.97      0.99      0.98     11946\n",
      "\n",
      "    accuracy                           0.98     23561\n",
      "   macro avg       0.98      0.98      0.98     23561\n",
      "weighted avg       0.98      0.98      0.98     23561\n",
      "\n",
      "AUC Scores for each class: 0.978353905532278\n",
      "-----------------------------------------------------------------------------------\n",
      "KNeighborsClassifier\n",
      "              precision    recall  f1-score   support\n",
      "\n",
      "           0       1.00      0.98      0.99     11615\n",
      "           1       0.98      1.00      0.99     11946\n",
      "\n",
      "    accuracy                           0.99     23561\n",
      "   macro avg       0.99      0.99      0.99     23561\n",
      "weighted avg       0.99      0.99      0.99     23561\n",
      "\n",
      "AUC Scores for each class: 0.9916152244578289\n",
      "-----------------------------------------------------------------------------------\n",
      "LinearDiscriminantAnalysis\n",
      "              precision    recall  f1-score   support\n",
      "\n",
      "           0       0.99      0.98      0.99     11615\n",
      "           1       0.98      0.99      0.99     11946\n",
      "\n",
      "    accuracy                           0.99     23561\n",
      "   macro avg       0.99      0.99      0.99     23561\n",
      "weighted avg       0.99      0.99      0.99     23561\n",
      "\n",
      "AUC Scores for each class: 0.9871727372112661\n",
      "-----------------------------------------------------------------------------------\n",
      "LogisticRegression\n",
      "              precision    recall  f1-score   support\n",
      "\n",
      "           0       1.00      0.98      0.99     11615\n",
      "           1       0.98      1.00      0.99     11946\n",
      "\n",
      "    accuracy                           0.99     23561\n",
      "   macro avg       0.99      0.99      0.99     23561\n",
      "weighted avg       0.99      0.99      0.99     23561\n",
      "\n",
      "AUC Scores for each class: 0.9918268850665993\n",
      "-----------------------------------------------------------------------------------\n",
      "Perceptron\n",
      "              precision    recall  f1-score   support\n",
      "\n",
      "           0       0.97      0.99      0.98     11615\n",
      "           1       0.99      0.97      0.98     11946\n",
      "\n",
      "    accuracy                           0.98     23561\n",
      "   macro avg       0.98      0.98      0.98     23561\n",
      "weighted avg       0.98      0.98      0.98     23561\n",
      "\n",
      "AUC Scores for each class: 0.9795382096460907\n",
      "-----------------------------------------------------------------------------------\n",
      "QuadraticDiscriminantAnalysis\n",
      "              precision    recall  f1-score   support\n",
      "\n",
      "           0       1.00      0.98      0.99     11615\n",
      "           1       0.98      1.00      0.99     11946\n",
      "\n",
      "    accuracy                           0.99     23561\n",
      "   macro avg       0.99      0.99      0.99     23561\n",
      "weighted avg       0.99      0.99      0.99     23561\n",
      "\n",
      "AUC Scores for each class: 0.9887273365818445\n",
      "-----------------------------------------------------------------------------------\n",
      "RandomForestClassifier\n",
      "              precision    recall  f1-score   support\n",
      "\n",
      "           0       1.00      0.98      0.99     11615\n",
      "           1       0.99      1.00      0.99     11946\n",
      "\n",
      "    accuracy                           0.99     23561\n",
      "   macro avg       0.99      0.99      0.99     23561\n",
      "weighted avg       0.99      0.99      0.99     23561\n",
      "\n",
      "AUC Scores for each class: 0.9924235901851054\n",
      "-----------------------------------------------------------------------------------\n",
      "XGBClassifier\n",
      "              precision    recall  f1-score   support\n",
      "\n",
      "           0       1.00      0.99      0.99     11615\n",
      "           1       0.99      1.00      0.99     11946\n",
      "\n",
      "    accuracy                           0.99     23561\n",
      "   macro avg       0.99      0.99      0.99     23561\n",
      "weighted avg       0.99      0.99      0.99     23561\n",
      "\n",
      "AUC Scores for each class: 0.9920098111180323\n",
      "-----------------------------------------------------------------------------------\n",
      "LGBMClassifier\n",
      "              precision    recall  f1-score   support\n",
      "\n",
      "           0       1.00      0.98      0.99     11615\n",
      "           1       0.99      1.00      0.99     11946\n",
      "\n",
      "    accuracy                           0.99     23561\n",
      "   macro avg       0.99      0.99      0.99     23561\n",
      "weighted avg       0.99      0.99      0.99     23561\n",
      "\n",
      "AUC Scores for each class: 0.9922549773593742\n",
      "-----------------------------------------------------------------------------------\n",
      "'tuple' object has no attribute '__name__'\n",
      "Invalid Classifier(s)\n"
     ]
    },
    {
     "name": "stderr",
     "output_type": "stream",
     "text": [
      "  7%|▋         | 1/15 [00:37<08:46, 37.57s/it]"
     ]
    },
    {
     "name": "stdout",
     "output_type": "stream",
     "text": [
      "{'Model': 'AdaBoostClassifier', 'Accuracy': 0.9917236110521624, 'Balanced Accuracy': 0.9916981387157848, 'ROC AUC': 0.9916981387157847, 'F1 Score': 0.9917229015874803, 'Time taken': 37.57199764251709}\n"
     ]
    },
    {
     "name": "stderr",
     "output_type": "stream",
     "text": [
      " 13%|█▎        | 2/15 [01:14<08:00, 36.93s/it]"
     ]
    },
    {
     "name": "stdout",
     "output_type": "stream",
     "text": [
      "{'Model': 'BaggingClassifier', 'Accuracy': 0.9915113959509358, 'Balanced Accuracy': 0.9914885568388889, 'ROC AUC': 0.9914885568388889, 'F1 Score': 0.9915107915081895, 'Time taken': 36.48500084877014}\n"
     ]
    },
    {
     "name": "stderr",
     "output_type": "stream",
     "text": [
      " 20%|██        | 3/15 [01:14<04:04, 20.37s/it]"
     ]
    },
    {
     "name": "stdout",
     "output_type": "stream",
     "text": [
      "{'Model': 'BernoulliNB', 'Accuracy': 0.9744068587920717, 'Balanced Accuracy': 0.9744308596986548, 'ROC AUC': 0.974430859698655, 'F1 Score': 0.9744060680992568, 'Time taken': 0.6609997749328613}\n"
     ]
    },
    {
     "name": "stderr",
     "output_type": "stream",
     "text": [
      " 27%|██▋       | 4/15 [01:19<02:37, 14.34s/it]"
     ]
    },
    {
     "name": "stdout",
     "output_type": "stream",
     "text": [
      "{'Model': 'DecisionTreeClassifier', 'Accuracy': 0.985187385934383, 'Balanced Accuracy': 0.9851915277372036, 'ROC AUC': 0.9851915277372036, 'F1 Score': 0.9851874239853284, 'Time taken': 5.083998203277588}\n"
     ]
    },
    {
     "name": "stderr",
     "output_type": "stream",
     "text": [
      " 33%|███▎      | 5/15 [01:20<01:33,  9.35s/it]"
     ]
    },
    {
     "name": "stdout",
     "output_type": "stream",
     "text": [
      "{'Model': 'DummyClassifier', 'Accuracy': 0.49836594372055515, 'Balanced Accuracy': 0.5, 'ROC AUC': 0.5, 'F1 Score': 0.3315192992757986, 'Time taken': 0.49801135063171387}\n"
     ]
    },
    {
     "name": "stderr",
     "output_type": "stream",
     "text": [
      " 40%|████      | 6/15 [01:21<00:57,  6.41s/it]"
     ]
    },
    {
     "name": "stdout",
     "output_type": "stream",
     "text": [
      "{'Model': 'GaussianNB', 'Accuracy': 0.978014515512924, 'Balanced Accuracy': 0.9779629579750055, 'ROC AUC': 0.9779629579750055, 'F1 Score': 0.9780079629047942, 'Time taken': 0.7119970321655273}\n"
     ]
    },
    {
     "name": "stderr",
     "output_type": "stream",
     "text": [
      " 47%|████▋     | 7/15 [01:44<01:36, 12.11s/it]"
     ]
    },
    {
     "name": "stdout",
     "output_type": "stream",
     "text": [
      "{'Model': 'KNeighborsClassifier', 'Accuracy': 0.9914265099104452, 'Balanced Accuracy': 0.9914014505309741, 'ROC AUC': 0.9914014505309741, 'F1 Score': 0.9914257953688487, 'Time taken': 23.843000888824463}\n"
     ]
    },
    {
     "name": "stderr",
     "output_type": "stream",
     "text": [
      " 53%|█████▎    | 8/15 [01:46<01:00,  8.71s/it]"
     ]
    },
    {
     "name": "stdout",
     "output_type": "stream",
     "text": [
      "{'Model': 'LinearDiscriminantAnalysis', 'Accuracy': 0.9873519799668945, 'Balanced Accuracy': 0.9873299286897763, 'ROC AUC': 0.9873299286897763, 'F1 Score': 0.9873511339028044, 'Time taken': 1.4310026168823242}\n"
     ]
    },
    {
     "name": "stderr",
     "output_type": "stream",
     "text": [
      " 60%|██████    | 9/15 [01:48<00:40,  6.82s/it]"
     ]
    },
    {
     "name": "stdout",
     "output_type": "stream",
     "text": [
      "{'Model': 'LogisticRegression', 'Accuracy': 0.9916387250116718, 'Balanced Accuracy': 0.991614084028948, 'ROC AUC': 0.9916140840289481, 'F1 Score': 0.991638047771786, 'Time taken': 2.646001100540161}\n"
     ]
    },
    {
     "name": "stderr",
     "output_type": "stream",
     "text": [
      " 67%|██████▋   | 10/15 [01:49<00:25,  5.03s/it]"
     ]
    },
    {
     "name": "stdout",
     "output_type": "stream",
     "text": [
      "{'Model': 'Perceptron', 'Accuracy': 0.9870124358049319, 'Balanced Accuracy': 0.9869970389836054, 'ROC AUC': 0.9869970389836055, 'F1 Score': 0.9870119545203834, 'Time taken': 1.0360028743743896}\n"
     ]
    },
    {
     "name": "stderr",
     "output_type": "stream",
     "text": [
      " 73%|███████▎  | 11/15 [01:51<00:16,  4.04s/it]"
     ]
    },
    {
     "name": "stdout",
     "output_type": "stream",
     "text": [
      "{'Model': 'QuadraticDiscriminantAnalysis', 'Accuracy': 0.9893468019184245, 'Balanced Accuracy': 0.9893215816162219, 'ROC AUC': 0.9893215816162219, 'F1 Score': 0.9893459056400383, 'Time taken': 1.7920024394989014}\n"
     ]
    },
    {
     "name": "stderr",
     "output_type": "stream",
     "text": [
      " 80%|████████  | 12/15 [02:42<00:55, 18.34s/it]"
     ]
    },
    {
     "name": "stdout",
     "output_type": "stream",
     "text": [
      "{'Model': 'RandomForestClassifier', 'Accuracy': 0.992190484274861, 'Balanced Accuracy': 0.9921651556350528, 'ROC AUC': 0.9921651556350528, 'F1 Score': 0.9921898210507584, 'Time taken': 51.030001163482666}\n"
     ]
    },
    {
     "name": "stderr",
     "output_type": "stream",
     "text": [
      " 93%|█████████▎| 14/15 [02:48<00:11, 11.13s/it]"
     ]
    },
    {
     "name": "stdout",
     "output_type": "stream",
     "text": [
      "{'Model': 'XGBClassifier', 'Accuracy': 0.9920207121938797, 'Balanced Accuracy': 0.9919964914211834, 'ROC AUC': 0.9919964914211834, 'F1 Score': 0.9920200843539216, 'Time taken': 5.690031051635742}\n",
      "[LightGBM] [Info] Number of positive: 47083, number of negative: 47160\n",
      "[LightGBM] [Info] Auto-choosing row-wise multi-threading, the overhead of testing was 0.072742 seconds.\n",
      "You can set `force_row_wise=true` to remove the overhead.\n",
      "And if memory is not enough, you can set `force_col_wise=true`.\n",
      "[LightGBM] [Info] Total Bins 6352\n",
      "[LightGBM] [Info] Number of data points in the train set: 94243, number of used features: 42\n",
      "[LightGBM] [Info] [binary:BoostFromScore]: pavg=0.499591 -> initscore=-0.001634\n",
      "[LightGBM] [Info] Start training from score -0.001634\n"
     ]
    },
    {
     "name": "stderr",
     "output_type": "stream",
     "text": [
      "100%|██████████| 15/15 [02:54<00:00, 11.62s/it]"
     ]
    },
    {
     "name": "stdout",
     "output_type": "stream",
     "text": [
      "{'Model': 'LGBMClassifier', 'Accuracy': 0.9920207121938797, 'Balanced Accuracy': 0.9919962140010854, 'ROC AUC': 0.9919962140010854, 'F1 Score': 0.9920200720759969, 'Time taken': 5.79400372505188}\n",
      "\n",
      "\n",
      "Classification Report (Fold 4):\n",
      "\n",
      "AdaBoostClassifier\n",
      "              precision    recall  f1-score   support\n",
      "\n",
      "           0       1.00      0.98      0.99     11742\n",
      "           1       0.98      1.00      0.99     11819\n",
      "\n",
      "    accuracy                           0.99     23561\n",
      "   macro avg       0.99      0.99      0.99     23561\n",
      "weighted avg       0.99      0.99      0.99     23561\n",
      "\n",
      "AUC Scores for each class: 0.9916981387157847\n",
      "-----------------------------------------------------------------------------------\n",
      "BaggingClassifier\n",
      "              precision    recall  f1-score   support\n",
      "\n",
      "           0       1.00      0.98      0.99     11742\n",
      "           1       0.98      1.00      0.99     11819\n",
      "\n",
      "    accuracy                           0.99     23561\n",
      "   macro avg       0.99      0.99      0.99     23561\n",
      "weighted avg       0.99      0.99      0.99     23561\n",
      "\n",
      "AUC Scores for each class: 0.9914885568388889\n",
      "-----------------------------------------------------------------------------------\n",
      "BernoulliNB\n"
     ]
    },
    {
     "name": "stderr",
     "output_type": "stream",
     "text": [
      "\n"
     ]
    },
    {
     "name": "stdout",
     "output_type": "stream",
     "text": [
      "              precision    recall  f1-score   support\n",
      "\n",
      "           0       0.97      0.98      0.97     11742\n",
      "           1       0.98      0.97      0.97     11819\n",
      "\n",
      "    accuracy                           0.97     23561\n",
      "   macro avg       0.97      0.97      0.97     23561\n",
      "weighted avg       0.97      0.97      0.97     23561\n",
      "\n",
      "AUC Scores for each class: 0.974430859698655\n",
      "-----------------------------------------------------------------------------------\n",
      "DecisionTreeClassifier\n",
      "              precision    recall  f1-score   support\n",
      "\n",
      "           0       0.98      0.99      0.99     11742\n",
      "           1       0.99      0.98      0.99     11819\n",
      "\n",
      "    accuracy                           0.99     23561\n",
      "   macro avg       0.99      0.99      0.99     23561\n",
      "weighted avg       0.99      0.99      0.99     23561\n",
      "\n",
      "AUC Scores for each class: 0.9851915277372036\n",
      "-----------------------------------------------------------------------------------\n",
      "DummyClassifier\n",
      "              precision    recall  f1-score   support\n",
      "\n",
      "           0       0.50      1.00      0.67     11742\n",
      "           1       0.00      0.00      0.00     11819\n",
      "\n",
      "    accuracy                           0.50     23561\n",
      "   macro avg       0.25      0.50      0.33     23561\n",
      "weighted avg       0.25      0.50      0.33     23561\n",
      "\n",
      "AUC Scores for each class: 0.5\n",
      "-----------------------------------------------------------------------------------\n",
      "GaussianNB\n",
      "              precision    recall  f1-score   support\n",
      "\n",
      "           0       0.99      0.96      0.98     11742\n",
      "           1       0.96      0.99      0.98     11819\n",
      "\n",
      "    accuracy                           0.98     23561\n",
      "   macro avg       0.98      0.98      0.98     23561\n",
      "weighted avg       0.98      0.98      0.98     23561\n",
      "\n",
      "AUC Scores for each class: 0.9779629579750055\n",
      "-----------------------------------------------------------------------------------\n",
      "KNeighborsClassifier\n",
      "              precision    recall  f1-score   support\n",
      "\n",
      "           0       1.00      0.98      0.99     11742\n",
      "           1       0.98      1.00      0.99     11819\n",
      "\n",
      "    accuracy                           0.99     23561\n",
      "   macro avg       0.99      0.99      0.99     23561\n",
      "weighted avg       0.99      0.99      0.99     23561\n",
      "\n",
      "AUC Scores for each class: 0.9914014505309741\n",
      "-----------------------------------------------------------------------------------\n",
      "LinearDiscriminantAnalysis\n",
      "              precision    recall  f1-score   support\n",
      "\n",
      "           0       0.99      0.98      0.99     11742\n",
      "           1       0.98      0.99      0.99     11819\n",
      "\n",
      "    accuracy                           0.99     23561\n",
      "   macro avg       0.99      0.99      0.99     23561\n",
      "weighted avg       0.99      0.99      0.99     23561\n",
      "\n",
      "AUC Scores for each class: 0.9873299286897763\n",
      "-----------------------------------------------------------------------------------\n",
      "LogisticRegression\n",
      "              precision    recall  f1-score   support\n",
      "\n",
      "           0       1.00      0.98      0.99     11742\n",
      "           1       0.98      1.00      0.99     11819\n",
      "\n",
      "    accuracy                           0.99     23561\n",
      "   macro avg       0.99      0.99      0.99     23561\n",
      "weighted avg       0.99      0.99      0.99     23561\n",
      "\n",
      "AUC Scores for each class: 0.9916140840289481\n",
      "-----------------------------------------------------------------------------------\n",
      "Perceptron\n",
      "              precision    recall  f1-score   support\n",
      "\n",
      "           0       0.99      0.98      0.99     11742\n",
      "           1       0.98      0.99      0.99     11819\n",
      "\n",
      "    accuracy                           0.99     23561\n",
      "   macro avg       0.99      0.99      0.99     23561\n",
      "weighted avg       0.99      0.99      0.99     23561\n",
      "\n",
      "AUC Scores for each class: 0.9869970389836055\n",
      "-----------------------------------------------------------------------------------\n",
      "QuadraticDiscriminantAnalysis\n",
      "              precision    recall  f1-score   support\n",
      "\n",
      "           0       1.00      0.98      0.99     11742\n",
      "           1       0.98      1.00      0.99     11819\n",
      "\n",
      "    accuracy                           0.99     23561\n",
      "   macro avg       0.99      0.99      0.99     23561\n",
      "weighted avg       0.99      0.99      0.99     23561\n",
      "\n",
      "AUC Scores for each class: 0.9893215816162219\n",
      "-----------------------------------------------------------------------------------\n",
      "RandomForestClassifier\n",
      "              precision    recall  f1-score   support\n",
      "\n",
      "           0       1.00      0.98      0.99     11742\n",
      "           1       0.98      1.00      0.99     11819\n",
      "\n",
      "    accuracy                           0.99     23561\n",
      "   macro avg       0.99      0.99      0.99     23561\n",
      "weighted avg       0.99      0.99      0.99     23561\n",
      "\n",
      "AUC Scores for each class: 0.9921651556350528\n",
      "-----------------------------------------------------------------------------------\n",
      "XGBClassifier\n",
      "              precision    recall  f1-score   support\n",
      "\n",
      "           0       1.00      0.98      0.99     11742\n",
      "           1       0.98      1.00      0.99     11819\n",
      "\n",
      "    accuracy                           0.99     23561\n",
      "   macro avg       0.99      0.99      0.99     23561\n",
      "weighted avg       0.99      0.99      0.99     23561\n",
      "\n",
      "AUC Scores for each class: 0.9919964914211834\n",
      "-----------------------------------------------------------------------------------\n",
      "LGBMClassifier\n",
      "              precision    recall  f1-score   support\n",
      "\n",
      "           0       1.00      0.98      0.99     11742\n",
      "           1       0.98      1.00      0.99     11819\n",
      "\n",
      "    accuracy                           0.99     23561\n",
      "   macro avg       0.99      0.99      0.99     23561\n",
      "weighted avg       0.99      0.99      0.99     23561\n",
      "\n",
      "AUC Scores for each class: 0.9919962140010854\n",
      "-----------------------------------------------------------------------------------\n",
      "'tuple' object has no attribute '__name__'\n",
      "Invalid Classifier(s)\n"
     ]
    },
    {
     "name": "stderr",
     "output_type": "stream",
     "text": [
      "  7%|▋         | 1/15 [00:40<09:24, 40.34s/it]"
     ]
    },
    {
     "name": "stdout",
     "output_type": "stream",
     "text": [
      "{'Model': 'AdaBoostClassifier', 'Accuracy': 0.9910445227282373, 'Balanced Accuracy': 0.9910226783805165, 'ROC AUC': 0.9910226783805166, 'F1 Score': 0.9910436495284626, 'Time taken': 40.335002183914185}\n"
     ]
    },
    {
     "name": "stderr",
     "output_type": "stream",
     "text": [
      " 13%|█▎        | 2/15 [01:17<08:19, 38.45s/it]"
     ]
    },
    {
     "name": "stdout",
     "output_type": "stream",
     "text": [
      "{'Model': 'BaggingClassifier', 'Accuracy': 0.9909596366877467, 'Balanced Accuracy': 0.9909394923493999, 'ROC AUC': 0.9909394923493999, 'F1 Score': 0.990958873273869, 'Time taken': 37.132009506225586}\n"
     ]
    },
    {
     "name": "stderr",
     "output_type": "stream",
     "text": [
      " 20%|██        | 3/15 [01:18<04:14, 21.19s/it]"
     ]
    },
    {
     "name": "stdout",
     "output_type": "stream",
     "text": [
      "{'Model': 'BernoulliNB', 'Accuracy': 0.9743644157718263, 'Balanced Accuracy': 0.9743774342155181, 'ROC AUC': 0.9743774342155183, 'F1 Score': 0.9743640435566059, 'Time taken': 0.6540074348449707}\n"
     ]
    },
    {
     "name": "stderr",
     "output_type": "stream",
     "text": [
      " 27%|██▋       | 4/15 [01:22<02:41, 14.72s/it]"
     ]
    },
    {
     "name": "stdout",
     "output_type": "stream",
     "text": [
      "{'Model': 'DecisionTreeClassifier', 'Accuracy': 0.98412631042825, 'Balanced Accuracy': 0.9841279114300252, 'ROC AUC': 0.9841279114300252, 'F1 Score': 0.9841263301016913, 'Time taken': 4.799006462097168}\n"
     ]
    },
    {
     "name": "stderr",
     "output_type": "stream",
     "text": [
      " 33%|███▎      | 5/15 [01:23<01:36,  9.61s/it]"
     ]
    },
    {
     "name": "stdout",
     "output_type": "stream",
     "text": [
      "{'Model': 'DummyClassifier', 'Accuracy': 0.49874793090276304, 'Balanced Accuracy': 0.5, 'ROC AUC': 0.5, 'F1 Score': 0.3319430752173974, 'Time taken': 0.5400023460388184}\n"
     ]
    },
    {
     "name": "stderr",
     "output_type": "stream",
     "text": [
      " 40%|████      | 6/15 [01:24<00:59,  6.58s/it]"
     ]
    },
    {
     "name": "stdout",
     "output_type": "stream",
     "text": [
      "{'Model': 'GaussianNB', 'Accuracy': 0.9765290098043377, 'Balanced Accuracy': 0.9764877307719717, 'ROC AUC': 0.9764877307719718, 'F1 Score': 0.9765217094246927, 'Time taken': 0.7079999446868896}\n"
     ]
    },
    {
     "name": "stderr",
     "output_type": "stream",
     "text": [
      " 47%|████▋     | 7/15 [01:49<01:42, 12.81s/it]"
     ]
    },
    {
     "name": "stdout",
     "output_type": "stream",
     "text": [
      "{'Model': 'KNeighborsClassifier', 'Accuracy': 0.9902805483638216, 'Balanced Accuracy': 0.9902591243608287, 'ROC AUC': 0.9902591243608286, 'F1 Score': 0.9902796332468294, 'Time taken': 25.586998462677002}\n"
     ]
    },
    {
     "name": "stderr",
     "output_type": "stream",
     "text": [
      " 53%|█████▎    | 8/15 [01:51<01:05,  9.30s/it]"
     ]
    },
    {
     "name": "stdout",
     "output_type": "stream",
     "text": [
      "{'Model': 'LinearDiscriminantAnalysis', 'Accuracy': 0.9862484614405161, 'Balanced Accuracy': 0.9862309446559433, 'ROC AUC': 0.9862309446559433, 'F1 Score': 0.9862475553919646, 'Time taken': 1.7869980335235596}\n"
     ]
    },
    {
     "name": "stderr",
     "output_type": "stream",
     "text": [
      " 60%|██████    | 9/15 [01:54<00:43,  7.28s/it]"
     ]
    },
    {
     "name": "stdout",
     "output_type": "stream",
     "text": [
      "{'Model': 'LogisticRegression', 'Accuracy': 0.9908323076270107, 'Balanced Accuracy': 0.9908103556646881, 'ROC AUC': 0.990810355664688, 'F1 Score': 0.9908314059715213, 'Time taken': 2.847001791000366}\n"
     ]
    },
    {
     "name": "stderr",
     "output_type": "stream",
     "text": [
      " 67%|██████▋   | 10/15 [01:55<00:26,  5.37s/it]"
     ]
    },
    {
     "name": "stdout",
     "output_type": "stream",
     "text": [
      "{'Model': 'Perceptron', 'Accuracy': 0.9829803488816264, 'Balanced Accuracy': 0.9829729085697285, 'ROC AUC': 0.9829729085697285, 'F1 Score': 0.9829800780900857, 'Time taken': 1.0840110778808594}\n"
     ]
    },
    {
     "name": "stderr",
     "output_type": "stream",
     "text": [
      " 73%|███████▎  | 11/15 [01:57<00:17,  4.37s/it]"
     ]
    },
    {
     "name": "stdout",
     "output_type": "stream",
     "text": [
      "{'Model': 'QuadraticDiscriminantAnalysis', 'Accuracy': 0.9886252705742541, 'Balanced Accuracy': 0.9886039424752868, 'ROC AUC': 0.9886039424752868, 'F1 Score': 0.9886242090354372, 'Time taken': 1.6340010166168213}\n"
     ]
    },
    {
     "name": "stderr",
     "output_type": "stream",
     "text": [
      " 80%|████████  | 12/15 [02:51<00:57, 19.31s/it]"
     ]
    },
    {
     "name": "stdout",
     "output_type": "stream",
     "text": [
      "{'Model': 'RandomForestClassifier', 'Accuracy': 0.9912142948092186, 'Balanced Accuracy': 0.9911924515260957, 'ROC AUC': 0.9911924515260956, 'F1 Score': 0.9912134381629941, 'Time taken': 53.46000337600708}\n"
     ]
    },
    {
     "name": "stderr",
     "output_type": "stream",
     "text": [
      " 93%|█████████▎| 14/15 [02:56<00:11, 11.67s/it]"
     ]
    },
    {
     "name": "stdout",
     "output_type": "stream",
     "text": [
      "{'Model': 'XGBClassifier', 'Accuracy': 0.9909596366877467, 'Balanced Accuracy': 0.9909388546462725, 'ROC AUC': 0.9909388546462725, 'F1 Score': 0.9909588299781004, 'Time taken': 5.764997243881226}\n",
      "[LightGBM] [Info] Number of positive: 47092, number of negative: 47151\n",
      "[LightGBM] [Info] Auto-choosing row-wise multi-threading, the overhead of testing was 0.033489 seconds.\n",
      "You can set `force_row_wise=true` to remove the overhead.\n",
      "And if memory is not enough, you can set `force_col_wise=true`.\n",
      "[LightGBM] [Info] Total Bins 6359\n",
      "[LightGBM] [Info] Number of data points in the train set: 94243, number of used features: 42\n",
      "[LightGBM] [Info] [binary:BoostFromScore]: pavg=0.499687 -> initscore=-0.001252\n",
      "[LightGBM] [Info] Start training from score -0.001252\n"
     ]
    },
    {
     "name": "stderr",
     "output_type": "stream",
     "text": [
      "100%|██████████| 15/15 [03:02<00:00, 12.18s/it]"
     ]
    },
    {
     "name": "stdout",
     "output_type": "stream",
     "text": [
      "{'Model': 'LGBMClassifier', 'Accuracy': 0.9912142948092186, 'Balanced Accuracy': 0.9911924515260957, 'ROC AUC': 0.9911924515260956, 'F1 Score': 0.9912134381629941, 'Time taken': 5.771999835968018}\n",
      "\n",
      "\n",
      "Classification Report (Fold 9):\n",
      "\n",
      "AdaBoostClassifier\n",
      "              precision    recall  f1-score   support\n",
      "\n",
      "           0       1.00      0.98      0.99     11751\n",
      "           1       0.98      1.00      0.99     11810\n",
      "\n",
      "    accuracy                           0.99     23561\n",
      "   macro avg       0.99      0.99      0.99     23561\n",
      "weighted avg       0.99      0.99      0.99     23561\n",
      "\n",
      "AUC Scores for each class: 0.9910226783805166\n",
      "-----------------------------------------------------------------------------------\n",
      "BaggingClassifier\n",
      "              precision    recall  f1-score   support\n",
      "\n",
      "           0       1.00      0.98      0.99     11751\n",
      "           1       0.98      1.00      0.99     11810\n",
      "\n",
      "    accuracy                           0.99     23561\n",
      "   macro avg       0.99      0.99      0.99     23561\n",
      "weighted avg       0.99      0.99      0.99     23561\n",
      "\n",
      "AUC Scores for each class: 0.9909394923493999\n",
      "-----------------------------------------------------------------------------------\n",
      "BernoulliNB\n",
      "              precision    recall  f1-score   support\n",
      "\n",
      "           0       0.97      0.98      0.97     11751\n",
      "           1       0.98      0.97      0.97     11810\n",
      "\n",
      "    accuracy                           0.97     23561\n",
      "   macro avg       0.97      0.97      0.97     23561\n",
      "weighted avg       0.97      0.97      0.97     23561\n",
      "\n",
      "AUC Scores for each class: 0.9743774342155183\n",
      "-----------------------------------------------------------------------------------\n",
      "DecisionTreeClassifier\n"
     ]
    },
    {
     "name": "stderr",
     "output_type": "stream",
     "text": [
      "\n"
     ]
    },
    {
     "name": "stdout",
     "output_type": "stream",
     "text": [
      "              precision    recall  f1-score   support\n",
      "\n",
      "           0       0.98      0.98      0.98     11751\n",
      "           1       0.98      0.98      0.98     11810\n",
      "\n",
      "    accuracy                           0.98     23561\n",
      "   macro avg       0.98      0.98      0.98     23561\n",
      "weighted avg       0.98      0.98      0.98     23561\n",
      "\n",
      "AUC Scores for each class: 0.9841279114300252\n",
      "-----------------------------------------------------------------------------------\n",
      "DummyClassifier\n",
      "              precision    recall  f1-score   support\n",
      "\n",
      "           0       0.50      1.00      0.67     11751\n",
      "           1       0.00      0.00      0.00     11810\n",
      "\n",
      "    accuracy                           0.50     23561\n",
      "   macro avg       0.25      0.50      0.33     23561\n",
      "weighted avg       0.25      0.50      0.33     23561\n",
      "\n",
      "AUC Scores for each class: 0.5\n",
      "-----------------------------------------------------------------------------------\n",
      "GaussianNB\n",
      "              precision    recall  f1-score   support\n",
      "\n",
      "           0       0.99      0.96      0.98     11751\n",
      "           1       0.96      0.99      0.98     11810\n",
      "\n",
      "    accuracy                           0.98     23561\n",
      "   macro avg       0.98      0.98      0.98     23561\n",
      "weighted avg       0.98      0.98      0.98     23561\n",
      "\n",
      "AUC Scores for each class: 0.9764877307719718\n",
      "-----------------------------------------------------------------------------------\n",
      "KNeighborsClassifier\n",
      "              precision    recall  f1-score   support\n",
      "\n",
      "           0       1.00      0.98      0.99     11751\n",
      "           1       0.98      1.00      0.99     11810\n",
      "\n",
      "    accuracy                           0.99     23561\n",
      "   macro avg       0.99      0.99      0.99     23561\n",
      "weighted avg       0.99      0.99      0.99     23561\n",
      "\n",
      "AUC Scores for each class: 0.9902591243608286\n",
      "-----------------------------------------------------------------------------------\n",
      "LinearDiscriminantAnalysis\n",
      "              precision    recall  f1-score   support\n",
      "\n",
      "           0       0.99      0.98      0.99     11751\n",
      "           1       0.98      0.99      0.99     11810\n",
      "\n",
      "    accuracy                           0.99     23561\n",
      "   macro avg       0.99      0.99      0.99     23561\n",
      "weighted avg       0.99      0.99      0.99     23561\n",
      "\n",
      "AUC Scores for each class: 0.9862309446559433\n",
      "-----------------------------------------------------------------------------------\n",
      "LogisticRegression\n",
      "              precision    recall  f1-score   support\n",
      "\n",
      "           0       1.00      0.98      0.99     11751\n",
      "           1       0.98      1.00      0.99     11810\n",
      "\n",
      "    accuracy                           0.99     23561\n",
      "   macro avg       0.99      0.99      0.99     23561\n",
      "weighted avg       0.99      0.99      0.99     23561\n",
      "\n",
      "AUC Scores for each class: 0.990810355664688\n",
      "-----------------------------------------------------------------------------------\n",
      "Perceptron\n",
      "              precision    recall  f1-score   support\n",
      "\n",
      "           0       0.99      0.98      0.98     11751\n",
      "           1       0.98      0.99      0.98     11810\n",
      "\n",
      "    accuracy                           0.98     23561\n",
      "   macro avg       0.98      0.98      0.98     23561\n",
      "weighted avg       0.98      0.98      0.98     23561\n",
      "\n",
      "AUC Scores for each class: 0.9829729085697285\n",
      "-----------------------------------------------------------------------------------\n",
      "QuadraticDiscriminantAnalysis\n",
      "              precision    recall  f1-score   support\n",
      "\n",
      "           0       1.00      0.98      0.99     11751\n",
      "           1       0.98      1.00      0.99     11810\n",
      "\n",
      "    accuracy                           0.99     23561\n",
      "   macro avg       0.99      0.99      0.99     23561\n",
      "weighted avg       0.99      0.99      0.99     23561\n",
      "\n",
      "AUC Scores for each class: 0.9886039424752868\n",
      "-----------------------------------------------------------------------------------\n",
      "RandomForestClassifier\n",
      "              precision    recall  f1-score   support\n",
      "\n",
      "           0       1.00      0.98      0.99     11751\n",
      "           1       0.98      1.00      0.99     11810\n",
      "\n",
      "    accuracy                           0.99     23561\n",
      "   macro avg       0.99      0.99      0.99     23561\n",
      "weighted avg       0.99      0.99      0.99     23561\n",
      "\n",
      "AUC Scores for each class: 0.9911924515260956\n",
      "-----------------------------------------------------------------------------------\n",
      "XGBClassifier\n",
      "              precision    recall  f1-score   support\n",
      "\n",
      "           0       1.00      0.98      0.99     11751\n",
      "           1       0.98      1.00      0.99     11810\n",
      "\n",
      "    accuracy                           0.99     23561\n",
      "   macro avg       0.99      0.99      0.99     23561\n",
      "weighted avg       0.99      0.99      0.99     23561\n",
      "\n",
      "AUC Scores for each class: 0.9909388546462725\n",
      "-----------------------------------------------------------------------------------\n",
      "LGBMClassifier\n",
      "              precision    recall  f1-score   support\n",
      "\n",
      "           0       1.00      0.98      0.99     11751\n",
      "           1       0.98      1.00      0.99     11810\n",
      "\n",
      "    accuracy                           0.99     23561\n",
      "   macro avg       0.99      0.99      0.99     23561\n",
      "weighted avg       0.99      0.99      0.99     23561\n",
      "\n",
      "AUC Scores for each class: 0.9911924515260956\n",
      "-----------------------------------------------------------------------------------\n",
      "'tuple' object has no attribute '__name__'\n",
      "Invalid Classifier(s)\n"
     ]
    },
    {
     "name": "stderr",
     "output_type": "stream",
     "text": [
      "  7%|▋         | 1/15 [00:37<08:38, 37.05s/it]"
     ]
    },
    {
     "name": "stdout",
     "output_type": "stream",
     "text": [
      "{'Model': 'AdaBoostClassifier', 'Accuracy': 0.9918081494057724, 'Balanced Accuracy': 0.9918986741526408, 'ROC AUC': 0.9918986741526408, 'F1 Score': 0.9918084059801046, 'Time taken': 37.04400134086609}\n"
     ]
    },
    {
     "name": "stderr",
     "output_type": "stream",
     "text": [
      " 13%|█▎        | 2/15 [01:13<07:55, 36.57s/it]"
     ]
    },
    {
     "name": "stdout",
     "output_type": "stream",
     "text": [
      "{'Model': 'BaggingClassifier', 'Accuracy': 0.9915959252971137, 'Balanced Accuracy': 0.9916688888435793, 'ROC AUC': 0.9916688888435792, 'F1 Score': 0.9915962166086089, 'Time taken': 36.22906851768494}\n"
     ]
    },
    {
     "name": "stderr",
     "output_type": "stream",
     "text": [
      " 20%|██        | 3/15 [01:13<04:02, 20.17s/it]"
     ]
    },
    {
     "name": "stdout",
     "output_type": "stream",
     "text": [
      "{'Model': 'BernoulliNB', 'Accuracy': 0.9768675721561969, 'Balanced Accuracy': 0.9768207722661713, 'ROC AUC': 0.9768207722661714, 'F1 Score': 0.9768662484639965, 'Time taken': 0.6489911079406738}\n"
     ]
    },
    {
     "name": "stderr",
     "output_type": "stream",
     "text": [
      " 27%|██▋       | 4/15 [01:18<02:36, 14.20s/it]"
     ]
    },
    {
     "name": "stdout",
     "output_type": "stream",
     "text": [
      "{'Model': 'DecisionTreeClassifier', 'Accuracy': 0.9848471986417657, 'Balanced Accuracy': 0.9848245515200862, 'ROC AUC': 0.9848245515200861, 'F1 Score': 0.9848468415362785, 'Time taken': 5.04899787902832}\n"
     ]
    },
    {
     "name": "stderr",
     "output_type": "stream",
     "text": [
      " 33%|███▎      | 5/15 [01:19<01:32,  9.25s/it]"
     ]
    },
    {
     "name": "stdout",
     "output_type": "stream",
     "text": [
      "{'Model': 'DummyClassifier', 'Accuracy': 0.49410016977928695, 'Balanced Accuracy': 0.5, 'ROC AUC': 0.5, 'F1 Score': 0.3267986748331399, 'Time taken': 0.4740023612976074}\n"
     ]
    },
    {
     "name": "stderr",
     "output_type": "stream",
     "text": [
      " 40%|████      | 6/15 [01:20<00:57,  6.34s/it]"
     ]
    },
    {
     "name": "stdout",
     "output_type": "stream",
     "text": [
      "{'Model': 'GaussianNB', 'Accuracy': 0.9769949066213922, 'Balanced Accuracy': 0.9771770376940665, 'ROC AUC': 0.9771770376940665, 'F1 Score': 0.9769934958079077, 'Time taken': 0.7000021934509277}\n"
     ]
    },
    {
     "name": "stderr",
     "output_type": "stream",
     "text": [
      " 47%|████▋     | 7/15 [01:44<01:36, 12.11s/it]"
     ]
    },
    {
     "name": "stdout",
     "output_type": "stream",
     "text": [
      "{'Model': 'KNeighborsClassifier', 'Accuracy': 0.9919354838709677, 'Balanced Accuracy': 0.9920195145943995, 'ROC AUC': 0.9920195145943995, 'F1 Score': 0.9919357506241109, 'Time taken': 23.972004413604736}\n"
     ]
    },
    {
     "name": "stderr",
     "output_type": "stream",
     "text": [
      " 53%|█████▎    | 8/15 [01:45<01:01,  8.72s/it]"
     ]
    },
    {
     "name": "stdout",
     "output_type": "stream",
     "text": [
      "{'Model': 'LinearDiscriminantAnalysis', 'Accuracy': 0.9873089983022071, 'Balanced Accuracy': 0.9873888784515824, 'ROC AUC': 0.9873888784515825, 'F1 Score': 0.9873094268913076, 'Time taken': 1.450993537902832}\n"
     ]
    },
    {
     "name": "stderr",
     "output_type": "stream",
     "text": [
      " 60%|██████    | 9/15 [01:47<00:40,  6.74s/it]"
     ]
    },
    {
     "name": "stdout",
     "output_type": "stream",
     "text": [
      "{'Model': 'LogisticRegression', 'Accuracy': 0.991893039049236, 'Balanced Accuracy': 0.9919795683832972, 'ROC AUC': 0.9919795683832972, 'F1 Score': 0.9918933023129979, 'Time taken': 2.408001184463501}\n"
     ]
    },
    {
     "name": "stderr",
     "output_type": "stream",
     "text": [
      " 67%|██████▋   | 10/15 [01:49<00:25,  5.09s/it]"
     ]
    },
    {
     "name": "stdout",
     "output_type": "stream",
     "text": [
      "{'Model': 'Perceptron', 'Accuracy': 0.9845500848896435, 'Balanced Accuracy': 0.9845679696367571, 'ROC AUC': 0.984567969636757, 'F1 Score': 0.9845503498963073, 'Time taken': 1.398998498916626}\n"
     ]
    },
    {
     "name": "stderr",
     "output_type": "stream",
     "text": [
      " 73%|███████▎  | 11/15 [01:51<00:16,  4.08s/it]"
     ]
    },
    {
     "name": "stdout",
     "output_type": "stream",
     "text": [
      "{'Model': 'QuadraticDiscriminantAnalysis', 'Accuracy': 0.9891341256366724, 'Balanced Accuracy': 0.989239806053055, 'ROC AUC': 0.989239806053055, 'F1 Score': 0.9891343937454663, 'Time taken': 1.7619986534118652}\n"
     ]
    },
    {
     "name": "stderr",
     "output_type": "stream",
     "text": [
      " 80%|████████  | 12/15 [02:40<00:53, 17.91s/it]"
     ]
    },
    {
     "name": "stdout",
     "output_type": "stream",
     "text": [
      "{'Model': 'RandomForestClassifier', 'Accuracy': 0.9925721561969439, 'Balanced Accuracy': 0.9926567764820984, 'ROC AUC': 0.9926567764820984, 'F1 Score': 0.9925724010474671, 'Time taken': 49.552006244659424}\n"
     ]
    },
    {
     "name": "stderr",
     "output_type": "stream",
     "text": [
      " 93%|█████████▎| 14/15 [02:46<00:10, 10.90s/it]"
     ]
    },
    {
     "name": "stdout",
     "output_type": "stream",
     "text": [
      "{'Model': 'XGBClassifier', 'Accuracy': 0.9924872665534805, 'Balanced Accuracy': 0.9925678677838287, 'ROC AUC': 0.9925678677838287, 'F1 Score': 0.9924875202667607, 'Time taken': 5.675005197525024}\n",
      "[LightGBM] [Info] Number of positive: 47261, number of negative: 46983\n",
      "[LightGBM] [Info] Auto-choosing row-wise multi-threading, the overhead of testing was 0.038556 seconds.\n",
      "You can set `force_row_wise=true` to remove the overhead.\n",
      "And if memory is not enough, you can set `force_col_wise=true`.\n",
      "[LightGBM] [Info] Total Bins 6357\n",
      "[LightGBM] [Info] Number of data points in the train set: 94244, number of used features: 42\n",
      "[LightGBM] [Info] [binary:BoostFromScore]: pavg=0.501475 -> initscore=0.005900\n",
      "[LightGBM] [Info] Start training from score 0.005900\n"
     ]
    },
    {
     "name": "stderr",
     "output_type": "stream",
     "text": [
      "100%|██████████| 15/15 [02:52<00:00, 11.48s/it]"
     ]
    },
    {
     "name": "stdout",
     "output_type": "stream",
     "text": [
      "{'Model': 'LGBMClassifier', 'Accuracy': 0.9926146010186757, 'Balanced Accuracy': 0.992698726310104, 'ROC AUC': 0.992698726310104, 'F1 Score': 0.9926148453083964, 'Time taken': 5.750999689102173}\n",
      "\n",
      "\n",
      "Classification Report (Fold 2):\n",
      "\n",
      "AdaBoostClassifier\n",
      "              precision    recall  f1-score   support\n",
      "\n",
      "           0       1.00      0.98      0.99     11919\n",
      "           1       0.98      1.00      0.99     11641\n",
      "\n",
      "    accuracy                           0.99     23560\n",
      "   macro avg       0.99      0.99      0.99     23560\n",
      "weighted avg       0.99      0.99      0.99     23560\n",
      "\n",
      "AUC Scores for each class: 0.9918986741526408\n",
      "-----------------------------------------------------------------------------------\n",
      "BaggingClassifier\n",
      "              precision    recall  f1-score   support\n",
      "\n",
      "           0       1.00      0.99      0.99     11919\n",
      "           1       0.99      1.00      0.99     11641\n",
      "\n",
      "    accuracy                           0.99     23560\n",
      "   macro avg       0.99      0.99      0.99     23560\n",
      "weighted avg       0.99      0.99      0.99     23560\n",
      "\n",
      "AUC Scores for each class: 0.9916688888435792\n",
      "-----------------------------------------------------------------------------------\n",
      "BernoulliNB\n"
     ]
    },
    {
     "name": "stderr",
     "output_type": "stream",
     "text": [
      "\n"
     ]
    },
    {
     "name": "stdout",
     "output_type": "stream",
     "text": [
      "              precision    recall  f1-score   support\n",
      "\n",
      "           0       0.97      0.98      0.98     11919\n",
      "           1       0.98      0.97      0.98     11641\n",
      "\n",
      "    accuracy                           0.98     23560\n",
      "   macro avg       0.98      0.98      0.98     23560\n",
      "weighted avg       0.98      0.98      0.98     23560\n",
      "\n",
      "AUC Scores for each class: 0.9768207722661714\n",
      "-----------------------------------------------------------------------------------\n",
      "DecisionTreeClassifier\n",
      "              precision    recall  f1-score   support\n",
      "\n",
      "           0       0.98      0.99      0.99     11919\n",
      "           1       0.99      0.98      0.98     11641\n",
      "\n",
      "    accuracy                           0.98     23560\n",
      "   macro avg       0.98      0.98      0.98     23560\n",
      "weighted avg       0.98      0.98      0.98     23560\n",
      "\n",
      "AUC Scores for each class: 0.9848245515200861\n",
      "-----------------------------------------------------------------------------------\n",
      "DummyClassifier\n",
      "              precision    recall  f1-score   support\n",
      "\n",
      "           0       0.00      0.00      0.00     11919\n",
      "           1       0.49      1.00      0.66     11641\n",
      "\n",
      "    accuracy                           0.49     23560\n",
      "   macro avg       0.25      0.50      0.33     23560\n",
      "weighted avg       0.24      0.49      0.33     23560\n",
      "\n",
      "AUC Scores for each class: 0.5\n",
      "-----------------------------------------------------------------------------------\n",
      "GaussianNB\n",
      "              precision    recall  f1-score   support\n",
      "\n",
      "           0       0.99      0.96      0.98     11919\n",
      "           1       0.96      0.99      0.98     11641\n",
      "\n",
      "    accuracy                           0.98     23560\n",
      "   macro avg       0.98      0.98      0.98     23560\n",
      "weighted avg       0.98      0.98      0.98     23560\n",
      "\n",
      "AUC Scores for each class: 0.9771770376940665\n",
      "-----------------------------------------------------------------------------------\n",
      "KNeighborsClassifier\n",
      "              precision    recall  f1-score   support\n",
      "\n",
      "           0       1.00      0.98      0.99     11919\n",
      "           1       0.98      1.00      0.99     11641\n",
      "\n",
      "    accuracy                           0.99     23560\n",
      "   macro avg       0.99      0.99      0.99     23560\n",
      "weighted avg       0.99      0.99      0.99     23560\n",
      "\n",
      "AUC Scores for each class: 0.9920195145943995\n",
      "-----------------------------------------------------------------------------------\n",
      "LinearDiscriminantAnalysis\n",
      "              precision    recall  f1-score   support\n",
      "\n",
      "           0       0.99      0.98      0.99     11919\n",
      "           1       0.98      0.99      0.99     11641\n",
      "\n",
      "    accuracy                           0.99     23560\n",
      "   macro avg       0.99      0.99      0.99     23560\n",
      "weighted avg       0.99      0.99      0.99     23560\n",
      "\n",
      "AUC Scores for each class: 0.9873888784515825\n",
      "-----------------------------------------------------------------------------------\n",
      "LogisticRegression\n",
      "              precision    recall  f1-score   support\n",
      "\n",
      "           0       1.00      0.98      0.99     11919\n",
      "           1       0.98      1.00      0.99     11641\n",
      "\n",
      "    accuracy                           0.99     23560\n",
      "   macro avg       0.99      0.99      0.99     23560\n",
      "weighted avg       0.99      0.99      0.99     23560\n",
      "\n",
      "AUC Scores for each class: 0.9919795683832972\n",
      "-----------------------------------------------------------------------------------\n",
      "Perceptron\n",
      "              precision    recall  f1-score   support\n",
      "\n",
      "           0       0.99      0.98      0.98     11919\n",
      "           1       0.98      0.99      0.98     11641\n",
      "\n",
      "    accuracy                           0.98     23560\n",
      "   macro avg       0.98      0.98      0.98     23560\n",
      "weighted avg       0.98      0.98      0.98     23560\n",
      "\n",
      "AUC Scores for each class: 0.984567969636757\n",
      "-----------------------------------------------------------------------------------\n",
      "QuadraticDiscriminantAnalysis\n",
      "              precision    recall  f1-score   support\n",
      "\n",
      "           0       1.00      0.98      0.99     11919\n",
      "           1       0.98      1.00      0.99     11641\n",
      "\n",
      "    accuracy                           0.99     23560\n",
      "   macro avg       0.99      0.99      0.99     23560\n",
      "weighted avg       0.99      0.99      0.99     23560\n",
      "\n",
      "AUC Scores for each class: 0.989239806053055\n",
      "-----------------------------------------------------------------------------------\n",
      "RandomForestClassifier\n",
      "              precision    recall  f1-score   support\n",
      "\n",
      "           0       1.00      0.99      0.99     11919\n",
      "           1       0.99      1.00      0.99     11641\n",
      "\n",
      "    accuracy                           0.99     23560\n",
      "   macro avg       0.99      0.99      0.99     23560\n",
      "weighted avg       0.99      0.99      0.99     23560\n",
      "\n",
      "AUC Scores for each class: 0.9926567764820984\n",
      "-----------------------------------------------------------------------------------\n",
      "XGBClassifier\n",
      "              precision    recall  f1-score   support\n",
      "\n",
      "           0       1.00      0.99      0.99     11919\n",
      "           1       0.99      1.00      0.99     11641\n",
      "\n",
      "    accuracy                           0.99     23560\n",
      "   macro avg       0.99      0.99      0.99     23560\n",
      "weighted avg       0.99      0.99      0.99     23560\n",
      "\n",
      "AUC Scores for each class: 0.9925678677838287\n",
      "-----------------------------------------------------------------------------------\n",
      "LGBMClassifier\n",
      "              precision    recall  f1-score   support\n",
      "\n",
      "           0       1.00      0.99      0.99     11919\n",
      "           1       0.99      1.00      0.99     11641\n",
      "\n",
      "    accuracy                           0.99     23560\n",
      "   macro avg       0.99      0.99      0.99     23560\n",
      "weighted avg       0.99      0.99      0.99     23560\n",
      "\n",
      "AUC Scores for each class: 0.992698726310104\n",
      "-----------------------------------------------------------------------------------\n"
     ]
    }
   ],
   "source": [
    "from lazypredict.Supervised import LazyClassifier\n",
    "from sklearn.datasets import load_iris\n",
    "from sklearn.model_selection import cross_val_predict, KFold\n",
    "from sklearn.metrics import classification_report\n",
    "from sklearn.base import clone\n",
    "from sklearn.metrics import roc_auc_score\n",
    "\n",
    "X = df.drop(['Label'], axis = 1)\n",
    "y = df['Label']\n",
    "kfold = KFold(n_splits=5, shuffle=True, random_state=42)\n",
    "if isinstance(X, pd.DataFrame):\n",
    "    X = X.values\n",
    "    y = y.values\n",
    "# Fit LazyClassifier and obtain predictions for each fold\n",
    "for train_index, test_index in kfold.split(X):\n",
    "    X_train, X_test = X[train_index], X[test_index]\n",
    "    y_train, y_test = y[train_index], y[test_index]\n",
    "\n",
    "    # Clone the classifier to ensure a fresh instance for each fold\n",
    "    clf = LazyClassifier(verbose=1,ignore_warnings=True, custom_metric=None,classifiers=classifiers,predictions=True)\n",
    "    models,y_pred = clf.fit(X_train, X_test, y_train, y_test)\n",
    "    print(\"\\n\\nClassification Report (Fold {}):\\n\".format(test_index[0]))\n",
    "    for model in y_pred.columns:\n",
    "        print(model)\n",
    "        print(classification_report(y_test, y_pred[model]))\n",
    "        auc_scores = roc_auc_score(y_test, y_pred[model], multi_class='ovr')  # Or multi_class='ovo' for one-vs-one\n",
    "        print(\"AUC Scores for each class:\", auc_scores)\n",
    "        print('-----------------------------------------------------------------------------------')\n"
   ]
  },
  {
   "cell_type": "code",
   "execution_count": 72,
   "metadata": {},
   "outputs": [
    {
     "name": "stdout",
     "output_type": "stream",
     "text": [
      "AdaBoostClassifier\n",
      "              precision    recall  f1-score   support\n",
      "\n",
      "           0       0.99      0.59      0.74     34206\n",
      "           1       0.59      0.99      0.74     19746\n",
      "\n",
      "    accuracy                           0.74     53952\n",
      "   macro avg       0.79      0.79      0.74     53952\n",
      "weighted avg       0.84      0.74      0.74     53952\n",
      "\n",
      "AUC Scores for each class: 0.7928207574913912\n",
      "-----------------------------------------------------------------------------------\n",
      "-----------------------------------------------------------------------------------\n",
      "BaggingClassifier\n",
      "              precision    recall  f1-score   support\n",
      "\n",
      "           0       0.96      0.77      0.85     34206\n",
      "           1       0.70      0.94      0.80     19746\n",
      "\n",
      "    accuracy                           0.83     53952\n",
      "   macro avg       0.83      0.85      0.83     53952\n",
      "weighted avg       0.86      0.83      0.83     53952\n",
      "\n",
      "AUC Scores for each class: 0.853926883346229\n",
      "-----------------------------------------------------------------------------------\n",
      "-----------------------------------------------------------------------------------\n",
      "BernoulliNB\n",
      "              precision    recall  f1-score   support\n",
      "\n",
      "           0       0.84      0.55      0.66     34206\n",
      "           1       0.51      0.82      0.63     19746\n",
      "\n",
      "    accuracy                           0.65     53952\n",
      "   macro avg       0.67      0.68      0.64     53952\n",
      "weighted avg       0.72      0.65      0.65     53952\n",
      "\n",
      "AUC Scores for each class: 0.6816933057193486\n",
      "-----------------------------------------------------------------------------------\n",
      "-----------------------------------------------------------------------------------\n",
      "DecisionTreeClassifier\n",
      "              precision    recall  f1-score   support\n",
      "\n",
      "           0       0.93      0.76      0.84     34206\n",
      "           1       0.68      0.90      0.78     19746\n",
      "\n",
      "    accuracy                           0.81     53952\n",
      "   macro avg       0.81      0.83      0.81     53952\n",
      "weighted avg       0.84      0.81      0.81     53952\n",
      "\n",
      "AUC Scores for each class: 0.8309580701394288\n",
      "-----------------------------------------------------------------------------------\n",
      "-----------------------------------------------------------------------------------\n",
      "DummyClassifier\n",
      "              precision    recall  f1-score   support\n",
      "\n",
      "           0       0.63      1.00      0.78     34206\n",
      "           1       0.00      0.00      0.00     19746\n",
      "\n",
      "    accuracy                           0.63     53952\n",
      "   macro avg       0.32      0.50      0.39     53952\n",
      "weighted avg       0.40      0.63      0.49     53952\n",
      "\n",
      "AUC Scores for each class: 0.5\n",
      "-----------------------------------------------------------------------------------\n",
      "-----------------------------------------------------------------------------------\n",
      "GaussianNB\n",
      "              precision    recall  f1-score   support\n",
      "\n",
      "           0       0.88      0.54      0.67     34206\n",
      "           1       0.52      0.88      0.66     19746\n",
      "\n",
      "    accuracy                           0.66     53952\n",
      "   macro avg       0.70      0.71      0.66     53952\n",
      "weighted avg       0.75      0.66      0.66     53952\n",
      "\n",
      "AUC Scores for each class: 0.7080092539219318\n",
      "-----------------------------------------------------------------------------------\n",
      "-----------------------------------------------------------------------------------\n",
      "KNeighborsClassifier\n",
      "              precision    recall  f1-score   support\n",
      "\n",
      "           0       0.94      0.70      0.80     34206\n",
      "           1       0.64      0.92      0.76     19746\n",
      "\n",
      "    accuracy                           0.78     53952\n",
      "   macro avg       0.79      0.81      0.78     53952\n",
      "weighted avg       0.83      0.78      0.79     53952\n",
      "\n",
      "AUC Scores for each class: 0.8110552295151761\n",
      "-----------------------------------------------------------------------------------\n",
      "-----------------------------------------------------------------------------------\n",
      "LinearDiscriminantAnalysis\n",
      "              precision    recall  f1-score   support\n",
      "\n",
      "           0       1.00      0.41      0.58     34206\n",
      "           1       0.49      1.00      0.66     19746\n",
      "\n",
      "    accuracy                           0.62     53952\n",
      "   macro avg       0.75      0.70      0.62     53952\n",
      "weighted avg       0.81      0.62      0.61     53952\n",
      "\n",
      "AUC Scores for each class: 0.703735378262005\n",
      "-----------------------------------------------------------------------------------\n",
      "-----------------------------------------------------------------------------------\n",
      "LogisticRegression\n",
      "              precision    recall  f1-score   support\n",
      "\n",
      "           0       1.00      0.55      0.71     34206\n",
      "           1       0.56      1.00      0.72     19746\n",
      "\n",
      "    accuracy                           0.72     53952\n",
      "   macro avg       0.78      0.78      0.72     53952\n",
      "weighted avg       0.84      0.72      0.72     53952\n",
      "\n",
      "AUC Scores for each class: 0.7762513139819045\n",
      "-----------------------------------------------------------------------------------\n",
      "-----------------------------------------------------------------------------------\n",
      "Perceptron\n",
      "              precision    recall  f1-score   support\n",
      "\n",
      "           0       0.99      0.55      0.71     34206\n",
      "           1       0.56      0.99      0.71     19746\n",
      "\n",
      "    accuracy                           0.71     53952\n",
      "   macro avg       0.77      0.77      0.71     53952\n",
      "weighted avg       0.83      0.71      0.71     53952\n",
      "\n",
      "AUC Scores for each class: 0.7695757609093833\n",
      "-----------------------------------------------------------------------------------\n",
      "-----------------------------------------------------------------------------------\n",
      "QuadraticDiscriminantAnalysis\n",
      "              precision    recall  f1-score   support\n",
      "\n",
      "           0       0.99      0.54      0.70     34206\n",
      "           1       0.55      0.99      0.71     19746\n",
      "\n",
      "    accuracy                           0.71     53952\n",
      "   macro avg       0.77      0.77      0.71     53952\n",
      "weighted avg       0.83      0.71      0.70     53952\n",
      "\n",
      "AUC Scores for each class: 0.7663462706774209\n",
      "-----------------------------------------------------------------------------------\n",
      "-----------------------------------------------------------------------------------\n",
      "RandomForestClassifier\n",
      "              precision    recall  f1-score   support\n",
      "\n",
      "           0       0.98      0.74      0.84     34206\n",
      "           1       0.68      0.97      0.80     19746\n",
      "\n",
      "    accuracy                           0.83     53952\n",
      "   macro avg       0.83      0.86      0.82     53952\n",
      "weighted avg       0.87      0.83      0.83     53952\n",
      "\n",
      "AUC Scores for each class: 0.8565467723192774\n",
      "-----------------------------------------------------------------------------------\n",
      "-----------------------------------------------------------------------------------\n",
      "XGBClassifier\n",
      "              precision    recall  f1-score   support\n",
      "\n",
      "           0       0.99      0.60      0.75     34206\n",
      "           1       0.59      0.99      0.74     19746\n",
      "\n",
      "    accuracy                           0.75     53952\n",
      "   macro avg       0.79      0.80      0.75     53952\n",
      "weighted avg       0.84      0.75      0.75     53952\n",
      "\n",
      "AUC Scores for each class: 0.7972346058581947\n",
      "-----------------------------------------------------------------------------------\n",
      "-----------------------------------------------------------------------------------\n",
      "LGBMClassifier\n",
      "              precision    recall  f1-score   support\n",
      "\n",
      "           0       0.99      0.60      0.75     34206\n",
      "           1       0.59      0.99      0.74     19746\n",
      "\n",
      "    accuracy                           0.74     53952\n",
      "   macro avg       0.79      0.80      0.74     53952\n",
      "weighted avg       0.85      0.74      0.75     53952\n",
      "\n",
      "AUC Scores for each class: 0.7973483420105396\n",
      "-----------------------------------------------------------------------------------\n",
      "-----------------------------------------------------------------------------------\n"
     ]
    }
   ],
   "source": [
    "from sklearn.metrics import roc_auc_score\n",
    "for model in predictions.columns:\n",
    "    print(model)\n",
    "    print(classification_report(y_test, predictions[model]))\n",
    "    auc_scores = roc_auc_score(y_test, predictions[model], multi_class='ovr')  # Or multi_class='ovo' for one-vs-one\n",
    "    print(\"AUC Scores for each class:\", auc_scores)\n",
    "    print('-----------------------------------------------------------------------------------')\n",
    "    print('-----------------------------------------------------------------------------------')"
   ]
  },
  {
   "cell_type": "markdown",
   "metadata": {},
   "source": [
    "## Remove the other unwanted columns"
   ]
  },
  {
   "cell_type": "code",
   "execution_count": 7,
   "metadata": {},
   "outputs": [
    {
     "name": "stderr",
     "output_type": "stream",
     "text": [
      "C:\\Users\\sathi\\AppData\\Local\\Temp\\ipykernel_2220\\3370251438.py:1: DtypeWarning: Columns (1,3) have mixed types. Specify dtype option on import or set low_memory=False.\n",
      "  df = pd.read_csv(r'D:\\Project Phase II\\Dataset\\phase2labelencodeddataset.csv',encoding='cp1252')\n"
     ]
    }
   ],
   "source": [
    "df = pd.read_csv(r'D:\\Project Phase II\\Dataset\\phase2labelencodeddataset.csv',encoding='cp1252')"
   ]
  },
  {
   "cell_type": "code",
   "execution_count": 23,
   "metadata": {},
   "outputs": [],
   "source": [
    "df = df.drop_duplicates()"
   ]
  },
  {
   "cell_type": "code",
   "execution_count": 24,
   "metadata": {},
   "outputs": [
    {
     "data": {
      "text/plain": [
       "2055683"
      ]
     },
     "execution_count": 24,
     "metadata": {},
     "output_type": "execute_result"
    }
   ],
   "source": [
    "len(df)"
   ]
  },
  {
   "cell_type": "code",
   "execution_count": 25,
   "metadata": {},
   "outputs": [],
   "source": [
    "df.groupby(['proto','Label']).sum()"
   ]
  },
  {
   "cell_type": "code",
   "execution_count": 19,
   "metadata": {},
   "outputs": [],
   "source": [
    "train = pd.read_csv(r'D:\\Project Phase II\\Dataset\\train.csv',encoding='cp1252')\n",
    "test = pd.read_csv(r'D:\\Project Phase II\\Dataset\\test.csv',encoding='cp1252')"
   ]
  },
  {
   "cell_type": "code",
   "execution_count": 20,
   "metadata": {},
   "outputs": [],
   "source": [
    "todrop = ['srcip','sport','dstip','dsport','Stime','Ltime','attack_cat', 'sttl','ct_state_ttl']\n",
    "train = train.drop(todrop, axis = 1)\n",
    "test = test.drop(todrop, axis = 1)\n",
    "train = train.drop_duplicates()\n",
    "test = test.drop_duplicates()"
   ]
  },
  {
   "cell_type": "code",
   "execution_count": 21,
   "metadata": {},
   "outputs": [],
   "source": [
    "X_train = train.drop(['Label'], axis = 1)\n",
    "y_train = train['Label']\n",
    "\n",
    "X_test = test.drop(['Label'], axis = 1)\n",
    "y_test = test['Label']"
   ]
  },
  {
   "cell_type": "markdown",
   "metadata": {},
   "source": [
    "Decision Tree and its importance ranking"
   ]
  },
  {
   "cell_type": "code",
   "execution_count": 13,
   "metadata": {},
   "outputs": [
    {
     "name": "stdout",
     "output_type": "stream",
     "text": [
      "sttl: 0.9598604612638756\n",
      "tcprtt: 0.0031931285229357524\n",
      "dtcpb: 0.002790979508138019\n",
      "dbytes: 0.0024976342767277014\n",
      "stcpb: 0.002469027638081055\n",
      "ackdat: 0.0023586617917545137\n",
      "synack: 0.0021848241636572853\n",
      "Dload: 0.0020980450483703964\n",
      "sbytes: 0.0017444701521762947\n",
      "state: 0.0015974867502420275\n",
      "ct_state_ttl: 0.0015358622648859194\n",
      "dur: 0.0014867911067034823\n",
      "smeansz: 0.0014736123026637456\n",
      "Sjit: 0.0014541970349871798\n",
      "ct_srv_dst: 0.0014461178733577165\n",
      "Sload: 0.001426029576383216\n",
      "Sintpkt: 0.0012132460663494627\n",
      "Dintpkt: 0.0011739826603547508\n",
      "dmeansz: 0.0011660000041556146\n",
      "Djit: 0.001098150377384562\n",
      "ct_dst_ltm: 0.000980023267925962\n",
      "sloss: 0.0007251649217869243\n",
      "ct_src_ ltm: 0.0007249273363138354\n",
      "ct_srv_src: 0.000697584490822078\n",
      "ct_dst_src_ltm: 0.0006024329323684993\n",
      "res_bdy_len: 0.0003338742431895048\n",
      "ct_src_dport_ltm: 0.00026327598693451376\n",
      "dttl: 0.00019002173133700763\n",
      "ct_flw_http_mthd: 0.00016677815311384012\n",
      "Spkts: 0.00016354449859634423\n",
      "trans_depth: 0.00016284557042724442\n",
      "proto: 0.00014456692535581644\n",
      "Dpkts: 0.00013345718529475918\n",
      "swin: 0.00011861004969329174\n",
      "ct_dst_sport_ltm: 9.839867988838554e-05\n",
      "is_ftp_login: 9.176821181788449e-05\n",
      "service: 5.2294231247882474e-05\n",
      "ct_ftp_cmd: 4.4495384059771866e-05\n",
      "dloss: 3.722781664221082e-05\n",
      "dwin: 0.0\n"
     ]
    }
   ],
   "source": [
    "# Create a decision tree and train it\n",
    "decision_tree = DecisionTreeClassifier()\n",
    "decision_tree.fit(X_train, y_train)\n",
    "\n",
    "# Find the feature importances\n",
    "feature_importances = decision_tree.feature_importances_\n",
    "\n",
    "# Sort the feature importances\n",
    "sorted_indices = np.argsort(feature_importances)[::-1]\n",
    "sorted_features = [X_train.columns[i] for i in sorted_indices]\n",
    "sorted_importances = [feature_importances[i] for i in sorted_indices]\n",
    "\n",
    "# Print the sorted feature importances\n",
    "for feature, importance in zip(sorted_features, sorted_importances):\n",
    "    print(f\"{feature}: {importance}\")\n"
   ]
  },
  {
   "cell_type": "markdown",
   "metadata": {},
   "source": [
    "without sttl"
   ]
  },
  {
   "cell_type": "code",
   "execution_count": 18,
   "metadata": {},
   "outputs": [
    {
     "name": "stdout",
     "output_type": "stream",
     "text": [
      "ct_state_ttl: 0.9503102167546406\n",
      "dttl: 0.011980985250935933\n",
      "synack: 0.003979830257613693\n",
      "stcpb: 0.0028777291544520825\n",
      "dtcpb: 0.002691449838659846\n",
      "smeansz: 0.002670493262802607\n",
      "ackdat: 0.002557251639341623\n",
      "sbytes: 0.0022926714142647428\n",
      "Dload: 0.00193788333362926\n",
      "tcprtt: 0.001706903388045523\n",
      "ct_srv_dst: 0.001630407740809051\n",
      "ct_srv_src: 0.001603199642607703\n",
      "Sload: 0.0015179931927314552\n",
      "Sintpkt: 0.0014986145860480756\n",
      "Sjit: 0.001496723000078696\n",
      "Dintpkt: 0.0014115810996651577\n",
      "Djit: 0.0012360036190233372\n",
      "dbytes: 0.0010895066596709245\n",
      "dur: 0.0010889739657493108\n",
      "sloss: 0.0008217590455344789\n",
      "ct_dst_src_ltm: 0.0007726071684038266\n",
      "ct_src_ ltm: 0.0006818423616774256\n",
      "dmeansz: 0.0004991564921608542\n",
      "ct_dst_ltm: 0.0004963196759115563\n",
      "proto: 0.00021047708387236504\n",
      "res_bdy_len: 0.0001803402585512381\n",
      "dloss: 0.00013743870841973835\n",
      "ct_src_dport_ltm: 0.00010812310466202247\n",
      "Dpkts: 0.00010779506542724577\n",
      "ct_flw_http_mthd: 0.00010390423565263385\n",
      "Spkts: 8.013963020035228e-05\n",
      "ct_dst_sport_ltm: 7.871925776184085e-05\n",
      "ct_ftp_cmd: 4.4796353309131174e-05\n",
      "is_ftp_login: 3.8909983509834666e-05\n",
      "service: 3.4423611399393426e-05\n",
      "swin: 2.42538897211303e-05\n",
      "state: 5.762730554606254e-07\n",
      "dwin: 0.0\n",
      "trans_depth: 0.0\n"
     ]
    }
   ],
   "source": [
    "# Create a decision tree and train it\n",
    "decision_tree = DecisionTreeClassifier()\n",
    "decision_tree.fit(X_train, y_train)\n",
    "\n",
    "# Find the feature importances\n",
    "feature_importances = decision_tree.feature_importances_\n",
    "\n",
    "# Sort the feature importances\n",
    "sorted_indices = np.argsort(feature_importances)[::-1]\n",
    "sorted_features = [X_train.columns[i] for i in sorted_indices]\n",
    "sorted_importances = [feature_importances[i] for i in sorted_indices]\n",
    "\n",
    "# Print the sorted feature importances\n",
    "for feature, importance in zip(sorted_features, sorted_importances):\n",
    "    print(f\"{feature}: {importance}\")"
   ]
  },
  {
   "cell_type": "markdown",
   "metadata": {},
   "source": [
    "without sttl and ct_state_ttl"
   ]
  },
  {
   "cell_type": "code",
   "execution_count": 22,
   "metadata": {},
   "outputs": [
    {
     "name": "stdout",
     "output_type": "stream",
     "text": [
      "dttl: 0.8182407495547448\n",
      "state: 0.14045964399968824\n",
      "dbytes: 0.005681925719142626\n",
      "Sload: 0.00343669395297432\n",
      "dtcpb: 0.00299722405044316\n",
      "stcpb: 0.0025799445874176473\n",
      "ackdat: 0.002480835105842955\n",
      "Dload: 0.0022176149279923155\n",
      "tcprtt: 0.002041717324567916\n",
      "synack: 0.001939485070130847\n",
      "sbytes: 0.0018967760845193542\n",
      "smeansz: 0.0016048023971321893\n",
      "Djit: 0.0015577355245825538\n",
      "Dintpkt: 0.001372455633837228\n",
      "Sjit: 0.0012996084920014618\n",
      "ct_srv_dst: 0.001232528476999792\n",
      "dur: 0.0012115134174477322\n",
      "Sintpkt: 0.0010642144259671647\n",
      "dmeansz: 0.0009397144137260795\n",
      "ct_dst_src_ltm: 0.0009349965123613722\n",
      "ct_src_ ltm: 0.0008926245179554431\n",
      "ct_dst_ltm: 0.0006920955768016387\n",
      "ct_srv_src: 0.0006824715347848011\n",
      "sloss: 0.0005641931992955725\n",
      "dloss: 0.0005100059881082952\n",
      "ct_src_dport_ltm: 0.00035878168137363624\n",
      "res_bdy_len: 0.00033217169890788044\n",
      "Spkts: 0.0002848382187283915\n",
      "ct_dst_sport_ltm: 0.00020638975118542625\n",
      "proto: 9.261391123402212e-05\n",
      "service: 7.37098391077247e-05\n",
      "is_ftp_login: 5.91759367541379e-05\n",
      "Dpkts: 3.901086124486042e-05\n",
      "ct_ftp_cmd: 2.173761299848271e-05\n",
      "trans_depth: 0.0\n",
      "ct_flw_http_mthd: 0.0\n",
      "swin: 0.0\n",
      "dwin: 0.0\n"
     ]
    }
   ],
   "source": [
    "# Create a decision tree and train it\n",
    "decision_tree = DecisionTreeClassifier()\n",
    "decision_tree.fit(X_train, y_train)\n",
    "\n",
    "# Find the feature importances\n",
    "feature_importances = decision_tree.feature_importances_\n",
    "\n",
    "# Sort the feature importances\n",
    "sorted_indices = np.argsort(feature_importances)[::-1]\n",
    "sorted_features = [X_train.columns[i] for i in sorted_indices]\n",
    "sorted_importances = [feature_importances[i] for i in sorted_indices]\n",
    "\n",
    "# Print the sorted feature importances\n",
    "for feature, importance in zip(sorted_features, sorted_importances):\n",
    "    print(f\"{feature}: {importance}\")"
   ]
  }
 ],
 "metadata": {
  "kernelspec": {
   "display_name": "base",
   "language": "python",
   "name": "python3"
  },
  "language_info": {
   "codemirror_mode": {
    "name": "ipython",
    "version": 3
   },
   "file_extension": ".py",
   "mimetype": "text/x-python",
   "name": "python",
   "nbconvert_exporter": "python",
   "pygments_lexer": "ipython3",
   "version": "3.11.7"
  }
 },
 "nbformat": 4,
 "nbformat_minor": 2
}
