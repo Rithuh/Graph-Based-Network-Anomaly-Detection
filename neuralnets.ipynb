{
 "cells": [
  {
   "cell_type": "markdown",
   "metadata": {},
   "source": [
    "Process: Input -> Preprocess and have only 25 + 4 + 1 attributes -> Convert the 25 attributes into x using PCA and then into 1 using LDA. Reconstruct the dataset with 6 attributes: srcip, sport, dstip, dsport, dimensionalityReducedAttribute, label -> Construct adjacency matrix for the train , and for the label. Pass this adjacency matrix to GCN, GAT, and GraphSAGE in parallel. Repeat the same input processing for test matrix. Test the model, store each prediction, and then outline a classification report with AUC score."
   ]
  },
  {
   "cell_type": "markdown",
   "metadata": {},
   "source": [
    "## Libraries"
   ]
  },
  {
   "cell_type": "code",
   "execution_count": 2,
   "metadata": {},
   "outputs": [],
   "source": [
    "import pandas as pd\n",
    "import numpy as np\n",
    "import matplotlib.pyplot as plt\n",
    "import seaborn as sns\n",
    "from scipy.stats import norm\n",
    "from imblearn.over_sampling import SMOTE\n",
    "from sklearn.preprocessing import LabelEncoder\n",
    "from sklearn.model_selection import train_test_split\n",
    "from sklearn.preprocessing import StandardScaler\n",
    "\n",
    "from sklearn.metrics import accuracy_score\n",
    "from sklearn.metrics import f1_score\n",
    "from sklearn.metrics import confusion_matrix\n",
    "from sklearn.metrics import classification_report\n",
    "from sklearn.metrics import precision_score\n",
    "from sklearn.model_selection import cross_validate\n",
    "from sklearn.model_selection import cross_val_predict\n",
    "\n",
    "from sklearn.neighbors import KNeighborsClassifier\n",
    "from sklearn.linear_model import LogisticRegression\n",
    "from sklearn.ensemble import RandomForestClassifier\n",
    "from sklearn.tree import DecisionTreeClassifier\n",
    "from sklearn.naive_bayes import GaussianNB\n",
    "from sklearn.ensemble import BaggingClassifier\n",
    "from sklearn.svm import SVC\n",
    "from sklearn.ensemble import StackingClassifier\n",
    "\n",
    "from sklearn.linear_model import Perceptron\n",
    "from sklearn.model_selection import GridSearchCV\n",
    "from sklearn.model_selection import RepeatedStratifiedKFold\n",
    "from sklearn.neural_network import MLPClassifier\n",
    "from sklearn.cluster import KMeans\n",
    "from scipy.cluster.hierarchy import dendrogram, linkage\n",
    "from sklearn.cluster import AgglomerativeClustering\n"
   ]
  },
  {
   "cell_type": "markdown",
   "metadata": {},
   "source": [
    "## Dataset Loading"
   ]
  },
  {
   "cell_type": "code",
   "execution_count": 5,
   "metadata": {},
   "outputs": [
    {
     "ename": "NameError",
     "evalue": "name 'pd' is not defined",
     "output_type": "error",
     "traceback": [
      "\u001b[1;31m---------------------------------------------------------------------------\u001b[0m",
      "\u001b[1;31mNameError\u001b[0m                                 Traceback (most recent call last)",
      "Cell \u001b[1;32mIn[5], line 1\u001b[0m\n\u001b[1;32m----> 1\u001b[0m train \u001b[38;5;241m=\u001b[39m pd\u001b[38;5;241m.\u001b[39mread_csv(\u001b[38;5;124mr\u001b[39m\u001b[38;5;124m'\u001b[39m\u001b[38;5;124mD:\u001b[39m\u001b[38;5;124m\\\u001b[39m\u001b[38;5;124mProject Phase II\u001b[39m\u001b[38;5;124m\\\u001b[39m\u001b[38;5;124mDataset\u001b[39m\u001b[38;5;124m\\\u001b[39m\u001b[38;5;124mtrain.csv\u001b[39m\u001b[38;5;124m'\u001b[39m,encoding\u001b[38;5;241m=\u001b[39m\u001b[38;5;124m'\u001b[39m\u001b[38;5;124mcp1252\u001b[39m\u001b[38;5;124m'\u001b[39m)\n\u001b[0;32m      2\u001b[0m test \u001b[38;5;241m=\u001b[39m pd\u001b[38;5;241m.\u001b[39mread_csv(\u001b[38;5;124mr\u001b[39m\u001b[38;5;124m'\u001b[39m\u001b[38;5;124mD:\u001b[39m\u001b[38;5;124m\\\u001b[39m\u001b[38;5;124mProject Phase II\u001b[39m\u001b[38;5;124m\\\u001b[39m\u001b[38;5;124mDataset\u001b[39m\u001b[38;5;124m\\\u001b[39m\u001b[38;5;124mtest.csv\u001b[39m\u001b[38;5;124m'\u001b[39m,encoding\u001b[38;5;241m=\u001b[39m\u001b[38;5;124m'\u001b[39m\u001b[38;5;124mcp1252\u001b[39m\u001b[38;5;124m'\u001b[39m)\n",
      "\u001b[1;31mNameError\u001b[0m: name 'pd' is not defined"
     ]
    }
   ],
   "source": [
    "train = pd.read_csv(r'D:\\Project Phase II\\Dataset\\train.csv',encoding='cp1252')\n",
    "test = pd.read_csv(r'D:\\Project Phase II\\Dataset\\test.csv',encoding='cp1252')"
   ]
  },
  {
   "cell_type": "code",
   "execution_count": 47,
   "metadata": {},
   "outputs": [],
   "source": [
    "authortest = pd.read_csv(r'D:\\Project Phase II\\Dataset\\UNSW_NB15_testing-set.csv',encoding='cp1252')"
   ]
  },
  {
   "cell_type": "markdown",
   "metadata": {},
   "source": [
    "## Dataset preprocessing"
   ]
  },
  {
   "cell_type": "code",
   "execution_count": 4,
   "metadata": {},
   "outputs": [],
   "source": [
    "todrop = ['sloss', 'dloss','stcpb', 'dtcpb', 'trans_depth', 'Stime', 'Ltime','ct_flw_http_mthd', \n",
    "        'is_ftp_login', 'ct_ftp_cmd', 'ct_srv_src', 'ct_srv_dst', 'ct_dst_ltm', 'ct_src_ ltm',\n",
    "        'ct_src_dport_ltm', 'ct_dst_sport_ltm', 'ct_dst_src_ltm', 'attack_cat']\n",
    "        \n",
    "reducedTrain = train.drop(todrop, axis = 1)\n",
    "reducedTest = test.drop(todrop, axis = 1)\n",
    "reducedTrain = reducedTrain.drop_duplicates()\n",
    "reducedTest = reducedTest.drop_duplicates()"
   ]
  },
  {
   "cell_type": "code",
   "execution_count": 5,
   "metadata": {},
   "outputs": [],
   "source": [
    "trainAttributes = reducedTrain.drop(['srcip','sport','dstip','dsport','Label'], axis = 1)\n",
    "trainLabel = reducedTrain['Label']\n",
    "testAttributes = reducedTest.drop(['srcip','sport','dstip','dsport','Label'], axis = 1)\n",
    "testLabel = reducedTest['Label']"
   ]
  },
  {
   "cell_type": "code",
   "execution_count": 6,
   "metadata": {},
   "outputs": [],
   "source": [
    "train = reducedTrain\n",
    "test = reducedTest"
   ]
  },
  {
   "cell_type": "markdown",
   "metadata": {},
   "source": [
    "Author's train-test dataset preprocess"
   ]
  },
  {
   "cell_type": "code",
   "execution_count": 48,
   "metadata": {},
   "outputs": [],
   "source": [
    "le = LabelEncoder()\n",
    "authortest['proto'] = le.fit_transform(authortest['proto'])\n",
    "authortest['state'] = le.fit_transform(authortest['state'])\n",
    "authortest['service'] = le.fit_transform(authortest['service'])"
   ]
  },
  {
   "cell_type": "code",
   "execution_count": 49,
   "metadata": {},
   "outputs": [],
   "source": [
    "authortodrop = ['ï»¿id','rate', 'attack_cat', 'is_sm_ips_ports', 'sloss', 'dloss', 'stcpb', 'dtcpb', 'trans_depth',\n",
    "                'ct_srv_src', 'ct_dst_ltm', 'ct_src_dport_ltm', 'ct_dst_sport_ltm', 'ct_dst_src_ltm',\n",
    "                'is_ftp_login', 'ct_ftp_cmd', 'ct_flw_http_mthd', 'ct_src_ltm', 'ct_srv_dst']\n",
    "#Change column names of df\n",
    "authortest = authortest.rename(columns={'dinpkt':'Dintpkt','djit':'Djit','dload':'Dload','dpkts':'Dpkts','label':'Label','sinpkt':'Sintpkt',\n",
    "                        'sjit':'Sjit','sload':'Sload', 'spkts':'Spkts','dmean':'dmeansz','response_body_len':'res_bdy_len', 'smean':'smeansz'})\n",
    "authortest = authortest.drop(authortodrop,axis = 1)\n",
    "authortest = authortest.drop_duplicates()\n",
    "authortestAttributes = authortest[trainAttributes.columns]\n",
    "authortestLabel = authortest['Label']"
   ]
  },
  {
   "cell_type": "markdown",
   "metadata": {},
   "source": [
    "## Find best dimension for PCA"
   ]
  },
  {
   "cell_type": "code",
   "execution_count": 18,
   "metadata": {},
   "outputs": [
    {
     "name": "stderr",
     "output_type": "stream",
     "text": [
      "c:\\ProgramData\\Anaconda3\\Lib\\site-packages\\sklearn\\linear_model\\_logistic.py:458: ConvergenceWarning: lbfgs failed to converge (status=1):\n",
      "STOP: TOTAL NO. of ITERATIONS REACHED LIMIT.\n",
      "\n",
      "Increase the number of iterations (max_iter) or scale the data as shown in:\n",
      "    https://scikit-learn.org/stable/modules/preprocessing.html\n",
      "Please also refer to the documentation for alternative solver options:\n",
      "    https://scikit-learn.org/stable/modules/linear_model.html#logistic-regression\n",
      "  n_iter_i = _check_optimize_result(\n",
      "c:\\ProgramData\\Anaconda3\\Lib\\site-packages\\sklearn\\linear_model\\_logistic.py:458: ConvergenceWarning: lbfgs failed to converge (status=1):\n",
      "STOP: TOTAL NO. of ITERATIONS REACHED LIMIT.\n",
      "\n",
      "Increase the number of iterations (max_iter) or scale the data as shown in:\n",
      "    https://scikit-learn.org/stable/modules/preprocessing.html\n",
      "Please also refer to the documentation for alternative solver options:\n",
      "    https://scikit-learn.org/stable/modules/linear_model.html#logistic-regression\n",
      "  n_iter_i = _check_optimize_result(\n",
      "c:\\ProgramData\\Anaconda3\\Lib\\site-packages\\sklearn\\linear_model\\_logistic.py:458: ConvergenceWarning: lbfgs failed to converge (status=1):\n",
      "STOP: TOTAL NO. of ITERATIONS REACHED LIMIT.\n",
      "\n",
      "Increase the number of iterations (max_iter) or scale the data as shown in:\n",
      "    https://scikit-learn.org/stable/modules/preprocessing.html\n",
      "Please also refer to the documentation for alternative solver options:\n",
      "    https://scikit-learn.org/stable/modules/linear_model.html#logistic-regression\n",
      "  n_iter_i = _check_optimize_result(\n",
      "c:\\ProgramData\\Anaconda3\\Lib\\site-packages\\sklearn\\linear_model\\_logistic.py:458: ConvergenceWarning: lbfgs failed to converge (status=1):\n",
      "STOP: TOTAL NO. of ITERATIONS REACHED LIMIT.\n",
      "\n",
      "Increase the number of iterations (max_iter) or scale the data as shown in:\n",
      "    https://scikit-learn.org/stable/modules/preprocessing.html\n",
      "Please also refer to the documentation for alternative solver options:\n",
      "    https://scikit-learn.org/stable/modules/linear_model.html#logistic-regression\n",
      "  n_iter_i = _check_optimize_result(\n",
      "c:\\ProgramData\\Anaconda3\\Lib\\site-packages\\sklearn\\linear_model\\_logistic.py:458: ConvergenceWarning: lbfgs failed to converge (status=1):\n",
      "STOP: TOTAL NO. of ITERATIONS REACHED LIMIT.\n",
      "\n",
      "Increase the number of iterations (max_iter) or scale the data as shown in:\n",
      "    https://scikit-learn.org/stable/modules/preprocessing.html\n",
      "Please also refer to the documentation for alternative solver options:\n",
      "    https://scikit-learn.org/stable/modules/linear_model.html#logistic-regression\n",
      "  n_iter_i = _check_optimize_result(\n",
      "c:\\ProgramData\\Anaconda3\\Lib\\site-packages\\sklearn\\linear_model\\_logistic.py:458: ConvergenceWarning: lbfgs failed to converge (status=1):\n",
      "STOP: TOTAL NO. of ITERATIONS REACHED LIMIT.\n",
      "\n",
      "Increase the number of iterations (max_iter) or scale the data as shown in:\n",
      "    https://scikit-learn.org/stable/modules/preprocessing.html\n",
      "Please also refer to the documentation for alternative solver options:\n",
      "    https://scikit-learn.org/stable/modules/linear_model.html#logistic-regression\n",
      "  n_iter_i = _check_optimize_result(\n",
      "c:\\ProgramData\\Anaconda3\\Lib\\site-packages\\sklearn\\linear_model\\_logistic.py:458: ConvergenceWarning: lbfgs failed to converge (status=1):\n",
      "STOP: TOTAL NO. of ITERATIONS REACHED LIMIT.\n",
      "\n",
      "Increase the number of iterations (max_iter) or scale the data as shown in:\n",
      "    https://scikit-learn.org/stable/modules/preprocessing.html\n",
      "Please also refer to the documentation for alternative solver options:\n",
      "    https://scikit-learn.org/stable/modules/linear_model.html#logistic-regression\n",
      "  n_iter_i = _check_optimize_result(\n",
      "c:\\ProgramData\\Anaconda3\\Lib\\site-packages\\sklearn\\linear_model\\_logistic.py:458: ConvergenceWarning: lbfgs failed to converge (status=1):\n",
      "STOP: TOTAL NO. of ITERATIONS REACHED LIMIT.\n",
      "\n",
      "Increase the number of iterations (max_iter) or scale the data as shown in:\n",
      "    https://scikit-learn.org/stable/modules/preprocessing.html\n",
      "Please also refer to the documentation for alternative solver options:\n",
      "    https://scikit-learn.org/stable/modules/linear_model.html#logistic-regression\n",
      "  n_iter_i = _check_optimize_result(\n",
      "c:\\ProgramData\\Anaconda3\\Lib\\site-packages\\sklearn\\linear_model\\_logistic.py:458: ConvergenceWarning: lbfgs failed to converge (status=1):\n",
      "STOP: TOTAL NO. of ITERATIONS REACHED LIMIT.\n",
      "\n",
      "Increase the number of iterations (max_iter) or scale the data as shown in:\n",
      "    https://scikit-learn.org/stable/modules/preprocessing.html\n",
      "Please also refer to the documentation for alternative solver options:\n",
      "    https://scikit-learn.org/stable/modules/linear_model.html#logistic-regression\n",
      "  n_iter_i = _check_optimize_result(\n",
      "c:\\ProgramData\\Anaconda3\\Lib\\site-packages\\sklearn\\linear_model\\_logistic.py:458: ConvergenceWarning: lbfgs failed to converge (status=1):\n",
      "STOP: TOTAL NO. of ITERATIONS REACHED LIMIT.\n",
      "\n",
      "Increase the number of iterations (max_iter) or scale the data as shown in:\n",
      "    https://scikit-learn.org/stable/modules/preprocessing.html\n",
      "Please also refer to the documentation for alternative solver options:\n",
      "    https://scikit-learn.org/stable/modules/linear_model.html#logistic-regression\n",
      "  n_iter_i = _check_optimize_result(\n",
      "c:\\ProgramData\\Anaconda3\\Lib\\site-packages\\sklearn\\linear_model\\_logistic.py:458: ConvergenceWarning: lbfgs failed to converge (status=1):\n",
      "STOP: TOTAL NO. of ITERATIONS REACHED LIMIT.\n",
      "\n",
      "Increase the number of iterations (max_iter) or scale the data as shown in:\n",
      "    https://scikit-learn.org/stable/modules/preprocessing.html\n",
      "Please also refer to the documentation for alternative solver options:\n",
      "    https://scikit-learn.org/stable/modules/linear_model.html#logistic-regression\n",
      "  n_iter_i = _check_optimize_result(\n",
      "c:\\ProgramData\\Anaconda3\\Lib\\site-packages\\sklearn\\linear_model\\_logistic.py:458: ConvergenceWarning: lbfgs failed to converge (status=1):\n",
      "STOP: TOTAL NO. of ITERATIONS REACHED LIMIT.\n",
      "\n",
      "Increase the number of iterations (max_iter) or scale the data as shown in:\n",
      "    https://scikit-learn.org/stable/modules/preprocessing.html\n",
      "Please also refer to the documentation for alternative solver options:\n",
      "    https://scikit-learn.org/stable/modules/linear_model.html#logistic-regression\n",
      "  n_iter_i = _check_optimize_result(\n",
      "c:\\ProgramData\\Anaconda3\\Lib\\site-packages\\sklearn\\linear_model\\_logistic.py:458: ConvergenceWarning: lbfgs failed to converge (status=1):\n",
      "STOP: TOTAL NO. of ITERATIONS REACHED LIMIT.\n",
      "\n",
      "Increase the number of iterations (max_iter) or scale the data as shown in:\n",
      "    https://scikit-learn.org/stable/modules/preprocessing.html\n",
      "Please also refer to the documentation for alternative solver options:\n",
      "    https://scikit-learn.org/stable/modules/linear_model.html#logistic-regression\n",
      "  n_iter_i = _check_optimize_result(\n",
      "c:\\ProgramData\\Anaconda3\\Lib\\site-packages\\sklearn\\linear_model\\_logistic.py:458: ConvergenceWarning: lbfgs failed to converge (status=1):\n",
      "STOP: TOTAL NO. of ITERATIONS REACHED LIMIT.\n",
      "\n",
      "Increase the number of iterations (max_iter) or scale the data as shown in:\n",
      "    https://scikit-learn.org/stable/modules/preprocessing.html\n",
      "Please also refer to the documentation for alternative solver options:\n",
      "    https://scikit-learn.org/stable/modules/linear_model.html#logistic-regression\n",
      "  n_iter_i = _check_optimize_result(\n",
      "c:\\ProgramData\\Anaconda3\\Lib\\site-packages\\sklearn\\linear_model\\_logistic.py:458: ConvergenceWarning: lbfgs failed to converge (status=1):\n",
      "STOP: TOTAL NO. of ITERATIONS REACHED LIMIT.\n",
      "\n",
      "Increase the number of iterations (max_iter) or scale the data as shown in:\n",
      "    https://scikit-learn.org/stable/modules/preprocessing.html\n",
      "Please also refer to the documentation for alternative solver options:\n",
      "    https://scikit-learn.org/stable/modules/linear_model.html#logistic-regression\n",
      "  n_iter_i = _check_optimize_result(\n",
      "c:\\ProgramData\\Anaconda3\\Lib\\site-packages\\sklearn\\linear_model\\_logistic.py:458: ConvergenceWarning: lbfgs failed to converge (status=1):\n",
      "STOP: TOTAL NO. of ITERATIONS REACHED LIMIT.\n",
      "\n",
      "Increase the number of iterations (max_iter) or scale the data as shown in:\n",
      "    https://scikit-learn.org/stable/modules/preprocessing.html\n",
      "Please also refer to the documentation for alternative solver options:\n",
      "    https://scikit-learn.org/stable/modules/linear_model.html#logistic-regression\n",
      "  n_iter_i = _check_optimize_result(\n",
      "c:\\ProgramData\\Anaconda3\\Lib\\site-packages\\sklearn\\linear_model\\_logistic.py:458: ConvergenceWarning: lbfgs failed to converge (status=1):\n",
      "STOP: TOTAL NO. of ITERATIONS REACHED LIMIT.\n",
      "\n",
      "Increase the number of iterations (max_iter) or scale the data as shown in:\n",
      "    https://scikit-learn.org/stable/modules/preprocessing.html\n",
      "Please also refer to the documentation for alternative solver options:\n",
      "    https://scikit-learn.org/stable/modules/linear_model.html#logistic-regression\n",
      "  n_iter_i = _check_optimize_result(\n",
      "c:\\ProgramData\\Anaconda3\\Lib\\site-packages\\sklearn\\linear_model\\_logistic.py:458: ConvergenceWarning: lbfgs failed to converge (status=1):\n",
      "STOP: TOTAL NO. of ITERATIONS REACHED LIMIT.\n",
      "\n",
      "Increase the number of iterations (max_iter) or scale the data as shown in:\n",
      "    https://scikit-learn.org/stable/modules/preprocessing.html\n",
      "Please also refer to the documentation for alternative solver options:\n",
      "    https://scikit-learn.org/stable/modules/linear_model.html#logistic-regression\n",
      "  n_iter_i = _check_optimize_result(\n"
     ]
    },
    {
     "name": "stdout",
     "output_type": "stream",
     "text": [
      "\n",
      "Best n value:  7\n",
      "Variance Ratio: [9.99480578e-01 5.15418833e-04 1.96223365e-06 1.87098832e-06\n",
      " 1.24629337e-07 4.48032356e-08 3.44039133e-10]\n",
      "\n",
      "Second Best n value:  18\n",
      "Variance Ratio: [9.99480578e-01 5.15418833e-04 1.96223365e-06 1.87098832e-06\n",
      " 1.24629337e-07 4.48032356e-08 3.44039133e-10 6.71098399e-11\n",
      " 8.64488787e-12 2.53224963e-12 1.75036884e-12 6.40235312e-13\n",
      " 2.78614539e-13 9.87091134e-14 3.99781277e-14 8.67243724e-15\n",
      " 1.13198579e-15 3.95815015e-16]\n"
     ]
    },
    {
     "data": {
      "image/png": "[encoded data removed]",
      "text/plain": [
       "<Figure size 640x480 with 1 Axes>"
      ]
     },
     "metadata": {},
     "output_type": "display_data"
    }
   ],
   "source": [
    "from sklearn.decomposition import PCA\n",
    "pca_n = []\n",
    "pca_n_f1 = []\n",
    "pca_attr = []\n",
    "for i in range(1,25):\n",
    "    pca = PCA(n_components = i)\n",
    "    pca_x_train = pca.fit_transform(trainAttributes)\n",
    "    pca_x_test = pca.fit_transform(testAttributes)\n",
    "    pca_attr.append(pca.explained_variance_ratio_)\n",
    "    # # explained_variance = pca.explained_variance_ratio_\n",
    "    # print(explained_variance)\n",
    "    classifier = LogisticRegression()\n",
    "    classifier.fit(pca_x_train, trainLabel)\n",
    "    classifier_pred = classifier.predict(pca_x_test)\n",
    "    pca_n.append(i)\n",
    "    pca_n_f1.append(f1_score(testLabel,classifier_pred))\n",
    "    \n",
    "\n",
    "plt.scatter(x=pca_n, y=pca_n_f1)\n",
    "\n",
    "best_pca_n = pca_n_f1.index(max(pca_n_f1)) + 1\n",
    "print('\\nBest n value: ',best_pca_n)\n",
    "print('Variance Ratio:',pca_attr[best_pca_n - 1])\n",
    "plt.scatter(x=best_pca_n, y=pca_n_f1[best_pca_n - 1], color='red')\n",
    "pca_n_f1.pop(best_pca_n -1)\n",
    "sbest_pca_n = pca_n_f1.index(max(pca_n_f1)) + 1\n",
    "print('\\nSecond Best n value: ',sbest_pca_n)\n",
    "print('Variance Ratio:',pca_attr[sbest_pca_n - 1])\n",
    "plt.scatter(x=sbest_pca_n, y=pca_n_f1[sbest_pca_n - 1], color='red')\n",
    "plt.show()"
   ]
  },
  {
   "cell_type": "markdown",
   "metadata": {},
   "source": [
    "## SVD "
   ]
  },
  {
   "cell_type": "code",
   "execution_count": 21,
   "metadata": {},
   "outputs": [
    {
     "name": "stdout",
     "output_type": "stream",
     "text": [
      "\n",
      "Best n value:  13\n"
     ]
    },
    {
     "data": {
      "image/png": "[encoded data removed]",
      "text/plain": [
       "<Figure size 640x480 with 1 Axes>"
      ]
     },
     "metadata": {},
     "output_type": "display_data"
    }
   ],
   "source": [
    "from sklearn.pipeline import Pipeline\n",
    "from sklearn.decomposition import TruncatedSVD\n",
    "\n",
    "svd_n = []\n",
    "svd_n_f1 = []\n",
    "for i in range(1,25):\n",
    "    steps = [('svd', TruncatedSVD(n_components=i)), ('m', LogisticRegression())]\n",
    "    pipeline_model = Pipeline(steps=steps)\n",
    "    cv_res = cross_validate(estimator=pipeline_model,X=trainAttributes,y=trainLabel,n_jobs=-1,cv=10,scoring = 'accuracy',return_train_score = True)\n",
    "    y_pred = cross_val_predict(estimator=pipeline_model,X=testAttributes,y=testLabel,n_jobs=-1,cv=10)\n",
    "    svd_n_f1.append(f1_score(testLabel,y_pred))\n",
    "    svd_n.append(i)\n",
    "\n",
    "plt.scatter(x=svd_n, y=svd_n_f1)\n",
    "\n",
    "best_svd_n = svd_n_f1.index(max(svd_n_f1)) + 1\n",
    "print('\\nBest n value: ',best_svd_n)\n",
    "plt.scatter(x=best_svd_n, y=svd_n_f1[best_svd_n - 1], color='red')\n",
    "plt.show()"
   ]
  },
  {
   "cell_type": "markdown",
   "metadata": {},
   "source": [
    "## LDA"
   ]
  },
  {
   "cell_type": "markdown",
   "metadata": {},
   "source": [
    "Note: LDA can take in upto a maximum of (unique number of classes -1 )in the target variable"
   ]
  },
  {
   "cell_type": "code",
   "execution_count": 28,
   "metadata": {},
   "outputs": [
    {
     "name": "stdout",
     "output_type": "stream",
     "text": [
      "\n",
      "Best n value:  1\n",
      "Variance Ratio: [1.]\n"
     ]
    },
    {
     "data": {
      "image/png": "[encoded data removed]",
      "text/plain": [
       "<Figure size 640x480 with 1 Axes>"
      ]
     },
     "metadata": {},
     "output_type": "display_data"
    },
    {
     "name": "stdout",
     "output_type": "stream",
     "text": [
      "F1 score:  0.987965358227421\n"
     ]
    }
   ],
   "source": [
    "from sklearn.discriminant_analysis import LinearDiscriminantAnalysis\n",
    "lda_n = []\n",
    "lda_n_f1 = []\n",
    "lda_attr = []\n",
    "for i in range(1,2):\n",
    "    lda = LinearDiscriminantAnalysis(n_components = i)\n",
    "    lda_x_train = lda.fit_transform(trainAttributes, trainLabel)\n",
    "    lda_x_test = lda.transform(testAttributes)\n",
    "    lda_attr.append(lda.explained_variance_ratio_)\n",
    "    # # explained_variance = pca.explained_variance_ratio_\n",
    "    # print(explained_variance)\n",
    "    classifier = LogisticRegression()\n",
    "    classifier.fit(lda_x_train, trainLabel)\n",
    "    classifier_pred = classifier.predict(lda_x_test)\n",
    "    lda_n.append(i)\n",
    "    lda_n_f1.append(f1_score(testLabel,classifier_pred))\n",
    "    \n",
    "\n",
    "plt.scatter(x=lda_n, y=lda_n_f1)\n",
    "\n",
    "best_lda_n = lda_n_f1.index(max(lda_n_f1)) + 1\n",
    "print('\\nBest n value: ',best_lda_n)\n",
    "print('Variance Ratio:',lda_attr[best_lda_n - 1])\n",
    "plt.scatter(x=best_lda_n, y=lda_n_f1[best_lda_n - 1], color='red')\n",
    "lda_n_f1.pop(best_lda_n -1)\n",
    "plt.show()\n",
    "print('F1 score: ',f1_score(testLabel,classifier_pred))"
   ]
  },
  {
   "cell_type": "markdown",
   "metadata": {},
   "source": [
    "## Test PCA and LDA scores"
   ]
  },
  {
   "cell_type": "markdown",
   "metadata": {},
   "source": [
    "Use PCA to reduce 25 into 7 dimensions. Then LDA will reduce it to 1. Note: Simply using LDA to map them from 25 attributes to 1 attribute is more effective. Skipping PCA can be considered."
   ]
  },
  {
   "cell_type": "code",
   "execution_count": 56,
   "metadata": {},
   "outputs": [],
   "source": [
    "from sklearn.decomposition import PCA\n",
    "\n",
    "pca = PCA(n_components = 7)\n",
    "pca_x_train = pca.fit_transform(trainAttributes)\n",
    "pca_x_test = pca.fit_transform(authortestAttributes)\n"
   ]
  },
  {
   "cell_type": "code",
   "execution_count": 50,
   "metadata": {},
   "outputs": [],
   "source": [
    "pca_x_train = trainAttributes\n",
    "pca_x_test = authortestAttributes"
   ]
  },
  {
   "cell_type": "code",
   "execution_count": 57,
   "metadata": {},
   "outputs": [],
   "source": [
    "from sklearn.discriminant_analysis import LinearDiscriminantAnalysis\n",
    "\n",
    "lda = LinearDiscriminantAnalysis(n_components = 1)\n",
    "lda_x_train = lda.fit_transform(pca_x_train, trainLabel)\n",
    "lda_x_test = lda.transform(pca_x_test)\n"
   ]
  },
  {
   "cell_type": "code",
   "execution_count": 58,
   "metadata": {},
   "outputs": [],
   "source": [
    "# List of classifiers to include\n",
    "import sklearn\n",
    "import xgboost\n",
    "import lightgbm\n",
    "import sklearn.discriminant_analysis\n",
    "from lazypredict.Supervised import LazyClassifier\n",
    "\n",
    "#Skip SVM\n",
    "classifiers = [\n",
    " ('AdaBoostClassifier', sklearn.ensemble._weight_boosting.AdaBoostClassifier),\n",
    " ('BaggingClassifier', sklearn.ensemble._bagging.BaggingClassifier),\n",
    " ('BernoulliNB', sklearn.naive_bayes.BernoulliNB),\n",
    " ('DecisionTreeClassifier', sklearn.tree._classes.DecisionTreeClassifier),\n",
    " ('DummyClassifier', sklearn.dummy.DummyClassifier),\n",
    " ('GaussianNB', sklearn.naive_bayes.GaussianNB),\n",
    " ('KNeighborsClassifier',  sklearn.neighbors._classification.KNeighborsClassifier),\n",
    " ('LinearDiscriminantAnalysis',  sklearn.discriminant_analysis.LinearDiscriminantAnalysis),\n",
    " ('LogisticRegression', sklearn.linear_model._logistic.LogisticRegression),\n",
    " ('Perceptron', sklearn.linear_model._perceptron.Perceptron),\n",
    " ('QuadraticDiscriminantAnalysis',  sklearn.discriminant_analysis.QuadraticDiscriminantAnalysis),\n",
    " ('RandomForestClassifier', sklearn.ensemble._forest.RandomForestClassifier),\n",
    " ('StackingClassifier', sklearn.ensemble._stacking.StackingClassifier),\n",
    " ('XGBClassifier', xgboost.sklearn.XGBClassifier),\n",
    " ('LGBMClassifier', lightgbm.sklearn.LGBMClassifier)]\n",
    "clf = LazyClassifier(verbose=1,ignore_warnings=True, custom_metric=None,classifiers=classifiers,predictions=True)\n"
   ]
  },
  {
   "cell_type": "code",
   "execution_count": 59,
   "metadata": {},
   "outputs": [
    {
     "name": "stdout",
     "output_type": "stream",
     "text": [
      "'tuple' object has no attribute '__name__'\n",
      "Invalid Classifier(s)\n"
     ]
    },
    {
     "name": "stderr",
     "output_type": "stream",
     "text": [
      "  7%|▋         | 1/15 [00:02<00:29,  2.09s/it]"
     ]
    },
    {
     "name": "stdout",
     "output_type": "stream",
     "text": [
      "{'Model': 'AdaBoostClassifier', 'Accuracy': 0.6656483951467171, 'Balanced Accuracy': 0.5172628461451693, 'ROC AUC': 0.5172628461451693, 'F1 Score': 0.5663958832197289, 'Time taken': 2.0860018730163574}\n"
     ]
    },
    {
     "name": "stderr",
     "output_type": "stream",
     "text": [
      " 13%|█▎        | 2/15 [00:04<00:28,  2.18s/it]"
     ]
    },
    {
     "name": "stdout",
     "output_type": "stream",
     "text": [
      "{'Model': 'BaggingClassifier', 'Accuracy': 0.5607090611823423, 'Balanced Accuracy': 0.5704318841762752, 'ROC AUC': 0.5704318841762752, 'F1 Score': 0.5728474195137573, 'Time taken': 2.252000331878662}\n",
      "{'Model': 'BernoulliNB', 'Accuracy': 0.470054212202048, 'Balanced Accuracy': 0.5953712600071269, 'ROC AUC': 0.5953712600071269, 'F1 Score': 0.41758805349760697, 'Time taken': 0.05899548530578613}\n"
     ]
    },
    {
     "name": "stderr",
     "output_type": "stream",
     "text": [
      " 27%|██▋       | 4/15 [00:04<00:10,  1.07it/s]"
     ]
    },
    {
     "name": "stdout",
     "output_type": "stream",
     "text": [
      "{'Model': 'DecisionTreeClassifier', 'Accuracy': 0.5538895103691592, 'Balanced Accuracy': 0.5698149469218265, 'ROC AUC': 0.5698149469218265, 'F1 Score': 0.5658675225381268, 'Time taken': 0.33400535583496094}\n",
      "{'Model': 'DummyClassifier', 'Accuracy': 0.6642715773169262, 'Balanced Accuracy': 0.5, 'ROC AUC': 0.5, 'F1 Score': 0.5302701006797149, 'Time taken': 0.032001495361328125}\n",
      "{'Model': 'GaussianNB', 'Accuracy': 0.456952930040444, 'Balanced Accuracy': 0.5838935575415518, 'ROC AUC': 0.5838935575415518, 'F1 Score': 0.39951845846269873, 'Time taken': 0.03999781608581543}\n"
     ]
    },
    {
     "name": "stderr",
     "output_type": "stream",
     "text": [
      " 60%|██████    | 9/15 [00:07<00:03,  1.79it/s]"
     ]
    },
    {
     "name": "stdout",
     "output_type": "stream",
     "text": [
      "{'Model': 'KNeighborsClassifier', 'Accuracy': 0.557976938301351, 'Balanced Accuracy': 0.5940620952925768, 'ROC AUC': 0.5940620952925768, 'F1 Score': 0.5672184986436126, 'Time taken': 2.0960004329681396}\n",
      "{'Model': 'LinearDiscriminantAnalysis', 'Accuracy': 0.470054212202048, 'Balanced Accuracy': 0.5953712600071269, 'ROC AUC': 0.5953712600071269, 'F1 Score': 0.41758805349760697, 'Time taken': 0.0639955997467041}\n",
      "{'Model': 'LogisticRegression', 'Accuracy': 0.6768565527923587, 'Balanced Accuracy': 0.5384079263974604, 'ROC AUC': 0.5384079263974604, 'F1 Score': 0.5956294100296551, 'Time taken': 0.10900115966796875}\n"
     ]
    },
    {
     "name": "stderr",
     "output_type": "stream",
     "text": [
      " 67%|██████▋   | 10/15 [00:07<00:02,  2.14it/s]"
     ]
    },
    {
     "name": "stdout",
     "output_type": "stream",
     "text": [
      "{'Model': 'Perceptron', 'Accuracy': 0.470054212202048, 'Balanced Accuracy': 0.5953712600071269, 'ROC AUC': 0.5953712600071269, 'F1 Score': 0.41758805349760697, 'Time taken': 0.10899662971496582}\n",
      "{'Model': 'QuadraticDiscriminantAnalysis', 'Accuracy': 0.456952930040444, 'Balanced Accuracy': 0.5838935575415518, 'ROC AUC': 0.5838935575415518, 'F1 Score': 0.39951845846269873, 'Time taken': 0.07100081443786621}\n"
     ]
    },
    {
     "name": "stderr",
     "output_type": "stream",
     "text": [
      " 80%|████████  | 12/15 [00:34<00:15,  5.26s/it]"
     ]
    },
    {
     "name": "stdout",
     "output_type": "stream",
     "text": [
      "{'Model': 'RandomForestClassifier', 'Accuracy': 0.5537389209190259, 'Balanced Accuracy': 0.5697332900131905, 'ROC AUC': 0.5697332900131905, 'F1 Score': 0.565714650671581, 'Time taken': 27.088001251220703}\n"
     ]
    },
    {
     "name": "stderr",
     "output_type": "stream",
     "text": [
      " 93%|█████████▎| 14/15 [00:34<00:03,  3.54s/it]"
     ]
    },
    {
     "name": "stdout",
     "output_type": "stream",
     "text": [
      "{'Model': 'XGBClassifier', 'Accuracy': 0.552985973668359, 'Balanced Accuracy': 0.6199536169501123, 'ROC AUC': 0.6199536169501124, 'F1 Score': 0.5529638474524323, 'Time taken': 0.4760005474090576}\n",
      "[LightGBM] [Info] Number of positive: 41231, number of negative: 41231\n",
      "[LightGBM] [Info] Auto-choosing col-wise multi-threading, the overhead of testing was 0.001001 seconds.\n",
      "You can set `force_col_wise=true` to remove the overhead.\n",
      "[LightGBM] [Info] Total Bins 255\n",
      "[LightGBM] [Info] Number of data points in the train set: 82462, number of used features: 1\n",
      "[LightGBM] [Info] [binary:BoostFromScore]: pavg=0.500000 -> initscore=0.000000\n"
     ]
    },
    {
     "name": "stderr",
     "output_type": "stream",
     "text": [
      "100%|██████████| 15/15 [00:35<00:00,  2.37s/it]"
     ]
    },
    {
     "name": "stdout",
     "output_type": "stream",
     "text": [
      "{'Model': 'LGBMClassifier', 'Accuracy': 0.5523405903106445, 'Balanced Accuracy': 0.6204186062387363, 'ROC AUC': 0.6204186062387365, 'F1 Score': 0.5518387296911385, 'Time taken': 0.654998779296875}\n"
     ]
    },
    {
     "name": "stderr",
     "output_type": "stream",
     "text": [
      "\n"
     ]
    }
   ],
   "source": [
    "#train models using clf \n",
    "models,predictions = clf.fit(lda_x_train, lda_x_test, trainLabel, authortestLabel)"
   ]
  },
  {
   "cell_type": "code",
   "execution_count": 60,
   "metadata": {},
   "outputs": [
    {
     "name": "stdout",
     "output_type": "stream",
     "text": [
      "AdaBoostClassifier\n",
      "              precision    recall  f1-score   support\n",
      "\n",
      "           0       0.67      0.97      0.79     30878\n",
      "           1       0.52      0.07      0.12     15606\n",
      "\n",
      "    accuracy                           0.67     46484\n",
      "   macro avg       0.59      0.52      0.46     46484\n",
      "weighted avg       0.62      0.67      0.57     46484\n",
      "\n",
      "AUC Scores for each class: 0.5172628461451693\n",
      "-----------------------------------------------------------------------------------\n",
      "-----------------------------------------------------------------------------------\n",
      "BaggingClassifier\n",
      "              precision    recall  f1-score   support\n",
      "\n",
      "           0       0.73      0.54      0.62     30878\n",
      "           1       0.40      0.60      0.48     15606\n",
      "\n",
      "    accuracy                           0.56     46484\n",
      "   macro avg       0.56      0.57      0.55     46484\n",
      "weighted avg       0.62      0.56      0.57     46484\n",
      "\n",
      "AUC Scores for each class: 0.5704318841762752\n",
      "-----------------------------------------------------------------------------------\n",
      "-----------------------------------------------------------------------------------\n",
      "BernoulliNB\n",
      "              precision    recall  f1-score   support\n",
      "\n",
      "           0       0.95      0.21      0.35     30878\n",
      "           1       0.39      0.98      0.55     15606\n",
      "\n",
      "    accuracy                           0.47     46484\n",
      "   macro avg       0.67      0.60      0.45     46484\n",
      "weighted avg       0.76      0.47      0.42     46484\n",
      "\n",
      "AUC Scores for each class: 0.5953712600071269\n",
      "-----------------------------------------------------------------------------------\n",
      "-----------------------------------------------------------------------------------\n",
      "DecisionTreeClassifier\n",
      "              precision    recall  f1-score   support\n",
      "\n",
      "           0       0.73      0.52      0.61     30878\n",
      "           1       0.39      0.62      0.48     15606\n",
      "\n",
      "    accuracy                           0.55     46484\n",
      "   macro avg       0.56      0.57      0.55     46484\n",
      "weighted avg       0.62      0.55      0.57     46484\n",
      "\n",
      "AUC Scores for each class: 0.5698149469218265\n",
      "-----------------------------------------------------------------------------------\n",
      "-----------------------------------------------------------------------------------\n",
      "DummyClassifier\n",
      "              precision    recall  f1-score   support\n",
      "\n",
      "           0       0.66      1.00      0.80     30878\n",
      "           1       0.00      0.00      0.00     15606\n",
      "\n",
      "    accuracy                           0.66     46484\n",
      "   macro avg       0.33      0.50      0.40     46484\n",
      "weighted avg       0.44      0.66      0.53     46484\n",
      "\n",
      "AUC Scores for each class: 0.5\n",
      "-----------------------------------------------------------------------------------\n",
      "-----------------------------------------------------------------------------------\n",
      "GaussianNB\n",
      "              precision    recall  f1-score   support\n",
      "\n",
      "           0       0.93      0.20      0.33     30878\n",
      "           1       0.38      0.97      0.55     15606\n",
      "\n",
      "    accuracy                           0.46     46484\n",
      "   macro avg       0.65      0.58      0.44     46484\n",
      "weighted avg       0.74      0.46      0.40     46484\n",
      "\n",
      "AUC Scores for each class: 0.5838935575415518\n",
      "-----------------------------------------------------------------------------------\n",
      "-----------------------------------------------------------------------------------\n",
      "KNeighborsClassifier\n",
      "              precision    recall  f1-score   support\n",
      "\n",
      "           0       0.76      0.48      0.59     30878\n",
      "           1       0.41      0.70      0.52     15606\n",
      "\n",
      "    accuracy                           0.56     46484\n",
      "   macro avg       0.59      0.59      0.55     46484\n",
      "weighted avg       0.64      0.56      0.57     46484\n",
      "\n",
      "AUC Scores for each class: 0.5940620952925768\n",
      "-----------------------------------------------------------------------------------\n",
      "-----------------------------------------------------------------------------------\n",
      "LinearDiscriminantAnalysis\n",
      "              precision    recall  f1-score   support\n",
      "\n",
      "           0       0.95      0.21      0.35     30878\n",
      "           1       0.39      0.98      0.55     15606\n",
      "\n",
      "    accuracy                           0.47     46484\n",
      "   macro avg       0.67      0.60      0.45     46484\n",
      "weighted avg       0.76      0.47      0.42     46484\n",
      "\n",
      "AUC Scores for each class: 0.5953712600071269\n",
      "-----------------------------------------------------------------------------------\n",
      "-----------------------------------------------------------------------------------\n",
      "LogisticRegression\n",
      "              precision    recall  f1-score   support\n",
      "\n",
      "           0       0.68      0.96      0.80     30878\n",
      "           1       0.60      0.12      0.20     15606\n",
      "\n",
      "    accuracy                           0.68     46484\n",
      "   macro avg       0.64      0.54      0.50     46484\n",
      "weighted avg       0.65      0.68      0.60     46484\n",
      "\n",
      "AUC Scores for each class: 0.5384079263974604\n",
      "-----------------------------------------------------------------------------------\n",
      "-----------------------------------------------------------------------------------\n",
      "Perceptron\n",
      "              precision    recall  f1-score   support\n",
      "\n",
      "           0       0.95      0.21      0.35     30878\n",
      "           1       0.39      0.98      0.55     15606\n",
      "\n",
      "    accuracy                           0.47     46484\n",
      "   macro avg       0.67      0.60      0.45     46484\n",
      "weighted avg       0.76      0.47      0.42     46484\n",
      "\n",
      "AUC Scores for each class: 0.5953712600071269\n",
      "-----------------------------------------------------------------------------------\n",
      "-----------------------------------------------------------------------------------\n",
      "QuadraticDiscriminantAnalysis\n",
      "              precision    recall  f1-score   support\n",
      "\n",
      "           0       0.93      0.20      0.33     30878\n",
      "           1       0.38      0.97      0.55     15606\n",
      "\n",
      "    accuracy                           0.46     46484\n",
      "   macro avg       0.65      0.58      0.44     46484\n",
      "weighted avg       0.74      0.46      0.40     46484\n",
      "\n",
      "AUC Scores for each class: 0.5838935575415518\n",
      "-----------------------------------------------------------------------------------\n",
      "-----------------------------------------------------------------------------------\n",
      "RandomForestClassifier\n",
      "              precision    recall  f1-score   support\n",
      "\n",
      "           0       0.73      0.52      0.61     30878\n",
      "           1       0.39      0.62      0.48     15606\n",
      "\n",
      "    accuracy                           0.55     46484\n",
      "   macro avg       0.56      0.57      0.55     46484\n",
      "weighted avg       0.62      0.55      0.57     46484\n",
      "\n",
      "AUC Scores for each class: 0.5697332900131905\n",
      "-----------------------------------------------------------------------------------\n",
      "-----------------------------------------------------------------------------------\n",
      "XGBClassifier\n",
      "              precision    recall  f1-score   support\n",
      "\n",
      "           0       0.82      0.42      0.55     30878\n",
      "           1       0.42      0.82      0.55     15606\n",
      "\n",
      "    accuracy                           0.55     46484\n",
      "   macro avg       0.62      0.62      0.55     46484\n",
      "weighted avg       0.69      0.55      0.55     46484\n",
      "\n",
      "AUC Scores for each class: 0.6199536169501124\n",
      "-----------------------------------------------------------------------------------\n",
      "-----------------------------------------------------------------------------------\n",
      "LGBMClassifier\n",
      "              precision    recall  f1-score   support\n",
      "\n",
      "           0       0.83      0.41      0.55     30878\n",
      "           1       0.42      0.83      0.55     15606\n",
      "\n",
      "    accuracy                           0.55     46484\n",
      "   macro avg       0.62      0.62      0.55     46484\n",
      "weighted avg       0.69      0.55      0.55     46484\n",
      "\n",
      "AUC Scores for each class: 0.6204186062387365\n",
      "-----------------------------------------------------------------------------------\n",
      "-----------------------------------------------------------------------------------\n"
     ]
    }
   ],
   "source": [
    "from sklearn.metrics import roc_auc_score\n",
    "for model in predictions.columns:\n",
    "    print(model)\n",
    "    print(classification_report(authortestLabel, predictions[model]))\n",
    "    auc_scores = roc_auc_score(authortestLabel, predictions[model], multi_class='ovr')  # Or multi_class='ovo' for one-vs-one\n",
    "    print(\"AUC Scores for each class:\", auc_scores)\n",
    "    print('-----------------------------------------------------------------------------------')\n",
    "    print('-----------------------------------------------------------------------------------')"
   ]
  },
  {
   "cell_type": "markdown",
   "metadata": {},
   "source": [
    "## Dimensionality Reduction Using LDA (25 dimensions to 1)"
   ]
  },
  {
   "cell_type": "code",
   "execution_count": 7,
   "metadata": {},
   "outputs": [],
   "source": [
    "from sklearn.discriminant_analysis import LinearDiscriminantAnalysis\n",
    "\n",
    "lda = LinearDiscriminantAnalysis(n_components = 1)\n",
    "lda_x_train = lda.fit_transform(trainAttributes, trainLabel)\n",
    "lda_x_test = lda.transform(testAttributes)"
   ]
  },
  {
   "cell_type": "markdown",
   "metadata": {},
   "source": [
    "## Input Formation"
   ]
  },
  {
   "cell_type": "markdown",
   "metadata": {},
   "source": [
    "Train set: Form number of nodes"
   ]
  },
  {
   "cell_type": "code",
   "execution_count": 4,
   "metadata": {},
   "outputs": [
    {
     "ename": "NameError",
     "evalue": "name 'train' is not defined",
     "output_type": "error",
     "traceback": [
      "\u001b[1;31m---------------------------------------------------------------------------\u001b[0m",
      "\u001b[1;31mNameError\u001b[0m                                 Traceback (most recent call last)",
      "Cell \u001b[1;32mIn[4], line 9\u001b[0m\n\u001b[0;32m      6\u001b[0m \u001b[38;5;28;01mfrom\u001b[39;00m \u001b[38;5;21;01mspektral\u001b[39;00m\u001b[38;5;21;01m.\u001b[39;00m\u001b[38;5;21;01mlayers\u001b[39;00m \u001b[38;5;28;01mimport\u001b[39;00m GCNConv, GATConv, GraphSageConv\n\u001b[0;32m      8\u001b[0m nodes \u001b[38;5;241m=\u001b[39m \u001b[38;5;28mset\u001b[39m()\n\u001b[1;32m----> 9\u001b[0m \u001b[38;5;28;01mfor\u001b[39;00m i \u001b[38;5;129;01min\u001b[39;00m \u001b[38;5;28mrange\u001b[39m(\u001b[38;5;28mlen\u001b[39m(train)):\n\u001b[0;32m     10\u001b[0m     src \u001b[38;5;241m=\u001b[39m \u001b[38;5;28mstr\u001b[39m(train[\u001b[38;5;124m'\u001b[39m\u001b[38;5;124msrcip\u001b[39m\u001b[38;5;124m'\u001b[39m]\u001b[38;5;241m.\u001b[39miloc[i])\u001b[38;5;241m+\u001b[39m\u001b[38;5;124m'\u001b[39m\u001b[38;5;124m:\u001b[39m\u001b[38;5;124m'\u001b[39m\u001b[38;5;241m+\u001b[39m\u001b[38;5;28mstr\u001b[39m(train[\u001b[38;5;124m'\u001b[39m\u001b[38;5;124msport\u001b[39m\u001b[38;5;124m'\u001b[39m]\u001b[38;5;241m.\u001b[39miloc[i])\n\u001b[0;32m     11\u001b[0m     dst \u001b[38;5;241m=\u001b[39m \u001b[38;5;28mstr\u001b[39m(train[\u001b[38;5;124m'\u001b[39m\u001b[38;5;124mdstip\u001b[39m\u001b[38;5;124m'\u001b[39m]\u001b[38;5;241m.\u001b[39miloc[i])\u001b[38;5;241m+\u001b[39m\u001b[38;5;124m'\u001b[39m\u001b[38;5;124m:\u001b[39m\u001b[38;5;124m'\u001b[39m\u001b[38;5;241m+\u001b[39m\u001b[38;5;28mstr\u001b[39m(train[\u001b[38;5;124m'\u001b[39m\u001b[38;5;124mdsport\u001b[39m\u001b[38;5;124m'\u001b[39m]\u001b[38;5;241m.\u001b[39miloc[i])\n",
      "\u001b[1;31mNameError\u001b[0m: name 'train' is not defined"
     ]
    }
   ],
   "source": [
    "import numpy as np\n",
    "import tensorflow as tf\n",
    "from tensorflow.keras.layers import Input, Dense, Dropout\n",
    "from tensorflow.keras.models import Model\n",
    "from tensorflow.keras import backend as K\n",
    "from spektral.layers import GCNConv, GATConv, GraphSageConv\n",
    "\n",
    "nodes = set()\n",
    "for i in range(len(train)):\n",
    "    src = str(train['srcip'].iloc[i])+':'+str(train['sport'].iloc[i])\n",
    "    dst = str(train['dstip'].iloc[i])+':'+str(train['dsport'].iloc[i])\n",
    "    nodes.add(src)\n",
    "    nodes.add(dst)"
   ]
  },
  {
   "cell_type": "code",
   "execution_count": null,
   "metadata": {},
   "outputs": [],
   "source": [
    "len(nodes)"
   ]
  },
  {
   "cell_type": "markdown",
   "metadata": {},
   "source": [
    "Train set: construct adjacency matrix "
   ]
  },
  {
   "cell_type": "code",
   "execution_count": 1,
   "metadata": {},
   "outputs": [
    {
     "ename": "NameError",
     "evalue": "name 'np' is not defined",
     "output_type": "error",
     "traceback": [
      "\u001b[1;31m---------------------------------------------------------------------------\u001b[0m",
      "\u001b[1;31mNameError\u001b[0m                                 Traceback (most recent call last)",
      "Cell \u001b[1;32mIn[1], line 1\u001b[0m\n\u001b[1;32m----> 1\u001b[0m adjacency_matrix \u001b[38;5;241m=\u001b[39m np\u001b[38;5;241m.\u001b[39mzeros((\u001b[38;5;28mlen\u001b[39m(nodes), \u001b[38;5;28mlen\u001b[39m(nodes)), dtype\u001b[38;5;241m=\u001b[39m\u001b[38;5;28mfloat\u001b[39m)\n\u001b[0;32m      2\u001b[0m label_matrix \u001b[38;5;241m=\u001b[39m np\u001b[38;5;241m.\u001b[39mzeros((\u001b[38;5;28mlen\u001b[39m(nodes), \u001b[38;5;28mlen\u001b[39m(nodes)))\n\u001b[0;32m      4\u001b[0m \u001b[38;5;66;03m# Add the columns srcip:sport and dstip:dsport to the adjacency matrix\u001b[39;00m\n",
      "\u001b[1;31mNameError\u001b[0m: name 'np' is not defined"
     ]
    }
   ],
   "source": [
    "adjacency_matrix = np.zeros((len(nodes), len(nodes)), dtype=float)\n",
    "label_matrix = np.zeros((len(nodes), len(nodes)))\n",
    "\n",
    "# Add the columns srcip:sport and dstip:dsport to the adjacency matrix\n",
    "for i in range(len(train)):\n",
    "    src = str(train['srcip'].iloc[i])+':'+str(train['sport'].iloc[i])\n",
    "    dst = str(train['dstip'].iloc[i])+':'+str(train['dsport'].iloc[i])\n",
    "    src_index = list(nodes).index(src)\n",
    "    dst_index = list(nodes).index(dst)\n",
    "    if train['Label'].iloc[i] == 1:\n",
    "        adjacency_matrix[src_index, dst_index] = lda_x_train.iloc[i]\n",
    "        label_matrix[src_index, dst_index] = 1  \n",
    "    else:\n",
    "        adjacency_matrix[src_index, dst_index] = lda_x_train.iloc[i]\n",
    "\n",
    "\n",
    "# Flatten tuple values in the adjacency matrix\n",
    "adjacency_matrix_flat = adjacency_matrix.reshape(-1, 1)\n",
    "label_flat = label_matrix.reshape(-1, 1)\n",
    "\n",
    "adjacency_tensor = tf.convert_to_tensor(adjacency_matrix_flat, dtype=tf.float32)"
   ]
  },
  {
   "cell_type": "markdown",
   "metadata": {},
   "source": [
    "Test set: Form number of nodes"
   ]
  },
  {
   "cell_type": "code",
   "execution_count": null,
   "metadata": {},
   "outputs": [],
   "source": [
    "nodes = set()\n",
    "for i in range(len(test)):\n",
    "    src = str(tes['srcip'].iloc[i])+':'+str(test['sport'].iloc[i])\n",
    "    dst = str(test['dstip'].iloc[i])+':'+str(test['dsport'].iloc[i])\n",
    "    nodes.add(src)\n",
    "    nodes.add(dst)"
   ]
  },
  {
   "cell_type": "markdown",
   "metadata": {},
   "source": [
    "Test set: Construct adjacency matrix"
   ]
  },
  {
   "cell_type": "code",
   "execution_count": null,
   "metadata": {},
   "outputs": [],
   "source": [
    "adjacency_matrix_test = np.zeros((len(nodes), len(nodes)), dtype=float)\n",
    "label_matrix_test = np.zeros((len(nodes), len(nodes)))\n",
    "\n",
    "# Add the columns srcip:sport and dstip:dsport to the adjacency matrix\n",
    "for i in range(len(test)):\n",
    "    src = str(test['srcip'].iloc[i])+':'+str(test['sport'].iloc[i])\n",
    "    dst = str(test['dstip'].iloc[i])+':'+str(test['dsport'].iloc[i])\n",
    "    src_index = list(nodes).index(src)\n",
    "    dst_index = list(nodes).index(dst)\n",
    "    if test['Label'].iloc[i] == 1:\n",
    "        adjacency_matrix_test[src_index, dst_index] = lda_x_test.iloc[i]\n",
    "        label_matrix_test[src_index, dst_index] = 1  \n",
    "    else:\n",
    "        adjacency_matrix_test[src_index, dst_index] = lda_x_test.iloc[i]\n",
    "\n",
    "\n",
    "# Flatten tuple values in the adjacency matrix\n",
    "adjacency_matrix_test_flat = adjacency_matrix_test.reshape(-1, 1)\n",
    "label_test_flat = label_matrix_test.reshape(-1, 1)\n",
    "\n",
    "adjacency_test_tensor = tf.convert_to_tensor(adjacency_matrix_test_flat, dtype=tf.float32)"
   ]
  },
  {
   "cell_type": "markdown",
   "metadata": {},
   "source": [
    "GCN Model Training"
   ]
  },
  {
   "cell_type": "code",
   "execution_count": null,
   "metadata": {},
   "outputs": [],
   "source": [
    "input_shape = adjacency_matrix_flat.shape[1:]  # Assuming each tuple has 2 attributes\n",
    "hidden_units = 16\n",
    "output_units = 1  # Binary classification\n",
    "\n",
    "def build_gcn(input_shape, hidden_units, output_units):\n",
    "    X_in = Input(shape=input_shape)\n",
    "    A_in = Input((input_shape[0], input_shape[0]))  # Adjacency matrix\n",
    "\n",
    "    graph_conv = GCNConv(hidden_units, 'relu')([X_in, A_in])\n",
    "    graph_conv = Dropout(0.5)(graph_conv)\n",
    "    graph_conv = GCNConv(hidden_units, 'relu')(graph_conv)\n",
    "    graph_conv = Dropout(0.5)(graph_conv)\n",
    "\n",
    "    output = Dense(output_units, activation='sigmoid')(graph_conv)\n",
    "\n",
    "    model = Model(inputs=[X_in, A_in], outputs=output)\n",
    "    return model\n",
    "\n",
    "gcn_model = build_gcn(input_shape, hidden_units, output_units)\n",
    "gcn_model.compile(optimizer='adam', loss='binary_crossentropy', metrics=['accuracy', 'precision', 'recall', 'f1-score'])\n",
    "\n",
    "history_gcn = gcn_model.fit([X, A], label_flat, epochs=2, batch_size=32, validation_split=0.2)"
   ]
  },
  {
   "cell_type": "markdown",
   "metadata": {},
   "source": [
    "GCN Model Testing"
   ]
  },
  {
   "cell_type": "markdown",
   "metadata": {},
   "source": [
    "GCN Model evaluation\n",
    "gcn_predictions = gcn_model.predict(adjacency_matrix_test_flat)\n",
    "gcn_predictions = (gcn_predictions > 0.5).astype(int)"
   ]
  },
  {
   "cell_type": "code",
   "execution_count": null,
   "metadata": {},
   "outputs": [],
   "source": [
    "from sklearn.metrics import classification_report\n",
    "\n",
    "# Generate classification report\n",
    "gcn_report = classification_report(label_test_flat, gcn_predictions)\n",
    "\n",
    "print(\"Classification Report:\")\n",
    "print(gcn_report)"
   ]
  },
  {
   "cell_type": "markdown",
   "metadata": {},
   "source": [
    "## Not now"
   ]
  },
  {
   "cell_type": "code",
   "execution_count": 6,
   "metadata": {},
   "outputs": [],
   "source": [
    "import torch\n",
    "import torch.nn as nn\n",
    "import torch.nn.functional as F\n",
    "import torch.optim as optim\n",
    "from torch.utils.data import DataLoader\n",
    "from sklearn.model_selection import train_test_split\n",
    "import numpy as np\n",
    "import pandas as pd\n",
    "from sklearn.preprocessing import StandardScaler\n",
    "\n",
    "# Define the GCN model\n",
    "class GCN(nn.Module):\n",
    "    def __init__(self, input_dim, hidden_dim, output_dim):\n",
    "        super(GCN, self).__init__()\n",
    "        self.fc1 = nn.Linear(input_dim, hidden_dim)\n",
    "        self.fc2 = nn.Linear(hidden_dim, output_dim)\n",
    "    \n",
    "    def forward(self, x, adj_matrix):\n",
    "        x = F.relu(self.fc1(torch.matmul(adj_matrix, x)))\n",
    "        x = self.fc2(torch.matmul(adj_matrix, x))\n",
    "        return F.log_softmax(x, dim=1)"
   ]
  },
  {
   "cell_type": "code",
   "execution_count": 9,
   "metadata": {},
   "outputs": [],
   "source": [
    "#Create a networkx directed graph from the dataframes\n",
    "import networkx as nx\n",
    "import numpy as np\n",
    "import pandas as pd \n",
    "\n",
    "trainnodes = set()\n",
    "testnodes = set()\n",
    "\n",
    "for i in range(len(train)):\n",
    "    trainnodes.add(str(train.iloc[i]['srcip'])+\":\"+str(train.iloc[i]['sport']))\n",
    "    trainnodes.add(str(train.iloc[i]['dstip'])+\":\"+str(train.iloc[i]['dsport']))\n",
    "\n"
   ]
  },
  {
   "cell_type": "code",
   "execution_count": 11,
   "metadata": {},
   "outputs": [],
   "source": [
    "for i in range(len(test)):\n",
    "    testnodes.add(str(test.iloc[i]['srcip'])+\":\"+str(test.iloc[i]['sport']))\n",
    "    testnodes.add(str(test.iloc[i]['dstip'])+\":\"+str(test.iloc[i]['dsport']))\n",
    "    "
   ]
  },
  {
   "cell_type": "code",
   "execution_count": 12,
   "metadata": {},
   "outputs": [],
   "source": [
    "trainG = nx.DiGraph()\n",
    "for node in trainnodes:\n",
    "    trainG.add_node(node)\n",
    "\n",
    "testG = nx.DiGraph()\n",
    "for node in testnodes:\n",
    "    testG.add_node(node)\n"
   ]
  },
  {
   "cell_type": "code",
   "execution_count": 19,
   "metadata": {},
   "outputs": [],
   "source": [
    "# add edges\n",
    "for i in range(len(train)):\n",
    "    trainG.add_edge(str(train.iloc[i]['srcip'])+\":\"+str(train.iloc[i]['sport']), str(train.iloc[i]['dstip'])+\":\"+str(train.iloc[i]['dsport']), weight = train.iloc[i][4:46], label=train.iloc[i][-1] )"
   ]
  },
  {
   "cell_type": "code",
   "execution_count": 21,
   "metadata": {},
   "outputs": [
    {
     "ename": "ValueError",
     "evalue": "object dtype is not supported by sparse matrices",
     "output_type": "error",
     "traceback": [
      "\u001b[1;31m---------------------------------------------------------------------------\u001b[0m",
      "\u001b[1;31mValueError\u001b[0m                                Traceback (most recent call last)",
      "Input \u001b[1;32mIn [21]\u001b[0m, in \u001b[0;36m<cell line: 1>\u001b[1;34m()\u001b[0m\n\u001b[1;32m----> 1\u001b[0m adj_matrix \u001b[38;5;241m=\u001b[39m \u001b[43mnx\u001b[49m\u001b[38;5;241;43m.\u001b[39;49m\u001b[43madjacency_matrix\u001b[49m\u001b[43m(\u001b[49m\u001b[43mtrainG\u001b[49m\u001b[43m)\u001b[49m\n\u001b[0;32m      2\u001b[0m adj_matrix \u001b[38;5;241m=\u001b[39m torch\u001b[38;5;241m.\u001b[39mFloatTensor(adj_matrix\u001b[38;5;241m.\u001b[39mtoarray())\n",
      "File \u001b[1;32m~\\AppData\\Roaming\\Python\\Python39\\site-packages\\networkx\\utils\\backends.py:412\u001b[0m, in \u001b[0;36m_dispatch.__call__\u001b[1;34m(self, backend, *args, **kwargs)\u001b[0m\n\u001b[0;32m    409\u001b[0m \u001b[38;5;28;01mdef\u001b[39;00m \u001b[38;5;21m__call__\u001b[39m(\u001b[38;5;28mself\u001b[39m, \u001b[38;5;241m/\u001b[39m, \u001b[38;5;241m*\u001b[39margs, backend\u001b[38;5;241m=\u001b[39m\u001b[38;5;28;01mNone\u001b[39;00m, \u001b[38;5;241m*\u001b[39m\u001b[38;5;241m*\u001b[39mkwargs):\n\u001b[0;32m    410\u001b[0m     \u001b[38;5;28;01mif\u001b[39;00m \u001b[38;5;129;01mnot\u001b[39;00m backends:\n\u001b[0;32m    411\u001b[0m         \u001b[38;5;66;03m# Fast path if no backends are installed\u001b[39;00m\n\u001b[1;32m--> 412\u001b[0m         \u001b[38;5;28;01mreturn\u001b[39;00m \u001b[38;5;28mself\u001b[39m\u001b[38;5;241m.\u001b[39morig_func(\u001b[38;5;241m*\u001b[39margs, \u001b[38;5;241m*\u001b[39m\u001b[38;5;241m*\u001b[39mkwargs)\n\u001b[0;32m    414\u001b[0m     \u001b[38;5;66;03m# Use `backend_name` in this function instead of `backend`\u001b[39;00m\n\u001b[0;32m    415\u001b[0m     backend_name \u001b[38;5;241m=\u001b[39m backend\n",
      "File \u001b[1;32m~\\AppData\\Roaming\\Python\\Python39\\site-packages\\networkx\\linalg\\graphmatrix.py:166\u001b[0m, in \u001b[0;36madjacency_matrix\u001b[1;34m(G, nodelist, dtype, weight)\u001b[0m\n\u001b[0;32m    107\u001b[0m \u001b[38;5;129m@nx\u001b[39m\u001b[38;5;241m.\u001b[39m_dispatch(edge_attrs\u001b[38;5;241m=\u001b[39m\u001b[38;5;124m\"\u001b[39m\u001b[38;5;124mweight\u001b[39m\u001b[38;5;124m\"\u001b[39m)\n\u001b[0;32m    108\u001b[0m \u001b[38;5;28;01mdef\u001b[39;00m \u001b[38;5;21madjacency_matrix\u001b[39m(G, nodelist\u001b[38;5;241m=\u001b[39m\u001b[38;5;28;01mNone\u001b[39;00m, dtype\u001b[38;5;241m=\u001b[39m\u001b[38;5;28;01mNone\u001b[39;00m, weight\u001b[38;5;241m=\u001b[39m\u001b[38;5;124m\"\u001b[39m\u001b[38;5;124mweight\u001b[39m\u001b[38;5;124m\"\u001b[39m):\n\u001b[0;32m    109\u001b[0m     \u001b[38;5;124;03m\"\"\"Returns adjacency matrix of G.\u001b[39;00m\n\u001b[0;32m    110\u001b[0m \n\u001b[0;32m    111\u001b[0m \u001b[38;5;124;03m    Parameters\u001b[39;00m\n\u001b[1;32m   (...)\u001b[0m\n\u001b[0;32m    164\u001b[0m \u001b[38;5;124;03m    adjacency_spectrum\u001b[39;00m\n\u001b[0;32m    165\u001b[0m \u001b[38;5;124;03m    \"\"\"\u001b[39;00m\n\u001b[1;32m--> 166\u001b[0m     \u001b[38;5;28;01mreturn\u001b[39;00m \u001b[43mnx\u001b[49m\u001b[38;5;241;43m.\u001b[39;49m\u001b[43mto_scipy_sparse_array\u001b[49m\u001b[43m(\u001b[49m\u001b[43mG\u001b[49m\u001b[43m,\u001b[49m\u001b[43m \u001b[49m\u001b[43mnodelist\u001b[49m\u001b[38;5;241;43m=\u001b[39;49m\u001b[43mnodelist\u001b[49m\u001b[43m,\u001b[49m\u001b[43m \u001b[49m\u001b[43mdtype\u001b[49m\u001b[38;5;241;43m=\u001b[39;49m\u001b[43mdtype\u001b[49m\u001b[43m,\u001b[49m\u001b[43m \u001b[49m\u001b[43mweight\u001b[49m\u001b[38;5;241;43m=\u001b[39;49m\u001b[43mweight\u001b[49m\u001b[43m)\u001b[49m\n",
      "File \u001b[1;32m~\\AppData\\Roaming\\Python\\Python39\\site-packages\\networkx\\utils\\backends.py:412\u001b[0m, in \u001b[0;36m_dispatch.__call__\u001b[1;34m(self, backend, *args, **kwargs)\u001b[0m\n\u001b[0;32m    409\u001b[0m \u001b[38;5;28;01mdef\u001b[39;00m \u001b[38;5;21m__call__\u001b[39m(\u001b[38;5;28mself\u001b[39m, \u001b[38;5;241m/\u001b[39m, \u001b[38;5;241m*\u001b[39margs, backend\u001b[38;5;241m=\u001b[39m\u001b[38;5;28;01mNone\u001b[39;00m, \u001b[38;5;241m*\u001b[39m\u001b[38;5;241m*\u001b[39mkwargs):\n\u001b[0;32m    410\u001b[0m     \u001b[38;5;28;01mif\u001b[39;00m \u001b[38;5;129;01mnot\u001b[39;00m backends:\n\u001b[0;32m    411\u001b[0m         \u001b[38;5;66;03m# Fast path if no backends are installed\u001b[39;00m\n\u001b[1;32m--> 412\u001b[0m         \u001b[38;5;28;01mreturn\u001b[39;00m \u001b[38;5;28mself\u001b[39m\u001b[38;5;241m.\u001b[39morig_func(\u001b[38;5;241m*\u001b[39margs, \u001b[38;5;241m*\u001b[39m\u001b[38;5;241m*\u001b[39mkwargs)\n\u001b[0;32m    414\u001b[0m     \u001b[38;5;66;03m# Use `backend_name` in this function instead of `backend`\u001b[39;00m\n\u001b[0;32m    415\u001b[0m     backend_name \u001b[38;5;241m=\u001b[39m backend\n",
      "File \u001b[1;32m~\\AppData\\Roaming\\Python\\Python39\\site-packages\\networkx\\convert_matrix.py:599\u001b[0m, in \u001b[0;36mto_scipy_sparse_array\u001b[1;34m(G, nodelist, dtype, weight, format)\u001b[0m\n\u001b[0;32m    596\u001b[0m     row, col, data \u001b[38;5;241m=\u001b[39m [], [], []\n\u001b[0;32m    598\u001b[0m \u001b[38;5;28;01mif\u001b[39;00m G\u001b[38;5;241m.\u001b[39mis_directed():\n\u001b[1;32m--> 599\u001b[0m     A \u001b[38;5;241m=\u001b[39m \u001b[43msp\u001b[49m\u001b[38;5;241;43m.\u001b[39;49m\u001b[43msparse\u001b[49m\u001b[38;5;241;43m.\u001b[39;49m\u001b[43mcoo_array\u001b[49m\u001b[43m(\u001b[49m\u001b[43m(\u001b[49m\u001b[43mdata\u001b[49m\u001b[43m,\u001b[49m\u001b[43m \u001b[49m\u001b[43m(\u001b[49m\u001b[43mrow\u001b[49m\u001b[43m,\u001b[49m\u001b[43m \u001b[49m\u001b[43mcol\u001b[49m\u001b[43m)\u001b[49m\u001b[43m)\u001b[49m\u001b[43m,\u001b[49m\u001b[43m \u001b[49m\u001b[43mshape\u001b[49m\u001b[38;5;241;43m=\u001b[39;49m\u001b[43m(\u001b[49m\u001b[43mnlen\u001b[49m\u001b[43m,\u001b[49m\u001b[43m \u001b[49m\u001b[43mnlen\u001b[49m\u001b[43m)\u001b[49m\u001b[43m,\u001b[49m\u001b[43m \u001b[49m\u001b[43mdtype\u001b[49m\u001b[38;5;241;43m=\u001b[39;49m\u001b[43mdtype\u001b[49m\u001b[43m)\u001b[49m\n\u001b[0;32m    600\u001b[0m \u001b[38;5;28;01melse\u001b[39;00m:\n\u001b[0;32m    601\u001b[0m     \u001b[38;5;66;03m# symmetrize matrix\u001b[39;00m\n\u001b[0;32m    602\u001b[0m     d \u001b[38;5;241m=\u001b[39m data \u001b[38;5;241m+\u001b[39m data\n",
      "File \u001b[1;32m~\\AppData\\Roaming\\Python\\Python39\\site-packages\\scipy\\sparse\\_coo.py:166\u001b[0m, in \u001b[0;36m_coo_base.__init__\u001b[1;34m(self, arg1, shape, dtype, copy)\u001b[0m\n\u001b[0;32m    164\u001b[0m         \u001b[38;5;28mself\u001b[39m\u001b[38;5;241m.\u001b[39mrow \u001b[38;5;241m=\u001b[39m np\u001b[38;5;241m.\u001b[39marray(row, copy\u001b[38;5;241m=\u001b[39mcopy, dtype\u001b[38;5;241m=\u001b[39midx_dtype)\n\u001b[0;32m    165\u001b[0m         \u001b[38;5;28mself\u001b[39m\u001b[38;5;241m.\u001b[39mcol \u001b[38;5;241m=\u001b[39m np\u001b[38;5;241m.\u001b[39marray(col, copy\u001b[38;5;241m=\u001b[39mcopy, dtype\u001b[38;5;241m=\u001b[39midx_dtype)\n\u001b[1;32m--> 166\u001b[0m         \u001b[38;5;28mself\u001b[39m\u001b[38;5;241m.\u001b[39mdata \u001b[38;5;241m=\u001b[39m \u001b[43mgetdata\u001b[49m\u001b[43m(\u001b[49m\u001b[43mobj\u001b[49m\u001b[43m,\u001b[49m\u001b[43m \u001b[49m\u001b[43mcopy\u001b[49m\u001b[38;5;241;43m=\u001b[39;49m\u001b[43mcopy\u001b[49m\u001b[43m,\u001b[49m\u001b[43m \u001b[49m\u001b[43mdtype\u001b[49m\u001b[38;5;241;43m=\u001b[39;49m\u001b[43mdtype\u001b[49m\u001b[43m)\u001b[49m\n\u001b[0;32m    167\u001b[0m         \u001b[38;5;28mself\u001b[39m\u001b[38;5;241m.\u001b[39mhas_canonical_format \u001b[38;5;241m=\u001b[39m \u001b[38;5;28;01mFalse\u001b[39;00m\n\u001b[0;32m    168\u001b[0m \u001b[38;5;28;01melse\u001b[39;00m:\n",
      "File \u001b[1;32m~\\AppData\\Roaming\\Python\\Python39\\site-packages\\scipy\\sparse\\_sputils.py:143\u001b[0m, in \u001b[0;36mgetdata\u001b[1;34m(obj, dtype, copy)\u001b[0m\n\u001b[0;32m    140\u001b[0m data \u001b[38;5;241m=\u001b[39m np\u001b[38;5;241m.\u001b[39marray(obj, dtype\u001b[38;5;241m=\u001b[39mdtype, copy\u001b[38;5;241m=\u001b[39mcopy)\n\u001b[0;32m    141\u001b[0m \u001b[38;5;66;03m# Defer to getdtype for checking that the dtype is OK.\u001b[39;00m\n\u001b[0;32m    142\u001b[0m \u001b[38;5;66;03m# This is called for the validation only; we don't need the return value.\u001b[39;00m\n\u001b[1;32m--> 143\u001b[0m \u001b[43mgetdtype\u001b[49m\u001b[43m(\u001b[49m\u001b[43mdata\u001b[49m\u001b[38;5;241;43m.\u001b[39;49m\u001b[43mdtype\u001b[49m\u001b[43m)\u001b[49m\n\u001b[0;32m    144\u001b[0m \u001b[38;5;28;01mreturn\u001b[39;00m data\n",
      "File \u001b[1;32m~\\AppData\\Roaming\\Python\\Python39\\site-packages\\scipy\\sparse\\_sputils.py:128\u001b[0m, in \u001b[0;36mgetdtype\u001b[1;34m(dtype, a, default)\u001b[0m\n\u001b[0;32m    126\u001b[0m     newdtype \u001b[38;5;241m=\u001b[39m np\u001b[38;5;241m.\u001b[39mdtype(dtype)\n\u001b[0;32m    127\u001b[0m     \u001b[38;5;28;01mif\u001b[39;00m newdtype \u001b[38;5;241m==\u001b[39m np\u001b[38;5;241m.\u001b[39mobject_:\n\u001b[1;32m--> 128\u001b[0m         \u001b[38;5;28;01mraise\u001b[39;00m \u001b[38;5;167;01mValueError\u001b[39;00m(\n\u001b[0;32m    129\u001b[0m             \u001b[38;5;124m\"\u001b[39m\u001b[38;5;124mobject dtype is not supported by sparse matrices\u001b[39m\u001b[38;5;124m\"\u001b[39m\n\u001b[0;32m    130\u001b[0m         )\n\u001b[0;32m    132\u001b[0m \u001b[38;5;28;01mreturn\u001b[39;00m newdtype\n",
      "\u001b[1;31mValueError\u001b[0m: object dtype is not supported by sparse matrices"
     ]
    }
   ],
   "source": [
    "adj_matrix = nx.adjacency_matrix(trainG)\n",
    "adj_matrix = torch.FloatTensor(adj_matrix.toarray())"
   ]
  },
  {
   "cell_type": "code",
   "execution_count": 7,
   "metadata": {},
   "outputs": [
    {
     "ename": "ValueError",
     "evalue": "could not determine the shape of object type 'DataFrame'",
     "output_type": "error",
     "traceback": [
      "\u001b[1;31m---------------------------------------------------------------------------\u001b[0m",
      "\u001b[1;31mValueError\u001b[0m                                Traceback (most recent call last)",
      "Input \u001b[1;32mIn [7]\u001b[0m, in \u001b[0;36m<cell line: 2>\u001b[1;34m()\u001b[0m\n\u001b[0;32m      1\u001b[0m \u001b[38;5;66;03m# Convert data to PyTorch tensors\u001b[39;00m\n\u001b[1;32m----> 2\u001b[0m X_train_tensor \u001b[38;5;241m=\u001b[39m \u001b[43mtorch\u001b[49m\u001b[38;5;241;43m.\u001b[39;49m\u001b[43mFloatTensor\u001b[49m\u001b[43m(\u001b[49m\u001b[43mx_train\u001b[49m\u001b[43m)\u001b[49m\n\u001b[0;32m      3\u001b[0m y_train_tensor \u001b[38;5;241m=\u001b[39m torch\u001b[38;5;241m.\u001b[39mLongTensor(np\u001b[38;5;241m.\u001b[39marray(y_train))\n\u001b[0;32m      4\u001b[0m X_test_tensor \u001b[38;5;241m=\u001b[39m torch\u001b[38;5;241m.\u001b[39mFloatTensor(x_test)\n",
      "\u001b[1;31mValueError\u001b[0m: could not determine the shape of object type 'DataFrame'"
     ]
    }
   ],
   "source": [
    "#Pass networkx graph to GCN\n",
    "import torch\n",
    "import torch.nn as nn\n",
    "\n",
    "\n",
    "# Convert data to PyTorch tensors\n",
    "X_train_tensor = torch.FloatTensor(x_train)\n",
    "y_train_tensor = torch.LongTensor(np.array(y_train))\n",
    "X_test_tensor = torch.FloatTensor(x_test)\n",
    "y_test_tensor = torch.LongTensor(np.array(y_test))\n",
    "\n",
    "# Define the adjacency matrix (assuming no graph structure, so identity matrix)\n",
    "num_nodes = X_train.shape[0]\n",
    "adj_matrix = torch.eye(num_nodes)\n",
    "\n",
    "# Instantiate GCN model\n",
    "input_dim = X_train.shape[1]\n",
    "hidden_dim = 4\n",
    "output_dim = 1\n",
    "model = GCN(input_dim, hidden_dim, output_dim)\n",
    "\n",
    "# Define optimizer and loss function\n",
    "optimizer = optim.Adam(model.parameters(), lr=0.01)\n",
    "criterion = nn.NLLLoss()\n",
    "\n",
    "# Train the model\n",
    "def train_model(model, optimizer, criterion, adj_matrix, X_train, y_train, epochs=100):\n",
    "    model.train()\n",
    "    for epoch in range(epochs):\n",
    "        optimizer.zero_grad()\n",
    "        output = model(X_train, adj_matrix)\n",
    "        loss = criterion(output, torch.argmax(y_train, dim=1))\n",
    "        loss.backward()\n",
    "        optimizer.step()\n",
    "        if (epoch+1) % 10 == 0:\n",
    "            print(f'Epoch [{epoch+1}/{epochs}], Loss: {loss.item()}')\n",
    "\n",
    "train_model(model, optimizer, criterion, adj_matrix, X_train_tensor, y_train_tensor)\n"
   ]
  },
  {
   "cell_type": "code",
   "execution_count": null,
   "metadata": {},
   "outputs": [],
   "source": [
    "# Evaluate the model\n",
    "def evaluate_model(model, X_test, y_test, adj_matrix):\n",
    "    model.eval()\n",
    "    with torch.no_grad():\n",
    "        output = model(X_test, adj_matrix)\n",
    "        _, predicted = torch.max(output, 1)\n",
    "        correct = (predicted == torch.argmax(y_test, dim=1)).sum().item()\n",
    "        accuracy = correct / y_test.size(0)\n",
    "        print(f'Accuracy: {accuracy}')\n",
    "\n",
    "evaluate_model(model, X_test_tensor, y_test_tensor, adj_matrix)"
   ]
  }
 ],
 "metadata": {
  "kernelspec": {
   "display_name": "base",
   "language": "python",
   "name": "python3"
  },
  "language_info": {
   "codemirror_mode": {
    "name": "ipython",
    "version": 3
   },
   "file_extension": ".py",
   "mimetype": "text/x-python",
   "name": "python",
   "nbconvert_exporter": "python",
   "pygments_lexer": "ipython3",
   "version": "3.11.7"
  }
 },
 "nbformat": 4,
 "nbformat_minor": 2
}
