{
 "cells": [
  {
   "cell_type": "markdown",
   "metadata": {},
   "source": [
    "# Libraries"
   ]
  },
  {
   "cell_type": "code",
   "execution_count": 1,
   "metadata": {},
   "outputs": [],
   "source": [
    "import pandas as pd\n",
    "import numpy as np\n",
    "import matplotlib.pyplot as plt\n",
    "import seaborn as sns\n",
    "from sklearn.model_selection import train_test_split\n",
    "from sklearn.preprocessing import StandardScaler\n",
    "\n",
    "from sklearn.metrics import accuracy_score\n",
    "from sklearn.metrics import f1_score\n",
    "from sklearn.metrics import confusion_matrix\n",
    "from sklearn.metrics import classification_report\n",
    "from sklearn.metrics import precision_score\n",
    "from sklearn.model_selection import cross_validate\n",
    "from sklearn.model_selection import cross_val_predict\n",
    "\n",
    "from sklearn.neighbors import KNeighborsClassifier\n",
    "from sklearn.linear_model import LogisticRegression\n",
    "from sklearn.ensemble import RandomForestClassifier\n",
    "from sklearn.tree import DecisionTreeClassifier\n",
    "from sklearn.naive_bayes import GaussianNB\n",
    "from sklearn.ensemble import BaggingClassifier\n",
    "from sklearn.svm import SVC\n",
    "from sklearn.ensemble import StackingClassifier\n",
    "\n",
    "import torch\n",
    "import torch.nn as nn\n",
    "import torch.nn.functional as F\n",
    "from torch_geometric.nn import GATConv\n"
   ]
  },
  {
   "cell_type": "markdown",
   "metadata": {},
   "source": [
    "# Dataset Loading"
   ]
  },
  {
   "cell_type": "code",
   "execution_count": 6,
   "metadata": {},
   "outputs": [
    {
     "name": "stderr",
     "output_type": "stream",
     "text": [
      "C:\\Users\\sathi\\AppData\\Local\\Temp\\ipykernel_13372\\1560202737.py:1: DtypeWarning: Columns (46) have mixed types. Specify dtype option on import or set low_memory=False.\n",
      "  train = pd.read_csv(r'D:\\Project Phase II\\Dataset\\finaltrain.csv',encoding='cp1252')\n",
      "C:\\Users\\sathi\\AppData\\Local\\Temp\\ipykernel_13372\\1560202737.py:2: DtypeWarning: Columns (46) have mixed types. Specify dtype option on import or set low_memory=False.\n",
      "  test = pd.read_csv(r'D:\\Project Phase II\\Dataset\\finaltest.csv',encoding='cp1252') #test_set1\n"
     ]
    }
   ],
   "source": [
    "train = pd.read_csv(r'D:\\Project Phase II\\Dataset\\finaltrain.csv',encoding='cp1252')\n",
    "test = pd.read_csv(r'D:\\Project Phase II\\Dataset\\finaltest.csv',encoding='cp1252') #test_set1 \n",
    "\n",
    "autrain = pd.read_csv(r'D:\\Project Phase II\\Dataset\\UNSW_NB15_training-set.csv',encoding='cp1252')\n",
    "autest = pd.read_csv(r'D:\\Project Phase II\\Dataset\\UNSW_NB15_testing-set.csv',encoding='cp1252') #test_set2"
   ]
  },
  {
   "cell_type": "markdown",
   "metadata": {},
   "source": [
    "# Data Preprocessing"
   ]
  },
  {
   "cell_type": "markdown",
   "metadata": {},
   "source": [
    "## Preprocess user made train-test sets"
   ]
  },
  {
   "cell_type": "code",
   "execution_count": 3,
   "metadata": {},
   "outputs": [],
   "source": [
    "todrop = ['sloss', 'dloss','stcpb', 'dtcpb', 'trans_depth', 'Stime', 'Ltime','ct_flw_http_mthd', \n",
    "        'is_ftp_login', 'ct_ftp_cmd', 'ct_srv_src', 'ct_srv_dst', 'ct_dst_ltm', 'ct_src_ ltm',\n",
    "        'ct_src_dport_ltm', 'ct_dst_sport_ltm', 'ct_dst_src_ltm', 'attack_cat']\n",
    "        \n",
    "reducedTrain = train.drop(todrop, axis = 1)\n",
    "reducedTest = test.drop(todrop, axis = 1)\n",
    "reducedTrain = reducedTrain.drop_duplicates()\n",
    "reducedTest = reducedTest.drop_duplicates()\n",
    "\n",
    "trainAttributes = reducedTrain.drop(['srcip','sport','dstip','dsport','Label'], axis = 1)\n",
    "trainLabel = reducedTrain['Label']\n",
    "testAttributes = reducedTest.drop(['srcip','sport','dstip','dsport','Label'], axis = 1)\n",
    "testLabel = reducedTest['Label']\n",
    "\n",
    "train = reducedTrain\n",
    "test = reducedTest\n",
    "\n",
    "train = train.drop_duplicates(['srcip','sport', 'dstip', 'dsport'], keep = 'last')\n",
    "test = test.drop_duplicates(['srcip','sport', 'dstip', 'dsport'], keep = 'last')"
   ]
  },
  {
   "cell_type": "markdown",
   "metadata": {},
   "source": [
    "## preprocess author's test dataset"
   ]
  },
  {
   "cell_type": "code",
   "execution_count": 4,
   "metadata": {},
   "outputs": [],
   "source": [
    "autestdrop = ['ï»¿id', 'rate', 'sloss', 'dloss','stcpb', 'dtcpb','trans_depth','ct_srv_src','ct_dst_ltm',\n",
    "        'ct_src_dport_ltm', 'ct_dst_sport_ltm', 'ct_dst_src_ltm',\n",
    "        'is_ftp_login', 'ct_ftp_cmd', 'ct_flw_http_mthd', 'ct_src_ltm',\n",
    "        'ct_srv_dst', 'is_sm_ips_ports', 'attack_cat']\n",
    "\n",
    "autest = autest.drop(autestdrop, axis = 1)\n",
    "#Change column names of autest\n",
    "autest.rename(columns={'dinpkt':'Dintpkt','djit':'Djit','dload':'Dload','dpkts':'Dpkts','label':'Label','sinpkt':'Sintpkt','sjit':'Sjit', 'sload':'Sload', 'spkts':'Spkts','dmean':'dmeansz','response_body_len':'res_bdy_len', 'smean':'smeansz'}, inplace=True)\n",
    "autest = autest[(autest['proto']=='tcp') | (autest['proto']=='udp') | (autest['proto']=='ospf')]\n",
    "autest = autest[(autest['service']=='ssh') | (autest['service']=='ftp-data ')  | (autest['service']=='ftp') | (autest['service']=='-') | (autest['service']=='dns') | (autest['service']=='smtp') | (autest['service']=='http') | (autest['service']=='radius') | (autest['service']=='pop3') ]\n",
    "autest = autest[(autest['state'] == 'CON') | (autest['state'] == 'RST') | (autest['state'] == 'FIN') | (autest['state'] == 'ACC') | (autest['state'] == 'REQ') | (autest['state'] == 'INT')]\n",
    "\n",
    "autest['proto'].replace(\"tcp\", 0, inplace = True)\n",
    "autest['proto'].replace(\"udp\", 1, inplace = True)\n",
    "autest['proto'].replace(\"ospf\", 2, inplace = True)\n",
    "\n",
    "autest['service'].replace(\"ssh\", 0, inplace = True)\n",
    "autest['service'].replace(\"ftp-data\", 1, inplace = True)\n",
    "autest['service'].replace(\"ftp\", 2, inplace = True)\n",
    "autest['service'].replace(\"-\", 3, inplace = True)\n",
    "autest['service'].replace(\"dns\", 4, inplace = True)\n",
    "autest['service'].replace(\"smtp\", 5, inplace = True)\n",
    "autest['service'].replace(\"http\", 6, inplace = True)\n",
    "autest['service'].replace(\"radius\", 7, inplace = True)\n",
    "autest['service'].replace(\"pop3\", 8, inplace = True)\n",
    "\n",
    "autest['state'].replace(\"CON\", 0, inplace = True)\n",
    "autest['state'].replace(\"RST\", 1, inplace = True)\n",
    "autest['state'].replace(\"FIN\", 2, inplace = True)\n",
    "autest['state'].replace(\"ACC\", 3, inplace = True)\n",
    "autest['state'].replace(\"REQ\", 4, inplace = True)\n",
    "autest['state'].replace(\"INT\", 5, inplace = True)\n",
    "\n",
    "for column in autest.columns:\n",
    "        if column != 'Label':\n",
    "                col_mean = sum(autest[column]) / len(autest[column])\n",
    "                col_std = (sum((x - col_mean) ** 2 for x in autest[column]) / len(autest[column])) ** 0.5\n",
    "                autest[column] = [(x - col_mean) / col_std for x in autest[column]]\n",
    "\n",
    "\n",
    "autest = autest.drop_duplicates()\n",
    "autestAttributes = autest.drop(['Label'], axis = 1)\n",
    "autestAttributes = autestAttributes[trainAttributes.columns]\n",
    "autestLabel = autest['Label']"
   ]
  },
  {
   "cell_type": "markdown",
   "metadata": {},
   "source": [
    "## Preprocess author's training and testing dataset"
   ]
  },
  {
   "cell_type": "code",
   "execution_count": 7,
   "metadata": {},
   "outputs": [],
   "source": [
    "autraindrop = ['ï»¿id', 'attack_cat']\n",
    "\n",
    "autrain = autrain.drop(autraindrop, axis = 1)\n",
    "autrain.rename(columns={'dinpkt':'Dintpkt','djit':'Djit','dload':'Dload','dpkts':'Dpkts','label':'Label','sinpkt':'Sintpkt','sjit':'Sjit', 'sload':'Sload', 'spkts':'Spkts','dmean':'dmeansz','response_body_len':'res_bdy_len', 'smean':'smeansz'}, inplace=True)\n",
    "autrain = autrain[(autrain['proto']=='tcp') | (autrain['proto']=='udp') | (autrain['proto']=='ospf')]\n",
    "autrain = autrain[(autrain['service']=='ssh') | (autrain['service']=='ftp-data ')  | (autrain['service']=='ftp') | (autrain['service']=='-') | (autrain['service']=='dns') | (autrain['service']=='smtp') | (autrain['service']=='http') | (autrain['service']=='radius') | (autrain['service']=='pop3') ]\n",
    "autrain = autrain[(autrain['state'] == 'CON') | (autrain['state'] == 'RST') | (autrain['state'] == 'FIN') | (autrain['state'] == 'ACC') | (autrain['state'] == 'REQ') | (autrain['state'] == 'INT')]\n",
    "\n",
    "autrain['proto'].replace(\"tcp\", 0, inplace = True)\n",
    "autrain['proto'].replace(\"udp\", 1, inplace = True)\n",
    "autrain['proto'].replace(\"ospf\", 2, inplace = True)\n",
    "\n",
    "autrain['service'].replace(\"ssh\", 0, inplace = True)\n",
    "autrain['service'].replace(\"ftp-data\", 1, inplace = True)\n",
    "autrain['service'].replace(\"ftp\", 2, inplace = True)\n",
    "autrain['service'].replace(\"-\", 3, inplace = True)\n",
    "autrain['service'].replace(\"dns\", 4, inplace = True)\n",
    "autrain['service'].replace(\"smtp\", 5, inplace = True)\n",
    "autrain['service'].replace(\"http\", 6, inplace = True)\n",
    "autrain['service'].replace(\"radius\", 7, inplace = True)\n",
    "autrain['service'].replace(\"pop3\", 8, inplace = True)\n",
    "\n",
    "autrain['state'].replace(\"CON\", 0, inplace = True)\n",
    "autrain['state'].replace(\"RST\", 1, inplace = True)\n",
    "autrain['state'].replace(\"FIN\", 2, inplace = True)\n",
    "autrain['state'].replace(\"ACC\", 3, inplace = True)\n",
    "autrain['state'].replace(\"REQ\", 4, inplace = True)\n",
    "autrain['state'].replace(\"INT\", 5, inplace = True)\n",
    "\n",
    "for column in autrain.columns:\n",
    "        if column != 'Label':\n",
    "                col_mean = sum(autrain[column]) / len(autrain[column])\n",
    "                col_std = (sum((x - col_mean) ** 2 for x in autrain[column]) / len(autrain[column])) ** 0.5\n",
    "                autrain[column] = [(x - col_mean) / col_std for x in autrain[column]]\n",
    "\n",
    "\n",
    "autrain = autrain.drop_duplicates()\n",
    "autrainAttributes = autrain.drop(['Label'], axis = 1)\n",
    "# autrainAttributes = autrainAttributes[trainAttributes.columns]\n",
    "autrainLabel = autrain['Label']"
   ]
  },
  {
   "cell_type": "code",
   "execution_count": 8,
   "metadata": {},
   "outputs": [],
   "source": [
    "autestdrop = autraindrop = ['ï»¿id', 'attack_cat']\n",
    "\n",
    "autest = autest.drop(autestdrop, axis = 1)\n",
    "#Change column names of autest\n",
    "autest.rename(columns={'dinpkt':'Dintpkt','djit':'Djit','dload':'Dload','dpkts':'Dpkts','label':'Label','sinpkt':'Sintpkt','sjit':'Sjit', 'sload':'Sload', 'spkts':'Spkts','dmean':'dmeansz','response_body_len':'res_bdy_len', 'smean':'smeansz'}, inplace=True)\n",
    "autest = autest[(autest['proto']=='tcp') | (autest['proto']=='udp') | (autest['proto']=='ospf')]\n",
    "autest = autest[(autest['service']=='ssh') | (autest['service']=='ftp-data ')  | (autest['service']=='ftp') | (autest['service']=='-') | (autest['service']=='dns') | (autest['service']=='smtp') | (autest['service']=='http') | (autest['service']=='radius') | (autest['service']=='pop3') ]\n",
    "autest = autest[(autest['state'] == 'CON') | (autest['state'] == 'RST') | (autest['state'] == 'FIN') | (autest['state'] == 'ACC') | (autest['state'] == 'REQ') | (autest['state'] == 'INT')]\n",
    "\n",
    "autest['proto'].replace(\"tcp\", 0, inplace = True)\n",
    "autest['proto'].replace(\"udp\", 1, inplace = True)\n",
    "autest['proto'].replace(\"ospf\", 2, inplace = True)\n",
    "\n",
    "autest['service'].replace(\"ssh\", 0, inplace = True)\n",
    "autest['service'].replace(\"ftp-data\", 1, inplace = True)\n",
    "autest['service'].replace(\"ftp\", 2, inplace = True)\n",
    "autest['service'].replace(\"-\", 3, inplace = True)\n",
    "autest['service'].replace(\"dns\", 4, inplace = True)\n",
    "autest['service'].replace(\"smtp\", 5, inplace = True)\n",
    "autest['service'].replace(\"http\", 6, inplace = True)\n",
    "autest['service'].replace(\"radius\", 7, inplace = True)\n",
    "autest['service'].replace(\"pop3\", 8, inplace = True)\n",
    "\n",
    "autest['state'].replace(\"CON\", 0, inplace = True)\n",
    "autest['state'].replace(\"RST\", 1, inplace = True)\n",
    "autest['state'].replace(\"FIN\", 2, inplace = True)\n",
    "autest['state'].replace(\"ACC\", 3, inplace = True)\n",
    "autest['state'].replace(\"REQ\", 4, inplace = True)\n",
    "autest['state'].replace(\"INT\", 5, inplace = True)\n",
    "\n",
    "for column in autest.columns:\n",
    "        if column != 'Label':\n",
    "                col_mean = sum(autest[column]) / len(autest[column])\n",
    "                col_std = (sum((x - col_mean) ** 2 for x in autest[column]) / len(autest[column])) ** 0.5\n",
    "                autest[column] = [(x - col_mean) / col_std for x in autest[column]]\n",
    "\n",
    "\n",
    "autest = autest.drop_duplicates()\n",
    "autestAttributes = autest.drop(['Label'], axis = 1)\n",
    "#autestAttributes = autestAttributes[trainAttributes.columns]\n",
    "autestLabel = autest['Label']"
   ]
  },
  {
   "cell_type": "markdown",
   "metadata": {},
   "source": [
    "# LazyPredict Predictions"
   ]
  },
  {
   "cell_type": "markdown",
   "metadata": {},
   "source": [
    "## Train-test with user dataset"
   ]
  },
  {
   "cell_type": "code",
   "execution_count": 5,
   "metadata": {},
   "outputs": [
    {
     "name": "stderr",
     "output_type": "stream",
     "text": [
      "c:\\ProgramData\\Anaconda3\\Lib\\site-packages\\dask\\dataframe\\_pyarrow_compat.py:17: FutureWarning: Minimal version of pyarrow will soon be increased to 14.0.1. You are using 11.0.0. Please consider upgrading.\n",
      "  warnings.warn(\n"
     ]
    },
    {
     "name": "stdout",
     "output_type": "stream",
     "text": [
      "'tuple' object has no attribute '__name__'\n",
      "Invalid Classifier(s)\n"
     ]
    },
    {
     "name": "stderr",
     "output_type": "stream",
     "text": [
      "  9%|▉         | 1/11 [00:15<02:36, 15.63s/it]"
     ]
    },
    {
     "name": "stdout",
     "output_type": "stream",
     "text": [
      "{'Model': 'AdaBoostClassifier', 'Accuracy': 0.9924071828627519, 'Balanced Accuracy': 0.992390566389497, 'ROC AUC': 0.9923905663894969, 'F1 Score': 0.992406645432784, 'Time taken': 15.63097095489502}\n"
     ]
    },
    {
     "name": "stderr",
     "output_type": "stream",
     "text": [
      " 18%|█▊        | 2/11 [00:29<02:13, 14.89s/it]"
     ]
    },
    {
     "name": "stdout",
     "output_type": "stream",
     "text": [
      "{'Model': 'BaggingClassifier', 'Accuracy': 0.9926670131069923, 'Balanced Accuracy': 0.9926568341046715, 'ROC AUC': 0.9926568341046716, 'F1 Score': 0.9926667899884984, 'Time taken': 14.363081455230713}\n"
     ]
    },
    {
     "name": "stderr",
     "output_type": "stream",
     "text": [
      " 27%|██▋       | 3/11 [00:32<01:12,  9.04s/it]"
     ]
    },
    {
     "name": "stdout",
     "output_type": "stream",
     "text": [
      "{'Model': 'DecisionTreeClassifier', 'Accuracy': 0.9883653790634563, 'Balanced Accuracy': 0.9883665552867074, 'ROC AUC': 0.9883665552867074, 'F1 Score': 0.9883653899340559, 'Time taken': 2.0720555782318115}\n"
     ]
    },
    {
     "name": "stderr",
     "output_type": "stream",
     "text": [
      " 36%|███▋      | 4/11 [00:32<00:39,  5.59s/it]"
     ]
    },
    {
     "name": "stdout",
     "output_type": "stream",
     "text": [
      "{'Model': 'ExtraTreeClassifier', 'Accuracy': 0.9880189387378024, 'Balanced Accuracy': 0.9880203732508865, 'ROC AUC': 0.9880203732508867, 'F1 Score': 0.9880189513700693, 'Time taken': 0.29500317573547363}\n"
     ]
    },
    {
     "name": "stderr",
     "output_type": "stream",
     "text": [
      " 45%|████▌     | 5/11 [00:39<00:36,  6.15s/it]"
     ]
    },
    {
     "name": "stdout",
     "output_type": "stream",
     "text": [
      "{'Model': 'ExtraTreesClassifier', 'Accuracy': 0.9930711934869219, 'Balanced Accuracy': 0.9930597163011612, 'ROC AUC': 0.993059716301161, 'F1 Score': 0.9930709353069457, 'Time taken': 7.154617547988892}\n"
     ]
    },
    {
     "name": "stderr",
     "output_type": "stream",
     "text": [
      " 55%|█████▍    | 6/11 [00:53<00:44,  8.82s/it]"
     ]
    },
    {
     "name": "stdout",
     "output_type": "stream",
     "text": [
      "{'Model': 'KNeighborsClassifier', 'Accuracy': 0.9924649229170276, 'Balanced Accuracy': 0.9924516873423717, 'ROC AUC': 0.9924516873423717, 'F1 Score': 0.9924645646448986, 'Time taken': 14.003910779953003}\n"
     ]
    },
    {
     "name": "stderr",
     "output_type": "stream",
     "text": [
      " 64%|██████▎   | 7/11 [17:48<22:31, 337.87s/it]"
     ]
    },
    {
     "name": "stdout",
     "output_type": "stream",
     "text": [
      "{'Model': 'NuSVC', 'Accuracy': 0.9813210924418269, 'Balanced Accuracy': 0.9812899871657002, 'ROC AUC': 0.9812899871657002, 'F1 Score': 0.9813169698652552, 'Time taken': 1015.310685634613}\n"
     ]
    },
    {
     "name": "stderr",
     "output_type": "stream",
     "text": [
      " 73%|███████▎  | 8/11 [18:22<12:02, 240.88s/it]"
     ]
    },
    {
     "name": "stdout",
     "output_type": "stream",
     "text": [
      "{'Model': 'RandomForestClassifier', 'Accuracy': 0.9933598937583001, 'Balanced Accuracy': 0.9933477679200112, 'ROC AUC': 0.9933477679200112, 'F1 Score': 0.9933596219820435, 'Time taken': 33.21791219711304}\n"
     ]
    },
    {
     "name": "stderr",
     "output_type": "stream",
     "text": [
      " 82%|████████▏ | 9/11 [21:55<07:44, 232.19s/it]"
     ]
    },
    {
     "name": "stdout",
     "output_type": "stream",
     "text": [
      "{'Model': 'SVC', 'Accuracy': 0.9923494428084763, 'Balanced Accuracy': 0.992332956065727, 'ROC AUC': 0.9923329560657269, 'F1 Score': 0.992348908766216, 'Time taken': 213.05647206306458}\n"
     ]
    },
    {
     "name": "stderr",
     "output_type": "stream",
     "text": [
      " 91%|█████████ | 10/11 [21:56<02:41, 161.00s/it]"
     ]
    },
    {
     "name": "stdout",
     "output_type": "stream",
     "text": [
      "{'Model': 'XGBClassifier', 'Accuracy': 0.9932732836768866, 'Balanced Accuracy': 0.9932603122479549, 'ROC AUC': 0.9932603122479549, 'F1 Score': 0.993272974605986, 'Time taken': 1.611938714981079}\n",
      "[LightGBM] [Info] Number of positive: 40502, number of negative: 40190\n",
      "[LightGBM] [Info] Auto-choosing row-wise multi-threading, the overhead of testing was 0.030364 seconds.\n",
      "You can set `force_row_wise=true` to remove the overhead.\n",
      "And if memory is not enough, you can set `force_col_wise=true`.\n",
      "[LightGBM] [Info] Total Bins 4392\n",
      "[LightGBM] [Info] Number of data points in the train set: 80692, number of used features: 25\n",
      "[LightGBM] [Info] [binary:BoostFromScore]: pavg=0.501933 -> initscore=0.007733\n",
      "[LightGBM] [Info] Start training from score 0.007733\n"
     ]
    },
    {
     "name": "stderr",
     "output_type": "stream",
     "text": [
      "100%|██████████| 11/11 [22:00<00:00, 120.03s/it]"
     ]
    },
    {
     "name": "stdout",
     "output_type": "stream",
     "text": [
      "{'Model': 'LGBMClassifier', 'Accuracy': 0.9935331139211271, 'Balanced Accuracy': 0.9935202088214208, 'ROC AUC': 0.9935202088214208, 'F1 Score': 0.9935328193491417, 'Time taken': 3.561455488204956}\n"
     ]
    },
    {
     "name": "stderr",
     "output_type": "stream",
     "text": [
      "\n"
     ]
    }
   ],
   "source": [
    "# List of classifiers to include\n",
    "import sklearn\n",
    "import xgboost\n",
    "import lightgbm\n",
    "import sklearn.discriminant_analysis\n",
    "from lazypredict.Supervised import LazyClassifier\n",
    "\n",
    "\n",
    "classifiers = [\n",
    "    ('AdaBoostClassifier', sklearn.ensemble._weight_boosting.AdaBoostClassifier),\n",
    "    ('BaggingClassifier', sklearn.ensemble._bagging.BaggingClassifier),\n",
    "    ('DecisionTreeClassifier', sklearn.tree._classes.DecisionTreeClassifier),\n",
    "    ('ExtraTreeClassifier', sklearn.ensemble._forest.ExtraTreeClassifier),\n",
    "    ('ExtraTreesClassifier', sklearn.ensemble._forest.ExtraTreesClassifier),\n",
    "    ('KNeighborsClassifier',  sklearn.neighbors._classification.KNeighborsClassifier),\n",
    "    ('NuSVC', sklearn.svm._classes.NuSVC),\n",
    "    ('RandomForestClassifier', sklearn.ensemble._forest.RandomForestClassifier),\n",
    "    ('SVC', sklearn.svm._classes.SVC),\n",
    "    ('XGBClassifier', xgboost.sklearn.XGBClassifier),\n",
    "    ('LGBMClassifier', lightgbm.sklearn.LGBMClassifier)]\n",
    "clf = LazyClassifier(verbose=1,ignore_warnings=True, custom_metric=None,classifiers= classifiers, predictions=True)\n",
    "\n",
    "models,predictions = clf.fit(trainAttributes, testAttributes, trainLabel, testLabel)\n"
   ]
  },
  {
   "cell_type": "code",
   "execution_count": 6,
   "metadata": {},
   "outputs": [
    {
     "name": "stdout",
     "output_type": "stream",
     "text": [
      "AdaBoostClassifier\n",
      "              precision    recall  f1-score   support\n",
      "\n",
      "           0       1.00      0.99      0.99     17280\n",
      "           1       0.99      1.00      0.99     17358\n",
      "\n",
      "    accuracy                           0.99     34638\n",
      "   macro avg       0.99      0.99      0.99     34638\n",
      "weighted avg       0.99      0.99      0.99     34638\n",
      "\n",
      "AUC Scores for each class: 0.9923905663894969\n",
      "-----------------------------------------------------------------------------------\n",
      "-----------------------------------------------------------------------------------\n",
      "BaggingClassifier\n",
      "              precision    recall  f1-score   support\n",
      "\n",
      "           0       1.00      0.99      0.99     17280\n",
      "           1       0.99      1.00      0.99     17358\n",
      "\n",
      "    accuracy                           0.99     34638\n",
      "   macro avg       0.99      0.99      0.99     34638\n",
      "weighted avg       0.99      0.99      0.99     34638\n",
      "\n",
      "AUC Scores for each class: 0.9926568341046716\n",
      "-----------------------------------------------------------------------------------\n",
      "-----------------------------------------------------------------------------------\n",
      "DecisionTreeClassifier\n",
      "              precision    recall  f1-score   support\n",
      "\n",
      "           0       0.99      0.99      0.99     17280\n",
      "           1       0.99      0.99      0.99     17358\n",
      "\n",
      "    accuracy                           0.99     34638\n",
      "   macro avg       0.99      0.99      0.99     34638\n",
      "weighted avg       0.99      0.99      0.99     34638\n",
      "\n",
      "AUC Scores for each class: 0.9883665552867074\n",
      "-----------------------------------------------------------------------------------\n",
      "-----------------------------------------------------------------------------------\n",
      "ExtraTreeClassifier\n",
      "              precision    recall  f1-score   support\n",
      "\n",
      "           0       0.99      0.99      0.99     17280\n",
      "           1       0.99      0.99      0.99     17358\n",
      "\n",
      "    accuracy                           0.99     34638\n",
      "   macro avg       0.99      0.99      0.99     34638\n",
      "weighted avg       0.99      0.99      0.99     34638\n",
      "\n",
      "AUC Scores for each class: 0.9880203732508867\n",
      "-----------------------------------------------------------------------------------\n",
      "-----------------------------------------------------------------------------------\n",
      "ExtraTreesClassifier\n",
      "              precision    recall  f1-score   support\n",
      "\n",
      "           0       1.00      0.99      0.99     17280\n",
      "           1       0.99      1.00      0.99     17358\n",
      "\n",
      "    accuracy                           0.99     34638\n",
      "   macro avg       0.99      0.99      0.99     34638\n",
      "weighted avg       0.99      0.99      0.99     34638\n",
      "\n",
      "AUC Scores for each class: 0.993059716301161\n",
      "-----------------------------------------------------------------------------------\n",
      "-----------------------------------------------------------------------------------\n",
      "KNeighborsClassifier\n",
      "              precision    recall  f1-score   support\n",
      "\n",
      "           0       1.00      0.99      0.99     17280\n",
      "           1       0.99      1.00      0.99     17358\n",
      "\n",
      "    accuracy                           0.99     34638\n",
      "   macro avg       0.99      0.99      0.99     34638\n",
      "weighted avg       0.99      0.99      0.99     34638\n",
      "\n",
      "AUC Scores for each class: 0.9924516873423717\n",
      "-----------------------------------------------------------------------------------\n",
      "-----------------------------------------------------------------------------------\n",
      "NuSVC\n",
      "              precision    recall  f1-score   support\n",
      "\n",
      "           0       0.99      0.97      0.98     17280\n",
      "           1       0.97      1.00      0.98     17358\n",
      "\n",
      "    accuracy                           0.98     34638\n",
      "   macro avg       0.98      0.98      0.98     34638\n",
      "weighted avg       0.98      0.98      0.98     34638\n",
      "\n",
      "AUC Scores for each class: 0.9812899871657002\n",
      "-----------------------------------------------------------------------------------\n",
      "-----------------------------------------------------------------------------------\n",
      "RandomForestClassifier\n",
      "              precision    recall  f1-score   support\n",
      "\n",
      "           0       1.00      0.99      0.99     17280\n",
      "           1       0.99      1.00      0.99     17358\n",
      "\n",
      "    accuracy                           0.99     34638\n",
      "   macro avg       0.99      0.99      0.99     34638\n",
      "weighted avg       0.99      0.99      0.99     34638\n",
      "\n",
      "AUC Scores for each class: 0.9933477679200112\n",
      "-----------------------------------------------------------------------------------\n",
      "-----------------------------------------------------------------------------------\n",
      "SVC\n",
      "              precision    recall  f1-score   support\n",
      "\n",
      "           0       1.00      0.99      0.99     17280\n",
      "           1       0.99      1.00      0.99     17358\n",
      "\n",
      "    accuracy                           0.99     34638\n",
      "   macro avg       0.99      0.99      0.99     34638\n",
      "weighted avg       0.99      0.99      0.99     34638\n",
      "\n",
      "AUC Scores for each class: 0.9923329560657269\n",
      "-----------------------------------------------------------------------------------\n",
      "-----------------------------------------------------------------------------------\n",
      "XGBClassifier\n",
      "              precision    recall  f1-score   support\n",
      "\n",
      "           0       1.00      0.99      0.99     17280\n",
      "           1       0.99      1.00      0.99     17358\n",
      "\n",
      "    accuracy                           0.99     34638\n",
      "   macro avg       0.99      0.99      0.99     34638\n",
      "weighted avg       0.99      0.99      0.99     34638\n",
      "\n",
      "AUC Scores for each class: 0.9932603122479549\n",
      "-----------------------------------------------------------------------------------\n",
      "-----------------------------------------------------------------------------------\n",
      "LGBMClassifier\n",
      "              precision    recall  f1-score   support\n",
      "\n",
      "           0       1.00      0.99      0.99     17280\n",
      "           1       0.99      1.00      0.99     17358\n",
      "\n",
      "    accuracy                           0.99     34638\n",
      "   macro avg       0.99      0.99      0.99     34638\n",
      "weighted avg       0.99      0.99      0.99     34638\n",
      "\n",
      "AUC Scores for each class: 0.9935202088214208\n",
      "-----------------------------------------------------------------------------------\n",
      "-----------------------------------------------------------------------------------\n"
     ]
    }
   ],
   "source": [
    "from sklearn.metrics import roc_auc_score\n",
    "for m in predictions.columns:\n",
    "    print(m)\n",
    "    print(classification_report(testLabel, predictions[m]))\n",
    "    auc_scores = roc_auc_score(testLabel, predictions[m], multi_class='ovr')  # Or multi_class='ovo' for one-vs-one\n",
    "    print(\"AUC Scores for each class:\", auc_scores)\n",
    "    print('-----------------------------------------------------------------------------------')\n",
    "    print('-----------------------------------------------------------------------------------')"
   ]
  },
  {
   "cell_type": "markdown",
   "metadata": {},
   "source": [
    "## Train Test with Author's test dataset"
   ]
  },
  {
   "cell_type": "code",
   "execution_count": 7,
   "metadata": {},
   "outputs": [
    {
     "name": "stdout",
     "output_type": "stream",
     "text": [
      "'tuple' object has no attribute '__name__'\n",
      "Invalid Classifier(s)\n"
     ]
    },
    {
     "name": "stderr",
     "output_type": "stream",
     "text": [
      "  9%|▉         | 1/11 [00:16<02:41, 16.14s/it]"
     ]
    },
    {
     "name": "stdout",
     "output_type": "stream",
     "text": [
      "{'Model': 'AdaBoostClassifier', 'Accuracy': 0.6479863817587241, 'Balanced Accuracy': 0.6508268315380992, 'ROC AUC': 0.6508268315380992, 'F1 Score': 0.6573292986953801, 'Time taken': 16.136648416519165}\n"
     ]
    },
    {
     "name": "stderr",
     "output_type": "stream",
     "text": [
      " 18%|█▊        | 2/11 [00:31<02:20, 15.56s/it]"
     ]
    },
    {
     "name": "stdout",
     "output_type": "stream",
     "text": [
      "{'Model': 'BaggingClassifier', 'Accuracy': 0.6470232495632308, 'Balanced Accuracy': 0.6488946203661992, 'ROC AUC': 0.648894620366199, 'F1 Score': 0.6563292583496728, 'Time taken': 15.149586200714111}\n"
     ]
    },
    {
     "name": "stderr",
     "output_type": "stream",
     "text": [
      " 27%|██▋       | 3/11 [00:33<01:16,  9.54s/it]"
     ]
    },
    {
     "name": "stdout",
     "output_type": "stream",
     "text": [
      "{'Model': 'DecisionTreeClassifier', 'Accuracy': 0.6479863817587241, 'Balanced Accuracy': 0.6508268315380992, 'ROC AUC': 0.6508268315380992, 'F1 Score': 0.6573292986953801, 'Time taken': 2.388719081878662}\n"
     ]
    },
    {
     "name": "stderr",
     "output_type": "stream",
     "text": [
      " 36%|███▋      | 4/11 [00:33<00:41,  5.88s/it]"
     ]
    },
    {
     "name": "stdout",
     "output_type": "stream",
     "text": [
      "{'Model': 'ExtraTreeClassifier', 'Accuracy': 0.6649195896608878, 'Balanced Accuracy': 0.5186149884607107, 'ROC AUC': 0.5186149884607107, 'F1 Score': 0.5701449312898044, 'Time taken': 0.2602548599243164}\n"
     ]
    },
    {
     "name": "stderr",
     "output_type": "stream",
     "text": [
      " 45%|████▌     | 5/11 [00:42<00:40,  6.79s/it]"
     ]
    },
    {
     "name": "stdout",
     "output_type": "stream",
     "text": [
      "{'Model': 'ExtraTreesClassifier', 'Accuracy': 0.6656363392017202, 'Balanced Accuracy': 0.5016185066122086, 'ROC AUC': 0.5016185066122086, 'F1 Score': 0.533342819749092, 'Time taken': 8.416309595108032}\n"
     ]
    },
    {
     "name": "stderr",
     "output_type": "stream",
     "text": [
      " 55%|█████▍    | 6/11 [01:02<00:57, 11.44s/it]"
     ]
    },
    {
     "name": "stdout",
     "output_type": "stream",
     "text": [
      "{'Model': 'KNeighborsClassifier', 'Accuracy': 0.6646284101599247, 'Balanced Accuracy': 0.513565347089257, 'ROC AUC': 0.5135653470892569, 'F1 Score': 0.560811830249161, 'Time taken': 20.452399015426636}\n"
     ]
    },
    {
     "name": "stderr",
     "output_type": "stream",
     "text": [
      " 64%|██████▎   | 7/11 [21:35<27:22, 410.69s/it]"
     ]
    },
    {
     "name": "stdout",
     "output_type": "stream",
     "text": [
      "{'Model': 'NuSVC', 'Accuracy': 0.6434171034359181, 'Balanced Accuracy': 0.49219848381013637, 'ROC AUC': 0.49219848381013637, 'F1 Score': 0.5380150398946357, 'Time taken': 1232.6560406684875}\n"
     ]
    },
    {
     "name": "stderr",
     "output_type": "stream",
     "text": [
      " 73%|███████▎  | 8/11 [21:55<14:18, 286.18s/it]"
     ]
    },
    {
     "name": "stdout",
     "output_type": "stream",
     "text": [
      "{'Model': 'RandomForestClassifier', 'Accuracy': 0.6941719302961071, 'Balanced Accuracy': 0.5743529199456876, 'ROC AUC': 0.5743529199456876, 'F1 Score': 0.6396549687367908, 'Time taken': 19.57996892929077}\n"
     ]
    },
    {
     "name": "stderr",
     "output_type": "stream",
     "text": [
      " 82%|████████▏ | 9/11 [24:34<08:12, 246.46s/it]"
     ]
    },
    {
     "name": "stdout",
     "output_type": "stream",
     "text": [
      "{'Model': 'SVC', 'Accuracy': 0.6612686466872733, 'Balanced Accuracy': 0.5025842695195301, 'ROC AUC': 0.5025842695195301, 'F1 Score': 0.5411394125503298, 'Time taken': 159.12514328956604}\n"
     ]
    },
    {
     "name": "stderr",
     "output_type": "stream",
     "text": [
      " 91%|█████████ | 10/11 [24:35<02:50, 170.81s/it]"
     ]
    },
    {
     "name": "stdout",
     "output_type": "stream",
     "text": [
      "{'Model': 'XGBClassifier', 'Accuracy': 0.6480983738744792, 'Balanced Accuracy': 0.6493560312313048, 'ROC AUC': 0.6493560312313048, 'F1 Score': 0.6573183918975563, 'Time taken': 1.430095911026001}\n",
      "[LightGBM] [Info] Number of positive: 40502, number of negative: 40190\n",
      "[LightGBM] [Info] Auto-choosing col-wise multi-threading, the overhead of testing was 0.022764 seconds.\n",
      "You can set `force_col_wise=true` to remove the overhead.\n",
      "[LightGBM] [Info] Total Bins 4392\n",
      "[LightGBM] [Info] Number of data points in the train set: 80692, number of used features: 25\n",
      "[LightGBM] [Info] [binary:BoostFromScore]: pavg=0.501933 -> initscore=0.007733\n",
      "[LightGBM] [Info] Start training from score 0.007733\n"
     ]
    },
    {
     "name": "stderr",
     "output_type": "stream",
     "text": [
      "100%|██████████| 11/11 [24:37<00:00, 134.32s/it]"
     ]
    },
    {
     "name": "stdout",
     "output_type": "stream",
     "text": [
      "{'Model': 'LGBMClassifier', 'Accuracy': 0.6479863817587241, 'Balanced Accuracy': 0.6508268315380992, 'ROC AUC': 0.6508268315380992, 'F1 Score': 0.6573292986953801, 'Time taken': 1.8584394454956055}\n"
     ]
    },
    {
     "name": "stderr",
     "output_type": "stream",
     "text": [
      "\n"
     ]
    }
   ],
   "source": [
    "# List of classifiers to include\n",
    "import sklearn\n",
    "import xgboost\n",
    "import lightgbm\n",
    "import sklearn.discriminant_analysis\n",
    "from lazypredict.Supervised import LazyClassifier\n",
    "\n",
    "\n",
    "classifiers = [\n",
    "    ('AdaBoostClassifier', sklearn.ensemble._weight_boosting.AdaBoostClassifier),\n",
    "    ('BaggingClassifier', sklearn.ensemble._bagging.BaggingClassifier),\n",
    "    ('DecisionTreeClassifier', sklearn.tree._classes.DecisionTreeClassifier),\n",
    "    ('ExtraTreeClassifier', sklearn.ensemble._forest.ExtraTreeClassifier),\n",
    "    ('ExtraTreesClassifier', sklearn.ensemble._forest.ExtraTreesClassifier),\n",
    "    ('KNeighborsClassifier',  sklearn.neighbors._classification.KNeighborsClassifier),\n",
    "    ('NuSVC', sklearn.svm._classes.NuSVC),\n",
    "    ('RandomForestClassifier', sklearn.ensemble._forest.RandomForestClassifier),\n",
    "    ('SVC', sklearn.svm._classes.SVC),\n",
    "    ('XGBClassifier', xgboost.sklearn.XGBClassifier),\n",
    "    ('LGBMClassifier', lightgbm.sklearn.LGBMClassifier)]\n",
    "clf = LazyClassifier(verbose=1,ignore_warnings=True, custom_metric=None,classifiers= classifiers, predictions=True)\n",
    "\n",
    "models,predictions = clf.fit(trainAttributes, autestAttributes, trainLabel, autestLabel)\n"
   ]
  },
  {
   "cell_type": "code",
   "execution_count": 9,
   "metadata": {},
   "outputs": [
    {
     "name": "stdout",
     "output_type": "stream",
     "text": [
      "AdaBoostClassifier\n",
      "              precision    recall  f1-score   support\n",
      "\n",
      "           0       0.79      0.64      0.71     29673\n",
      "           1       0.48      0.66      0.56     14973\n",
      "\n",
      "    accuracy                           0.65     44646\n",
      "   macro avg       0.64      0.65      0.63     44646\n",
      "weighted avg       0.69      0.65      0.66     44646\n",
      "\n",
      "AUC Scores for each class: 0.6508268315380992\n",
      "-----------------------------------------------------------------------------------\n",
      "-----------------------------------------------------------------------------------\n",
      "BaggingClassifier\n",
      "              precision    recall  f1-score   support\n",
      "\n",
      "           0       0.79      0.64      0.71     29673\n",
      "           1       0.48      0.65      0.55     14973\n",
      "\n",
      "    accuracy                           0.65     44646\n",
      "   macro avg       0.63      0.65      0.63     44646\n",
      "weighted avg       0.68      0.65      0.66     44646\n",
      "\n",
      "AUC Scores for each class: 0.648894620366199\n",
      "-----------------------------------------------------------------------------------\n",
      "-----------------------------------------------------------------------------------\n",
      "DecisionTreeClassifier\n",
      "              precision    recall  f1-score   support\n",
      "\n",
      "           0       0.79      0.64      0.71     29673\n",
      "           1       0.48      0.66      0.56     14973\n",
      "\n",
      "    accuracy                           0.65     44646\n",
      "   macro avg       0.64      0.65      0.63     44646\n",
      "weighted avg       0.69      0.65      0.66     44646\n",
      "\n",
      "AUC Scores for each class: 0.6508268315380992\n",
      "-----------------------------------------------------------------------------------\n",
      "-----------------------------------------------------------------------------------\n",
      "ExtraTreeClassifier\n",
      "              precision    recall  f1-score   support\n",
      "\n",
      "           0       0.67      0.96      0.79     29673\n",
      "           1       0.50      0.07      0.13     14973\n",
      "\n",
      "    accuracy                           0.66     44646\n",
      "   macro avg       0.59      0.52      0.46     44646\n",
      "weighted avg       0.62      0.66      0.57     44646\n",
      "\n",
      "AUC Scores for each class: 0.5186149884607107\n",
      "-----------------------------------------------------------------------------------\n",
      "-----------------------------------------------------------------------------------\n",
      "ExtraTreesClassifier\n",
      "              precision    recall  f1-score   support\n",
      "\n",
      "           0       0.67      1.00      0.80     29673\n",
      "           1       0.88      0.00      0.01     14973\n",
      "\n",
      "    accuracy                           0.67     44646\n",
      "   macro avg       0.77      0.50      0.40     44646\n",
      "weighted avg       0.74      0.67      0.53     44646\n",
      "\n",
      "AUC Scores for each class: 0.5016185066122086\n",
      "-----------------------------------------------------------------------------------\n",
      "-----------------------------------------------------------------------------------\n",
      "KNeighborsClassifier\n",
      "              precision    recall  f1-score   support\n",
      "\n",
      "           0       0.67      0.97      0.79     29673\n",
      "           1       0.50      0.05      0.10     14973\n",
      "\n",
      "    accuracy                           0.66     44646\n",
      "   macro avg       0.59      0.51      0.45     44646\n",
      "weighted avg       0.61      0.66      0.56     44646\n",
      "\n",
      "AUC Scores for each class: 0.5135653470892569\n",
      "-----------------------------------------------------------------------------------\n",
      "-----------------------------------------------------------------------------------\n",
      "NuSVC\n",
      "              precision    recall  f1-score   support\n",
      "\n",
      "           0       0.66      0.95      0.78     29673\n",
      "           1       0.26      0.03      0.06     14973\n",
      "\n",
      "    accuracy                           0.64     44646\n",
      "   macro avg       0.46      0.49      0.42     44646\n",
      "weighted avg       0.52      0.64      0.54     44646\n",
      "\n",
      "AUC Scores for each class: 0.49219848381013637\n",
      "-----------------------------------------------------------------------------------\n",
      "-----------------------------------------------------------------------------------\n",
      "RandomForestClassifier\n",
      "              precision    recall  f1-score   support\n",
      "\n",
      "           0       0.70      0.94      0.80     29673\n",
      "           1       0.63      0.21      0.32     14973\n",
      "\n",
      "    accuracy                           0.69     44646\n",
      "   macro avg       0.67      0.57      0.56     44646\n",
      "weighted avg       0.68      0.69      0.64     44646\n",
      "\n",
      "AUC Scores for each class: 0.5743529199456876\n",
      "-----------------------------------------------------------------------------------\n",
      "-----------------------------------------------------------------------------------\n",
      "SVC\n",
      "              precision    recall  f1-score   support\n",
      "\n",
      "           0       0.67      0.98      0.79     29673\n",
      "           1       0.40      0.02      0.04     14973\n",
      "\n",
      "    accuracy                           0.66     44646\n",
      "   macro avg       0.53      0.50      0.42     44646\n",
      "weighted avg       0.58      0.66      0.54     44646\n",
      "\n",
      "AUC Scores for each class: 0.5025842695195301\n",
      "-----------------------------------------------------------------------------------\n",
      "-----------------------------------------------------------------------------------\n",
      "XGBClassifier\n",
      "              precision    recall  f1-score   support\n",
      "\n",
      "           0       0.79      0.65      0.71     29673\n",
      "           1       0.48      0.65      0.55     14973\n",
      "\n",
      "    accuracy                           0.65     44646\n",
      "   macro avg       0.63      0.65      0.63     44646\n",
      "weighted avg       0.68      0.65      0.66     44646\n",
      "\n",
      "AUC Scores for each class: 0.6493560312313048\n",
      "-----------------------------------------------------------------------------------\n",
      "-----------------------------------------------------------------------------------\n",
      "LGBMClassifier\n",
      "              precision    recall  f1-score   support\n",
      "\n",
      "           0       0.79      0.64      0.71     29673\n",
      "           1       0.48      0.66      0.56     14973\n",
      "\n",
      "    accuracy                           0.65     44646\n",
      "   macro avg       0.64      0.65      0.63     44646\n",
      "weighted avg       0.69      0.65      0.66     44646\n",
      "\n",
      "AUC Scores for each class: 0.6508268315380992\n",
      "-----------------------------------------------------------------------------------\n",
      "-----------------------------------------------------------------------------------\n"
     ]
    }
   ],
   "source": [
    "from sklearn.metrics import roc_auc_score\n",
    "for m in predictions.columns:\n",
    "    print(m)\n",
    "    print(classification_report(autestLabel, predictions[m]))\n",
    "    auc_scores = roc_auc_score(autestLabel, predictions[m], multi_class='ovr')  # Or multi_class='ovo' for one-vs-one\n",
    "    print(\"AUC Scores for each class:\", auc_scores)\n",
    "    print('-----------------------------------------------------------------------------------')\n",
    "    print('-----------------------------------------------------------------------------------')"
   ]
  },
  {
   "cell_type": "markdown",
   "metadata": {},
   "source": [
    "## Test purely with author's train-test datasets"
   ]
  },
  {
   "cell_type": "code",
   "execution_count": 11,
   "metadata": {},
   "outputs": [
    {
     "name": "stderr",
     "output_type": "stream",
     "text": [
      "c:\\ProgramData\\Anaconda3\\Lib\\site-packages\\dask\\dataframe\\_pyarrow_compat.py:17: FutureWarning: Minimal version of pyarrow will soon be increased to 14.0.1. You are using 11.0.0. Please consider upgrading.\n",
      "  warnings.warn(\n"
     ]
    },
    {
     "name": "stdout",
     "output_type": "stream",
     "text": [
      "'tuple' object has no attribute '__name__'\n",
      "Invalid Classifier(s)\n"
     ]
    },
    {
     "name": "stderr",
     "output_type": "stream",
     "text": [
      "  9%|▉         | 1/11 [00:14<02:28, 14.90s/it]"
     ]
    },
    {
     "name": "stdout",
     "output_type": "stream",
     "text": [
      "{'Model': 'AdaBoostClassifier', 'Accuracy': 0.6633957317190723, 'Balanced Accuracy': 0.6771129492044956, 'ROC AUC': 0.6771129492044955, 'F1 Score': 0.6696266095815283, 'Time taken': 14.898641109466553}\n"
     ]
    },
    {
     "name": "stderr",
     "output_type": "stream",
     "text": [
      " 18%|█▊        | 2/11 [00:32<02:26, 16.22s/it]"
     ]
    },
    {
     "name": "stdout",
     "output_type": "stream",
     "text": [
      "{'Model': 'BaggingClassifier', 'Accuracy': 0.7033217019143645, 'Balanced Accuracy': 0.6744816399782381, 'ROC AUC': 0.6744816399782381, 'F1 Score': 0.7015389019937077, 'Time taken': 17.14996361732483}\n"
     ]
    },
    {
     "name": "stderr",
     "output_type": "stream",
     "text": [
      " 27%|██▋       | 3/11 [00:34<01:18,  9.83s/it]"
     ]
    },
    {
     "name": "stdout",
     "output_type": "stream",
     "text": [
      "{'Model': 'DecisionTreeClassifier', 'Accuracy': 0.6611208575119045, 'Balanced Accuracy': 0.6533534498722411, 'ROC AUC': 0.6533534498722411, 'F1 Score': 0.6658171335982364, 'Time taken': 2.2295007705688477}\n"
     ]
    },
    {
     "name": "stderr",
     "output_type": "stream",
     "text": [
      " 36%|███▋      | 4/11 [00:34<00:42,  6.12s/it]"
     ]
    },
    {
     "name": "stdout",
     "output_type": "stream",
     "text": [
      "{'Model': 'ExtraTreeClassifier', 'Accuracy': 0.6657862774960961, 'Balanced Accuracy': 0.6184209212393726, 'ROC AUC': 0.6184209212393726, 'F1 Score': 0.6563742883245662, 'Time taken': 0.4300193786621094}\n"
     ]
    },
    {
     "name": "stderr",
     "output_type": "stream",
     "text": [
      " 45%|████▌     | 5/11 [00:44<00:45,  7.56s/it]"
     ]
    },
    {
     "name": "stdout",
     "output_type": "stream",
     "text": [
      "{'Model': 'ExtraTreesClassifier', 'Accuracy': 0.7274777814192902, 'Balanced Accuracy': 0.7851804902830828, 'ROC AUC': 0.7851804902830828, 'F1 Score': 0.7273278257581929, 'Time taken': 10.100873947143555}\n"
     ]
    },
    {
     "name": "stderr",
     "output_type": "stream",
     "text": [
      " 55%|█████▍    | 6/11 [01:04<00:58, 11.73s/it]"
     ]
    },
    {
     "name": "stdout",
     "output_type": "stream",
     "text": [
      "{'Model': 'KNeighborsClassifier', 'Accuracy': 0.7733030016772378, 'Balanced Accuracy': 0.8036092566667059, 'ROC AUC': 0.8036092566667059, 'F1 Score': 0.7772621130066119, 'Time taken': 19.81660747528076}\n"
     ]
    },
    {
     "name": "stderr",
     "output_type": "stream",
     "text": [
      " 64%|██████▎   | 7/11 [21:31<27:15, 408.88s/it]"
     ]
    },
    {
     "name": "stdout",
     "output_type": "stream",
     "text": [
      "{'Model': 'NuSVC', 'Accuracy': 0.6579398893408649, 'Balanced Accuracy': 0.7302494962065427, 'ROC AUC': 0.7302494962065427, 'F1 Score': 0.649623413179047, 'Time taken': 1226.5459833145142}\n"
     ]
    },
    {
     "name": "stderr",
     "output_type": "stream",
     "text": [
      " 73%|███████▎  | 8/11 [21:57<14:20, 286.97s/it]"
     ]
    },
    {
     "name": "stdout",
     "output_type": "stream",
     "text": [
      "{'Model': 'RandomForestClassifier', 'Accuracy': 0.697480287636637, 'Balanced Accuracy': 0.7616128674116235, 'ROC AUC': 0.7616128674116236, 'F1 Score': 0.6945338995894083, 'Time taken': 25.9184730052948}\n"
     ]
    },
    {
     "name": "stderr",
     "output_type": "stream",
     "text": [
      " 82%|████████▏ | 9/11 [28:59<10:58, 329.39s/it]"
     ]
    },
    {
     "name": "stdout",
     "output_type": "stream",
     "text": [
      "{'Model': 'SVC', 'Accuracy': 0.7322781515683137, 'Balanced Accuracy': 0.7874799052856725, 'ROC AUC': 0.7874799052856724, 'F1 Score': 0.7328297781453849, 'Time taken': 422.6756272315979}\n"
     ]
    },
    {
     "name": "stderr",
     "output_type": "stream",
     "text": [
      " 91%|█████████ | 10/11 [29:01<03:48, 228.38s/it]"
     ]
    },
    {
     "name": "stdout",
     "output_type": "stream",
     "text": [
      "{'Model': 'XGBClassifier', 'Accuracy': 0.6802837809180466, 'Balanced Accuracy': 0.6803150360061321, 'ROC AUC': 0.6803150360061321, 'F1 Score': 0.6855254210437851, 'Time taken': 2.1903645992279053}\n",
      "[LightGBM] [Info] Number of positive: 47166, number of negative: 48673\n",
      "[LightGBM] [Info] Auto-choosing col-wise multi-threading, the overhead of testing was 0.020944 seconds.\n",
      "You can set `force_col_wise=true` to remove the overhead.\n",
      "[LightGBM] [Info] Total Bins 6027\n",
      "[LightGBM] [Info] Number of data points in the train set: 95839, number of used features: 41\n",
      "[LightGBM] [Info] [binary:BoostFromScore]: pavg=0.492138 -> initscore=-0.031451\n",
      "[LightGBM] [Info] Start training from score -0.031451\n"
     ]
    },
    {
     "name": "stderr",
     "output_type": "stream",
     "text": [
      "100%|██████████| 11/11 [29:04<00:00, 158.63s/it]"
     ]
    },
    {
     "name": "stdout",
     "output_type": "stream",
     "text": [
      "{'Model': 'LGBMClassifier', 'Accuracy': 0.6723988355728634, 'Balanced Accuracy': 0.6750815644715507, 'ROC AUC': 0.6750815644715507, 'F1 Score': 0.6780733034885725, 'Time taken': 2.885566234588623}\n"
     ]
    },
    {
     "name": "stderr",
     "output_type": "stream",
     "text": [
      "\n"
     ]
    }
   ],
   "source": [
    "# List of classifiers to include\n",
    "import sklearn\n",
    "import xgboost\n",
    "import lightgbm\n",
    "import sklearn.discriminant_analysis\n",
    "from lazypredict.Supervised import LazyClassifier\n",
    "\n",
    "\n",
    "classifiers = [\n",
    "    ('AdaBoostClassifier', sklearn.ensemble._weight_boosting.AdaBoostClassifier),\n",
    "    ('BaggingClassifier', sklearn.ensemble._bagging.BaggingClassifier),\n",
    "    ('DecisionTreeClassifier', sklearn.tree._classes.DecisionTreeClassifier),\n",
    "    ('ExtraTreeClassifier', sklearn.ensemble._forest.ExtraTreeClassifier),\n",
    "    ('ExtraTreesClassifier', sklearn.ensemble._forest.ExtraTreesClassifier),\n",
    "    ('KNeighborsClassifier',  sklearn.neighbors._classification.KNeighborsClassifier),\n",
    "    ('NuSVC', sklearn.svm._classes.NuSVC),\n",
    "    ('RandomForestClassifier', sklearn.ensemble._forest.RandomForestClassifier),\n",
    "    ('SVC', sklearn.svm._classes.SVC),\n",
    "    ('XGBClassifier', xgboost.sklearn.XGBClassifier),\n",
    "    ('LGBMClassifier', lightgbm.sklearn.LGBMClassifier)]\n",
    "clf = LazyClassifier(verbose=1,ignore_warnings=True, custom_metric=None,classifiers= classifiers, predictions=True)\n",
    "\n",
    "models,predictions = clf.fit(autrainAttributes, autestAttributes, autrainLabel, autestLabel)\n"
   ]
  },
  {
   "cell_type": "code",
   "execution_count": 12,
   "metadata": {},
   "outputs": [
    {
     "name": "stdout",
     "output_type": "stream",
     "text": [
      "AdaBoostClassifier\n",
      "              precision    recall  f1-score   support\n",
      "\n",
      "           0       0.80      0.63      0.70     32933\n",
      "           1       0.53      0.73      0.61     18938\n",
      "\n",
      "    accuracy                           0.66     51871\n",
      "   macro avg       0.66      0.68      0.66     51871\n",
      "weighted avg       0.70      0.66      0.67     51871\n",
      "\n",
      "AUC Scores for each class: 0.6771129492044955\n",
      "-----------------------------------------------------------------------------------\n",
      "-----------------------------------------------------------------------------------\n",
      "BaggingClassifier\n",
      "              precision    recall  f1-score   support\n",
      "\n",
      "           0       0.76      0.78      0.77     32933\n",
      "           1       0.60      0.57      0.58     18938\n",
      "\n",
      "    accuracy                           0.70     51871\n",
      "   macro avg       0.68      0.67      0.68     51871\n",
      "weighted avg       0.70      0.70      0.70     51871\n",
      "\n",
      "AUC Scores for each class: 0.6744816399782381\n",
      "-----------------------------------------------------------------------------------\n",
      "-----------------------------------------------------------------------------------\n",
      "DecisionTreeClassifier\n",
      "              precision    recall  f1-score   support\n",
      "\n",
      "           0       0.76      0.68      0.72     32933\n",
      "           1       0.53      0.62      0.57     18938\n",
      "\n",
      "    accuracy                           0.66     51871\n",
      "   macro avg       0.65      0.65      0.65     51871\n",
      "weighted avg       0.68      0.66      0.67     51871\n",
      "\n",
      "AUC Scores for each class: 0.6533534498722411\n",
      "-----------------------------------------------------------------------------------\n",
      "-----------------------------------------------------------------------------------\n",
      "ExtraTreeClassifier\n",
      "              precision    recall  f1-score   support\n",
      "\n",
      "           0       0.71      0.79      0.75     32933\n",
      "           1       0.55      0.44      0.49     18938\n",
      "\n",
      "    accuracy                           0.67     51871\n",
      "   macro avg       0.63      0.62      0.62     51871\n",
      "weighted avg       0.65      0.67      0.66     51871\n",
      "\n",
      "AUC Scores for each class: 0.6184209212393726\n",
      "-----------------------------------------------------------------------------------\n",
      "-----------------------------------------------------------------------------------\n",
      "ExtraTreesClassifier\n",
      "              precision    recall  f1-score   support\n",
      "\n",
      "           0       1.00      0.57      0.73     32933\n",
      "           1       0.57      1.00      0.73     18938\n",
      "\n",
      "    accuracy                           0.73     51871\n",
      "   macro avg       0.79      0.79      0.73     51871\n",
      "weighted avg       0.84      0.73      0.73     51871\n",
      "\n",
      "AUC Scores for each class: 0.7851804902830828\n",
      "-----------------------------------------------------------------------------------\n",
      "-----------------------------------------------------------------------------------\n",
      "KNeighborsClassifier\n",
      "              precision    recall  f1-score   support\n",
      "\n",
      "           0       0.93      0.69      0.79     32933\n",
      "           1       0.63      0.92      0.75     18938\n",
      "\n",
      "    accuracy                           0.77     51871\n",
      "   macro avg       0.78      0.80      0.77     51871\n",
      "weighted avg       0.82      0.77      0.78     51871\n",
      "\n",
      "AUC Scores for each class: 0.8036092566667059\n",
      "-----------------------------------------------------------------------------------\n",
      "-----------------------------------------------------------------------------------\n",
      "NuSVC\n",
      "              precision    recall  f1-score   support\n",
      "\n",
      "           0       1.00      0.46      0.63     32933\n",
      "           1       0.52      1.00      0.68     18938\n",
      "\n",
      "    accuracy                           0.66     51871\n",
      "   macro avg       0.76      0.73      0.66     51871\n",
      "weighted avg       0.82      0.66      0.65     51871\n",
      "\n",
      "AUC Scores for each class: 0.7302494962065427\n",
      "-----------------------------------------------------------------------------------\n",
      "-----------------------------------------------------------------------------------\n",
      "RandomForestClassifier\n",
      "              precision    recall  f1-score   support\n",
      "\n",
      "           0       1.00      0.52      0.69     32933\n",
      "           1       0.55      1.00      0.71     18938\n",
      "\n",
      "    accuracy                           0.70     51871\n",
      "   macro avg       0.77      0.76      0.70     51871\n",
      "weighted avg       0.83      0.70      0.69     51871\n",
      "\n",
      "AUC Scores for each class: 0.7616128674116236\n",
      "-----------------------------------------------------------------------------------\n",
      "-----------------------------------------------------------------------------------\n",
      "SVC\n",
      "              precision    recall  f1-score   support\n",
      "\n",
      "           0       0.99      0.58      0.73     32933\n",
      "           1       0.58      0.99      0.73     18938\n",
      "\n",
      "    accuracy                           0.73     51871\n",
      "   macro avg       0.78      0.79      0.73     51871\n",
      "weighted avg       0.84      0.73      0.73     51871\n",
      "\n",
      "AUC Scores for each class: 0.7874799052856724\n",
      "-----------------------------------------------------------------------------------\n",
      "-----------------------------------------------------------------------------------\n",
      "XGBClassifier\n",
      "              precision    recall  f1-score   support\n",
      "\n",
      "           0       0.79      0.68      0.73     32933\n",
      "           1       0.55      0.68      0.61     18938\n",
      "\n",
      "    accuracy                           0.68     51871\n",
      "   macro avg       0.67      0.68      0.67     51871\n",
      "weighted avg       0.70      0.68      0.69     51871\n",
      "\n",
      "AUC Scores for each class: 0.6803150360061321\n",
      "-----------------------------------------------------------------------------------\n",
      "-----------------------------------------------------------------------------------\n",
      "LGBMClassifier\n",
      "              precision    recall  f1-score   support\n",
      "\n",
      "           0       0.79      0.67      0.72     32933\n",
      "           1       0.54      0.69      0.60     18938\n",
      "\n",
      "    accuracy                           0.67     51871\n",
      "   macro avg       0.66      0.68      0.66     51871\n",
      "weighted avg       0.70      0.67      0.68     51871\n",
      "\n",
      "AUC Scores for each class: 0.6750815644715507\n",
      "-----------------------------------------------------------------------------------\n",
      "-----------------------------------------------------------------------------------\n"
     ]
    }
   ],
   "source": [
    "from sklearn.metrics import roc_auc_score\n",
    "for m in predictions.columns:\n",
    "    print(m)\n",
    "    print(classification_report(autestLabel, predictions[m]))\n",
    "    auc_scores = roc_auc_score(autestLabel, predictions[m], multi_class='ovr')  # Or multi_class='ovo' for one-vs-one\n",
    "    print(\"AUC Scores for each class:\", auc_scores)\n",
    "    print('-----------------------------------------------------------------------------------')\n",
    "    print('-----------------------------------------------------------------------------------')"
   ]
  },
  {
   "cell_type": "code",
   "execution_count": 14,
   "metadata": {},
   "outputs": [
    {
     "data": {
      "text/html": [
       "<div>\n",
       "<style scoped>\n",
       "    .dataframe tbody tr th:only-of-type {\n",
       "        vertical-align: middle;\n",
       "    }\n",
       "\n",
       "    .dataframe tbody tr th {\n",
       "        vertical-align: top;\n",
       "    }\n",
       "\n",
       "    .dataframe thead th {\n",
       "        text-align: right;\n",
       "    }\n",
       "</style>\n",
       "<table border=\"1\" class=\"dataframe\">\n",
       "  <thead>\n",
       "    <tr style=\"text-align: right;\">\n",
       "      <th></th>\n",
       "      <th>Accuracy</th>\n",
       "      <th>Balanced Accuracy</th>\n",
       "      <th>ROC AUC</th>\n",
       "      <th>F1 Score</th>\n",
       "      <th>Time Taken</th>\n",
       "    </tr>\n",
       "    <tr>\n",
       "      <th>Model</th>\n",
       "      <th></th>\n",
       "      <th></th>\n",
       "      <th></th>\n",
       "      <th></th>\n",
       "      <th></th>\n",
       "    </tr>\n",
       "  </thead>\n",
       "  <tbody>\n",
       "    <tr>\n",
       "      <th>KNeighborsClassifier</th>\n",
       "      <td>0.77</td>\n",
       "      <td>0.80</td>\n",
       "      <td>0.80</td>\n",
       "      <td>0.78</td>\n",
       "      <td>19.82</td>\n",
       "    </tr>\n",
       "    <tr>\n",
       "      <th>SVC</th>\n",
       "      <td>0.73</td>\n",
       "      <td>0.79</td>\n",
       "      <td>0.79</td>\n",
       "      <td>0.73</td>\n",
       "      <td>422.68</td>\n",
       "    </tr>\n",
       "    <tr>\n",
       "      <th>ExtraTreesClassifier</th>\n",
       "      <td>0.73</td>\n",
       "      <td>0.79</td>\n",
       "      <td>0.79</td>\n",
       "      <td>0.73</td>\n",
       "      <td>10.10</td>\n",
       "    </tr>\n",
       "    <tr>\n",
       "      <th>RandomForestClassifier</th>\n",
       "      <td>0.70</td>\n",
       "      <td>0.76</td>\n",
       "      <td>0.76</td>\n",
       "      <td>0.69</td>\n",
       "      <td>25.92</td>\n",
       "    </tr>\n",
       "    <tr>\n",
       "      <th>NuSVC</th>\n",
       "      <td>0.66</td>\n",
       "      <td>0.73</td>\n",
       "      <td>0.73</td>\n",
       "      <td>0.65</td>\n",
       "      <td>1226.55</td>\n",
       "    </tr>\n",
       "    <tr>\n",
       "      <th>XGBClassifier</th>\n",
       "      <td>0.68</td>\n",
       "      <td>0.68</td>\n",
       "      <td>0.68</td>\n",
       "      <td>0.69</td>\n",
       "      <td>2.19</td>\n",
       "    </tr>\n",
       "    <tr>\n",
       "      <th>AdaBoostClassifier</th>\n",
       "      <td>0.66</td>\n",
       "      <td>0.68</td>\n",
       "      <td>0.68</td>\n",
       "      <td>0.67</td>\n",
       "      <td>14.90</td>\n",
       "    </tr>\n",
       "    <tr>\n",
       "      <th>LGBMClassifier</th>\n",
       "      <td>0.67</td>\n",
       "      <td>0.68</td>\n",
       "      <td>0.68</td>\n",
       "      <td>0.68</td>\n",
       "      <td>2.89</td>\n",
       "    </tr>\n",
       "    <tr>\n",
       "      <th>BaggingClassifier</th>\n",
       "      <td>0.70</td>\n",
       "      <td>0.67</td>\n",
       "      <td>0.67</td>\n",
       "      <td>0.70</td>\n",
       "      <td>17.15</td>\n",
       "    </tr>\n",
       "    <tr>\n",
       "      <th>DecisionTreeClassifier</th>\n",
       "      <td>0.66</td>\n",
       "      <td>0.65</td>\n",
       "      <td>0.65</td>\n",
       "      <td>0.67</td>\n",
       "      <td>2.23</td>\n",
       "    </tr>\n",
       "    <tr>\n",
       "      <th>ExtraTreeClassifier</th>\n",
       "      <td>0.67</td>\n",
       "      <td>0.62</td>\n",
       "      <td>0.62</td>\n",
       "      <td>0.66</td>\n",
       "      <td>0.43</td>\n",
       "    </tr>\n",
       "  </tbody>\n",
       "</table>\n",
       "</div>"
      ],
      "text/plain": [
       "                        Accuracy  Balanced Accuracy  ROC AUC  F1 Score  \\\n",
       "Model                                                                    \n",
       "KNeighborsClassifier        0.77               0.80     0.80      0.78   \n",
       "SVC                         0.73               0.79     0.79      0.73   \n",
       "ExtraTreesClassifier        0.73               0.79     0.79      0.73   \n",
       "RandomForestClassifier      0.70               0.76     0.76      0.69   \n",
       "NuSVC                       0.66               0.73     0.73      0.65   \n",
       "XGBClassifier               0.68               0.68     0.68      0.69   \n",
       "AdaBoostClassifier          0.66               0.68     0.68      0.67   \n",
       "LGBMClassifier              0.67               0.68     0.68      0.68   \n",
       "BaggingClassifier           0.70               0.67     0.67      0.70   \n",
       "DecisionTreeClassifier      0.66               0.65     0.65      0.67   \n",
       "ExtraTreeClassifier         0.67               0.62     0.62      0.66   \n",
       "\n",
       "                        Time Taken  \n",
       "Model                               \n",
       "KNeighborsClassifier         19.82  \n",
       "SVC                         422.68  \n",
       "ExtraTreesClassifier         10.10  \n",
       "RandomForestClassifier       25.92  \n",
       "NuSVC                      1226.55  \n",
       "XGBClassifier                 2.19  \n",
       "AdaBoostClassifier           14.90  \n",
       "LGBMClassifier                2.89  \n",
       "BaggingClassifier            17.15  \n",
       "DecisionTreeClassifier        2.23  \n",
       "ExtraTreeClassifier           0.43  "
      ]
     },
     "execution_count": 14,
     "metadata": {},
     "output_type": "execute_result"
    }
   ],
   "source": [
    "models"
   ]
  }
 ],
 "metadata": {
  "kernelspec": {
   "display_name": "base",
   "language": "python",
   "name": "python3"
  },
  "language_info": {
   "codemirror_mode": {
    "name": "ipython",
    "version": 3
   },
   "file_extension": ".py",
   "mimetype": "text/x-python",
   "name": "python",
   "nbconvert_exporter": "python",
   "pygments_lexer": "ipython3",
   "version": "3.11.7"
  }
 },
 "nbformat": 4,
 "nbformat_minor": 2
}
